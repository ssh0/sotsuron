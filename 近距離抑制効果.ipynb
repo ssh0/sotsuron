{
 "metadata": {
  "name": "",
  "signature": "sha256:0d44bbceb978517a21b3d6453e50192da60e83bd8a8b0538576a1fcf5cd7bd48"
 },
 "nbformat": 3,
 "nbformat_minor": 0,
 "worksheets": [
  {
   "cells": [
    {
     "cell_type": "heading",
     "level": 1,
     "metadata": {},
     "source": [
      "\u8fd1\u8ddd\u96e2\u3067\u3042\u308b\u3053\u3068\u306b\u3088\u308b\u53cd\u5fdc\u306e\u6291\u5236\u5316"
     ]
    },
    {
     "cell_type": "markdown",
     "metadata": {},
     "source": [
      "\u610f\u898b\u3092\u63d0\u51fa\u3059\u308b\u969b\u306b\u500b\u4eba\u3068\u3057\u3066\u611f\u3058\u308b\u3053\u3068\u306f\u4f55\u304b\u3001\u3068\u3044\u3046\u3053\u3068\u3092\u8003\u3048\u308b\u3068\u3001\u4ed6\u306e\u4eba\u304c\u81ea\u5206\u3068\u4f3c\u305f\u3088\u3046\u306a\u610f\u898b\u3092\u51fa\u3059\u306e\u3067\u306f\u306a\u3044\u304b\u3001\u3068\u3044\u3046\u70b9\u304b\u3089\u767a\u8a00\u3092\u63a7\u3048\u308b\u3068\u3044\u3046\u5834\u9762\u304c\u8003\u3048\u3089\u308c\u308b\u3002\u307e\u305f\u3001\u3053\u308c\u3092\u4ee3\u8b1d\u7cfb\u306a\u3069\u306e\u5316\u5b66\u53cd\u5fdc\u306b\u843d\u3068\u3057\u8fbc\u3093\u3060\u969b\u306b\u306f\u3001\u3053\u306e\u3088\u3046\u306a\u8fd1\u3044\u4f4d\u7f6e\u306e\u610f\u898b\u306f\u3059\u3079\u3066\u540c\u4e00\u306e\u7269\u8cea\u3092\u8868\u3057\u3066\u3044\u308b\u3068\u3044\u3046\u3088\u3046\u306b\u8003\u3048\u308b\u3053\u3068\u3082\u3067\u304d\u308b\u3002\u305d\u306e\u3088\u3046\u306b\u8003\u3048\u308c\u3070\u3001\u4f3c\u305f\u3088\u3046\u306a\u6027\u8cea\u304c\u7e2e\u7d04\u3055\u308c\u3066\u3057\u307e\u3046\u306e\u3067\u5168\u4f53\u3068\u3057\u3066\u306e\u52b9\u7387\u304c\u4e0b\u304c\u3063\u3066\u3057\u307e\u3046\u3068\u3044\u3046\u7d50\u679c\u3092\u3082\u305f\u3089\u3059\u306e\u304b\u3082\u3057\u308c\u306a\u3044\u3002\n"
     ]
    },
    {
     "cell_type": "markdown",
     "metadata": {},
     "source": [
      "Note: \u5316\u5b66\u53cd\u5fdc\u3067\u3082\u540c\u3058\u3088\u3046\u306b1\u5206\u5b50\u3067\u306e\u53cd\u5fdc\u3068\u3088\u304f\u6df7\u3056\u3063\u305f\u591a\u6570\u306e\u7c92\u5b50\u306e\u53cd\u5fdc\u306e\u9593\u3067\u30a8\u30cd\u30eb\u30ae\u30fc\u7684\u306a\u5dee\u306b\u6709\u7121\u304c\u3042\u308b\u306e\u304b\u306b\u3064\u3044\u3066\u8abf\u3079\u308b\u5fc5\u8981\u304c\u3042\u308b\u3002"
     ]
    },
    {
     "cell_type": "markdown",
     "metadata": {},
     "source": [
      "\u3053\u308c\u3092\u4eca\u307e\u3067\u4f1a\u8b70\u306e\u30e2\u30c7\u30eb\u3068\u3057\u3066\u8003\u3048\u3066\u304d\u305f\u3082\u306e\u306b\u9069\u5fdc\u3059\u308b\u3068\u304d\u306b\u306f\u3001\u610f\u898b\u306e\u8fd1\u3044\u3082\u306e(\u95be\u5024\u3088\u308a\u3082\u8fd1\u3044\u8ddd\u96e2\u306b\u3042\u308b\u610f\u898b)\u306f\u540c\u3058\u610f\u898b\u3092\u6307\u3059\u3068\u8003\u3048\u3001\u3053\u306e\u3088\u3046\u306a\u610f\u898b\u306f\u4ee5\u524d\u306b\u767a\u8a00\u3055\u308c\u3066\u3044\u308b\u3068\u304d\u306b\u306f\u6b21\u306e\u767a\u8a00\u8005\u306f\u305d\u306e\u3088\u3046\u306a\u610f\u898b\u306f\u9078\u3073\u306b\u304f\u3044\u3001\u3068\u3044\u3046\u3053\u3068\u3092\u53cd\u6620\u3057\u305f\u30e2\u30c7\u30eb\u3067\u3042\u308b\u3053\u3068\u304c\u6c42\u3081\u3089\u308c\u308b\u3002"
     ]
    },
    {
     "cell_type": "markdown",
     "metadata": {},
     "source": [
      "\u5177\u4f53\u7684\u306a\u30e2\u30c7\u30eb\u3068\u3057\u3066\u3001\u6709\u9650\u500b\u6570\u306e\u610f\u898b\u304c\u72b6\u614b\u7a7a\u9593\u4e0a\u306b\u5206\u5e03\u3057\u3066\u3044\u308b\u3068\u304d\u306b\u3001\u3042\u308b\u95be\u5024$r$\u3088\u308a\u3082\u8fd1\u3044\u8ddd\u96e2\u306b\u3042\u308b\u70b9\u540c\u58eb\u3092\u30ce\u30fc\u30c9\u3067\u3064\u306a\u3044\u3067\u3044\u304d\u3001\u305d\u3046\u3057\u3066\u9023\u7d50\u3055\u308c\u305f\u30ce\u30fc\u30c9\u3068\u30ea\u30f3\u30af\u3092\u4e00\u3064\u306e\u30af\u30e9\u30b9\u30bf\u30fc\u3068\u3059\u308b\u3002\u305d\u3057\u3066\u610f\u898b\u306e\u9078\u3073\u65b9\u306f\u3001\u3042\u308b\u6642\u523b\u306b\u9078\u3070\u308c\u305f\u610f\u898b\u304b\u3089\u4e00\u756a\u8fd1\u3044\u4f4d\u7f6e\u306b\u30ce\u30fc\u30c9\u3092\u3082\u3064\u3088\u3046\u306a\u30af\u30e9\u30b9\u30bf\u30fc\u306e\u4e2d\u304b\u3089\u9078\u3076\u3053\u3068\u3068\u3059\u308b\u3002\u3053\u306e\u3068\u304d\u30af\u30e9\u30b9\u30bf\u30fc\u306e\u5185\u90e8\u3067\u3069\u306e\u610f\u898b\u3092\u9078\u3076\u304b\u306e\u898f\u5247\u306b\u3064\u3044\u3066\u306f\u3001\u305d\u308c\u305e\u308c\u306e\u4eba\u306e\u767a\u8a00\u529b\u3068\u306e\u95a2\u4fc2\u3067\u6c7a\u3081\u308b\u3053\u3068\u306b\u3059\u308b\u3002\u307e\u305f\u3001\u3042\u308b\u6642\u523b\u306b\u610f\u898b\u304c\u9078\u3070\u308c\u305f\u3068\u304d\u3001\u305d\u306e\u610f\u898b\u304b\u3089\u306e\u8ddd\u96e2\u304c\u4e00\u756a\u8fd1\u3044\u30af\u30e9\u30b9\u30bf\u30fc\u304b\u3089\u6b21\u306e\u610f\u898b\u3092\u9078\u3076\u3053\u3068\u306b\u3059\u308b\u3002\u4e00\u5ea6\u610f\u898b\u304c\u9078\u3070\u308c\u305f\u30af\u30e9\u30b9\u30bf\u30fc\u306f\u3082\u3046\u4e00\u5ea6\u9078\u3070\u308c\u308b\u3053\u3068\u306f\u306a\u304f\u3001\u305d\u306e\u305f\u3081\u30af\u30e9\u30b9\u30bf\u30fc\u3092\u4f5c\u308b\u306e\u306b\u5fc5\u8981\u306a\u30d1\u30e9\u30e1\u30fc\u30bf\u306e\u5024\u306b\u3088\u3063\u3066\u306f\u3001\u4f8b3\u3067\u8003\u3048\u305f\u3082\u306e\u3068\u5168\u304f\u540c\u3058\u306b\u306a\u308b\u3053\u3068\u304c\u8003\u3048\u3089\u308c\u308b\u3002"
     ]
    },
    {
     "cell_type": "markdown",
     "metadata": {},
     "source": [
      "\u4ee5\u4e0a\u306e\u8a2d\u5b9a\u3092\u8003\u3048\u3066\u3001\u30b7\u30df\u30e5\u30ec\u30fc\u30b7\u30e7\u30f3\u3092\u884c\u3063\u3066\u307f\u308b\u3002"
     ]
    },
    {
     "cell_type": "code",
     "collapsed": false,
     "input": [
      "%matplotlib inline\n",
      "import matplotlib.pyplot as plt\n",
      "import numpy as np\n",
      "from scipy.spatial.distance import euclidean as euc\n",
      "import collections\n",
      "from ipython_doctester import test"
     ],
     "language": "python",
     "metadata": {},
     "outputs": [],
     "prompt_number": 1
    },
    {
     "cell_type": "code",
     "collapsed": false,
     "input": [
      "def uniq_list(seq):\n",
      "    seen = set()\n",
      "    seen_add = seen.add\n",
      "    return [x for x in seq if x not in seen and not seen_add(x)]\n",
      "\n",
      "\n",
      "class Person:\n",
      "    \n",
      "    def __init__(self, master, id, ideas, w):\n",
      "        \"\"\"Initialize argmunets.\n",
      "        \n",
      "        Keyword arguments:\n",
      "        master    : Master class (call from \"Meeting\")\n",
      "        self.id   : Id for each person [0, 1, ..., N-1]\n",
      "        self.ideas: ideas in space [0,1] \u00d7 [0,1]\n",
      "        self.w    : probability weight for the person to speak\n",
      "        \"\"\"\n",
      "        self.id = id\n",
      "        self.ideas = ideas\n",
      "        self.w = w\n",
      "        # add_ideas : place, tag : (x, y), [person_id, cluster_id]\n",
      "        master.ideas += [[(i1, i2), [self.id, 0]] for i1, i2 in self.ideas]\n",
      "\n",
      "\n",
      "class Cluster:\n",
      "    \n",
      "    def __init__(self, ideas, r):\n",
      "        \"\"\"make cluster with self.r\n",
      "        \n",
      "        cluster_link:        \n",
      "        \"\"\"\n",
      "        self.ideas = ideas\n",
      "        self.r = r\n",
      "        self.cluster_link = []\n",
      "        self.clustering()\n",
      "        \n",
      "    def clustering(self):\n",
      "        self.cell_num = int(1./self.r)\n",
      "        lr = 1./self.cell_num\n",
      "        \n",
      "        self.cell = dict() # key: (cellx,celly), value: list of ids\n",
      "        self.rcell = []\n",
      "        for i, idea in enumerate(self.ideas):\n",
      "            cellx = int(idea[0][0]/lr)\n",
      "            celly = int(idea[0][1]/lr)\n",
      "            if self.cell.has_key((cellx, celly)):\n",
      "                self.cell[(cellx, celly)] += [i]\n",
      "            else:\n",
      "                self.cell[(cellx, celly)] = [i]\n",
      "            self.rcell.append((cellx, celly))\n",
      "        num = 1\n",
      "        for i in range(len(self.ideas)):\n",
      "            num += self.find_nearest(i, num)\n",
      "        return self.cluster_link\n",
      "\n",
      "    def find_nearest(self, idea_id, num):\n",
      "        \"\"\"find nearest idea\n",
      "\n",
      "        idea_id: index in self.ideas\n",
      "        \"\"\"\n",
      "        cx, cy = self.rcell[idea_id]\n",
      "        place = self.ideas[idea_id][0]\n",
      "        tmp = []\n",
      "        nearest = []\n",
      "        cid = [num]\n",
      "        for i in uniq_list([max(0, cx - 1), cx, min(cx + 1, self.cell_num - 1)]):\n",
      "            for j in uniq_list([max(0, cy - 1), cy, min(cy + 1, self.cell_num - 1)]):\n",
      "                if self.cell.has_key((i, j)):\n",
      "                    tmp += self.cell[(i, j)]\n",
      "        tmp.remove(idea_id)\n",
      "        if len(tmp) == 0:\n",
      "            self.ideas[idea_id][1][1] = num\n",
      "            return 1\n",
      "        else:\n",
      "            for k in tmp:\n",
      "                if euc(self.ideas[k][0], place) < self.r:\n",
      "                    nearest.append(k)\n",
      "                    prenum = self.ideas[k][1][1]\n",
      "                    if prenum == 0:\n",
      "                        cid.append(num)\n",
      "                        self.cluster_link.append((idea_id, k))\n",
      "                    elif prenum < num:\n",
      "                        cid.append(prenum)\n",
      "                        if not (k, idea_id) in self.cluster_link:\n",
      "                            self.cluster_link.append((idea_id, k))\n",
      "                    else:\n",
      "                        raise KeyboardInterrupt(\"Something wrong. exiting...\")\n",
      "\n",
      "            cluster_id = min(cid)\n",
      "            if cluster_id < num:\n",
      "                ans = 0\n",
      "            else:\n",
      "                ans = 1\n",
      "            self.ideas[idea_id][1][1] = cluster_id\n",
      "            for i in nearest:\n",
      "                self.ideas[i][1][1] = cluster_id\n",
      "            cid.remove(num)\n",
      "            if len(cid) != 0:\n",
      "                cid.remove(cluster_id)\n",
      "                if len(cid) != 0:\n",
      "                    for i in cid:\n",
      "                        for x in self.ideas:\n",
      "                            if x[1][1] == i:\n",
      "                                x[1][1] = cluster_id\n",
      "            return ans\n",
      "\n",
      "        \n",
      "class Meeting:\n",
      "    \n",
      "    def __init__(self, K, N, S=20, r=0.06, draw=True):\n",
      "        self.K = K\n",
      "        self.N = N\n",
      "        self.S = S\n",
      "        self.r = r\n",
      "        self.ideas = []\n",
      "        self.minutes = []\n",
      "        self.draw = draw\n",
      "        \n",
      "    def gather_people(self, ideass=None, weights=None):\n",
      "        \"\"\"Gather participants.\n",
      "        \n",
      "        Keyword arguments:\n",
      "        ideas  : list of ideas for each person\n",
      "               ex) [((0.3,0.1),(0.2,0.5)), ((0.5,0.6))] when N = 2\n",
      "        weights: list of weights for the probability of the person to speak\n",
      "        \"\"\"\n",
      "        if not ideass:\n",
      "            x = np.random.rand(self.N, self.S*2)\n",
      "            ideass = []\n",
      "            for _x in x:\n",
      "                ideass.append([(i,j) for i,j in zip(_x[::2], _x[1::2])])\n",
      "        if not weights:\n",
      "            weights = [1.] * self.N\n",
      "        for i, ideas, w in zip(range(self.N), ideass, weights):\n",
      "            Person(self, i, ideas, w)\n",
      "\n",
      "    def init(self):\n",
      "        self.gather_people()\n",
      "        cluster = Cluster(self.ideas, self.r)\n",
      "        self.cluster_link = cluster.cluster_link\n",
      "        if self.draw:\n",
      "            colors = ['b', 'g', 'r', 'c', 'm', 'y', 'k']\n",
      "            self.fig = plt.figure(figsize=(9, 9))\n",
      "            self.ax = self.fig.add_subplot(1, 1, 1)\n",
      "            self.labels = []\n",
      "            self.s1 = []\n",
      "            for idea, tag in self.ideas:\n",
      "                x = idea[0]\n",
      "                y = idea[1]\n",
      "                s = self.ax.scatter(x, y,\n",
      "                                    c=colors[tag[0]%len(colors)],\n",
      "                                    alpha=0.2)\n",
      "                self.s1.append(s)\n",
      "            data = []\n",
      "            for link in self.cluster_link:\n",
      "                ix = self.ideas[link[0]][0][0]\n",
      "                iy = self.ideas[link[0]][0][1]\n",
      "                jx = self.ideas[link[1]][0][0]\n",
      "                jy = self.ideas[link[1]][0][1]\n",
      "                data += [(ix, jx), (iy, jy), 'k']\n",
      "            self.ax.plot(*data, alpha=0.5)\n",
      "            \n",
      "    def progress(self):\n",
      "        self.init()\n",
      "        preidea = self.ideas[np.random.choice(range(len(self.ideas)))]\n",
      "        self.minutes.append(preidea)\n",
      "        l = list(self.ideas)\n",
      "        self.k = 1\n",
      "\n",
      "        while self.k < self.K + 1:\n",
      "            \n",
      "            # remove ideas in the same cluster\n",
      "            l = [idea for idea in l if idea[1][1] != preidea[1][1]]\n",
      "\n",
      "            # if no one can speak: meeting ends.\n",
      "            if len(l) == 0:\n",
      "                print \"no one can speak.\"\n",
      "                break\n",
      "\n",
      "            distance = []\n",
      "            for i in l:\n",
      "                distance.append((euc(preidea[0], i[0]), i))\n",
      "            idea = min(distance)[1]\n",
      "            self.minutes.append(idea)\n",
      "            preidea = idea\n",
      "            self.callback()\n",
      "            self.k += 1\n",
      "        self.after()\n",
      "\n",
      "    def callback(self):\n",
      "        if self.draw:\n",
      "            ix = self.minutes[-2][0][0]\n",
      "            iy = self.minutes[-2][0][1]\n",
      "            jx = self.minutes[-1][0][0]\n",
      "            jy = self.minutes[-1][0][1]\n",
      "            l1 = self.ax.plot([ix, jx], [iy, jy], color='b', alpha=0.5)\n",
      "            self.ax.text((ix+jx)/2, (iy+jy)/2, self.k)\n",
      "        else:\n",
      "            pass\n",
      "\n",
      "    def after(self):\n",
      "        if self.draw:\n",
      "            plt.show()\n",
      "        else:\n",
      "            pass"
     ],
     "language": "python",
     "metadata": {},
     "outputs": [],
     "prompt_number": 25
    },
    {
     "cell_type": "code",
     "collapsed": false,
     "input": [
      "meeting = Meeting(K=20, N=6, S=20, r=0.1, draw=True)\n",
      "meeting.progress()"
     ],
     "language": "python",
     "metadata": {},
     "outputs": [
      {
       "output_type": "stream",
       "stream": "stdout",
       "text": [
        "no one can speak.\n"
       ]
      },
      {
       "metadata": {},
       "output_type": "display_data",
       "png": "[encoded data removed]",
       "text": [
        "<matplotlib.figure.Figure at 0x7f2c945fa110>"
       ]
      }
     ],
     "prompt_number": 23
    },
    {
     "cell_type": "code",
     "collapsed": false,
     "input": [
      "print sorted([x[1][1] for x in meeting.minutes])\n",
      "print meeting.cluster_link\n",
      "sorted([(x[1][1], x[1][0], (x[0])) for x in meeting.ideas])"
     ],
     "language": "python",
     "metadata": {},
     "outputs": [
      {
       "output_type": "stream",
       "stream": "stdout",
       "text": [
        "[2, 3, 4, 5, 7, 9, 10, 11, 15, 21, 23, 26, 30, 36, 37, 40, 41, 50, 53, 59, 60]\n",
        "[(0, 50), (0, 52), (0, 48), (2, 38), (4, 50), (4, 48), (5, 15), (8, 64), (8, 75), (8, 93), (8, 110), (10, 91), (10, 12), (10, 99), (11, 117), (12, 99), (13, 102), (14, 29), (16, 108), (17, 95), (18, 21), (18, 78), (18, 85), (18, 79), (18, 115), (19, 97), (20, 58), (21, 78), (21, 85), (21, 79), (21, 115), (22, 92), (24, 32), (25, 96), (26, 53), (28, 39), (28, 53), (28, 44), (31, 67), (34, 88), (34, 94), (40, 83), (41, 70), (42, 69), (44, 53), (46, 108), (47, 61), (47, 65), (48, 50), (50, 52), (51, 68), (51, 89), (53, 62), (54, 70), (55, 98), (55, 91), (56, 71), (58, 63), (59, 114), (61, 113), (61, 65), (62, 106), (63, 86), (65, 113), (68, 87), (68, 89), (73, 100), (75, 93), (75, 110), (76, 107), (77, 118), (78, 85), (78, 79), (78, 115), (79, 85), (79, 115), (80, 81), (82, 101), (85, 115), (88, 94), (89, 101), (92, 94), (93, 110), (103, 117)]\n"
       ]
      },
      {
       "metadata": {},
       "output_type": "pyout",
       "prompt_number": 4,
       "text": [
        "[(1, 0, (0.40143731727360132, 0.83270696720670456)),\n",
        " (1, 0, (0.47687155220581368, 0.8176805506600594)),\n",
        " (1, 2, (0.40740048672425322, 0.78599612594579238)),\n",
        " (1, 2, (0.43200730167390355, 0.80057401354049917)),\n",
        " (1, 2, (0.44855589421113107, 0.83630888289070837)),\n",
        " (2, 0, (0.147455202184126, 0.31361853283505681)),\n",
        " (3, 0, (0.25537240486627699, 0.38098454780938662)),\n",
        " (3, 1, (0.22895787453788075, 0.35172704578750069)),\n",
        " (4, 0, (0.015020560883010403, 0.22135179495198598)),\n",
        " (5, 0, (0.0071377555800957726, 0.33561170827379827)),\n",
        " (5, 0, (0.034518986082623826, 0.29385782808241001)),\n",
        " (6, 0, (0.6594330260994441, 0.79886727761860232)),\n",
        " (7, 0, (0.58745267461129624, 0.24823249740016951)),\n",
        " (8, 0, (0.62575698200808239, 0.40468896694051015)),\n",
        " (8, 3, (0.57391721721836453, 0.38242937432106527)),\n",
        " (8, 3, (0.66886365098900236, 0.41785677360383)),\n",
        " (8, 4, (0.63718910226474257, 0.39646024870246799)),\n",
        " (8, 5, (0.66929197544436858, 0.39175938087429729)),\n",
        " (9, 0, (0.41712109353105686, 0.041062367635098185)),\n",
        " (10, 0, (0.30761974329552533, 0.037102975995765952)),\n",
        " (10, 0, (0.34479902171173837, 0.019992967563379538)),\n",
        " (10, 2, (0.20847326926441678, 0.081723076975609432)),\n",
        " (10, 4, (0.1751847714494561, 0.1209627130064489)),\n",
        " (10, 4, (0.2532479357117069, 0.057556810674722847)),\n",
        " (10, 4, (0.35301553539933717, 0.057156429584809043)),\n",
        " (11, 0, (0.64600417129057919, 0.12416145370184639)),\n",
        " (11, 5, (0.64496920578303585, 0.19059933664367656)),\n",
        " (11, 5, (0.64575754069788238, 0.15618808631808068)),\n",
        " (12, 0, (0.9909775890193202, 0.66494248406854684)),\n",
        " (12, 5, (0.99776485697905626, 0.67487532499051461)),\n",
        " (13, 0, (0.021512085273785786, 0.52045627876553524)),\n",
        " (13, 1, (0.036343048388972843, 0.53250359605037867)),\n",
        " (14, 0, (0.85815747425497346, 0.80223491166477279)),\n",
        " (14, 2, (0.966633191126128, 0.81482133194176098)),\n",
        " (14, 5, (0.91073456595666713, 0.82558956902938863)),\n",
        " (15, 0, (0.073532625962737685, 0.045035624778440475)),\n",
        " (15, 4, (0.059989853187259912, 0.046568140989453499)),\n",
        " (16, 0, (0.79020857354256646, 0.82322838428402723)),\n",
        " (16, 1, (0.74885111177257579, 0.83429151871415541)),\n",
        " (16, 3, (0.78455270538692801, 0.87997308279834663)),\n",
        " (16, 3, (0.79239344108349963, 0.84228212698109561)),\n",
        " (16, 4, (0.79157565900673754, 0.8349471363686557)),\n",
        " (16, 5, (0.76911298505276604, 0.87906426383437963)),\n",
        " (17, 0, (0.39103479763420723, 0.35958035639506725)),\n",
        " (17, 4, (0.38956808063831783, 0.36712786182927815)),\n",
        " (18, 1, (0.42143951139277114, 0.52517561783297861)),\n",
        " (18, 2, (0.389006460648045, 0.55885936686337989)),\n",
        " (18, 3, (0.42277846558148835, 0.59960868448726956)),\n",
        " (18, 4, (0.46201633410557652, 0.61291165651454416)),\n",
        " (19, 1, (0.2282334171109196, 0.71636218852756739)),\n",
        " (19, 1, (0.30914124709092194, 0.77134783417773201)),\n",
        " (19, 4, (0.24770271476003491, 0.69715983510327162)),\n",
        " (19, 4, (0.28286803584867293, 0.71434443882744869)),\n",
        " (19, 4, (0.29635066494467033, 0.7467487091431193)),\n",
        " (20, 1, (0.98953486731328932, 0.51233611845144722)),\n",
        " (21, 1, (0.24534859200181813, 0.29053519417182805)),\n",
        " (21, 1, (0.259325953833068, 0.26626234251208791)),\n",
        " (22, 1, (0.30075931362434549, 0.86923783325458392)),\n",
        " (22, 4, (0.29028552404495855, 0.83930225735472708)),\n",
        " (23, 1, (0.90699295571146454, 0.42762807284062865)),\n",
        " (23, 1, (0.93704808562820308, 0.37592725817210437)),\n",
        " (23, 1, (0.96648677597543931, 0.31498608379949533)),\n",
        " (23, 2, (0.94990300823656271, 0.34770931845557784)),\n",
        " (23, 2, (0.97072607841420266, 0.40083385896221158)),\n",
        " (23, 3, (0.9033913385697302, 0.3130513922072754)),\n",
        " (23, 5, (0.86275360713114646, 0.27410123565913658)),\n",
        " (24, 1, (0.73778671486890945, 0.48107532307290568)),\n",
        " (25, 1, (0.056223354015481508, 0.64611055075656665)),\n",
        " (26, 1, (0.92184358977002145, 0.088300449474589371)),\n",
        " (26, 3, (0.9812336411324889, 0.092476664841799061)),\n",
        " (27, 1, (0.39598226518101076, 0.67392409817277488)),\n",
        " (29, 1, (0.28915000839566063, 0.9980719981321553)),\n",
        " (30, 1, (0.81282558975334451, 0.21933055673510804)),\n",
        " (31, 1, (0.48625002893033387, 0.95961852273753412)),\n",
        " (32, 2, (0.51438224335170812, 0.34399984405790862)),\n",
        " (32, 4, (0.50996403294309078, 0.39368365405355921)),\n",
        " (33, 2, (0.046089448683974688, 0.90232888152168167)),\n",
        " (33, 2, (0.12238031381754944, 0.90977534136037064)),\n",
        " (33, 3, (0.076417819804492138, 0.9063955543714729)),\n",
        " (34, 2, (0.8277488049547076, 0.36067648198235502)),\n",
        " (34, 3, (0.85637953602460104, 0.36495270139947078)),\n",
        " (35, 2, (0.6792775990097093, 0.022277626577858145)),\n",
        " (36, 2, (0.1084250841543658, 0.2086609647417641)),\n",
        " (37, 2, (0.93199431111712894, 0.22301041614631223)),\n",
        " (37, 3, (0.94529611202065666, 0.17948612221174909)),\n",
        " (37, 3, (0.95859291238206878, 0.20773263951947729)),\n",
        " (37, 5, (0.99273240317039624, 0.17937114842719681)),\n",
        " (38, 2, (0.90590302930613809, 0.50378034093076096)),\n",
        " (39, 2, (0.82941960171247608, 0.47173671586833643)),\n",
        " (39, 3, (0.79432251707078849, 0.51916511315660363)),\n",
        " (39, 4, (0.75019134898409001, 0.54057217384419898)),\n",
        " (39, 4, (0.82912825603071827, 0.52649161021348156)),\n",
        " (39, 4, (0.90081219278550684, 0.58511780353262144)),\n",
        " (39, 5, (0.86599268656061867, 0.5495688045112157)),\n",
        " (40, 2, (0.46066642496512322, 0.19106822434191684)),\n",
        " (40, 3, (0.50198342786025318, 0.19037127758201355)),\n",
        " (41, 2, (0.73145763418757559, 0.15257630919192455)),\n",
        " (42, 2, (0.68962216472630078, 0.65762089162325821)),\n",
        " (42, 5, (0.65323030142549332, 0.65652251482370161)),\n",
        " (43, 3, (0.66878431479936784, 0.54753213313535032)),\n",
        " (44, 3, (0.91754212206725161, 0.76181627221547155)),\n",
        " (45, 3, (0.50642809361948193, 0.88755343772686868)),\n",
        " (46, 3, (0.54500619189128452, 0.53800236155203152)),\n",
        " (46, 5, (0.53471610517466772, 0.51843973625625639)),\n",
        " (47, 3, (0.10597513034356898, 0.74145132360923061)),\n",
        " (48, 3, (0.1764581505538465, 0.79306309790288354)),\n",
        " (48, 5, (0.1940564558029747, 0.83861036219926766)),\n",
        " (49, 3, (0.31439115557532771, 0.60499982203894276)),\n",
        " (49, 5, (0.26838239682775888, 0.56920499859441653)),\n",
        " (50, 4, (0.24750059708832406, 0.15951422074783084)),\n",
        " (50, 4, (0.27901685896662298, 0.11546501462339731)),\n",
        " (52, 4, (0.73640286908192409, 0.35115489828773683)),\n",
        " (53, 4, (0.49789510270097193, 0.040127229953009991)),\n",
        " (54, 5, (0.87024556191231472, 0.91992256815496476)),\n",
        " (55, 5, (0.35223030108928099, 0.98863087711398978)),\n",
        " (56, 5, (0.77562609229189361, 0.67564075554895697)),\n",
        " (57, 5, (0.32273302265236148, 0.51589511407844435)),\n",
        " (58, 5, (0.309165294851802, 0.43423120553182837)),\n",
        " (59, 5, (0.011805512592885092, 0.1203819821832941)),\n",
        " (60, 5, (0.32849271524526058, 0.19598324743093476))]"
       ]
      }
     ],
     "prompt_number": 4
    },
    {
     "cell_type": "markdown",
     "metadata": {},
     "source": [
      "\u4e0b\u306e\u3084\u308a\u65b9\u3067\u306f\u30af\u30e9\u30b9\u30bf\u30fc\u306e\u6570\u3092\u3061\u3083\u3093\u3068\u6570\u3048\u305f\u3053\u3068\u306b\u306a\u3089\u306a\u3044\u3002(\u30af\u30e9\u30b9\u30bf\u30fc\u540c\u58eb\u306e\u878d\u5408\u3092\u8003\u3048\u308b\u3053\u3068\u304c\u3067\u304d\u306a\u3044)"
     ]
    },
    {
     "cell_type": "code",
     "collapsed": false,
     "input": [
      "max([x[1][1] for x in meeting.ideas])"
     ],
     "language": "python",
     "metadata": {},
     "outputs": [
      {
       "metadata": {},
       "output_type": "pyout",
       "prompt_number": 5,
       "text": [
        "60"
       ]
      }
     ],
     "prompt_number": 5
    },
    {
     "cell_type": "markdown",
     "metadata": {},
     "source": [
      "\u6b63\u3057\u3044\u6570\u3048\u65b9"
     ]
    },
    {
     "cell_type": "code",
     "collapsed": false,
     "input": [
      "len(uniq_list([x[1][1] for x in meeting.ideas]))"
     ],
     "language": "python",
     "metadata": {},
     "outputs": [
      {
       "metadata": {},
       "output_type": "pyout",
       "prompt_number": 6,
       "text": [
        "58"
       ]
      }
     ],
     "prompt_number": 6
    },
    {
     "cell_type": "markdown",
     "metadata": {},
     "source": [
      "\u95be\u5024$r$\u3092\u5909\u3048\u305f\u3068\u304d\u306b\u610f\u898b\u306e\u7dcf\u6570\u306b\u5bfe\u3059\u308b\u30af\u30e9\u30b9\u30bf\u30fc\u306e\u6570\u3068\u306e\u95a2\u4fc2\u3002\u6a2a\u8ef8$r$\u3001\u7e26\u8ef8$1- (\\text{\u30af\u30e9\u30b9\u30bf\u30fc\u306e\u6570})/(\\text{\u610f\u898b\u306e\u7dcf\u6570})$\u306e\u4e21\u5bfe\u6570\u30d7\u30ed\u30c3\u30c8\u3002"
     ]
    },
    {
     "cell_type": "code",
     "collapsed": false,
     "input": [
      "trial = 100\n",
      "\n",
      "r = np.logspace(-2, np.log10(0.2), num=50)\n",
      "phi = []\n",
      "for _r in r:\n",
      "    _phi = 0.\n",
      "    for t in range(trial):\n",
      "        meeting = Meeting(K=50, N=6, r=_r, draw=False)\n",
      "        meeting.init()\n",
      "        _phi += len(uniq_list([x[1][1] for x in meeting.ideas]))/float(len(meeting.ideas))\n",
      "    phi.append(1 - _phi/trial)"
     ],
     "language": "python",
     "metadata": {},
     "outputs": [],
     "prompt_number": 24
    },
    {
     "cell_type": "code",
     "collapsed": false,
     "input": [
      "fig = plt.figure(figsize=(8, 12))\n",
      "ax1 = fig.add_subplot(211)\n",
      "ax1.plot(r, phi)\n",
      "ax1.set_xlabel(r'$r$')\n",
      "ax1.set_ylabel(r'$\\phi$')\n",
      "ax1.set_xscale('linear')\n",
      "ax1.set_yscale('linear')\n",
      "ax2 = fig.add_subplot(212)\n",
      "ax2.plot(r, phi)\n",
      "ax2.set_xlabel(r'$r$')\n",
      "ax2.set_ylabel(r'$\\phi$')\n",
      "ax2.set_xscale('log')\n",
      "ax2.set_yscale('log')\n",
      "plt.show()"
     ],
     "language": "python",
     "metadata": {},
     "outputs": [
      {
       "metadata": {},
       "output_type": "display_data",
       "png": "[encoded data removed]",
       "text": [
        "<matplotlib.figure.Figure at 0x7f2c94ff2e10>"
       ]
      }
     ],
     "prompt_number": 12
    },
    {
     "cell_type": "markdown",
     "metadata": {},
     "source": [
      "\u3053\u306e\u30b0\u30e9\u30d5\u304b\u3089\u3001\u30af\u30e9\u30b9\u30bf\u30fc\u306e\u4f5c\u308a\u65b9\u306b\u95a2\u3059\u308b\u95be\u5024$r$\u306b\u95a2\u3057\u3066\u30af\u30e9\u30b9\u30bf\u30fc\u306e\u6570\u3068\u306e\u95a2\u4fc2\u3092\u898b\u308b\u3053\u3068\u304c\u3067\u304d\u308b\u3002$r$\u304c\u5927\u304d\u304f\u306a\u308b\u307b\u3069\u30af\u30e9\u30b9\u30bf\u30fc\u304c\u3067\u304d\u3084\u3059\u304f\u3001\u307e\u305f\u30af\u30e9\u30b9\u30bf\u30fc\u540c\u58eb\u306e\u878d\u5408\u3082\u8d77\u3053\u308a\u3084\u3059\u3044\u305f\u3081\u3001$r=0.15$\u307b\u3069\u3067\u7cfb\u306e\u4e2d\u306b\u3042\u308b\u30af\u30e9\u30b9\u30bf\u30fc\u306e\u6570\u306f1\u3068\u306a\u3063\u3066\u3001\u3059\u3079\u3066\u304c\u540c\u3058\u30af\u30e9\u30b9\u30bf\u30fc\u5185\u306b\u6240\u5c5e\u3059\u308b\u3053\u3068\u306b\u306a\u308b\u3002\n",
      "\n",
      "\u307e\u305f\u3001\u30d1\u30fc\u30b3\u30ec\u30fc\u30b7\u30e7\u30f3\u3068\u3057\u3066\u3053\u306e\u73fe\u8c61\u3092\u3068\u3089\u3048\u305f\u3068\u304d\u306b\u3001\u3053\u306e$r$\u306e\u5024\u306f\u3001\u30d1\u30fc\u30b3\u30ec\u30fc\u30b7\u30e7\u30f3\u95be\u5024\u3068\u306a\u3063\u3066\u3044\u3066\u3001\u3053\u306e\u3068\u304d\u306e\u30af\u30e9\u30b9\u30bf\u30fc\u6570\u306e\u5206\u5e03\u3092\u8abf\u3079\u3066\u307f\u308c\u3070\u3001\u305d\u306e\u30b5\u30a4\u30ba\u5206\u5e03\u306f\u3079\u304d\u5206\u5e03\u306b\u5f93\u3063\u3066\u3044\u308b\u53ef\u80fd\u6027\u304c\u3042\u308b\u3002\u6b21\u306e\u30bb\u30eb\u3067\u8abf\u3079\u3066\u307f\u308b\u3053\u3068\u306b\u3059\u308b\u3002"
     ]
    },
    {
     "cell_type": "code",
     "collapsed": false,
     "input": [
      "trial = 1\n",
      "_r = 0.06\n",
      "_phi = collections.Counter()\n",
      "for i in range(trial):\n",
      "    meeting = Meeting(K=50, N=6, r=_r, draw=False)\n",
      "    meeting.init()\n",
      "    _phi = _phi + collections.Counter([x[1][1] for x in meeting.ideas])\n",
      "phi = [(k, v/float(trial)) for k, v in dict(_phi).items()]\n",
      "print phi"
     ],
     "language": "python",
     "metadata": {},
     "outputs": [
      {
       "output_type": "stream",
       "stream": "stdout",
       "text": [
        "[(1, 1.0), (2, 10.0), (3, 8.0), (4, 5.0), (5, 2.0), (6, 1.0), (7, 1.0), (8, 4.0), (9, 1.0), (10, 4.0), (11, 4.0), (12, 1.0), (13, 1.0), (14, 1.0), (15, 1.0), (16, 1.0), (17, 4.0), (18, 2.0), (19, 1.0), (20, 1.0), (21, 2.0), (22, 1.0), (23, 1.0), (24, 1.0), (25, 3.0), (27, 1.0), (28, 2.0), (29, 1.0), (30, 2.0), (31, 6.0), (32, 1.0), (33, 1.0), (34, 2.0), (35, 1.0), (36, 1.0), (37, 2.0), (38, 1.0), (39, 1.0), (40, 1.0), (41, 3.0), (42, 1.0), (43, 1.0), (45, 3.0), (46, 1.0), (47, 1.0), (48, 1.0), (49, 1.0), (50, 3.0), (51, 1.0), (52, 1.0), (53, 1.0), (54, 1.0), (55, 1.0), (56, 1.0), (57, 1.0), (58, 1.0), (59, 1.0), (60, 1.0), (61, 1.0), (62, 1.0), (63, 1.0), (64, 2.0), (65, 1.0), (66, 1.0), (67, 1.0), (68, 1.0), (69, 1.0)]\n"
       ]
      }
     ],
     "prompt_number": 18
    },
    {
     "cell_type": "markdown",
     "metadata": {},
     "source": [
      "\u307e\u305f\u3001\u4e21\u5bfe\u6570\u30b0\u30e9\u30d5\u306b\u53d6\u3063\u305f\u3068\u304d\u306b$r$\u306e\u5c0f\u3055\u3044\u3068\u3053\u308d\u3067\u306f\u76f4\u7dda\u306b\u4e57\u3063\u3066\u3044\u308b\u3053\u3068\u304b\u3089\u3001$r$\u3068\u3053\u3053\u3067\u6c42\u3081\u305f\u6307\u6a19$\\phi$\u3068\u306e\u9593\u306b\u306f\u3001$r$\u304c\u5c0f\u3055\u3044\u3068\u3053\u308d\u3067\u306f\u30d9\u30ad\u4e57\u306e\u95a2\u4fc2\u306b\u3042\u308b\u3053\u3068\u304c\u5206\u304b\u308b\u3002\n",
      "\n",
      "\u78ba\u7387\u8ad6\u304b\u3089simple1,simple2\u306e\u3088\u3046\u306b\u89e3\u6790\u7684\u306b\u6c42\u3081\u308b\u3053\u3068\u304c\u3067\u304d\u308b\u3002"
     ]
    },
    {
     "cell_type": "markdown",
     "metadata": {},
     "source": [
      "\u95be\u5024$r$\u3092\u5909\u3048\u305f\u3068\u304d\u306e\u6700\u5927\u30af\u30e9\u30b9\u30bf\u30fc\u306e\u30b5\u30a4\u30ba\u3068\u5168\u8981\u7d20\u6570\u3068\u306e\u9593\u306e\u95a2\u4fc2\u3002\u30af\u30e9\u30b9\u30bf\u30fc\u30b5\u30a4\u30ba\u3068\u306f\u3053\u3053\u3067\u306f\u540c\u3058\u30af\u30e9\u30b9\u30bf\u30fc\u5185\u306b\u542b\u307e\u308c\u308b\u8981\u7d20\u306e\u6570\u3002\n",
      "\n",
      "\u6a2a\u8ef8$r$\u3001\u7e26\u8ef8$(\\text{\u6700\u5927\u30af\u30e9\u30b9\u30bf\u30fc\u30b5\u30a4\u30ba})/(\\text{\u5168\u8981\u7d20\u6570})$"
     ]
    },
    {
     "cell_type": "code",
     "collapsed": false,
     "input": [
      "print collections.Counter([x[1][1] for x in meeting.ideas])\n",
      "max([v for v in collections.Counter([x[1][1] for x in meeting.ideas]).values()])/float(len(meeting.ideas))"
     ],
     "language": "python",
     "metadata": {},
     "outputs": [
      {
       "output_type": "stream",
       "stream": "stdout",
       "text": [
        "Counter({14: 8, 41: 7, 8: 6, 16: 5, 4: 4, 5: 4, 24: 4, 11: 3, 20: 3, 21: 3, 34: 3, 39: 3, 40: 3, 51: 3, 1: 2, 2: 2, 9: 2, 12: 2, 15: 2, 18: 2, 26: 2, 27: 2, 30: 2, 31: 2, 42: 2, 43: 2, 47: 2, 3: 1, 6: 1, 7: 1, 10: 1, 13: 1, 17: 1, 19: 1, 22: 1, 23: 1, 25: 1, 28: 1, 29: 1, 32: 1, 33: 1, 35: 1, 36: 1, 37: 1, 38: 1, 44: 1, 45: 1, 46: 1, 48: 1, 49: 1, 50: 1, 52: 1, 53: 1, 54: 1, 55: 1, 56: 1, 57: 1, 58: 1, 59: 1, 60: 1, 61: 1, 62: 1})\n"
       ]
      },
      {
       "metadata": {},
       "output_type": "pyout",
       "prompt_number": 11,
       "text": [
        "0.06666666666666667"
       ]
      }
     ],
     "prompt_number": 11
    },
    {
     "cell_type": "code",
     "collapsed": false,
     "input": [
      "trial = 30\n",
      "\n",
      "r = np.logspace(-2, np.log10(0.2), num=50)\n",
      "phi = []\n",
      "for _r in r:\n",
      "    _phi = 0.\n",
      "    for t in range(trial):\n",
      "        meeting = Meeting(K=50, N=6, r=_r, draw=False)\n",
      "        meeting.init()\n",
      "        _phi += max([v for v in\n",
      "                     collections.Counter([x[1][1] for x in meeting.ideas]).values()]\n",
      "                    ) \\\n",
      "                / \\\n",
      "                float(len(meeting.ideas))\n",
      "    phi.append(_phi/trial)"
     ],
     "language": "python",
     "metadata": {},
     "outputs": [],
     "prompt_number": 47
    },
    {
     "cell_type": "code",
     "collapsed": false,
     "input": [
      "fig = plt.figure(figsize=(8, 6))\n",
      "ax = fig.add_subplot(111)\n",
      "ax.plot(r, phi)\n",
      "ax.set_xlabel(r'$r$')\n",
      "ax.set_ylabel(r'$\\phi$')\n",
      "ax.set_xscale('linear')\n",
      "ax.set_yscale('log')\n",
      "plt.show()"
     ],
     "language": "python",
     "metadata": {},
     "outputs": [
      {
       "metadata": {},
       "output_type": "display_data",
       "png": "[encoded data removed]",
       "text": [
        "<matplotlib.figure.Figure at 0x7fe708b96810>"
       ]
      }
     ],
     "prompt_number": 50
    },
    {
     "cell_type": "markdown",
     "metadata": {},
     "source": [
      "\u6a2a\u8ef8r\u3001\u7e26\u8ef8(\u6700\u5927\u30af\u30e9\u30b9\u30bf\u30fc\u30b5\u30a4\u30ba)/(\u5168\u8981\u7d20\u6570)\u3067\u7e26\u8ef8\u306b\u5bfe\u6570\u3092\u53d6\u3063\u305f\u3068\u304d\u306b\u76f4\u7dda\u306b\u4e57\u3063\u3066\u3044\u308b(\u3088\u3046\u306b\u898b\u3048\u308b)\u3002\n",
      "\n",
      "\u306a\u305c\u304b?"
     ]
    },
    {
     "cell_type": "heading",
     "level": 3,
     "metadata": {},
     "source": [
      "simple2\u3067\u8003\u3048\u305f\u3088\u3046\u306b\u8003\u3048\u3066\u307f\u308b"
     ]
    },
    {
     "cell_type": "markdown",
     "metadata": {},
     "source": [
      "\u70b9\u306e\u5206\u5e03\u3059\u308b\u7bc4\u56f2\u306f$\\Omega = [0,1]\\times [0,1]$\u3067\u3042\u308a\u3001\u3053\u306e\u4e2d\u306e\u9762\u7a4d$S$\u306e\u9818\u57df\u306e\u4e2d\u306b\u70b9\u3092\u898b\u51fa\u3059\u78ba\u7387\u306f$S$\u3067\u3042\u308b\u3002\n",
      "\n",
      "\u6b21\u306b\u3001\u9818\u57df\u5185\u306e\u3042\u308b\u70b9$\\vec x=(x,y)$\u3092\u4e2d\u5fc3\u3068\u3057\u3066\u534a\u5f84$r$($0 < r \\le 0.5$)\u306e\u9818\u57df$B(\\vec x, r)$\u5185\u306b\u70b9\u3092\u898b\u51fa\u3059\u78ba\u7387$p(\\vec x)$\u306f\u3001\u5883\u754c\u306e\u5f71\u97ff\u3092\u3046\u3051\u306a\u3044\u9818\u57df($\\Omega ' = \\{(x,y) | r \\le x \\le 1-r, r \\le y \\le 1-r \\}$)\u3067\u306f$\\pi r^{2}$\u3067\u3042\u308a\u3001\u5883\u754c\u306e\u5f71\u97ff\u3092\u53d7\u3051\u308b\u9818\u57df($\\Omega'' = \\Omega / \\Omega'$)\u306b\u304a\u3044\u3066\u70b9\u3092\u898b\u51fa\u3059\u78ba\u7387\u306f\u3001\u9818\u57df\u3092\n",
      "\n",
      "$$\\begin{align}\n",
      "\\Omega''_{x} &= \\{(x,y) | 0 \\le x < r, r< y < 1-r\\} \\\\\n",
      "\\Omega''_{1-x} &= \\{(x,y) | 1-r < x \\le 1, r< y < 1-r\\} \\\\\n",
      "\\Omega''_{y} &= \\{(x,y) | r < x < 1-r, 0 \\le y < r\\} \\\\\n",
      "\\Omega''_{1-y} &= \\{(x,y) | r < x < 1-r, 1-r < y \\le 1\\} \\\\\n",
      "\\Omega''_{x,y} &= \\{(x,y) | 0 \\le x < r, 0 \\le y < r\\} \\\\\n",
      "\\Omega''_{1-x,y} &= \\{(x,y) | 1-r < x \\le 1, 0 \\le y < r\\} \\\\\n",
      "\\Omega''_{x,1-y} &= \\{(x,y) | 0 \\le x < r, 1-r < y \\le 1\\} \\\\\n",
      "\\Omega''_{1-x, 1-y} &= \\{(x,y) | 1-r < x \\le 1, 1-r < y \\le 1\\}\n",
      "\\end{align}$$\n",
      "\n",
      "\u306e\u3088\u3046\u306b\u3042\u3089\u308f\u3057\u3001$\\Omega''_{i}$\u3082\u3057\u304f\u306f$\\Omega''_{i,j}$\u3067\u307e\u3068\u3081\u3066\u66f8\u304f\u3053\u3068\u306b\u3059\u308b\u3068\u3001\n",
      "\n",
      "$$p(\\vec x \\in \\Omega''_{i}) = i \\sqrt{r^{2}-i^{2}} + r^{2} \\left[ \\pi -\\arccos \\left( \\frac{i}{r} \\right) \\right]$$\n",
      "\n",
      "$$\\begin{align}p(\\vec x \\in \\Omega''_{i,j}) = &\\frac{1}{2}\\left\\{ \\sqrt{r^{2}-i^{2}} + \\min \\left(j, \\sqrt{r^{2}-i^{2}}\\right) \\right\\}i + \\frac{1}{2}\\left\\{ \\sqrt{r^{2}-j^{2}} + \\min \\left( i, \\sqrt{r^{2}-j^{2}}\\right) \\right\\}j \\\\\n",
      "&+ \\frac{1}{2}r^{2} \\left\\{ 2\\pi -\\arccos \\left( \\frac{i}{r} \\right) -\\arccos \\left( \\frac{j}{r} \\right) -\\min \\left( \\frac{\\pi}{2}, \\arccos \\left( \\frac{i}{r} \\right) +\\arccos \\left( \\frac{j}{r} \\right) \\right) \\right\\}\n",
      "\\end{align}$$\n",
      "\n",
      "\u306e\u3088\u3046\u306b\u3042\u3089\u308f\u3059\u3053\u3068\u304c\u3067\u304d\u308b\u3002"
     ]
    },
    {
     "cell_type": "markdown",
     "metadata": {},
     "source": []
    },
    {
     "cell_type": "code",
     "collapsed": false,
     "input": [
      "import pandas as pd\n",
      "pd.DataFrame(np.array([r, phi]).T)"
     ],
     "language": "python",
     "metadata": {},
     "outputs": [
      {
       "html": [
        "<div style=\"max-height:1000px;max-width:1500px;overflow:auto;\">\n",
        "<table border=\"1\" class=\"dataframe\">\n",
        "  <thead>\n",
        "    <tr style=\"text-align: right;\">\n",
        "      <th></th>\n",
        "      <th>0</th>\n",
        "      <th>1</th>\n",
        "    </tr>\n",
        "  </thead>\n",
        "  <tbody>\n",
        "    <tr>\n",
        "      <th>0 </th>\n",
        "      <td> 0.001000</td>\n",
        "      <td> 0.000000</td>\n",
        "    </tr>\n",
        "    <tr>\n",
        "      <th>1 </th>\n",
        "      <td> 0.011474</td>\n",
        "      <td> 0.023056</td>\n",
        "    </tr>\n",
        "    <tr>\n",
        "      <th>2 </th>\n",
        "      <td> 0.021947</td>\n",
        "      <td> 0.081389</td>\n",
        "    </tr>\n",
        "    <tr>\n",
        "      <th>3 </th>\n",
        "      <td> 0.032421</td>\n",
        "      <td> 0.181667</td>\n",
        "    </tr>\n",
        "    <tr>\n",
        "      <th>4 </th>\n",
        "      <td> 0.042895</td>\n",
        "      <td> 0.283333</td>\n",
        "    </tr>\n",
        "    <tr>\n",
        "      <th>5 </th>\n",
        "      <td> 0.053368</td>\n",
        "      <td> 0.406111</td>\n",
        "    </tr>\n",
        "    <tr>\n",
        "      <th>6 </th>\n",
        "      <td> 0.063842</td>\n",
        "      <td> 0.522222</td>\n",
        "    </tr>\n",
        "    <tr>\n",
        "      <th>7 </th>\n",
        "      <td> 0.074316</td>\n",
        "      <td> 0.635278</td>\n",
        "    </tr>\n",
        "    <tr>\n",
        "      <th>8 </th>\n",
        "      <td> 0.084789</td>\n",
        "      <td> 0.711667</td>\n",
        "    </tr>\n",
        "    <tr>\n",
        "      <th>9 </th>\n",
        "      <td> 0.095263</td>\n",
        "      <td> 0.788056</td>\n",
        "    </tr>\n",
        "    <tr>\n",
        "      <th>10</th>\n",
        "      <td> 0.105737</td>\n",
        "      <td> 0.833611</td>\n",
        "    </tr>\n",
        "    <tr>\n",
        "      <th>11</th>\n",
        "      <td> 0.116211</td>\n",
        "      <td> 0.869444</td>\n",
        "    </tr>\n",
        "    <tr>\n",
        "      <th>12</th>\n",
        "      <td> 0.126684</td>\n",
        "      <td> 0.900833</td>\n",
        "    </tr>\n",
        "    <tr>\n",
        "      <th>13</th>\n",
        "      <td> 0.137158</td>\n",
        "      <td> 0.920556</td>\n",
        "    </tr>\n",
        "    <tr>\n",
        "      <th>14</th>\n",
        "      <td> 0.147632</td>\n",
        "      <td> 0.955000</td>\n",
        "    </tr>\n",
        "    <tr>\n",
        "      <th>15</th>\n",
        "      <td> 0.158105</td>\n",
        "      <td> 0.972500</td>\n",
        "    </tr>\n",
        "    <tr>\n",
        "      <th>16</th>\n",
        "      <td> 0.168579</td>\n",
        "      <td> 0.977778</td>\n",
        "    </tr>\n",
        "    <tr>\n",
        "      <th>17</th>\n",
        "      <td> 0.179053</td>\n",
        "      <td> 0.982500</td>\n",
        "    </tr>\n",
        "    <tr>\n",
        "      <th>18</th>\n",
        "      <td> 0.189526</td>\n",
        "      <td> 0.988333</td>\n",
        "    </tr>\n",
        "    <tr>\n",
        "      <th>19</th>\n",
        "      <td> 0.200000</td>\n",
        "      <td> 0.991389</td>\n",
        "    </tr>\n",
        "  </tbody>\n",
        "</table>\n",
        "<p>20 rows \u00d7 2 columns</p>\n",
        "</div>"
       ],
       "metadata": {},
       "output_type": "pyout",
       "prompt_number": 10,
       "text": [
        "           0         1\n",
        "0   0.001000  0.000000\n",
        "1   0.011474  0.023056\n",
        "2   0.021947  0.081389\n",
        "3   0.032421  0.181667\n",
        "4   0.042895  0.283333\n",
        "5   0.053368  0.406111\n",
        "6   0.063842  0.522222\n",
        "7   0.074316  0.635278\n",
        "8   0.084789  0.711667\n",
        "9   0.095263  0.788056\n",
        "10  0.105737  0.833611\n",
        "11  0.116211  0.869444\n",
        "12  0.126684  0.900833\n",
        "13  0.137158  0.920556\n",
        "14  0.147632  0.955000\n",
        "15  0.158105  0.972500\n",
        "16  0.168579  0.977778\n",
        "17  0.179053  0.982500\n",
        "18  0.189526  0.988333\n",
        "19  0.200000  0.991389\n",
        "\n",
        "[20 rows x 2 columns]"
       ]
      }
     ],
     "prompt_number": 10
    },
    {
     "cell_type": "code",
     "collapsed": false,
     "input": [
      "a = [1,2,3,4,5,6,7]\n",
      "preidea = np.random.choice(a)\n",
      "print preidea\n",
      "print a"
     ],
     "language": "python",
     "metadata": {},
     "outputs": [
      {
       "output_type": "stream",
       "stream": "stdout",
       "text": [
        "5\n",
        "[1, 2, 3, 4, 5, 6, 7]\n"
       ]
      }
     ],
     "prompt_number": 22
    },
    {
     "cell_type": "code",
     "collapsed": false,
     "input": [
      "ideas = meeting.ideas\n",
      "r = 0.06\n",
      "cell_num = int(1./r)\n",
      "print cell_num\n",
      "lr = 1./cell_num\n",
      "print lr\n",
      "cell = dict()\n",
      "rcell = []\n",
      "for i, idea in enumerate(ideas):\n",
      "    cellx = int(idea[0][0]/lr)\n",
      "    celly = int(idea[0][1]/lr)\n",
      "    if cell.has_key((cellx, celly)):\n",
      "        cell[(cellx, celly)] += [i]\n",
      "    else:\n",
      "        cell[(cellx, celly)] = [i]\n",
      "    rcell.append((cellx, celly))\n",
      "cell"
     ],
     "language": "python",
     "metadata": {},
     "outputs": [
      {
       "output_type": "stream",
       "stream": "stdout",
       "text": [
        "16\n",
        "0.0625\n"
       ]
      },
      {
       "metadata": {},
       "output_type": "pyout",
       "prompt_number": 52,
       "text": [
        "{(0, 1): [80],\n",
        " (0, 4): [59],\n",
        " (0, 5): [11],\n",
        " (0, 7): [114],\n",
        " (0, 11): [115],\n",
        " (0, 13): [78],\n",
        " (0, 15): [43, 70, 117],\n",
        " (1, 1): [67],\n",
        " (1, 6): [8],\n",
        " (1, 9): [39],\n",
        " (2, 1): [108],\n",
        " (2, 2): [113],\n",
        " (2, 4): [10],\n",
        " (2, 5): [18],\n",
        " (2, 7): [63],\n",
        " (2, 8): [81],\n",
        " (2, 9): [35, 74],\n",
        " (2, 13): [48],\n",
        " (2, 15): [103],\n",
        " (3, 0): [91],\n",
        " (3, 4): [4, 42],\n",
        " (3, 10): [58, 73],\n",
        " (3, 11): [0],\n",
        " (3, 15): [96],\n",
        " (4, 5): [34],\n",
        " (4, 6): [46],\n",
        " (4, 9): [16],\n",
        " (4, 11): [86],\n",
        " (4, 12): [89],\n",
        " (5, 2): [75],\n",
        " (5, 3): [76, 107],\n",
        " (5, 4): [99],\n",
        " (5, 9): [28],\n",
        " (5, 10): [72],\n",
        " (5, 11): [5],\n",
        " (5, 12): [51, 53],\n",
        " (5, 13): [31],\n",
        " (5, 14): [92, 106],\n",
        " (5, 15): [102],\n",
        " (6, 1): [77, 87],\n",
        " (6, 3): [2],\n",
        " (6, 6): [50, 112, 116],\n",
        " (6, 8): [25],\n",
        " (6, 9): [45],\n",
        " (6, 13): [22],\n",
        " (7, 1): [79],\n",
        " (7, 2): [66],\n",
        " (7, 3): [64],\n",
        " (7, 5): [84],\n",
        " (7, 6): [14, 109],\n",
        " (7, 7): [19],\n",
        " (7, 9): [23],\n",
        " (7, 13): [104],\n",
        " (7, 14): [1],\n",
        " (7, 15): [54],\n",
        " (8, 4): [111],\n",
        " (8, 7): [20, 62],\n",
        " (8, 9): [33],\n",
        " (8, 10): [9],\n",
        " (8, 11): [94],\n",
        " (8, 14): [85],\n",
        " (9, 0): [52, 83],\n",
        " (9, 2): [47],\n",
        " (9, 6): [3, 38],\n",
        " (9, 7): [105],\n",
        " (9, 8): [44],\n",
        " (9, 11): [57],\n",
        " (9, 12): [61],\n",
        " (9, 13): [119],\n",
        " (10, 0): [101],\n",
        " (10, 2): [100],\n",
        " (10, 3): [95],\n",
        " (10, 5): [69],\n",
        " (10, 7): [60],\n",
        " (10, 10): [56],\n",
        " (10, 13): [12],\n",
        " (10, 14): [7],\n",
        " (11, 1): [21],\n",
        " (11, 7): [88, 93],\n",
        " (11, 8): [110],\n",
        " (11, 9): [6],\n",
        " (12, 0): [26, 41],\n",
        " (12, 2): [49],\n",
        " (12, 5): [37],\n",
        " (12, 6): [13],\n",
        " (12, 8): [24],\n",
        " (12, 10): [40],\n",
        " (12, 12): [118],\n",
        " (12, 13): [15],\n",
        " (13, 4): [27, 65],\n",
        " (13, 6): [17],\n",
        " (13, 9): [36],\n",
        " (13, 13): [32],\n",
        " (13, 15): [90],\n",
        " (14, 0): [29],\n",
        " (14, 2): [97],\n",
        " (14, 4): [55],\n",
        " (14, 14): [68, 71],\n",
        " (14, 15): [82],\n",
        " (15, 0): [98],\n",
        " (15, 1): [30]}"
       ]
      }
     ],
     "prompt_number": 52
    },
    {
     "cell_type": "code",
     "collapsed": false,
     "input": [
      "cell_num = 14\n",
      "[[[]]*cell_num]*cell_num"
     ],
     "language": "python",
     "metadata": {},
     "outputs": [
      {
       "metadata": {},
       "output_type": "pyout",
       "prompt_number": 20,
       "text": [
        "[[[], [], [], [], [], [], [], [], [], [], [], [], [], []],\n",
        " [[], [], [], [], [], [], [], [], [], [], [], [], [], []],\n",
        " [[], [], [], [], [], [], [], [], [], [], [], [], [], []],\n",
        " [[], [], [], [], [], [], [], [], [], [], [], [], [], []],\n",
        " [[], [], [], [], [], [], [], [], [], [], [], [], [], []],\n",
        " [[], [], [], [], [], [], [], [], [], [], [], [], [], []],\n",
        " [[], [], [], [], [], [], [], [], [], [], [], [], [], []],\n",
        " [[], [], [], [], [], [], [], [], [], [], [], [], [], []],\n",
        " [[], [], [], [], [], [], [], [], [], [], [], [], [], []],\n",
        " [[], [], [], [], [], [], [], [], [], [], [], [], [], []],\n",
        " [[], [], [], [], [], [], [], [], [], [], [], [], [], []],\n",
        " [[], [], [], [], [], [], [], [], [], [], [], [], [], []],\n",
        " [[], [], [], [], [], [], [], [], [], [], [], [], [], []],\n",
        " [[], [], [], [], [], [], [], [], [], [], [], [], [], []]]"
       ]
      }
     ],
     "prompt_number": 20
    },
    {
     "cell_type": "code",
     "collapsed": false,
     "input": [
      "@test\n",
      "def uniq_list(seq):\n",
      "    \"\"\"\n",
      "    >>> a = [1, 2, 5, 6, 7, 3, 2, 0]\n",
      "    >>> uniq_list(a)\n",
      "    [1, 2, 5, 6, 7, 3, 0]\n",
      "    \"\"\"\n",
      "    seen = set()\n",
      "    seen_add = seen.add\n",
      "    return [x for x in seq if x not in seen and not seen_add(x)]\n"
     ],
     "language": "python",
     "metadata": {},
     "outputs": [
      {
       "html": [
        "\n",
        "      <p style=\"color:green;font-size:250%;font-weight=bold\">Success!</p>\n",
        "      "
       ],
       "metadata": {},
       "output_type": "display_data"
      }
     ],
     "prompt_number": 44
    }
   ],
   "metadata": {}
  }
 ]
}