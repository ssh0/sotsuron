{
 "metadata": {
  "name": "",
  "signature": "sha256:0d44bbceb978517a21b3d6453e50192da60e83bd8a8b0538576a1fcf5cd7bd48"
 },
 "nbformat": 3,
 "nbformat_minor": 0,
 "worksheets": [
  {
   "cells": [
    {
     "cell_type": "heading",
     "level": 1,
     "metadata": {},
     "source": [
      "\u8fd1\u8ddd\u96e2\u3067\u3042\u308b\u3053\u3068\u306b\u3088\u308b\u53cd\u5fdc\u306e\u6291\u5236\u5316"
     ]
    },
    {
     "cell_type": "markdown",
     "metadata": {},
     "source": [
      "\u610f\u898b\u3092\u63d0\u51fa\u3059\u308b\u969b\u306b\u500b\u4eba\u3068\u3057\u3066\u611f\u3058\u308b\u3053\u3068\u306f\u4f55\u304b\u3001\u3068\u3044\u3046\u3053\u3068\u3092\u8003\u3048\u308b\u3068\u3001\u4ed6\u306e\u4eba\u304c\u81ea\u5206\u3068\u4f3c\u305f\u3088\u3046\u306a\u610f\u898b\u3092\u51fa\u3059\u306e\u3067\u306f\u306a\u3044\u304b\u3001\u3068\u3044\u3046\u70b9\u304b\u3089\u767a\u8a00\u3092\u63a7\u3048\u308b\u3068\u3044\u3046\u5834\u9762\u304c\u8003\u3048\u3089\u308c\u308b\u3002\u307e\u305f\u3001\u3053\u308c\u3092\u4ee3\u8b1d\u7cfb\u306a\u3069\u306e\u5316\u5b66\u53cd\u5fdc\u306b\u843d\u3068\u3057\u8fbc\u3093\u3060\u969b\u306b\u306f\u3001\u3053\u306e\u3088\u3046\u306a\u8fd1\u3044\u4f4d\u7f6e\u306e\u610f\u898b\u306f\u3059\u3079\u3066\u540c\u4e00\u306e\u7269\u8cea\u3092\u8868\u3057\u3066\u3044\u308b\u3068\u3044\u3046\u3088\u3046\u306b\u8003\u3048\u308b\u3053\u3068\u3082\u3067\u304d\u308b\u3002\u305d\u306e\u3088\u3046\u306b\u8003\u3048\u308c\u3070\u3001\u4f3c\u305f\u3088\u3046\u306a\u6027\u8cea\u304c\u7e2e\u7d04\u3055\u308c\u3066\u3057\u307e\u3046\u306e\u3067\u5168\u4f53\u3068\u3057\u3066\u306e\u52b9\u7387\u304c\u4e0b\u304c\u3063\u3066\u3057\u307e\u3046\u3068\u3044\u3046\u7d50\u679c\u3092\u3082\u305f\u3089\u3059\u306e\u304b\u3082\u3057\u308c\u306a\u3044\u3002\n"
     ]
    },
    {
     "cell_type": "markdown",
     "metadata": {},
     "source": [
      "Note: \u5316\u5b66\u53cd\u5fdc\u3067\u3082\u540c\u3058\u3088\u3046\u306b1\u5206\u5b50\u3067\u306e\u53cd\u5fdc\u3068\u3088\u304f\u6df7\u3056\u3063\u305f\u591a\u6570\u306e\u7c92\u5b50\u306e\u53cd\u5fdc\u306e\u9593\u3067\u30a8\u30cd\u30eb\u30ae\u30fc\u7684\u306a\u5dee\u306b\u6709\u7121\u304c\u3042\u308b\u306e\u304b\u306b\u3064\u3044\u3066\u8abf\u3079\u308b\u5fc5\u8981\u304c\u3042\u308b\u3002"
     ]
    },
    {
     "cell_type": "markdown",
     "metadata": {},
     "source": [
      "\u3053\u308c\u3092\u4eca\u307e\u3067\u4f1a\u8b70\u306e\u30e2\u30c7\u30eb\u3068\u3057\u3066\u8003\u3048\u3066\u304d\u305f\u3082\u306e\u306b\u9069\u5fdc\u3059\u308b\u3068\u304d\u306b\u306f\u3001\u610f\u898b\u306e\u8fd1\u3044\u3082\u306e(\u95be\u5024\u3088\u308a\u3082\u8fd1\u3044\u8ddd\u96e2\u306b\u3042\u308b\u610f\u898b)\u306f\u540c\u3058\u610f\u898b\u3092\u6307\u3059\u3068\u8003\u3048\u3001\u3053\u306e\u3088\u3046\u306a\u610f\u898b\u306f\u4ee5\u524d\u306b\u767a\u8a00\u3055\u308c\u3066\u3044\u308b\u3068\u304d\u306b\u306f\u6b21\u306e\u767a\u8a00\u8005\u306f\u305d\u306e\u3088\u3046\u306a\u610f\u898b\u306f\u9078\u3073\u306b\u304f\u3044\u3001\u3068\u3044\u3046\u3053\u3068\u3092\u53cd\u6620\u3057\u305f\u30e2\u30c7\u30eb\u3067\u3042\u308b\u3053\u3068\u304c\u6c42\u3081\u3089\u308c\u308b\u3002"
     ]
    },
    {
     "cell_type": "markdown",
     "metadata": {},
     "source": [
      "\u5177\u4f53\u7684\u306a\u30e2\u30c7\u30eb\u3068\u3057\u3066\u3001\u6709\u9650\u500b\u6570\u306e\u610f\u898b\u304c\u72b6\u614b\u7a7a\u9593\u4e0a\u306b\u5206\u5e03\u3057\u3066\u3044\u308b\u3068\u304d\u306b\u3001\u3042\u308b\u95be\u5024$r$\u3088\u308a\u3082\u8fd1\u3044\u8ddd\u96e2\u306b\u3042\u308b\u70b9\u540c\u58eb\u3092\u30ce\u30fc\u30c9\u3067\u3064\u306a\u3044\u3067\u3044\u304d\u3001\u305d\u3046\u3057\u3066\u9023\u7d50\u3055\u308c\u305f\u30ce\u30fc\u30c9\u3068\u30ea\u30f3\u30af\u3092\u4e00\u3064\u306e\u30af\u30e9\u30b9\u30bf\u30fc\u3068\u3059\u308b\u3002\u305d\u3057\u3066\u610f\u898b\u306e\u9078\u3073\u65b9\u306f\u3001\u3042\u308b\u6642\u523b\u306b\u9078\u3070\u308c\u305f\u610f\u898b\u304b\u3089\u4e00\u756a\u8fd1\u3044\u4f4d\u7f6e\u306b\u30ce\u30fc\u30c9\u3092\u3082\u3064\u3088\u3046\u306a\u30af\u30e9\u30b9\u30bf\u30fc\u306e\u4e2d\u304b\u3089\u9078\u3076\u3053\u3068\u3068\u3059\u308b\u3002\u3053\u306e\u3068\u304d\u30af\u30e9\u30b9\u30bf\u30fc\u306e\u5185\u90e8\u3067\u3069\u306e\u610f\u898b\u3092\u9078\u3076\u304b\u306e\u898f\u5247\u306b\u3064\u3044\u3066\u306f\u3001\u305d\u308c\u305e\u308c\u306e\u4eba\u306e\u767a\u8a00\u529b\u3068\u306e\u95a2\u4fc2\u3067\u6c7a\u3081\u308b\u3053\u3068\u306b\u3059\u308b\u3002\u307e\u305f\u3001\u3042\u308b\u6642\u523b\u306b\u610f\u898b\u304c\u9078\u3070\u308c\u305f\u3068\u304d\u3001\u305d\u306e\u610f\u898b\u304b\u3089\u306e\u8ddd\u96e2\u304c\u4e00\u756a\u8fd1\u3044\u30af\u30e9\u30b9\u30bf\u30fc\u304b\u3089\u6b21\u306e\u610f\u898b\u3092\u9078\u3076\u3053\u3068\u306b\u3059\u308b\u3002\u4e00\u5ea6\u610f\u898b\u304c\u9078\u3070\u308c\u305f\u30af\u30e9\u30b9\u30bf\u30fc\u306f\u3082\u3046\u4e00\u5ea6\u9078\u3070\u308c\u308b\u3053\u3068\u306f\u306a\u304f\u3001\u305d\u306e\u305f\u3081\u30af\u30e9\u30b9\u30bf\u30fc\u3092\u4f5c\u308b\u306e\u306b\u5fc5\u8981\u306a\u30d1\u30e9\u30e1\u30fc\u30bf\u306e\u5024\u306b\u3088\u3063\u3066\u306f\u3001\u4f8b3\u3067\u8003\u3048\u305f\u3082\u306e\u3068\u5168\u304f\u540c\u3058\u306b\u306a\u308b\u3053\u3068\u304c\u8003\u3048\u3089\u308c\u308b\u3002"
     ]
    },
    {
     "cell_type": "markdown",
     "metadata": {},
     "source": [
      "\u4ee5\u4e0a\u306e\u8a2d\u5b9a\u3092\u8003\u3048\u3066\u3001\u30b7\u30df\u30e5\u30ec\u30fc\u30b7\u30e7\u30f3\u3092\u884c\u3063\u3066\u307f\u308b\u3002"
     ]
    },
    {
     "cell_type": "code",
     "collapsed": false,
     "input": [
      "%matplotlib inline\n",
      "import matplotlib.pyplot as plt\n",
      "import numpy as np\n",
      "from scipy.spatial.distance import euclidean as euc\n",
      "import mpld3\n",
      "from mpld3 import plugins\n",
      "from mpld3.utils import get_id\n",
      "import collections\n",
      "from ipython_doctester import test"
     ],
     "language": "python",
     "metadata": {},
     "outputs": [],
     "prompt_number": 7
    },
    {
     "cell_type": "code",
     "collapsed": false,
     "input": [
      "class Person:\n",
      "    \n",
      "    def __init__(self, master, id, ideas, w):\n",
      "        \"\"\"Initialize argmunets.\n",
      "        \n",
      "        Keyword arguments:\n",
      "        master    : Master class (call from \"Meeting\")\n",
      "        self.id   : Id for each person [0, 1, ..., N-1]\n",
      "        self.ideas: ideas in space [0,1] \u00d7 [0,1]\n",
      "        self.w    : probability weight for the person to speak\n",
      "        \"\"\"\n",
      "        self.id = id\n",
      "        self.ideas = ideas\n",
      "        self.w = w\n",
      "        # add_ideas\n",
      "        master.ideas += [[(i1, i2), [self.id, 0]] for i1, i2 in self.ideas]\n",
      "        \n",
      "        \n",
      "class Meeting:\n",
      "    \n",
      "    def __init__(self, K, N, S=20, r=0.06, draw=True):\n",
      "        self.K = K\n",
      "        self.N = N\n",
      "        self.S = S\n",
      "        self.r = r\n",
      "        self.ideas = []\n",
      "        self.minutes = []\n",
      "        self.draw = draw\n",
      "        \n",
      "    def gather_people(self, ideass=None, weights=None):\n",
      "        \"\"\"Gather participants.\n",
      "        \n",
      "        Keyword arguments:\n",
      "        ideas  : list of ideas for each person\n",
      "               ex) [((0.3,0.1),(0.2,0.5)), ((0.5,0.6))] when N = 2\n",
      "        weights: list of weights for the probability of the person to speak\n",
      "        \"\"\"\n",
      "        if not ideass:\n",
      "            x = np.random.rand(self.N, self.S*2)\n",
      "            ideass = []\n",
      "            for _x in x:\n",
      "                ideass.append([(i,j) for i,j in zip(_x[::2], _x[1::2])])\n",
      "        if not weights:\n",
      "            weights = [1.] * self.N\n",
      "        for i, ideas, w in zip(range(self.N), ideass, weights):\n",
      "            Person(self, i, ideas, w)\n",
      "\n",
      "    def clustering(self):\n",
      "        self.cluster_link = []\n",
      "        cell_num = int(1./self.r)\n",
      "        lr = 1./cell_num\n",
      "        \n",
      "        cell = [[[]]*cell_num]*cell_num\n",
      "        rcell = []\n",
      "        for i, idea in enumerate(self.ideas):\n",
      "            cellx = int(idea[0][0]/lr)\n",
      "            celly = int(idea[0][1]/lr)\n",
      "            cell[cellx][celly].append(i)\n",
      "            rcell.append((cellx, celly))\n",
      "        \n",
      "        def uniq_list(seq):\n",
      "            seen = set()\n",
      "            seen_add = seen.add\n",
      "            return [x for x in seq if x not in seen and not seen_add(x)]\n",
      "        \n",
      "        def find_nearest(idea_id, num):\n",
      "            \"\"\"\n",
      "            \n",
      "            idea_id: index in self.ideas\n",
      "            \"\"\"\n",
      "            cx, cy = rcell[idea_id]\n",
      "            place = self.ideas[idea_id][0]\n",
      "            tmp = []\n",
      "            nearest = []\n",
      "            cid = []\n",
      "            for i in uniq_list([max(0, cx - 1), cx, min(cx + 1, cell_num - 1)]):\n",
      "                for j in uniq_list([max(0, cy - 1), cy, min(cy + 1, cell_num - 1)]):\n",
      "                    tmp += cell[i][j]\n",
      "            for i in tmp:\n",
      "                if euc(self.ideas[i][0], place) < self.r:\n",
      "                    nearest.append(i)\n",
      "                    prenum = self.ideas[i][1][1]\n",
      "                    if prenum == 0:\n",
      "                        cid.append(num)\n",
      "                        self.cluster_link.append((idea_id, i))\n",
      "                    elif prenum <= num:\n",
      "                        cid.append(prenum)\n",
      "                        self.cluster_link.append((idea_id, i))\n",
      "            if len(nearest) == 0:\n",
      "                self.ideas[idea_id][1][1] = num\n",
      "                return 1\n",
      "            else:\n",
      "                cluster_id = min(cid)\n",
      "                if cluster_id < num:\n",
      "                    ans = 0\n",
      "                else:\n",
      "                    ans = 1\n",
      "                for i in nearest:\n",
      "                    self.ideas[i][1][1] = cluster_id\n",
      "                return ans\n",
      "\n",
      "        num = 1\n",
      "        for i in range(len(self.ideas)):\n",
      "            num += find_nearest(i, num)\n",
      "    \n",
      "    def init(self):\n",
      "        self.gather_people()\n",
      "        self.clustering()\n",
      "#        self.subject = np.random.rand(self.a)\n",
      "#        self.minutes.append((self.subject, self.N))\n",
      "        if self.draw:\n",
      "            colors = ['b', 'g', 'r', 'c', 'm', 'y', 'k']\n",
      "            self.fig = plt.figure(figsize=(9, 9))\n",
      "            self.ax = self.fig.add_subplot(1, 1, 1)\n",
      "            self.labels = []\n",
      "            self.s1 = []\n",
      "            for idea, tag in self.ideas:\n",
      "                x = idea[0]\n",
      "                y = idea[1]\n",
      "                s = self.ax.scatter(\n",
      "                    x, y, c=colors[tag[0]%len(colors)], alpha=0.2)\n",
      "                self.labels.append(str(tag[0]))\n",
      "                self.s1.append(s)\n",
      "            data = []\n",
      "            for link in self.cluster_link:\n",
      "                ix = self.ideas[link[0]][0][0]\n",
      "                iy = self.ideas[link[0]][0][1]\n",
      "                jx = self.ideas[link[1]][0][0]\n",
      "                jy = self.ideas[link[1]][0][1]\n",
      "                data += [(ix, jx), (iy, jy), 'k']\n",
      "            self.ax.plot(*data)\n",
      "            \n",
      "    def progress(self):\n",
      "        self.init()\n",
      "        preidea = self.ideas[np.random.choice(range(len(self.ideas)))]\n",
      "        self.minutes.append(preidea)\n",
      "        l = list(self.ideas)\n",
      "        self.k = 1\n",
      "\n",
      "        while self.k < self.K + 1:\n",
      "            \n",
      "            # remove idea in the same cluster\n",
      "            for idea in l:\n",
      "                if preidea[1][1] == idea[1][1]:\n",
      "                    l.remove(idea)\n",
      "\n",
      "            # if no one can speak: meeting ends.\n",
      "            if len(l) == 0:\n",
      "                print \"no one can speak.\"\n",
      "                break\n",
      "\n",
      "            distance = []\n",
      "            for i in l:\n",
      "                distance.append((euc(preidea[0], i[0]), i))\n",
      "            idea = min(distance)[1]\n",
      "            self.minutes.append(idea)\n",
      "            preidea = idea\n",
      "            self.callback()\n",
      "            self.k += 1\n",
      "        self.after()\n",
      "\n",
      "    def callback(self):\n",
      "        if self.draw:\n",
      "            if self.minutes[-1][1] == self.N or self.minutes[-2][1] == self.N:\n",
      "                alpha = 0.2\n",
      "            else:\n",
      "                alpha = 1.0\n",
      "            ix = self.minutes[-2][0][0]\n",
      "            iy = self.minutes[-2][0][1]\n",
      "            jx = self.minutes[-1][0][0]\n",
      "            jy = self.minutes[-1][0][1]\n",
      "            l1 = self.ax.plot([ix, jx], [iy, jy], color='b', alpha=alpha)\n",
      "        else:\n",
      "            pass\n",
      "\n",
      "    def after(self):\n",
      "        if self.draw:\n",
      "#            plugins.connect(\n",
      "#                self.fig, plugins.InteractiveLegendPlugin(\n",
      "#                    self.s1, self.labels, ax=self.ax))\n",
      "#            mpld3.show()\n",
      "            plt.show()\n",
      "        else:\n",
      "            print meeting.minutes"
     ],
     "language": "python",
     "metadata": {},
     "outputs": [],
     "prompt_number": 16
    },
    {
     "cell_type": "code",
     "collapsed": false,
     "input": [
      "a = [1,2,3,4,5,6,7]\n",
      "preidea = np.random.choice(a)\n",
      "print preidea\n",
      "print a"
     ],
     "language": "python",
     "metadata": {},
     "outputs": [
      {
       "output_type": "stream",
       "stream": "stdout",
       "text": [
        "5\n",
        "[1, 2, 3, 4, 5, 6, 7]\n"
       ]
      }
     ],
     "prompt_number": 22
    },
    {
     "cell_type": "code",
     "collapsed": false,
     "input": [
      "meeting = Meeting(K=50, N=6, r=0.06, draw=True)\n",
      "meeting.progress()"
     ],
     "language": "python",
     "metadata": {},
     "outputs": [
      {
       "metadata": {},
       "output_type": "display_data",
       "png": "[encoded data removed]",
       "text": [
        "<matplotlib.figure.Figure at 0x7f116b0d5790>"
       ]
      }
     ],
     "prompt_number": 17
    },
    {
     "cell_type": "code",
     "collapsed": false,
     "input": [
      "sorted([(x[1][1], x[1][0], (x[0])) for x in meeting.ideas])"
     ],
     "language": "python",
     "metadata": {},
     "outputs": [
      {
       "metadata": {},
       "output_type": "pyout",
       "prompt_number": 4,
       "text": [
        "[(1, 0, (0.79279370062514076, 0.4593693692362385)),\n",
        " (1, 4, (0.76486340443386858, 0.41787690762710494)),\n",
        " (1, 5, (0.77126125241550403, 0.46751313753559898)),\n",
        " (2, 0, (0.36948807132647743, 0.11732074581746543)),\n",
        " (2, 0, (0.42950766836975762, 0.075439324354481196)),\n",
        " (2, 0, (0.46801514268722832, 0.076735737549269323)),\n",
        " (2, 1, (0.45177097299984503, 0.098749542609011365)),\n",
        " (2, 3, (0.34023389438214224, 0.091445453076554384)),\n",
        " (2, 3, (0.34105564023451707, 0.062664138445834294)),\n",
        " (2, 3, (0.38378930772079933, 0.078880229540904456)),\n",
        " (2, 4, (0.38332845895034351, 0.14000301843687246)),\n",
        " (2, 4, (0.40607211891399242, 0.14904904225533178)),\n",
        " (2, 5, (0.31447488989507411, 0.063667879617905654)),\n",
        " (2, 5, (0.35952041858112271, 0.0070754964138813881)),\n",
        " (3, 0, (0.39584384129586314, 0.50951332204997013)),\n",
        " (3, 0, (0.42176153109674186, 0.49409438484784585)),\n",
        " (3, 1, (0.419481428894521, 0.48590432696410002)),\n",
        " (4, 0, (0.99664065960363191, 0.45926163418834798)),\n",
        " (4, 3, (0.99460574857557804, 0.45770242091696822)),\n",
        " (6, 0, (0.3550781198212879, 0.72405118377789801)),\n",
        " (6, 2, (0.41488644781289574, 0.72757643643755932)),\n",
        " (7, 0, (0.30499652653307308, 0.21294510950364753)),\n",
        " (8, 0, (0.50242700413341557, 0.43415636191885798)),\n",
        " (8, 4, (0.51421978969687276, 0.45194546158254267)),\n",
        " (9, 0, (0.55816081778647286, 0.93250626809307346)),\n",
        " (10, 0, (0.67142792591857414, 0.095153762771782668)),\n",
        " (10, 1, (0.68469574394070221, 0.19767878685628459)),\n",
        " (10, 3, (0.67474139175999148, 0.1490816579460863)),\n",
        " (11, 0, (0.56965012121901115, 0.40080679229112548)),\n",
        " (12, 0, (0.17027723157090213, 0.39040423519659817)),\n",
        " (13, 0, (0.02322417632095275, 0.40274973548515125)),\n",
        " (13, 1, (0.0091813184547130389, 0.41611168955741107)),\n",
        " (13, 3, (0.020612857079281177, 0.3770017945921541)),\n",
        " (13, 3, (0.039121739723693261, 0.41798291065065529)),\n",
        " (13, 4, (0.019441679580978644, 0.370240308914357)),\n",
        " (13, 5, (0.051382027503452776, 0.3905916799063518)),\n",
        " (14, 0, (0.2934793513551498, 0.37802319841076226)),\n",
        " (14, 2, (0.34611065144538078, 0.38675607283255209)),\n",
        " (15, 0, (0.38947409004434208, 0.59931886439151105)),\n",
        " (15, 0, (0.44623298614683538, 0.60940753541408377)),\n",
        " (15, 1, (0.29025232796639966, 0.51099235760495432)),\n",
        " (15, 2, (0.31420183238018551, 0.55792014095805031)),\n",
        " (15, 2, (0.40887990444109601, 0.59525284833374903)),\n",
        " (15, 4, (0.33574591846168766, 0.57663646125258583)),\n",
        " (16, 0, (0.15669473114286958, 0.68827264959051959)),\n",
        " (16, 3, (0.15923311000658147, 0.65378023528030638)),\n",
        " (16, 4, (0.16938283225602913, 0.64457891060994099)),\n",
        " (17, 0, (0.5574696868701694, 0.57462349885014274)),\n",
        " (17, 4, (0.50740036473509564, 0.58133846195126371)),\n",
        " (17, 4, (0.54002302777067956, 0.62167999011741382)),\n",
        " (18, 1, (0.2520052473833102, 0.50231436308400024)),\n",
        " (18, 1, (0.28021306050090167, 0.43826314858623905)),\n",
        " (18, 1, (0.30867860381331291, 0.47728960884189009)),\n",
        " (18, 3, (0.22635696288246432, 0.49428941833064588)),\n",
        " (19, 1, (0.85907490106083806, 0.37369661889298822)),\n",
        " (20, 1, (0.085356428325018885, 0.67703910238708087)),\n",
        " (21, 1, (0.95934505060384523, 0.65151382805530045)),\n",
        " (21, 2, (0.98329311283727938, 0.65294544292041723)),\n",
        " (22, 1, (0.0015984327079826555, 0.53743993867213091)),\n",
        " (23, 1, (0.6929591596775001, 0.50307845925868189)),\n",
        " (23, 4, (0.66785558275325396, 0.45909684472960532)),\n",
        " (24, 1, (0.12144971535817428, 0.89363674627001732)),\n",
        " (24, 5, (0.12447354855934212, 0.88429152165148728)),\n",
        " (25, 1, (0.82866477931893379, 0.026982780342638901)),\n",
        " (25, 5, (0.82763856995318585, 0.021719269281030407)),\n",
        " (26, 1, (0.89578502701176121, 0.27380572779846057)),\n",
        " (26, 2, (0.85341002192225901, 0.26630035584901646)),\n",
        " (27, 1, (0.40946317607366223, 0.95543985439718648)),\n",
        " (27, 3, (0.49556807617410359, 0.95484198897108652)),\n",
        " (27, 4, (0.44555277697817186, 0.92486698179071347)),\n",
        " (28, 1, (0.90591860291140902, 0.88794289322421449)),\n",
        " (29, 1, (0.30461667910464441, 0.76603319510189571)),\n",
        " (30, 1, (0.77663408218946117, 0.31087076117917201)),\n",
        " (31, 2, (0.87109676406196368, 0.67635509093396595)),\n",
        " (31, 4, (0.9037494002076577, 0.70360933459909047)),\n",
        " (32, 2, (0.72597854811334717, 0.64876707250496979)),\n",
        " (32, 3, (0.70145614355456254, 0.68385270729700076)),\n",
        " (32, 3, (0.7815362692711636, 0.62764150892379389)),\n",
        " (32, 3, (0.80531130080760716, 0.65455810153158001)),\n",
        " (33, 2, (0.46195001080286324, 0.19464766545734369)),\n",
        " (34, 2, (0.2112768885255345, 0.19179671654587238)),\n",
        " (35, 2, (0.42130299413476846, 0.30342709208366514)),\n",
        " (35, 2, (0.4309643756821242, 0.29361189544108535)),\n",
        " (35, 4, (0.46171883875484354, 0.27930438700466298)),\n",
        " (35, 5, (0.46530982958162936, 0.31547206053334165)),\n",
        " (35, 5, (0.5114007390527201, 0.29010634872038055)),\n",
        " (36, 2, (0.29989997106960697, 0.97393545008136995)),\n",
        " (37, 2, (0.025038045069977755, 0.011906469306575573)),\n",
        " (38, 2, (0.97447171245968511, 0.91093585301684366)),\n",
        " (39, 2, (0.48839394977994688, 0.65651347856159736)),\n",
        " (40, 2, (0.74922413397001619, 0.13427621972267578)),\n",
        " (41, 2, (0.17908303681956939, 0.28414277987206005)),\n",
        " (41, 3, (0.2088340824081828, 0.31422478581959268)),\n",
        " (42, 2, (0.83844251072375653, 0.7388804185903618)),\n",
        " (42, 5, (0.80489226059650087, 0.77472255772216303)),\n",
        " (43, 2, (0.16886574300826351, 0.14089247309018238)),\n",
        " (44, 3, (0.90156751436336102, 0.975574784847832)),\n",
        " (44, 4, (0.85867877846480434, 0.99843006318364635)),\n",
        " (44, 4, (0.89088943372003926, 0.95901068602150896)),\n",
        " (45, 3, (0.62090985466359239, 0.95712939752303094)),\n",
        " (46, 3, (0.62561966595153673, 0.25693267033764577)),\n",
        " (47, 3, (0.2387591800496367, 0.97488125527831915)),\n",
        " (48, 3, (0.42734739705504377, 0.85083249554410201)),\n",
        " (49, 3, (0.78465087182924775, 0.85603962577198822)),\n",
        " (49, 5, (0.77802478503026629, 0.8899699698867003)),\n",
        " (50, 4, (0.23467311862132523, 0.89631618543789215)),\n",
        " (50, 5, (0.26278637253755621, 0.8464139524150236)),\n",
        " (51, 4, (0.61263076303194974, 0.016889680189875911)),\n",
        " (52, 4, (0.84573733222525049, 0.85192880303388863)),\n",
        " (53, 4, (0.49442631127724701, 0.80076848138100998)),\n",
        " (54, 4, (0.12726539590639796, 0.58663434848805862)),\n",
        " (55, 5, (0.96613951177570423, 0.17385760800608541)),\n",
        " (55, 5, (0.99567296370830938, 0.19202703220188533)),\n",
        " (56, 5, (0.34368396543619839, 0.92693179125244995)),\n",
        " (57, 5, (0.85859794112425813, 0.52408958138609107)),\n",
        " (58, 5, (0.12237844720290303, 0.24756806466588654)),\n",
        " (59, 5, (0.96515313010886783, 0.83464358764357371)),\n",
        " (60, 5, (0.53606886159172495, 0.16607094937322464)),\n",
        " (61, 5, (0.88010917577724956, 0.60924095753116758)),\n",
        " (62, 5, (0.24393108143564135, 0.10938293428265522))]"
       ]
      }
     ],
     "prompt_number": 4
    },
    {
     "cell_type": "code",
     "collapsed": false,
     "input": [
      "1. - max([x[1][1] for x in meeting.ideas])/float(len(meeting.ideas))"
     ],
     "language": "python",
     "metadata": {},
     "outputs": [
      {
       "metadata": {},
       "output_type": "pyout",
       "prompt_number": 5,
       "text": [
        "0.4833333333333333"
       ]
      }
     ],
     "prompt_number": 5
    },
    {
     "cell_type": "markdown",
     "metadata": {},
     "source": [
      "\u95be\u5024$r$\u3092\u5909\u3048\u305f\u3068\u304d\u306b\u610f\u898b\u306e\u7dcf\u6570\u306b\u5bfe\u3059\u308b\u30af\u30e9\u30b9\u30bf\u30fc\u306e\u6570\u3068\u306e\u95a2\u4fc2\u3002\u6a2a\u8ef8$r$\u3001\u7e26\u8ef8$1-(\\text{\u30af\u30e9\u30b9\u30bf\u30fc\u306e\u6570})/(\\text{\u610f\u898b\u306e\u7dcf\u6570})$\u3002"
     ]
    },
    {
     "cell_type": "code",
     "collapsed": false,
     "input": [
      "trial = 30\n",
      "r = np.linspace(0.001, 0.2, num=20)\n",
      "phi = []\n",
      "for _r in r:\n",
      "    _phi = 0.\n",
      "    for t in range(trial):\n",
      "        meeting = Meeting(K=50, N=6, r=_r, draw=False)\n",
      "        meeting.init()\n",
      "        _phi += max([x[1][1] for x in meeting.ideas])/float(len(meeting.ideas))\n",
      "    phi.append(1. - _phi/trial)\n",
      "plt.plot(r, phi)"
     ],
     "language": "python",
     "metadata": {},
     "outputs": [
      {
       "metadata": {},
       "output_type": "pyout",
       "prompt_number": 9,
       "text": [
        "[<matplotlib.lines.Line2D at 0x7f5aa8e79550>]"
       ]
      },
      {
       "metadata": {},
       "output_type": "display_data",
       "png": "[encoded data removed]",
       "text": [
        "<matplotlib.figure.Figure at 0x7f5aa8ef1c50>"
       ]
      }
     ],
     "prompt_number": 9
    },
    {
     "cell_type": "markdown",
     "metadata": {},
     "source": [
      "\u95be\u5024$r$\u3092\u5909\u3048\u305f\u3068\u304d\u306e\u6700\u5927\u30af\u30e9\u30b9\u30bf\u30fc\u306e\u30b5\u30a4\u30ba\u3068\u5168\u8981\u7d20\u6570\u3068\u306e\u9593\u306e\u95a2\u4fc2\u3002\u30af\u30e9\u30b9\u30bf\u30fc\u30b5\u30a4\u30ba\u3068\u306f\u3053\u3053\u3067\u306f\u540c\u3058\u30af\u30e9\u30b9\u305f\u2015\u5185\u306b\u542b\u307e\u308c\u308b\u8981\u7d20\u306e\u6570\u3002\n",
      "\n",
      "\u6a2a\u8ef8$r$\u3001\u7e26\u8ef8$(\\text{\u6700\u5927\u30af\u30e9\u30b9\u30bf\u30fc\u30b5\u30a4\u30ba})/(\\text{\u5168\u8981\u7d20\u6570})$"
     ]
    },
    {
     "cell_type": "code",
     "collapsed": false,
     "input": [
      "meeting = Meeting(K=50, N=6, r=0.2, draw=False)\n",
      "meeting.init()"
     ],
     "language": "python",
     "metadata": {},
     "outputs": []
    },
    {
     "cell_type": "code",
     "collapsed": false,
     "input": [
      "print collections.Counter([x[1][1] for x in meeting.ideas])\n",
      "max([v for v in collections.Counter([x[1][1] for x in meeting.ideas]).values()])/float(len(meeting.ideas))"
     ],
     "language": "python",
     "metadata": {},
     "outputs": [
      {
       "output_type": "stream",
       "stream": "stdout",
       "text": [
        "Counter({2: 11, 13: 6, 15: 6, 35: 5, 18: 4, 32: 4, 1: 3, 3: 3, 10: 3, 16: 3, 17: 3, 27: 3, 44: 3, 4: 2, 6: 2, 8: 2, 14: 2, 21: 2, 23: 2, 24: 2, 25: 2, 26: 2, 31: 2, 41: 2, 42: 2, 49: 2, 50: 2, 55: 2, 7: 1, 9: 1, 11: 1, 12: 1, 19: 1, 20: 1, 22: 1, 28: 1, 29: 1, 30: 1, 33: 1, 34: 1, 36: 1, 37: 1, 38: 1, 39: 1, 40: 1, 43: 1, 45: 1, 46: 1, 47: 1, 48: 1, 51: 1, 52: 1, 53: 1, 54: 1, 56: 1, 57: 1, 58: 1, 59: 1, 60: 1, 61: 1, 62: 1})\n"
       ]
      },
      {
       "metadata": {},
       "output_type": "pyout",
       "prompt_number": 8,
       "text": [
        "0.09166666666666666"
       ]
      }
     ],
     "prompt_number": 8
    },
    {
     "cell_type": "code",
     "collapsed": false,
     "input": [
      "trial = 30\n",
      "r = np.linspace(0.001, 0.2, num=20)\n",
      "phi = []\n",
      "for _r in r:\n",
      "    _phi = 0.\n",
      "    for t in range(trial):\n",
      "        meeting = Meeting(K=50, N=6, r=_r, draw=False)\n",
      "        meeting.init()\n",
      "        _phi += max([v for v in collections.Counter([x[1][1] for x in meeting.ideas]).values()])/float(len(meeting.ideas))\n",
      "    phi.append(_phi/trial)\n",
      "plt.plot(r, phi)"
     ],
     "language": "python",
     "metadata": {},
     "outputs": [
      {
       "metadata": {},
       "output_type": "pyout",
       "prompt_number": 57,
       "text": [
        "[<matplotlib.lines.Line2D at 0x7f5aa5f1d9d0>]"
       ]
      },
      {
       "metadata": {},
       "output_type": "display_data",
       "png": "[encoded data removed]",
       "text": [
        "<matplotlib.figure.Figure at 0x7f5aa494e850>"
       ]
      }
     ],
     "prompt_number": 57
    },
    {
     "cell_type": "code",
     "collapsed": false,
     "input": [
      "import pandas as pd\n",
      "pd.DataFrame(np.array([r, phi]).T)"
     ],
     "language": "python",
     "metadata": {},
     "outputs": [
      {
       "html": [
        "<div style=\"max-height:1000px;max-width:1500px;overflow:auto;\">\n",
        "<table border=\"1\" class=\"dataframe\">\n",
        "  <thead>\n",
        "    <tr style=\"text-align: right;\">\n",
        "      <th></th>\n",
        "      <th>0</th>\n",
        "      <th>1</th>\n",
        "    </tr>\n",
        "  </thead>\n",
        "  <tbody>\n",
        "    <tr>\n",
        "      <th>0 </th>\n",
        "      <td> 0.001000</td>\n",
        "      <td> 0.000000</td>\n",
        "    </tr>\n",
        "    <tr>\n",
        "      <th>1 </th>\n",
        "      <td> 0.011474</td>\n",
        "      <td> 0.023056</td>\n",
        "    </tr>\n",
        "    <tr>\n",
        "      <th>2 </th>\n",
        "      <td> 0.021947</td>\n",
        "      <td> 0.081389</td>\n",
        "    </tr>\n",
        "    <tr>\n",
        "      <th>3 </th>\n",
        "      <td> 0.032421</td>\n",
        "      <td> 0.181667</td>\n",
        "    </tr>\n",
        "    <tr>\n",
        "      <th>4 </th>\n",
        "      <td> 0.042895</td>\n",
        "      <td> 0.283333</td>\n",
        "    </tr>\n",
        "    <tr>\n",
        "      <th>5 </th>\n",
        "      <td> 0.053368</td>\n",
        "      <td> 0.406111</td>\n",
        "    </tr>\n",
        "    <tr>\n",
        "      <th>6 </th>\n",
        "      <td> 0.063842</td>\n",
        "      <td> 0.522222</td>\n",
        "    </tr>\n",
        "    <tr>\n",
        "      <th>7 </th>\n",
        "      <td> 0.074316</td>\n",
        "      <td> 0.635278</td>\n",
        "    </tr>\n",
        "    <tr>\n",
        "      <th>8 </th>\n",
        "      <td> 0.084789</td>\n",
        "      <td> 0.711667</td>\n",
        "    </tr>\n",
        "    <tr>\n",
        "      <th>9 </th>\n",
        "      <td> 0.095263</td>\n",
        "      <td> 0.788056</td>\n",
        "    </tr>\n",
        "    <tr>\n",
        "      <th>10</th>\n",
        "      <td> 0.105737</td>\n",
        "      <td> 0.833611</td>\n",
        "    </tr>\n",
        "    <tr>\n",
        "      <th>11</th>\n",
        "      <td> 0.116211</td>\n",
        "      <td> 0.869444</td>\n",
        "    </tr>\n",
        "    <tr>\n",
        "      <th>12</th>\n",
        "      <td> 0.126684</td>\n",
        "      <td> 0.900833</td>\n",
        "    </tr>\n",
        "    <tr>\n",
        "      <th>13</th>\n",
        "      <td> 0.137158</td>\n",
        "      <td> 0.920556</td>\n",
        "    </tr>\n",
        "    <tr>\n",
        "      <th>14</th>\n",
        "      <td> 0.147632</td>\n",
        "      <td> 0.955000</td>\n",
        "    </tr>\n",
        "    <tr>\n",
        "      <th>15</th>\n",
        "      <td> 0.158105</td>\n",
        "      <td> 0.972500</td>\n",
        "    </tr>\n",
        "    <tr>\n",
        "      <th>16</th>\n",
        "      <td> 0.168579</td>\n",
        "      <td> 0.977778</td>\n",
        "    </tr>\n",
        "    <tr>\n",
        "      <th>17</th>\n",
        "      <td> 0.179053</td>\n",
        "      <td> 0.982500</td>\n",
        "    </tr>\n",
        "    <tr>\n",
        "      <th>18</th>\n",
        "      <td> 0.189526</td>\n",
        "      <td> 0.988333</td>\n",
        "    </tr>\n",
        "    <tr>\n",
        "      <th>19</th>\n",
        "      <td> 0.200000</td>\n",
        "      <td> 0.991389</td>\n",
        "    </tr>\n",
        "  </tbody>\n",
        "</table>\n",
        "<p>20 rows \u00d7 2 columns</p>\n",
        "</div>"
       ],
       "metadata": {},
       "output_type": "pyout",
       "prompt_number": 10,
       "text": [
        "           0         1\n",
        "0   0.001000  0.000000\n",
        "1   0.011474  0.023056\n",
        "2   0.021947  0.081389\n",
        "3   0.032421  0.181667\n",
        "4   0.042895  0.283333\n",
        "5   0.053368  0.406111\n",
        "6   0.063842  0.522222\n",
        "7   0.074316  0.635278\n",
        "8   0.084789  0.711667\n",
        "9   0.095263  0.788056\n",
        "10  0.105737  0.833611\n",
        "11  0.116211  0.869444\n",
        "12  0.126684  0.900833\n",
        "13  0.137158  0.920556\n",
        "14  0.147632  0.955000\n",
        "15  0.158105  0.972500\n",
        "16  0.168579  0.977778\n",
        "17  0.179053  0.982500\n",
        "18  0.189526  0.988333\n",
        "19  0.200000  0.991389\n",
        "\n",
        "[20 rows x 2 columns]"
       ]
      }
     ],
     "prompt_number": 10
    },
    {
     "cell_type": "code",
     "collapsed": false,
     "input": [
      "cell_num = 14\n",
      "[[[]]*cell_num]*cell_num"
     ],
     "language": "python",
     "metadata": {},
     "outputs": [
      {
       "metadata": {},
       "output_type": "pyout",
       "prompt_number": 20,
       "text": [
        "[[[], [], [], [], [], [], [], [], [], [], [], [], [], []],\n",
        " [[], [], [], [], [], [], [], [], [], [], [], [], [], []],\n",
        " [[], [], [], [], [], [], [], [], [], [], [], [], [], []],\n",
        " [[], [], [], [], [], [], [], [], [], [], [], [], [], []],\n",
        " [[], [], [], [], [], [], [], [], [], [], [], [], [], []],\n",
        " [[], [], [], [], [], [], [], [], [], [], [], [], [], []],\n",
        " [[], [], [], [], [], [], [], [], [], [], [], [], [], []],\n",
        " [[], [], [], [], [], [], [], [], [], [], [], [], [], []],\n",
        " [[], [], [], [], [], [], [], [], [], [], [], [], [], []],\n",
        " [[], [], [], [], [], [], [], [], [], [], [], [], [], []],\n",
        " [[], [], [], [], [], [], [], [], [], [], [], [], [], []],\n",
        " [[], [], [], [], [], [], [], [], [], [], [], [], [], []],\n",
        " [[], [], [], [], [], [], [], [], [], [], [], [], [], []],\n",
        " [[], [], [], [], [], [], [], [], [], [], [], [], [], []]]"
       ]
      }
     ],
     "prompt_number": 20
    },
    {
     "cell_type": "code",
     "collapsed": false,
     "input": [
      "@test\n",
      "def uniq_list(seq):\n",
      "    \"\"\"\n",
      "    >>> a = [1, 2, 5, 6, 7, 3, 2, 0]\n",
      "    >>> uniq_list(a)\n",
      "    [1, 2, 5, 6, 7, 3, 0]\n",
      "    \"\"\"\n",
      "    seen = set()\n",
      "    seen_add = seen.add\n",
      "    return [x for x in seq if x not in seen and not seen_add(x)]\n"
     ],
     "language": "python",
     "metadata": {},
     "outputs": [
      {
       "html": [
        "\n",
        "      <p style=\"color:green;font-size:250%;font-weight=bold\">Success!</p>\n",
        "      "
       ],
       "metadata": {},
       "output_type": "display_data"
      }
     ],
     "prompt_number": 44
    }
   ],
   "metadata": {}
  }
 ]
}