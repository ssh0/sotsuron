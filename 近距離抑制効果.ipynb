{
 "metadata": {
  "name": "",
  "signature": "sha256:0d44bbceb978517a21b3d6453e50192da60e83bd8a8b0538576a1fcf5cd7bd48"
 },
 "nbformat": 3,
 "nbformat_minor": 0,
 "worksheets": [
  {
   "cells": [
    {
     "cell_type": "heading",
     "level": 1,
     "metadata": {},
     "source": [
      "\u8fd1\u8ddd\u96e2\u3067\u3042\u308b\u3053\u3068\u306b\u3088\u308b\u53cd\u5fdc\u306e\u6291\u5236\u5316"
     ]
    },
    {
     "cell_type": "markdown",
     "metadata": {},
     "source": [
      "\u610f\u898b\u3092\u63d0\u51fa\u3059\u308b\u969b\u306b\u500b\u4eba\u3068\u3057\u3066\u611f\u3058\u308b\u3053\u3068\u306f\u4f55\u304b\u3001\u3068\u3044\u3046\u3053\u3068\u3092\u8003\u3048\u308b\u3068\u3001\u4ed6\u306e\u4eba\u304c\u81ea\u5206\u3068\u4f3c\u305f\u3088\u3046\u306a\u610f\u898b\u3092\u51fa\u3059\u306e\u3067\u306f\u306a\u3044\u304b\u3001\u3068\u3044\u3046\u70b9\u304b\u3089\u767a\u8a00\u3092\u63a7\u3048\u308b\u3068\u3044\u3046\u5834\u9762\u304c\u8003\u3048\u3089\u308c\u308b\u3002\u307e\u305f\u3001\u3053\u308c\u3092\u4ee3\u8b1d\u7cfb\u306a\u3069\u306e\u5316\u5b66\u53cd\u5fdc\u306b\u843d\u3068\u3057\u8fbc\u3093\u3060\u969b\u306b\u306f\u3001\u3053\u306e\u3088\u3046\u306a\u8fd1\u3044\u4f4d\u7f6e\u306e\u610f\u898b\u306f\u3059\u3079\u3066\u540c\u4e00\u306e\u7269\u8cea\u3092\u8868\u3057\u3066\u3044\u308b\u3068\u3044\u3046\u3088\u3046\u306b\u8003\u3048\u308b\u3053\u3068\u3082\u3067\u304d\u308b\u3002\u305d\u306e\u3088\u3046\u306b\u8003\u3048\u308c\u3070\u3001\u4f3c\u305f\u3088\u3046\u306a\u6027\u8cea\u304c\u7e2e\u7d04\u3055\u308c\u3066\u3057\u307e\u3046\u306e\u3067\u5168\u4f53\u3068\u3057\u3066\u306e\u52b9\u7387\u304c\u4e0b\u304c\u3063\u3066\u3057\u307e\u3046\u3068\u3044\u3046\u7d50\u679c\u3092\u3082\u305f\u3089\u3059\u306e\u304b\u3082\u3057\u308c\u306a\u3044\u3002\n"
     ]
    },
    {
     "cell_type": "markdown",
     "metadata": {},
     "source": [
      "Note: \u5316\u5b66\u53cd\u5fdc\u3067\u3082\u540c\u3058\u3088\u3046\u306b1\u5206\u5b50\u3067\u306e\u53cd\u5fdc\u3068\u3088\u304f\u6df7\u3056\u3063\u305f\u591a\u6570\u306e\u7c92\u5b50\u306e\u53cd\u5fdc\u306e\u9593\u3067\u30a8\u30cd\u30eb\u30ae\u30fc\u7684\u306a\u5dee\u306b\u6709\u7121\u304c\u3042\u308b\u306e\u304b\u306b\u3064\u3044\u3066\u8abf\u3079\u308b\u5fc5\u8981\u304c\u3042\u308b\u3002"
     ]
    },
    {
     "cell_type": "markdown",
     "metadata": {},
     "source": [
      "\u3053\u308c\u3092\u4eca\u307e\u3067\u4f1a\u8b70\u306e\u30e2\u30c7\u30eb\u3068\u3057\u3066\u8003\u3048\u3066\u304d\u305f\u3082\u306e\u306b\u9069\u5fdc\u3059\u308b\u3068\u304d\u306b\u306f\u3001\u610f\u898b\u306e\u8fd1\u3044\u3082\u306e(\u95be\u5024\u3088\u308a\u3082\u8fd1\u3044\u8ddd\u96e2\u306b\u3042\u308b\u610f\u898b)\u306f\u540c\u3058\u610f\u898b\u3092\u6307\u3059\u3068\u8003\u3048\u3001\u3053\u306e\u3088\u3046\u306a\u610f\u898b\u306f\u4ee5\u524d\u306b\u767a\u8a00\u3055\u308c\u3066\u3044\u308b\u3068\u304d\u306b\u306f\u6b21\u306e\u767a\u8a00\u8005\u306f\u305d\u306e\u3088\u3046\u306a\u610f\u898b\u306f\u9078\u3073\u306b\u304f\u3044\u3001\u3068\u3044\u3046\u3053\u3068\u3092\u53cd\u6620\u3057\u305f\u30e2\u30c7\u30eb\u3067\u3042\u308b\u3053\u3068\u304c\u6c42\u3081\u3089\u308c\u308b\u3002"
     ]
    },
    {
     "cell_type": "markdown",
     "metadata": {},
     "source": [
      "\u5177\u4f53\u7684\u306a\u30e2\u30c7\u30eb\u3068\u3057\u3066\u3001\u6709\u9650\u500b\u6570\u306e\u610f\u898b\u304c\u72b6\u614b\u7a7a\u9593\u4e0a\u306b\u5206\u5e03\u3057\u3066\u3044\u308b\u3068\u304d\u306b\u3001\u3042\u308b\u95be\u5024$r$\u3088\u308a\u3082\u8fd1\u3044\u8ddd\u96e2\u306b\u3042\u308b\u70b9\u540c\u58eb\u3092\u30ce\u30fc\u30c9\u3067\u3064\u306a\u3044\u3067\u3044\u304d\u3001\u305d\u3046\u3057\u3066\u9023\u7d50\u3055\u308c\u305f\u30ce\u30fc\u30c9\u3068\u30ea\u30f3\u30af\u3092\u4e00\u3064\u306e\u30af\u30e9\u30b9\u30bf\u30fc\u3068\u3059\u308b\u3002\u305d\u3057\u3066\u610f\u898b\u306e\u9078\u3073\u65b9\u306f\u3001\u3042\u308b\u6642\u523b\u306b\u9078\u3070\u308c\u305f\u610f\u898b\u304b\u3089\u4e00\u756a\u8fd1\u3044\u4f4d\u7f6e\u306b\u30ce\u30fc\u30c9\u3092\u3082\u3064\u3088\u3046\u306a\u30af\u30e9\u30b9\u30bf\u30fc\u306e\u4e2d\u304b\u3089\u9078\u3076\u3053\u3068\u3068\u3059\u308b\u3002\u3053\u306e\u3068\u304d\u30af\u30e9\u30b9\u30bf\u30fc\u306e\u5185\u90e8\u3067\u3069\u306e\u610f\u898b\u3092\u9078\u3076\u304b\u306e\u898f\u5247\u306b\u3064\u3044\u3066\u306f\u3001\u305d\u308c\u305e\u308c\u306e\u4eba\u306e\u767a\u8a00\u529b\u3068\u306e\u95a2\u4fc2\u3067\u6c7a\u3081\u308b\u3053\u3068\u306b\u3059\u308b\u3002\u307e\u305f\u3001\u3042\u308b\u6642\u523b\u306b\u610f\u898b\u304c\u9078\u3070\u308c\u305f\u3068\u304d\u3001\u305d\u306e\u610f\u898b\u304b\u3089\u306e\u8ddd\u96e2\u304c\u4e00\u756a\u8fd1\u3044\u30af\u30e9\u30b9\u30bf\u30fc\u304b\u3089\u6b21\u306e\u610f\u898b\u3092\u9078\u3076\u3053\u3068\u306b\u3059\u308b\u3002\u4e00\u5ea6\u610f\u898b\u304c\u9078\u3070\u308c\u305f\u30af\u30e9\u30b9\u30bf\u30fc\u306f\u3082\u3046\u4e00\u5ea6\u9078\u3070\u308c\u308b\u3053\u3068\u306f\u306a\u304f\u3001\u305d\u306e\u305f\u3081\u30af\u30e9\u30b9\u30bf\u30fc\u3092\u4f5c\u308b\u306e\u306b\u5fc5\u8981\u306a\u30d1\u30e9\u30e1\u30fc\u30bf\u306e\u5024\u306b\u3088\u3063\u3066\u306f\u3001\u4f8b3\u3067\u8003\u3048\u305f\u3082\u306e\u3068\u5168\u304f\u540c\u3058\u306b\u306a\u308b\u3053\u3068\u304c\u8003\u3048\u3089\u308c\u308b\u3002"
     ]
    },
    {
     "cell_type": "markdown",
     "metadata": {},
     "source": [
      "\u4ee5\u4e0a\u306e\u8a2d\u5b9a\u3092\u8003\u3048\u3066\u3001\u30b7\u30df\u30e5\u30ec\u30fc\u30b7\u30e7\u30f3\u3092\u884c\u3063\u3066\u307f\u308b\u3002"
     ]
    },
    {
     "cell_type": "code",
     "collapsed": false,
     "input": [
      "%matplotlib inline\n",
      "import matplotlib.pyplot as plt\n",
      "import numpy as np\n",
      "from scipy.spatial.distance import euclidean as euc\n",
      "import collections\n",
      "from scipy.optimize import leastsq\n",
      "from ipython_doctester import test"
     ],
     "language": "python",
     "metadata": {},
     "outputs": [],
     "prompt_number": 57
    },
    {
     "cell_type": "code",
     "collapsed": false,
     "input": [
      "def uniq_list(seq):\n",
      "    seen = set()\n",
      "    seen_add = seen.add\n",
      "    return [x for x in seq if x not in seen and not seen_add(x)]\n",
      "\n",
      "\n",
      "class Person:\n",
      "    \n",
      "    def __init__(self, master, id, ideas, w):\n",
      "        \"\"\"Initialize argmunets.\n",
      "        \n",
      "        Keyword arguments:\n",
      "        master    : Master class (call from \"Meeting\")\n",
      "        self.id   : Id for each person [0, 1, ..., N-1]\n",
      "        self.ideas: ideas in space [0,1] \u00d7 [0,1]\n",
      "        self.w    : probability weight for the person to speak\n",
      "        \"\"\"\n",
      "        self.id = id\n",
      "        self.ideas = ideas\n",
      "        self.w = w\n",
      "        # add_ideas : place, tag : (x, y), [person_id, cluster_id]\n",
      "        master.ideas += [[(i1, i2), [self.id, 0]] for i1, i2 in self.ideas]\n",
      "\n",
      "\n",
      "class Cluster:\n",
      "    \n",
      "    def __init__(self, ideas, r):\n",
      "        \"\"\"make cluster with self.r\n",
      "        \n",
      "        cluster_link:        \n",
      "        \"\"\"\n",
      "        self.ideas = ideas\n",
      "        self.r = r\n",
      "        self.cluster_link = []\n",
      "        self.clustering()\n",
      "        \n",
      "    def clustering(self):\n",
      "        self.cell_num = int(1./self.r)\n",
      "        lr = 1./self.cell_num\n",
      "        \n",
      "        self.cell = dict() # key: (cellx,celly), value: list of ids\n",
      "        self.rcell = []\n",
      "        for i, idea in enumerate(self.ideas):\n",
      "            cellx = int(idea[0][0]/lr)\n",
      "            celly = int(idea[0][1]/lr)\n",
      "            if self.cell.has_key((cellx, celly)):\n",
      "                self.cell[(cellx, celly)] += [i]\n",
      "            else:\n",
      "                self.cell[(cellx, celly)] = [i]\n",
      "            self.rcell.append((cellx, celly))\n",
      "        num = 1\n",
      "        for i in range(len(self.ideas)):\n",
      "            num += self.find_nearest(i, num)\n",
      "        return self.cluster_link\n",
      "\n",
      "    def find_nearest(self, idea_id, num):\n",
      "        \"\"\"find nearest idea\n",
      "\n",
      "        idea_id: index in self.ideas\n",
      "        \"\"\"\n",
      "        cx, cy = self.rcell[idea_id]\n",
      "        place = self.ideas[idea_id][0]\n",
      "        tmp = []\n",
      "        nearest = []\n",
      "        cid = [num]\n",
      "        for i in uniq_list([max(0, cx - 1), cx, min(cx + 1, self.cell_num - 1)]):\n",
      "            for j in uniq_list([max(0, cy - 1), cy, min(cy + 1, self.cell_num - 1)]):\n",
      "                if self.cell.has_key((i, j)):\n",
      "                    tmp += self.cell[(i, j)]\n",
      "        tmp.remove(idea_id)\n",
      "        if len(tmp) == 0:\n",
      "            self.ideas[idea_id][1][1] = num\n",
      "            return 1\n",
      "        else:\n",
      "            for k in tmp:\n",
      "                if euc(self.ideas[k][0], place) < self.r:\n",
      "                    nearest.append(k)\n",
      "                    prenum = self.ideas[k][1][1]\n",
      "                    if prenum == 0:\n",
      "                        cid.append(num)\n",
      "                        self.cluster_link.append((idea_id, k))\n",
      "                    elif prenum < num:\n",
      "                        cid.append(prenum)\n",
      "                        if not (k, idea_id) in self.cluster_link:\n",
      "                            self.cluster_link.append((idea_id, k))\n",
      "                    else:\n",
      "                        raise KeyboardInterrupt(\"Something wrong. exiting...\")\n",
      "\n",
      "            cluster_id = min(cid)\n",
      "            if cluster_id < num:\n",
      "                ans = 0\n",
      "            else:\n",
      "                ans = 1\n",
      "            self.ideas[idea_id][1][1] = cluster_id\n",
      "            for i in nearest:\n",
      "                self.ideas[i][1][1] = cluster_id\n",
      "            cid.remove(num)\n",
      "            if len(cid) != 0:\n",
      "                cid.remove(cluster_id)\n",
      "                if len(cid) != 0:\n",
      "                    for i in cid:\n",
      "                        for x in self.ideas:\n",
      "                            if x[1][1] == i:\n",
      "                                x[1][1] = cluster_id\n",
      "            return ans\n",
      "\n",
      "        \n",
      "class Meeting:\n",
      "    \n",
      "    def __init__(self, K, N, S=20, r=0.06, draw=True):\n",
      "        self.K = K\n",
      "        self.N = N\n",
      "        self.S = S\n",
      "        self.r = r\n",
      "        self.ideas = []\n",
      "        self.minutes = []\n",
      "        self.draw = draw\n",
      "        \n",
      "    def gather_people(self, ideass=None, weights=None):\n",
      "        \"\"\"Gather participants.\n",
      "        \n",
      "        Keyword arguments:\n",
      "        ideas  : list of ideas for each person\n",
      "               ex) [((0.3,0.1),(0.2,0.5)), ((0.5,0.6))] when N = 2\n",
      "        weights: list of weights for the probability of the person to speak\n",
      "        \"\"\"\n",
      "        if not ideass:\n",
      "            x = np.random.rand(self.N, self.S*2)\n",
      "            ideass = []\n",
      "            for _x in x:\n",
      "                ideass.append([(i,j) for i,j in zip(_x[::2], _x[1::2])])\n",
      "        if not weights:\n",
      "            weights = [1.] * self.N\n",
      "        for i, ideas, w in zip(range(self.N), ideass, weights):\n",
      "            Person(self, i, ideas, w)\n",
      "\n",
      "    def init(self):\n",
      "        self.gather_people()\n",
      "        cluster = Cluster(self.ideas, self.r)\n",
      "        self.cluster_link = cluster.cluster_link\n",
      "        if self.draw:\n",
      "            colors = ['b', 'g', 'r', 'c', 'm', 'y', 'k']\n",
      "            self.fig = plt.figure(figsize=(9, 9))\n",
      "            self.ax = self.fig.add_subplot(1, 1, 1)\n",
      "            self.labels = []\n",
      "            self.s1 = []\n",
      "            for idea, tag in self.ideas:\n",
      "                x = idea[0]\n",
      "                y = idea[1]\n",
      "                s = self.ax.scatter(x, y,\n",
      "                                    c=colors[tag[0]%len(colors)],\n",
      "                                    alpha=0.2)\n",
      "                self.s1.append(s)\n",
      "            data = []\n",
      "            for link in self.cluster_link:\n",
      "                ix = self.ideas[link[0]][0][0]\n",
      "                iy = self.ideas[link[0]][0][1]\n",
      "                jx = self.ideas[link[1]][0][0]\n",
      "                jy = self.ideas[link[1]][0][1]\n",
      "                data += [(ix, jx), (iy, jy), 'k']\n",
      "            self.ax.plot(*data, alpha=0.5)\n",
      "            \n",
      "    def progress(self):\n",
      "        self.init()\n",
      "        preidea = self.ideas[np.random.choice(range(len(self.ideas)))]\n",
      "        self.minutes.append(preidea)\n",
      "        l = list(self.ideas)\n",
      "        self.k = 1\n",
      "\n",
      "        while self.k < self.K + 1:\n",
      "            \n",
      "            # remove ideas in the same cluster\n",
      "            l = [idea for idea in l if idea[1][1] != preidea[1][1]]\n",
      "\n",
      "            # if no one can speak: meeting ends.\n",
      "            if len(l) == 0:\n",
      "                print \"no one can speak.\"\n",
      "                break\n",
      "\n",
      "            distance = []\n",
      "            for i in l:\n",
      "                distance.append((euc(preidea[0], i[0]), i))\n",
      "            idea = min(distance)[1]\n",
      "            self.minutes.append(idea)\n",
      "            preidea = idea\n",
      "            self.callback()\n",
      "            self.k += 1\n",
      "        self.after()\n",
      "\n",
      "    def callback(self):\n",
      "        if self.draw:\n",
      "            ix = self.minutes[-2][0][0]\n",
      "            iy = self.minutes[-2][0][1]\n",
      "            jx = self.minutes[-1][0][0]\n",
      "            jy = self.minutes[-1][0][1]\n",
      "            l1 = self.ax.plot([ix, jx], [iy, jy], color='b', alpha=0.5)\n",
      "            self.ax.text((ix+jx)/2, (iy+jy)/2, self.k)\n",
      "        else:\n",
      "            pass\n",
      "\n",
      "    def after(self):\n",
      "        if self.draw:\n",
      "            plt.show()\n",
      "        else:\n",
      "            pass"
     ],
     "language": "python",
     "metadata": {},
     "outputs": [],
     "prompt_number": 2
    },
    {
     "cell_type": "code",
     "collapsed": false,
     "input": [
      "meeting = Meeting(K=20, N=6, S=20, r=0.1, draw=True)\n",
      "meeting.progress()"
     ],
     "language": "python",
     "metadata": {},
     "outputs": [
      {
       "output_type": "stream",
       "stream": "stdout",
       "text": [
        "no one can speak.\n"
       ]
      },
      {
       "metadata": {},
       "output_type": "display_data",
       "png": "[encoded data removed]",
       "text": [
        "<matplotlib.figure.Figure at 0x7f140acb5810>"
       ]
      }
     ],
     "prompt_number": 3
    },
    {
     "cell_type": "code",
     "collapsed": false,
     "input": [
      "print sorted([x[1][1] for x in meeting.minutes])\n",
      "print meeting.cluster_link\n",
      "sorted([(x[1][1], x[1][0], (x[0])) for x in meeting.ideas])"
     ],
     "language": "python",
     "metadata": {},
     "outputs": [
      {
       "output_type": "stream",
       "stream": "stdout",
       "text": [
        "[1, 4, 6, 7, 12, 14, 17, 18, 19, 20, 21, 22, 23, 24, 25, 26]\n",
        "[(0, 4), (0, 75), (0, 27), (0, 95), (0, 71), (0, 51), (1, 14), (1, 13), (1, 62), (2, 73), (3, 7), (3, 56), (4, 80), (4, 116), (4, 75), (4, 27), (4, 37), (5, 24), (5, 61), (6, 29), (7, 56), (8, 48), (8, 28), (8, 115), (9, 110), (9, 60), (10, 104), (10, 15), (10, 34), (10, 103), (10, 118), (10, 19), (11, 22), (11, 55), (11, 112), (11, 60), (11, 74), (12, 84), (12, 23), (12, 43), (13, 62), (13, 24), (13, 59), (15, 90), (15, 104), (15, 119), (15, 34), (15, 103), (15, 118), (16, 42), (16, 58), (17, 107), (17, 70), (17, 105), (18, 32), (18, 97), (21, 44), (21, 47), (21, 102), (21, 89), (21, 49), (22, 50), (22, 76), (22, 55), (22, 112), (22, 74), (22, 27), (23, 84), (23, 43), (24, 59), (25, 87), (25, 36), (25, 92), (26, 68), (26, 114), (26, 66), (26, 70), (26, 105), (27, 75), (27, 95), (28, 48), (28, 57), (28, 98), (28, 115), (28, 69), (29, 79), (29, 88), (30, 66), (30, 70), (30, 40), (30, 54), (30, 81), (31, 71), (31, 32), (31, 51), (32, 71), (32, 51), (32, 97), (33, 85), (34, 104), (34, 103), (34, 118), (35, 56), (35, 65), (35, 84), (35, 43), (36, 87), (36, 92), (36, 100), (36, 118), (37, 80), (37, 116), (37, 106), (38, 44), (38, 47), (39, 40), (39, 54), (40, 54), (41, 52), (41, 77), (41, 91), (42, 88), (42, 58), (42, 109), (43, 65), (43, 84), (44, 47), (44, 102), (44, 89), (45, 93), (45, 116), (47, 102), (47, 89), (48, 57), (48, 98), (48, 115), (50, 61), (50, 76), (50, 73), (50, 55), (50, 112), (50, 74), (51, 95), (51, 71), (51, 97), (53, 78), (53, 108), (54, 81), (55, 61), (55, 76), (55, 112), (55, 74), (57, 98), (57, 115), (57, 69), (57, 90), (57, 119), (58, 109), (59, 62), (60, 73), (60, 110), (60, 74), (61, 76), (61, 73), (61, 112), (63, 101), (63, 65), (65, 84), (66, 70), (66, 105), (66, 81), (67, 86), (67, 94), (68, 114), (68, 105), (69, 115), (70, 105), (72, 82), (73, 76), (73, 112), (74, 112), (76, 112), (77, 91), (78, 108), (79, 88), (80, 116), (80, 106), (86, 94), (89, 117), (89, 107), (90, 98), (90, 104), (90, 119), (92, 100), (92, 118), (98, 111), (98, 115), (98, 119), (99, 113), (100, 103), (100, 118), (103, 104), (103, 118), (104, 119), (104, 118), (105, 107), (107, 117)]\n"
       ]
      },
      {
       "metadata": {},
       "output_type": "pyout",
       "prompt_number": 4,
       "text": [
        "[(1, 0, (0.25407364621471951, 0.063223400588987899)),\n",
        " (1, 0, (0.30432838667084927, 0.074744576741279212)),\n",
        " (1, 0, (0.35406474701432356, 0.12735279117769027)),\n",
        " (1, 0, (0.44568957896853567, 0.32940398236242818)),\n",
        " (1, 0, (0.48822324386019733, 0.22011256451104766)),\n",
        " (1, 0, (0.60977297282838561, 0.47028889326615586)),\n",
        " (1, 0, (0.6880473478763468, 0.34667150120051393)),\n",
        " (1, 0, (0.76765164502716543, 0.13300404834994428)),\n",
        " (1, 0, (0.82612888140171958, 0.17980660532718873)),\n",
        " (1, 0, (0.99221097520146151, 0.27587500119147745)),\n",
        " (1, 1, (0.41611269874376344, 0.18230128699452464)),\n",
        " (1, 1, (0.68171433388609393, 0.25187762240666478)),\n",
        " (1, 1, (0.77069919334321713, 0.21401968955709094)),\n",
        " (1, 1, (0.80924406709874019, 0.05513988406261483)),\n",
        " (1, 1, (0.9355684722108415, 0.24484351222662104)),\n",
        " (1, 1, (0.95302292330155558, 0.15165326566872261)),\n",
        " (1, 2, (0.43551030995187578, 0.12912240202436243)),\n",
        " (1, 2, (0.58936694835456571, 0.28024688077276438)),\n",
        " (1, 2, (0.61454043592842877, 0.061347631573680395)),\n",
        " (1, 2, (0.62520235936557977, 0.27041668218383463)),\n",
        " (1, 2, (0.90151732411570362, 0.20217074269764546)),\n",
        " (1, 3, (0.40378011861628715, 0.070900458699946878)),\n",
        " (1, 3, (0.54043542210119488, 0.3504905085925607)),\n",
        " (1, 3, (0.55474817093381124, 0.2582536393324294)),\n",
        " (1, 3, (0.58448062064789985, 0.27351641409147354)),\n",
        " (1, 3, (0.62589607239432365, 0.39920047226061683)),\n",
        " (1, 3, (0.66493644538648355, 0.34400451823405631)),\n",
        " (1, 3, (0.7429912251997105, 0.15386588612150232)),\n",
        " (1, 3, (0.90763211561473134, 0.17560808490406588)),\n",
        " (1, 4, (0.57642282361582364, 0.085073068653525152)),\n",
        " (1, 4, (0.78911210158512535, 0.057012666235451315)),\n",
        " (1, 4, (0.81470591964675443, 0.23431203772832787)),\n",
        " (1, 4, (0.93203164172134989, 0.28101368970856255)),\n",
        " (1, 5, (0.57631071820609259, 0.45077115085681141)),\n",
        " (1, 5, (0.6245601710249471, 0.29777706568740303)),\n",
        " (1, 5, (0.71080397589438971, 0.058298138101714581)),\n",
        " (1, 5, (0.82038032231384894, 0.033750324993117364)),\n",
        " (4, 0, (0.063766153378197132, 0.36498155050599768)),\n",
        " (4, 0, (0.098923339562944745, 0.37458599034626738)),\n",
        " (4, 0, (0.28709213475225281, 0.37977677001668553)),\n",
        " (4, 1, (0.17040134652442329, 0.29660812575582385)),\n",
        " (4, 1, (0.28306338675798348, 0.34479149767023853)),\n",
        " (4, 2, (0.098105459637643833, 0.33857823323016967)),\n",
        " (4, 2, (0.2239792042939962, 0.31312433038609211)),\n",
        " (4, 3, (0.21385971038136098, 0.19021707428817292)),\n",
        " (4, 3, (0.23199143288528223, 0.22922843477611843)),\n",
        " (4, 4, (0.22918046720115648, 0.29981706021899945)),\n",
        " (4, 5, (0.14755908314280641, 0.12710841544976259)),\n",
        " (6, 0, (0.43567050319526157, 0.88364357218723966)),\n",
        " (6, 0, (0.6414066481230154, 0.83675766066101154)),\n",
        " (6, 1, (0.60262218106888499, 0.81529047620922324)),\n",
        " (6, 2, (0.50626910856507679, 0.93311856532980075)),\n",
        " (6, 2, (0.50952903063035782, 0.88984223696247855)),\n",
        " (6, 3, (0.52636885372094577, 0.79017376645316495)),\n",
        " (6, 4, (0.53876551431831354, 0.82413998718256176)),\n",
        " (6, 5, (0.54517221657114501, 0.93580472176418261)),\n",
        " (7, 0, (0.01802230907036606, 0.75143266390849417)),\n",
        " (7, 0, (0.30628204562267558, 0.73243952055004902)),\n",
        " (7, 0, (0.31291154239337271, 0.82127455734611265)),\n",
        " (7, 0, (0.33424759426632533, 0.88767595328053439)),\n",
        " (7, 1, (0.10256747286122259, 0.79521840802006871)),\n",
        " (7, 1, (0.33334745103967922, 0.55693779394888043)),\n",
        " (7, 1, (0.33580233510678936, 0.62750037410238702)),\n",
        " (7, 1, (0.35544748302943563, 0.77431110492378086)),\n",
        " (7, 2, (0.088955948106401617, 0.75942127651763136)),\n",
        " (7, 2, (0.17796231369525572, 0.744881969952919)),\n",
        " (7, 3, (0.16127693494616013, 0.83774848322199058)),\n",
        " (7, 4, (0.16598005232139013, 0.71829933430334048)),\n",
        " (7, 4, (0.21344400136846775, 0.74056019235180459)),\n",
        " (7, 4, (0.26267071427246147, 0.5886242809370511)),\n",
        " (7, 4, (0.36634654161159008, 0.64925327549798206)),\n",
        " (7, 5, (0.10728587355316754, 0.754768666154363)),\n",
        " (7, 5, (0.16364809952885773, 0.6264762655468038)),\n",
        " (7, 5, (0.2162575696545036, 0.74634447908885315)),\n",
        " (7, 5, (0.2991556943624295, 0.77205017219989192)),\n",
        " (7, 5, (0.31879924251996361, 0.72230581791013493)),\n",
        " (7, 5, (0.32569621273042304, 0.74113854125405776)),\n",
        " (7, 5, (0.39008385720906924, 0.67526392023605597)),\n",
        " (12, 0, (0.86996958860340778, 0.82752256559521187)),\n",
        " (12, 1, (0.72153354280654602, 0.66024895988012544)),\n",
        " (12, 1, (0.80112494625940989, 0.95058436269748503)),\n",
        " (12, 1, (0.85847247588100806, 0.70930324163499892)),\n",
        " (12, 1, (0.92761186311051425, 0.93759618590550609)),\n",
        " (12, 1, (0.99785499323889326, 0.80977596915020866)),\n",
        " (12, 2, (0.7999119898404049, 0.66945135973678294)),\n",
        " (12, 2, (0.80923309955244305, 0.65848942462653137)),\n",
        " (12, 2, (0.93966350782643049, 0.72795008090476943)),\n",
        " (12, 2, (0.96923686238328133, 0.87437063342186694)),\n",
        " (12, 2, (0.99206970355152668, 0.90276672472960129)),\n",
        " (12, 3, (0.74928317252317345, 0.94420957223578372)),\n",
        " (12, 3, (0.87361368684009599, 0.92024395344053311)),\n",
        " (12, 3, (0.87371074944297589, 0.94106868061875981)),\n",
        " (12, 4, (0.80120893713167196, 0.73144439715195531)),\n",
        " (12, 4, (0.96333030995121194, 0.98290437032248645)),\n",
        " (12, 5, (0.7325274050029067, 0.90690470006636081)),\n",
        " (12, 5, (0.73325455329197387, 0.7964721829960113)),\n",
        " (12, 5, (0.80076633529009056, 0.808864237079852)),\n",
        " (12, 5, (0.82477600583275612, 0.63128998596024932)),\n",
        " (12, 5, (0.83257511258066275, 0.90186986724537344)),\n",
        " (14, 1, (0.56612168441138699, 0.58067188572438977)),\n",
        " (17, 1, (0.57569498823155452, 0.68088164325310641)),\n",
        " (17, 4, (0.63026769104038183, 0.70156289446867703)),\n",
        " (18, 2, (0.042691957598891994, 0.10135792758650775)),\n",
        " (18, 2, (0.075340575716307367, 0.012149479287239751)),\n",
        " (18, 3, (0.019259149347478632, 0.10855144006036221)),\n",
        " (18, 4, (0.04548358873916214, 0.15516084970711852)),\n",
        " (19, 2, (0.80783900682021115, 0.39315740428918655)),\n",
        " (20, 2, (0.39993422522703159, 0.42249604404863828)),\n",
        " (20, 3, (0.46070240931063888, 0.47186951229786456)),\n",
        " (20, 5, (0.46502592994633074, 0.44637246899079963)),\n",
        " (21, 3, (0.95581715742857831, 0.012613697713765082)),\n",
        " (22, 3, (0.89233938364331289, 0.53713039623737202)),\n",
        " (22, 4, (0.86002067484404843, 0.52473700885198626)),\n",
        " (22, 4, (0.87424547144414555, 0.48269838092292272)),\n",
        " (23, 3, (0.098508125265473034, 0.95497442442804104)),\n",
        " (23, 4, (0.089277657901772223, 0.92188758095558287)),\n",
        " (24, 4, (0.73580323224925637, 0.49874502422813649)),\n",
        " (25, 4, (0.25677160572364854, 0.95586202501252093)),\n",
        " (26, 4, (0.18615505932949838, 0.52018207092851465)),\n",
        " (26, 5, (0.18383270689424436, 0.47190651508091119))]"
       ]
      }
     ],
     "prompt_number": 4
    },
    {
     "cell_type": "markdown",
     "metadata": {},
     "source": [
      "\u4e0b\u306e\u3084\u308a\u65b9\u3067\u306f\u30af\u30e9\u30b9\u30bf\u30fc\u306e\u6570\u3092\u3061\u3083\u3093\u3068\u6570\u3048\u305f\u3053\u3068\u306b\u306a\u3089\u306a\u3044\u3002(\u30af\u30e9\u30b9\u30bf\u30fc\u540c\u58eb\u306e\u878d\u5408\u3092\u8003\u3048\u308b\u3053\u3068\u304c\u3067\u304d\u306a\u3044)"
     ]
    },
    {
     "cell_type": "code",
     "collapsed": false,
     "input": [
      "max([x[1][1] for x in meeting.ideas])"
     ],
     "language": "python",
     "metadata": {},
     "outputs": [
      {
       "metadata": {},
       "output_type": "pyout",
       "prompt_number": 5,
       "text": [
        "26"
       ]
      }
     ],
     "prompt_number": 5
    },
    {
     "cell_type": "markdown",
     "metadata": {},
     "source": [
      "\u6b63\u3057\u3044\u6570\u3048\u65b9"
     ]
    },
    {
     "cell_type": "code",
     "collapsed": false,
     "input": [
      "len(uniq_list([x[1][1] for x in meeting.ideas]))"
     ],
     "language": "python",
     "metadata": {},
     "outputs": [
      {
       "metadata": {},
       "output_type": "pyout",
       "prompt_number": 6,
       "text": [
        "16"
       ]
      }
     ],
     "prompt_number": 6
    },
    {
     "cell_type": "markdown",
     "metadata": {},
     "source": [
      "\u95be\u5024$r$\u3092\u5909\u3048\u305f\u3068\u304d\u306b\u610f\u898b\u306e\u7dcf\u6570\u306b\u5bfe\u3059\u308b\u30af\u30e9\u30b9\u30bf\u30fc\u306e\u6570\u3068\u306e\u95a2\u4fc2\u3002\u6a2a\u8ef8$r$\u3001\u7e26\u8ef8$1- (\\text{\u30af\u30e9\u30b9\u30bf\u30fc\u306e\u6570})/(\\text{\u610f\u898b\u306e\u7dcf\u6570})$\u306e\u4e21\u5bfe\u6570\u30d7\u30ed\u30c3\u30c8\u3002"
     ]
    },
    {
     "cell_type": "code",
     "collapsed": false,
     "input": [
      "trial = 100\n",
      "\n",
      "r = np.logspace(-2, np.log10(0.2), num=50)\n",
      "phi1 = []\n",
      "for _r in r:\n",
      "    _phi = 0.\n",
      "    for t in range(trial):\n",
      "        meeting = Meeting(K=50, N=6, r=_r, draw=False)\n",
      "        meeting.init()\n",
      "        _phi += len(uniq_list([x[1][1] for x in meeting.ideas]))/float(len(meeting.ideas))\n",
      "    phi1.append(1 - _phi/trial)"
     ],
     "language": "python",
     "metadata": {},
     "outputs": [],
     "prompt_number": 7
    },
    {
     "cell_type": "markdown",
     "metadata": {},
     "source": [
      "log\u3067"
     ]
    },
    {
     "cell_type": "code",
     "collapsed": false,
     "input": [
      "from scipy.optimize import leastsq\n",
      "\n",
      "a = 1.5\n",
      "b = 0.\n",
      "param = [a, b]\n",
      "\n",
      "def fit_func(parameter, x):\n",
      "    a = parameter[0]\n",
      "    b = parameter[1]\n",
      "    return a*np.log10(x) + b\n",
      "\n",
      "def fit(parameter, x, y):\n",
      "    return np.log10(y) - fit_func(parameter, x)\n",
      "\n",
      "rmin, rmax = 0., 0.06\n",
      "\n",
      "i = 0\n",
      "while r[i] < rmin:\n",
      "    i += 1\n",
      "imin, imax = i, i\n",
      "while r[i] < rmax:\n",
      "    i += 1\n",
      "imax = i - 1\n",
      "\n",
      "res = leastsq(fit, param, args=(r[imin:imax], phi1[imin:imax]))\n",
      "print u\"\u50be\u304d: \" + str(res[0][0])\n",
      "print u\"\u5207\u7247: \" + str(res[0][1])\n",
      "R = np.power(10, fit_func(res[0], r[imin:imax]))"
     ],
     "language": "python",
     "metadata": {},
     "outputs": [
      {
       "output_type": "stream",
       "stream": "stdout",
       "text": [
        "\u50be\u304d: 1.86024833508\n",
        "\u5207\u7247: 2.0080100262\n"
       ]
      }
     ],
     "prompt_number": 55
    },
    {
     "cell_type": "code",
     "collapsed": false,
     "input": [
      "from scipy.optimize import leastsq\n",
      "\n",
      "a = 1.5\n",
      "b = 0.\n",
      "param = [a, b]\n",
      "\n",
      "def fit_func(parameter, x):\n",
      "    a = parameter[0]\n",
      "    b = parameter[1]\n",
      "    return np.power(x, a)*np.power(10, b)\n",
      "\n",
      "def fit(parameter, x, y):\n",
      "    return y - fit_func(parameter, x)\n",
      "\n",
      "rmin, rmax = 0., 0.03\n",
      "\n",
      "i = 0\n",
      "while r[i] < rmin:\n",
      "    i += 1\n",
      "imin, imax = i, i\n",
      "while r[i] < rmax:\n",
      "    i += 1\n",
      "imax = i - 1\n",
      "\n",
      "res = leastsq(fit, param, args=(r[imin:imax], phi1[imin:imax]))\n",
      "print u\"\u50be\u304d: \" + str(res[0][0])\n",
      "print u\"\u5207\u7247: \" + str(res[0][1])\n",
      "R = fit_func(res[0], r[imin:imax])"
     ],
     "language": "python",
     "metadata": {},
     "outputs": [
      {
       "output_type": "stream",
       "stream": "stdout",
       "text": [
        "\u50be\u304d: 1.8899166997\n",
        "\u5207\u7247: 2.0639395126\n"
       ]
      }
     ],
     "prompt_number": 51
    },
    {
     "cell_type": "code",
     "collapsed": false,
     "input": [
      "fig = plt.figure(figsize=(8, 12))\n",
      "ax1 = fig.add_subplot(211)\n",
      "\n",
      "ax1.plot(r, phi1)\n",
      "ax1.plot(r[imin:imax], R, \n",
      "         label=r'$a = %f, b = %f$' % (res[0][0], res[0][1]))\n",
      "ax1.set_xlabel(r'$r$')\n",
      "ax1.set_ylabel(r'$\\phi$')\n",
      "ax1.set_xscale('linear')\n",
      "ax1.set_yscale('linear')\n",
      "\n",
      "ax2 = fig.add_subplot(212)\n",
      "ax2.plot(r, phi1)\n",
      "ax2.plot(r[imin:imax], R, \n",
      "         label=r'$a = %f, b = %f$' % (res[0][0], res[0][1]))\n",
      "ax2.legend(loc='best')\n",
      "ax2.set_xlabel(r'$r$')\n",
      "ax2.set_ylabel(r'$\\phi$')\n",
      "ax2.set_xscale('log')\n",
      "ax2.set_yscale('log')\n",
      "plt.show()"
     ],
     "language": "python",
     "metadata": {},
     "outputs": [
      {
       "metadata": {},
       "output_type": "display_data",
       "png": "[encoded data removed]",
       "text": [
        "<matplotlib.figure.Figure at 0x7f140aaba310>"
       ]
      }
     ],
     "prompt_number": 56
    },
    {
     "cell_type": "markdown",
     "metadata": {},
     "source": [
      "\u3053\u306e\u30b0\u30e9\u30d5\u304b\u3089\u3001\u30af\u30e9\u30b9\u30bf\u30fc\u306e\u4f5c\u308a\u65b9\u306b\u95a2\u3059\u308b\u95be\u5024$r$\u306b\u95a2\u3057\u3066\u30af\u30e9\u30b9\u30bf\u30fc\u306e\u6570\u3068\u306e\u95a2\u4fc2\u3092\u898b\u308b\u3053\u3068\u304c\u3067\u304d\u308b\u3002$r$\u304c\u5927\u304d\u304f\u306a\u308b\u307b\u3069\u30af\u30e9\u30b9\u30bf\u30fc\u304c\u3067\u304d\u3084\u3059\u304f\u3001\u307e\u305f\u30af\u30e9\u30b9\u30bf\u30fc\u540c\u58eb\u306e\u878d\u5408\u3082\u8d77\u3053\u308a\u3084\u3059\u3044\u305f\u3081\u3001$r=0.15$\u307b\u3069\u3067\u7cfb\u306e\u4e2d\u306b\u3042\u308b\u30af\u30e9\u30b9\u30bf\u30fc\u306e\u6570\u306f1\u3068\u306a\u3063\u3066\u3001\u3059\u3079\u3066\u304c\u540c\u3058\u30af\u30e9\u30b9\u30bf\u30fc\u5185\u306b\u6240\u5c5e\u3059\u308b\u3053\u3068\u306b\u306a\u308b\u3002\n",
      "\n",
      "\u307e\u305f\u3001\u30d1\u30fc\u30b3\u30ec\u30fc\u30b7\u30e7\u30f3\u3068\u3057\u3066\u3053\u306e\u73fe\u8c61\u3092\u3068\u3089\u3048\u305f\u3068\u304d\u3001\u3042\u308b$r$\u306e\u5024\u306b\u304a\u3044\u3066\u7cfb\u306e\u30b5\u30a4\u30ba\u3068\u540c\u7a0b\u5ea6\u306e\u5927\u304d\u3055\u306e\u30af\u30e9\u30b9\u30bf\u30fc\u304c\u51fa\u73fe\u3059\u308b\u3088\u3046\u306b\u306a\u308a\u3001\u3053\u306e\u3068\u304d\u306e\u30af\u30e9\u30b9\u30bf\u30fc\u306e\u30b5\u30a4\u30ba\u5206\u5e03\u3092\u6c42\u3081\u308c\u3070\u3001\u305d\u308c\u306f\u3079\u304d\u5206\u5e03\u306b\u5f93\u3046\u3053\u3068\u304c\u4e88\u60f3\u3055\u308c\u308b\u3002\n",
      "\n",
      "\u4ee5\u4e0b\u306e\u30bb\u30eb\u3067\u305d\u306e\u3053\u3068\u3092\u8abf\u3079\u3066\u307f\u308b\u3002"
     ]
    },
    {
     "cell_type": "code",
     "collapsed": false,
     "input": [
      "trial = 1\n",
      "_r = 0.06\n",
      "_phi = collections.Counter()\n",
      "for i in range(trial):\n",
      "    meeting = Meeting(K=50, N=6, r=_r, draw=False)\n",
      "    meeting.init()\n",
      "    _phi = _phi + collections.Counter([x[1][1] for x in meeting.ideas])\n",
      "phi = [(k, v/float(trial)) for k, v in dict(_phi).items()]\n",
      "print phi"
     ],
     "language": "python",
     "metadata": {},
     "outputs": [
      {
       "output_type": "stream",
       "stream": "stdout",
       "text": [
        "[(1, 2.0), (2, 5.0), (3, 2.0), (4, 1.0), (5, 2.0), (6, 2.0), (7, 2.0), (8, 3.0), (9, 1.0), (10, 3.0), (11, 2.0), (12, 6.0), (13, 1.0), (14, 1.0), (15, 6.0), (16, 3.0), (17, 1.0), (18, 2.0), (19, 5.0), (20, 3.0), (21, 1.0), (22, 1.0), (23, 1.0), (25, 4.0), (26, 3.0), (27, 6.0), (28, 1.0), (29, 1.0), (30, 3.0), (31, 1.0), (32, 2.0), (33, 1.0), (34, 1.0), (35, 1.0), (36, 1.0), (37, 2.0), (38, 3.0), (39, 1.0), (40, 1.0), (41, 1.0), (42, 2.0), (43, 1.0), (44, 1.0), (45, 1.0), (46, 1.0), (47, 2.0), (48, 1.0), (49, 1.0), (50, 2.0), (51, 2.0), (52, 1.0), (53, 1.0), (54, 1.0), (55, 1.0), (56, 1.0), (57, 1.0), (58, 1.0), (59, 1.0), (60, 1.0), (61, 1.0), (62, 1.0), (63, 1.0), (64, 1.0), (65, 1.0), (66, 1.0), (67, 1.0), (68, 1.0)]\n"
       ]
      }
     ],
     "prompt_number": 8
    },
    {
     "cell_type": "markdown",
     "metadata": {},
     "source": [
      "\u307e\u305f\u3001\u4e21\u5bfe\u6570\u30b0\u30e9\u30d5\u306b\u53d6\u3063\u305f\u3068\u304d\u306b$r$\u306e\u5c0f\u3055\u3044\u3068\u3053\u308d\u3067\u306f\u76f4\u7dda\u306b\u4e57\u3063\u3066\u3044\u308b\u3053\u3068\u304b\u3089\u3001$r$\u3068\u3053\u3053\u3067\u6c42\u3081\u305f\u6307\u6a19$\\phi$\u3068\u306e\u9593\u306b\u306f\u3001$r$\u304c\u5c0f\u3055\u3044\u3068\u3053\u308d\u3067\u306f\u30d9\u30ad\u4e57\u306e\u95a2\u4fc2\u306b\u3042\u308b\u3053\u3068\u304c\u5206\u304b\u308b\u3002\n",
      "\n",
      "\u78ba\u7387\u8ad6\u304b\u3089simple1,simple2\u306e\u3088\u3046\u306b\u89e3\u6790\u7684\u306b\u6c42\u3081\u308b\u3053\u3068\u304c\u3067\u304d\u308b\u306f\u305a\u3002"
     ]
    },
    {
     "cell_type": "markdown",
     "metadata": {},
     "source": [
      "\u95be\u5024$r$\u3092\u5909\u3048\u305f\u3068\u304d\u306e\u6700\u5927\u30af\u30e9\u30b9\u30bf\u30fc\u306e\u30b5\u30a4\u30ba\u3068\u5168\u8981\u7d20\u6570\u3068\u306e\u9593\u306e\u95a2\u4fc2\u3002\u30af\u30e9\u30b9\u30bf\u30fc\u30b5\u30a4\u30ba\u3068\u306f\u3053\u3053\u3067\u306f\u540c\u3058\u30af\u30e9\u30b9\u30bf\u30fc\u5185\u306b\u542b\u307e\u308c\u308b\u8981\u7d20\u306e\u6570\u3002\n",
      "\n",
      "\u6a2a\u8ef8$r$\u3001\u7e26\u8ef8$(\\text{\u6700\u5927\u30af\u30e9\u30b9\u30bf\u30fc\u30b5\u30a4\u30ba})/(\\text{\u5168\u8981\u7d20\u6570})$"
     ]
    },
    {
     "cell_type": "code",
     "collapsed": false,
     "input": [
      "print collections.Counter([x[1][1] for x in meeting.ideas])\n",
      "max([v for v in collections.Counter([x[1][1] for x in meeting.ideas]).values()])/float(len(meeting.ideas))"
     ],
     "language": "python",
     "metadata": {},
     "outputs": [
      {
       "output_type": "stream",
       "stream": "stdout",
       "text": [
        "Counter({12: 6, 15: 6, 27: 6, 2: 5, 19: 5, 25: 4, 8: 3, 10: 3, 16: 3, 20: 3, 26: 3, 30: 3, 38: 3, 1: 2, 3: 2, 5: 2, 6: 2, 7: 2, 11: 2, 18: 2, 32: 2, 37: 2, 42: 2, 47: 2, 50: 2, 51: 2, 4: 1, 9: 1, 13: 1, 14: 1, 17: 1, 21: 1, 22: 1, 23: 1, 28: 1, 29: 1, 31: 1, 33: 1, 34: 1, 35: 1, 36: 1, 39: 1, 40: 1, 41: 1, 43: 1, 44: 1, 45: 1, 46: 1, 48: 1, 49: 1, 52: 1, 53: 1, 54: 1, 55: 1, 56: 1, 57: 1, 58: 1, 59: 1, 60: 1, 61: 1, 62: 1, 63: 1, 64: 1, 65: 1, 66: 1, 67: 1, 68: 1})\n"
       ]
      },
      {
       "metadata": {},
       "output_type": "pyout",
       "prompt_number": 9,
       "text": [
        "0.05"
       ]
      }
     ],
     "prompt_number": 9
    },
    {
     "cell_type": "code",
     "collapsed": false,
     "input": [
      "trial = 100\n",
      "\n",
      "r = np.logspace(-2, np.log10(0.2), num=50)\n",
      "phi2 = []\n",
      "for _r in r:\n",
      "    _phi = 0.\n",
      "    for t in range(trial):\n",
      "        meeting = Meeting(K=50, N=6, r=_r, draw=False)\n",
      "        meeting.init()\n",
      "        _phi += max([v for v in\n",
      "                     collections.Counter([x[1][1] for x in meeting.ideas]).values()]\n",
      "                    ) \\\n",
      "                / \\\n",
      "                float(len(meeting.ideas))\n",
      "    phi2.append(_phi/trial)"
     ],
     "language": "python",
     "metadata": {},
     "outputs": [],
     "prompt_number": 47
    },
    {
     "cell_type": "code",
     "collapsed": false,
     "input": [
      "fig = plt.figure(figsize=(8, 12))\n",
      "ax1 = fig.add_subplot(211)\n",
      "ax1.plot(r, phi2)\n",
      "ax1.set_xlabel(r'$r$')\n",
      "ax1.set_ylabel(r'$\\phi$')\n",
      "ax1.set_xscale('linear')\n",
      "ax1.set_yscale('linear')\n",
      "ax2 = fig.add_subplot(212)\n",
      "ax2.plot(r, phi2)\n",
      "ax2.set_xlabel(r'$r$')\n",
      "ax2.set_ylabel(r'$\\phi$')\n",
      "ax2.set_xscale('linear')\n",
      "ax2.set_yscale('log')\n",
      "plt.show()"
     ],
     "language": "python",
     "metadata": {},
     "outputs": [
      {
       "metadata": {},
       "output_type": "display_data",
       "png": "[encoded data removed]",
       "text": [
        "<matplotlib.figure.Figure at 0x7fe708b96810>"
       ]
      }
     ],
     "prompt_number": 50
    },
    {
     "cell_type": "markdown",
     "metadata": {},
     "source": [
      "\u6a2a\u8ef8r\u3001\u7e26\u8ef8(\u6700\u5927\u30af\u30e9\u30b9\u30bf\u30fc\u30b5\u30a4\u30ba)/(\u5168\u8981\u7d20\u6570)\u3067\u7e26\u8ef8\u306b\u5bfe\u6570\u3092\u53d6\u3063\u305f\u3068\u304d\u306b\u76f4\u7dda\u306b\u4e57\u3063\u3066\u3044\u308b(\u3088\u3046\u306b\u898b\u3048\u308b)\u3002\n",
      "\n",
      "\u306a\u305c\u304b?"
     ]
    },
    {
     "cell_type": "heading",
     "level": 3,
     "metadata": {},
     "source": [
      "simple2\u3067\u8003\u3048\u305f\u3088\u3046\u306b\u8003\u3048\u3066\u307f\u308b"
     ]
    },
    {
     "cell_type": "markdown",
     "metadata": {},
     "source": [
      "\u70b9\u306e\u5206\u5e03\u3059\u308b\u7bc4\u56f2\u306f$\\Omega = [0,1]\\times [0,1]$\u3067\u3042\u308a\u3001\u3053\u306e\u4e2d\u306e\u9762\u7a4d$S$\u306e\u9818\u57df\u306e\u4e2d\u306b\u70b9\u3092\u898b\u51fa\u3059\u78ba\u7387\u306f$S$\u3067\u3042\u308b\u3002\n",
      "\n",
      "\u6b21\u306b\u3001\u9818\u57df\u5185\u306e\u3042\u308b\u70b9$\\vec x=(x,y)$\u3092\u4e2d\u5fc3\u3068\u3057\u3066\u534a\u5f84$r$($0 < r \\le 0.5$)\u306e\u9818\u57df$B(\\vec x, r)$\u5185\u306b\u70b9\u3092\u898b\u51fa\u3059\u78ba\u7387$p(\\vec x)$\u306f\u3001\u5883\u754c\u306e\u5f71\u97ff\u3092\u3046\u3051\u306a\u3044\u9818\u57df($\\Omega ' = \\{(x,y) | r \\le x \\le 1-r, r \\le y \\le 1-r \\}$)\u3067\u306f$\\pi r^{2}$\u3067\u3042\u308a\u3001\u5883\u754c\u306e\u5f71\u97ff\u3092\u53d7\u3051\u308b\u9818\u57df($\\Omega'' = \\Omega / \\Omega'$)\u306b\u304a\u3044\u3066\u70b9\u3092\u898b\u51fa\u3059\u78ba\u7387\u306f\u3001\u9818\u57df\u3092\n",
      "\n",
      "$$\\begin{align}\n",
      "\\Omega''_{x} &= \\{(x,y) | 0 \\le x < r, r< y < 1-r\\} \\\\\n",
      "\\Omega''_{1-x} &= \\{(x,y) | 1-r < x \\le 1, r< y < 1-r\\} \\\\\n",
      "\\Omega''_{y} &= \\{(x,y) | r < x < 1-r, 0 \\le y < r\\} \\\\\n",
      "\\Omega''_{1-y} &= \\{(x,y) | r < x < 1-r, 1-r < y \\le 1\\} \\\\\n",
      "\\Omega''_{x,y} &= \\{(x,y) | 0 \\le x < r, 0 \\le y < r\\} \\\\\n",
      "\\Omega''_{1-x,y} &= \\{(x,y) | 1-r < x \\le 1, 0 \\le y < r\\} \\\\\n",
      "\\Omega''_{x,1-y} &= \\{(x,y) | 0 \\le x < r, 1-r < y \\le 1\\} \\\\\n",
      "\\Omega''_{1-x, 1-y} &= \\{(x,y) | 1-r < x \\le 1, 1-r < y \\le 1\\}\n",
      "\\end{align}$$\n",
      "\n",
      "\u306e\u3088\u3046\u306b\u3042\u3089\u308f\u3057\u3001$\\Omega''_{i}$\u3082\u3057\u304f\u306f$\\Omega''_{i,j}$\u3067\u307e\u3068\u3081\u3066\u66f8\u304f\u3053\u3068\u306b\u3059\u308b\u3068\u3001\n",
      "\n",
      "$$p(\\vec x \\in \\Omega''_{i}) = i \\sqrt{r^{2}-i^{2}} + r^{2} \\left[ \\pi -\\arccos \\left( \\frac{i}{r} \\right) \\right]$$\n",
      "\n",
      "$$\\begin{align}p(\\vec x \\in \\Omega''_{i,j}) = &\\frac{1}{2}\\left\\{ \\sqrt{r^{2}-i^{2}} + \\min \\left(j, \\sqrt{r^{2}-i^{2}}\\right) \\right\\}i + \\frac{1}{2}\\left\\{ \\sqrt{r^{2}-j^{2}} + \\min \\left( i, \\sqrt{r^{2}-j^{2}}\\right) \\right\\}j \\\\\n",
      "&+ \\frac{1}{2}r^{2} \\left\\{ 2\\pi -\\arccos \\left( \\frac{i}{r} \\right) -\\arccos \\left( \\frac{j}{r} \\right) -\\min \\left( \\frac{\\pi}{2}, \\arccos \\left( \\frac{i}{r} \\right) +\\arccos \\left( \\frac{j}{r} \\right) \\right) \\right\\}\n",
      "\\end{align}$$\n",
      "\n",
      "\u306e\u3088\u3046\u306b\u3042\u3089\u308f\u3059\u3053\u3068\u304c\u3067\u304d\u308b\u3002"
     ]
    },
    {
     "cell_type": "code",
     "collapsed": false,
     "input": [
      "r = np.linspace(0., 0.5)\n",
      "def func(x):\n",
      "    return (-0.5*np.pi**2+3*np.pi+1)*x**4 - 8/3.*x**3 + np.pi*x**2\n",
      "y = func(r)\n",
      "plt.plot(r, y)\n",
      "plt.plot(r, np.pi*r**2)\n",
      "plt.show()\n",
      "print func(0.5)"
     ],
     "language": "python",
     "metadata": {},
     "outputs": [
      {
       "metadata": {},
       "output_type": "display_data",
       "png": "[encoded data removed]",
       "text": [
        "<matplotlib.figure.Figure at 0x7f625153ded0>"
       ]
      },
      {
       "output_type": "stream",
       "stream": "stdout",
       "text": [
        "0.795188315078\n"
       ]
      }
     ],
     "prompt_number": 27
    },
    {
     "cell_type": "markdown",
     "metadata": {},
     "source": []
    },
    {
     "cell_type": "code",
     "collapsed": false,
     "input": [
      "import pandas as pd\n",
      "pd.DataFrame(np.array([r, phi]).T)"
     ],
     "language": "python",
     "metadata": {},
     "outputs": [
      {
       "html": [
        "<div style=\"max-height:1000px;max-width:1500px;overflow:auto;\">\n",
        "<table border=\"1\" class=\"dataframe\">\n",
        "  <thead>\n",
        "    <tr style=\"text-align: right;\">\n",
        "      <th></th>\n",
        "      <th>0</th>\n",
        "      <th>1</th>\n",
        "    </tr>\n",
        "  </thead>\n",
        "  <tbody>\n",
        "    <tr>\n",
        "      <th>0 </th>\n",
        "      <td> 0.001000</td>\n",
        "      <td> 0.000000</td>\n",
        "    </tr>\n",
        "    <tr>\n",
        "      <th>1 </th>\n",
        "      <td> 0.011474</td>\n",
        "      <td> 0.023056</td>\n",
        "    </tr>\n",
        "    <tr>\n",
        "      <th>2 </th>\n",
        "      <td> 0.021947</td>\n",
        "      <td> 0.081389</td>\n",
        "    </tr>\n",
        "    <tr>\n",
        "      <th>3 </th>\n",
        "      <td> 0.032421</td>\n",
        "      <td> 0.181667</td>\n",
        "    </tr>\n",
        "    <tr>\n",
        "      <th>4 </th>\n",
        "      <td> 0.042895</td>\n",
        "      <td> 0.283333</td>\n",
        "    </tr>\n",
        "    <tr>\n",
        "      <th>5 </th>\n",
        "      <td> 0.053368</td>\n",
        "      <td> 0.406111</td>\n",
        "    </tr>\n",
        "    <tr>\n",
        "      <th>6 </th>\n",
        "      <td> 0.063842</td>\n",
        "      <td> 0.522222</td>\n",
        "    </tr>\n",
        "    <tr>\n",
        "      <th>7 </th>\n",
        "      <td> 0.074316</td>\n",
        "      <td> 0.635278</td>\n",
        "    </tr>\n",
        "    <tr>\n",
        "      <th>8 </th>\n",
        "      <td> 0.084789</td>\n",
        "      <td> 0.711667</td>\n",
        "    </tr>\n",
        "    <tr>\n",
        "      <th>9 </th>\n",
        "      <td> 0.095263</td>\n",
        "      <td> 0.788056</td>\n",
        "    </tr>\n",
        "    <tr>\n",
        "      <th>10</th>\n",
        "      <td> 0.105737</td>\n",
        "      <td> 0.833611</td>\n",
        "    </tr>\n",
        "    <tr>\n",
        "      <th>11</th>\n",
        "      <td> 0.116211</td>\n",
        "      <td> 0.869444</td>\n",
        "    </tr>\n",
        "    <tr>\n",
        "      <th>12</th>\n",
        "      <td> 0.126684</td>\n",
        "      <td> 0.900833</td>\n",
        "    </tr>\n",
        "    <tr>\n",
        "      <th>13</th>\n",
        "      <td> 0.137158</td>\n",
        "      <td> 0.920556</td>\n",
        "    </tr>\n",
        "    <tr>\n",
        "      <th>14</th>\n",
        "      <td> 0.147632</td>\n",
        "      <td> 0.955000</td>\n",
        "    </tr>\n",
        "    <tr>\n",
        "      <th>15</th>\n",
        "      <td> 0.158105</td>\n",
        "      <td> 0.972500</td>\n",
        "    </tr>\n",
        "    <tr>\n",
        "      <th>16</th>\n",
        "      <td> 0.168579</td>\n",
        "      <td> 0.977778</td>\n",
        "    </tr>\n",
        "    <tr>\n",
        "      <th>17</th>\n",
        "      <td> 0.179053</td>\n",
        "      <td> 0.982500</td>\n",
        "    </tr>\n",
        "    <tr>\n",
        "      <th>18</th>\n",
        "      <td> 0.189526</td>\n",
        "      <td> 0.988333</td>\n",
        "    </tr>\n",
        "    <tr>\n",
        "      <th>19</th>\n",
        "      <td> 0.200000</td>\n",
        "      <td> 0.991389</td>\n",
        "    </tr>\n",
        "  </tbody>\n",
        "</table>\n",
        "<p>20 rows \u00d7 2 columns</p>\n",
        "</div>"
       ],
       "metadata": {},
       "output_type": "pyout",
       "prompt_number": 10,
       "text": [
        "           0         1\n",
        "0   0.001000  0.000000\n",
        "1   0.011474  0.023056\n",
        "2   0.021947  0.081389\n",
        "3   0.032421  0.181667\n",
        "4   0.042895  0.283333\n",
        "5   0.053368  0.406111\n",
        "6   0.063842  0.522222\n",
        "7   0.074316  0.635278\n",
        "8   0.084789  0.711667\n",
        "9   0.095263  0.788056\n",
        "10  0.105737  0.833611\n",
        "11  0.116211  0.869444\n",
        "12  0.126684  0.900833\n",
        "13  0.137158  0.920556\n",
        "14  0.147632  0.955000\n",
        "15  0.158105  0.972500\n",
        "16  0.168579  0.977778\n",
        "17  0.179053  0.982500\n",
        "18  0.189526  0.988333\n",
        "19  0.200000  0.991389\n",
        "\n",
        "[20 rows x 2 columns]"
       ]
      }
     ],
     "prompt_number": 10
    },
    {
     "cell_type": "code",
     "collapsed": false,
     "input": [
      "a = [1,2,3,4,5,6,7]\n",
      "preidea = np.random.choice(a)\n",
      "print preidea\n",
      "print a"
     ],
     "language": "python",
     "metadata": {},
     "outputs": [
      {
       "output_type": "stream",
       "stream": "stdout",
       "text": [
        "5\n",
        "[1, 2, 3, 4, 5, 6, 7]\n"
       ]
      }
     ],
     "prompt_number": 22
    },
    {
     "cell_type": "code",
     "collapsed": false,
     "input": [
      "ideas = meeting.ideas\n",
      "r = 0.06\n",
      "cell_num = int(1./r)\n",
      "print cell_num\n",
      "lr = 1./cell_num\n",
      "print lr\n",
      "cell = dict()\n",
      "rcell = []\n",
      "for i, idea in enumerate(ideas):\n",
      "    cellx = int(idea[0][0]/lr)\n",
      "    celly = int(idea[0][1]/lr)\n",
      "    if cell.has_key((cellx, celly)):\n",
      "        cell[(cellx, celly)] += [i]\n",
      "    else:\n",
      "        cell[(cellx, celly)] = [i]\n",
      "    rcell.append((cellx, celly))\n",
      "cell"
     ],
     "language": "python",
     "metadata": {},
     "outputs": [
      {
       "output_type": "stream",
       "stream": "stdout",
       "text": [
        "16\n",
        "0.0625\n"
       ]
      },
      {
       "metadata": {},
       "output_type": "pyout",
       "prompt_number": 52,
       "text": [
        "{(0, 1): [80],\n",
        " (0, 4): [59],\n",
        " (0, 5): [11],\n",
        " (0, 7): [114],\n",
        " (0, 11): [115],\n",
        " (0, 13): [78],\n",
        " (0, 15): [43, 70, 117],\n",
        " (1, 1): [67],\n",
        " (1, 6): [8],\n",
        " (1, 9): [39],\n",
        " (2, 1): [108],\n",
        " (2, 2): [113],\n",
        " (2, 4): [10],\n",
        " (2, 5): [18],\n",
        " (2, 7): [63],\n",
        " (2, 8): [81],\n",
        " (2, 9): [35, 74],\n",
        " (2, 13): [48],\n",
        " (2, 15): [103],\n",
        " (3, 0): [91],\n",
        " (3, 4): [4, 42],\n",
        " (3, 10): [58, 73],\n",
        " (3, 11): [0],\n",
        " (3, 15): [96],\n",
        " (4, 5): [34],\n",
        " (4, 6): [46],\n",
        " (4, 9): [16],\n",
        " (4, 11): [86],\n",
        " (4, 12): [89],\n",
        " (5, 2): [75],\n",
        " (5, 3): [76, 107],\n",
        " (5, 4): [99],\n",
        " (5, 9): [28],\n",
        " (5, 10): [72],\n",
        " (5, 11): [5],\n",
        " (5, 12): [51, 53],\n",
        " (5, 13): [31],\n",
        " (5, 14): [92, 106],\n",
        " (5, 15): [102],\n",
        " (6, 1): [77, 87],\n",
        " (6, 3): [2],\n",
        " (6, 6): [50, 112, 116],\n",
        " (6, 8): [25],\n",
        " (6, 9): [45],\n",
        " (6, 13): [22],\n",
        " (7, 1): [79],\n",
        " (7, 2): [66],\n",
        " (7, 3): [64],\n",
        " (7, 5): [84],\n",
        " (7, 6): [14, 109],\n",
        " (7, 7): [19],\n",
        " (7, 9): [23],\n",
        " (7, 13): [104],\n",
        " (7, 14): [1],\n",
        " (7, 15): [54],\n",
        " (8, 4): [111],\n",
        " (8, 7): [20, 62],\n",
        " (8, 9): [33],\n",
        " (8, 10): [9],\n",
        " (8, 11): [94],\n",
        " (8, 14): [85],\n",
        " (9, 0): [52, 83],\n",
        " (9, 2): [47],\n",
        " (9, 6): [3, 38],\n",
        " (9, 7): [105],\n",
        " (9, 8): [44],\n",
        " (9, 11): [57],\n",
        " (9, 12): [61],\n",
        " (9, 13): [119],\n",
        " (10, 0): [101],\n",
        " (10, 2): [100],\n",
        " (10, 3): [95],\n",
        " (10, 5): [69],\n",
        " (10, 7): [60],\n",
        " (10, 10): [56],\n",
        " (10, 13): [12],\n",
        " (10, 14): [7],\n",
        " (11, 1): [21],\n",
        " (11, 7): [88, 93],\n",
        " (11, 8): [110],\n",
        " (11, 9): [6],\n",
        " (12, 0): [26, 41],\n",
        " (12, 2): [49],\n",
        " (12, 5): [37],\n",
        " (12, 6): [13],\n",
        " (12, 8): [24],\n",
        " (12, 10): [40],\n",
        " (12, 12): [118],\n",
        " (12, 13): [15],\n",
        " (13, 4): [27, 65],\n",
        " (13, 6): [17],\n",
        " (13, 9): [36],\n",
        " (13, 13): [32],\n",
        " (13, 15): [90],\n",
        " (14, 0): [29],\n",
        " (14, 2): [97],\n",
        " (14, 4): [55],\n",
        " (14, 14): [68, 71],\n",
        " (14, 15): [82],\n",
        " (15, 0): [98],\n",
        " (15, 1): [30]}"
       ]
      }
     ],
     "prompt_number": 52
    },
    {
     "cell_type": "code",
     "collapsed": false,
     "input": [
      "cell_num = 14\n",
      "[[[]]*cell_num]*cell_num"
     ],
     "language": "python",
     "metadata": {},
     "outputs": [
      {
       "metadata": {},
       "output_type": "pyout",
       "prompt_number": 20,
       "text": [
        "[[[], [], [], [], [], [], [], [], [], [], [], [], [], []],\n",
        " [[], [], [], [], [], [], [], [], [], [], [], [], [], []],\n",
        " [[], [], [], [], [], [], [], [], [], [], [], [], [], []],\n",
        " [[], [], [], [], [], [], [], [], [], [], [], [], [], []],\n",
        " [[], [], [], [], [], [], [], [], [], [], [], [], [], []],\n",
        " [[], [], [], [], [], [], [], [], [], [], [], [], [], []],\n",
        " [[], [], [], [], [], [], [], [], [], [], [], [], [], []],\n",
        " [[], [], [], [], [], [], [], [], [], [], [], [], [], []],\n",
        " [[], [], [], [], [], [], [], [], [], [], [], [], [], []],\n",
        " [[], [], [], [], [], [], [], [], [], [], [], [], [], []],\n",
        " [[], [], [], [], [], [], [], [], [], [], [], [], [], []],\n",
        " [[], [], [], [], [], [], [], [], [], [], [], [], [], []],\n",
        " [[], [], [], [], [], [], [], [], [], [], [], [], [], []],\n",
        " [[], [], [], [], [], [], [], [], [], [], [], [], [], []]]"
       ]
      }
     ],
     "prompt_number": 20
    },
    {
     "cell_type": "code",
     "collapsed": false,
     "input": [
      "@test\n",
      "def uniq_list(seq):\n",
      "    \"\"\"\n",
      "    >>> a = [1, 2, 5, 6, 7, 3, 2, 0]\n",
      "    >>> uniq_list(a)\n",
      "    [1, 2, 5, 6, 7, 3, 0]\n",
      "    \"\"\"\n",
      "    seen = set()\n",
      "    seen_add = seen.add\n",
      "    return [x for x in seq if x not in seen and not seen_add(x)]\n"
     ],
     "language": "python",
     "metadata": {},
     "outputs": [
      {
       "html": [
        "\n",
        "      <p style=\"color:green;font-size:250%;font-weight=bold\">Success!</p>\n",
        "      "
       ],
       "metadata": {},
       "output_type": "display_data"
      }
     ],
     "prompt_number": 44
    }
   ],
   "metadata": {}
  }
 ]
}