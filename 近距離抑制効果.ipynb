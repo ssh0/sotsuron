{
 "metadata": {
  "name": "",
  "signature": "sha256:0d44bbceb978517a21b3d6453e50192da60e83bd8a8b0538576a1fcf5cd7bd48"
 },
 "nbformat": 3,
 "nbformat_minor": 0,
 "worksheets": [
  {
   "cells": [
    {
     "cell_type": "heading",
     "level": 1,
     "metadata": {},
     "source": [
      "\u8fd1\u8ddd\u96e2\u3067\u3042\u308b\u3053\u3068\u306b\u3088\u308b\u53cd\u5fdc\u306e\u6291\u5236\u5316"
     ]
    },
    {
     "cell_type": "markdown",
     "metadata": {},
     "source": [
      "\u610f\u898b\u3092\u63d0\u51fa\u3059\u308b\u969b\u306b\u500b\u4eba\u3068\u3057\u3066\u611f\u3058\u308b\u3053\u3068\u306f\u4f55\u304b\u3001\u3068\u3044\u3046\u3053\u3068\u3092\u8003\u3048\u308b\u3068\u3001\u4ed6\u306e\u4eba\u304c\u81ea\u5206\u3068\u4f3c\u305f\u3088\u3046\u306a\u610f\u898b\u3092\u51fa\u3059\u306e\u3067\u306f\u306a\u3044\u304b\u3001\u3068\u3044\u3046\u70b9\u304b\u3089\u767a\u8a00\u3092\u63a7\u3048\u308b\u3068\u3044\u3046\u5834\u9762\u304c\u8003\u3048\u3089\u308c\u308b\u3002\u307e\u305f\u3001\u3053\u308c\u3092\u4ee3\u8b1d\u7cfb\u306a\u3069\u306e\u5316\u5b66\u53cd\u5fdc\u306b\u843d\u3068\u3057\u8fbc\u3093\u3060\u969b\u306b\u306f\u3001\u3053\u306e\u3088\u3046\u306a\u8fd1\u3044\u4f4d\u7f6e\u306e\u610f\u898b\u306f\u3059\u3079\u3066\u540c\u4e00\u306e\u7269\u8cea\u3092\u8868\u3057\u3066\u3044\u308b\u3068\u3044\u3046\u3088\u3046\u306b\u8003\u3048\u308b\u3053\u3068\u3082\u3067\u304d\u308b\u3002\u305d\u306e\u3088\u3046\u306b\u8003\u3048\u308c\u3070\u3001\u4f3c\u305f\u3088\u3046\u306a\u6027\u8cea\u304c\u7e2e\u7d04\u3055\u308c\u3066\u3057\u307e\u3046\u306e\u3067\u5168\u4f53\u3068\u3057\u3066\u306e\u52b9\u7387\u304c\u4e0b\u304c\u3063\u3066\u3057\u307e\u3046\u3068\u3044\u3046\u7d50\u679c\u3092\u3082\u305f\u3089\u3059\u306e\u304b\u3082\u3057\u308c\u306a\u3044\u3002\n"
     ]
    },
    {
     "cell_type": "markdown",
     "metadata": {},
     "source": [
      "Note: \u5316\u5b66\u53cd\u5fdc\u3067\u3082\u540c\u3058\u3088\u3046\u306b1\u5206\u5b50\u3067\u306e\u53cd\u5fdc\u3068\u3088\u304f\u6df7\u3056\u3063\u305f\u591a\u6570\u306e\u7c92\u5b50\u306e\u53cd\u5fdc\u306e\u9593\u3067\u30a8\u30cd\u30eb\u30ae\u30fc\u7684\u306a\u5dee\u306b\u6709\u7121\u304c\u3042\u308b\u306e\u304b\u306b\u3064\u3044\u3066\u8abf\u3079\u308b\u5fc5\u8981\u304c\u3042\u308b\u3002"
     ]
    },
    {
     "cell_type": "markdown",
     "metadata": {},
     "source": [
      "\u3053\u308c\u3092\u4eca\u307e\u3067\u4f1a\u8b70\u306e\u30e2\u30c7\u30eb\u3068\u3057\u3066\u8003\u3048\u3066\u304d\u305f\u3082\u306e\u306b\u9069\u5fdc\u3059\u308b\u3068\u304d\u306b\u306f\u3001\u610f\u898b\u306e\u8fd1\u3044\u3082\u306e(\u95be\u5024\u3088\u308a\u3082\u8fd1\u3044\u8ddd\u96e2\u306b\u3042\u308b\u610f\u898b)\u306f\u540c\u3058\u610f\u898b\u3092\u6307\u3059\u3068\u8003\u3048\u3001\u3053\u306e\u3088\u3046\u306a\u610f\u898b\u306f\u4ee5\u524d\u306b\u767a\u8a00\u3055\u308c\u3066\u3044\u308b\u3068\u304d\u306b\u306f\u6b21\u306e\u767a\u8a00\u8005\u306f\u305d\u306e\u3088\u3046\u306a\u610f\u898b\u306f\u9078\u3073\u306b\u304f\u3044\u3001\u3068\u3044\u3046\u3053\u3068\u3092\u53cd\u6620\u3057\u305f\u30e2\u30c7\u30eb\u3067\u3042\u308b\u3053\u3068\u304c\u6c42\u3081\u3089\u308c\u308b\u3002"
     ]
    },
    {
     "cell_type": "markdown",
     "metadata": {},
     "source": [
      "\u5177\u4f53\u7684\u306a\u30e2\u30c7\u30eb\u3068\u3057\u3066\u3001\u6709\u9650\u500b\u6570\u306e\u610f\u898b\u304c\u72b6\u614b\u7a7a\u9593\u4e0a\u306b\u5206\u5e03\u3057\u3066\u3044\u308b\u3068\u304d\u306b\u3001\u3042\u308b\u95be\u5024$r$\u3088\u308a\u3082\u8fd1\u3044\u8ddd\u96e2\u306b\u3042\u308b\u70b9\u540c\u58eb\u3092\u30ce\u30fc\u30c9\u3067\u3064\u306a\u3044\u3067\u3044\u304d\u3001\u305d\u3046\u3057\u3066\u9023\u7d50\u3055\u308c\u305f\u30ce\u30fc\u30c9\u3068\u30ea\u30f3\u30af\u3092\u4e00\u3064\u306e\u30af\u30e9\u30b9\u30bf\u30fc\u3068\u3059\u308b\u3002\u305d\u3057\u3066\u610f\u898b\u306e\u9078\u3073\u65b9\u306f\u3001\u3042\u308b\u6642\u523b\u306b\u9078\u3070\u308c\u305f\u610f\u898b\u304b\u3089\u4e00\u756a\u8fd1\u3044\u4f4d\u7f6e\u306b\u30ce\u30fc\u30c9\u3092\u3082\u3064\u3088\u3046\u306a\u30af\u30e9\u30b9\u30bf\u30fc\u306e\u4e2d\u304b\u3089\u9078\u3076\u3053\u3068\u3068\u3059\u308b\u3002\u3053\u306e\u3068\u304d\u30af\u30e9\u30b9\u30bf\u30fc\u306e\u5185\u90e8\u3067\u3069\u306e\u610f\u898b\u3092\u9078\u3076\u304b\u306e\u898f\u5247\u306b\u3064\u3044\u3066\u306f\u3001\u305d\u308c\u305e\u308c\u306e\u4eba\u306e\u767a\u8a00\u529b\u3068\u306e\u95a2\u4fc2\u3067\u6c7a\u3081\u308b\u3053\u3068\u306b\u3059\u308b\u3002\u307e\u305f\u3001\u3042\u308b\u6642\u523b\u306b\u610f\u898b\u304c\u9078\u3070\u308c\u305f\u3068\u304d\u3001\u305d\u306e\u610f\u898b\u304b\u3089\u306e\u8ddd\u96e2\u304c\u4e00\u756a\u8fd1\u3044\u30af\u30e9\u30b9\u30bf\u30fc\u304b\u3089\u6b21\u306e\u610f\u898b\u3092\u9078\u3076\u3053\u3068\u306b\u3059\u308b\u3002\u4e00\u5ea6\u610f\u898b\u304c\u9078\u3070\u308c\u305f\u30af\u30e9\u30b9\u30bf\u30fc\u306f\u3082\u3046\u4e00\u5ea6\u9078\u3070\u308c\u308b\u3053\u3068\u306f\u306a\u304f\u3001\u305d\u306e\u305f\u3081\u30af\u30e9\u30b9\u30bf\u30fc\u3092\u4f5c\u308b\u306e\u306b\u5fc5\u8981\u306a\u30d1\u30e9\u30e1\u30fc\u30bf\u306e\u5024\u306b\u3088\u3063\u3066\u306f\u3001\u4f8b3\u3067\u8003\u3048\u305f\u3082\u306e\u3068\u5168\u304f\u540c\u3058\u306b\u306a\u308b\u3053\u3068\u304c\u8003\u3048\u3089\u308c\u308b\u3002"
     ]
    },
    {
     "cell_type": "markdown",
     "metadata": {},
     "source": [
      "\u4ee5\u4e0a\u306e\u8a2d\u5b9a\u3092\u8003\u3048\u3066\u3001\u30b7\u30df\u30e5\u30ec\u30fc\u30b7\u30e7\u30f3\u3092\u884c\u3063\u3066\u307f\u308b\u3002"
     ]
    },
    {
     "cell_type": "code",
     "collapsed": false,
     "input": [
      "%matplotlib inline\n",
      "import matplotlib.pyplot as plt\n",
      "import numpy as np\n",
      "from scipy.spatial.distance import euclidean as euc\n",
      "import collections\n",
      "from ipython_doctester import test"
     ],
     "language": "python",
     "metadata": {},
     "outputs": [],
     "prompt_number": 1
    },
    {
     "cell_type": "code",
     "collapsed": false,
     "input": [
      "def uniq_list(seq):\n",
      "    seen = set()\n",
      "    seen_add = seen.add\n",
      "    return [x for x in seq if x not in seen and not seen_add(x)]\n",
      "\n",
      "\n",
      "class Person:\n",
      "    \n",
      "    def __init__(self, master, id, ideas, w):\n",
      "        \"\"\"Initialize argmunets.\n",
      "        \n",
      "        Keyword arguments:\n",
      "        master    : Master class (call from \"Meeting\")\n",
      "        self.id   : Id for each person [0, 1, ..., N-1]\n",
      "        self.ideas: ideas in space [0,1] \u00d7 [0,1]\n",
      "        self.w    : probability weight for the person to speak\n",
      "        \"\"\"\n",
      "        self.id = id\n",
      "        self.ideas = ideas\n",
      "        self.w = w\n",
      "        # add_ideas : place, tag : (x, y), [person_id, cluster_id]\n",
      "        master.ideas += [[(i1, i2), [self.id, 0]] for i1, i2 in self.ideas]\n",
      "\n",
      "\n",
      "class Cluster:\n",
      "    \n",
      "    def __init__(self, ideas, r):\n",
      "        \"\"\"make cluster with self.r\n",
      "        \n",
      "        cluster_link:        \n",
      "        \"\"\"\n",
      "        self.ideas = ideas\n",
      "        self.r = r\n",
      "        self.cluster_link = []\n",
      "        self.clustering()\n",
      "        \n",
      "    def clustering(self):\n",
      "        self.cell_num = int(1./self.r)\n",
      "        lr = 1./self.cell_num\n",
      "        \n",
      "        self.cell = dict() # key: (cellx,celly), value: list of ids\n",
      "        self.rcell = []\n",
      "        for i, idea in enumerate(self.ideas):\n",
      "            cellx = int(idea[0][0]/lr)\n",
      "            celly = int(idea[0][1]/lr)\n",
      "            if self.cell.has_key((cellx, celly)):\n",
      "                self.cell[(cellx, celly)] += [i]\n",
      "            else:\n",
      "                self.cell[(cellx, celly)] = [i]\n",
      "            self.rcell.append((cellx, celly))\n",
      "        num = 1\n",
      "        for i in range(len(self.ideas)):\n",
      "            num += self.find_nearest(i, num)\n",
      "        return self.cluster_link\n",
      "\n",
      "    def find_nearest(self, idea_id, num):\n",
      "        \"\"\"find nearest idea\n",
      "\n",
      "        idea_id: index in self.ideas\n",
      "        \"\"\"\n",
      "        cx, cy = self.rcell[idea_id]\n",
      "        place = self.ideas[idea_id][0]\n",
      "        tmp = []\n",
      "        nearest = []\n",
      "        cid = [num]\n",
      "        for i in uniq_list([max(0, cx - 1), cx, min(cx + 1, self.cell_num - 1)]):\n",
      "            for j in uniq_list([max(0, cy - 1), cy, min(cy + 1, self.cell_num - 1)]):\n",
      "                if self.cell.has_key((i, j)):\n",
      "                    tmp += self.cell[(i, j)]\n",
      "        tmp.remove(idea_id)\n",
      "        if len(tmp) == 0:\n",
      "            self.ideas[idea_id][1][1] = num\n",
      "            return 1\n",
      "        else:\n",
      "            for k in tmp:\n",
      "                if euc(self.ideas[k][0], place) < self.r:\n",
      "                    nearest.append(k)\n",
      "                    prenum = self.ideas[k][1][1]\n",
      "                    if prenum == 0:\n",
      "                        cid.append(num)\n",
      "                        self.cluster_link.append((idea_id, k))\n",
      "                    elif prenum < num:\n",
      "                        cid.append(prenum)\n",
      "                        if not (k, idea_id) in self.cluster_link:\n",
      "                            self.cluster_link.append((idea_id, k))\n",
      "                    else:\n",
      "                        print \"???\"\n",
      "\n",
      "            cluster_id = min(cid)\n",
      "            if cluster_id < num:\n",
      "                ans = 0\n",
      "            else:\n",
      "                ans = 1\n",
      "            self.ideas[idea_id][1][1] = cluster_id\n",
      "            for i in nearest:\n",
      "                self.ideas[i][1][1] = cluster_id\n",
      "            cid.remove(num)\n",
      "            if len(cid) != 0:\n",
      "                cid.remove(cluster_id)\n",
      "                if len(cid) != 0:\n",
      "                    for i in cid:\n",
      "                        for x in self.ideas:\n",
      "                            if x[1][1] == i:\n",
      "                                x[1][1] = cluster_id\n",
      "            return ans\n",
      "\n",
      "        \n",
      "class Meeting:\n",
      "    \n",
      "    def __init__(self, K, N, S=20, r=0.06, draw=True):\n",
      "        self.K = K\n",
      "        self.N = N\n",
      "        self.S = S\n",
      "        self.r = r\n",
      "        self.ideas = []\n",
      "        self.minutes = []\n",
      "        self.draw = draw\n",
      "        \n",
      "    def gather_people(self, ideass=None, weights=None):\n",
      "        \"\"\"Gather participants.\n",
      "        \n",
      "        Keyword arguments:\n",
      "        ideas  : list of ideas for each person\n",
      "               ex) [((0.3,0.1),(0.2,0.5)), ((0.5,0.6))] when N = 2\n",
      "        weights: list of weights for the probability of the person to speak\n",
      "        \"\"\"\n",
      "        if not ideass:\n",
      "            x = np.random.rand(self.N, self.S*2)\n",
      "            ideass = []\n",
      "            for _x in x:\n",
      "                ideass.append([(i,j) for i,j in zip(_x[::2], _x[1::2])])\n",
      "        if not weights:\n",
      "            weights = [1.] * self.N\n",
      "        for i, ideas, w in zip(range(self.N), ideass, weights):\n",
      "            Person(self, i, ideas, w)\n",
      "\n",
      "    def init(self):\n",
      "        self.gather_people()\n",
      "        cluster = Cluster(self.ideas, self.r)\n",
      "        self.cluster_link = cluster.cluster_link\n",
      "        if self.draw:\n",
      "            colors = ['b', 'g', 'r', 'c', 'm', 'y', 'k']\n",
      "            self.fig = plt.figure(figsize=(9, 9))\n",
      "            self.ax = self.fig.add_subplot(1, 1, 1)\n",
      "            self.labels = []\n",
      "            self.s1 = []\n",
      "            for idea, tag in self.ideas:\n",
      "                x = idea[0]\n",
      "                y = idea[1]\n",
      "                s = self.ax.scatter(x, y,\n",
      "                                    c=colors[tag[0]%len(colors)],\n",
      "                                    alpha=0.2)\n",
      "                self.s1.append(s)\n",
      "            data = []\n",
      "            for link in self.cluster_link:\n",
      "                ix = self.ideas[link[0]][0][0]\n",
      "                iy = self.ideas[link[0]][0][1]\n",
      "                jx = self.ideas[link[1]][0][0]\n",
      "                jy = self.ideas[link[1]][0][1]\n",
      "                data += [(ix, jx), (iy, jy), 'k']\n",
      "            self.ax.plot(*data, alpha=0.5)\n",
      "            \n",
      "    def progress(self):\n",
      "        self.init()\n",
      "        preidea = self.ideas[np.random.choice(range(len(self.ideas)))]\n",
      "        self.minutes.append(preidea)\n",
      "        l = list(self.ideas)\n",
      "        self.k = 1\n",
      "\n",
      "        while self.k < self.K + 1:\n",
      "            \n",
      "            # remove ideas in the same cluster\n",
      "            l = [idea for idea in l if idea[1][1] != preidea[1][1]]\n",
      "\n",
      "            # if no one can speak: meeting ends.\n",
      "            if len(l) == 0:\n",
      "                print \"no one can speak.\"\n",
      "                break\n",
      "\n",
      "            distance = []\n",
      "            for i in l:\n",
      "                distance.append((euc(preidea[0], i[0]), i))\n",
      "            idea = min(distance)[1]\n",
      "            self.minutes.append(idea)\n",
      "            preidea = idea\n",
      "            self.callback()\n",
      "            self.k += 1\n",
      "        self.after()\n",
      "\n",
      "    def callback(self):\n",
      "        if self.draw:\n",
      "            ix = self.minutes[-2][0][0]\n",
      "            iy = self.minutes[-2][0][1]\n",
      "            jx = self.minutes[-1][0][0]\n",
      "            jy = self.minutes[-1][0][1]\n",
      "            l1 = self.ax.plot([ix, jx], [iy, jy], color='b', alpha=0.5)\n",
      "            self.ax.text((ix+jx)/2, (iy+jy)/2, self.k)\n",
      "        else:\n",
      "            pass\n",
      "\n",
      "    def after(self):\n",
      "        if self.draw:\n",
      "            plt.show()\n",
      "        else:\n",
      "            pass"
     ],
     "language": "python",
     "metadata": {},
     "outputs": [],
     "prompt_number": 23
    },
    {
     "cell_type": "code",
     "collapsed": false,
     "input": [
      "meeting = Meeting(K=20, N=4, S=20, r=0.06, draw=True)\n",
      "meeting.progress()"
     ],
     "language": "python",
     "metadata": {},
     "outputs": [
      {
       "metadata": {},
       "output_type": "display_data",
       "png": "[encoded data removed]",
       "text": [
        "<matplotlib.figure.Figure at 0x7f155372cb50>"
       ]
      }
     ],
     "prompt_number": 22
    },
    {
     "cell_type": "code",
     "collapsed": false,
     "input": [
      "print sorted([x[1][1] for x in meeting.minutes])\n",
      "print meeting.cluster_link\n",
      "sorted([(x[1][1], x[1][0], (x[0])) for x in meeting.ideas])"
     ],
     "language": "python",
     "metadata": {},
     "outputs": [
      {
       "output_type": "stream",
       "stream": "stdout",
       "text": [
        "[2, 4, 10, 13, 16, 17, 20, 21, 22, 24, 25, 28, 30, 31, 33, 34, 37, 40, 42, 43, 45]\n",
        "[(0, 34), (3, 15), (3, 28), (3, 32), (4, 60), (6, 79), (7, 29), (8, 77), (9, 34), (10, 12), (10, 38), (11, 41), (12, 18), (15, 28), (20, 69), (23, 67), (23, 26), (25, 63), (26, 67), (27, 65), (33, 46), (33, 73), (39, 76), (40, 75), (41, 50), (43, 45), (44, 61), (46, 73), (49, 74), (62, 66)]\n"
       ]
      },
      {
       "metadata": {},
       "output_type": "pyout",
       "prompt_number": 25,
       "text": [
        "[(1, 0, (0.88906289628782931, 0.24303302402739591)),\n",
        " (1, 0, (0.96812843535447379, 0.18959396448725441)),\n",
        " (1, 1, (0.93242152254612765, 0.22396438449609135)),\n",
        " (2, 0, (0.38465291786676048, 0.60758969674422725)),\n",
        " (3, 0, (0.19170065770433919, 0.91693912062854466)),\n",
        " (4, 0, (0.71745947882563055, 0.84704260213871818)),\n",
        " (4, 0, (0.73817013024924127, 0.80716216436699417)),\n",
        " (4, 1, (0.69592127820221916, 0.80534812770083442)),\n",
        " (4, 1, (0.74725873800646847, 0.86759382065532797)),\n",
        " (5, 0, (0.26653559333936305, 0.92141177921099604)),\n",
        " (5, 3, (0.32070362610022896, 0.93071017328117001)),\n",
        " (6, 0, (0.92888166293599506, 0.67497007688906197)),\n",
        " (7, 0, (0.71638420367308131, 0.27440779848328301)),\n",
        " (7, 3, (0.72913405201721149, 0.25976820155082769)),\n",
        " (8, 0, (0.23120809947196497, 0.45776984493392447)),\n",
        " (8, 1, (0.24812753275326394, 0.4112653962106374)),\n",
        " (9, 0, (0.65110288180384712, 0.31817036465463255)),\n",
        " (9, 3, (0.63144233413509065, 0.30773601291493935)),\n",
        " (10, 0, (0.41610610120241598, 0.49784532579496288)),\n",
        " (10, 0, (0.44758441667545179, 0.58359324068477325)),\n",
        " (10, 0, (0.46376223982262077, 0.53398410057982915)),\n",
        " (10, 1, (0.47470290245683233, 0.60510332408946854)),\n",
        " (11, 0, (0.53163377082427077, 0.22289255768692073)),\n",
        " (11, 2, (0.53784051593304061, 0.17020676073130425)),\n",
        " (11, 2, (0.57813857095918708, 0.16155700366084003)),\n",
        " (12, 0, (0.94758652759048523, 0.065359101219704341)),\n",
        " (13, 0, (0.57174292894048839, 0.46182281563588023)),\n",
        " (14, 0, (0.026736494458359128, 0.31833716834761705)),\n",
        " (15, 0, (0.72713814662630116, 0.65631840622281534)),\n",
        " (16, 0, (0.48956184409016246, 0.88273602983794142)),\n",
        " (17, 1, (0.050287650586901211, 0.63701371565661957)),\n",
        " (17, 3, (0.070342817274969272, 0.65248486578834242)),\n",
        " (18, 1, (0.0078146934366377652, 0.84591878124808606)),\n",
        " (19, 1, (0.36596674864447654, 0.8759098192820467)),\n",
        " (20, 1, (0.62774712939844701, 0.74680802426697335)),\n",
        " (20, 1, (0.65506709093655224, 0.75708052886280408)),\n",
        " (20, 3, (0.62147144266405097, 0.76988085035227483)),\n",
        " (21, 1, (0.32011582632912172, 0.78938094855255025)),\n",
        " (22, 1, (0.84061739392674972, 0.4015850562006259)),\n",
        " (22, 3, (0.88922682340093884, 0.37633319432904799)),\n",
        " (23, 1, (0.66670504141804321, 0.058220586386742323)),\n",
        " (23, 3, (0.70333336379987976, 0.091448398479456516)),\n",
        " (24, 1, (0.76449802545501211, 0.39919888340228016)),\n",
        " (25, 1, (0.95716553580845976, 0.40444297037838683)),\n",
        " (26, 1, (0.46424515867402483, 0.056770785760275055)),\n",
        " (26, 2, (0.42626074446389139, 0.055716143928636219)),\n",
        " (26, 3, (0.44697763441412341, 0.096807289755663661)),\n",
        " (27, 1, (0.91550418356399221, 0.90988701068067968)),\n",
        " (28, 1, (0.35073605203945957, 0.54510097065915275)),\n",
        " (29, 1, (0.89038744361964195, 0.52209624142717082)),\n",
        " (30, 1, (0.50876816165882832, 0.94470532758741843)),\n",
        " (30, 3, (0.46446110077429048, 0.9770597263386851)),\n",
        " (31, 2, (0.43746592335056589, 0.74345743369532413)),\n",
        " (31, 3, (0.4310352932168946, 0.77063222591296299)),\n",
        " (32, 2, (0.088826869702627986, 0.99394298016584637)),\n",
        " (33, 2, (0.048225834203413198, 0.79672458663239898)),\n",
        " (33, 2, (0.097544948151194966, 0.76565728327087657)),\n",
        " (34, 2, (0.1865073003201011, 0.5971460928679857)),\n",
        " (34, 3, (0.20389925701323353, 0.62910099932257402)),\n",
        " (35, 2, (0.95303947253183696, 0.81450758824100733)),\n",
        " (36, 2, (0.97422773428046539, 0.28904360304242127)),\n",
        " (37, 2, (0.23252131978852009, 0.78056375284429025)),\n",
        " (37, 3, (0.17804446068085689, 0.7852806227309217)),\n",
        " (38, 2, (0.12718668053609394, 0.36990719958150464)),\n",
        " (39, 2, (0.20659177139659768, 0.1661877681099887)),\n",
        " (40, 2, (0.26585423492568494, 0.61502457053377002)),\n",
        " (41, 2, (0.35986026263662108, 0.28299459067972654)),\n",
        " (42, 2, (0.58716736879594911, 0.92118389474058104)),\n",
        " (43, 2, (0.54393663248331448, 0.80609378552005739)),\n",
        " (44, 2, (0.12672283494514447, 0.53673570010336169)),\n",
        " (45, 2, (0.69205555253156115, 0.45660443045326604)),\n",
        " (46, 2, (0.66231327894346315, 0.14182535833831778)),\n",
        " (47, 3, (0.23433946358387991, 0.26947884541710787)),\n",
        " (47, 3, (0.23941552282392053, 0.23296753550304505)),\n",
        " (48, 3, (0.12030957534210973, 0.93383240990226102)),\n",
        " (49, 3, (0.78635936394717754, 0.53663778859203104)),\n",
        " (50, 3, (0.80587365094718177, 0.21806806720899774)),\n",
        " (51, 3, (0.83206187667333542, 0.58664450335354901)),\n",
        " (52, 3, (0.38870838159469745, 0.18238599348113826)),\n",
        " (53, 3, (0.46634139286242482, 0.24726507379374218))]"
       ]
      }
     ],
     "prompt_number": 25
    },
    {
     "cell_type": "markdown",
     "metadata": {},
     "source": [
      "\u4e0b\u306e\u3084\u308a\u65b9\u3067\u306f\u30af\u30e9\u30b9\u30bf\u30fc\u306e\u6570\u3092\u3061\u3083\u3093\u3068\u6570\u3048\u305f\u3053\u3068\u306b\u306a\u3089\u306a\u3044\u3002(\u30af\u30e9\u30b9\u30bf\u30fc\u540c\u58eb\u306e\u878d\u5408\u3092\u8003\u3048\u308b\u3053\u3068\u304c\u3067\u304d\u306a\u3044)"
     ]
    },
    {
     "cell_type": "code",
     "collapsed": false,
     "input": [
      "max([x[1][1] for x in meeting.ideas])"
     ],
     "language": "python",
     "metadata": {},
     "outputs": [
      {
       "metadata": {},
       "output_type": "pyout",
       "prompt_number": 7,
       "text": [
        "58"
       ]
      }
     ],
     "prompt_number": 7
    },
    {
     "cell_type": "markdown",
     "metadata": {},
     "source": [
      "\u6b63\u3057\u3044\u6570\u3048\u65b9"
     ]
    },
    {
     "cell_type": "code",
     "collapsed": false,
     "input": [
      "len(uniq_list([x[1][1] for x in meeting.ideas]))"
     ],
     "language": "python",
     "metadata": {},
     "outputs": [
      {
       "metadata": {},
       "output_type": "pyout",
       "prompt_number": 8,
       "text": [
        "58"
       ]
      }
     ],
     "prompt_number": 8
    },
    {
     "cell_type": "markdown",
     "metadata": {},
     "source": [
      "\u95be\u5024$r$\u3092\u5909\u3048\u305f\u3068\u304d\u306b\u610f\u898b\u306e\u7dcf\u6570\u306b\u5bfe\u3059\u308b\u30af\u30e9\u30b9\u30bf\u30fc\u306e\u6570\u3068\u306e\u95a2\u4fc2\u3002\u6a2a\u8ef8$r$\u3001\u7e26\u8ef8$1- (\\text{\u30af\u30e9\u30b9\u30bf\u30fc\u306e\u6570})/(\\text{\u610f\u898b\u306e\u7dcf\u6570})$\u306e\u4e21\u5bfe\u6570\u30d7\u30ed\u30c3\u30c8\u3002"
     ]
    },
    {
     "cell_type": "code",
     "collapsed": false,
     "input": [
      "trial = 30\n",
      "r = np.linspace(0.001, 0.2, num=50)\n",
      "phi = []\n",
      "for _r in r:\n",
      "    _phi = 0.\n",
      "    for t in range(trial):\n",
      "        meeting = Meeting(K=50, N=6, r=_r, draw=False)\n",
      "        meeting.init()\n",
      "        _phi += len(uniq_list([x[1][1] for x in meeting.ideas]))/float(len(meeting.ideas))\n",
      "    phi.append(1 - _phi/trial)"
     ],
     "language": "python",
     "metadata": {},
     "outputs": [],
     "prompt_number": 37
    },
    {
     "cell_type": "code",
     "collapsed": false,
     "input": [
      "fig = plt.figure(figsize=(8, 6))\n",
      "ax = fig.add_subplot(111)\n",
      "ax.plot(r, phi)\n",
      "ax.set_xscale('log')\n",
      "ax.set_yscale('log')\n",
      "plt.show()"
     ],
     "language": "python",
     "metadata": {},
     "outputs": [
      {
       "metadata": {},
       "output_type": "display_data",
       "png": "[encoded data removed]",
       "text": [
        "<matplotlib.figure.Figure at 0x7f1559ac9950>"
       ]
      }
     ],
     "prompt_number": 38
    },
    {
     "cell_type": "markdown",
     "metadata": {},
     "source": [
      "\u3053\u306e\u30b0\u30e9\u30d5\u304b\u3089\u3001\u30af\u30e9\u30b9\u30bf\u30fc\u306e\u4f5c\u308a\u65b9\u306b\u95a2\u3059\u308b\u95be\u5024$r$\u306b\u95a2\u3057\u3066\u30af\u30e9\u30b9\u30bf\u30fc\u306e\u6570\u3068\u306e\u95a2\u4fc2\u3092\u898b\u308b\u3053\u3068\u304c\u3067\u304d\u308b\u3002$r$\u304c\u5927\u304d\u304f\u306a\u308b\u307b\u3069\u30af\u30e9\u30b9\u30bf\u30fc\u304c\u3067\u304d\u3084\u3059\u304f\u3001\u307e\u305f\u30af\u30e9\u30b9\u30bf\u30fc\u540c\u58eb\u306e\u878d\u5408\u3082\u8d77\u3053\u308a\u3084\u3059\u3044\u305f\u3081\u3001$r=0.17$\u307b\u3069\u3067\u7cfb\u306e\u4e2d\u306b\u3042\u308b\u30af\u30e9\u30b9\u30bf\u30fc\u306e\u6570\u306f1\u3068\u306a\u3063\u3066\u3001\u3059\u3079\u3066\u304c\u540c\u3058\u30af\u30e9\u30b9\u30bf\u30fc\u5185\u306b\u6240\u5c5e\u3059\u308b\u3053\u3068\u306b\u306a\u308b\u3002\n",
      "\n",
      "\u307e\u305f\u3001\u4e21\u5bfe\u6570\u30b0\u30e9\u30d5\u306b\u53d6\u3063\u305f\u3068\u304d\u306b$r$\u306e\u5c0f\u3055\u3044\u3068\u3053\u308d\u3067\u306f\u76f4\u7dda\u306b\u4e57\u3063\u3066\u3044\u308b\u3053\u3068\u304b\u3089\u3001$r$\u3068\u3053\u3053\u3067\u6c42\u3081\u305f\u6307\u6a19$\\phi$\u3068\u306e\u9593\u306b\u306f\u3001$r$\u304c\u5c0f\u3055\u3044\u3068\u3053\u308d\u3067\u306f\u30d9\u30ad\u4e57\u306e\u95a2\u4fc2\u306b\u3042\u308b\u3053\u3068\u304c\u5206\u304b\u308b\u3002"
     ]
    },
    {
     "cell_type": "markdown",
     "metadata": {},
     "source": [
      "\u95be\u5024$r$\u3092\u5909\u3048\u305f\u3068\u304d\u306e\u6700\u5927\u30af\u30e9\u30b9\u30bf\u30fc\u306e\u30b5\u30a4\u30ba\u3068\u5168\u8981\u7d20\u6570\u3068\u306e\u9593\u306e\u95a2\u4fc2\u3002\u30af\u30e9\u30b9\u30bf\u30fc\u30b5\u30a4\u30ba\u3068\u306f\u3053\u3053\u3067\u306f\u540c\u3058\u30af\u30e9\u30b9\u30bf\u30fc\u5185\u306b\u542b\u307e\u308c\u308b\u8981\u7d20\u306e\u6570\u3002\n",
      "\n",
      "\u6a2a\u8ef8$r$\u3001\u7e26\u8ef8$(\\text{\u6700\u5927\u30af\u30e9\u30b9\u30bf\u30fc\u30b5\u30a4\u30ba})/(\\text{\u5168\u8981\u7d20\u6570})$"
     ]
    },
    {
     "cell_type": "code",
     "collapsed": false,
     "input": [
      "print collections.Counter([x[1][1] for x in meeting.ideas])\n",
      "max([v for v in collections.Counter([x[1][1] for x in meeting.ideas]).values()])/float(len(meeting.ideas))"
     ],
     "language": "python",
     "metadata": {},
     "outputs": [
      {
       "output_type": "stream",
       "stream": "stdout",
       "text": [
        "Counter({14: 8, 41: 7, 8: 6, 16: 5, 4: 4, 5: 4, 24: 4, 11: 3, 20: 3, 21: 3, 34: 3, 39: 3, 40: 3, 51: 3, 1: 2, 2: 2, 9: 2, 12: 2, 15: 2, 18: 2, 26: 2, 27: 2, 30: 2, 31: 2, 42: 2, 43: 2, 47: 2, 3: 1, 6: 1, 7: 1, 10: 1, 13: 1, 17: 1, 19: 1, 22: 1, 23: 1, 25: 1, 28: 1, 29: 1, 32: 1, 33: 1, 35: 1, 36: 1, 37: 1, 38: 1, 44: 1, 45: 1, 46: 1, 48: 1, 49: 1, 50: 1, 52: 1, 53: 1, 54: 1, 55: 1, 56: 1, 57: 1, 58: 1, 59: 1, 60: 1, 61: 1, 62: 1})\n"
       ]
      },
      {
       "metadata": {},
       "output_type": "pyout",
       "prompt_number": 11,
       "text": [
        "0.06666666666666667"
       ]
      }
     ],
     "prompt_number": 11
    },
    {
     "cell_type": "code",
     "collapsed": false,
     "input": [
      "trial = 30\n",
      "r = np.linspace(0.001, 0.2, num=40)\n",
      "phi = []\n",
      "for _r in r:\n",
      "    _phi = 0.\n",
      "    for t in range(trial):\n",
      "        meeting = Meeting(K=50, N=6, r=_r, draw=False)\n",
      "        meeting.init()\n",
      "        _phi += max([v for v in\n",
      "                     collections.Counter([x[1][1] for x in meeting.ideas]).values()]\n",
      "                    ) \\\n",
      "                / \\\n",
      "                float(len(meeting.ideas))\n",
      "    phi.append(_phi/trial)\n",
      "plt.plot(r, phi)"
     ],
     "language": "python",
     "metadata": {},
     "outputs": [
      {
       "metadata": {},
       "output_type": "pyout",
       "prompt_number": 78,
       "text": [
        "[<matplotlib.lines.Line2D at 0x7f8bce5ccfd0>]"
       ]
      },
      {
       "metadata": {},
       "output_type": "display_data",
       "png": "[encoded data removed]",
       "text": [
        "<matplotlib.figure.Figure at 0x7f8bce3ea9d0>"
       ]
      }
     ],
     "prompt_number": 78
    },
    {
     "cell_type": "markdown",
     "metadata": {},
     "source": []
    },
    {
     "cell_type": "code",
     "collapsed": false,
     "input": [
      "import pandas as pd\n",
      "pd.DataFrame(np.array([r, phi]).T)"
     ],
     "language": "python",
     "metadata": {},
     "outputs": [
      {
       "html": [
        "<div style=\"max-height:1000px;max-width:1500px;overflow:auto;\">\n",
        "<table border=\"1\" class=\"dataframe\">\n",
        "  <thead>\n",
        "    <tr style=\"text-align: right;\">\n",
        "      <th></th>\n",
        "      <th>0</th>\n",
        "      <th>1</th>\n",
        "    </tr>\n",
        "  </thead>\n",
        "  <tbody>\n",
        "    <tr>\n",
        "      <th>0 </th>\n",
        "      <td> 0.001000</td>\n",
        "      <td> 0.000000</td>\n",
        "    </tr>\n",
        "    <tr>\n",
        "      <th>1 </th>\n",
        "      <td> 0.011474</td>\n",
        "      <td> 0.023056</td>\n",
        "    </tr>\n",
        "    <tr>\n",
        "      <th>2 </th>\n",
        "      <td> 0.021947</td>\n",
        "      <td> 0.081389</td>\n",
        "    </tr>\n",
        "    <tr>\n",
        "      <th>3 </th>\n",
        "      <td> 0.032421</td>\n",
        "      <td> 0.181667</td>\n",
        "    </tr>\n",
        "    <tr>\n",
        "      <th>4 </th>\n",
        "      <td> 0.042895</td>\n",
        "      <td> 0.283333</td>\n",
        "    </tr>\n",
        "    <tr>\n",
        "      <th>5 </th>\n",
        "      <td> 0.053368</td>\n",
        "      <td> 0.406111</td>\n",
        "    </tr>\n",
        "    <tr>\n",
        "      <th>6 </th>\n",
        "      <td> 0.063842</td>\n",
        "      <td> 0.522222</td>\n",
        "    </tr>\n",
        "    <tr>\n",
        "      <th>7 </th>\n",
        "      <td> 0.074316</td>\n",
        "      <td> 0.635278</td>\n",
        "    </tr>\n",
        "    <tr>\n",
        "      <th>8 </th>\n",
        "      <td> 0.084789</td>\n",
        "      <td> 0.711667</td>\n",
        "    </tr>\n",
        "    <tr>\n",
        "      <th>9 </th>\n",
        "      <td> 0.095263</td>\n",
        "      <td> 0.788056</td>\n",
        "    </tr>\n",
        "    <tr>\n",
        "      <th>10</th>\n",
        "      <td> 0.105737</td>\n",
        "      <td> 0.833611</td>\n",
        "    </tr>\n",
        "    <tr>\n",
        "      <th>11</th>\n",
        "      <td> 0.116211</td>\n",
        "      <td> 0.869444</td>\n",
        "    </tr>\n",
        "    <tr>\n",
        "      <th>12</th>\n",
        "      <td> 0.126684</td>\n",
        "      <td> 0.900833</td>\n",
        "    </tr>\n",
        "    <tr>\n",
        "      <th>13</th>\n",
        "      <td> 0.137158</td>\n",
        "      <td> 0.920556</td>\n",
        "    </tr>\n",
        "    <tr>\n",
        "      <th>14</th>\n",
        "      <td> 0.147632</td>\n",
        "      <td> 0.955000</td>\n",
        "    </tr>\n",
        "    <tr>\n",
        "      <th>15</th>\n",
        "      <td> 0.158105</td>\n",
        "      <td> 0.972500</td>\n",
        "    </tr>\n",
        "    <tr>\n",
        "      <th>16</th>\n",
        "      <td> 0.168579</td>\n",
        "      <td> 0.977778</td>\n",
        "    </tr>\n",
        "    <tr>\n",
        "      <th>17</th>\n",
        "      <td> 0.179053</td>\n",
        "      <td> 0.982500</td>\n",
        "    </tr>\n",
        "    <tr>\n",
        "      <th>18</th>\n",
        "      <td> 0.189526</td>\n",
        "      <td> 0.988333</td>\n",
        "    </tr>\n",
        "    <tr>\n",
        "      <th>19</th>\n",
        "      <td> 0.200000</td>\n",
        "      <td> 0.991389</td>\n",
        "    </tr>\n",
        "  </tbody>\n",
        "</table>\n",
        "<p>20 rows \u00d7 2 columns</p>\n",
        "</div>"
       ],
       "metadata": {},
       "output_type": "pyout",
       "prompt_number": 10,
       "text": [
        "           0         1\n",
        "0   0.001000  0.000000\n",
        "1   0.011474  0.023056\n",
        "2   0.021947  0.081389\n",
        "3   0.032421  0.181667\n",
        "4   0.042895  0.283333\n",
        "5   0.053368  0.406111\n",
        "6   0.063842  0.522222\n",
        "7   0.074316  0.635278\n",
        "8   0.084789  0.711667\n",
        "9   0.095263  0.788056\n",
        "10  0.105737  0.833611\n",
        "11  0.116211  0.869444\n",
        "12  0.126684  0.900833\n",
        "13  0.137158  0.920556\n",
        "14  0.147632  0.955000\n",
        "15  0.158105  0.972500\n",
        "16  0.168579  0.977778\n",
        "17  0.179053  0.982500\n",
        "18  0.189526  0.988333\n",
        "19  0.200000  0.991389\n",
        "\n",
        "[20 rows x 2 columns]"
       ]
      }
     ],
     "prompt_number": 10
    },
    {
     "cell_type": "code",
     "collapsed": false,
     "input": [
      "a = [1,2,3,4,5,6,7]\n",
      "preidea = np.random.choice(a)\n",
      "print preidea\n",
      "print a"
     ],
     "language": "python",
     "metadata": {},
     "outputs": [
      {
       "output_type": "stream",
       "stream": "stdout",
       "text": [
        "5\n",
        "[1, 2, 3, 4, 5, 6, 7]\n"
       ]
      }
     ],
     "prompt_number": 22
    },
    {
     "cell_type": "code",
     "collapsed": false,
     "input": [
      "ideas = meeting.ideas\n",
      "r = 0.06\n",
      "cell_num = int(1./r)\n",
      "print cell_num\n",
      "lr = 1./cell_num\n",
      "print lr\n",
      "cell = dict()\n",
      "rcell = []\n",
      "for i, idea in enumerate(ideas):\n",
      "    cellx = int(idea[0][0]/lr)\n",
      "    celly = int(idea[0][1]/lr)\n",
      "    if cell.has_key((cellx, celly)):\n",
      "        cell[(cellx, celly)] += [i]\n",
      "    else:\n",
      "        cell[(cellx, celly)] = [i]\n",
      "    rcell.append((cellx, celly))\n",
      "cell"
     ],
     "language": "python",
     "metadata": {},
     "outputs": [
      {
       "output_type": "stream",
       "stream": "stdout",
       "text": [
        "16\n",
        "0.0625\n"
       ]
      },
      {
       "metadata": {},
       "output_type": "pyout",
       "prompt_number": 52,
       "text": [
        "{(0, 1): [80],\n",
        " (0, 4): [59],\n",
        " (0, 5): [11],\n",
        " (0, 7): [114],\n",
        " (0, 11): [115],\n",
        " (0, 13): [78],\n",
        " (0, 15): [43, 70, 117],\n",
        " (1, 1): [67],\n",
        " (1, 6): [8],\n",
        " (1, 9): [39],\n",
        " (2, 1): [108],\n",
        " (2, 2): [113],\n",
        " (2, 4): [10],\n",
        " (2, 5): [18],\n",
        " (2, 7): [63],\n",
        " (2, 8): [81],\n",
        " (2, 9): [35, 74],\n",
        " (2, 13): [48],\n",
        " (2, 15): [103],\n",
        " (3, 0): [91],\n",
        " (3, 4): [4, 42],\n",
        " (3, 10): [58, 73],\n",
        " (3, 11): [0],\n",
        " (3, 15): [96],\n",
        " (4, 5): [34],\n",
        " (4, 6): [46],\n",
        " (4, 9): [16],\n",
        " (4, 11): [86],\n",
        " (4, 12): [89],\n",
        " (5, 2): [75],\n",
        " (5, 3): [76, 107],\n",
        " (5, 4): [99],\n",
        " (5, 9): [28],\n",
        " (5, 10): [72],\n",
        " (5, 11): [5],\n",
        " (5, 12): [51, 53],\n",
        " (5, 13): [31],\n",
        " (5, 14): [92, 106],\n",
        " (5, 15): [102],\n",
        " (6, 1): [77, 87],\n",
        " (6, 3): [2],\n",
        " (6, 6): [50, 112, 116],\n",
        " (6, 8): [25],\n",
        " (6, 9): [45],\n",
        " (6, 13): [22],\n",
        " (7, 1): [79],\n",
        " (7, 2): [66],\n",
        " (7, 3): [64],\n",
        " (7, 5): [84],\n",
        " (7, 6): [14, 109],\n",
        " (7, 7): [19],\n",
        " (7, 9): [23],\n",
        " (7, 13): [104],\n",
        " (7, 14): [1],\n",
        " (7, 15): [54],\n",
        " (8, 4): [111],\n",
        " (8, 7): [20, 62],\n",
        " (8, 9): [33],\n",
        " (8, 10): [9],\n",
        " (8, 11): [94],\n",
        " (8, 14): [85],\n",
        " (9, 0): [52, 83],\n",
        " (9, 2): [47],\n",
        " (9, 6): [3, 38],\n",
        " (9, 7): [105],\n",
        " (9, 8): [44],\n",
        " (9, 11): [57],\n",
        " (9, 12): [61],\n",
        " (9, 13): [119],\n",
        " (10, 0): [101],\n",
        " (10, 2): [100],\n",
        " (10, 3): [95],\n",
        " (10, 5): [69],\n",
        " (10, 7): [60],\n",
        " (10, 10): [56],\n",
        " (10, 13): [12],\n",
        " (10, 14): [7],\n",
        " (11, 1): [21],\n",
        " (11, 7): [88, 93],\n",
        " (11, 8): [110],\n",
        " (11, 9): [6],\n",
        " (12, 0): [26, 41],\n",
        " (12, 2): [49],\n",
        " (12, 5): [37],\n",
        " (12, 6): [13],\n",
        " (12, 8): [24],\n",
        " (12, 10): [40],\n",
        " (12, 12): [118],\n",
        " (12, 13): [15],\n",
        " (13, 4): [27, 65],\n",
        " (13, 6): [17],\n",
        " (13, 9): [36],\n",
        " (13, 13): [32],\n",
        " (13, 15): [90],\n",
        " (14, 0): [29],\n",
        " (14, 2): [97],\n",
        " (14, 4): [55],\n",
        " (14, 14): [68, 71],\n",
        " (14, 15): [82],\n",
        " (15, 0): [98],\n",
        " (15, 1): [30]}"
       ]
      }
     ],
     "prompt_number": 52
    },
    {
     "cell_type": "code",
     "collapsed": false,
     "input": [
      "cell_num = 14\n",
      "[[[]]*cell_num]*cell_num"
     ],
     "language": "python",
     "metadata": {},
     "outputs": [
      {
       "metadata": {},
       "output_type": "pyout",
       "prompt_number": 20,
       "text": [
        "[[[], [], [], [], [], [], [], [], [], [], [], [], [], []],\n",
        " [[], [], [], [], [], [], [], [], [], [], [], [], [], []],\n",
        " [[], [], [], [], [], [], [], [], [], [], [], [], [], []],\n",
        " [[], [], [], [], [], [], [], [], [], [], [], [], [], []],\n",
        " [[], [], [], [], [], [], [], [], [], [], [], [], [], []],\n",
        " [[], [], [], [], [], [], [], [], [], [], [], [], [], []],\n",
        " [[], [], [], [], [], [], [], [], [], [], [], [], [], []],\n",
        " [[], [], [], [], [], [], [], [], [], [], [], [], [], []],\n",
        " [[], [], [], [], [], [], [], [], [], [], [], [], [], []],\n",
        " [[], [], [], [], [], [], [], [], [], [], [], [], [], []],\n",
        " [[], [], [], [], [], [], [], [], [], [], [], [], [], []],\n",
        " [[], [], [], [], [], [], [], [], [], [], [], [], [], []],\n",
        " [[], [], [], [], [], [], [], [], [], [], [], [], [], []],\n",
        " [[], [], [], [], [], [], [], [], [], [], [], [], [], []]]"
       ]
      }
     ],
     "prompt_number": 20
    },
    {
     "cell_type": "code",
     "collapsed": false,
     "input": [
      "@test\n",
      "def uniq_list(seq):\n",
      "    \"\"\"\n",
      "    >>> a = [1, 2, 5, 6, 7, 3, 2, 0]\n",
      "    >>> uniq_list(a)\n",
      "    [1, 2, 5, 6, 7, 3, 0]\n",
      "    \"\"\"\n",
      "    seen = set()\n",
      "    seen_add = seen.add\n",
      "    return [x for x in seq if x not in seen and not seen_add(x)]\n"
     ],
     "language": "python",
     "metadata": {},
     "outputs": [
      {
       "html": [
        "\n",
        "      <p style=\"color:green;font-size:250%;font-weight=bold\">Success!</p>\n",
        "      "
       ],
       "metadata": {},
       "output_type": "display_data"
      }
     ],
     "prompt_number": 44
    }
   ],
   "metadata": {}
  }
 ]
}