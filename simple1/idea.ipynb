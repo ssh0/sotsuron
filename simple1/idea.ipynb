{
 "cells": [
  {
   "cell_type": "markdown",
   "metadata": {},
   "source": [
    "# 意見の作るネットワークについて"
   ]
  },
  {
   "cell_type": "markdown",
   "metadata": {},
   "source": [
    "例1で考えたように、完全にランダムな意見を考え、その距離が閾値より小さいものをすべてリンクでつないでいくようなモデルを考えたとき、それは解析的に解くことができて、また自明な結果しか与えなかった。\n",
    "\n",
    "次に考えるのは、他のアルゴリズムを考えた時に、アイデアの質と発言回数の関係がどのようになるか、そして、そもそものモチベーションである人数と会議の質の問題にどう繋げられるかである。"
   ]
  },
  {
   "cell_type": "markdown",
   "metadata": {},
   "source": [
    "## ex 0)"
   ]
  },
  {
   "cell_type": "markdown",
   "metadata": {},
   "source": [
    "先行研究(?)のなかで考えられていたもの。\n",
    "意見はその前に発言したものよりいいものであるという仮定\n",
    "\n",
    "→意見の最大値の期待値\n",
    "\n",
    "$$E(X_{(n)}) = 1-\\left( \\frac{1}{2} \\right)^{n}$$\n"
   ]
  },
  {
   "cell_type": "markdown",
   "metadata": {},
   "source": [
    "## ex 1)"
   ]
  },
  {
   "cell_type": "markdown",
   "metadata": {},
   "source": [
    "まず考えるのは、意見が$[0,1]$の一様乱数をとると仮定した時に、そのつなぎ方をかえるものである。\n",
    "\n",
    "このとき会議を通して得られた意見からどれほどの価値が生まれたかの指標は?\n",
    "\n"
   ]
  },
  {
   "cell_type": "markdown",
   "metadata": {},
   "source": [
    "### ex 1-1)"
   ]
  },
  {
   "cell_type": "markdown",
   "metadata": {},
   "source": [
    "意見の近さと人数の関係を位置づけるために、それぞれの人のもつ意見のうちでもっとも近い意見のもののみを選び、その中で順位付け、近い順にリンクを張っていく。リンクの数=ステップ数(→[simple3](../simple3/simple3_123.ipynb))"
   ]
  },
  {
   "cell_type": "markdown",
   "metadata": {},
   "source": [
    "### ex 1-2)"
   ]
  },
  {
   "cell_type": "markdown",
   "metadata": {},
   "source": [
    "乱数の値が意見の質を表していると考えた時に、その和の大きさが閾値を超えたときにのみリンクを張っていくことにする。(→閾値モデル)\n",
    "\n",
    "閾値モデル:\n",
    "\n",
    "- 各ノードに確率的に重みをつけ、重みの和が一定値以上の場合に枝をおく\n",
    "\n",
    "\n",
    "重み$w_{i}$が指数分布\n",
    "\n",
    "$$f(x) = \\left\\{\\begin{array}{ll}\n",
    "\\lambda e^{-\\lambda x} & (x \\ge 0) \\\\\n",
    "0 & (x< 0) \\end{array} \\right.,\\ \\ \\lambda > 0$$\n",
    "\n",
    "に従う時、次数分布$p(k)$は\n",
    "\n",
    "$$p(k)\\propto k^{-2}$$\n",
    "\n",
    "になる。"
   ]
  },
  {
   "cell_type": "markdown",
   "metadata": {},
   "source": [
    "## ex 2)"
   ]
  },
  {
   "cell_type": "markdown",
   "metadata": {},
   "source": [
    "次に考えるのは、意見の質の分布が一様でないような場合を考える。\n",
    "\n",
    "- ex 2.1) 良い意見ほど出にくく、質の悪い意見ばかりでる --> 指数分布\n",
    "\n",
    "$$f(x) = \\left\\{\\begin{array}{ll}\n",
    "\\lambda e^{-\\lambda x} & (x \\ge 0) \\\\\n",
    "0 & (x< 0) \\end{array} \\right.,\\ \\ \\lambda > 0$$\n",
    "\n",
    "- ex 2.2) 平均的な意見のまわりに多くの意見が分布し、極端に良い意見も悪い意見も出にくい -- "
   ]
  }
 ],
 "metadata": {
  "kernelspec": {
   "display_name": "Python 2",
   "language": "python",
   "name": "python2"
  },
  "language_info": {
   "codemirror_mode": {
    "name": "ipython",
    "version": 2
   },
   "file_extension": ".py",
   "mimetype": "text/x-python",
   "name": "python",
   "nbconvert_exporter": "python",
   "pygments_lexer": "ipython2",
   "version": "2.7.6"
  }
 },
 "nbformat": 4,
 "nbformat_minor": 0
}
