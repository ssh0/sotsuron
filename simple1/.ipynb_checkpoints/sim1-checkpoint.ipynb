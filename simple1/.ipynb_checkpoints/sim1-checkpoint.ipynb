{
 "metadata": {
  "name": "",
  "signature": "sha256:f87d49c3bd67661e39c8526c02661eac4c0e044365794ac26740933ed7263ed1"
 },
 "nbformat": 3,
 "nbformat_minor": 0,
 "worksheets": [
  {
   "cells": [
    {
     "cell_type": "heading",
     "level": 1,
     "metadata": {
      "internals": {
       "slide_helper": "subslide_end",
       "slide_type": "subslide"
      },
      "slide_helper": "slide_end",
      "slideshow": {
       "slide_type": "slide"
      }
     },
     "source": [
      "\u30e2\u30c7\u30eb\u5316"
     ]
    },
    {
     "cell_type": "heading",
     "level": 2,
     "metadata": {
      "internals": {
       "slide_type": "subslide"
      },
      "slideshow": {
       "slide_type": "slide"
      }
     },
     "source": [
      "\u69cb\u60f3"
     ]
    },
    {
     "cell_type": "markdown",
     "metadata": {
      "internals": {
       "slide_helper": "subslide_end"
      },
      "slide_helper": "slide_end",
      "slideshow": {
       "slide_type": "-"
      }
     },
     "source": [
      "\u30b7\u30c1\u30e5\u30a8\u30fc\u30b7\u30e7\u30f3:\n",
      "\n",
      "- \u306f\u3058\u3081\u306b\u8b70\u984c\u304c\u4e0e\u3048\u3089\u308c\u308b\n",
      "- \u53c2\u52a0\u8005\u306f\u305d\u308c\u307e\u3067\u306b\u63d0\u51fa\u3055\u308c\u305f\u610f\u898b\u306b\u95a2\u9023\u3057\u3066\u81ea\u5206\u306e\u610f\u898b\u3092\u8ff0\u3079\u308b\n",
      "- \u6c88\u9ed9\u3082\u8003\u616e\n",
      "\n",
      "\u4eee\u5b9a:\n",
      "\n",
      "- \u4e00\u5ea6\u306b\u767a\u8a00\u3067\u304d\u308b\u306e\u306f\u4e00\u4eba\u307e\u3067\n",
      "- \u53c2\u52a0\u8005\u306e\u610f\u898b\u306e\u5f15\u304d\u51fa\u3057\u306f\u6709\u9650(\u4eba\u304c\u591a\u3044\u307b\u3069\u591a\u69d8\u6027\u304c\u78ba\u4fdd\u3055\u308c\u308b)\n",
      "- \u7d50\u8ad6\u306f\u8b70\u984c\u3084\u3042\u308b\u4e00\u5b9a\u6570\u4ee5\u4e0a\u306e\u610f\u898b\u306b\u95a2\u9023\u3057\u305f\u610f\u898b\u3067\u3042\u308b(\u305f\u3068\u3048\u3070\u53c2\u52a0\u8005\u306e\u6570\u306e2\u500d\u7a0b\u5ea6)\u3002\n",
      "- \u7d50\u8ad6\u304c\u51fa\u308b\u307e\u3067\u306b\u304b\u304b\u308b\u6642\u9593\u304c\u9577\u3044\u307b\u3069\u8a55\u4fa1\u306f\u4f4e\u304f\u306a\u308b\u3002\n"
     ]
    },
    {
     "cell_type": "heading",
     "level": 2,
     "metadata": {
      "internals": {
       "slide_type": "subslide"
      },
      "slideshow": {
       "slide_type": "slide"
      }
     },
     "source": [
      "\u5b9a\u5f0f\u5316"
     ]
    },
    {
     "cell_type": "markdown",
     "metadata": {
      "internals": {
       "slide_helper": "subslide_end"
      },
      "slide_helper": "subslide_end",
      "slideshow": {
       "slide_type": "-"
      }
     },
     "source": [
      "\u8a55\u4fa1\u95a2\u6570\u306b\u3064\u3044\u3066:\n",
      "\n",
      "\u8a55\u4fa1\u95a2\u6570\u306f\u53c2\u52a0\u8005\u306e\u4eba\u6570$n$\u306b\u5bfe\u3057\u3066\n",
      "\n",
      "$L(n)$:\u7d50\u8ad6\u307e\u3067\u306b\u5f35\u3089\u308c\u305f\u30ea\u30f3\u30af\u306e\u6570\n",
      "\n",
      "$T(n)$:\u7d50\u8ad6\u307e\u3067\u306b\u304b\u304b\u3063\u305f\u6642\u9593\n",
      "\n",
      "\u3068\u3057\u3066\u3001\n",
      "\n",
      "$$f(n) = f_L(n) - f_T(n)$$\n",
      "\n",
      "\u3068\u3067\u304d\u308b\u3060\u308d\u3046\u3002$f_{L},f_{T}$\u306f\u9023\u7d9a\u306a\u6b63\u5024\u95a2\u6570\n"
     ]
    },
    {
     "cell_type": "markdown",
     "metadata": {
      "internals": {
       "slide_helper": "subslide_end",
       "slide_type": "subslide"
      },
      "slide_helper": "subslide_end",
      "slideshow": {
       "slide_type": "subslide"
      }
     },
     "source": [
      "\u767a\u8a00\u304c\u3001\u305d\u308c\u3092\u7279\u5fb4\u3065\u3051\u308b\u30d1\u30e9\u30e1\u30fc\u30bf(\u767a\u8a00\u8005\u3001\u601d\u60f3\u3001\u8cdb\u6210\u53cd\u5bfe\u3001\u91cd\u8981\u5ea6\u306a\u3069)$a$\u500b\u3067\u8868\u73fe\u3067\u304d\u308b\u3068\u3057\u305f\u6642\u3001\u5404\u96e2\u6563\u6642\u523b$t_{k}$(\u5168\u4f53\u3067$k$\u756a\u76ee\u306e\u767a\u8a00\u306e\u958b\u59cb\u3055\u308c\u305f\u6642\u523b)\u306b\u306a\u3055\u308c\u308b\u767a\u8a00$x_{k}$\u306f$R^{a}$\u4e0a\u306e\u6709\u754c\u96c6\u5408$X\\subset R^{a}$\u306b\u304a\u3051\u308b1\u70b9\u3068\u307f\u306a\u3059\u3053\u3068\u304c\u3067\u304d\u308b\u3002\n",
      "\n",
      "\u767a\u8a00\u8005\u306e\u4eba\u6570\u3092$n$\u4eba\u3068\u3059\u308b\u3068\u3001$x$\u306e\u30d1\u30e9\u30e1\u30fc\u30bf\u306e\u4e00\u3064\u3067\u3042\u308b\u767a\u8a00\u8005\u306f\u3001\u30a2\u30eb\u30d5\u30a1\u30d9\u30c3\u30c8$N = \\{1, 2, \\dots n\\}$\u306b\u3001\u6c88\u9ed9\u3092\u610f\u5473\u3059\u308b\\{0\\}\u3092\u52a0\u3048\u3066\u8868\u3059\u3053\u3068\u304c\u3067\u304d\u308b(\u3053\u308c\u3092$N'$\u3068\u3059\u308b)\u3002\n",
      "\n",
      "\u3053\u3053\u3067\u3001$i$\u306e\u6301\u3063\u3066\u3044\u308b\u610f\u898b\u3059\u3079\u3066\u306e\u96c6\u5408\u306f$X_{i}$\u3068\u8868\u3057\u3001\u305d\u306e\u8981\u7d20\u6570\u306f$I_{i}$\u3068\u8868\u3059\u3053\u3068\u306b\u3059\u308b\u3002\n",
      "\n",
      "\u3059\u306a\u308f\u3061\n",
      "\n",
      "$$X_{i} = \\{\\text{person}(x)=i) | x \\in X\\}$$\n",
      "\n",
      "\n",
      "\u307e\u305f\u3001\u5b9a\u7fa9\u3088\u308a\n",
      "\n",
      "$$X_{i} \\cap X_{j} = \\emptyset,\\ \\ \\,\\ ^{\\forall} i, j \\in \\{i\\neq j | i, j \\in N'\\}$$\n",
      "\n",
      "\n",
      "$$ \\bigcup_{i=0}^{n} X_{i} = X$$\n",
      "\n",
      "\u3067\u3042\u308b\u3002\n"
     ]
    },
    {
     "cell_type": "markdown",
     "metadata": {
      "internals": {
       "slide_helper": "subslide_end",
       "slide_type": "subslide"
      },
      "slide_helper": "subslide_end",
      "slideshow": {
       "slide_type": "subslide"
      }
     },
     "source": [
      "\u6b21\u306b\u3001\u6642\u523b$k$\u306b$i$\u304c\u767a\u8a00\u3057\u305f\u5f8c\u3001\u6642\u523b$k+1$\u306b$j$\u304c\u767a\u8a00\u3059\u308b\u6761\u4ef6\u4ed8\u304d\u78ba\u7387$P(x_{k+1}^{j}|x_{k}^{i})$\u306f\u3001\u4ee5\u4e0b\u306e\u3088\u3046\u306b\u66f8\u3051\u308b\u3060\u308d\u3046\u3002\n",
      "\n",
      "$$P(x_{k+1}^{j}|x_{k}^{i}) = p_{i}(k,j)q(x_{k+1}^{j},X_{j}(k)),\\ \\ \\ \\ ^{\\forall} i, j \\in N'$$\n",
      "\n",
      "\u3053\u3053\u3067\u3001$p_{i}(k,j)$\u306f\u767a\u8a00\u8005$i$\u306e\u3042\u3068\u306b$j$\u304c\u767a\u8a00\u3059\u308b\u78ba\u7387\u3067\u3042\u308a\u3001$q(x_{k+1}^{j},X_{j}(k))$\u306f\u3001$j$\u306e\u767a\u8a00\u306e\u3046\u3061\u3001$k$\u756a\u76ee\u307e\u3067\u306b\u51fa\u73fe\u3057\u3066\u3044\u306a\u3044\u767a\u8a00\u3092\u9078\u3076\u78ba\u7387\u3067\u3042\u308b\u3002\u6761\u4ef6\u4ed8\u304d\u78ba\u7387\u306e\u5b9a\u7fa9\u304b\u3089\u3001$X_{j}(k) = \\emptyset$\u306e\u6642\u3001$p_{i}(k,j)$\u306f\u518d\u5b9a\u7fa9\u3055\u308c\u308b\u5fc5\u8981\u304c\u3042\u308b\u3002$p$\u3068$q$\u306e\u5177\u4f53\u7684\u306a\u5f62\u306b\u3064\u3044\u3066\u306f\u5f8c\u3067\u8ff0\u3079\u308b\u3053\u3068\u3068\u3059\u308b\u3002"
     ]
    },
    {
     "cell_type": "markdown",
     "metadata": {
      "internals": {
       "slide_helper": "subslide_end",
       "slide_type": "subslide"
      },
      "slide_helper": "subslide_end",
      "slideshow": {
       "slide_type": "subslide"
      }
     },
     "source": [
      "\u6642\u9593\u767a\u5c55\u306f\u4ee5\u4e0b\u306e\u3088\u3046\u306a\u30d7\u30ed\u30bb\u30b9\u3067\u9032\u5c55\u3059\u308b\u3002\n",
      "\n",
      "\u521d\u671f\u6761\u4ef6\u3068\u3057\u3066\u306e\u610f\u898b$x_{0}$\u306f\u8b70\u984c\u3067\u3042\u308a\u3001\u3053\u306e\u3068\u304d\u306e\u767a\u8a00\u8005\u306f$0$\u3067\u3042\u308b\u3068\u3059\u308b\u3002\n",
      "\n",
      "\u6642\u523b$t_{1}$\u3067\u78ba\u7387$P(x_{1}^{i}|x_{0}^{0})$\u306e\u3082\u3068\u70b9$x_{1}^{i}$\u304c\u9078\u3070\u308c\u3001\u3053\u306e\u3068\u304d\u8b70\u984c$x_{o}^{0}$\u3068\u306e\u9593\u306e\u95a2\u4fc2\u304c\u3042\u308c\u3070(\u3059\u306a\u308f\u3061\u9069\u5f53\u306b\u5b9a\u3081\u305f\u8ddd\u96e2\u306b\u304a\u3044\u3066\u3001\u3042\u308b\u95be\u5024$r$\u3088\u308a\u5c0f\u3055\u3051\u308c\u3070)\u3001\u3053\u306e\u4e8c\u3064\u306e\u8981\u7d20\u306e\u9593\u306b\u30ea\u30f3\u30af\u3092\u5f35\u308b\u3053\u3068\u306b\u3059\u308b\u3002\u4e00\u5ea6\u9078\u3070\u308c\u305f\u70b9\u306f\u3001\u518d\u3073\u9078\u3070\u308c\u308b\u3053\u3068\u306f\u306a\u3044\u3002\n",
      "\n",
      "\u4ee5\u5f8c\u540c\u69d8\u306b\u78ba\u7387\u7684\u306b\u70b9\u3092\u9078\u3093\u3067\u3044\u304d\u3001\u305d\u308c\u307e\u3067\u306b\u767a\u8a00\u3055\u308c\u305f\u70b9\u3067\u8ddd\u96e2\u304c\u8fd1\u3044\u70b9\u306f\u3059\u3079\u3066\u30ea\u30f3\u30af\u3067\u7d50\u3093\u3067\u3086\u304f\u3002\n",
      "\n",
      "\u30b7\u30df\u30e5\u30ec\u30fc\u30b7\u30e7\u30f3\u306e\u7d42\u4e86\u6761\u4ef6\u306f\u3001\u3042\u308b\u767a\u8a00\u304c\u306a\u3055\u308c\u305f\u6642\u3001\u305d\u306e\u767a\u8a00\u304c\u3042\u308b\u95be\u5024\u3088\u308a\u5927\u304d\u3044\u30ea\u30f3\u30af\u6570\u3092\u6301\u3064\u3088\u3046\u306a\u5834\u5408\u3068\u3001\u3059\u3079\u3066\u306e\u53c2\u52a0\u8005\u304c\u767a\u8a00\u3057\u5c3d\u304f\u3057\u3066\u3057\u307e\u3063\u305f\u5834\u5408\u3067\u3042\u308b\u3002\n"
     ]
    },
    {
     "cell_type": "heading",
     "level": 3,
     "metadata": {
      "internals": {
       "slide_type": "subslide"
      },
      "slideshow": {
       "slide_type": "subslide"
      }
     },
     "source": [
      "$p,q$\u306e\u5177\u4f53\u4f8b"
     ]
    },
    {
     "cell_type": "markdown",
     "metadata": {
      "internals": {
       "slide_helper": "subslide_end"
      },
      "slide_helper": "subslide_end",
      "slideshow": {
       "slide_type": "-"
      }
     },
     "source": [
      "$p$\u306f\u3001\u3042\u308b\u4eba$i$\u306e\u767a\u8a00\u304c$j$\u306b\u5411\u3051\u3089\u308c\u308b\u3053\u3068\u306b\u3088\u308b\u52b9\u679c\u3084\u3001\u58f0\u306e\u5927\u304d\u3055\u3001\u7acb\u5834\u3001\u5b9f\u969b\u306e\u7269\u7406\u7684\u8ddd\u96e2\u3001\u89aa\u5bc6\u5ea6\u3001\u95a2\u5fc3\u306a\u3069\u306e\u8981\u7d20\u3092\u542b\u3093\u3067\u3044\u308b\u3002\n",
      "\n",
      "\u4e00\u756a\u7c21\u5358\u306a\u5b9a\u5f0f\u5316\u306f\u3001\u3059\u3079\u3066\u306e\u4eba\u306b\u95a2\u3057\u3066\u7b49\u78ba\u7387\u3067\u8a71\u3059\u3053\u3068\u3092\u4fc3\u9032\u3059\u308b\u3068\u3044\u3046\u3082\u306e\u3067\u3042\u308b\u3002\n",
      "\n",
      "$$p_{i}(k,j) = \\frac{1}{m}$$\n",
      "\n",
      "\u3053\u3053\u3067$m$\u306f\u3001\u6642\u523b$t_{k}$\u306e\u7d42\u308f\u3063\u305f\u6642\u70b9\u3067\u767a\u8a00\u3059\u308b\u3053\u3068\u306e\u3067\u304d\u308b\u4eba(\u767a\u8a00\u306e\u30b9\u30c8\u30c3\u30af\u304c\u3042\u308b\u4eba)\u306e\u6570+(\u6c88\u9ed9)\u3067\u3042\u308b\u3002"
     ]
    },
    {
     "cell_type": "markdown",
     "metadata": {
      "internals": {
       "slide_helper": "subslide_end",
       "slide_type": "subslide"
      },
      "slide_helper": "subslide_end",
      "slideshow": {
       "slide_type": "subslide"
      }
     },
     "source": [
      "\u6b21\u306b\u73fe\u5b9f\u7684\u306a\u5b9a\u5f0f\u5316\u3068\u3057\u3066\u3001\u5404\u53c2\u52a0\u8005\u306e\u5b9f\u969b\u306e\u4f4d\u7f6e\u3092\u7528\u3044\u3066\u3001\u305d\u306e\u8ddd\u96e2\u306b\u5fdc\u3058\u3066\u91cd\u307f\u3092\u4ed8\u3051\u308b\u3068\u3044\u3046\u3082\u306e\u304c\u8003\u3048\u3089\u308c\u308b\u3002\n",
      "\n",
      "\u3059\u306a\u308f\u3061\u3001$i$\u304b\u3089$j$\u306e\u5b9f\u969b\u306e\u7269\u7406\u7684\u8ddd\u96e2\u304c$d_{ij}$\u3067\u66f8\u3051\u308b\u3068\u3059\u308b\u3068\u3001\n",
      "\n",
      "$$p_{i}(k,j) = \\frac{g(d_{ij})}{\\sum_{v \\in N'} g(d_{iv})}$$\n",
      "\n",
      "\u306e\u3088\u3046\u306b\u3067\u304d\u308b\u3002\u3053\u306e\u3068\u304d\u95a2\u6570$g$\u306f$[0, +\\infty)$\u306e\u9818\u57df\u3067\u9023\u7d9a\u3067\u6709\u754c\u306a\u6b63\u5024\u5358\u8abf\u6e1b\u5c11\u95a2\u6570\u3068\u8003\u3048\u3066\u3044\u3044\u3060\u308d\u3046\u3002\u307e\u305f\u3001\u3053\u306e\u5834\u5408\u306b\u306f$d_{i0}$\u306b\u306f\u6b63\u306e\u6709\u754c\u5024\u3092\u4efb\u610f\u306b\u4e0e\u3048\u308b\u5fc5\u8981\u304c\u3042\u308b\u3060\u308d\u3046(\u4ed6\u306e\u5024\u3068\u306e\u76f8\u5bfe\u7684\u306a\u5927\u5c0f\u306f\u3001\u58f0\u306e\u5927\u304d\u3055\u3001\u5834\u6240\u306e\u58f0\u306e\u901a\u308a\u3084\u3059\u3055\u306a\u3069\u3092\u8868\u3059\u3053\u3068\u306b\u306a\u308b)\u3002\n",
      "\n",
      "ex1)$$ g(x) = \\frac{1}{x+1}$$\n",
      "\n",
      "ex2)$$\\displaystyle g(x) = e^{-x}$$\n",
      "\n"
     ]
    },
    {
     "cell_type": "markdown",
     "metadata": {
      "internals": {
       "slide_helper": "subslide_end",
       "slide_type": "subslide"
      },
      "slide_helper": "subslide_end",
      "slideshow": {
       "slide_type": "subslide"
      }
     },
     "source": [
      "$q$\u306f\u3001\u767a\u8a00\u8005\u304c\u5b9a\u307e\u3063\u305f\u4e0a\u3067\u3001\u305d\u306e\u4e2d\u304b\u3089\u4e00\u3064\u767a\u8a00\u3092\u9078\u3076\u78ba\u7387\u3067\u3042\u308b\u3002\u3053\u308c\u3082\u6700\u3082\u7c21\u5358\u306a\u5f0f\u3068\u3057\u3066\u306f\n",
      "\n",
      "$$ q(x_{k+1}^{j}, X_{j}(k)) = \\frac{1}{\\#X_{j}(k)}$$\n",
      "\n",
      "\u304c\u8003\u3048\u3089\u308c\u308b\u3002\u3053\u3053\u3067$\\#$\u306f\u96c6\u5408\u5185\u306e\u8981\u7d20\u6570\u3067\u3042\u308b\u3002\u307e\u305f\u3001\u5148\u7a0b\u3082\u8ff0\u3079\u305f\u3088\u3046\u306b$\\#X_{j}(k)=0$\u306e\u3068\u304d\u306f\u3053\u308c\u306f\u5b9a\u7fa9\u3067\u304d\u306a\u3044\u3002"
     ]
    },
    {
     "cell_type": "markdown",
     "metadata": {
      "internals": {
       "slide_type": "subslide"
      },
      "slideshow": {
       "slide_type": "subslide"
      }
     },
     "source": [
      "\u6b21\u306b\u8003\u3048\u3089\u308c\u308b\u306e\u306f\u3001\u305d\u308c\u307e\u3067\u306e\u610f\u898b\u3092\u3067\u304d\u308b\u3060\u3051\u53cd\u6620\u3059\u308b\u3088\u3046\u306b\u767a\u8a00\u3059\u308b\u3088\u3046\u306a\u5834\u5408\u3067\u3001\u3053\u306e\u3068\u304d\u3001\n",
      "\n",
      "$$\\# \\{d(x_{l}^{s}, x_{k+1}^{j}) < r \\ |\\  ^{\\forall} l \\le k, s \\in N\\}$$\n",
      "\n",
      "\u3092\u6700\u5927\u306b\u3059\u308b\u3088\u3046\u306a$x_{k+1}^{j}$\u304c\u9078\u3070\u308c\u308b\u3002"
     ]
    },
    {
     "cell_type": "markdown",
     "metadata": {
      "internals": {},
      "slideshow": {
       "slide_type": "-"
      }
     },
     "source": [
      "\u3082\u3057\u304f\u306f\u3001\u76f4\u524d\u306e\u610f\u898b\u306e\u307f\u306b\u95a2\u9023\u3059\u308b\u3088\u3046\u306b\u767a\u8a00\u3059\u308b\u3068\u3059\u308c\u3070\u3001\n",
      "\n",
      "$x_{k+1}^{j}$\u306e\u9078\u3073\u65b9\u306f\u3001$d(x_{k}^{i}-x_{k+1}^{j})$\u3092\u6700\u5c0f\u3068\u3059\u308b\u3088\u3046\u306b\u9078\u3079\u3070\u826f\u3044\u3002\n"
     ]
    },
    {
     "cell_type": "heading",
     "level": 2,
     "metadata": {
      "internals": {},
      "slideshow": {
       "slide_type": "skip"
      }
     },
     "source": [
      "\u30b7\u30df\u30e5\u30ec\u30fc\u30b7\u30e7\u30f3"
     ]
    },
    {
     "cell_type": "code",
     "collapsed": true,
     "input": [
      "import matplotlib.pyplot as plt\n",
      "import numpy as np"
     ],
     "language": "python",
     "metadata": {
      "internals": {},
      "slideshow": {
       "slide_type": "skip"
      }
     },
     "outputs": [],
     "prompt_number": 1
    },
    {
     "cell_type": "code",
     "collapsed": false,
     "input": [
      "N = 6\n",
      "radius = 3\n",
      "\n",
      "def accumulate(iterable):\n",
      "    'Return running totals'\n",
      "    # accumulate([1,2,3,4,5]) --> 1 3 6 10 15\n",
      "    # accumulate([1,2,3,4,5], operator.mul) --> 1 2 6 24 120\n",
      "    it = iter(iterable)\n",
      "    total = next(it)\n",
      "    yield total\n",
      "    for element in it:\n",
      "        total += element\n",
      "        yield total\n",
      "\n",
      "class Person(object):\n",
      "    \n",
      "    def __init__(self, ideas_num=10, place=(0., 0.), **kwargs):\n",
      "        # \u610f\u898b\u306f0~1\u306e\u9593\u306e\u5024\u3092\u4e00\u69d8\u306b\u53d6\u308a\u3046\u308b\n",
      "        self.ideas = list(np.random.random(ideas_num)\n",
      "        # \u767a\u8a00\u8005\u306e\u5b9f\u969b\u306e\u4f4d\u7f6e\u304c2\u6b21\u5143\u306e\u5ea7\u6a19\u3068\u3057\u3066\u8868\u305b\u308b\n",
      "        self.place = place\n",
      "        # \u305d\u306e\u4ed6\u306e\u7279\u5fb4\u91cf\n",
      "        for (k, v) in kwargs.items():\n",
      "            setattr(self, k, v)\n",
      "        \n",
      "    def distance(self, p):\n",
      "        # \u4ebap\u3068\u81ea\u5206\u3068\u306e\u9593\u306e\u8ddd\u96e2(\u30e6\u30fc\u30af\u30ea\u30c3\u30c9\u8ddd\u96e2)\n",
      "        d = np.sqrt((self.place[0]-p.place[0])**2 + (self.place[1]-p.place[1])**2)\n",
      "        return d\n",
      "    \n",
      "class meeting(object):\n",
      "    \n",
      "    def __init__(self):\n",
      "        # \u610f\u898b\u306e\u6642\u7cfb\u5217(\u4eca\u306e\u5834\u54080\u301c1\u306e\u4e71\u6570\u306e\u5024\u305d\u306e\u3082\u306e)\n",
      "        self.ideas = []\n",
      "        # \u767a\u8a00\u8005\u306e\u6642\u7cfb\u5217\n",
      "        self.speaker = []\n",
      "        # \u6642\u523b\n",
      "        self.k = 0\n",
      "        # \u5f35\u3089\u308c\u305f\u30ea\u30f3\u30af(\u6642\u523b, \u6642\u523b)\u306e\u30bf\u30d7\u30eb\u3067\u8868\u73fe\u3059\u308b\n",
      "        self.links = []\n",
      "        # \u306f\u3058\u3081\u306e\u610f\u898b(\u8b70\u984c)\n",
      "        x0 = 0.\n",
      "        self.ideas.append(x0)\n",
      "        # \u8b70\u984c\u306f\u6c88\u9ed9\u306e\u610f\u898b\u3060\u3068\u3059\u308b\n",
      "        self.speaker.append(0)\n",
      "        # \u4f1a\u8b70\u306e\u30e1\u30f3\u30d0\u30fc\u3068\u3057\u3066\u6c88\u9ed9\u3092\u52a0\u3048\u308b\n",
      "        self.members = {0: Person(place=(0., 0.)),}\n",
      "        # \u6c88\u9ed9\u3092\u4e2d\u5fc3\u3068\u3057\u305f\u5186\u5468\u4e0a\u306b\u7b49\u9593\u9694\u3067\u53c2\u52a0\u8005\u304c\u5b58\u5728\u3059\u308b\n",
      "        deg = np.linspace(0., 360., N, endpoint=False)\n",
      "        for n in range(1, N+1):\n",
      "            rad = np.radians(deg[n-1])\n",
      "            self.members[n] = Person(place=(radius*np.cos(rad), radius*np.sin(rad)))\n",
      "            \n",
      "    def p(self, i):\n",
      "        \n",
      "        # \u767a\u8a00\u8005\u306e\u7269\u7406\u7684\u8ddd\u96e2\u306b\u5bfe\u3059\u308b\u95a2\u6570\n",
      "        def g(x):\n",
      "            return 1./(1.+x)\n",
      "        \n",
      "        # \u53c2\u52a0\u8005\u306e\u4e2d\u3067\u8a71\u305b\u308b\u4eba\u306e\u307f\u3092\u5bfe\u8c61\u306b\n",
      "        _N = []\n",
      "        for k, v in self.members.items():\n",
      "            if len(v.ideas):\n",
      "                _N.append(k)\n",
      "        \n",
      "        # \u305d\u308c\u3089\u306e\u4eba\u305f\u3061\u306b\u5bfe\u3057\u3001\u91cd\u307f\u4ed8\u3051\u306e\u78ba\u7387\u3092\u4ed8\u4e0e\n",
      "        w = []\n",
      "        for n in _N:\n",
      "            d = self.members[n].distance(i)\n",
      "            w.append(g(d))\n",
      "        w = np.array(w)\n",
      "        sum_ = np.sum(w)\n",
      "        _p = list(w/sum_)\n",
      "        p = accumulate(_p)\n",
      "        rn = np.random.rand()\n",
      "        nm = 0\n",
      "        while True:\n",
      "            if p[nm] > rn:\n",
      "                break\n",
      "            else:\n",
      "                nm += 1\n",
      "        # \u305d\u306e\u78ba\u7387\u3067\u9078\u3070\u308c\u305f\u4eba\u306e\u540d\u524d\u3092\u8fd4\u3059\n",
      "        return _N[nm]\n",
      "    \n",
      "    def q(self, j):\n",
      "        # \u767a\u8a00\u8005j\u304c\u9078\u3070\u308c\u305f\u6642\u3001\u6301\u3063\u3066\u3044\u308b\u610f\u898b\u304b\u3089\u7b49\u78ba\u7387\u3067\u610f\u898b\u3092\u53d6\u308a\u51fa\u3059\n",
      "        x_j = self.members[j]\n",
      "        return x_j.ideas.pop()\n",
      "    \n",
      "    def distance(self, x, y):\n",
      "        d = np.abs(x - y)\n",
      "        return d\n",
      "    \n",
      "    def connect(self, idea):\n",
      "        for i, v in enumerate(self.ideas):\n",
      "            if self.distance(v, idea) < radius:\n",
      "                \n",
      "    \n",
      "        \n",
      "    def progress(self):      \n",
      "        j = self.p(self.members[self.speaker[-1]])\n",
      "        self.ideas.append(self.q(j))\n",
      "        \n",
      "     \n",
      "    def test_plot(self):\n",
      "        x = [0,]\n",
      "        y = [0,]\n",
      "        for n in range(N+1):\n",
      "            x.append(self.members[n].place[0])\n",
      "            y.append(self.members[n].place[1])\n",
      "        return x,y"
     ],
     "language": "python",
     "metadata": {
      "internals": {},
      "slideshow": {
       "slide_type": "skip"
      }
     },
     "outputs": [
      {
       "ename": "SyntaxError",
       "evalue": "invalid syntax (<ipython-input-2-9d2759db38b2>, line 21)",
       "output_type": "pyerr",
       "traceback": [
        "\u001b[1;36m  File \u001b[1;32m\"<ipython-input-2-9d2759db38b2>\"\u001b[1;36m, line \u001b[1;32m21\u001b[0m\n\u001b[1;33m    self.place = place\u001b[0m\n\u001b[1;37m       ^\u001b[0m\n\u001b[1;31mSyntaxError\u001b[0m\u001b[1;31m:\u001b[0m invalid syntax\n"
       ]
      }
     ],
     "prompt_number": 2
    },
    {
     "cell_type": "code",
     "collapsed": false,
     "input": [
      "a = meeting()\n",
      "a.progress()"
     ],
     "language": "python",
     "metadata": {
      "internals": {},
      "slideshow": {
       "slide_type": "skip"
      }
     },
     "outputs": [],
     "prompt_number": 3
    },
    {
     "cell_type": "code",
     "collapsed": false,
     "input": [
      "print a.speaker\n",
      "print a.ideas\n"
     ],
     "language": "python",
     "metadata": {
      "internals": {
       "slide_helper": "subslide_end"
      },
      "slide_helper": "slide_end",
      "slideshow": {
       "slide_type": "skip"
      }
     },
     "outputs": [
      {
       "output_type": "stream",
       "stream": "stdout",
       "text": [
        "[0]\n",
        "[0.0, 0.25575792014749998]\n"
       ]
      }
     ],
     "prompt_number": 4
    },
    {
     "cell_type": "heading",
     "level": 1,
     "metadata": {
      "internals": {
       "slide_type": "subslide"
      },
      "slideshow": {
       "slide_type": "slide"
      }
     },
     "source": [
      "\u4eca\u5f8c\u306e\u8ab2\u984c"
     ]
    },
    {
     "cell_type": "markdown",
     "metadata": {
      "internals": {
       "slide_helper": "subslide_end"
      },
      "slide_helper": "slide_end",
      "slideshow": {
       "slide_type": "-"
      }
     },
     "source": [
      "- \u30b7\u30df\u30e5\u30ec\u30fc\u30b7\u30e7\u30f3\u306e\u5b9f\u884c\u3068\u89e3\u6790\n",
      "\n",
      "    - \u69d8\u3005\u306a\u72b6\u6cc1\u3092\u518d\u73fe\u3057\u3001\u73fe\u5b9f\u306e\u73fe\u8c61\u3068\u5bfe\u5fdc\u3057\u3066\u3044\u308b\u304b\u3069\u3046\u304b\n",
      "    \n",
      "    \n",
      "    \n",
      "- \u4ed6\u306e\u73fe\u8c61(\u4ee3\u8b1d\u30cd\u30c3\u30c8\u30ef\u30fc\u30af\u7b49)\u3068\u306e\u95a2\u9023\u4ed8\u3051"
     ]
    },
    {
     "cell_type": "heading",
     "level": 1,
     "metadata": {
      "internals": {
       "slide_type": "subslide"
      },
      "slideshow": {
       "slide_type": "slide"
      }
     },
     "source": [
      "\u53c2\u8003\u6587\u732e"
     ]
    },
    {
     "cell_type": "markdown",
     "metadata": {
      "internals": {
       "slide_helper": "subslide_end"
      },
      "slide_helper": "slide_end",
      "slideshow": {
       "slide_type": "-"
      }
     },
     "source": [
      "- \u77f3\u5ddd \u6b63\u7d14\u30fb\u8db3\u7acb \u306b\u308c\u304b\u30fb\u5ca1\u672c \u6d69\u4e00, \u4f1a\u8b70\u5206\u6790\u306e\u305f\u3081\u306e\u6570\u5024\u30b7\u30df\u30e5\u30ec\u30fc\u30b7\u30e7\u30f3\u6280\u6cd5-\u7d44\u7e54\u5185\u96c6\u56e3\u306b\u898b\u3089\u308c\u308b\u610f\u601d\u6c7a\u5b9a\u30e2\u30c7\u30eb\u306e\u958b\u767a-, \u793e\u4f1a\u6280\u8853\u7814\u7a76\u8ad6\u6587\u96c6, 2004.\n",
      "- \u57ce \u7dbe\u5b9f\u30fb\u7d30\u99ac \u5b8f\u901a, \u591a\u4eba\u6570\u4f1a\u8a71\u306b\u304a\u3051\u308b\u81ea\u767a\u7684\u30b8\u30a7\u30b9\u30c1\u30e3\u30fc\u306e\u540c\u671f, Congnitive Studies, __16__(1), 103-119, 2009.\n",
      "- \u85e4\u672c \u5b66\u30fb\u5927\u574a \u90c1\u592b, \u5c0f\u96c6\u56e3\u306e\u4f1a\u8a71\u306e\u5c55\u958b\u306b\u53ca\u307c\u3059\u4f1a\u8a71\u8005\u306e\u767a\u8a71\u884c\u52d5\u50be\u5411\u306e\u5f71\u97ff, The Japanese Journal of Experimental Social Psychology, __47__(1), 51-60, 2007.\n",
      "- \u9ad8\u826f \u7f8e\u6a39, \u96c6\u56e3\u8a0e\u8b70\u306e\u53c2\u52a0\u8005\u306e\u4eba\u6570\u304c\u96c6\u56e3\u6c7a\u5b9a\u304a\u3088\u3073\u500b\u4eba\u6c7a\u5b9a\u306b\u53ca\u307c\u3059\u5f71\u97ff\u306b\u3064\u3044\u3066, \u4eba\u9593\u79d1\u5b66, __1__, 67-84, 1998.\n"
     ]
    }
   ],
   "metadata": {}
  }
 ]
}