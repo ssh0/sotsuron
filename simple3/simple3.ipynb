{
 "metadata": {
  "name": "",
  "signature": "sha256:72d2edbfa03e1a504de813b70a2b769ed494aaf710d571366ff33d717c39b249"
 },
 "nbformat": 3,
 "nbformat_minor": 0,
 "worksheets": [
  {
   "cells": [
    {
     "cell_type": "heading",
     "level": 1,
     "metadata": {},
     "source": [
      "\u4f8b3"
     ]
    },
    {
     "cell_type": "markdown",
     "metadata": {},
     "source": [
      "[simple3_123](simple3_123.ipynb)\u3001[simple3_45](simple3_45.ipynb)\u3067\u306f\u3001\u5b9a\u6027\u7684\u306a\u6027\u8cea\u3092\u8ff0\u3079\u308b\u306b\u3068\u3069\u307e\u308a\u3001\u4f1a\u8b70\u306e\"\u8cea\"\u306a\u308b\u3082\u306e\u304c\u3069\u306e\u3088\u3046\u306a\u91cf\u306b\u5bfe\u5fdc\u3059\u308b\u304b\u3001\u307e\u305f\u3001\u305d\u306e\u8cea\u304c\u4eba\u6570\u3068\u306e\u95a2\u4fc2\u3067\u3069\u306e\u3088\u3046\u306b\u5909\u5316\u3059\u308b\u306e\u304b\u306b\u3064\u3044\u3066\u306e\u7406\u89e3\u306b\u6b20\u3051\u3066\u3044\u305f\u3002\u3053\u3053\u3067\u306f\u3001\u30cd\u30c3\u30c8\u30ef\u30fc\u30af\u3092\u7279\u5fb4\u3065\u3051\u308b\u91cf\u3092\u5b9f\u969b\u306b\u3044\u304f\u3064\u304b\u6e2c\u3063\u3066\u307f\u305f\u4f8b\u3092\u793a\u3059\u3053\u3068\u306b\u3059\u308b\u3002"
     ]
    },
    {
     "cell_type": "code",
     "collapsed": false,
     "input": [
      "%matplotlib inline\n",
      "import numpy as np\n",
      "from scipy.spatial.distance import euclidean as euc\n",
      "import matplotlib.pyplot as plt\n",
      "import mpld3\n",
      "from mpld3 import plugins\n",
      "from mpld3.utils import get_id\n",
      "\n",
      "\n",
      "class Person:\n",
      "\n",
      "    def __init__(self, S, a, p=0.5):\n",
      "        self.S = S\n",
      "        self.a = a\n",
      "        self.p = p\n",
      "\n",
      "    def gather(self):\n",
      "        \"\"\"make person to participate the meeting.\n",
      "        \"\"\"\n",
      "        self.ideas = self.has_idea()\n",
      "\n",
      "    def has_idea(self):\n",
      "        \"\"\"a person has self.S ideas with self.a dimension.\n",
      "        \"\"\"\n",
      "        return list(np.random.rand(self.S, self.a))\n",
      "\n",
      "    def chose_idea(self, idea, idea2=None):\n",
      "        alpha = 2.5\n",
      "        beta = 1.\n",
      "        if len(self.ideas) == 0:\n",
      "            return False\n",
      "        # return min(d) and its idea_id\n",
      "        if idea2 == None:\n",
      "            return min([(euc(vec, idea), idea_id) for idea_id, vec in enumerate(self.ideas)])\n",
      "        else:\n",
      "            return min([(alpha*euc(vec, idea) + beta*euc(vec, idea2), idea_id)\n",
      "                        for idea_id, vec in enumerate(self.ideas)])\n",
      "\n",
      "class Meeting:\n",
      "\n",
      "    \"\"\"Simulate a meeting with \"simple3\" situation.\n",
      "\n",
      "    Give keyword arguments:\n",
      "\n",
      "        K = 20 # Time limit\n",
      "        N = 6 # a number of participants\n",
      "        S = 10 # a number of ideas for each participants\n",
      "        a = 2 # the dimension of an idea\n",
      "        p = 0.5 # probability that a person speak\n",
      "        draw = True # draw image or don't\n",
      "\n",
      "    Output:\n",
      "\n",
      "        self.minutes: list of\n",
      "                      ( idea(which is vector with a dimension)\n",
      "                      , who(person_id in the list \"self.membes\"))\n",
      "        self.k: stopped time (=len(self.minutes))\n",
      "    \"\"\"\n",
      "\n",
      "    def __init__(self, K=20, N=6, S=10, a=2, p=0.5, draw=True, case=2):\n",
      "        self.K = K\n",
      "        self.N = N\n",
      "        self.S = S\n",
      "        self.a = a\n",
      "        self.p = p\n",
      "        self.draw = draw\n",
      "        self.case = case  # case in the above cell: 2, 3, 4 or 5\n",
      "        if not self.case in [2, 3, 4, 5]:\n",
      "            raise ValueError\n",
      "        self.members = []\n",
      "        self.minutes = []  # list of (idea, who)\n",
      "        self.k = 0\n",
      "\n",
      "    def gather_people(self):\n",
      "        \"\"\"gather people for the meeting.\n",
      "\n",
      "        You can edit what ideas they have in here.\n",
      "        \"\"\"\n",
      "        for n in range(self.N):\n",
      "            person = Person(self.S, self.a, self.p)\n",
      "            # person.has_idea = some_function()\n",
      "            # some_function: return list of self.S arrays with dim self.a.\n",
      "            person.gather()\n",
      "            self.members.append(person)\n",
      "\n",
      "    def progress(self):\n",
      "        \"\"\"meeting progress\n",
      "        \"\"\"\n",
      "        self.init()\n",
      "        preidea = self.subject\n",
      "        prepreidea = None\n",
      "        self.k = 1\n",
      "            \n",
      "        while self.k < self.K + 1:\n",
      "            # l: (distance, speaker, idea_id) list for who can speak\n",
      "            l = []\n",
      "            for person_id, person in enumerate(self.members):\n",
      "                # chosed: (distance, idea_id)\n",
      "                chosed = person.chose_idea(preidea, prepreidea)\n",
      "                if chosed:\n",
      "                    l.append((chosed[0], person_id, chosed[1]))\n",
      "            # if no one can speak: meeting ends.\n",
      "            if len(l) == 0:\n",
      "                print \"no one can speak.\"\n",
      "                break\n",
      "            i = [(person_id, idea_id)\n",
      "                 for distance, person_id, idea_id in sorted(l)]\n",
      "\n",
      "            for person_id, idea_id in i:\n",
      "                rn = np.random.rand()\n",
      "                if rn < self.members[person_id].p:\n",
      "                    idea = self.members[person_id].ideas.pop(idea_id)\n",
      "                    self.minutes.append((idea, person_id))\n",
      "                    if self.case == 3:\n",
      "                        preidea = idea\n",
      "                    elif self.case == 4:\n",
      "                        prepreidea = idea\n",
      "                    elif self.case == 5:\n",
      "                        prepreidea = preidea\n",
      "                        preidea = idea\n",
      "                    self.callback()\n",
      "                    self.k += 1\n",
      "                    break\n",
      "            else:\n",
      "                self.minutes.append((self.subject, self.N))\n",
      "                self.callback()\n",
      "                self.k += 1\n",
      "\n",
      "        self.after()\n",
      "\n",
      "    def init(self):\n",
      "        self.gather_people()\n",
      "        self.subject = np.random.rand(self.a)\n",
      "        self.minutes.append((self.subject, self.N))\n",
      "        if self.draw:\n",
      "            self.fig = plt.figure(figsize=(9, 9))\n",
      "            self.ax = self.fig.add_subplot(1, 1, 1)\n",
      "            self.labels = ['subject']\n",
      "            self.s1 = [self.ax.scatter(self.subject[0], self.subject[1],\n",
      "                                       c=next(self.ax._get_lines.color_cycle))]\n",
      "            self.ax.text(\n",
      "                self.subject[0], self.subject[1], '0', fontsize=5)\n",
      "            for i, member in enumerate(self.members):\n",
      "                x = [vec[0] for vec in member.ideas]\n",
      "                y = [vec[1] for vec in member.ideas]\n",
      "                s = self.ax.scatter(\n",
      "                    x, y, c=next(self.ax._get_lines.color_cycle), alpha=0.2)\n",
      "                self.labels.append(str(i))\n",
      "                self.s1.append(s)\n",
      "\n",
      "    def callback(self):\n",
      "        if self.draw:\n",
      "            if self.minutes[-1][1] == self.N or self.minutes[-2][1] == self.N:\n",
      "                alpha = 0.2\n",
      "            else:\n",
      "                alpha = 1.0\n",
      "            ix = self.minutes[-2][0][0]\n",
      "            iy = self.minutes[-2][0][1]\n",
      "            jx = self.minutes[-1][0][0]\n",
      "            jy = self.minutes[-1][0][1]\n",
      "            l1 = self.ax.plot([ix, jx], [iy, jy], color='black', alpha=alpha)\n",
      "            self.ax.text(jx, jy, '%d' % self.k, color='blue', fontsize=12)\n",
      "        else:\n",
      "            pass\n",
      "\n",
      "    def after(self):\n",
      "        if self.draw:\n",
      "            plugins.connect(\n",
      "                self.fig, plugins.InteractiveLegendPlugin(\n",
      "                    self.s1, self.labels, ax=self.ax))\n",
      "            mpld3.show()\n",
      "        else:\n",
      "            pass"
     ],
     "language": "python",
     "metadata": {},
     "outputs": [],
     "prompt_number": 1
    },
    {
     "cell_type": "code",
     "collapsed": false,
     "input": [
      "meeting = Meeting(K=30, N=6, S=50, a=2, p=0.6, case=4)\n",
      "meeting.progress()"
     ],
     "language": "python",
     "metadata": {},
     "outputs": [
      {
       "output_type": "stream",
       "stream": "stdout",
       "text": [
        "\n",
        "Note: if you're in the IPython notebook, mpld3.show() is not the best command\n",
        "      to use. Consider using mpld3.display(), or mpld3.enable_notebook().\n",
        "      See more information at http://mpld3.github.io/quickstart.html .\n",
        "\n",
        "You must interrupt the kernel to end this command\n",
        "\n",
        "Serving to http://127.0.0.1:8889/    [Ctrl-C to exit]\n"
       ]
      },
      {
       "output_type": "stream",
       "stream": "stderr",
       "text": [
        "127.0.0.1 - - [13/Jan/2015 17:18:35] \"GET / HTTP/1.1\" 200 -\n",
        "127.0.0.1 - - [13/Jan/2015 17:18:35] \"GET /d3.js HTTP/1.1\" 200 -\n"
       ]
      },
      {
       "output_type": "stream",
       "stream": "stderr",
       "text": [
        "127.0.0.1 - - [13/Jan/2015 17:18:35] \"GET /mpld3.js HTTP/1.1\" 200 -\n",
        "127.0.0.1 - - [13/Jan/2015 17:18:36] code 404, message Not Found\n"
       ]
      },
      {
       "output_type": "stream",
       "stream": "stdout",
       "text": [
        "\n",
        "stopping Server...\n"
       ]
      },
      {
       "output_type": "stream",
       "stream": "stderr",
       "text": [
        "127.0.0.1 - - [13/Jan/2015 17:18:36] \"GET /favicon.ico HTTP/1.1\" 404 -\n"
       ]
      }
     ],
     "prompt_number": 2
    },
    {
     "cell_type": "code",
     "collapsed": false,
     "input": [
      "meeting.minutes"
     ],
     "language": "python",
     "metadata": {},
     "outputs": [
      {
       "metadata": {},
       "output_type": "pyout",
       "prompt_number": 3,
       "text": [
        "[(array([ 0.05885119,  0.89555037]), 6),\n",
        " (array([ 0.08115281,  0.91375415]), 5),\n",
        " (array([ 0.07691738,  0.86371224]), 3),\n",
        " (array([ 0.04449137,  0.87898761]), 4),\n",
        " (array([ 0.09300461,  0.85842762]), 4),\n",
        " (array([ 0.18183077,  0.9026172 ]), 2),\n",
        " (array([ 0.18701937,  0.94108754]), 2),\n",
        " (array([ 0.02032019,  0.93521195]), 3),\n",
        " (array([ 0.12785634,  0.98448164]), 2),\n",
        " (array([ 0.17622371,  0.94126253]), 3),\n",
        " (array([ 0.19221068,  0.90390806]), 0),\n",
        " (array([ 0.20724052,  0.86067267]), 3),\n",
        " (array([ 0.20519667,  0.94485663]), 5),\n",
        " (array([ 0.2133429 ,  0.95151828]), 3),\n",
        " (array([ 0.2567592 ,  0.91191408]), 1),\n",
        " (array([ 0.2417993 ,  0.82852611]), 3),\n",
        " (array([ 0.12995405,  0.76931519]), 0),\n",
        " (array([ 0.04738608,  0.74349656]), 1),\n",
        " (array([ 0.27164993,  0.92571641]), 2),\n",
        " (array([ 0.22525209,  0.82268873]), 5),\n",
        " (array([ 0.12562473,  0.73474489]), 3),\n",
        " (array([ 0.13414613,  0.72344148]), 0),\n",
        " (array([ 0.21067005,  0.78520186]), 4),\n",
        " (array([ 0.1787505 ,  0.70874434]), 3),\n",
        " (array([ 0.14372193,  0.7029663 ]), 1),\n",
        " (array([ 0.19523986,  0.78386148]), 5),\n",
        " (array([ 0.21638041,  0.80888508]), 5),\n",
        " (array([ 0.30229881,  0.75736003]), 4),\n",
        " (array([ 0.26346464,  0.68958938]), 4),\n",
        " (array([ 0.23047836,  0.72892577]), 3),\n",
        " (array([ 0.27816883,  0.83043793]), 1)]"
       ]
      }
     ],
     "prompt_number": 3
    },
    {
     "cell_type": "markdown",
     "metadata": {},
     "source": [
      "\u5e73\u5747\u9802\u70b9\u9593\u8ddd\u96e2"
     ]
    },
    {
     "cell_type": "code",
     "collapsed": false,
     "input": [
      "tmp = 0\n",
      "for p0, p1 in zip(meeting.minutes[:-1], meeting.minutes[1:]):\n",
      "    tmp += euc(p0[0], p1[0])\n",
      "ave_dist_btw_nodes = tmp/float(len(meeting.minutes)-1)\n",
      "print ave_dist_btw_nodes"
     ],
     "language": "python",
     "metadata": {},
     "outputs": [
      {
       "output_type": "stream",
       "stream": "stdout",
       "text": [
        "0.0809783858061\n"
       ]
      }
     ],
     "prompt_number": 4
    },
    {
     "cell_type": "code",
     "collapsed": false,
     "input": [
      "def myplot1(xdata, ydata, xfit=np.array([]), yfit=np.array([]), param=None):\n",
      "    fig = plt.figure(figsize=(8, 12))\n",
      "    ax1 = fig.add_subplot(211)\n",
      "\n",
      "    ax1.plot(xdata, ydata)\n",
      "    if len(xfit):\n",
      "        ax1.plot(xfit, yfit,\n",
      "                 label=r'$a = %f, b = %f$' % (param[0], param[1]))\n",
      "        ax1.legend(loc='best')\n",
      "    ax1.set_xlabel(r'$N$')\n",
      "    ax1.set_ylabel(r'$\\phi$')\n",
      "    ax1.set_xscale('linear')\n",
      "    ax1.set_yscale('linear')\n",
      "    \n",
      "    ax2 = fig.add_subplot(212)\n",
      "    ax2.plot(xdata, ydata)\n",
      "    if len(xfit):\n",
      "        ax2.plot(xfit, yfit,\n",
      "                 label=r'$a = %f, b = %f$' % (param[0], param[1]))\n",
      "        ax2.legend(loc='best')\n",
      "    ax2.set_xlabel(r'$N$')\n",
      "    ax2.set_ylabel(r'$\\phi$')\n",
      "    ax2.set_xscale('log')\n",
      "    ax2.set_yscale('log')\n",
      "    plt.show()"
     ],
     "language": "python",
     "metadata": {},
     "outputs": [],
     "prompt_number": 3
    },
    {
     "cell_type": "code",
     "collapsed": false,
     "input": [
      "trial = 20\n",
      "\n",
      "ave_dist_btw_nodes2= []\n",
      "N = range(1, 20)\n",
      "for _N in N:\n",
      "    _tmp = 0\n",
      "    for t in range(trial):\n",
      "        meeting = Meeting(K=30, N=_N, S=50, a=2, p=0.6, draw=False, case=2)\n",
      "        meeting.progress()\n",
      "        tmp = 0\n",
      "        for p0, p1 in zip(meeting.minutes[:-1], meeting.minutes[1:]):\n",
      "            tmp += euc(p0[0], p1[0])\n",
      "        _tmp += tmp/float(len(meeting.minutes)-1)\n",
      "    ave_dist_btw_nodes2.append(_tmp/trial)"
     ],
     "language": "python",
     "metadata": {},
     "outputs": [],
     "prompt_number": 2
    },
    {
     "cell_type": "code",
     "collapsed": false,
     "input": [
      "myplot1(N, ave_dist_btw_nodes2)"
     ],
     "language": "python",
     "metadata": {},
     "outputs": [
      {
       "metadata": {},
       "output_type": "display_data",
       "png": "[encoded data removed]",
       "text": [
        "<matplotlib.figure.Figure at 0x7fe253e1da10>"
       ]
      }
     ],
     "prompt_number": 4
    },
    {
     "cell_type": "code",
     "collapsed": false,
     "input": [
      "trial = 20\n",
      "\n",
      "ave_dist_btw_nodes3= []\n",
      "N = range(1, 20)\n",
      "for _N in N:\n",
      "    _tmp = 0\n",
      "    for t in range(trial):\n",
      "        meeting = Meeting(K=30, N=_N, S=50, a=2, p=0.6, draw=False, case=3)\n",
      "        meeting.progress()\n",
      "        tmp = 0\n",
      "        for p0, p1 in zip(meeting.minutes[:-1], meeting.minutes[1:]):\n",
      "            tmp += euc(p0[0], p1[0])\n",
      "        _tmp += tmp/float(len(meeting.minutes)-1)\n",
      "    ave_dist_btw_nodes3.append(_tmp/trial)"
     ],
     "language": "python",
     "metadata": {},
     "outputs": [],
     "prompt_number": 5
    },
    {
     "cell_type": "code",
     "collapsed": false,
     "input": [
      "myplot1(N, ave_dist_btw_nodes3)"
     ],
     "language": "python",
     "metadata": {},
     "outputs": [
      {
       "metadata": {},
       "output_type": "display_data",
       "png": "[encoded data removed]",
       "text": [
        "<matplotlib.figure.Figure at 0x7fe253635410>"
       ]
      }
     ],
     "prompt_number": 6
    },
    {
     "cell_type": "code",
     "collapsed": false,
     "input": [
      "trial = 20\n",
      "\n",
      "ave_dist_btw_nodes4= []\n",
      "N = range(1, 20)\n",
      "for _N in N:\n",
      "    _tmp = 0\n",
      "    for t in range(trial):\n",
      "        meeting = Meeting(K=30, N=_N, S=50, a=2, p=0.6, draw=False, case=4)\n",
      "        meeting.progress()\n",
      "        tmp = 0\n",
      "        for p0, p1 in zip(meeting.minutes[:-1], meeting.minutes[1:]):\n",
      "            tmp += euc(p0[0], p1[0])\n",
      "        _tmp += tmp/float(len(meeting.minutes)-1)\n",
      "    ave_dist_btw_nodes4.append(_tmp/trial)"
     ],
     "language": "python",
     "metadata": {},
     "outputs": [],
     "prompt_number": 7
    },
    {
     "cell_type": "code",
     "collapsed": false,
     "input": [
      "myplot1(N, ave_dist_btw_nodes4)"
     ],
     "language": "python",
     "metadata": {},
     "outputs": [
      {
       "metadata": {},
       "output_type": "display_data",
       "png": "[encoded data removed]",
       "text": [
        "<matplotlib.figure.Figure at 0x7fe253644e90>"
       ]
      }
     ],
     "prompt_number": 8
    },
    {
     "cell_type": "code",
     "collapsed": false,
     "input": [
      "trial = 20\n",
      "\n",
      "ave_dist_btw_nodes5= []\n",
      "N = range(1, 20)\n",
      "for _N in N:\n",
      "    _tmp = 0\n",
      "    for t in range(trial):\n",
      "        meeting = Meeting(K=30, N=_N, S=50, a=2, p=0.6, draw=False, case=5)\n",
      "        meeting.progress()\n",
      "        tmp = 0\n",
      "        for p0, p1 in zip(meeting.minutes[:-1], meeting.minutes[1:]):\n",
      "            tmp += euc(p0[0], p1[0])\n",
      "        _tmp += tmp/float(len(meeting.minutes)-1)\n",
      "    ave_dist_btw_nodes5.append(_tmp/trial)"
     ],
     "language": "python",
     "metadata": {},
     "outputs": [],
     "prompt_number": 9
    },
    {
     "cell_type": "code",
     "collapsed": false,
     "input": [
      "myplot1(N, ave_dist_btw_nodes5)"
     ],
     "language": "python",
     "metadata": {},
     "outputs": [
      {
       "metadata": {},
       "output_type": "display_data",
       "png": "[encoded data removed]",
       "text": [
        "<matplotlib.figure.Figure at 0x7fe253d203d0>"
       ]
      }
     ],
     "prompt_number": 10
    }
   ],
   "metadata": {}
  }
 ]
}