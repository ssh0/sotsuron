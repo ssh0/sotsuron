{
 "metadata": {
  "name": "",
  "signature": "sha256:e593157b74b13479e8b90a385de37a7cfa14b5f0de014726f9ca05f43d2518d0"
 },
 "nbformat": 3,
 "nbformat_minor": 0,
 "worksheets": [
  {
   "cells": [
    {
     "cell_type": "heading",
     "level": 1,
     "metadata": {},
     "source": [
      "\u4f8b3"
     ]
    },
    {
     "cell_type": "markdown",
     "metadata": {},
     "source": [
      "simoke3_123\u3001simple3_45\u3067\u306f\u3001\u5b9a\u6027\u7684\u306a\u6027\u8cea\u3092\u8ff0\u3079\u308b\u306b\u3068\u3069\u307e\u308a\u3001\u4f1a\u8b70\u306e\"\u8cea\"\u306a\u308b\u3082\u306e\u304c\u3069\u306e\u3088\u3046\u306a\u91cf\u306b\u5bfe\u5fdc\u3059\u308b\u304b\u3001\u307e\u305f\u3001\u305d\u306e\u8cea\u304c\u4eba\u6570\u3068\u306e\u95a2\u4fc2\u3067\u3069\u306e\u3088\u3046\u306b\u5909\u5316\u3059\u308b\u306e\u304b\u306b\u3064\u3044\u3066\u306e\u7406\u89e3\u306b\u6b20\u3051\u3066\u3044\u305f\u3002\u3053\u3053\u3067\u306f\u3001\u30cd\u30c3\u30c8\u30ef\u30fc\u30af\u3092\u7279\u5fb4\u3065\u3051\u308b\u91cf\u3092\u5b9f\u969b\u306b\u3044\u304f\u3064\u304b\u6e2c\u3063\u3066\u307f\u305f\u4f8b\u3092\u793a\u3059\u3053\u3068\u306b\u3059\u308b\u3002"
     ]
    },
    {
     "cell_type": "code",
     "collapsed": false,
     "input": [
      "%matplotlib inline"
     ],
     "language": "python",
     "metadata": {},
     "outputs": [],
     "prompt_number": 19
    },
    {
     "cell_type": "code",
     "collapsed": false,
     "input": [
      "import numpy as np\n",
      "from scipy.spatial.distance import euclidean as euc\n",
      "import matplotlib.pyplot as plt\n",
      "import mpld3\n",
      "from mpld3 import plugins\n",
      "from mpld3.utils import get_id\n",
      "\n",
      "\n",
      "class Person:\n",
      "\n",
      "    def __init__(self, S, a, p=0.5):\n",
      "        self.S = S\n",
      "        self.a = a\n",
      "        self.p = p\n",
      "\n",
      "    def gather(self):\n",
      "        \"\"\"make person to participate the meeting.\n",
      "        \"\"\"\n",
      "        self.ideas = self.has_idea()\n",
      "\n",
      "    def has_idea(self):\n",
      "        \"\"\"a person has self.S ideas with self.a dimension.\n",
      "        \"\"\"\n",
      "        return list(np.random.rand(self.S, self.a))\n",
      "\n",
      "    def chose_idea(self, idea, idea2=None):\n",
      "        alpha = 2.5\n",
      "        beta = 1.\n",
      "        if len(self.ideas) == 0:\n",
      "            return False\n",
      "        # return min(d) and its idea_id\n",
      "        if idea2 == None:\n",
      "            return min([(euc(vec, idea), idea_id) for idea_id, vec in enumerate(self.ideas)])\n",
      "        else:\n",
      "            return min([(alpha*euc(vec, idea) + beta*euc(vec, idea2), idea_id)\n",
      "                        for idea_id, vec in enumerate(self.ideas)])\n",
      "\n",
      "class Meeting:\n",
      "\n",
      "    \"\"\"Simulate a meeting with \"simple3\" situation.\n",
      "\n",
      "    Give keyword arguments:\n",
      "\n",
      "        K = 20 # Time limit\n",
      "        N = 6 # a number of participants\n",
      "        S = 10 # a number of ideas for each participants\n",
      "        a = 2 # the dimension of an idea\n",
      "        p = 0.5 # probability that a person speak\n",
      "        draw = True # draw image or don't\n",
      "\n",
      "    Output:\n",
      "\n",
      "        self.minutes: list of\n",
      "                      ( idea(which is vector with a dimension)\n",
      "                      , who(person_id in the list \"self.membes\"))\n",
      "        self.k: stopped time (=len(self.minutes))\n",
      "    \"\"\"\n",
      "\n",
      "    def __init__(self, K=20, N=6, S=10, a=2, p=0.5, draw=True, case=2):\n",
      "        self.K = K\n",
      "        self.N = N\n",
      "        self.S = S\n",
      "        self.a = a\n",
      "        self.p = p\n",
      "        self.draw = draw\n",
      "        self.case = case  # case in the above cell: 2, 3, 4 or 5\n",
      "        if not self.case in [2, 3, 4, 5]:\n",
      "            raise ValueError\n",
      "        self.members = []\n",
      "        self.minutes = []  # list of (idea, who)\n",
      "        self.k = 0\n",
      "\n",
      "    def gather_people(self):\n",
      "        \"\"\"gather people for the meeting.\n",
      "\n",
      "        You can edit what ideas they have in here.\n",
      "        \"\"\"\n",
      "        for n in range(self.N):\n",
      "            person = Person(self.S, self.a, self.p)\n",
      "            # person.has_idea = some_function()\n",
      "            # some_function: return list of self.S arrays with dim self.a.\n",
      "            person.gather()\n",
      "            self.members.append(person)\n",
      "\n",
      "    def progress(self):\n",
      "        \"\"\"meeting progress\n",
      "        \"\"\"\n",
      "        self.init()\n",
      "        preidea = self.subject\n",
      "        prepreidea = None\n",
      "        self.k = 1\n",
      "            \n",
      "        while self.k < self.K + 1:\n",
      "            # l: (distance, speaker, idea_id) list for who can speak\n",
      "            l = []\n",
      "            for person_id, person in enumerate(self.members):\n",
      "                # chosed: (distance, idea_id)\n",
      "                chosed = person.chose_idea(preidea, prepreidea)\n",
      "                if chosed:\n",
      "                    l.append((chosed[0], person_id, chosed[1]))\n",
      "            # if no one can speak: meeting ends.\n",
      "            if len(l) == 0:\n",
      "                print \"no one can speak.\"\n",
      "                break\n",
      "            i = [(person_id, idea_id)\n",
      "                 for distance, person_id, idea_id in sorted(l)]\n",
      "\n",
      "            for person_id, idea_id in i:\n",
      "                rn = np.random.rand()\n",
      "                if rn < self.members[person_id].p:\n",
      "                    idea = self.members[person_id].ideas.pop(idea_id)\n",
      "                    self.minutes.append((idea, person_id))\n",
      "                    if self.case == 3:\n",
      "                        preidea = idea\n",
      "                    elif self.case == 4:\n",
      "                        prepreidea = idea\n",
      "                    elif self.case == 5:\n",
      "                        prepreidea = preidea\n",
      "                        preidea = idea\n",
      "                    self.callback()\n",
      "                    self.k += 1\n",
      "                    break\n",
      "            else:\n",
      "                self.minutes.append((self.subject, self.N))\n",
      "                self.callback()\n",
      "                self.k += 1\n",
      "\n",
      "        self.after()\n",
      "\n",
      "    def init(self):\n",
      "        self.gather_people()\n",
      "        self.subject = np.random.rand(self.a)\n",
      "        self.minutes.append((self.subject, self.N))\n",
      "        if self.draw:\n",
      "            self.fig = plt.figure(figsize=(9, 9))\n",
      "            self.ax = self.fig.add_subplot(1, 1, 1)\n",
      "            self.labels = ['subject']\n",
      "            self.s1 = [self.ax.scatter(self.subject[0], self.subject[1],\n",
      "                                       c=next(self.ax._get_lines.color_cycle))]\n",
      "            self.ax.text(\n",
      "                self.subject[0], self.subject[1], '0', fontsize=5)\n",
      "            for i, member in enumerate(self.members):\n",
      "                x = [vec[0] for vec in member.ideas]\n",
      "                y = [vec[1] for vec in member.ideas]\n",
      "                s = self.ax.scatter(\n",
      "                    x, y, c=next(self.ax._get_lines.color_cycle), alpha=0.2)\n",
      "                self.labels.append(str(i))\n",
      "                self.s1.append(s)\n",
      "\n",
      "    def callback(self):\n",
      "        if self.draw:\n",
      "            if self.minutes[-1][1] == self.N or self.minutes[-2][1] == self.N:\n",
      "                alpha = 0.2\n",
      "            else:\n",
      "                alpha = 1.0\n",
      "            ix = self.minutes[-2][0][0]\n",
      "            iy = self.minutes[-2][0][1]\n",
      "            jx = self.minutes[-1][0][0]\n",
      "            jy = self.minutes[-1][0][1]\n",
      "            l1 = self.ax.plot([ix, jx], [iy, jy], color='black', alpha=alpha)\n",
      "            self.ax.text(jx, jy, '%d' % self.k, color='blue', fontsize=12)\n",
      "        else:\n",
      "            pass\n",
      "\n",
      "    def after(self):\n",
      "        if self.draw:\n",
      "            plugins.connect(\n",
      "                self.fig, plugins.InteractiveLegendPlugin(\n",
      "                    self.s1, self.labels, ax=self.ax))\n",
      "            mpld3.show()\n",
      "        else:\n",
      "            pass"
     ],
     "language": "python",
     "metadata": {},
     "outputs": [],
     "prompt_number": 17
    },
    {
     "cell_type": "code",
     "collapsed": false,
     "input": [
      "from simple3 import Meeting\n",
      "meeting = Meeting(K=30, N=6, S=50, a=2, p=0.6, case=4)\n",
      "meeting.progress()"
     ],
     "language": "python",
     "metadata": {},
     "outputs": [
      {
       "output_type": "stream",
       "stream": "stdout",
       "text": [
        "\n",
        "Note: if you're in the IPython notebook, mpld3.show() is not the best command\n",
        "      to use. Consider using mpld3.display(), or mpld3.enable_notebook().\n",
        "      See more information at http://mpld3.github.io/quickstart.html .\n",
        "\n",
        "You must interrupt the kernel to end this command\n",
        "\n",
        "Serving to http://127.0.0.1:8889/    [Ctrl-C to exit]\n"
       ]
      },
      {
       "output_type": "stream",
       "stream": "stderr",
       "text": [
        "127.0.0.1 - - [12/Jan/2015 00:09:25] \"GET / HTTP/1.1\" 200 -\n",
        "127.0.0.1 - - [12/Jan/2015 00:09:25] \"GET /d3.js HTTP/1.1\" 200 -\n"
       ]
      },
      {
       "output_type": "stream",
       "stream": "stdout",
       "text": [
        "\n",
        "stopping Server...\n"
       ]
      },
      {
       "output_type": "stream",
       "stream": "stderr",
       "text": [
        "127.0.0.1 - - [12/Jan/2015 00:09:26] \"GET /mpld3.js HTTP/1.1\" 200 -\n"
       ]
      }
     ],
     "prompt_number": 11
    },
    {
     "cell_type": "code",
     "collapsed": false,
     "input": [
      "meeting.minutes"
     ],
     "language": "python",
     "metadata": {},
     "outputs": [
      {
       "metadata": {},
       "output_type": "pyout",
       "prompt_number": 12,
       "text": [
        "[(array([ 0.90979831,  0.4354036 ]), 6),\n",
        " (array([ 0.86742152,  0.43059217]), 3),\n",
        " (array([ 0.96405446,  0.47470645]), 3),\n",
        " (array([ 0.92634913,  0.50158988]), 1),\n",
        " (array([ 0.91939889,  0.45567938]), 0),\n",
        " (array([ 0.8964106,  0.3826526]), 4),\n",
        " (array([ 0.95589231,  0.50427373]), 3),\n",
        " (array([ 0.84059636,  0.52823005]), 0),\n",
        " (array([ 0.83265663,  0.4245434 ]), 2),\n",
        " (array([ 0.82221889,  0.43241279]), 2),\n",
        " (array([ 0.94175445,  0.36984657]), 2),\n",
        " (array([ 0.97022576,  0.31360023]), 0),\n",
        " (array([ 0.9971289 ,  0.33321136]), 5),\n",
        " (array([ 0.83872864,  0.33999646]), 5),\n",
        " (array([ 0.79374077,  0.30979313]), 4),\n",
        " (array([ 0.75985852,  0.36438426]), 4),\n",
        " (array([ 0.7792196 ,  0.45728342]), 3),\n",
        " (array([ 0.69166047,  0.46577811]), 3),\n",
        " (array([ 0.82465706,  0.5568616 ]), 1),\n",
        " (array([ 0.956921  ,  0.56751164]), 5),\n",
        " (array([ 0.86053228,  0.61194404]), 4),\n",
        " (array([ 0.8955121 ,  0.61656346]), 3),\n",
        " (array([ 0.92929716,  0.65983892]), 2),\n",
        " (array([ 0.90764844,  0.67752021]), 1),\n",
        " (array([ 0.89083836,  0.6756396 ]), 3),\n",
        " (array([ 0.75583512,  0.55037593]), 5),\n",
        " (array([ 0.73401642,  0.60491736]), 5),\n",
        " (array([ 0.71081077,  0.6041956 ]), 2),\n",
        " (array([ 0.77849715,  0.64434351]), 3),\n",
        " (array([ 0.70761493,  0.62821552]), 5),\n",
        " (array([ 0.66604763,  0.55881767]), 0)]"
       ]
      }
     ],
     "prompt_number": 12
    },
    {
     "cell_type": "markdown",
     "metadata": {},
     "source": [
      "\u5e73\u5747\u9802\u70b9\u9593\u8ddd\u96e2"
     ]
    },
    {
     "cell_type": "code",
     "collapsed": false,
     "input": [
      "tmp = 0\n",
      "for p0, p1 in zip(meeting.minutes[:-1], meeting.minutes[1:]):\n",
      "    tmp += euc(p0[0], p1[0])\n",
      "ave_dist_btw_nodes = tmp/float(len(meeting.minutes)-1)\n",
      "print ave_dist_btw_nodes"
     ],
     "language": "python",
     "metadata": {},
     "outputs": [
      {
       "output_type": "stream",
       "stream": "stdout",
       "text": [
        "0.0804324978108\n"
       ]
      }
     ],
     "prompt_number": 13
    },
    {
     "cell_type": "code",
     "collapsed": false,
     "input": [
      "trial = 10\n",
      "\n",
      "ave_dist_btw_nodes = []\n",
      "N = range(1, 20)\n",
      "for _N in N:\n",
      "    _tmp = 0\n",
      "    for t in range(trial):\n",
      "        meeting = Meeting(K=30, N=_N, S=50, a=2, p=0.6, draw=False, case=3)\n",
      "        meeting.progress()\n",
      "        tmp = 0\n",
      "        for p0, p1 in zip(meeting.minutes[:-1], meeting.minutes[1:]):\n",
      "            tmp += euc(p0[0], p1[0])\n",
      "        _tmp += tmp/float(len(meeting.minutes)-1)\n",
      "    ave_dist_btw_nodes.append(_tmp/trial)"
     ],
     "language": "python",
     "metadata": {},
     "outputs": []
    },
    {
     "cell_type": "code",
     "collapsed": false,
     "input": [
      "def myplot1(xdata, ydata, xfit=np.array([]), yfit=np.array([]), param=None):\n",
      "    fig = plt.figure(figsize=(8, 12))\n",
      "    ax1 = fig.add_subplot(211)\n",
      "\n",
      "    ax1.plot(xdata, ydata)\n",
      "    if len(xfit):\n",
      "        ax1.plot(xfit, yfit,\n",
      "                 label=r'$a = %f, b = %f$' % (param[0], param[1]))\n",
      "        ax1.legend(loc='best')\n",
      "    ax1.set_xlabel(r'$r$')\n",
      "    ax1.set_ylabel(r'$\\phi$')\n",
      "    ax1.set_xscale('linear')\n",
      "    ax1.set_yscale('linear')\n",
      "    \n",
      "    ax2 = fig.add_subplot(212)\n",
      "    ax2.plot(xdata, ydata)\n",
      "    if len(xfit):\n",
      "        ax2.plot(xfit, yfit,\n",
      "                 label=r'$a = %f, b = %f$' % (param[0], param[1]))\n",
      "        ax2.legend(loc='best')\n",
      "    ax2.set_xlabel(r'$r$')\n",
      "    ax2.set_ylabel(r'$\\phi$')\n",
      "    ax2.set_xscale('log')\n",
      "    ax2.set_yscale('log')\n",
      "    plt.show()"
     ],
     "language": "python",
     "metadata": {},
     "outputs": [],
     "prompt_number": 21
    },
    {
     "cell_type": "code",
     "collapsed": false,
     "input": [
      "myplot1(N, ave_dist_btw_nodes)"
     ],
     "language": "python",
     "metadata": {},
     "outputs": [
      {
       "metadata": {},
       "output_type": "display_data",
       "png": "[encoded data removed]",
       "text": [
        "<matplotlib.figure.Figure at 0x7fa878928190>"
       ]
      }
     ],
     "prompt_number": 22
    }
   ],
   "metadata": {}
  }
 ]
}