{
 "metadata": {
  "name": "",
  "signature": "sha256:02412acb40e8523821c467496796cf26f78e083ad93ed1b22abc4b147d4be2b1"
 },
 "nbformat": 3,
 "nbformat_minor": 0,
 "worksheets": [
  {
   "cells": [
    {
     "cell_type": "heading",
     "level": 1,
     "metadata": {
      "internals": {
       "slide_type": "subslide"
      },
      "slideshow": {
       "slide_type": "slide"
      }
     },
     "source": [
      "\u4f8b3"
     ]
    },
    {
     "cell_type": "markdown",
     "metadata": {
      "internals": {},
      "slideshow": {
       "slide_type": "-"
      }
     },
     "source": [
      "\u7c21\u5358\u306a\u4f8b\u306e3\u3064\u76ee\u3092\u8003\u3048\u3066\u307f\u308b\u3002\u4eca\u307e\u3067\u306e\u30e2\u30c7\u30eb\u306e\u4e3b\u773c\u306b\u3042\u3063\u305f\u8003\u3048\u306f\u3001\u4eba\u3092\u9078\u3076\u78ba\u7387\u3068\u305d\u306e\u3046\u3048\u3067\u610f\u898b\u304c\u9078\u3070\u308c\u308b\u78ba\u7387\u306f\u72ec\u7acb\u3067\u3042\u308b\u3068\u3044\u3046\u3082\u306e\u3067\u3042\u3063\u305f\u3002\u3057\u304b\u3057\u3001\u3053\u308c\u307e\u3067\u8003\u3048\u305f\u3088\u3046\u306b\u3001\u5358\u306b\u305d\u306e\u3088\u3046\u306a\u30e2\u30c7\u30eb\u3092\u8003\u3048\u305f\u3060\u3051\u3060\u3068\u4eba\u6570\u306e\u52b9\u679c\u3092\u3046\u307e\u304f\u53cd\u6620\u3067\u304d\u306a\u3044\u3088\u3046\u306b\u601d\u3048\u308b\u3002\u3057\u305f\u304c\u3063\u3066\u3001\u6b21\u306b\u8003\u3048\u308b\u30e2\u30c7\u30eb\u306f\u3001\u4eba\u304c\u305d\u308c\u305e\u308c\u610f\u898b\u3092\u3082\u3063\u3066\u304a\u308a\u3001\u524d\u306e\u767a\u8a00\u306b\u95a2\u3057\u3066\u610f\u898b\u304c\u8fd1\u3044\u3001\u307e\u305f\u306f\u53cd\u5bfe\u610f\u898b\u3092\u6301\u3063\u3066\u3044\u308b\u6642\u306b\u306f\u305d\u306e\u610f\u898b\u3092\u3082\u3064\u4eba\u304c\u767a\u8a00\u3059\u308b\u78ba\u7387\u304c\u9ad8\u3044\u3001\u3068\u3044\u3046\u3088\u3046\u306a\u3082\u306e\u3092\u8003\u3048\u308b\u3002"
     ]
    },
    {
     "cell_type": "markdown",
     "metadata": {
      "internals": {},
      "slideshow": {
       "slide_type": "-"
      }
     },
     "source": [
      "\u30a2\u30eb\u30b4\u30ea\u30ba\u30e0\u3068\u3057\u3066\u306f\u3001\u306f\u3058\u3081\u306b\u53c2\u52a0\u8005\u305f\u3061$P=\\{i\\ |\\ i = 0, 1, 2,\\cdots , n-1\\}$\u306f\u305d\u308c\u305e\u308c\u306b\u72ec\u81ea\u306e$s_{i}$\u500b\u306e\u610f\u898b\u3092\u6301\u3063\u3066\u3044\u308b\u3068\u3059\u308b\u3002\u3053\u306e\u3068\u304d\u306e\u610f\u898b$X$\u306f\u72b6\u614b\u7a7a\u9593$S$\u4e0a\u306e\u3042\u308b\u4e00\u70b9\u3092\u6307\u3057\u3066\u304a\u308a\u3001\u30d9\u30af\u30c8\u30eb\u3067\u8a18\u8ff0\u3055\u308c\u308b\u3088\u3046\u306a\u3082\u306e\u3067\u3042\u308b\u3002\u610f\u898b\u3059\u3079\u3066\u306e\u96c6\u5408\u306f\u4e92\u3044\u306b\u91cd\u306a\u308a\u3042\u3046\u3053\u3068\u306f\u306a\u304f(\u5168\u304f\u540c\u3058\u70b9\u306b\u7570\u306a\u308b\u4eba\u306e\u610f\u898b\u304c\u5b58\u5728\u3059\u308b\u3053\u3068\u306f\u306a\u3044\u3002)\u3001\u305d\u308c\u305e\u308c\u304c\u7570\u306a\u308b\u5206\u5e03\u3092\u6301\u3063\u3066\u3044\u3066\u3082\u3088\u3044\u3002\u306f\u3058\u3081\u306b\u8b70\u984c\u3001\u3059\u306a\u308f\u3061\u6642\u523b$0$\u306b\u304a\u3051\u308b\u610f\u898b\u304c\u4f5c\u3089\u308c\u3001\u6b21\u306b\u6642\u523b1\u3067\u306f\u3001\u305d\u308c\u305e\u308c\u306e\u53c2\u52a0\u8005\u306e\u610f\u898b\u306e\u3046\u3061\u304b\u3089\u3001\u4e00\u756a\u305d\u306e\u610f\u898b\u306b\u3088\u3063\u3066\u767a\u8a00\u3055\u308c\u3084\u3059\u3044\u3082\u306e\u3092\u305d\u308c\u305e\u308c\u4e00\u3064\u305a\u3064\u9078\u3076\u3002\u3053\u308c\u3092\u5927\u304d\u3044\u9806\u306b\u4e26\u3079\u66ff\u3048\u3066\u3001\u4e00\u756a\u767a\u8a00\u3057\u3084\u3059\u3044\u4eba\u306b\u767a\u8a00\u306e\u6a5f\u4f1a\u304c\u751f\u307e\u308c\u308b\u3002\u305d\u308c\u305e\u308c\u306e\u4eba\u306b\u306f\u767a\u8a00\u529b\u304c\u5272\u308a\u5f53\u3066\u3089\u308c\u3066\u304a\u308a\u3001\u305d\u306e\u5024\u306b\u3088\u3063\u3066\u78ba\u7387\u7684\u306b\u767a\u8a00\u3059\u308b\u304b\u3069\u3046\u304b\u304c\u6c7a\u307e\u308b\u3002\u3059\u306a\u308f\u3061\u3001\u610f\u898b\u306e\u5f37\u3055\u304c\u8a66\u884c\u306e\u9806\u756a\u3092\u6c7a\u3081\u3001\u81ea\u5206\u306e\u756a\u304c\u56de\u3063\u3066\u304d\u305f\u3068\u304d\u306e\u767a\u8a00\u306e\u78ba\u7387\u306f\u4e00\u5b9a\u3067\u3042\u308b\u3068\u3044\u3046\u5834\u9762\u3092\u8003\u3048\u3066\u3044\u308b\u3002\u307e\u305f\u5225\u306e\u65b9\u6cd5\u3068\u3057\u3066\u306f\u3001\u3053\u306e\u767a\u8a00\u529b\u3068\u610f\u898b\u306e\u3057\u3084\u3059\u3055\u3092\u5408\u308f\u305b\u305f\u6307\u6a19\u3067\u767a\u8a00\u3059\u308b\u304b\u3069\u3046\u304b\u3092\u6c7a\u3081\u308b\u3068\u3044\u3046\u65b9\u6cd5\u304c\u3042\u308b\u304c\u3001\u307e\u305a\u306f\u7c21\u5358\u306e\u305f\u3081\u306b\u3001\u306f\u3058\u3081\u306e\u305d\u308c\u305e\u308c\u304c\u81ea\u5206\u306e\u4e2d\u3067\u4e00\u756a\u3044\u3044\u610f\u898b\u3092\u6301\u3061\u5bc4\u308a\u3001\u305d\u306e\u9806\u756a\u306b\u767a\u8a00\u306e\u6a29\u5229\u304c\u4e0e\u3048\u3089\u308c\u3066\u3044\u304f\u3088\u3046\u306a\u5834\u9762\u3092\u8003\u3048\u308b\u3053\u3068\u306b\u3059\u308b\u3002\u307e\u305f\u3001\u6700\u7d42\u7684\u306b\u8ab0\u3082\u767a\u8a00\u3067\u304d\u306a\u3044\u5834\u5408\u3082\u3042\u308b\u306e\u3067\u3001\u305d\u306e\u3068\u304d\u306b\u306f\u6c88\u9ed9\u304c\u3042\u3063\u305f\u3068\u3057\u3066\u6642\u9593\u306f1\u9032\u3081\u3066\u540c\u3058\u610f\u898b\u306b\u3064\u3044\u3066\u5148\u7a0b\u3068\u540c\u3058\u8a66\u884c\u3092\u7e70\u308a\u8fd4\u3059\u3053\u3068\u3068\u3059\u308b\u3002"
     ]
    },
    {
     "cell_type": "markdown",
     "metadata": {},
     "source": [
      "\u307e\u305f\u3001\u4ee5\u524d\u306e\u610f\u898b\u304c\u6b21\u306e\u767a\u8a00\u306e\u610f\u898b\u306b\u3069\u3046\u5f71\u97ff\u3059\u308b\u304b\u306e\u8003\u3048\u65b9\u306b\u3082\u3044\u304f\u3064\u304b\u306e\u5019\u88dc\u304c\u8003\u3048\u3089\u308c\u308b\u3002\n",
      "\n",
      "\u5358\u7d14\u306a\u9806\u306b\u4e26\u3079\u3066\u3044\u304f\u3053\u3068\u306b\u3059\u308b\u3068\u3001\n",
      "\n",
      "1. \u5f71\u97ff\u306a\u3057(\u72ec\u7acb)\n",
      "2. \u8b70\u984c\n",
      "3. \u4e00\u3064\u524d\u306e\u610f\u898b\n",
      "4. \u4e00\u3064\u524d\u306e\u610f\u898b + \u8b70\u984c\n",
      "5. \u4e8c\u3064\u524d\u307e\u3067\u306e\u610f\u898b\n",
      "6. \u4e8c\u3064\u524d\u307e\u3067\u306e\u610f\u898b + \u8b70\u984c\n",
      "7. \u305d\u308c\u4ee5\u4e0a\u524d\u306e\u610f\u898b"
     ]
    },
    {
     "cell_type": "heading",
     "level": 2,
     "metadata": {},
     "source": [
      "1\u306e\u5834\u5408"
     ]
    },
    {
     "cell_type": "markdown",
     "metadata": {
      "internals": {},
      "slideshow": {
       "slide_type": "-"
      }
     },
     "source": [
      "1\u306e\u5834\u5408\u306b\u306f\u610f\u898b\u306e\u8cea\u3092\u6e2c\u308b\u3082\u306e\u306f\u306a\u304f\u306a\u3063\u3066\u3057\u307e\u3046\u306e\u3067\u3001\u610f\u898b\u306e\u9078\u3073\u65b9\u306f\u30e9\u30f3\u30c0\u30e0\u306b\u306a\u3063\u3066\u3044\u308b\u3068\u898b\u3066\u3082\u3088\u3044\u3002\u305d\u3046\u3059\u308b\u3068\u3001\u767a\u8a00\u306e\u9806\u756a\u306f\u5358\u306a\u308b\u7d44\u307f\u5408\u308f\u305b\u306b\u306a\u308a\u3001\u4eba$i$\u304c$r+1$($r = 1, 2, \\cdots , n-1$)\u756a\u76ee\u306b\u767a\u8a00\u3059\u308b\u6a29\u5229\u3092\u5f97\u305f\u3068\u304d\u3001\u81ea\u5206\u307e\u3067\u305d\u306e\u6a29\u5229\u304c\u56de\u3063\u3066\u304f\u308b\u78ba\u7387\u306f\u3001\u4ee5\u4e0b\u306e\u3088\u3046\u306b\u671f\u5f85\u5024\u3067\u3042\u3089\u308f\u3059\u3053\u3068\u304c\u51fa\u6765\u308b\u3002\n",
      "\n",
      "$$p_{r+1}(i) = \\frac{\\sum_{<j_{0}, \\cdots ,j_{r-1}>_{r} = J}\\prod_{j\\in J}(1-P_{j})}{_{n-1}C_{r}}$$\n",
      "\n",
      "\u3053\u3053\u3067$J = <j_{0}, j_{1}, \\cdots ,j_{r-1}>_{r}$\u306f\u3001$i$\u3092\u9664\u304f$n-1$\u500b\u306e\u8981\u7d20\u304b\u3089$r$\u500b\u53d6\u308a\u51fa\u3057\u305f\u3068\u304d\u306e\u4eba\u306e\u7d44\u307f\u5408\u308f\u305b\u306e\u3046\u3061\u306e1\u3064\u306e\u30d1\u30bf\u30fc\u30f3\u3092\u3042\u3089\u308f\u3059\u3053\u3068\u306b\u3059\u308b($j_{0}$\u306a\u3069\u306f\u305d\u306e\u5b9f\u969b\u306e\u5024\u3092\u3042\u3089\u308f\u3059)\u3002\u3053\u306e\u3068\u304d\u3069\u306e\u7d44\u307f\u5408\u308f\u305b\u304c\u8d77\u3053\u308b\u78ba\u7387\u3082\u7b49\u3057\u3044\u306e\u3067\u3001\u305d\u306e$J$\u3059\u3079\u3066\u306b\u5bfe\u3057\u3066\u548c\u3092\u3068\u3063\u3066\u3001\u305d\u306e\u7d44\u307f\u5408\u308f\u305b\u306e\u30d1\u30bf\u30fc\u30f3\u306e\u6570$_{n-1}C_{r}$\u3067\u5272\u308b\u3053\u3068\u3067\u671f\u5f85\u5024\u3092\u6c42\u3081\u308b\u3053\u3068\u304c\u3067\u304d\u3066\u3044\u308b\u3002\n",
      "\n",
      "\u307e\u305f\u3001\n",
      "\n",
      "$$p_{0}(i) = 1$$\n",
      "\n",
      "\u3067\u3042\u308b\u3002\n",
      "\n",
      "\u4eba$i$\u304c\u767a\u8a00\u6a29\u306e\u9806\u756a\u3067$r$\u756a\u76ee\u306b\u306a\u308b\u78ba\u7387\u306f\u7b49\u3057\u3044\u308f\u3051\u306a\u306e\u3067\u3001\u3057\u305f\u304c\u3063\u3066$r$\u306b\u5bfe\u3057\u3066\u3082\u5e73\u5747\u3092\u3059\u308b\u3053\u3068\u304c\u3067\u304d\u3066\u3001\n",
      "\n",
      "$$p(i) = \\frac{\\sum_{r=0}^{n}p_{r}(i)P_{i}}{n}.$$\n",
      "\n",
      "\u3053\u306e\u3068\u304d\u5f97\u3089\u308c\u305f\u78ba\u7387\u306f\u4eba$i$\u306b\u3088\u3063\u3066\u7570\u306a\u308a\u3001\u6bce\u6642\u523b\u3054\u3068\u306b\u305d\u306e\u78ba\u7387\u3067\u305d\u308c\u305e\u308c\u306e\u4eba\u304c\u767a\u8a00\u3059\u308b\u78ba\u7387\u304c\u3042\u308b\u3068\u3044\u3046\u3053\u3068\u306b\u306a\u308b\u3002\u6c88\u9ed9\u306e(\u5e73\u5747\u7684\u306a)\u78ba\u7387\u306f\n",
      "\n",
      "$$p(s) = 1- \\sum_{i}p(i)$$\n",
      "\n",
      "\u3067\u3042\u308b\u3002\n",
      "\n",
      "\u3053\u306e\u3088\u3046\u306b\u6574\u7406\u3059\u308c\u3070\u3001\u5404\u6642\u523b\u3067\u305d\u308c\u305e\u308c\u306e\u4eba\u304c\u610f\u898b\u3092\u767a\u8a00\u3059\u308b\u78ba\u7387\u304c\u6c42\u3081\u3089\u308c\u308b\u306e\u3067\u3001\u7c21\u5358\u306a\u78ba\u7387\u904e\u7a0b\u306b\u5e30\u7740\u3067\u304d\u305f\u3002\n"
     ]
    },
    {
     "cell_type": "heading",
     "level": 2,
     "metadata": {},
     "source": [
      "2\u30013\u306e\u5834\u5408"
     ]
    },
    {
     "cell_type": "markdown",
     "metadata": {},
     "source": [
      "\u6b21\u306b2\u3001\u307e\u305f\u306f3\u306e\u5834\u5408\u306b\u3064\u3044\u3066\u8003\u3048\u308b\u3002\u3069\u3061\u3089\u306e\u5834\u5408\u3082\u53c2\u7167\u3068\u3059\u308b\u30c7\u30fc\u30bf\u306f\u4e00\u3064\u3060\u3051\u3067\u3042\u308b\u3068\u3044\u3046\u70b9\u3067\u5171\u901a\u3067\u3042\u308a\u3001\u9055\u3044\u306f\u305d\u306e\u30c7\u30fc\u30bf\u304c\u6642\u7cfb\u5217\u306b\u3057\u305f\u304c\u3063\u3066\u5909\u5316\u3059\u308b\u304b\u3068\u3044\u3046\u70b9\u3060\u3051\u3067\u3042\u308b\u3002\n",
      "\n",
      "\u30b7\u30df\u30e5\u30ec\u30fc\u30b7\u30e7\u30f3\u306e\u8a2d\u5b9a\u3092\u8003\u3048\u308b\u3002\n",
      "\n",
      "\u610f\u898b\u306f$a$\u6b21\u5143\u4e0a\u306e\u4e00\u70b9\u3067\u3042\u308a\u3001\u610f\u898b\u304c\u8fd1\u3044\u5834\u5408\u306b\u767a\u8a00\u3055\u308c\u3084\u3059\u3044\u3068\u8003\u3048\u308b\u3053\u3068\u306b\u3059\u308b\u3002\u610f\u898b\u306e\u8fd1\u3055\u306f\u3001\u30e6\u30fc\u30af\u30ea\u30c3\u30c9\u8ddd\u96e2\n",
      "\n",
      "$$d(x, y) = \\sqrt{(x_{1}-y_{1})^{2} + (x_{2} -y_{2})^{2} + \\cdots +(x_{a}-y_{a})^{2}}$$\n",
      "\n",
      "\u306e\u5927\u5c0f\u3067\u6e2c\u308b\u3053\u3068\u306b\u3059\u308b\u3002"
     ]
    },
    {
     "cell_type": "code",
     "collapsed": false,
     "input": [
      "%matplotlib inline\n",
      "import numpy as np\n",
      "from scipy.spatial.distance import euclidean as euc\n",
      "import matplotlib.pyplot as plt\n",
      "\n",
      "\n",
      "class Person:\n",
      "    \n",
      "    def __init__(self, S, a, p=0.5):\n",
      "        self.S = S\n",
      "        self.a = a\n",
      "        self.p = p\n",
      "        \n",
      "    def gather(self):\n",
      "        \"\"\"make person to participate the meeting.\n",
      "        \"\"\"\n",
      "        self.ideas = self.has_idea()\n",
      "    \n",
      "    def has_idea(self):\n",
      "        \"\"\"a person has self.S ideas with self.a dimension.\n",
      "        \"\"\"\n",
      "        return list(np.random.rand(self.S, self.a))\n",
      "         \n",
      "    def chose_idea(self, idea):\n",
      "        if len(self.ideas) == 0:\n",
      "            return False\n",
      "        # return min(d) and its idea_id\n",
      "        return min([(euc(vec, idea), idea_id) for idea_id, vec in enumerate(self.ideas)])\n",
      "    \n",
      "    \n",
      "class Meeting:\n",
      "    \"\"\"Simulate a meeting with \"simple3\" situation.\n",
      "    \n",
      "    Give keyword arguments:\n",
      "    \n",
      "        K = 20 # Time limit\n",
      "        N = 6 # a number of participants\n",
      "        S = 10 # a number of ideas for each participants\n",
      "        a = 2 # the dimension of an idea\n",
      "    \n",
      "    Output:\n",
      "    \n",
      "        self.minutes: list of\n",
      "                      ( idea(which is vector with a dimension)\n",
      "                      , who(person_id in the list \"self.membes\"))\n",
      "        self.k: stopped time (=len(self.minutes+1))\n",
      "    \"\"\"\n",
      "\n",
      "    def __init__(self, K=20, N=6, S=10, a=2):\n",
      "        self.K = K\n",
      "        self.N = N\n",
      "        self.S = S\n",
      "        self.a = a\n",
      "        self.case = 2 # case in the above cell: 2 or 3\n",
      "        self.members = []\n",
      "        self.minutes = [] # list of (idea, who)\n",
      "    \n",
      "    def gather_people(self):\n",
      "        \"\"\"gather people for the meeting.\n",
      "        \n",
      "        You can edit what ideas they have in here.\n",
      "        \"\"\"\n",
      "        for n in range(self.N):\n",
      "            person = Person(self.S, self.a)\n",
      "            # person.has_idea = some_function()\n",
      "            # some_function: return list of self.S arrays with dim self.a.\n",
      "            person.gather()\n",
      "            self.members.append(person)\n",
      "    \n",
      "    def progress(self):\n",
      "        \"\"\"meeting progress\n",
      "        \"\"\"\n",
      "        self.init()\n",
      "        preidea = self.subject\n",
      "        k = 1\n",
      "        while k < self.K:\n",
      "            # l: (distance, speaker, idea_id) list for who can speak\n",
      "            l = []\n",
      "            for person_id, person in enumerate(self.members):\n",
      "                # chosed: (distance, idea_id)\n",
      "                chosed = person.chose_idea(preidea)\n",
      "                if chosed:\n",
      "                    l.append((chosed[0], person_id, chosed[1]))\n",
      "            # if no one can speak: meeting ends.\n",
      "            if len(l) == 0:\n",
      "                break\n",
      "            i = [(person_id, idea_id) for distance, person_id, idea_id in sorted(l)]\n",
      "            \n",
      "            for person_id, idea_id in i:\n",
      "                rn = np.random.rand()\n",
      "                if rn < self.members[person_id].p:\n",
      "                    idea = self.members[person_id].ideas.pop(idea_id)\n",
      "                    self.minutes.append((idea, person_id))\n",
      "                    if self.case == 2:\n",
      "                        preidea = idea\n",
      "                    k += 1\n",
      "                    break\n",
      "            else:\n",
      "                self.minutes.append((self.subject, self.N))\n",
      "            self.callback()\n",
      "            k += 1\n",
      "        self.after()\n",
      "        \n",
      "    def init(self):\n",
      "        self.gather_people()\n",
      "        self.subject = np.random.rand(1, self.a)\n",
      "        self.minutes.append((self.subject, self.N))\n",
      "        \n",
      "    def callback(self):\n",
      "        ix = self.members[self.spea[-2]].place[0]\n",
      "        iy = self.members[self.speaker[-2]].place[1]\n",
      "        jx = self.members[self.speaker[-1]].place[0]\n",
      "        jy = self.members[self.speaker[-1]].place[1]\n",
      "        plt.plot([ix, jx], [iy, jy])\n",
      "        plt.text((ix+jx)/2, (iy+jy)/2, '%d:(%d,%d)'\n",
      "                 % (self.k, self.speaker[-2], self.speaker[-1]))\n",
      "        plt.draw()\n",
      "\n",
      "    def after(self):\n",
      "        print self.minutes\n",
      "        \n",
      "        \n",
      "    "
     ],
     "language": "python",
     "metadata": {},
     "outputs": [],
     "prompt_number": 41
    },
    {
     "cell_type": "code",
     "collapsed": false,
     "input": [
      "meeting = Meeting()\n",
      "meeting.progress()"
     ],
     "language": "python",
     "metadata": {},
     "outputs": [
      {
       "output_type": "stream",
       "stream": "stdout",
       "text": [
        "[(array([[ 0.82457593,  0.03085283]]), 6), (array([ 0.84109874,  0.11753066]), 1), (array([ 0.98401347,  0.03291705]), 2), (array([ 0.94099201,  0.15783925]), 3), (array([ 0.83662936,  0.31547174]), 5), (array([ 0.79816259,  0.44346557]), 5), (array([ 0.71152673,  0.28301302]), 1), (array([ 0.67650615,  0.32739784]), 4), (array([ 0.48635774,  0.25188129]), 2), (array([ 0.45541549,  0.28758743]), 1), (array([ 0.45283324,  0.34002569]), 5)]\n"
       ]
      }
     ],
     "prompt_number": 42
    },
    {
     "cell_type": "code",
     "collapsed": false,
     "input": [
      "from scipy.spatial.distance import euclidean as euc\n",
      "ideas = list(np.random.rand(5, 2))\n",
      "print ideas\n",
      "v = (0,0)\n",
      "print [y for x,y in sorted([(euc(idea, v), i) for i, idea in enumerate(ideas)])]\n",
      "\n"
     ],
     "language": "python",
     "metadata": {},
     "outputs": [
      {
       "output_type": "stream",
       "stream": "stdout",
       "text": [
        "[array([ 0.68193809,  0.5008309 ]), array([ 0.45217271,  0.69804351]), array([ 0.91902299,  0.94587172]), array([ 0.00681852,  0.91415871]), array([ 0.02781621,  0.05248829])]\n",
        "[4, 1, 0, 3, 2]\n"
       ]
      }
     ],
     "prompt_number": 29
    },
    {
     "cell_type": "code",
     "collapsed": false,
     "input": [
      "np.random.rand(1, 2)[]"
     ],
     "language": "python",
     "metadata": {},
     "outputs": [
      {
       "metadata": {},
       "output_type": "pyout",
       "prompt_number": 30,
       "text": [
        "array([[ 0.9770647 ,  0.43736634]])"
       ]
      }
     ],
     "prompt_number": 30
    }
   ],
   "metadata": {}
  }
 ]
}