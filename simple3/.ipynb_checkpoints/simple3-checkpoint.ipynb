{
 "metadata": {
  "name": "",
  "signature": "sha256:75a50f606311d03724a95ec3a42cd912c0920e1734d9d6303e135ac65bbf1e43"
 },
 "nbformat": 3,
 "nbformat_minor": 0,
 "worksheets": []
}