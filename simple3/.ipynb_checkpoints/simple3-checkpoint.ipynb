{
 "metadata": {
  "name": "",
  "signature": "sha256:8dc0d4fd42ee8b0978a5a823aacfc04f78b5288d73c70be63cf8183f5dfd285c"
 },
 "nbformat": 3,
 "nbformat_minor": 0,
 "worksheets": [
  {
   "cells": [
    {
     "cell_type": "heading",
     "level": 1,
     "metadata": {},
     "source": [
      "\u4f8b3"
     ]
    },
    {
     "cell_type": "markdown",
     "metadata": {},
     "source": [
      "simoke3_123\u3001simple3_45\u3067\u306f\u3001\u5b9a\u6027\u7684\u306a\u6027\u8cea\u3092\u8ff0\u3079\u308b\u306b\u3068\u3069\u307e\u308a\u3001\u4f1a\u8b70\u306e\"\u8cea\"\u306a\u308b\u3082\u306e\u304c\u3069\u306e\u3088\u3046\u306a\u91cf\u306b\u5bfe\u5fdc\u3059\u308b\u304b\u3001\u307e\u305f\u3001\u305d\u306e\u8cea\u304c\u4eba\u6570\u3068\u306e\u95a2\u4fc2\u3067\u3069\u306e\u3088\u3046\u306b\u5909\u5316\u3059\u308b\u306e\u304b\u306b\u3064\u3044\u3066\u306e\u7406\u89e3\u306b\u6b20\u3051\u3066\u3044\u305f\u3002\u3053\u3053\u3067\u306f\u3001\u30cd\u30c3\u30c8\u30ef\u30fc\u30af\u3092\u7279\u5fb4\u3065\u3051\u308b\u91cf\u3092\u5b9f\u969b\u306b\u3044\u304f\u3064\u304b\u6e2c\u3063\u3066\u307f\u305f\u4f8b\u3092\u793a\u3059\u3053\u3068\u306b\u3059\u308b\u3002"
     ]
    },
    {
     "cell_type": "code",
     "collapsed": false,
     "input": [
      "import numpy as np\n",
      "from scipy.spatial.distance import euclidean as euc"
     ],
     "language": "python",
     "metadata": {},
     "outputs": [],
     "prompt_number": 45
    },
    {
     "cell_type": "code",
     "collapsed": false,
     "input": [
      "from simple3 import Meeting\n",
      "meeting = Meeting(K=30, N=6, S=50, a=2, p=0.6, case=4)\n",
      "meeting.progress()"
     ],
     "language": "python",
     "metadata": {},
     "outputs": [
      {
       "output_type": "stream",
       "stream": "stdout",
       "text": [
        "\n",
        "Note: if you're in the IPython notebook, mpld3.show() is not the best command\n",
        "      to use. Consider using mpld3.display(), or mpld3.enable_notebook().\n",
        "      See more information at http://mpld3.github.io/quickstart.html .\n",
        "\n",
        "You must interrupt the kernel to end this command\n",
        "\n",
        "Serving to http://127.0.0.1:8889/    [Ctrl-C to exit]\n"
       ]
      },
      {
       "output_type": "stream",
       "stream": "stderr",
       "text": [
        "127.0.0.1 - - [11/Jan/2015 22:50:31] \"GET / HTTP/1.1\" 200 -\n",
        "127.0.0.1 - - [11/Jan/2015 22:50:31] \"GET /d3.js HTTP/1.1\" 200 -\n"
       ]
      },
      {
       "output_type": "stream",
       "stream": "stdout",
       "text": [
        "\n",
        "stopping Server...\n"
       ]
      },
      {
       "output_type": "stream",
       "stream": "stderr",
       "text": [
        "127.0.0.1 - - [11/Jan/2015 22:50:31] \"GET /mpld3.js HTTP/1.1\" 200 -\n"
       ]
      }
     ],
     "prompt_number": 42
    },
    {
     "cell_type": "code",
     "collapsed": false,
     "input": [
      "meeting.minutes"
     ],
     "language": "python",
     "metadata": {},
     "outputs": [
      {
       "metadata": {},
       "output_type": "pyout",
       "prompt_number": 43,
       "text": [
        "[(array([ 0.26979718,  0.62477412]), 6),\n",
        " (array([ 0.26719348,  0.65644738]), 0),\n",
        " (array([ 0.29510662,  0.64791452]), 1),\n",
        " (array([ 0.26319826,  0.59370537]), 1),\n",
        " (array([ 0.25520974,  0.67007521]), 5),\n",
        " (array([ 0.22956192,  0.57468325]), 3),\n",
        " (array([ 0.1868809,  0.5687639]), 3),\n",
        " (array([ 0.31385774,  0.56664543]), 2),\n",
        " (array([ 0.35296096,  0.59524898]), 4),\n",
        " (array([ 0.35380687,  0.65575104]), 0),\n",
        " (array([ 0.2045903 ,  0.63434449]), 5),\n",
        " (array([ 0.17290378,  0.62552796]), 3),\n",
        " (array([ 0.16819806,  0.61923852]), 4),\n",
        " (array([ 0.17370649,  0.59897571]), 1),\n",
        " (array([ 0.15658088,  0.55796846]), 3),\n",
        " (array([ 0.22055779,  0.51362328]), 2),\n",
        " (array([ 0.28051014,  0.51966069]), 5),\n",
        " (array([ 0.33816122,  0.54335373]), 3),\n",
        " (array([ 0.32448811,  0.46955439]), 2),\n",
        " (array([ 0.33133148,  0.53229162]), 3),\n",
        " (array([ 0.32279075,  0.51676569]), 4),\n",
        " (array([ 0.41033629,  0.57192175]), 5),\n",
        " (array([ 0.44427711,  0.5655824 ]), 2),\n",
        " (array([ 0.30941403,  0.72168307]), 0),\n",
        " (array([ 0.24332286,  0.73449567]), 0),\n",
        " (array([ 0.15020112,  0.65244886]), 5),\n",
        " (array([ 0.18212258,  0.75109629]), 3),\n",
        " (array([ 0.13207121,  0.6560698 ]), 2),\n",
        " (array([ 0.11177466,  0.61256396]), 0),\n",
        " (array([ 0.08819526,  0.68481871]), 2),\n",
        " (array([ 0.15211835,  0.53453687]), 0)]"
       ]
      }
     ],
     "prompt_number": 43
    },
    {
     "cell_type": "markdown",
     "metadata": {},
     "source": [
      "\u5e73\u5747\u9802\u70b9\u9593\u8ddd\u96e2"
     ]
    },
    {
     "cell_type": "code",
     "collapsed": false,
     "input": [
      "tmp = 0\n",
      "for p0, p1 in zip(meeting.minutes[:-1], meeting.minutes[1:]):\n",
      "    tmp += euc(p0[0], p1[0])\n",
      "ave_dist_btw_nodes = tmp/float(len(meeting.minutes)-1)\n",
      "print ave_dist_btw_nodes"
     ],
     "language": "python",
     "metadata": {},
     "outputs": [
      {
       "output_type": "stream",
       "stream": "stdout",
       "text": [
        "0.0741949668411\n"
       ]
      }
     ],
     "prompt_number": 48
    }
   ],
   "metadata": {}
  }
 ]
}