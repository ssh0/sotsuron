{
 "metadata": {
  "name": "",
  "signature": "sha256:249ac9f7eb9ecf94b0f1c8d9a3dc68e5348fcdeccda40cb2a2a622c403e0990d"
 },
 "nbformat": 3,
 "nbformat_minor": 0,
 "worksheets": [
  {
   "cells": [
    {
     "cell_type": "heading",
     "level": 1,
     "metadata": {
      "internals": {
       "slide_helper": "subslide_end",
       "slide_type": "subslide"
      },
      "slide_helper": "slide_end",
      "slideshow": {
       "slide_type": "slide"
      }
     },
     "source": [
      "\u4f8b3"
     ]
    },
    {
     "cell_type": "heading",
     "level": 2,
     "metadata": {
      "internals": {
       "slide_helper": "subslide_end",
       "slide_type": "subslide"
      },
      "slide_helper": "subslide_end",
      "slideshow": {
       "slide_type": "slide"
      }
     },
     "source": [
      "4\u30015\u306e\u5834\u5408"
     ]
    },
    {
     "cell_type": "markdown",
     "metadata": {
      "internals": {
       "slide_helper": "subslide_end",
       "slide_type": "subslide"
      },
      "slide_helper": "subslide_end",
      "slideshow": {
       "slide_type": "subslide"
      }
     },
     "source": [
      "\u4ee5\u524d\u306e\u610f\u898b\u304c\u6b21\u306e\u610f\u898b\u306e\u9078\u3073\u65b9\u306b\u3069\u3046\u5f71\u97ff\u3059\u308b\u304b\n",
      "\n",
      "\uff14. \u4e00\u3064\u524d\u306e\u610f\u898b + \u8b70\u984c\n",
      "\n",
      "\uff15. \u4e8c\u3064\u524d\u307e\u3067\u306e\u610f\u898b\n",
      "\n",
      "\u3053\u306e\u4e8c\u3064\u306e\u5834\u5408\u306b\u5171\u901a\u306a\u306e\u306f\u3001\u53c2\u7167\u3059\u308b\u70b9\u304c2\u3064\u3067\u3042\u308b\u3068\u3044\u3046\u3068\u3053\u308d\u3067\u3042\u308b\u3002"
     ]
    },
    {
     "cell_type": "markdown",
     "metadata": {
      "internals": {
       "slide_helper": "subslide_end",
       "slide_type": "subslide"
      },
      "slide_helper": "subslide_end",
      "slideshow": {
       "slide_type": "subslide"
      }
     },
     "source": [
      "\u3067\u306f\u3001\u3053\u306e\u5834\u5408\u306b\u3064\u3044\u3066\u3082\u30b7\u30df\u30e5\u30ec\u30fc\u30b7\u30e7\u30f3\u3092\u8003\u3048\u3066\u3044\u304f\u3053\u3068\u306b\u3059\u308b\u3002\u610f\u898b\u306e\u9078\u3070\u308c\u65b9\u306f\u30012,3\u306e\u5834\u5408\u3068\u540c\u3058\u304f\u3001\u610f\u898b\u306e$a$\u6b21\u5143\u30e6\u30fc\u30af\u30ea\u30c3\u30c9\u8ddd\u96e2\u306e\u5927\u304d\u3055\u306b\u3088\u3063\u3066\u6c7a\u3081\u308b\u3002\u3053\u306e\u4e8c\u3064\u306e\u610f\u898b\u306e\u9593\u306e\u91cd\u307f\u3092\u3069\u3046\u3059\u308b\u304b\u3068\u3044\u3046\u306e\u304c\u8b70\u8ad6\u3068\u306a\u308b\u3002\u3059\u306a\u308f\u3061\u30012\u3064\u524d\u306e\u610f\u898b\u306b\u5f71\u97ff\u3055\u308c\u308b\u3068\u306f\u3044\u3048\u3001\u76f4\u524d\u306e\u610f\u898b\u3088\u308a\u306f\u5f71\u97ff\u3055\u308c\u306a\u3044\u3067\u3042\u308d\u3046\u3001\u3068\u3044\u3046\u8003\u3048\u3084\u3001\u4e00\u3064\u524d\u306e\u610f\u898b\u304c\u53c2\u8003\u306b\u3055\u308c\u308b\u3068\u306f\u3044\u3048\u3001\u5b9f\u969b\u306b\u4f1a\u8b70\u3092\u3057\u3066\u3044\u308b\u969b\u306b\u671b\u307e\u308c\u308b\u306e\u306f\u8b70\u984c\u306b\u6cbf\u3063\u305f\u767a\u8a00\u3067\u3042\u308b\u304b\u3089\u3001\u3080\u3057\u308d\u8b70\u984c\u306e\u65b9\u306b\u91cd\u307f\u3092\u7f6e\u3044\u305f\u307b\u3046\u304c\u826f\u3044\u306e\u3067\u306f\u306a\u3044\u304b\u3001\u3068\u3044\u3046\u8003\u3048\u3092\u53cd\u6620\u3057\u305f\u6307\u6a19\u306f\u4f55\u3092\u7528\u3044\u308b\u3079\u304d\u304b\u3068\u3044\u3046\u3053\u3068\u3067\u3042\u308b\u3002\n",
      "\n",
      "\u3057\u305f\u304c\u3063\u3066\u3001\u3053\u306e3\u70b9\u9593\u306e\u8fd1\u3055\u306e\u6307\u6a19\u3068\u3057\u3066\u6b21\u306e\u3088\u3046\u306a\u3082\u306e\u304c\u8003\u3048\u3089\u308c\u308b\u3002\n",
      "\n",
      "$$d(x,(y,z)) = \\alpha d(x,y) + \\beta d(x,z)\\ \\ (\\alpha, \\beta > 0)$$\n",
      "\n",
      "\u4ee5\u4e0b\u306b\u5177\u4f53\u7684\u306b\u540c\u3058\u9577\u3055$a$\u306b\u5bfe\u3057\u3066$\\alpha$\u3068$\\beta$\u306b\u3088\u3063\u3066\u3069\u3046\u5909\u308f\u308b\u304b\u3092\u63cf\u3044\u305f\u3002"
     ]
    },
    {
     "cell_type": "code",
     "collapsed": false,
     "input": [
      "%matplotlib inline\n",
      "import numpy as np\n",
      "import matplotlib.pyplot as plt\n",
      "from scipy.spatial.distance import euclidean as euc\n",
      "from IPython.html.widgets import interactive\n",
      "from IPython.display import display\n",
      "\n",
      "beta = 1.\n",
      "x1 = (0., 0.)\n",
      "x2 = (0.5, 0.)\n",
      "r = euc(x1, x2)\n",
      "a = 1. # larger than r\n",
      "def oval(alpha=1.1):\n",
      "    d1 = np.linspace(r/2., a/alpha, 1000)\n",
      "    d2 = np.linspace(r/2., a/beta, 1000)\n",
      "    theta1 = np.arccos((d1**2 + r**2 - ((a-alpha*d1)/beta)**2)/(2*d1*r))\n",
      "    theta2 = np.pi - np.arccos((d2**2 + r**2 - ((a-beta*d2)/alpha)**2)/(2*d2*r))\n",
      "    plt.plot(x1[0] + d1*np.cos(theta1), x1[1] + d1*np.sin(theta1), 'b')\n",
      "    plt.plot(x1[0] + d1*np.cos(theta1), x1[1] + -d1*np.sin(theta1), 'b')\n",
      "    plt.plot(x2[0] + d2*np.cos(theta2), x2[1] + d2*np.sin(theta2), 'b')\n",
      "    plt.plot(x2[0] + d2*np.cos(theta2), x2[1] + -d2*np.sin(theta2), 'b')\n",
      "    plt.show()\n",
      "\n",
      "w = interactive(oval, alpha=(1., 5., 0.1))\n",
      "display(w)"
     ],
     "language": "python",
     "metadata": {
      "internals": {
       "slide_helper": "subslide_end",
       "slide_type": "subslide"
      },
      "slide_helper": "slide_end",
      "slideshow": {
       "slide_type": "subslide"
      }
     },
     "outputs": [
      {
       "metadata": {},
       "output_type": "display_data",
       "png": "[encoded data removed]",
       "text": [
        "<matplotlib.figure.Figure at 0x7f4064f87390>"
       ]
      }
     ],
     "prompt_number": 13
    },
    {
     "cell_type": "code",
     "collapsed": false,
     "input": [
      "#!/usr/bin/env python\n",
      "# -*- coding:utf-8 -*-\n",
      "\n",
      "import numpy as np\n",
      "from scipy.spatial.distance import euclidean as euc\n",
      "import matplotlib.pyplot as plt\n",
      "import mpld3\n",
      "from mpld3 import plugins\n",
      "from mpld3.utils import get_id\n",
      "\n",
      "\n",
      "class Person:\n",
      "\n",
      "    def __init__(self, S, a, p=0.5):\n",
      "        self.S = S\n",
      "        self.a = a\n",
      "        self.p = p\n",
      "\n",
      "    def gather(self):\n",
      "        \"\"\"make person to participate the meeting.\n",
      "        \"\"\"\n",
      "        self.ideas = self.has_idea()\n",
      "\n",
      "    def has_idea(self):\n",
      "        \"\"\"a person has self.S ideas with self.a dimension.\n",
      "        \"\"\"\n",
      "        return list(np.random.rand(self.S, self.a))\n",
      "\n",
      "# ================================================================\n",
      "    def chose_idea(self, idea, idea2=None):\n",
      "        alpha = 2.5\n",
      "        beta = 1.\n",
      "        if len(self.ideas) == 0:\n",
      "            return False\n",
      "        # return min(d) and its idea_id\n",
      "        if idea2 == None:\n",
      "            return min([(euc(vec, idea), idea_id) for idea_id, vec in enumerate(self.ideas)])\n",
      "        else:\n",
      "            return min([(alpha*euc(vec, idea) + beta*euc(vec, idea2), idea_id)\n",
      "                        for idea_id, vec in enumerate(self.ideas)])\n",
      "# ================================================================\n",
      "\n",
      "class Meeting:\n",
      "\n",
      "    \"\"\"Simulate a meeting with \"simple3\" situation.\n",
      "\n",
      "    Give keyword arguments:\n",
      "\n",
      "        K = 20 # Time limit\n",
      "        N = 6 # a number of participants\n",
      "        S = 10 # a number of ideas for each participants\n",
      "        a = 2 # the dimension of an idea\n",
      "        p = 0.5 # probability that a person speak\n",
      "        draw = True # draw image or don't\n",
      "\n",
      "    Output:\n",
      "\n",
      "        self.minutes: list of\n",
      "                      ( idea(which is vector with a dimension)\n",
      "                      , who(person_id in the list \"self.membes\"))\n",
      "        self.k: stopped time (=len(self.minutes))\n",
      "    \"\"\"\n",
      "\n",
      "    def __init__(self, K=20, N=6, S=10, a=2, p=0.5, case=4, draw=True):\n",
      "        self.K = K\n",
      "        self.N = N\n",
      "        self.S = S\n",
      "        self.a = a\n",
      "        self.p = p\n",
      "        self.draw = draw\n",
      "        self.case = case  # case in the above cell: 4 or 5\n",
      "        self.members = []\n",
      "        self.minutes = []  # list of (idea, who)\n",
      "        self.k = 0\n",
      "\n",
      "    def gather_people(self):\n",
      "        \"\"\"gather people for the meeting.\n",
      "\n",
      "        You can edit what ideas they have in here.\n",
      "        \"\"\"\n",
      "        for n in range(self.N):\n",
      "            person = Person(self.S, self.a, self.p)\n",
      "            # person.has_idea = some_function()\n",
      "            # some_function: return list of self.S arrays with dim self.a.\n",
      "            person.gather()\n",
      "            self.members.append(person)\n",
      "\n",
      "    def progress(self):\n",
      "        \"\"\"meeting progress\n",
      "        \"\"\"\n",
      "        self.init()\n",
      "        preidea = self.subject\n",
      "        prepreidea = None\n",
      "        self.k = 1\n",
      "        while self.k < self.K + 1:\n",
      "            # l: (distance, speaker, idea_id) list for who can speak\n",
      "            l = []\n",
      "            for person_id, person in enumerate(self.members):\n",
      "                # chosed: (distance, idea_id)\n",
      "                # ====================================================\n",
      "                chosed = person.chose_idea(preidea, prepreidea)\n",
      "                # ====================================================\n",
      "                if chosed:\n",
      "                    l.append((chosed[0], person_id, chosed[1]))\n",
      "            # if no one can speak: meeting ends.\n",
      "            if len(l) == 0:\n",
      "                print \"no one can speak.\"\n",
      "                break\n",
      "            i = [(person_id, idea_id)\n",
      "                 for distance, person_id, idea_id in sorted(l)]\n",
      "\n",
      "            for person_id, idea_id in i:\n",
      "                rn = np.random.rand()\n",
      "                if rn < self.members[person_id].p:\n",
      "                    idea = self.members[person_id].ideas.pop(idea_id)\n",
      "                    self.minutes.append((idea, person_id))\n",
      "                    if self.case == 5:\n",
      "                        # =================================\n",
      "                        prepreidea = preidea\n",
      "                        preidea = idea\n",
      "                    else:\n",
      "                        prepreidea = idea\n",
      "                        # =================================\n",
      "                    self.callback()\n",
      "                    self.k += 1\n",
      "                    break\n",
      "            else:\n",
      "                self.minutes.append((self.subject, self.N))\n",
      "                self.callback()\n",
      "                self.k += 1\n",
      "\n",
      "        self.after()\n",
      "\n",
      "    def init(self):\n",
      "        self.gather_people()\n",
      "        self.subject = np.random.rand(self.a)\n",
      "        self.minutes.append((self.subject, self.N))\n",
      "        if self.draw:\n",
      "            self.fig = plt.figure(figsize=(9, 9))\n",
      "            self.ax = self.fig.add_subplot(1, 1, 1)\n",
      "            self.labels = ['subject']\n",
      "            self.s1 = [self.ax.scatter(self.subject[0], self.subject[1],\n",
      "                                       c=next(self.ax._get_lines.color_cycle))]\n",
      "            self.ax.text(\n",
      "                self.subject[0], self.subject[1], '0', fontsize=5)\n",
      "            for i, member in enumerate(self.members):\n",
      "                x = [vec[0] for vec in member.ideas]\n",
      "                y = [vec[1] for vec in member.ideas]\n",
      "                s = self.ax.scatter(\n",
      "                    x, y, c=next(self.ax._get_lines.color_cycle), alpha=0.2)\n",
      "                self.labels.append(str(i))\n",
      "                self.s1.append(s)\n",
      "\n",
      "    def callback(self):\n",
      "        if self.draw:\n",
      "            if self.minutes[-1][1] == self.N or self.minutes[-2][1] == self.N:\n",
      "                alpha = 0.2\n",
      "            else:\n",
      "                alpha = 1.0\n",
      "            ix = self.minutes[-2][0][0]\n",
      "            iy = self.minutes[-2][0][1]\n",
      "            jx = self.minutes[-1][0][0]\n",
      "            jy = self.minutes[-1][0][1]\n",
      "            l1 = self.ax.plot([ix, jx], [iy, jy], color='black', alpha=alpha)\n",
      "            self.ax.text(jx, jy, '%d' % self.k, color='blue', fontsize=12)\n",
      "        else:\n",
      "            pass\n",
      "\n",
      "    def after(self):\n",
      "        if self.draw:\n",
      "            plugins.connect(\n",
      "                self.fig, plugins.InteractiveLegendPlugin(\n",
      "                    self.s1, self.labels, ax=self.ax))\n",
      "            mpld3.show()\n",
      "        else:\n",
      "            print meeting.minutes"
     ],
     "language": "python",
     "metadata": {
      "internals": {
       "slide_type": "subslide"
      },
      "slideshow": {
       "slide_type": "slide"
      }
     },
     "outputs": [],
     "prompt_number": 5
    },
    {
     "cell_type": "code",
     "collapsed": false,
     "input": [
      "meeting = Meeting(K=30, N=6, S=50, a=2, p=0.6, case=5)\n",
      "meeting.progress()"
     ],
     "language": "python",
     "metadata": {
      "internals": {
       "slide_helper": "subslide_end"
      },
      "slide_helper": "subslide_end",
      "slideshow": {
       "slide_type": "-"
      }
     },
     "outputs": [
      {
       "output_type": "stream",
       "stream": "stdout",
       "text": [
        "\n",
        "Note: if you're in the IPython notebook, mpld3.show() is not the best command\n",
        "      to use. Consider using mpld3.display(), or mpld3.enable_notebook().\n",
        "      See more information at http://mpld3.github.io/quickstart.html .\n",
        "\n",
        "You must interrupt the kernel to end this command\n",
        "\n",
        "Serving to http://127.0.0.1:8889/    [Ctrl-C to exit]\n"
       ]
      },
      {
       "output_type": "stream",
       "stream": "stderr",
       "text": [
        "127.0.0.1 - - [08/Jan/2015 17:21:58] \"GET / HTTP/1.1\" 200 -\n",
        "127.0.0.1 - - [08/Jan/2015 17:21:58] \"GET /d3.js HTTP/1.1\" 200 -\n"
       ]
      },
      {
       "output_type": "stream",
       "stream": "stdout",
       "text": [
        "\n",
        "stopping Server...\n"
       ]
      },
      {
       "output_type": "stream",
       "stream": "stderr",
       "text": [
        "127.0.0.1 - - [08/Jan/2015 17:21:58] \"GET /mpld3.js HTTP/1.1\" 200 -\n"
       ]
      }
     ],
     "prompt_number": 4
    },
    {
     "cell_type": "markdown",
     "metadata": {
      "internals": {
       "slide_helper": "subslide_end",
       "slide_type": "subslide"
      },
      "slide_helper": "slide_end",
      "slideshow": {
       "slide_type": "subslide"
      }
     },
     "source": [
      "\u898b\u3089\u308c\u308b\u6027\u8cea\u306b\u3064\u3044\u3066(\u89b3\u5bdf)\n",
      "\n",
      "\u4e8c\u3064\u524d\u306e\u7d50\u679c\u307e\u3067\u53c2\u7167\u3059\u308b\u306e\u3067\u3001\u5168\u4f53\u306e\u63cf\u304f\u8ecc\u8de1\u306e\u5927\u304d\u3055\u306f\u3001\u4e00\u3064\u524d\u306e\u307f\u306e\u70b9\u3092\u53c2\u7167\u3057\u3066\u30b7\u30df\u30e5\u30ec\u30fc\u30b7\u30e7\u30f3\u3092\u884c\u3063\u305f\u5834\u5408\u3088\u308a\u3082\u5c0f\u3055\u304f\u306a\u308b\u3002\n",
      "\n",
      "\u623b\u308a\u306e\u52b9\u679c\u304c\u5f37\u304f\u306a\u308b\u306e\u3067\u30012\u306e\u30b1\u30fc\u30b9\u306b\u6bd4\u3079\u308b\u3068\u540c\u3058$p$\u3067\u3082\u30ae\u30b6\u30ae\u30b6\u3057\u305f\u8ecc\u9053\u306b\u306a\u3063\u3066\u3044\u308b\u3088\u3046\u306b\u898b\u3048\u308b\u3002"
     ]
    }
   ],
   "metadata": {}
  }
 ]
}