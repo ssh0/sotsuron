{
 "cells": [
  {
   "cell_type": "markdown",
   "metadata": {},
   "source": [
    "矢久保 考介, 「複雑ネットワークとその構造」, 共立出版, pp.17-98, 2013."
   ]
  },
  {
   "cell_type": "markdown",
   "metadata": {},
   "source": [
    "### 隣接行列"
   ]
  },
  {
   "cell_type": "markdown",
   "metadata": {},
   "source": [
    "隣接行列$A$の要素$a_{ij}$は、$i$番目のノードと$j$番目のノードが隣接している場合$a_{ij}=1$、そうでない場合には$a_{ij}=0$の値をとる。自己ループのない場合対角要素は常に0である。無向グラフでは隣接行列は対称行列となる。ラベル付けされていないネットワークに対しては、添字$i$または$j$があらわす数字を並べ替えたすべての隣接行列$A$を同一と見なす必要がある。\n",
    "\n",
    "重み付きネットワークの場合には、重み付き隣接行列$W$によって行列要素に重みの値を入れることにより定義される。\n",
    "\n",
    "しかし計算機上ではメモリを大量に使ってしまうので、エッジリストと呼ばれるベクトルで表現するとよい。$M$本のエッジそれぞれに$1\\sim M$の番号を適当に割り振る。\n",
    "\n",
    "$$e_{k}= \\left\\{\\begin{array}{ll}\\text{エッジ}l\\text{が出る側の端点のノード番号} & (k=2l-1) \\\\\n",
    "\\text{エッジ}l\\text{が入る側の端点のノード番号} & (k=2l)\\end{array}\\right.$$\n",
    "\n",
    "無向グラフではどちらの端点を先に書くかは不問である。\n",
    "\n",
    "エッジリストでは有向か無向かを判断することはできない。また、重み付きネットワークに関してはエッジの重みを情報として加える必要があるためリスト$e$の要素は$3M$となる。\n",
    "\n"
   ]
  },
  {
   "cell_type": "markdown",
   "metadata": {},
   "source": [
    "### 次数"
   ]
  },
  {
   "cell_type": "markdown",
   "metadata": {},
   "source": [
    "$i$番目のノードにつながっているエッジの本数をノード$i$の次数といい、$k_{i}$であらわす。"
   ]
  }
 ],
 "metadata": {
  "kernelspec": {
   "display_name": "Python 2",
   "language": "python",
   "name": "python2"
  },
  "language_info": {
   "codemirror_mode": {
    "name": "ipython",
    "version": 2
   },
   "file_extension": ".py",
   "mimetype": "text/x-python",
   "name": "python",
   "nbconvert_exporter": "python",
   "pygments_lexer": "ipython2",
   "version": "2.7.6"
  }
 },
 "nbformat": 4,
 "nbformat_minor": 0
}
