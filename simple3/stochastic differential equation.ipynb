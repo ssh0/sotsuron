{
 "metadata": {
  "name": "",
  "signature": "sha256:2fa8ae7ebe4e3a6052d391d516517ca35e1eb2415a947e1f4e65f4693705a16e"
 },
 "nbformat": 3,
 "nbformat_minor": 0,
 "worksheets": [
  {
   "cells": [
    {
     "cell_type": "heading",
     "level": 1,
     "metadata": {},
     "source": [
      "\u78ba\u7387\u5fae\u5206\u65b9\u7a0b\u5f0f"
     ]
    },
    {
     "cell_type": "markdown",
     "metadata": {},
     "source": [
      "\u4e00\u3064\u4ee5\u4e0a\u306e\u9805\u304c\u78ba\u7387\u904e\u7a0b\u3067\u3042\u308b\u5fae\u5206\u65b9\u7a0b\u5f0f\u3067\u3042\u3063\u3066\u3001\u305d\u306e\u7d50\u679c\u89e3\u81ea\u8eab\u3082\u78ba\u7387\u904e\u7a0b\u3068\u306a\u308b\u3082\u306e\u3002\u4e00\u822c\u7684\u306b\u3001\u78ba\u7387\u5fae\u5206\u65b9\u7a0b\u5f0f\u306f\u30d6\u30e9\u30a6\u30f3\u904b\u52d5(\u30a6\u30a3\u30fc\u30ca\u30fc\u904e\u7a0b)\u304b\u3089\u6d3e\u751f\u3059\u308b\u3068\u8003\u3048\u3089\u308c\u308b\u767d\u8272\u96d1\u97f3\u3092\u7d44\u307f\u8fbc\u3080\u304c\u3001\u4e0d\u9023\u7d9a\u904e\u7a0b\u306e\u3088\u3046\u306a\u4ed6\u306e\u7121\u4f5c\u70ba\u5909\u52d5\u3092\u7528\u3044\u308b\u3053\u3068\u3082\u53ef\u80fd\u3067\u3042\u308b\u3002"
     ]
    },
    {
     "cell_type": "code",
     "collapsed": false,
     "input": [
      "from IPython.html import HTML"
     ],
     "language": "python",
     "metadata": {},
     "outputs": []
    }
   ],
   "metadata": {}
  }
 ]
}