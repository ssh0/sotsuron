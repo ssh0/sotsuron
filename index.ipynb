{
 "cells": [
  {
   "cell_type": "markdown",
   "metadata": {},
   "source": [
    "# 卒論"
   ]
  },
  {
   "cell_type": "markdown",
   "metadata": {},
   "source": [
    "## 効率とシステムサイズの関係に対する確率モデルによる考察"
   ]
  },
  {
   "cell_type": "markdown",
   "metadata": {},
   "source": [
    "卒論に関する試行錯誤をまとめたもの"
   ]
  },
  {
   "cell_type": "markdown",
   "metadata": {},
   "source": [
    "- はじめに([sim1](simple1/sim1.ipynb))\n",
    "\n",
    "\n",
    "- 簡単な例1([simple1](simple1/simple1.ipynb))\n",
    "    - done\n",
    "    - 条件\n",
    "        - 沈黙なし\n",
    "        - 意見は$[0,1]$の一様乱数(重要)\n",
    "        - 発言者を選ぶ確率は等しい\n",
    "    - 結果\n",
    "        - 発言がなされたときにリンクが張られる数は二項分布$B(k,p(x_{k+1},r))$に従う\n",
    "        - $y$を$k,r$にしたがって変化する適当な関数におけば、リンクの個数が$y$個を超えるのに必要な時間は幾何分布に従う\n",
    "\n",
    "\n",
    "- 簡単な例2([simple2](simple2/simple2.ipynb))\n",
    "    - done\n",
    "    - 条件\n",
    "        - 沈黙あり([0,1]の間の一様乱数の期待値0.5)\n",
    "        - 意見は$[0,1]$の一様乱数(重要)\n",
    "        - 発言者を選ぶ確率は距離の関数\n",
    "    - 結果\n",
    "        - 位置によって発言者の発現頻度などは異なる(当たり前)\n",
    "        - リンクの数等についての性質は例1と同じ(当たり前)\n",
    "        - 各時刻$k$において張られるリンクの数の$r$依存性などに対する計算\n",
    "\n",
    "\n",
    "- 参加者間のネットワークについて([person_network](simple2/person_network.ipynb))\n",
    "    - done\n",
    "    - 参加者間のネットワークのみを考えると、(結局)マルコフ連鎖でかける\n",
    "\n",
    "\n",
    "- 参加者間のネットワークについて(2)([person_network2](simple2/person_network2.ipynb))\n",
    "    - 途中 & 意味はない\n",
    "    - 距離のみで確率が決まるような場合\n",
    "    \n",
    "    \n",
    "- 意見の作るネットワークについて([idea](simple1/idea.ipynb))\n",
    "    - 途中\n",
    "    - 意見の分布に関する観察をする予定\n",
    "    \n",
    "    \n",
    "- 簡単な例3\n",
    "    - 例1、2とは異なったアルゴリズムでの会議のシミュレーション\n",
    "    - 途中\n",
    "    - 条件\n",
    "        - 参加者の意見の数は有限\n",
    "        - 意見によって発言者が決まるとする\n",
    "        - 意見間のリンクは考えていない\n",
    "    - 以前の意見が次の発言の意見にどう影響するかで場合分け\n",
    "        - [simple3_123](simple3/simple3_123.ipynb)\n",
    "            - １. 影響なし(独立)\n",
    "            - ２. 議題\n",
    "            - ３. 一つ前の意見\n",
    "        - [simple3_45](simple3/simple3_45.ipynb)\n",
    "            - ４. 一つ前の意見 + 議題\n",
    "            - ５. 二つ前までの意見\n",
    "        - ６. 二つ前までの意見 + 議題\n",
    "        - ７. それ以上前の意見\n",
    "    - 結果\n",
    "        - いくつかのパラメータの効果を観察によって定性的に理解した\n",
    "\n",
    "- 近距離であることによる抑制の効果を入れた場合([近距離抑制効果](近距離抑制効果.ipynb))\n"
   ]
  }
 ],
 "metadata": {
  "kernelspec": {
   "display_name": "Python 2",
   "language": "python",
   "name": "python2"
  },
  "language_info": {
   "codemirror_mode": {
    "name": "ipython",
    "version": 2
   },
   "file_extension": ".py",
   "mimetype": "text/x-python",
   "name": "python",
   "nbconvert_exporter": "python",
   "pygments_lexer": "ipython2",
   "version": "2.7.6"
  }
 },
 "nbformat": 4,
 "nbformat_minor": 0
}
