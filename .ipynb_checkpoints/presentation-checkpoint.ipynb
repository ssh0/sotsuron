{
 "metadata": {
  "name": "",
  "signature": "sha256:4b4dde8981b2c2ab99f9a7b8e11aeda49cfe604a68c4371eadb99f905a82600b"
 },
 "nbformat": 3,
 "nbformat_minor": 0,
 "worksheets": [
  {
   "cells": [
    {
     "cell_type": "heading",
     "level": 1,
     "metadata": {
      "internals": {
       "slide_type": "subslide"
      },
      "slideshow": {
       "slide_type": "slide"
      }
     },
     "source": [
      "<p>\u52b9\u7387\u3068\u30b7\u30b9\u30c6\u30e0\u30b5\u30a4\u30ba\u306e\u95a2\u4fc2\u306b\u5bfe\u3059\u308b</p>\n",
      "    <p>\u78ba\u7387\u30e2\u30c7\u30eb\u306b\u3088\u308b\u8003\u5bdf</p>"
     ]
    },
    {
     "cell_type": "heading",
     "level": 4,
     "metadata": {
      "internals": {
       "slide_helper": "subslide_end"
      },
      "slide_helper": "slide_end",
      "slideshow": {
       "slide_type": "-"
      }
     },
     "source": [
      "<div align=\"center\">\u5148\u9032\u7406\u5de5\u5b66\u90e8\u7269\u7406\u5b66\u79d1 \u5c71\u5d0e\u7814\u7a76\u5ba4B4</div>\n",
      "    \n",
      "<p class=\\\"gap2\\\"<p>\n",
      "<div align=\"center\">\u85e4\u672c\u5c07\u592a\u90ce</div>\n",
      "    "
     ]
    },
    {
     "cell_type": "heading",
     "level": 2,
     "metadata": {
      "internals": {
       "slide_type": "subslide"
      },
      "slideshow": {
       "slide_type": "slide"
      }
     },
     "source": [
      "Outline"
     ]
    },
    {
     "cell_type": "markdown",
     "metadata": {
      "internals": {
       "slide_helper": "subslide_end"
      },
      "slide_helper": "slide_end",
      "slideshow": {
       "slide_type": "-"
      }
     },
     "source": [
      "- \u80cc\u666f\n",
      "- \u4f5c\u6210\u3057\u305f\u30e2\u30c7\u30eb\u306e\u8aac\u660e\n",
      "- \u89e3\u6790\u7d50\u679c\n",
      "- \u307e\u3068\u3081\n",
      "- \u5c55\u671b\u3068\u8ab2\u984c\n",
      "- \u53c2\u8003\u6587\u732e"
     ]
    },
    {
     "cell_type": "heading",
     "level": 2,
     "metadata": {
      "internals": {
       "slide_type": "subslide"
      },
      "slideshow": {
       "slide_type": "slide"
      }
     },
     "source": [
      "\u80cc\u666f"
     ]
    },
    {
     "cell_type": "markdown",
     "metadata": {
      "internals": {
       "slide_helper": "subslide_end"
      },
      "slide_helper": "slide_end",
      "slideshow": {
       "slide_type": "-"
      }
     },
     "source": [
      "**\u30a2\u30ed\u30e1\u30c8\u30ea\u30fc\u5247 ($E\\sim M^{3/4}$)**\n",
      "\n",
      "- \u52d5\u7269\u306e\u4f53\u306e\u30b5\u30a4\u30ba(\u8cea\u91cf)\u3068\u3001\u57fa\u790e\u4ee3\u8b1d\u7387\u306e\u9593\u306e\u95a2\u4fc2\n",
      "- \u4ee3\u8b1d\u7387\u306f\u4f53\u91cd\u306b\u5bfe\u3057\u3066\u6bd4\u4f8b\u3067\u306f\u306a\u304f\u3001$3/4$\u4e57\u307b\u3069\u3067\u30b9\u30b1\u30fc\u30eb\u3055\u308c\u308b\n",
      "\n",
      "**\u30db\u30e4\u306e\u5b9f\u9a13\u306b\u3088\u308b\u30b7\u30b9\u30c6\u30e0\u30b5\u30a4\u30ba\u3068\u4ee3\u8b1d\u7387\u306e\u95a2\u4fc2**\n",
      "\n",
      "- \u7fa4\u4f53\u3092\u5f62\u6210\u3059\u308b\u52d5\u7269\u3067\u3001\u5b9f\u9a13\u8005\u304c\u4efb\u610f\u306b\u7fa4\u4f53\u306e\u69cb\u6210\u500b\u6570\u3092\u30b3\u30f3\u30c8\u30ed\u30fc\u30eb\u3067\u304d\u308b\n",
      "- \u5b9f\u9a13\u304b\u3089\u3001\u7fa4\u4f53\u306e\u30b5\u30a4\u30ba\u3068\u4ee3\u8b1d\u7387\u306e\u9593\u306b\u3082\u3001\u30a2\u30ed\u30e1\u30c8\u30ea\u30fc\u5247\u306e\u3088\u3046\u306a\u95a2\u4fc2\u304c\u89b3\u5bdf\u3055\u308c\u305f\n",
      "\n",
      "--> \u7a2e\u306e\u9055\u3044\u3084\u6210\u9577\u306b\u3088\u308b\u7d30\u80de\u6a5f\u80fd\u81ea\u4f53\u306e\u5909\u5316\u3067\u306f\u306a\u304f\u3002\u305d\u306e\u6642\u70b9\u3067\u306e\u30b7\u30b9\u30c6\u30e0\u30b5\u30a4\u30ba\u3092\u611f\u77e5\u3057\u3066\u305d\u308c\u306b\u3088\u3063\u3066\u4ee3\u8b1d\u7387\u304c\u5de6\u53f3\u3055\u308c\u308b?"
     ]
    },
    {
     "cell_type": "markdown",
     "metadata": {},
     "source": [
      "**\u4e00\u822c\u5316**\n",
      "\n",
      "\u7cfb\u306e\u30b7\u30b9\u30c6\u30e0\u30b5\u30a4\u30ba\u304c\u5927\u304d\u304f\u306a\u308b\u3068\u3001\u305d\u306e\u7279\u5fb4\u91cf\u304c\u5358\u7d14\u306b\u305d\u308c\u305e\u308c\u306e\u7279\u5fb4\u91cf\u306e\u7dcf\u548c\u306b\u306f\u306a\u3089\u305a\u3001\u305d\u308c\u3088\u308a\u3082\u5c0f\u3055\u3044\u5024\u3092\u53d6\u308b\u3088\u3046\u306a\u73fe\u8c61\u3002\n",
      "\n",
      ">\u30a4\u30e1\u30fc\u30b8\u306e\u305f\u3081\u306e\u5177\u4f53\u4f8b\u3068\u3057\u3066\u4f1a\u8b70\u3092\u53d6\u308a\u4e0a\u3052\u308b\u3053\u3068\u306b\u3059\u308b"
     ]
    },
    {
     "cell_type": "markdown",
     "metadata": {},
     "source": [
      "\u3044\u304f\u3064\u304b\u306e\u30e2\u30c7\u30eb\u3092\u4f5c\u6210\u3057\u3001\u305d\u308c\u305e\u308c\u306b\u5bfe\u3057\u3066\u6570\u5024\u30b7\u30df\u30e5\u30ec\u30fc\u30b7\u30e7\u30f3\u3092\u884c\u3044\u3001\u4f1a\u8b70\u306b\u8cea\u3068\u306a\u308a\u3046\u308b\u7279\u5fb4\u91cf\u3092\u8a08\u7b97\u3057\u3001\u305d\u308c\u304c\u30b7\u30b9\u30c6\u30e0\u30b5\u30a4\u30ba(\u53c2\u52a0\u8005\u306e\u4eba\u6570)\u306b\u5bfe\u3057\u3066\u3069\u306e\u6e6f\u306b\u5909\u5316\u3059\u308b\u304b\u3092\u8003\u3048\u308b\u3002\u307e\u305f\u3001\u30e2\u30c7\u30eb\u304c\u5358\u7d14\u306a\u5834\u5408\u306b\u306f\u89e3\u6790\u7684\u306b\u8a08\u7b97\u3092\u884c\u3044\u3001\u6570\u5024\u30b7\u30df\u30e5\u30ec\u30fc\u30b7\u30e7\u30f3\u3067\u5f97\u3089\u308c\u305f\u7d50\u679c\u3092\u78ba\u8a8d\u3057\u305f\u3002"
     ]
    },
    {
     "cell_type": "heading",
     "level": 2,
     "metadata": {
      "internals": {
       "slide_type": "subslide"
      },
      "slideshow": {
       "slide_type": "slide"
      }
     },
     "source": [
      "\u4f5c\u6210\u3057\u305f\u30e2\u30c7\u30eb\u306e\u8aac\u660e"
     ]
    },
    {
     "cell_type": "markdown",
     "metadata": {
      "internals": {
       "slide_helper": "subslide_end"
      },
      "slide_helper": "slide_end",
      "slideshow": {
       "slide_type": "-"
      }
     },
     "source": [
      "\u610f\u898b:$a$\u500b\u306e\u5b9f\u6570\u5024\u306e\u30d1\u30e9\u30e1\u30fc\u30bf\u3067\u8868\u73fe\u3002$R^{a}$\u4e0a\u306e\u9818\u57df$\\Omega$\u306b\u304a\u3051\u308b\u70b9\n",
      "\n",
      "\u4e3b\u306b\u8003\u3048\u305f\u306e\u306f$a=2$\u306e\u5834\u5408\u3002"
     ]
    },
    {
     "cell_type": "markdown",
     "metadata": {},
     "source": [
      "a participant: \u610f\u898b\u306e\u96c6\u5408\u3002$\\Omega$\u4e0a\u306e\u90e8\u5206\u96c6\u5408\n",
      "\n",
      "participants: $\\Omega$\u4e0a\u306e\u90e8\u5206\u96c6\u5408\u306e\u96c6\u307e\u308a(\u96c6\u5408\u65cf)\n",
      "\n",
      "\u4f1a\u8b70:\u610f\u898b\u306e\u9023\u9396\u3002\u610f\u898b\u3092\u30ce\u30fc\u30c9\u3068\u3057\u305f\u30cd\u30c3\u30c8\u30ef\u30fc\u30af\u3002\u53c2\u52a0\u8005\u3092\u30ce\u30fc\u30c9\u3068\u3057\u305f(\u6709\u5411)\u30cd\u30c3\u30c8\u30ef\u30fc\u30af\n",
      "\n",
      "\u4eee\u5b9a:\n",
      "\n",
      "- \u3042\u308b\u6642\u523b\u306b\u304a\u3051\u308b\u767a\u8a00\u306f\u4e00\u3064\u306e\u307f\n",
      "- \u4e00\u4eba\u3042\u305f\u308a\u306e\u767a\u8a00\u6642\u9593\u306f\u53c2\u52a0\u8005\u6570\u306b\u4f9d\u3089\u306a\u3044"
     ]
    },
    {
     "cell_type": "heading",
     "level": 3,
     "metadata": {},
     "source": [
      "\u4f1a\u8b70\u9032\u884c\u306b\u95a2\u3059\u308b\u3044\u304f\u3064\u304b\u306e\u8a2d\u5b9a"
     ]
    },
    {
     "cell_type": "markdown",
     "metadata": {},
     "source": [
      "1. \u53c2\u52a0\u8005\u304b\u3089\u4e00\u4eba\u9078\u3070\u308c\u3001\u305d\u306e\u4e2d\u304b\u3089\u610f\u898b($x\\in [0, 1]$)\u304c\u4e00\u69d8\u306b\u9078\u3070\u308c\u308b\n",
      "    1. \u53c2\u52a0\u8005\u3092\u9078\u3076\u78ba\u7387: \u7b49\u3057\u3044\n",
      "    2. \u53c2\u52a0\u8005\u3092\u9078\u3076\u78ba\u7387: \u53c2\u52a0\u8005\u9593\u306e\u8ddd\u96e2\u306b\u4f9d\u5b58\n",
      "\n",
      "2. \u904e\u53bb\u306e\u610f\u898b\u3092\u53c2\u7167\u3057\u3066\u6b21\u306e\u610f\u898b\u304c\u9078\u3070\u308c\u308b\n",
      "    1. \u5f71\u97ff\u306a\u3057\n",
      "    2. 1\u3064\u306e\u610f\u898b\u3092\u53c2\u7167\n",
      "        1. \u8b70\u984c(given)\n",
      "        2. \u4e00\u3064\u524d\n",
      "    3. 2\u3064\u306e\u610f\u898b\u3092\u53c2\u7167\n",
      "        1. \u8b70\u984c+\u4e00\u3064\u524d\n",
      "        2. \u4e8c\u3064\u524d\u307e\u3067\n",
      "\n",
      "3. "
     ]
    },
    {
     "cell_type": "heading",
     "level": 2,
     "metadata": {
      "internals": {
       "slide_type": "subslide"
      },
      "slideshow": {
       "slide_type": "slide"
      }
     },
     "source": [
      "\u89e3\u6790\u7d50\u679c"
     ]
    },
    {
     "cell_type": "markdown",
     "metadata": {
      "internals": {
       "slide_helper": "subslide_end"
      },
      "slide_helper": "slide_end",
      "slideshow": {
       "slide_type": "-"
      }
     },
     "source": []
    },
    {
     "cell_type": "heading",
     "level": 2,
     "metadata": {
      "internals": {
       "slide_type": "subslide"
      },
      "slideshow": {
       "slide_type": "slide"
      }
     },
     "source": [
      "\u307e\u3068\u3081"
     ]
    },
    {
     "cell_type": "markdown",
     "metadata": {
      "internals": {
       "slide_helper": "subslide_end"
      },
      "slide_helper": "slide_end",
      "slideshow": {
       "slide_type": "-"
      }
     },
     "source": []
    },
    {
     "cell_type": "heading",
     "level": 2,
     "metadata": {
      "internals": {
       "slide_type": "subslide"
      },
      "slideshow": {
       "slide_type": "slide"
      }
     },
     "source": [
      "\u5c55\u671b\u3068\u8ab2\u984c"
     ]
    },
    {
     "cell_type": "markdown",
     "metadata": {
      "internals": {
       "slide_helper": "subslide_end"
      },
      "slide_helper": "slide_end",
      "slideshow": {
       "slide_type": "-"
      }
     },
     "source": []
    },
    {
     "cell_type": "heading",
     "level": 2,
     "metadata": {
      "internals": {
       "slide_type": "subslide"
      },
      "slideshow": {
       "slide_type": "slide"
      }
     },
     "source": [
      "\u53c2\u8003\u6587\u732e"
     ]
    },
    {
     "cell_type": "markdown",
     "metadata": {
      "internals": {
       "slide_helper": "subslide_end"
      },
      "slide_helper": "slide_end",
      "slideshow": {
       "slide_type": "-"
      }
     },
     "source": []
    }
   ],
   "metadata": {}
  }
 ]
}