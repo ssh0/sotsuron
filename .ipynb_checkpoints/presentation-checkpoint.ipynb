{
 "metadata": {
  "name": "",
  "signature": "sha256:892385bf5a8c023ee6d5ed279f38fedede4cadd022358c451fbb044741effa56"
 },
 "nbformat": 3,
 "nbformat_minor": 0,
 "worksheets": [
  {
   "cells": [
    {
     "cell_type": "heading",
     "level": 1,
     "metadata": {},
     "source": [
      "\u52b9\u7387\u3068\u30b7\u30b9\u30c6\u30e0\u30b5\u30a4\u30ba\u306e\u95a2\u4fc2\u306b\u5bfe\u3059\u308b\u78ba\u7387\u30e2\u30c7\u30eb\u306b\u3088\u308b\u8003\u5bdf"
     ]
    },
    {
     "cell_type": "heading",
     "level": 4,
     "metadata": {},
     "source": [
      "\u5148\u9032\u7406\u5de5\u5b66\u90e8\u7269\u7406\u5b66\u79d1 \u5c71\u5d0e\u7814\u7a76\u5ba4B4"
     ]
    },
    {
     "cell_type": "heading",
     "level": 4,
     "metadata": {},
     "source": [
      "\u85e4\u672c\u5c07\u592a\u90ce"
     ]
    },
    {
     "cell_type": "heading",
     "level": 2,
     "metadata": {},
     "source": [
      "Outline"
     ]
    },
    {
     "cell_type": "markdown",
     "metadata": {},
     "source": [
      "- \u80cc\u666f\n",
      "- \u4f5c\u6210\u3057\u305f\u30e2\u30c7\u30eb\u306e\u8aac\u660e\n",
      "- \u89e3\u6790\u7d50\u679c\n",
      "- \u307e\u3068\u3081\n",
      "- \u5c55\u671b\u3068\u8ab2\u984c\n",
      "- \u53c2\u8003\u6587\u732e"
     ]
    },
    {
     "cell_type": "heading",
     "level": 2,
     "metadata": {},
     "source": [
      "\u80cc\u666f"
     ]
    },
    {
     "cell_type": "markdown",
     "metadata": {},
     "source": []
    },
    {
     "cell_type": "heading",
     "level": 2,
     "metadata": {},
     "source": [
      "\u4f5c\u6210\u3057\u305f\u30e2\u30c7\u30eb\u306e\u8aac\u660e"
     ]
    },
    {
     "cell_type": "markdown",
     "metadata": {},
     "source": []
    },
    {
     "cell_type": "heading",
     "level": 2,
     "metadata": {},
     "source": [
      "\u89e3\u6790\u7d50\u679c"
     ]
    },
    {
     "cell_type": "markdown",
     "metadata": {},
     "source": []
    },
    {
     "cell_type": "heading",
     "level": 2,
     "metadata": {},
     "source": [
      "\u307e\u3068\u3081"
     ]
    },
    {
     "cell_type": "markdown",
     "metadata": {},
     "source": []
    },
    {
     "cell_type": "heading",
     "level": 2,
     "metadata": {},
     "source": [
      "\u5c55\u671b\u3068\u8ab2\u984c"
     ]
    },
    {
     "cell_type": "markdown",
     "metadata": {},
     "source": []
    },
    {
     "cell_type": "heading",
     "level": 2,
     "metadata": {},
     "source": [
      "\u53c2\u8003\u6587\u732e"
     ]
    },
    {
     "cell_type": "markdown",
     "metadata": {},
     "source": []
    }
   ],
   "metadata": {}
  }
 ]
}