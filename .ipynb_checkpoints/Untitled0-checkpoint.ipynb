{
 "metadata": {
  "name": "",
  "signature": "sha256:0d44bbceb978517a21b3d6453e50192da60e83bd8a8b0538576a1fcf5cd7bd48"
 },
 "nbformat": 3,
 "nbformat_minor": 0,
 "worksheets": [
  {
   "cells": [
    {
     "cell_type": "heading",
     "level": 1,
     "metadata": {},
     "source": [
      "\u8fd1\u8ddd\u96e2\u3067\u3042\u308b\u3053\u3068\u306b\u3088\u308b\u53cd\u5fdc\u306e\u6291\u5236\u5316"
     ]
    },
    {
     "cell_type": "markdown",
     "metadata": {},
     "source": [
      "\u610f\u898b\u3092\u63d0\u51fa\u3059\u308b\u969b\u306b\u500b\u4eba\u3068\u3057\u3066\u611f\u3058\u308b\u3053\u3068\u306f\u4f55\u304b\u3001\u3068\u3044\u3046\u3053\u3068\u3092\u8003\u3048\u308b\u3068\u3001\u4ed6\u306e\u4eba\u304c\u81ea\u5206\u3068\u4f3c\u305f\u3088\u3046\u306a\u610f\u898b\u3092\u51fa\u3059\u306e\u3067\u306f\u306a\u3044\u304b\u3001\u3068\u3044\u3046\u70b9\u304b\u3089\u767a\u8a00\u3092\u63a7\u3048\u308b\u3068\u3044\u3046\u5834\u9762\u304c\u8003\u3048\u3089\u308c\u308b\u3002\u307e\u305f\u3001\u3053\u308c\u3092\u4ee3\u8b1d\u7cfb\u306a\u3069\u306e\u5316\u5b66\u53cd\u5fdc\u306b\u843d\u3068\u3057\u8fbc\u3093\u3060\u969b\u306b\u306f\u3001\u3053\u306e\u3088\u3046\u306a\u8fd1\u3044\u4f4d\u7f6e\u306e\u610f\u898b\u306f\u3059\u3079\u3066\u540c\u4e00\u306e\u7269\u8cea\u3092\u8868\u3057\u3066\u3044\u308b\u3068\u3044\u3046\u3088\u3046\u306b\u8003\u3048\u308b\u3053\u3068\u3082\u3067\u304d\u308b\u3002\u305d\u306e\u3088\u3046\u306b\u8003\u3048\u308c\u3070\u3001\u4f3c\u305f\u3088\u3046\u306a\u6027\u8cea\u304c\u7e2e\u7d04\u3055\u308c\u3066\u3057\u307e\u3046\u306e\u3067\u5168\u4f53\u3068\u3057\u3066\u306e\u52b9\u7387\u304c\u4e0b\u304c\u3063\u3066\u3057\u307e\u3046\u3068\u3044\u3046\u7d50\u679c\u3092\u3082\u305f\u3089\u3059\u306e\u304b\u3082\u3057\u308c\u306a\u3044\u3002\n"
     ]
    },
    {
     "cell_type": "markdown",
     "metadata": {},
     "source": [
      "Note: \u5316\u5b66\u53cd\u5fdc\u3067\u3082\u540c\u3058\u3088\u3046\u306b1\u5206\u5b50\u3067\u306e\u53cd\u5fdc\u3068\u3088\u304f\u6df7\u3056\u3063\u305f\u591a\u6570\u306e\u7c92\u5b50\u306e\u53cd\u5fdc\u306e\u9593\u3067\u30a8\u30cd\u30eb\u30ae\u30fc\u7684\u306a\u5dee\u306b\u6709\u7121\u304c\u3042\u308b\u306e\u304b\u306b\u3064\u3044\u3066\u8abf\u3079\u308b\u5fc5\u8981\u304c\u3042\u308b\u3002"
     ]
    },
    {
     "cell_type": "markdown",
     "metadata": {},
     "source": [
      "\u3053\u308c\u3092\u4eca\u307e\u3067\u4f1a\u8b70\u306e\u30e2\u30c7\u30eb\u3068\u3057\u3066\u8003\u3048\u3066\u304d\u305f\u3082\u306e\u306b\u9069\u5fdc\u3059\u308b\u3068\u304d\u306b\u306f\u3001\u610f\u898b\u306e\u8fd1\u3044\u3082\u306e(\u95be\u5024\u3088\u308a\u3082\u8fd1\u3044\u8ddd\u96e2\u306b\u3042\u308b\u610f\u898b)\u306f\u540c\u3058\u610f\u898b\u3092\u6307\u3059\u3068\u8003\u3048\u3001\u3053\u306e\u3088\u3046\u306a\u610f\u898b\u306f\u4ee5\u524d\u306b\u767a\u8a00\u3055\u308c\u3066\u3044\u308b\u3068\u304d\u306b\u306f\u6b21\u306e\u767a\u8a00\u8005\u306f\u305d\u306e\u3088\u3046\u306a\u610f\u898b\u306f\u9078\u3073\u306b\u304f\u3044\u3001\u3068\u3044\u3046\u3053\u3068\u3092\u53cd\u6620\u3057\u305f\u30e2\u30c7\u30eb\u3067\u3042\u308b\u3053\u3068\u304c\u6c42\u3081\u3089\u308c\u308b\u3002"
     ]
    },
    {
     "cell_type": "markdown",
     "metadata": {},
     "source": [
      "\u5177\u4f53\u7684\u306a\u30e2\u30c7\u30eb\u3068\u3057\u3066\u3001\u6709\u9650\u500b\u6570\u306e\u610f\u898b\u304c\u72b6\u614b\u7a7a\u9593\u4e0a\u306b\u5206\u5e03\u3057\u3066\u3044\u308b\u3068\u304d\u306b\u3001\u3042\u308b\u95be\u5024$r$\u3088\u308a\u3082\u8fd1\u3044\u8ddd\u96e2\u306b\u3042\u308b\u70b9\u540c\u58eb\u3092\u30ce\u30fc\u30c9\u3067\u3064\u306a\u3044\u3067\u3044\u304d\u3001\u305d\u3046\u3057\u3066\u9023\u7d50\u3055\u308c\u305f\u30ce\u30fc\u30c9\u3068\u30ea\u30f3\u30af\u3092\u4e00\u3064\u306e\u30af\u30e9\u30b9\u30bf\u30fc\u3068\u3059\u308b\u3002\u305d\u3057\u3066\u610f\u898b\u306e\u9078\u3073\u65b9\u306f\u3001\u3042\u308b\u6642\u523b\u306b\u9078\u3070\u308c\u305f\u610f\u898b\u304b\u3089\u4e00\u756a\u8fd1\u3044\u4f4d\u7f6e\u306b\u30ce\u30fc\u30c9\u3092\u3082\u3064\u3088\u3046\u306a\u30af\u30e9\u30b9\u30bf\u30fc\u306e\u4e2d\u304b\u3089\u9078\u3076\u3053\u3068\u3068\u3059\u308b\u3002\u3053\u306e\u3068\u304d\u30af\u30e9\u30b9\u30bf\u30fc\u306e\u5185\u90e8\u3067\u3069\u306e\u610f\u898b\u3092\u9078\u3076\u304b\u306e\u898f\u5247\u306b\u3064\u3044\u3066\u306f\u3001\u305d\u308c\u305e\u308c\u306e\u4eba\u306e\u767a\u8a00\u529b\u3068\u306e\u95a2\u4fc2\u3067\u6c7a\u3081\u308b\u3053\u3068\u306b\u3059\u308b\u3002\u307e\u305f\u3001\u3042\u308b\u6642\u523b\u306b\u610f\u898b\u304c\u9078\u3070\u308c\u305f\u3068\u304d\u3001\u305d\u306e\u610f\u898b\u304b\u3089\u306e\u8ddd\u96e2\u304c\u4e00\u756a\u8fd1\u3044\u30af\u30e9\u30b9\u30bf\u30fc\u304b\u3089\u6b21\u306e\u610f\u898b\u3092\u9078\u3076\u3053\u3068\u306b\u3059\u308b\u3002\u4e00\u5ea6\u610f\u898b\u304c\u9078\u3070\u308c\u305f\u30af\u30e9\u30b9\u30bf\u30fc\u306f\u3082\u3046\u4e00\u5ea6\u9078\u3070\u308c\u308b\u3053\u3068\u306f\u306a\u304f\u3001\u305d\u306e\u305f\u3081\u30af\u30e9\u30b9\u30bf\u30fc\u3092\u4f5c\u308b\u306e\u306b\u5fc5\u8981\u306a\u30d1\u30e9\u30e1\u30fc\u30bf\u306e\u5024\u306b\u3088\u3063\u3066\u306f\u3001\u4f8b3\u3067\u8003\u3048\u305f\u3082\u306e\u3068\u5168\u304f\u540c\u3058\u306b\u306a\u308b\u3053\u3068\u304c\u8003\u3048\u3089\u308c\u308b\u3002"
     ]
    },
    {
     "cell_type": "markdown",
     "metadata": {},
     "source": [
      "\u4ee5\u4e0a\u306e\u8a2d\u5b9a\u3092\u8003\u3048\u3066\u3001\u30b7\u30df\u30e5\u30ec\u30fc\u30b7\u30e7\u30f3\u3092\u884c\u3063\u3066\u307f\u308b\u3002"
     ]
    },
    {
     "cell_type": "code",
     "collapsed": false,
     "input": [
      "%matplotlib inline\n",
      "import matplotlib.pyplot as plt\n",
      "import numpy as np\n",
      "from scipy.spatial.distance import euclidean as euc\n",
      "import mpld3\n",
      "from mpld3 import plugins\n",
      "from mpld3.utils import get_id\n",
      "\n",
      "from ipython_doctester import test"
     ],
     "language": "python",
     "metadata": {},
     "outputs": [],
     "prompt_number": 1
    },
    {
     "cell_type": "code",
     "collapsed": false,
     "input": [
      "class Person:\n",
      "    \n",
      "    def __init__(self, master, id, ideas, w):\n",
      "        \"\"\"Initialize argmunets.\n",
      "        \n",
      "        Keyword arguments:\n",
      "        master    : Master class (call from \"Meeting\")\n",
      "        self.id   : Id for each person [0, 1, ..., N-1]\n",
      "        self.ideas: ideas in space [0,1] \u00d7 [0,1]\n",
      "        self.w    : probability weight for the person to speak\n",
      "        \"\"\"\n",
      "        self.id = id\n",
      "        self.ideas = ideas\n",
      "        self.w = w\n",
      "        # add_ideas\n",
      "        master.ideas += [[(i1, i2), [self.id, 0]] for i1, i2 in self.ideas]\n",
      "        \n",
      "        \n",
      "class Meeting:\n",
      "    \n",
      "    def __init__(self, K, N, S=20, r=0.06, draw=True):\n",
      "        self.K = K\n",
      "        self.N = N\n",
      "        self.S = S\n",
      "        self.r = r\n",
      "        self.ideas = []\n",
      "        self.minutes = []\n",
      "        self.draw = draw\n",
      "        \n",
      "    def gather_people(self, ideass=None, weights=None):\n",
      "        \"\"\"Gather participants.\n",
      "        \n",
      "        Keyword arguments:\n",
      "        ideas  : list of ideas for each person\n",
      "               ex) [((0.3,0.1),(0.2,0.5)), ((0.5,0.6))] when N = 2\n",
      "        weights: list of weights for the probability of the person to speak\n",
      "        \"\"\"\n",
      "        if not ideass:\n",
      "            x = np.random.rand(self.N, self.S*2)\n",
      "            ideass = []\n",
      "            for _x in x:\n",
      "                ideass.append([(i,j) for i,j in zip(_x[::2], _x[1::2])])\n",
      "        if not weights:\n",
      "            weights = [1.] * self.N\n",
      "        for i, ideas, w in zip(range(self.N), ideass, weights):\n",
      "            Person(self, i, ideas, w)\n",
      "\n",
      "    def clustering(self):\n",
      "        self.cluster_link = []\n",
      "        cell_num = int(1./self.r)\n",
      "        lr = 1./cell_num\n",
      "        \n",
      "        cell = [[[]]*cell_num]*cell_num\n",
      "        rcell = []\n",
      "        for i, idea in enumerate(self.ideas):\n",
      "            cellx = int(idea[0][0]/lr)\n",
      "            celly = int(idea[0][1]/lr)\n",
      "            cell[cellx][celly].append(i)\n",
      "            rcell.append((cellx, celly))\n",
      "        \n",
      "        def uniq_list(seq):\n",
      "            seen = set()\n",
      "            seen_add = seen.add\n",
      "            return [x for x in seq if x not in seen and not seen_add(x)]\n",
      "        \n",
      "        def find_nearest(idea_id, num):\n",
      "            \"\"\"\n",
      "            \n",
      "            idea_id: index in self.ideas\n",
      "            \"\"\"\n",
      "            cx, cy = rcell[idea_id]\n",
      "            place = self.ideas[idea_id][0]\n",
      "            tmp = []\n",
      "            nearest = []\n",
      "            cid = []\n",
      "            for i in uniq_list([max(0, cx - 1), cx, min(cx + 1, cell_num - 1)]):\n",
      "                for j in uniq_list([max(0, cy - 1), cy, min(cy + 1, cell_num - 1)]):\n",
      "                    tmp += cell[i][j]\n",
      "            for i in tmp:\n",
      "                if euc(self.ideas[i][0], place) < self.r:\n",
      "                    nearest.append(i)\n",
      "                    prenum = self.ideas[i][1][1]\n",
      "                    if prenum == 0:\n",
      "                        cid.append(num)\n",
      "                        self.cluster_link.append((idea_id, i))\n",
      "                    elif prenum <= num:\n",
      "                        cid.append(prenum)\n",
      "                        self.cluster_link.append((idea_id, i))\n",
      "            if len(nearest) == 0:\n",
      "                self.ideas[idea_id][1][1] = num\n",
      "                return 1\n",
      "            else:\n",
      "                cluster_id = min(cid)\n",
      "                if cluster_id < num:\n",
      "                    ans = 0\n",
      "                else:\n",
      "                    ans = 1\n",
      "                for i in nearest:\n",
      "                    self.ideas[i][1][1] = cluster_id\n",
      "                return ans\n",
      "\n",
      "        num = 1\n",
      "        for i in range(len(self.ideas)):\n",
      "            num += find_nearest(i, num)\n",
      "    \n",
      "    def init(self):\n",
      "        self.gather_people()\n",
      "        self.clustering()\n",
      "#        self.subject = np.random.rand(self.a)\n",
      "#        self.minutes.append((self.subject, self.N))\n",
      "        if self.draw:\n",
      "            colors = ['b', 'g', 'r', 'c', 'm', 'y', 'k']\n",
      "            self.fig = plt.figure(figsize=(9, 9))\n",
      "            self.ax = self.fig.add_subplot(1, 1, 1)\n",
      "            self.labels = ['subject']\n",
      "            self.s1 = []\n",
      "            for idea, tag in self.ideas:\n",
      "                x = idea[0]\n",
      "                y = idea[1]\n",
      "                s = self.ax.scatter(\n",
      "                    x, y, c=colors[tag[0]%len(colors)], alpha=0.2)\n",
      "                self.labels.append(str(tag[0]))\n",
      "                self.s1.append(s)\n",
      "            data = []\n",
      "            for link in self.cluster_link:\n",
      "                ix = self.ideas[link[0]][0][0]\n",
      "                iy = self.ideas[link[0]][0][1]\n",
      "                jx = self.ideas[link[1]][0][0]\n",
      "                jy = self.ideas[link[1]][0][1]\n",
      "                data += [(ix, jx), (iy, jy), 'k']\n",
      "            self.ax.plot(*data)\n",
      "            \n",
      "    def progress(self):\n",
      "        self.init()\n",
      "        preidea = np.random.choice(self.ideas)\n",
      "        l = list(self.ideas)\n",
      "        self.k = 1\n",
      "\n",
      "        while self.k < self.K + 1:\n",
      "            \n",
      "            # remove idea in the same cluster\n",
      "            for idea in l:\n",
      "                if preidea[1][1] == idea[1][1]:\n",
      "                    l.remove(idea)\n",
      "\n",
      "            # if no one can speak: meeting ends.\n",
      "            if len(l) == 0:\n",
      "                print \"no one can speak.\"\n",
      "                break\n",
      "        self.after()\n",
      "\n",
      "    def callback(self):\n",
      "        if self.draw:\n",
      "            if self.minutes[-1][1] == self.N or self.minutes[-2][1] == self.N:\n",
      "                alpha = 0.2\n",
      "            else:\n",
      "                alpha = 1.0\n",
      "            ix = self.minutes[-2][0][0]\n",
      "            iy = self.minutes[-2][0][1]\n",
      "            jx = self.minutes[-1][0][0]\n",
      "            jy = self.minutes[-1][0][1]\n",
      "            l1 = self.ax.plot([ix, jx], [iy, jy], color='black', alpha=alpha)\n",
      "            self.ax.text(jx, jy, '%d' % self.k, fontsize=20)\n",
      "        else:\n",
      "            pass\n",
      "\n",
      "    def after(self):\n",
      "        if self.draw:\n",
      "            plugins.connect(\n",
      "                self.fig, plugins.InteractiveLegendPlugin(\n",
      "                    self.s1, self.labels, ax=self.ax))\n",
      "            mpld3.show()\n",
      "        else:\n",
      "            print meeting.minutes"
     ],
     "language": "python",
     "metadata": {},
     "outputs": [],
     "prompt_number": 42
    },
    {
     "cell_type": "code",
     "collapsed": false,
     "input": [
      "a = [1,2,3,4,5,6,7]\n",
      "preidea = np.random.choice(a)\n",
      "print preidea\n",
      "print a"
     ],
     "language": "python",
     "metadata": {},
     "outputs": [
      {
       "output_type": "stream",
       "stream": "stdout",
       "text": [
        "5\n",
        "[1, 2, 3, 4, 5, 6, 7]\n"
       ]
      }
     ],
     "prompt_number": 22
    },
    {
     "cell_type": "code",
     "collapsed": false,
     "input": [
      "meeting = Meeting(K=50, N=6, r=0.06, draw=True)\n",
      "meeting.init()"
     ],
     "language": "python",
     "metadata": {},
     "outputs": [
      {
       "metadata": {},
       "output_type": "display_data",
       "png": "[encoded data removed]",
       "text": [
        "<matplotlib.figure.Figure at 0x7f5aa387e910>"
       ]
      }
     ],
     "prompt_number": 50
    },
    {
     "cell_type": "code",
     "collapsed": false,
     "input": [
      "sorted([(x[1][1], x[1][0], (x[0])) for x in meeting.ideas])"
     ],
     "language": "python",
     "metadata": {},
     "outputs": [
      {
       "metadata": {},
       "output_type": "pyout",
       "prompt_number": 51,
       "text": [
        "[(1, 0, (0.27316546074939141, 0.67639573161103372)),\n",
        " (1, 0, (0.31385789459631341, 0.70230568686070249)),\n",
        " (1, 2, (0.25072488222980216, 0.76440438549439649)),\n",
        " (1, 2, (0.30982588214917484, 0.75480374039760179)),\n",
        " (2, 0, (0.97409199053671647, 0.92466083276894029)),\n",
        " (3, 0, (0.98108980540671809, 0.42638776449194749)),\n",
        " (3, 1, (0.96712067218923636, 0.44556674553001985)),\n",
        " (4, 0, (0.44780410246537894, 0.37107502417302551)),\n",
        " (4, 1, (0.38967677306289816, 0.42810005237149451)),\n",
        " (4, 2, (0.42043587710947838, 0.40557816308503081)),\n",
        " (5, 0, (0.028745811537492338, 0.73706942157665356)),\n",
        " (5, 0, (0.067964625338735818, 0.60489663002580396)),\n",
        " (5, 1, (0.049035122491878025, 0.65584001223713095)),\n",
        " (5, 1, (0.070047809317540732, 0.70906144472749533)),\n",
        " (5, 3, (0.026911295994545004, 0.69691486399681812)),\n",
        " (6, 0, (0.94343913430841531, 0.025916155502328508)),\n",
        " (8, 0, (0.44289791314362326, 0.56684539642292942)),\n",
        " (8, 1, (0.44714671013073981, 0.5930122828812967)),\n",
        " (8, 2, (0.43972230830324888, 0.56820455639475076)),\n",
        " (9, 0, (0.88684202340135676, 0.47803841475794506)),\n",
        " (9, 2, (0.88117154280695686, 0.44818045135303219)),\n",
        " (9, 3, (0.88580171842075939, 0.48557675568024461)),\n",
        " (9, 4, (0.91663256422743522, 0.51326153494488602)),\n",
        " (9, 5, (0.88298750657190461, 0.55998991753710303)),\n",
        " (10, 0, (0.86576785070983087, 0.69416988910245325)),\n",
        " (10, 1, (0.88516592971998076, 0.78936889539774491)),\n",
        " (10, 2, (0.88188686111980774, 0.64516648748612804)),\n",
        " (10, 2, (0.9035484296393772, 0.73653695171016886)),\n",
        " (10, 2, (0.94697723228919695, 0.78468018827578156)),\n",
        " (10, 4, (0.85882340136797874, 0.62329758488902431)),\n",
        " (10, 5, (0.94874235665213069, 0.73112745971430149)),\n",
        " (11, 0, (0.59683326466804676, 0.78738774373754772)),\n",
        " (12, 0, (0.49520263331094294, 0.51188669497794026)),\n",
        " (12, 0, (0.51999177336486702, 0.47616191664122676)),\n",
        " (12, 1, (0.51898229179456801, 0.46557969116272035)),\n",
        " (12, 5, (0.49455796418391607, 0.51433308703204961)),\n",
        " (13, 0, (0.16001575178862326, 0.6541785023544997)),\n",
        " (14, 0, (0.54899492015298001, 0.21589015506225417)),\n",
        " (14, 3, (0.48455776335412715, 0.25829607204937721)),\n",
        " (14, 3, (0.51665170554486217, 0.27852448723611911)),\n",
        " (14, 4, (0.52853036648658402, 0.2092413336425164)),\n",
        " (14, 5, (0.52792925426994586, 0.2421690879513676)),\n",
        " (15, 0, (0.087962886279038699, 0.23910595211566799)),\n",
        " (16, 0, (0.71600907314558804, 0.40473811329681875)),\n",
        " (16, 1, (0.70556901323351084, 0.35083756428767765)),\n",
        " (16, 3, (0.70294023756863633, 0.42972147597741939)),\n",
        " (17, 0, (0.69834792602656592, 0.64817723505372704)),\n",
        " (18, 0, (0.4086096177882802, 0.096536090951662712)),\n",
        " (19, 1, (0.061945471892545734, 0.89228893916121588)),\n",
        " (20, 1, (0.35974457508370161, 0.33131810591433575)),\n",
        " (20, 2, (0.32341324408714156, 0.37754532022913911)),\n",
        " (20, 3, (0.38265704211339402, 0.33319326651930814)),\n",
        " (20, 4, (0.34536691658468077, 0.28048097161530483)),\n",
        " (20, 5, (0.25324768066832837, 0.25867849831035239)),\n",
        " (20, 5, (0.28997019352248821, 0.29019382163472207)),\n",
        " (21, 1, (0.9527308513653685, 0.34308876050698778)),\n",
        " (21, 5, (0.92160283649095576, 0.34722341346160146)),\n",
        " (22, 1, (0.51755902123971942, 0.65138797474859789)),\n",
        " (22, 1, (0.55197601291447851, 0.63744321712039065)),\n",
        " (22, 2, (0.49201555375473549, 0.69981983378888268)),\n",
        " (22, 2, (0.51133481785994661, 0.68505091346072189)),\n",
        " (22, 2, (0.54299177022485001, 0.70512592852255185)),\n",
        " (22, 3, (0.43524907147320413, 0.69294013187236936)),\n",
        " (22, 5, (0.58303574845650663, 0.58985389142483735)),\n",
        " (23, 1, (0.68626914610290168, 0.76920513046905903)),\n",
        " (24, 1, (0.047489410714552704, 0.033217420214150528)),\n",
        " (24, 4, (0.041999264849567397, 0.014443339601818872)),\n",
        " (25, 1, (0.66521767539098098, 0.15085668911183892)),\n",
        " (26, 1, (0.8537062812469981, 0.92582112275910156)),\n",
        " (26, 4, (0.88273639248787927, 0.93062800810445911)),\n",
        " (26, 5, (0.80179549559461638, 0.92710424032404304)),\n",
        " (27, 1, (0.91937665743061192, 0.10046741785820845)),\n",
        " (27, 4, (0.89770338669948424, 0.13472285469080758)),\n",
        " (28, 1, (0.75671806078916048, 0.1397944606241639)),\n",
        " (28, 2, (0.7915333678823091, 0.18586183362477204)),\n",
        " (29, 1, (0.52197192188502473, 0.87442645723029389)),\n",
        " (30, 2, (0.17307134207574904, 0.79831715511042733)),\n",
        " (30, 5, (0.17031352676886757, 0.78566169591198276)),\n",
        " (31, 2, (0.1224456798619552, 0.5476153828235405)),\n",
        " (33, 2, (0.13726071088360148, 0.097453410141948638)),\n",
        " (33, 3, (0.15103214274444232, 0.14157105569722228)),\n",
        " (33, 4, (0.15482399743787956, 0.057579650226863621)),\n",
        " (34, 2, (0.18831209945864991, 0.57029611100229605)),\n",
        " (34, 3, (0.22281812428702985, 0.60318929947611455)),\n",
        " (35, 2, (0.82637776645111627, 0.99794027862489254)),\n",
        " (36, 2, (0.60873510705463951, 0.4651870097796823)),\n",
        " (37, 2, (0.58782549888621061, 0.042722403592466041)),\n",
        " (38, 3, (0.94748312574133609, 0.22300845416395076)),\n",
        " (38, 3, (0.96966610798896657, 0.17579722026823941)),\n",
        " (39, 3, (0.30322155304078613, 0.12699610337058387)),\n",
        " (39, 3, (0.34990608275311219, 0.11897246238318193)),\n",
        " (40, 3, (0.10520125232466959, 0.44426938954995998)),\n",
        " (40, 5, (0.075964014026125293, 0.44040523866217363)),\n",
        " (41, 3, (0.83321881908663453, 0.33071367376763428)),\n",
        " (42, 3, (0.32688883205724928, 0.55741265967299658)),\n",
        " (43, 3, (0.80020712071080835, 0.79852179210809171)),\n",
        " (44, 3, (0.76730051207327687, 0.47022209335763421)),\n",
        " (45, 3, (0.80119053291198339, 0.41366914032492441)),\n",
        " (45, 4, (0.82620821533890776, 0.3964914136876212)),\n",
        " (46, 3, (0.24069447155510304, 0.93450407253650913)),\n",
        " (47, 4, (0.0016121216509080716, 0.36332191147102766)),\n",
        " (47, 4, (0.019567580976474042, 0.38577000466241029)),\n",
        " (47, 4, (0.024139251309060694, 0.40388543036616731)),\n",
        " (47, 5, (0.0030413034639925618, 0.31484630600760266)),\n",
        " (48, 4, (0.99729950433935055, 0.057385970115776397)),\n",
        " (49, 4, (0.97909990751867715, 0.66535472796044681)),\n",
        " (50, 4, (0.25426095148382422, 0.44746755288012874)),\n",
        " (51, 4, (0.18375667375185589, 0.22606784643794442)),\n",
        " (51, 5, (0.16091149738332222, 0.21431860705137284)),\n",
        " (52, 4, (0.65183987807760113, 0.69193816756615101)),\n",
        " (53, 4, (0.8751721237336515, 0.27520127093520663)),\n",
        " (54, 4, (0.41761198478467232, 0.79359800201344155)),\n",
        " (55, 4, (0.72389219298808916, 0.52071092302302324)),\n",
        " (56, 5, (0.55239115733968713, 0.95203807042482691)),\n",
        " (57, 5, (0.24963891215718526, 0.021482977599887154)),\n",
        " (57, 5, (0.2769666370268139, 0.032843500239722601)),\n",
        " (58, 5, (0.70165235913807456, 0.89913118792133395)),\n",
        " (59, 5, (0.72392689354257256, 0.038320328971237938)),\n",
        " (60, 5, (0.83498427970485811, 0.12652273129862557)),\n",
        " (61, 5, (0.50752364455628851, 0.064323694608511728))]"
       ]
      }
     ],
     "prompt_number": 51
    },
    {
     "cell_type": "code",
     "collapsed": false,
     "input": [
      "1. - max([x[1][1] for x in meeting.ideas])/float(len(meeting.ideas))"
     ],
     "language": "python",
     "metadata": {},
     "outputs": [
      {
       "metadata": {},
       "output_type": "pyout",
       "prompt_number": 14,
       "text": [
        "0.4083333333333333"
       ]
      }
     ],
     "prompt_number": 14
    },
    {
     "cell_type": "markdown",
     "metadata": {},
     "source": [
      "\u95be\u5024$r$\u3092\u5909\u3048\u305f\u3068\u304d\u306b\u610f\u898b\u306e\u7dcf\u6570\u306b\u5bfe\u3059\u308b\u30af\u30e9\u30b9\u30bf\u30fc\u306e\u6570\u3068\u306e\u95a2\u4fc2\u3002\u6a2a\u8ef8$r$\u3001\u7e26\u8ef8$1-(\\text{\u30af\u30e9\u30b9\u30bf\u30fc\u306e\u6570})/(\\text{\u610f\u898b\u306e\u7dcf\u6570})$\u3002"
     ]
    },
    {
     "cell_type": "code",
     "collapsed": false,
     "input": [
      "trial = 30\n",
      "r = np.linspace(0.001, 0.2, num=20)\n",
      "phi = []\n",
      "for _r in r:\n",
      "    _phi = 0.\n",
      "    for t in range(trial):\n",
      "        meeting = Meeting(K=50, N=6, r=_r, draw=False)\n",
      "        meeting.init()\n",
      "        _phi += max([x[1][1] for x in meeting.ideas])/float(len(meeting.ideas))\n",
      "    phi.append(1. - _phi/trial)\n",
      "plt.plot(r, phi)"
     ],
     "language": "python",
     "metadata": {},
     "outputs": [
      {
       "metadata": {},
       "output_type": "pyout",
       "prompt_number": 9,
       "text": [
        "[<matplotlib.lines.Line2D at 0x7f5aa8e79550>]"
       ]
      },
      {
       "metadata": {},
       "output_type": "display_data",
       "png": "[encoded data removed]",
       "text": [
        "<matplotlib.figure.Figure at 0x7f5aa8ef1c50>"
       ]
      }
     ],
     "prompt_number": 9
    },
    {
     "cell_type": "markdown",
     "metadata": {},
     "source": [
      "\u95be\u5024$r$\u3092\u5909\u3048\u305f\u3068\u304d\u306e\u6700\u5927\u30af\u30e9\u30b9\u30bf\u30fc\u306e\u30b5\u30a4\u30ba\u3068\u5168\u8981\u7d20\u6570\u3068\u306e\u9593\u306e\u95a2\u4fc2\u3002\u30af\u30e9\u30b9\u30bf\u30fc\u30b5\u30a4\u30ba\u3068\u306f\u3053\u3053\u3067\u306f\u540c\u3058\u30af\u30e9\u30b9\u305f\u2015\u5185\u306b\u542b\u307e\u308c\u308b\u8981\u7d20\u306e\u6570\u3002\n",
      "\n",
      "\u6a2a\u8ef8$r$\u3001\u7e26\u8ef8$(\\text{\u6700\u5927\u30af\u30e9\u30b9\u30bf\u30fc\u30b5\u30a4\u30ba})/(\\text{\u5168\u8981\u7d20\u6570})$"
     ]
    },
    {
     "cell_type": "code",
     "collapsed": false,
     "input": [
      "meeting = Meeting(K=50, N=6, r=0.2, draw=False)\n",
      "meeting.init()"
     ],
     "language": "python",
     "metadata": {},
     "outputs": []
    },
    {
     "cell_type": "code",
     "collapsed": false,
     "input": [
      "print collections.Counter([x[1][1] for x in meeting.ideas])\n",
      "max([v for v in collections.Counter([x[1][1] for x in meeting.ideas]).values()])/float(len(meeting.ideas))"
     ],
     "language": "python",
     "metadata": {},
     "outputs": [
      {
       "output_type": "stream",
       "stream": "stdout",
       "text": [
        "Counter({10: 7, 22: 7, 20: 6, 5: 5, 9: 5, 14: 5, 1: 4, 12: 4, 47: 4, 4: 3, 8: 3, 16: 3, 26: 3, 33: 3, 3: 2, 21: 2, 24: 2, 27: 2, 28: 2, 30: 2, 34: 2, 38: 2, 39: 2, 40: 2, 45: 2, 51: 2, 57: 2, 2: 1, 6: 1, 11: 1, 13: 1, 15: 1, 17: 1, 18: 1, 19: 1, 23: 1, 25: 1, 29: 1, 31: 1, 35: 1, 36: 1, 37: 1, 41: 1, 42: 1, 43: 1, 44: 1, 46: 1, 48: 1, 49: 1, 50: 1, 52: 1, 53: 1, 54: 1, 55: 1, 56: 1, 58: 1, 59: 1, 60: 1, 61: 1})\n"
       ]
      },
      {
       "metadata": {},
       "output_type": "pyout",
       "prompt_number": 53,
       "text": [
        "0.058333333333333334"
       ]
      }
     ],
     "prompt_number": 53
    },
    {
     "cell_type": "code",
     "collapsed": false,
     "input": [
      "import collections\n",
      "trial = 30\n",
      "r = np.linspace(0.001, 0.2, num=20)\n",
      "phi = []\n",
      "for _r in r:\n",
      "    _phi = 0.\n",
      "    for t in range(trial):\n",
      "        meeting = Meeting(K=50, N=6, r=_r, draw=False)\n",
      "        meeting.init()\n",
      "        _phi += max([v for v in collections.Counter([x[1][1] for x in meeting.ideas]).values()])/float(len(meeting.ideas))\n",
      "    phi.append(_phi/trial)\n",
      "plt.plot(r, phi)"
     ],
     "language": "python",
     "metadata": {},
     "outputs": [
      {
       "metadata": {},
       "output_type": "pyout",
       "prompt_number": 57,
       "text": [
        "[<matplotlib.lines.Line2D at 0x7f5aa5f1d9d0>]"
       ]
      },
      {
       "metadata": {},
       "output_type": "display_data",
       "png": "[encoded data removed]",
       "text": [
        "<matplotlib.figure.Figure at 0x7f5aa494e850>"
       ]
      }
     ],
     "prompt_number": 57
    },
    {
     "cell_type": "code",
     "collapsed": false,
     "input": [
      "import pandas as pd\n",
      "pd.DataFrame(np.array([r, phi]).T)"
     ],
     "language": "python",
     "metadata": {},
     "outputs": [
      {
       "html": [
        "<div style=\"max-height:1000px;max-width:1500px;overflow:auto;\">\n",
        "<table border=\"1\" class=\"dataframe\">\n",
        "  <thead>\n",
        "    <tr style=\"text-align: right;\">\n",
        "      <th></th>\n",
        "      <th>0</th>\n",
        "      <th>1</th>\n",
        "    </tr>\n",
        "  </thead>\n",
        "  <tbody>\n",
        "    <tr>\n",
        "      <th>0 </th>\n",
        "      <td> 0.001000</td>\n",
        "      <td> 0.000000</td>\n",
        "    </tr>\n",
        "    <tr>\n",
        "      <th>1 </th>\n",
        "      <td> 0.011474</td>\n",
        "      <td> 0.023056</td>\n",
        "    </tr>\n",
        "    <tr>\n",
        "      <th>2 </th>\n",
        "      <td> 0.021947</td>\n",
        "      <td> 0.081389</td>\n",
        "    </tr>\n",
        "    <tr>\n",
        "      <th>3 </th>\n",
        "      <td> 0.032421</td>\n",
        "      <td> 0.181667</td>\n",
        "    </tr>\n",
        "    <tr>\n",
        "      <th>4 </th>\n",
        "      <td> 0.042895</td>\n",
        "      <td> 0.283333</td>\n",
        "    </tr>\n",
        "    <tr>\n",
        "      <th>5 </th>\n",
        "      <td> 0.053368</td>\n",
        "      <td> 0.406111</td>\n",
        "    </tr>\n",
        "    <tr>\n",
        "      <th>6 </th>\n",
        "      <td> 0.063842</td>\n",
        "      <td> 0.522222</td>\n",
        "    </tr>\n",
        "    <tr>\n",
        "      <th>7 </th>\n",
        "      <td> 0.074316</td>\n",
        "      <td> 0.635278</td>\n",
        "    </tr>\n",
        "    <tr>\n",
        "      <th>8 </th>\n",
        "      <td> 0.084789</td>\n",
        "      <td> 0.711667</td>\n",
        "    </tr>\n",
        "    <tr>\n",
        "      <th>9 </th>\n",
        "      <td> 0.095263</td>\n",
        "      <td> 0.788056</td>\n",
        "    </tr>\n",
        "    <tr>\n",
        "      <th>10</th>\n",
        "      <td> 0.105737</td>\n",
        "      <td> 0.833611</td>\n",
        "    </tr>\n",
        "    <tr>\n",
        "      <th>11</th>\n",
        "      <td> 0.116211</td>\n",
        "      <td> 0.869444</td>\n",
        "    </tr>\n",
        "    <tr>\n",
        "      <th>12</th>\n",
        "      <td> 0.126684</td>\n",
        "      <td> 0.900833</td>\n",
        "    </tr>\n",
        "    <tr>\n",
        "      <th>13</th>\n",
        "      <td> 0.137158</td>\n",
        "      <td> 0.920556</td>\n",
        "    </tr>\n",
        "    <tr>\n",
        "      <th>14</th>\n",
        "      <td> 0.147632</td>\n",
        "      <td> 0.955000</td>\n",
        "    </tr>\n",
        "    <tr>\n",
        "      <th>15</th>\n",
        "      <td> 0.158105</td>\n",
        "      <td> 0.972500</td>\n",
        "    </tr>\n",
        "    <tr>\n",
        "      <th>16</th>\n",
        "      <td> 0.168579</td>\n",
        "      <td> 0.977778</td>\n",
        "    </tr>\n",
        "    <tr>\n",
        "      <th>17</th>\n",
        "      <td> 0.179053</td>\n",
        "      <td> 0.982500</td>\n",
        "    </tr>\n",
        "    <tr>\n",
        "      <th>18</th>\n",
        "      <td> 0.189526</td>\n",
        "      <td> 0.988333</td>\n",
        "    </tr>\n",
        "    <tr>\n",
        "      <th>19</th>\n",
        "      <td> 0.200000</td>\n",
        "      <td> 0.991389</td>\n",
        "    </tr>\n",
        "  </tbody>\n",
        "</table>\n",
        "<p>20 rows \u00d7 2 columns</p>\n",
        "</div>"
       ],
       "metadata": {},
       "output_type": "pyout",
       "prompt_number": 10,
       "text": [
        "           0         1\n",
        "0   0.001000  0.000000\n",
        "1   0.011474  0.023056\n",
        "2   0.021947  0.081389\n",
        "3   0.032421  0.181667\n",
        "4   0.042895  0.283333\n",
        "5   0.053368  0.406111\n",
        "6   0.063842  0.522222\n",
        "7   0.074316  0.635278\n",
        "8   0.084789  0.711667\n",
        "9   0.095263  0.788056\n",
        "10  0.105737  0.833611\n",
        "11  0.116211  0.869444\n",
        "12  0.126684  0.900833\n",
        "13  0.137158  0.920556\n",
        "14  0.147632  0.955000\n",
        "15  0.158105  0.972500\n",
        "16  0.168579  0.977778\n",
        "17  0.179053  0.982500\n",
        "18  0.189526  0.988333\n",
        "19  0.200000  0.991389\n",
        "\n",
        "[20 rows x 2 columns]"
       ]
      }
     ],
     "prompt_number": 10
    },
    {
     "cell_type": "code",
     "collapsed": false,
     "input": [
      "cell_num = 14\n",
      "[[[]]*cell_num]*cell_num"
     ],
     "language": "python",
     "metadata": {},
     "outputs": [
      {
       "metadata": {},
       "output_type": "pyout",
       "prompt_number": 20,
       "text": [
        "[[[], [], [], [], [], [], [], [], [], [], [], [], [], []],\n",
        " [[], [], [], [], [], [], [], [], [], [], [], [], [], []],\n",
        " [[], [], [], [], [], [], [], [], [], [], [], [], [], []],\n",
        " [[], [], [], [], [], [], [], [], [], [], [], [], [], []],\n",
        " [[], [], [], [], [], [], [], [], [], [], [], [], [], []],\n",
        " [[], [], [], [], [], [], [], [], [], [], [], [], [], []],\n",
        " [[], [], [], [], [], [], [], [], [], [], [], [], [], []],\n",
        " [[], [], [], [], [], [], [], [], [], [], [], [], [], []],\n",
        " [[], [], [], [], [], [], [], [], [], [], [], [], [], []],\n",
        " [[], [], [], [], [], [], [], [], [], [], [], [], [], []],\n",
        " [[], [], [], [], [], [], [], [], [], [], [], [], [], []],\n",
        " [[], [], [], [], [], [], [], [], [], [], [], [], [], []],\n",
        " [[], [], [], [], [], [], [], [], [], [], [], [], [], []],\n",
        " [[], [], [], [], [], [], [], [], [], [], [], [], [], []]]"
       ]
      }
     ],
     "prompt_number": 20
    },
    {
     "cell_type": "code",
     "collapsed": false,
     "input": [
      "@test\n",
      "def uniq_list(seq):\n",
      "    \"\"\"\n",
      "    >>> a = [1, 2, 5, 6, 7, 3, 2, 0]\n",
      "    >>> uniq_list(a)\n",
      "    [1, 2, 5, 6, 7, 3, 0]\n",
      "    \"\"\"\n",
      "    seen = set()\n",
      "    seen_add = seen.add\n",
      "    return [x for x in seq if x not in seen and not seen_add(x)]\n"
     ],
     "language": "python",
     "metadata": {},
     "outputs": [
      {
       "html": [
        "\n",
        "      <p style=\"color:green;font-size:250%;font-weight=bold\">Success!</p>\n",
        "      "
       ],
       "metadata": {},
       "output_type": "display_data"
      }
     ],
     "prompt_number": 44
    }
   ],
   "metadata": {}
  }
 ]
}