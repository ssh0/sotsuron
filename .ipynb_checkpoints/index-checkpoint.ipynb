{
 "metadata": {
  "name": "",
  "signature": "sha256:34ab9ad067be14cbd46a435424f7bc4d33c071444ca092b88de1b79b310757d0"
 },
 "nbformat": 3,
 "nbformat_minor": 0,
 "worksheets": [
  {
   "cells": [
    {
     "cell_type": "heading",
     "level": 1,
     "metadata": {},
     "source": [
      "\u5352\u8ad6"
     ]
    },
    {
     "cell_type": "markdown",
     "metadata": {},
     "source": [
      "\u5352\u8ad6\u306b\u95a2\u3059\u308b\u8a66\u884c\u932f\u8aa4\u3092\u307e\u3068\u3081\u305f\u3082\u306e"
     ]
    },
    {
     "cell_type": "markdown",
     "metadata": {},
     "source": [
      "- \u306f\u3058\u3081\u306b([sim1](simple1/sim1.ipynb))\n",
      "\n",
      "- \u7c21\u5358\u306a\u4f8b1([simple1](simple1/simple1.ipynb))\n",
      "    - \u6761\u4ef6\n",
      "        - \u6c88\u9ed9\u306a\u3057\n",
      "        - \u610f\u898b\u306f$[0,1]$\u306e\u4e00\u69d8\u4e71\u6570(\u91cd\u8981)\n",
      "        - \u767a\u8a00\u8005\u3092\u9078\u3076\u78ba\u7387\u306f\u7b49\u3057\u3044\n",
      "    - \u7d50\u679c\n",
      "        - \u767a\u8a00\u304c\u306a\u3055\u308c\u305f\u3068\u304d\u306b\u30ea\u30f3\u30af\u304c\u5f35\u3089\u308c\u308b\u6570\u306f\u4e8c\u9805\u5206\u5e03$B(k,p(x_{k+1},r))$\u306b\u5f93\u3046\n",
      "        - $y$\u3092$k,r$\u306b\u3057\u305f\u304c\u3063\u3066\u5909\u5316\u3059\u308b\u9069\u5f53\u306a\u95a2\u6570\u306b\u304a\u3051\u3070\u3001\u30ea\u30f3\u30af\u306e\u500b\u6570\u304c$y$\u500b\u3092\u8d85\u3048\u308b\u306e\u306b\u5fc5\u8981\u306a\u6642\u9593\u306f\u5e7e\u4f55\u5206\u5e03\u306b\u5f93\u3046\n",
      "\n",
      "- \u7c21\u5358\u306a\u4f8b2([simple2](simple2/simple2.ipynb))\n",
      "    - \u6761\u4ef6\n",
      "        - \u6c88\u9ed9\u3042\u308a([0,1]\u306e\u9593\u306e\u4e00\u69d8\u4e71\u6570\u306e\u671f\u5f85\u50240.5)\n",
      "        - \u610f\u898b\u306f$[0,1]$\u306e\u4e00\u69d8\u4e71\u6570(\u91cd\u8981)\n",
      "        - \u767a\u8a00\u8005\u3092\u9078\u3076\u78ba\u7387\u306f\u8ddd\u96e2\u306e\u95a2\u6570\n",
      "    - \u7d50\u679c\n",
      "        - \u4f4d\u7f6e\u306b\u3088\u3063\u3066\u767a\u8a00\u8005\u306e\u767a\u73fe\u983b\u5ea6\u306a\u3069\u306f\u7570\u306a\u308b(\u5f53\u305f\u308a\u524d)\n",
      "        - \u30ea\u30f3\u30af\u306e\u6570\u7b49\u306b\u3064\u3044\u3066\u306e\u6027\u8cea\u306f\u4f8b1\u3068\u540c\u3058(\u5f53\u305f\u308a\u524d)\n",
      "        - \u5404\u6642\u523b$k$\u306b\u304a\u3044\u3066\u5f35\u3089\u308c\u308b\u30ea\u30f3\u30af\u306e\u6570\u306e$r$\u4f9d\u5b58\u6027\u306a\u3069\u306b\u5bfe\u3059\u308b\u8a08\u7b97\n",
      "\n",
      "- \u53c2\u52a0\u8005\u306e\u3064\u304f\u308b\u30cd\u30c3\u30c8\u30ef\u30fc\u30af([person_network](simple2/person_network.ipynb))"
     ]
    }
   ],
   "metadata": {}
  }
 ]
}