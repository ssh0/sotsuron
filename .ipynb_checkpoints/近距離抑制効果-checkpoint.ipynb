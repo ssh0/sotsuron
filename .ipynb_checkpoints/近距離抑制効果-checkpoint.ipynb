{
 "metadata": {
  "name": "",
  "signature": "sha256:0d44bbceb978517a21b3d6453e50192da60e83bd8a8b0538576a1fcf5cd7bd48"
 },
 "nbformat": 3,
 "nbformat_minor": 0,
 "worksheets": [
  {
   "cells": [
    {
     "cell_type": "heading",
     "level": 2,
     "metadata": {},
     "source": [
      "\u8fd1\u8ddd\u96e2\u3067\u3042\u308b\u3053\u3068\u306b\u3088\u308b\u53cd\u5fdc\u306e\u6291\u5236\u5316"
     ]
    },
    {
     "cell_type": "markdown",
     "metadata": {},
     "source": [
      "\u610f\u898b\u3092\u63d0\u51fa\u3059\u308b\u969b\u306b\u500b\u4eba\u3068\u3057\u3066\u611f\u3058\u308b\u3053\u3068\u306f\u4f55\u304b\u3001\u3068\u3044\u3046\u3053\u3068\u3092\u8003\u3048\u308b\u3068\u3001\u4ed6\u306e\u4eba\u304c\u81ea\u5206\u3068\u4f3c\u305f\u3088\u3046\u306a\u610f\u898b\u3092\u51fa\u3059\u306e\u3067\u306f\u306a\u3044\u304b\u3001\u3068\u3044\u3046\u70b9\u304b\u3089\u767a\u8a00\u3092\u63a7\u3048\u308b\u3068\u3044\u3046\u5834\u9762\u304c\u8003\u3048\u3089\u308c\u308b\u3002\u307e\u305f\u3001\u3053\u308c\u3092\u4ee3\u8b1d\u7cfb\u306a\u3069\u306e\u5316\u5b66\u53cd\u5fdc\u306b\u843d\u3068\u3057\u8fbc\u3093\u3060\u969b\u306b\u306f\u3001\u3053\u306e\u3088\u3046\u306a\u8fd1\u3044\u4f4d\u7f6e\u306e\u610f\u898b\u306f\u3059\u3079\u3066\u540c\u4e00\u306e\u7269\u8cea\u3092\u8868\u3057\u3066\u3044\u308b\u3068\u3044\u3046\u3088\u3046\u306b\u8003\u3048\u308b\u3053\u3068\u3082\u3067\u304d\u308b\u3002\u305d\u306e\u3088\u3046\u306b\u8003\u3048\u308c\u3070\u3001\u4f3c\u305f\u3088\u3046\u306a\u6027\u8cea\u304c\u7e2e\u7d04\u3055\u308c\u3066\u3057\u307e\u3046\u306e\u3067\u5168\u4f53\u3068\u3057\u3066\u306e\u52b9\u7387\u304c\u4e0b\u304c\u3063\u3066\u3057\u307e\u3046\u3068\u3044\u3046\u7d50\u679c\u3092\u3082\u305f\u3089\u3059\u306e\u304b\u3082\u3057\u308c\u306a\u3044\u3002\n"
     ]
    },
    {
     "cell_type": "markdown",
     "metadata": {},
     "source": [
      "Note: \u5316\u5b66\u53cd\u5fdc\u3067\u3082\u540c\u3058\u3088\u3046\u306b1\u5206\u5b50\u3067\u306e\u53cd\u5fdc\u3068\u3088\u304f\u6df7\u3056\u3063\u305f\u591a\u6570\u306e\u7c92\u5b50\u306e\u53cd\u5fdc\u306e\u9593\u3067\u30a8\u30cd\u30eb\u30ae\u30fc\u7684\u306a\u5dee\u306b\u6709\u7121\u304c\u3042\u308b\u306e\u304b\u306b\u3064\u3044\u3066\u8abf\u3079\u308b\u5fc5\u8981\u304c\u3042\u308b\u3002"
     ]
    },
    {
     "cell_type": "markdown",
     "metadata": {},
     "source": [
      "\u3053\u308c\u3092\u4eca\u307e\u3067\u4f1a\u8b70\u306e\u30e2\u30c7\u30eb\u3068\u3057\u3066\u8003\u3048\u3066\u304d\u305f\u3082\u306e\u306b\u9069\u5fdc\u3059\u308b\u3068\u304d\u306b\u306f\u3001\u610f\u898b\u306e\u8fd1\u3044\u3082\u306e(\u95be\u5024\u3088\u308a\u3082\u8fd1\u3044\u8ddd\u96e2\u306b\u3042\u308b\u610f\u898b)\u306f\u540c\u3058\u610f\u898b\u3092\u6307\u3059\u3068\u8003\u3048\u3001\u3053\u306e\u3088\u3046\u306a\u610f\u898b\u306f\u4ee5\u524d\u306b\u767a\u8a00\u3055\u308c\u3066\u3044\u308b\u3068\u304d\u306b\u306f\u6b21\u306e\u767a\u8a00\u8005\u306f\u305d\u306e\u3088\u3046\u306a\u610f\u898b\u306f\u9078\u3073\u306b\u304f\u3044\u3001\u3068\u3044\u3046\u3053\u3068\u3092\u53cd\u6620\u3057\u305f\u30e2\u30c7\u30eb\u3067\u3042\u308b\u3053\u3068\u304c\u6c42\u3081\u3089\u308c\u308b\u3002"
     ]
    },
    {
     "cell_type": "markdown",
     "metadata": {},
     "source": [
      "\u5177\u4f53\u7684\u306a\u30e2\u30c7\u30eb\u3068\u3057\u3066\u3001\u6709\u9650\u500b\u6570\u306e\u610f\u898b\u304c\u72b6\u614b\u7a7a\u9593\u4e0a\u306b\u5206\u5e03\u3057\u3066\u3044\u308b\u3068\u304d\u306b\u3001\u3042\u308b\u95be\u5024$r$\u3088\u308a\u3082\u8fd1\u3044\u8ddd\u96e2\u306b\u3042\u308b\u70b9\u540c\u58eb\u3092\u30ce\u30fc\u30c9\u3067\u3064\u306a\u3044\u3067\u3044\u304d\u3001\u305d\u3046\u3057\u3066\u9023\u7d50\u3055\u308c\u305f\u30ce\u30fc\u30c9\u3068\u30ea\u30f3\u30af\u3092\u4e00\u3064\u306e\u30af\u30e9\u30b9\u30bf\u30fc\u3068\u3059\u308b\u3002\u305d\u3057\u3066\u610f\u898b\u306e\u9078\u3073\u65b9\u306f\u3001\u3042\u308b\u6642\u523b\u306b\u9078\u3070\u308c\u305f\u610f\u898b\u304b\u3089\u4e00\u756a\u8fd1\u3044\u4f4d\u7f6e\u306b\u30ce\u30fc\u30c9\u3092\u3082\u3064\u3088\u3046\u306a\u30af\u30e9\u30b9\u30bf\u30fc\u306e\u4e2d\u304b\u3089\u9078\u3076\u3053\u3068\u3068\u3059\u308b\u3002\u3053\u306e\u3068\u304d\u30af\u30e9\u30b9\u30bf\u30fc\u306e\u5185\u90e8\u3067\u3069\u306e\u610f\u898b\u3092\u9078\u3076\u304b\u306e\u898f\u5247\u306b\u3064\u3044\u3066\u306f\u3001\u305d\u308c\u305e\u308c\u306e\u4eba\u306e\u767a\u8a00\u529b\u3068\u306e\u95a2\u4fc2\u3067\u6c7a\u3081\u308b\u3053\u3068\u306b\u3059\u308b\u3002\u307e\u305f\u3001\u3042\u308b\u6642\u523b\u306b\u610f\u898b\u304c\u9078\u3070\u308c\u305f\u3068\u304d\u3001\u305d\u306e\u610f\u898b\u304b\u3089\u306e\u8ddd\u96e2\u304c\u4e00\u756a\u8fd1\u3044\u30af\u30e9\u30b9\u30bf\u30fc\u304b\u3089\u6b21\u306e\u610f\u898b\u3092\u9078\u3076\u3053\u3068\u306b\u3059\u308b\u3002\u4e00\u5ea6\u610f\u898b\u304c\u9078\u3070\u308c\u305f\u30af\u30e9\u30b9\u30bf\u30fc\u306f\u3082\u3046\u4e00\u5ea6\u9078\u3070\u308c\u308b\u3053\u3068\u306f\u306a\u304f\u3001\u305d\u306e\u305f\u3081\u30af\u30e9\u30b9\u30bf\u30fc\u3092\u4f5c\u308b\u306e\u306b\u5fc5\u8981\u306a\u30d1\u30e9\u30e1\u30fc\u30bf\u306e\u5024\u306b\u3088\u3063\u3066\u306f\u3001\u4f8b3\u3067\u8003\u3048\u305f\u3082\u306e\u3068\u5168\u304f\u540c\u3058\u306b\u306a\u308b\u3053\u3068\u304c\u8003\u3048\u3089\u308c\u308b\u3002"
     ]
    },
    {
     "cell_type": "markdown",
     "metadata": {},
     "source": [
      "\u4ee5\u4e0a\u306e\u8a2d\u5b9a\u3092\u8003\u3048\u3066\u3001\u30b7\u30df\u30e5\u30ec\u30fc\u30b7\u30e7\u30f3\u3092\u884c\u3063\u3066\u307f\u308b\u3002"
     ]
    },
    {
     "cell_type": "code",
     "collapsed": false,
     "input": [
      "%matplotlib inline\n",
      "import matplotlib.pyplot as plt\n",
      "import numpy as np\n",
      "from scipy.spatial.distance import euclidean as euc\n",
      "import collections\n",
      "import operator\n",
      "import random\n",
      "import bisect\n",
      "from scipy.optimize import leastsq\n",
      "from ipython_doctester import test"
     ],
     "language": "python",
     "metadata": {},
     "outputs": [],
     "prompt_number": 1
    },
    {
     "cell_type": "code",
     "collapsed": false,
     "input": [
      "def uniq_list(seq):\n",
      "    seen = set()\n",
      "    seen_add = seen.add\n",
      "    return [x for x in seq if x not in seen and not seen_add(x)]\n",
      "\n",
      "def accumulate(iterable, func=operator.add):\n",
      "    \"\"\"Return running totals\n",
      "    \n",
      "    Usage:\n",
      "    accumulate([1,2,3,4,5]) --> 1 3 6 10 15\n",
      "    accumulate([1,2,3,4,5], operator.mul) --> 1 2 6 24 120\n",
      "    \"\"\"\n",
      "    it = iter(iterable)\n",
      "    total = next(it)\n",
      "    yield total\n",
      "    for element in it:\n",
      "        total = func(total, element)\n",
      "        yield total\n",
      "\n",
      "def weighted_choice(d):\n",
      "    choices, weights = zip(*d)\n",
      "    cumdist = list(accumulate(weights))\n",
      "    x = random.random() * cumdist[-1]\n",
      "    return choices[bisect.bisect(cumdist, x)]\n",
      "\n",
      "class Person:\n",
      "    \n",
      "    def __init__(self, master, id, ideas, w):\n",
      "        \"\"\"Initialize argmunets.\n",
      "        \n",
      "        Keyword arguments:\n",
      "        master    : Master class (call from \"Meeting\")\n",
      "        self.id   : Id for each person [0, 1, ..., N-1]\n",
      "        self.ideas: ideas in space [0,1] \u00d7 [0,1]\n",
      "        self.w    : probability weight for the person to speak\n",
      "        \"\"\"\n",
      "        self.id = id\n",
      "        self.ideas = ideas\n",
      "        self.w = w\n",
      "        # add_ideas : place, tag : (x, y), [person_id, cluster_id]\n",
      "        master.ideas += [[(i1, i2), [self.id, 0, self.w]] for i1, i2 in self.ideas]\n",
      "\n",
      "\n",
      "class Cluster:\n",
      "    \n",
      "    def __init__(self, ideas, r):\n",
      "        \"\"\"make cluster with self.r\n",
      "        \n",
      "        cluster_link:        \n",
      "        \"\"\"\n",
      "        self.ideas = ideas\n",
      "        self.r = r\n",
      "        self.l = 0\n",
      "        self.cluster_link = []\n",
      "        self.clustering()\n",
      "        \n",
      "    def clustering(self):\n",
      "        self.cell_num = int(1./self.r)\n",
      "        lr = 1./self.cell_num\n",
      "        \n",
      "        self.cell = dict() # key: (cellx,celly), value: list of ids\n",
      "        self.rcell = []\n",
      "        for i, idea in enumerate(self.ideas):\n",
      "            cellx = int(idea[0][0]/lr)\n",
      "            celly = int(idea[0][1]/lr)\n",
      "            if self.cell.has_key((cellx, celly)):\n",
      "                self.cell[(cellx, celly)] += [i]\n",
      "            else:\n",
      "                self.cell[(cellx, celly)] = [i]\n",
      "            self.rcell.append((cellx, celly))\n",
      "        num = 1\n",
      "        for i in range(len(self.ideas)):\n",
      "            num += self.find_nearest(i, num)\n",
      "        return self.cluster_link\n",
      "\n",
      "    def find_nearest(self, idea_id, num):\n",
      "        \"\"\"find nearest idea\n",
      "\n",
      "        idea_id: index in self.ideas\n",
      "        \"\"\"\n",
      "        cx, cy = self.rcell[idea_id]\n",
      "        place = self.ideas[idea_id][0]\n",
      "        tmp = []\n",
      "        nearest = []\n",
      "        cid = [num]\n",
      "        for i in uniq_list([max(0, cx - 1), cx, min(cx + 1, self.cell_num - 1)]):\n",
      "            for j in uniq_list([max(0, cy - 1), cy, min(cy + 1, self.cell_num - 1)]):\n",
      "                if self.cell.has_key((i, j)):\n",
      "                    tmp += self.cell[(i, j)]\n",
      "        tmp.remove(idea_id)\n",
      "        if len(tmp) == 0:\n",
      "            self.ideas[idea_id][1][1] = num\n",
      "            return 1\n",
      "        else:\n",
      "            for k in tmp:\n",
      "                if euc(self.ideas[k][0], place) < self.r:\n",
      "                    nearest.append(k)\n",
      "                    prenum = self.ideas[k][1][1]\n",
      "                    if prenum == 0:\n",
      "                        cid.append(num)\n",
      "                        self.cluster_link.append((idea_id, k))\n",
      "                    elif prenum < num:\n",
      "                        cid.append(prenum)\n",
      "                        if not (k, idea_id) in self.cluster_link:\n",
      "                            self.cluster_link.append((idea_id, k))\n",
      "                    else:\n",
      "                        raise KeyboardInterrupt(\"Something wrong. exiting...\")\n",
      "            self.l += len(nearest)\n",
      "            cluster_id = min(cid)\n",
      "            if cluster_id < num:\n",
      "                ans = 0\n",
      "            else:\n",
      "                ans = 1\n",
      "            self.ideas[idea_id][1][1] = cluster_id\n",
      "            for i in nearest:\n",
      "                self.ideas[i][1][1] = cluster_id\n",
      "            cid.remove(num)\n",
      "            if len(cid) != 0:\n",
      "                cid.remove(cluster_id)\n",
      "                if len(cid) != 0:\n",
      "                    for i in cid:\n",
      "                        for x in self.ideas:\n",
      "                            if x[1][1] == i:\n",
      "                                x[1][1] = cluster_id\n",
      "            return ans\n",
      "\n",
      "        \n",
      "class Meeting:\n",
      "    \n",
      "    def __init__(self, K, N, S=20, r=0.06, draw=True):\n",
      "        self.K = K\n",
      "        self.N = N\n",
      "        self.S = S\n",
      "        self.r = r\n",
      "        self.ideas = []\n",
      "        self.minutes = []\n",
      "        self.ave_l = 0\n",
      "        self.draw = draw\n",
      "        \n",
      "    def gather_people(self, ideass=None, weights=None):\n",
      "        \"\"\"Gather participants.\n",
      "        \n",
      "        Keyword arguments:\n",
      "        ideas  : list of ideas for each person\n",
      "               ex) [((0.3,0.1),(0.2,0.5)), ((0.5,0.6))] when N = 2\n",
      "        weights: list of weights for the probability of the person to speak\n",
      "        \"\"\"\n",
      "        if not ideass:\n",
      "            x = np.random.rand(self.N, self.S*2)\n",
      "            ideass = []\n",
      "            for _x in x:\n",
      "                ideass.append([(i,j) for i,j in zip(_x[::2], _x[1::2])])\n",
      "        if not weights:\n",
      "            weights = [1.] * self.N\n",
      "        for i, ideas, w in zip(range(self.N), ideass, weights):\n",
      "            Person(self, i, ideas, w)\n",
      "\n",
      "    def init(self):\n",
      "        self.gather_people()\n",
      "        cluster = Cluster(self.ideas, self.r)\n",
      "        self.cluster_link = cluster.cluster_link\n",
      "        self.ave_l = cluster.l/float(len(self.ideas))\n",
      "        if self.draw:\n",
      "            colors = ['b', 'g', 'r', 'c', 'm', 'y', 'k']\n",
      "            self.fig = plt.figure(figsize=(9, 9))\n",
      "            self.ax = self.fig.add_subplot(1, 1, 1)\n",
      "            self.labels = []\n",
      "            self.s1 = []\n",
      "            for idea, tag in self.ideas:\n",
      "                x = idea[0]\n",
      "                y = idea[1]\n",
      "                s = self.ax.scatter(x, y,\n",
      "                                    c=colors[tag[0]%len(colors)],\n",
      "                                    alpha=0.2)\n",
      "                self.s1.append(s)\n",
      "            data = []\n",
      "            for link in self.cluster_link:\n",
      "                ix = self.ideas[link[0]][0][0]\n",
      "                iy = self.ideas[link[0]][0][1]\n",
      "                jx = self.ideas[link[1]][0][0]\n",
      "                jy = self.ideas[link[1]][0][1]\n",
      "                data += [(ix, jx), (iy, jy), 'k']\n",
      "            self.ax.plot(*data, alpha=0.5)\n",
      "            \n",
      "    def progress(self):\n",
      "        self.init()\n",
      "        preidea = self.ideas[np.random.choice(range(len(self.ideas)))]\n",
      "        self.minutes.append(preidea)\n",
      "        l = list(self.ideas)\n",
      "        self.k = 1\n",
      "\n",
      "        while self.k < self.K + 1:\n",
      "            \n",
      "            # remove ideas in the same cluster\n",
      "            l = [idea for idea in l if idea[1][1] != preidea[1][1]]\n",
      "\n",
      "            # if no one can speak: meeting ends.\n",
      "            if len(l) == 0:\n",
      "                break\n",
      "\n",
      "            # confirm cluster id which is nearest from the preidea\n",
      "            distance = []\n",
      "            for i in l:\n",
      "                distance.append((euc(preidea[0], i[0]), i))\n",
      "            minclusterid = min(distance)[1][1][1]\n",
      "            \n",
      "            # gather ideas in the cluster\n",
      "            tmp = [idea for idea in l if idea[1][1] == minclusterid]\n",
      "            d = dict()\n",
      "            for t in tmp:\n",
      "                d[t[1][0]] = d.get(t[1][0], 0) + t[1][2]\n",
      "            d = [(k, v) for k, v in d.items()]\n",
      "            # chose whose ideas to be chosed from the cluster\n",
      "            whois = weighted_choice(d)\n",
      "            \n",
      "            # gather ideas\n",
      "            who = [idea for idea in tmp if idea[1][0] == whois]\n",
      "            p = [(idea, idea[1][2]) for idea in who]\n",
      "            # chose the next idea from the id is \"whois\"\n",
      "            idea = weighted_choice(p)\n",
      "\n",
      "            self.minutes.append(idea)\n",
      "            preidea = idea\n",
      "            self.callback()\n",
      "            self.k += 1\n",
      "        self.after()\n",
      "\n",
      "    def callback(self):\n",
      "        if self.draw:\n",
      "            ix = self.minutes[-2][0][0]\n",
      "            iy = self.minutes[-2][0][1]\n",
      "            jx = self.minutes[-1][0][0]\n",
      "            jy = self.minutes[-1][0][1]\n",
      "            l1 = self.ax.plot([ix, jx], [iy, jy], color='b', alpha=0.5)\n",
      "            self.ax.text((ix+jx)/2, (iy+jy)/2, self.k)\n",
      "        else:\n",
      "            pass\n",
      "\n",
      "    def after(self):\n",
      "        if self.draw:\n",
      "            plt.show()\n",
      "        else:\n",
      "            pass"
     ],
     "language": "python",
     "metadata": {},
     "outputs": [],
     "prompt_number": 10
    },
    {
     "cell_type": "code",
     "collapsed": false,
     "input": [
      "meeting = Meeting(K=20, N=4, S=20, r=0.07, draw=True)\n",
      "meeting.progress()"
     ],
     "language": "python",
     "metadata": {},
     "outputs": [
      {
       "metadata": {},
       "output_type": "display_data",
       "png": "[encoded data removed]",
       "text": [
        "<matplotlib.figure.Figure at 0x7f1f860ae650>"
       ]
      }
     ],
     "prompt_number": 17
    },
    {
     "cell_type": "code",
     "collapsed": false,
     "input": [
      "print sorted([x[1][1] for x in meeting.minutes])\n",
      "print meeting.cluster_link\n",
      "print meeting.ave_l\n",
      "sorted([(x[1][1], x[1][0], (x[0])) for x in meeting.ideas])"
     ],
     "language": "python",
     "metadata": {},
     "outputs": [
      {
       "output_type": "stream",
       "stream": "stdout",
       "text": [
        "[1, 2, 3, 4, 5, 7, 11, 14, 19, 22, 23, 24, 25, 26]\n",
        "[(0, 56), (0, 83), (0, 26), (0, 36), (0, 47), (0, 18), (1, 30), (1, 53), (1, 63), (1, 69), (2, 97), (3, 71), (3, 6), (3, 24), (4, 46), (4, 82), (4, 113), (5, 32), (5, 17), (5, 88), (6, 15), (6, 71), (6, 24), (7, 117), (8, 62), (8, 84), (8, 13), (9, 33), (9, 86), (10, 22), (10, 108), (11, 60), (11, 90), (12, 105), (12, 101), (13, 102), (13, 110), (13, 19), (13, 40), (14, 35), (14, 79), (14, 81), (14, 67), (14, 43), (14, 99), (15, 71), (15, 37), (16, 111), (16, 35), (16, 79), (16, 81), (16, 55), (16, 116), (16, 45), (16, 67), (16, 93), (17, 77), (17, 66), (17, 88), (18, 83), (18, 26), (18, 36), (18, 77), (19, 102), (19, 110), (19, 40), (19, 85), (19, 104), (20, 23), (20, 86), (21, 59), (21, 75), (22, 42), (23, 86), (25, 85), (25, 104), (25, 37), (25, 54), (25, 103), (26, 33), (26, 56), (26, 83), (26, 36), (26, 47), (27, 34), (27, 49), (27, 107), (28, 89), (28, 87), (28, 100), (28, 115), (29, 41), (29, 119), (30, 53), (30, 63), (31, 109), (31, 48), (32, 88), (33, 86), (33, 56), (33, 36), (33, 47), (33, 118), (34, 115), (34, 49), (34, 107), (35, 112), (35, 79), (35, 81), (35, 67), (35, 93), (35, 43), (35, 99), (36, 56), (36, 83), (36, 47), (36, 118), (37, 71), (37, 54), (37, 103), (38, 51), (39, 92), (39, 96), (39, 114), (40, 110), (40, 85), (40, 104), (41, 109), (43, 79), (43, 81), (43, 67), (43, 99), (44, 76), (44, 64), (45, 79), (45, 81), (45, 116), (45, 67), (45, 93), (46, 61), (46, 82), (46, 113), (47, 56), (47, 83), (47, 118), (48, 70), (49, 105), (49, 107), (50, 51), (52, 78), (52, 101), (53, 99), (53, 63), (54, 103), (55, 111), (55, 116), (55, 67), (55, 93), (56, 83), (57, 90), (57, 89), (58, 94), (58, 106), (59, 75), (60, 90), (62, 92), (62, 114), (62, 84), (63, 69), (64, 76), (64, 87), (66, 88), (67, 79), (67, 81), (67, 116), (67, 93), (68, 111), (72, 95), (73, 111), (76, 87), (78, 101), (79, 81), (79, 93), (79, 99), (81, 112), (81, 116), (81, 93), (82, 113), (84, 92), (84, 114), (85, 104), (87, 89), (91, 108), (91, 102), (91, 110), (92, 96), (92, 114), (93, 111), (93, 116), (94, 106), (98, 106), (100, 115), (102, 110), (105, 109), (105, 107), (111, 116)]\n",
        "3.43333333333\n"
       ]
      },
      {
       "metadata": {},
       "output_type": "pyout",
       "prompt_number": 8,
       "text": [
        "[(1, 0, (0.65107430475647377, 0.14775721295204702)),\n",
        " (1, 0, (0.79134772887322491, 0.10271285109108974)),\n",
        " (1, 0, (0.86821429947182283, 0.098371323785583775)),\n",
        " (1, 0, (0.90750606961057056, 0.20232784156596151)),\n",
        " (1, 0, (0.91039137294528816, 0.29954844691350424)),\n",
        " (1, 1, (0.61479842141681129, 0.040926881362979284)),\n",
        " (1, 1, (0.63725063751664868, 0.041201320937290564)),\n",
        " (1, 1, (0.69873561552282148, 0.1446637397298397)),\n",
        " (1, 1, (0.7768889932943851, 0.13904904759412529)),\n",
        " (1, 1, (0.77949241940807512, 0.10213789387093586)),\n",
        " (1, 1, (0.88009092104694708, 0.33894141255873445)),\n",
        " (1, 2, (0.76240871187483494, 0.09760675349863035)),\n",
        " (1, 2, (0.79101709510252849, 0.18093643522112812)),\n",
        " (1, 3, (0.91625527263828255, 0.13274352592111571)),\n",
        " (1, 3, (0.99222200427181306, 0.2157326093543378)),\n",
        " (1, 4, (0.66156363308351118, 0.12037073143627108)),\n",
        " (1, 4, (0.79879308831636942, 0.084845222033750556)),\n",
        " (1, 4, (0.95354815894539324, 0.27976457341015748)),\n",
        " (1, 5, (0.77317352703928988, 0.2036356844276932)),\n",
        " (2, 0, (0.91967405467605767, 0.73200327678223553)),\n",
        " (2, 0, (0.93033205534183638, 0.60917085609820842)),\n",
        " (2, 0, (0.95874169020259381, 0.91730500882233468)),\n",
        " (2, 1, (0.87292475319037588, 0.68278190994391208)),\n",
        " (2, 1, (0.99056711105974748, 0.84090297644251899)),\n",
        " (2, 2, (0.92164621127567858, 0.73197414054524002)),\n",
        " (2, 2, (0.92177570909933582, 0.54868277299005142)),\n",
        " (2, 2, (0.95486014970353794, 0.8428793266881458)),\n",
        " (2, 2, (0.97772462369839763, 0.63618340745751323)),\n",
        " (2, 3, (0.79732856632841942, 0.53039246550178332)),\n",
        " (2, 3, (0.89810524551134041, 0.66709964033616764)),\n",
        " (2, 3, (0.91649551500532456, 0.44121350890428035)),\n",
        " (2, 3, (0.94154869325068147, 0.94585630317483294)),\n",
        " (2, 3, (0.95221531090767553, 0.64208100546640456)),\n",
        " (2, 3, (0.95839772260764111, 0.89824167722824411)),\n",
        " (2, 4, (0.87979624774593712, 0.6478779479897453)),\n",
        " (2, 4, (0.91471632339411624, 0.61196564496122807)),\n",
        " (2, 4, (0.91663216515546231, 0.75253756380022208)),\n",
        " (2, 5, (0.79335096015302409, 0.69378500264867415)),\n",
        " (2, 5, (0.88854477100003748, 0.5230942148014055)),\n",
        " (2, 5, (0.91822958934498333, 0.5572696947480752)),\n",
        " (3, 0, (0.027164919221304595, 0.4798195334141796)),\n",
        " (3, 4, (0.040710700556468526, 0.540169018105643)),\n",
        " (4, 0, (0.17695606120774088, 0.91005502740065325)),\n",
        " (4, 0, (0.32181444517078506, 0.78070204415583744)),\n",
        " (4, 0, (0.37487318659640101, 0.84031125109521954)),\n",
        " (4, 0, (0.40990565385337663, 0.90236592799031712)),\n",
        " (4, 0, (0.57841448839286291, 0.83928808519644815)),\n",
        " (4, 0, (0.61083136168044549, 0.78997713468103181)),\n",
        " (4, 0, (0.65801689101686145, 0.76753843426656043)),\n",
        " (4, 1, (0.11176916889828004, 0.90061184859254118)),\n",
        " (4, 1, (0.28486862693077264, 0.59523451298946817)),\n",
        " (4, 1, (0.53903016049043684, 0.99404350354890569)),\n",
        " (4, 1, (0.58245387427555273, 0.90505037466203475)),\n",
        " (4, 1, (0.68418914583480961, 0.75737524001287038)),\n",
        " (4, 2, (0.10818771975614616, 0.99868189090579385)),\n",
        " (4, 2, (0.42534639348023007, 0.92571062975498808)),\n",
        " (4, 2, (0.58546920336266628, 0.95750703764993228)),\n",
        " (4, 3, (0.35643332538050987, 0.71383100153494783)),\n",
        " (4, 3, (0.59747558597373684, 0.82158760286385657)),\n",
        " (4, 4, (0.22016744171593117, 0.66151300634914545)),\n",
        " (4, 4, (0.27161462422873495, 0.67381359032459442)),\n",
        " (4, 4, (0.29494316915892815, 0.90426131307534385)),\n",
        " (4, 4, (0.34016632797741642, 0.7283770667412135)),\n",
        " (4, 4, (0.48471373875831181, 0.95340149341259783)),\n",
        " (4, 5, (0.24278197512170063, 0.96137025715896551)),\n",
        " (4, 5, (0.32256191257692157, 0.8877412526117916)),\n",
        " (4, 5, (0.3338086819543431, 0.67636567787125812)),\n",
        " (4, 5, (0.34638153062209598, 0.886188019165977)),\n",
        " (4, 5, (0.45260131412282179, 0.95218993664965823)),\n",
        " (4, 5, (0.62306841011710545, 0.94248141532174012)),\n",
        " (5, 0, (0.0089038356154544918, 0.77954047677416249)),\n",
        " (5, 2, (0.015859737757208947, 0.75885679872838918)),\n",
        " (5, 3, (0.015327919167085424, 0.67720201280434167)),\n",
        " (5, 4, (0.037022636545749665, 0.79973642310510829)),\n",
        " (5, 5, (0.017936921240114923, 0.82223415929852772)),\n",
        " (7, 0, (0.15710835176713911, 0.79836136877048958)),\n",
        " (7, 5, (0.15538565052829567, 0.77694926220783622)),\n",
        " (11, 0, (0.35295132488936043, 0.028394495410534626)),\n",
        " (11, 0, (0.62414146481886856, 0.487834350891723)),\n",
        " (11, 1, (0.39457691763776381, 0.36602090388550612)),\n",
        " (11, 1, (0.46808149145758882, 0.20048092804762274)),\n",
        " (11, 1, (0.50364996474996337, 0.46757774541777541)),\n",
        " (11, 1, (0.60866677330734775, 0.29305807110601401)),\n",
        " (11, 1, (0.62159853938966603, 0.29405269684003454)),\n",
        " (11, 2, (0.30806814772032065, 0.2143348996639266)),\n",
        " (11, 2, (0.4652245431409171, 0.06604102986636351)),\n",
        " (11, 2, (0.48272397196314731, 0.34238194891123064)),\n",
        " (11, 2, (0.5247027034926135, 0.53847435090879758)),\n",
        " (11, 2, (0.61625462635204376, 0.31187056352638931)),\n",
        " (11, 2, (0.69386705550977812, 0.5963313544883635)),\n",
        " (11, 3, (0.3238275315166701, 0.2145310175326246)),\n",
        " (11, 3, (0.35012943709667033, 0.064503974437133738)),\n",
        " (11, 3, (0.35559432712753458, 0.17827992372916257)),\n",
        " (11, 3, (0.51865633443278092, 0.60406395181451722)),\n",
        " (11, 3, (0.6892179304316427, 0.57945757843944823)),\n",
        " (11, 4, (0.41467314782940812, 0.20052908604340014)),\n",
        " (11, 4, (0.42134445013219812, 0.037525002841151234)),\n",
        " (11, 4, (0.46152062521157156, 0.1310882280885961)),\n",
        " (11, 5, (0.40297389216268198, 0.40433803776511279)),\n",
        " (11, 5, (0.52045247197438138, 0.37160709607663855)),\n",
        " (11, 5, (0.52086784474297221, 0.24501394623314854)),\n",
        " (11, 5, (0.55000382947025439, 0.2146048600481566)),\n",
        " (11, 5, (0.59168980309936037, 0.40360252133036789)),\n",
        " (11, 5, (0.65332080096452572, 0.54080349925987314)),\n",
        " (11, 5, (0.66144864273582415, 0.3449915744905464)),\n",
        " (14, 1, (0.72081212448213405, 0.44871557567293319)),\n",
        " (14, 2, (0.75163488621972041, 0.39655971264717937)),\n",
        " (14, 3, (0.71952653499190655, 0.44620473460732502)),\n",
        " (19, 1, (0.26960739338058637, 0.46287317118819615)),\n",
        " (19, 2, (0.15246007759607083, 0.42544777900386699)),\n",
        " (19, 2, (0.22763132108448858, 0.44942192565270256)),\n",
        " (22, 2, (0.081321675592065934, 0.19165669946490771)),\n",
        " (22, 4, (0.11837463609037535, 0.1839878212049767)),\n",
        " (22, 4, (0.20165865544943684, 0.25509953455688505)),\n",
        " (22, 5, (0.128757730014887, 0.24908732478912365)),\n",
        " (23, 3, (0.028749376908623336, 0.28668013861604125)),\n",
        " (24, 3, (0.012243448138270829, 0.056950711888894445)),\n",
        " (24, 4, (0.094407884291403676, 0.083080803969771355)),\n",
        " (25, 3, (0.57097350865734886, 0.69525139083712406)),\n",
        " (26, 4, (0.95270548644812403, 0.026525850382814964))]"
       ]
      }
     ],
     "prompt_number": 8
    },
    {
     "cell_type": "markdown",
     "metadata": {},
     "source": [
      "\u4e0b\u306e\u3084\u308a\u65b9\u3067\u306f\u30af\u30e9\u30b9\u30bf\u30fc\u306e\u6570\u3092\u3061\u3083\u3093\u3068\u6570\u3048\u305f\u3053\u3068\u306b\u306a\u3089\u306a\u3044\u3002(\u30af\u30e9\u30b9\u30bf\u30fc\u540c\u58eb\u306e\u878d\u5408\u3092\u8003\u3048\u308b\u3053\u3068\u304c\u3067\u304d\u306a\u3044)"
     ]
    },
    {
     "cell_type": "code",
     "collapsed": false,
     "input": [
      "max([x[1][1] for x in meeting.ideas])"
     ],
     "language": "python",
     "metadata": {},
     "outputs": [
      {
       "metadata": {},
       "output_type": "pyout",
       "prompt_number": 5,
       "text": [
        "26"
       ]
      }
     ],
     "prompt_number": 5
    },
    {
     "cell_type": "markdown",
     "metadata": {},
     "source": [
      "\u6b63\u3057\u3044\u6570\u3048\u65b9"
     ]
    },
    {
     "cell_type": "code",
     "collapsed": false,
     "input": [
      "len(uniq_list([x[1][1] for x in meeting.ideas]))"
     ],
     "language": "python",
     "metadata": {},
     "outputs": [
      {
       "metadata": {},
       "output_type": "pyout",
       "prompt_number": 6,
       "text": [
        "16"
       ]
      }
     ],
     "prompt_number": 6
    },
    {
     "cell_type": "markdown",
     "metadata": {},
     "source": [
      "\u95be\u5024$r$\u3092\u5909\u3048\u305f\u3068\u304d\u306b\u610f\u898b\u306e\u7dcf\u6570\u306b\u5bfe\u3059\u308b\u30af\u30e9\u30b9\u30bf\u30fc\u306e\u6570\u3068\u306e\u95a2\u4fc2\u3002\u6a2a\u8ef8$r$\u3001\u7e26\u8ef8$1- (\\text{\u30af\u30e9\u30b9\u30bf\u30fc\u306e\u6570})/(\\text{\u610f\u898b\u306e\u7dcf\u6570})$\u306e\u901a\u5e38\u306e\u30d7\u30ed\u30c3\u30c8(\u4e0a\u6bb5)\u3068\u4e21\u5bfe\u6570\u30d7\u30ed\u30c3\u30c8(\u4e0b\u6bb5)\u3002"
     ]
    },
    {
     "cell_type": "code",
     "collapsed": false,
     "input": [
      "trial = 100\n",
      "\n",
      "r = np.logspace(-2, np.log10(0.2), num=50)\n",
      "phi1 = []\n",
      "for _r in r:\n",
      "    _phi = 0.\n",
      "    for t in range(trial):\n",
      "        meeting = Meeting(K=50, N=6, r=_r, draw=False)\n",
      "        meeting.init()\n",
      "        _phi += len(uniq_list([x[1][1] for x in meeting.ideas]))/float(len(meeting.ideas))\n",
      "    phi1.append(1 - _phi/trial)"
     ],
     "language": "python",
     "metadata": {},
     "outputs": [],
     "prompt_number": 137
    },
    {
     "cell_type": "code",
     "collapsed": false,
     "input": [
      "def myplot1(xdata, ydata, xfit=np.array([]), yfit=np.array([]), param=None):\n",
      "    fig = plt.figure(figsize=(8, 12))\n",
      "    ax1 = fig.add_subplot(211)\n",
      "\n",
      "    ax1.plot(xdata, ydata)\n",
      "    if len(xfit):\n",
      "        ax1.plot(xfit, yfit,\n",
      "                 label=r'$a = %f, b = %f$' % (param[0], param[1]))\n",
      "        ax1.legend(loc='best')\n",
      "    ax1.set_xlabel(r'$r$')\n",
      "    ax1.set_ylabel(r'$\\phi$')\n",
      "    ax1.set_xscale('linear')\n",
      "    ax1.set_yscale('linear')\n",
      "    \n",
      "    ax2 = fig.add_subplot(212)\n",
      "    ax2.plot(xdata, ydata)\n",
      "    if len(xfit):\n",
      "        ax2.plot(xfit, yfit,\n",
      "                 label=r'$a = %f, b = %f$' % (param[0], param[1]))\n",
      "        ax2.legend(loc='best')\n",
      "    ax2.set_xlabel(r'$r$')\n",
      "    ax2.set_ylabel(r'$\\phi$')\n",
      "    ax2.set_xscale('log')\n",
      "    ax2.set_yscale('log')\n",
      "    plt.show()"
     ],
     "language": "python",
     "metadata": {},
     "outputs": [],
     "prompt_number": 121
    },
    {
     "cell_type": "code",
     "collapsed": false,
     "input": [
      "myplot1(r, phi1)"
     ],
     "language": "python",
     "metadata": {},
     "outputs": [
      {
       "metadata": {},
       "output_type": "display_data",
       "png": "[encoded data removed]",
       "text": [
        "<matplotlib.figure.Figure at 0x7f140120fc50>"
       ]
      }
     ],
     "prompt_number": 143
    },
    {
     "cell_type": "markdown",
     "metadata": {},
     "source": [
      "\u3053\u306e\u30b0\u30e9\u30d5\u304b\u3089\u3001\u30af\u30e9\u30b9\u30bf\u30fc\u306e\u4f5c\u308a\u65b9\u306b\u95a2\u3059\u308b\u95be\u5024$r$\u306b\u95a2\u3057\u3066\u30af\u30e9\u30b9\u30bf\u30fc\u306e\u6570\u3068\u306e\u95a2\u4fc2\u3092\u898b\u308b\u3053\u3068\u304c\u3067\u304d\u308b\u3002$r$\u304c\u5927\u304d\u304f\u306a\u308b\u307b\u3069\u30af\u30e9\u30b9\u30bf\u30fc\u304c\u3067\u304d\u3084\u3059\u304f\u3001\u307e\u305f\u30af\u30e9\u30b9\u30bf\u30fc\u540c\u58eb\u306e\u878d\u5408\u3082\u8d77\u3053\u308a\u3084\u3059\u3044\u305f\u3081\u3001$r=0.15$\u307b\u3069\u3067\u7cfb\u306e\u4e2d\u306b\u3042\u308b\u30af\u30e9\u30b9\u30bf\u30fc\u306e\u6570\u306f1\u3068\u306a\u3063\u3066\u3001\u3059\u3079\u3066\u304c\u540c\u3058\u30af\u30e9\u30b9\u30bf\u30fc\u5185\u306b\u6240\u5c5e\u3059\u308b\u3053\u3068\u306b\u306a\u308b\u3002"
     ]
    },
    {
     "cell_type": "markdown",
     "metadata": {},
     "source": [
      "\u4e21\u5909\u6570\u3092\u5bfe\u6570\u306b\u3057\u305f\u72b6\u614b\u3067\u76f4\u7dda\u3068\u3057\u3066\u30d5\u30a3\u30c3\u30c8\u3057\u3066\u307f\u308b\u3002\u5f97\u3089\u308c\u305f\u30d1\u30e9\u30e1\u30fc\u30bf\u306b\u3088\u308b\u30d5\u30a3\u30c3\u30c6\u30a3\u30f3\u30b0\u95a2\u6570\u306e\u30d7\u30ed\u30c3\u30c8\u306f\u3001\u5143\u306e\u72b6\u614b\u306b\u623b\u3057\u3066\u304b\u3089\u884c\u3046\u3002\u5f8c\u306b\u793a\u3059\u76f4\u63a5\u3079\u304d\u95a2\u6570\u3068\u3057\u3066\u6c42\u3081\u305f\u5834\u5408\u306b\u6bd4\u3079\u3066\u3001$r$\u306e\u5c0f\u3055\u3044\u9818\u57df\u3067\u306e\u76f4\u7dda\u306e\u50be\u304d\u304c\u3088\u304f\u5408\u3063\u3066\u3044\u308b\u3088\u3046\u306b\u898b\u3048\u308b\u3002"
     ]
    },
    {
     "cell_type": "code",
     "collapsed": false,
     "input": [
      "a = 1.5\n",
      "b = 0.\n",
      "param = [a, b]\n",
      "rmin, rmax = 0., 0.07\n",
      "\n",
      "def fit_func(parameter, x):\n",
      "    a = parameter[0]\n",
      "    b = parameter[1]\n",
      "    return a*np.log10(x) + b\n",
      "\n",
      "def fit(parameter, x, y):\n",
      "    return np.log10(y) - fit_func(parameter, x)\n",
      "\n",
      "i = 0\n",
      "while r[i] < rmin:\n",
      "    i += 1\n",
      "imin, imax = i, i\n",
      "while r[i] < rmax:\n",
      "    i += 1\n",
      "imax = i - 1\n",
      "\n",
      "res = leastsq(fit, param, args=(r[imin:imax], phi1[imin:imax]))\n",
      "print u\"\u50be\u304d: \" + str(res[0][0])\n",
      "print u\"\u5207\u7247: \" + str(res[0][1])\n",
      "R1 = np.power(10, fit_func(res[0], r[imin:imax]))\n",
      "\n",
      "myplot1(r, phi1, r[imin:imax], R1, res[0])"
     ],
     "language": "python",
     "metadata": {},
     "outputs": [
      {
       "output_type": "stream",
       "stream": "stdout",
       "text": [
        "\u50be\u304d: 1.84127003364\n",
        "\u5207\u7247: 1.97632550478\n"
       ]
      },
      {
       "metadata": {},
       "output_type": "display_data",
       "png": "[encoded data removed]",
       "text": [
        "<matplotlib.figure.Figure at 0x7f14013173d0>"
       ]
      }
     ],
     "prompt_number": 144
    },
    {
     "cell_type": "markdown",
     "metadata": {},
     "source": [
      "\u4e21\u5909\u6570\u3092\u305d\u306e\u307e\u307e\u7528\u3044\u3001\u30d9\u30ad\u95a2\u6570\u3067\u6700\u5c0f2\u4e57\u6cd5\u3067\u30d5\u30a3\u30c3\u30c6\u30a3\u30f3\u30b0\u3057\u305f\u5834\u5408\u3002\u5148\u306e\u5834\u5408\u306b\u6bd4\u3079\u3066\u3001$r$\u306e\u5c0f\u3055\u3044\u9818\u57df\u3067\u76f4\u7dda\u3068\u30c7\u30fc\u30bf\u306e\u9593\u306e\u5dee\u306f\u5927\u304d\u304f\u898b\u3048\u308b\u3002\u3053\u308c\u306f$r$\u306e\u5c0f\u3055\u3044\u6642\u306b\u306f\u305d\u306e\u5dee\u3082\u5c0f\u3055\u304f\u306a\u3063\u3066\u3044\u308b\u305f\u3081\u306b\u3001\u30a8\u30e9\u30fc\u306e\u5024\u3068\u3057\u3066\u306f\u5c0f\u3055\u304f\u306a\u3063\u3066\u3044\u308b\u305f\u3081\u306b\u8d77\u3053\u3063\u3066\u3044\u308b\u3053\u3068\u3060\u3068\u601d\u308f\u308c\u308b\u3002"
     ]
    },
    {
     "cell_type": "code",
     "collapsed": false,
     "input": [
      "a = 1.5\n",
      "b = 0.\n",
      "param = [a, b]\n",
      "rmin, rmax = 0., 0.07\n",
      "\n",
      "def fit_func(parameter, x):\n",
      "    a = parameter[0]\n",
      "    b = parameter[1]\n",
      "    return np.power(x, a)*np.power(10, b)\n",
      "\n",
      "def fit(parameter, x, y):\n",
      "    return y - fit_func(parameter, x)\n",
      "\n",
      "i = 0\n",
      "while r[i] < rmin:\n",
      "    i += 1\n",
      "imin, imax = i, i\n",
      "while r[i] < rmax:\n",
      "    i += 1\n",
      "imax = i - 1\n",
      "\n",
      "res = leastsq(fit, param, args=(r[imin:imax], phi1[imin:imax]))\n",
      "print u\"\u50be\u304d: \" + str(res[0][0])\n",
      "print u\"\u5207\u7247: \" + str(res[0][1])\n",
      "R2 = fit_func(res[0], r[imin:imax])\n",
      "\n",
      "myplot1(r, phi1, r[imin:imax], R2, res[0])"
     ],
     "language": "python",
     "metadata": {},
     "outputs": [
      {
       "output_type": "stream",
       "stream": "stdout",
       "text": [
        "\u50be\u304d: 1.71422068434\n",
        "\u5207\u7247: 1.79720419151\n"
       ]
      },
      {
       "metadata": {},
       "output_type": "display_data",
       "png": "[encoded data removed]",
       "text": [
        "<matplotlib.figure.Figure at 0x7f140120f210>"
       ]
      }
     ],
     "prompt_number": 145
    },
    {
     "cell_type": "markdown",
     "metadata": {},
     "source": [
      "S\u5b57\u578b\u306e\u66f2\u7dda\u3067\u3042\u308b\u306e\u3067\u3001\n",
      "\n",
      "$$\\rho (L) = \\frac{2}{\\omega}L \\exp \\left[ -  \\left( \\frac{L}{\\omega} \\right)^{2} \\right]$$\n",
      "\n",
      "\u3092\u53c2\u8003\u306b\u3057\u3066\u3001\u3053\u306e\u95a2\u6570\u7cfb\u3067\u30d5\u30a3\u30c3\u30c8\u3057\u3066\u307f\u308b\u3002\u3053\u306e\u5834\u5408\u3001$r$\u306e\u6bd4\u8f03\u7684\u5927\u304d\u3044\u9818\u57df\u306e\u30c7\u30fc\u30bf\u3092\u542b\u3093\u3067\u3082\u3088\u3044\u3002\n",
      "\n",
      "$$\\phi (r) = 1 - \\exp \\left[ -  \\left( \\frac{r}{\\omega} \\right)^{2} \\right]$$\n",
      "\n",
      "\u3068\u3057\u3066\u30d1\u30e9\u30e1\u30fc\u30bf$\\omega$\u306b\u95a2\u3057\u3066\u6700\u5c0f2\u4e57\u6cd5\u3067\u30d5\u30a3\u30c3\u30c6\u30a3\u30f3\u30b0\u3092\u884c\u3046\u3002"
     ]
    },
    {
     "cell_type": "code",
     "collapsed": false,
     "input": [
      "omega = 0.06\n",
      "param = [omega,]\n",
      "rmin, rmax = 0.01, 0.2\n",
      "\n",
      "def fit_func(parameter, x):\n",
      "    a = parameter[0]\n",
      "    return 1 - np.exp(-(x/a)**2)\n",
      "\n",
      "def fit(parameter, x, y):\n",
      "    return y - fit_func(parameter, x)\n",
      "\n",
      "i = 0\n",
      "while r[i] < rmin:\n",
      "    i += 1\n",
      "imin, imax = i, i\n",
      "while r[i] < rmax:\n",
      "    i += 1\n",
      "imax = i - 1\n",
      "\n",
      "res = leastsq(fit, param, args=(r[imin:imax], phi1[imin:imax]))\n",
      "print u\"omega: \" + str(res[0][0])\n",
      "R3 = fit_func(res[0], r[imin:imax])\n",
      "\n",
      "myplot1(r, phi1, r[imin:imax], R3, (res[0], 0.)) # b = 0. is dummy"
     ],
     "language": "python",
     "metadata": {},
     "outputs": [
      {
       "output_type": "stream",
       "stream": "stdout",
       "text": [
        "omega: 0.0715514251038\n"
       ]
      },
      {
       "metadata": {},
       "output_type": "display_data",
       "png": "[encoded data removed]",
       "text": [
        "<matplotlib.figure.Figure at 0x7f1400c3bf10>"
       ]
      }
     ],
     "prompt_number": 181
    },
    {
     "cell_type": "markdown",
     "metadata": {},
     "source": [
      "\u307e\u305f\u3001\u30b7\u30b0\u30e2\u30a4\u30c9\u95a2\u6570\u306e\u4e00\u822c\u5f62\u3068\u3057\u3066\u306e\u30ed\u30b8\u30b9\u30c6\u30a3\u30c3\u30af\u95a2\u6570\n",
      "\n",
      "$$f(x) = \\frac{K}{1+\\exp \\left[ rK(x_{0}-x)\\right]}$$\n",
      "\n",
      "\u306b\u95a2\u3057\u3066\u3082\u30d5\u30a3\u30c3\u30c6\u30a3\u30f3\u30b0\u3057\u3066\u307f\u308b\u3002"
     ]
    },
    {
     "cell_type": "code",
     "collapsed": false,
     "input": [
      "K = 1.\n",
      "_r = 1.\n",
      "x0 = 0.\n",
      "param = [K, _r, x0]\n",
      "rmin, rmax = 0.01, 0.2\n",
      "\n",
      "def fit_func(parameter, x):\n",
      "    K = parameter[0]\n",
      "    _r = parameter[1]\n",
      "    x0 = parameter[2]\n",
      "    return K/(1+np.exp(_r*K*(x0-x)))\n",
      "\n",
      "def fit(parameter, x, y):\n",
      "    return y - fit_func(parameter, x)\n",
      "\n",
      "i = 0\n",
      "while r[i] < rmin:\n",
      "    i += 1\n",
      "imin, imax = i, i\n",
      "while r[i] < rmax:\n",
      "    i += 1\n",
      "imax = i - 1\n",
      "\n",
      "res = leastsq(fit, param, args=(r[imin:imax], phi1[imin:imax]))\n",
      "print u\"K: \" + str(res[0][0])\n",
      "print u\"r: \" + str(res[0][1])\n",
      "print u\"x0: \" + str(res[0][2])\n",
      "R4 = fit_func(res[0], r[imin:imax])\n",
      "\n",
      "myplot1(r, phi1, r[imin:imax], R4, (res[0][0], res[0][1])) # b = 0. is dummy"
     ],
     "language": "python",
     "metadata": {},
     "outputs": [
      {
       "output_type": "stream",
       "stream": "stdout",
       "text": [
        "K: 0.982924269275\n",
        "r: 58.3481303824\n",
        "x0: 0.0602300854866\n"
       ]
      },
      {
       "metadata": {},
       "output_type": "display_data",
       "png": "[encoded data removed]",
       "text": [
        "<matplotlib.figure.Figure at 0x7f140102fa90>"
       ]
      }
     ],
     "prompt_number": 182
    },
    {
     "cell_type": "markdown",
     "metadata": {},
     "source": [
      "$r$\u306e\u5c0f\u3055\u3044\u9818\u57df\u3067\u306f\u30d5\u30a3\u30c3\u30c8\u306f\u826f\u304f\u306a\u3044\u3088\u3046\u306b\u898b\u3048\u308b\u3002"
     ]
    },
    {
     "cell_type": "heading",
     "level": 3,
     "metadata": {},
     "source": [
      "\u30d1\u30fc\u30b3\u30ec\u30fc\u30b7\u30e7\u30f3\u95be\u5024\u3067\u306e\u632f\u308b\u821e\u3044"
     ]
    },
    {
     "cell_type": "markdown",
     "metadata": {},
     "source": [
      "\u307e\u305f\u3001\u30d1\u30fc\u30b3\u30ec\u30fc\u30b7\u30e7\u30f3\u3068\u3057\u3066\u3053\u306e\u73fe\u8c61\u3092\u3068\u3089\u3048\u305f\u3068\u304d\u3001\u3042\u308b$r$\u306e\u5024\u306b\u304a\u3044\u3066\u7cfb\u306e\u30b5\u30a4\u30ba\u3068\u540c\u7a0b\u5ea6\u306e\u5927\u304d\u3055\u306e\u30af\u30e9\u30b9\u30bf\u30fc\u304c\u51fa\u73fe\u3059\u308b\u3088\u3046\u306b\u306a\u308a\u3001\u3053\u306e\u3068\u304d\u306e\u30af\u30e9\u30b9\u30bf\u30fc\u306e\u30b5\u30a4\u30ba\u5206\u5e03\u3092\u6c42\u3081\u308c\u3070\u3001\u305d\u308c\u306f\u3079\u304d\u5206\u5e03\u306b\u5f93\u3046\u3053\u3068\u304c\u4e88\u60f3\u3055\u308c\u308b\u3002\n",
      "\n",
      "\u4ee5\u4e0b\u306e\u30bb\u30eb\u3067\u305d\u306e\u3053\u3068\u3092\u8abf\u3079\u3066\u307f\u308b\u3002"
     ]
    },
    {
     "cell_type": "code",
     "collapsed": false,
     "input": [
      "trial = 1000\n",
      "_r = 0.07\n",
      "_phi = collections.Counter()\n",
      "for i in range(trial):\n",
      "    meeting = Meeting(K=50, N=6, r=_r, draw=False)\n",
      "    meeting.init()\n",
      "    _phi = _phi + collections.Counter([x[1][1] for x in meeting.ideas])\n",
      "phi = [(k, v/float(trial)) for k, v in dict(_phi).items()]\n",
      "print phi"
     ],
     "language": "python",
     "metadata": {},
     "outputs": [
      {
       "output_type": "stream",
       "stream": "stdout",
       "text": [
        "[(1, 5.262), (2, 4.921), (3, 4.607), (4, 4.615), (5, 4.118), (6, 4.118), (7, 4.061), (8, 3.678), (9, 3.718), (10, 3.555), (11, 3.392), (12, 3.334), (13, 3.172), (14, 2.841), (15, 2.959), (16, 2.902), (17, 2.723), (18, 2.633), (19, 2.573), (20, 2.461), (21, 2.429), (22, 2.313), (23, 2.184), (24, 2.295), (25, 2.084), (26, 2.034), (27, 2.091), (28, 1.971), (29, 1.801), (30, 1.872), (31, 1.732), (32, 1.684), (33, 1.662), (34, 1.592), (35, 1.543), (36, 1.567), (37, 1.533), (38, 1.455), (39, 1.436), (40, 1.362), (41, 1.357), (42, 1.313), (43, 1.249), (44, 1.156), (45, 1.117), (46, 1.02), (47, 0.908), (48, 0.777), (49, 0.667), (50, 0.559), (51, 0.472), (52, 0.349), (53, 0.241), (54, 0.19), (55, 0.126), (56, 0.077), (57, 0.056), (58, 0.037), (59, 0.019), (60, 0.013), (61, 0.005), (62, 0.003), (63, 0.001), (64, 0.001), (65, 0.001), (66, 0.001), (67, 0.001), (68, 0.001)]\n"
       ]
      }
     ],
     "prompt_number": 178
    },
    {
     "cell_type": "code",
     "collapsed": false,
     "input": [
      "fig = plt.figure(figsize=(8, 12))\n",
      "ax = fig.add_subplot(211)\n",
      "ax.scatter([x[0] for x in phi], [x[1] for x in phi])\n",
      "ax.set_xlabel(r'$l$')\n",
      "ax.set_ylabel(r'$\\phi$')\n",
      "ax.set_xscale('linear')\n",
      "ax.set_yscale('linear')\n",
      "ax = fig.add_subplot(212)\n",
      "ax.scatter([x[0] for x in phi], [x[1] for x in phi])\n",
      "ax.set_xlabel(r'$l$')\n",
      "ax.set_ylabel(r'$\\phi$')\n",
      "ax.set_xscale('log')\n",
      "ax.set_yscale('log')\n",
      "plt.show()"
     ],
     "language": "python",
     "metadata": {},
     "outputs": [
      {
       "metadata": {},
       "output_type": "display_data",
       "png": "[encoded data removed]",
       "text": [
        "<matplotlib.figure.Figure at 0x7f14012b4050>"
       ]
      }
     ],
     "prompt_number": 179
    },
    {
     "cell_type": "markdown",
     "metadata": {},
     "source": [
      "\u95be\u5024$r$\u3092\u5909\u3048\u305f\u3068\u304d\u306e\u6700\u5927\u30af\u30e9\u30b9\u30bf\u30fc\u306e\u30b5\u30a4\u30ba\u3068\u5168\u8981\u7d20\u6570\u3068\u306e\u9593\u306e\u95a2\u4fc2\u3002\u30af\u30e9\u30b9\u30bf\u30fc\u30b5\u30a4\u30ba\u3068\u306f\u3053\u3053\u3067\u306f\u540c\u3058\u30af\u30e9\u30b9\u30bf\u30fc\u5185\u306b\u542b\u307e\u308c\u308b\u8981\u7d20\u306e\u6570\u3002\n",
      "\n",
      "\u6a2a\u8ef8$r$\u3001\u7e26\u8ef8$(\\text{\u6700\u5927\u30af\u30e9\u30b9\u30bf\u30fc\u30b5\u30a4\u30ba})/(\\text{\u5168\u8981\u7d20\u6570})$"
     ]
    },
    {
     "cell_type": "code",
     "collapsed": false,
     "input": [
      "print collections.Counter([x[1][1] for x in meeting.ideas])\n",
      "max([v for v in collections.Counter([x[1][1] for x in meeting.ideas]).values()])/float(len(meeting.ideas))"
     ],
     "language": "python",
     "metadata": {},
     "outputs": [
      {
       "output_type": "stream",
       "stream": "stdout",
       "text": [
        "Counter({12: 6, 15: 6, 27: 6, 2: 5, 19: 5, 25: 4, 8: 3, 10: 3, 16: 3, 20: 3, 26: 3, 30: 3, 38: 3, 1: 2, 3: 2, 5: 2, 6: 2, 7: 2, 11: 2, 18: 2, 32: 2, 37: 2, 42: 2, 47: 2, 50: 2, 51: 2, 4: 1, 9: 1, 13: 1, 14: 1, 17: 1, 21: 1, 22: 1, 23: 1, 28: 1, 29: 1, 31: 1, 33: 1, 34: 1, 35: 1, 36: 1, 39: 1, 40: 1, 41: 1, 43: 1, 44: 1, 45: 1, 46: 1, 48: 1, 49: 1, 52: 1, 53: 1, 54: 1, 55: 1, 56: 1, 57: 1, 58: 1, 59: 1, 60: 1, 61: 1, 62: 1, 63: 1, 64: 1, 65: 1, 66: 1, 67: 1, 68: 1})\n"
       ]
      },
      {
       "metadata": {},
       "output_type": "pyout",
       "prompt_number": 9,
       "text": [
        "0.05"
       ]
      }
     ],
     "prompt_number": 9
    },
    {
     "cell_type": "code",
     "collapsed": false,
     "input": [
      "trial = 100\n",
      "\n",
      "r = np.linspace(0.01, 0.2, num=50)\n",
      "phi2 = []\n",
      "for _r in r:\n",
      "    _phi = 0.\n",
      "    for t in range(trial):\n",
      "        meeting = Meeting(K=50, N=6, r=_r, draw=False)\n",
      "        meeting.init()\n",
      "        _phi += max([v for v in\n",
      "                     collections.Counter([x[1][1] for x in meeting.ideas]).values()]\n",
      "                    ) \\\n",
      "                / \\\n",
      "                float(len(meeting.ideas))\n",
      "    phi2.append(_phi/trial)"
     ],
     "language": "python",
     "metadata": {},
     "outputs": [],
     "prompt_number": 12
    },
    {
     "cell_type": "code",
     "collapsed": false,
     "input": [
      "def myplot2(xdata, ydata, xfit=np.array([]), yfit=np.array([]), param=None):\n",
      "    fig = plt.figure(figsize=(8, 12))\n",
      "    ax1 = fig.add_subplot(211)\n",
      "\n",
      "    ax1.plot(xdata, ydata)\n",
      "    if len(xfit):\n",
      "        ax1.plot(xfit, yfit,\n",
      "                 label=r'$a = %f, b = %f$' % (param[0], param[1]))\n",
      "        ax1.legend(loc='best')\n",
      "    ax1.set_xlabel(r'$r$')\n",
      "    ax1.set_ylabel(r'$\\phi$')\n",
      "    ax1.set_xscale('linear')\n",
      "    ax1.set_yscale('linear')\n",
      "    \n",
      "    ax2 = fig.add_subplot(212)\n",
      "    ax2.plot(xdata, ydata)\n",
      "    if len(xfit):\n",
      "        ax2.plot(xfit, yfit,\n",
      "                 label=r'$a = %f, b = %f$' % (param[0], param[1]))\n",
      "        ax2.legend(loc='best')\n",
      "    ax2.set_xlabel(r'$r$')\n",
      "    ax2.set_ylabel(r'$\\phi$')\n",
      "    ax2.set_xscale('linear')\n",
      "    ax2.set_yscale('log')\n",
      "    plt.show()"
     ],
     "language": "python",
     "metadata": {},
     "outputs": [],
     "prompt_number": 13
    },
    {
     "cell_type": "code",
     "collapsed": false,
     "input": [
      "myplot2(r, phi2)"
     ],
     "language": "python",
     "metadata": {},
     "outputs": [
      {
       "metadata": {},
       "output_type": "display_data",
       "png": "[encoded data removed]",
       "text": [
        "<matplotlib.figure.Figure at 0x7f1400cba990>"
       ]
      }
     ],
     "prompt_number": 209
    },
    {
     "cell_type": "markdown",
     "metadata": {},
     "source": [
      "\u6a2a\u8ef8r\u3001\u7e26\u8ef8(\u6700\u5927\u30af\u30e9\u30b9\u30bf\u30fc\u30b5\u30a4\u30ba)/(\u5168\u8981\u7d20\u6570)\u3067\u7e26\u8ef8\u306b\u5bfe\u6570\u3092\u53d6\u3063\u305f\u3068\u304d\u306b\u76f4\u7dda\u306b\u4e57\u3063\u3066\u3044\u308b(\u3088\u3046\u306b\u898b\u3048\u308b)\u3002\n",
      "\n",
      "\u306a\u305c\u304b?"
     ]
    },
    {
     "cell_type": "markdown",
     "metadata": {},
     "source": [
      "\u30d5\u30a3\u30c3\u30c6\u30a3\u30f3\u30b0\u95a2\u6570\u3068\u3057\u3066\n",
      "\n",
      "$$f(x) = 10^{ax + b}$$\n",
      "\n"
     ]
    },
    {
     "cell_type": "code",
     "collapsed": false,
     "input": [
      "a = 10.\n",
      "b = 20.\n",
      "param = [a, b, c]\n",
      "rmin, rmax = 0.01, 0.10\n",
      "\n",
      "def fit_func(parameter, x):\n",
      "    a = parameter[0]\n",
      "    b = parameter[1]\n",
      "    return np.power(10, a*x + b)\n",
      "\n",
      "def fit(parameter, x, y):\n",
      "    return y - fit_func(parameter, x)\n",
      "\n",
      "i = 0\n",
      "while r[i] < rmin:\n",
      "    i += 1\n",
      "imin, imax = i, i\n",
      "while r[i] < rmax:\n",
      "    i += 1\n",
      "imax = i - 1\n",
      "\n",
      "res = leastsq(fit, param, args=(r[imin:imax], phi1[imin:imax]))\n",
      "print u\"a: \" + str(res[0][0])\n",
      "print u\"b: \" + str(res[0][1])\n",
      "R5 = fit_func(res[0], r[imin:imax])\n",
      "\n",
      "myplot2(r, phi2, r[imin:imax], R5, res[0])"
     ],
     "language": "python",
     "metadata": {},
     "outputs": [
      {
       "output_type": "stream",
       "stream": "stdout",
       "text": [
        "a: 12.4841338989\n",
        "b: -1.14418617506\n"
       ]
      },
      {
       "metadata": {},
       "output_type": "display_data",
       "png": "[encoded data removed]",
       "text": [
        "<matplotlib.figure.Figure at 0x7f13fbe14250>"
       ]
      }
     ],
     "prompt_number": 226
    },
    {
     "cell_type": "heading",
     "level": 3,
     "metadata": {},
     "source": [
      "\u89e3\u6790\u7684\u30a2\u30d7\u30ed\u30fc\u30c1"
     ]
    },
    {
     "cell_type": "markdown",
     "metadata": {},
     "source": [
      "\u70b9\u306e\u5206\u5e03\u3059\u308b\u7bc4\u56f2\u306f$\\Omega = [0,1]\\times [0,1]$\u3067\u3042\u308a\u3001\u3053\u306e\u4e2d\u306e\u9762\u7a4d$S$\u306e\u9818\u57df\u306e\u4e2d\u306b\u70b9\u3092\u898b\u51fa\u3059\u78ba\u7387\u306f$S$\u3067\u3042\u308b\u3002\n",
      "\n",
      "\u6b21\u306b\u3001\u9818\u57df\u5185\u306e\u3042\u308b\u70b9$\\vec x=(x,y)$\u3092\u4e2d\u5fc3\u3068\u3057\u3066\u534a\u5f84$r$($0 < r \\le 0.5$)\u306e\u9818\u57df$B(\\vec x, r)$\u5185\u306b\u70b9\u3092\u898b\u51fa\u3059\u78ba\u7387$p(\\vec x)$\u306f\u3001\u5883\u754c\u306e\u5f71\u97ff\u3092\u3046\u3051\u306a\u3044\u9818\u57df($\\Omega ' = \\{(x,y) | r \\le x \\le 1-r, r \\le y \\le 1-r \\}$)\u3067\u306f$\\pi r^{2}$\u3067\u3042\u308a\u3001\u5883\u754c\u306e\u5f71\u97ff\u3092\u53d7\u3051\u308b\u9818\u57df($\\Omega'' = \\Omega / \\Omega'$)\u306b\u304a\u3044\u3066\u70b9\u3092\u898b\u51fa\u3059\u78ba\u7387\u306f\u3001\u9818\u57df\u3092\n",
      "\n",
      "$$\\begin{align}\n",
      "\\Omega''_{x} &= \\{(x,y) | 0 \\le x < r, r< y < 1-r\\} \\\\\n",
      "\\Omega''_{1-x} &= \\{(x,y) | 1-r < x \\le 1, r< y < 1-r\\} \\\\\n",
      "\\Omega''_{y} &= \\{(x,y) | r < x < 1-r, 0 \\le y < r\\} \\\\\n",
      "\\Omega''_{1-y} &= \\{(x,y) | r < x < 1-r, 1-r < y \\le 1\\} \\\\\n",
      "\\Omega''_{x,y} &= \\{(x,y) | 0 \\le x < r, 0 \\le y < r\\} \\\\\n",
      "\\Omega''_{1-x,y} &= \\{(x,y) | 1-r < x \\le 1, 0 \\le y < r\\} \\\\\n",
      "\\Omega''_{x,1-y} &= \\{(x,y) | 0 \\le x < r, 1-r < y \\le 1\\} \\\\\n",
      "\\Omega''_{1-x, 1-y} &= \\{(x,y) | 1-r < x \\le 1, 1-r < y \\le 1\\}\n",
      "\\end{align}$$\n",
      "\n",
      "\u306e\u3088\u3046\u306b\u3042\u3089\u308f\u3057\u3001$\\Omega''_{i} = \\{\\Omega''_{x}, \\Omega''_{1-x}, \\Omega''_{y}, \\Omega''_{1-y}$\\}\u3001\u307e\u305f$\\Omega''_{i,j} = \\{\\Omega''_{x,y}, \\Omega''_{1-x,y}, \\Omega''_{x,1-y}, \\Omega''_{1-x,1-y}\\}$\u3067\u307e\u3068\u3081\u3066\u66f8\u304f\u3053\u3068\u306b\u3059\u308b\u3068\u3001\n",
      "\n",
      "$$p(\\vec x \\in \\Omega''_{i}) = i \\sqrt{r^{2}-i^{2}} + r^{2} \\left[ \\pi -\\arccos \\frac{i}{r} \\right]$$\n",
      "\n",
      "$$\\begin{align}p(\\vec x \\in \\Omega''_{i,j}) = &\\frac{1}{2}\\left\\{ \\sqrt{r^{2}-i^{2}} + \\min \\left(j, \\sqrt{r^{2}-i^{2}}\\right) \\right\\}i + \\frac{1}{2}\\left\\{ \\sqrt{r^{2}-j^{2}} + \\min \\left( i, \\sqrt{r^{2}-j^{2}}\\right) \\right\\}j \\\\\n",
      "&+ \\frac{1}{2}r^{2} \\left\\{ 2\\pi -\\arccos \\frac{i}{r}-\\arccos \\frac{j}{r}-\\min \\left( \\frac{\\pi}{2}, \\arccos \\frac{i}{r} +\\arccos \\frac{j}{r} \\right) \\right\\}\n",
      "\\end{align}$$\n",
      "\n",
      "\u306e\u3088\u3046\u306b\u3042\u3089\u308f\u3059\u3053\u3068\u304c\u3067\u304d\u308b\u3002"
     ]
    },
    {
     "cell_type": "markdown",
     "metadata": {},
     "source": [
      "\u78ba\u7387$p$\u3092\u3059\u3079\u3066\u306e\u9818\u57df\u306b\u3064\u3044\u3066\u7a4d\u5206\u3057\u305f\u5024\u306f\u3001\u9818\u57df$\\Omega$\u304b\u3089\u4e00\u69d8\u4e71\u6570\u306b\u3088\u3063\u3066\u4e00\u3064\u306e\u70b9\u3092\u9078\u3073\u3001\u305d\u306e\u70b9\u3092\u4e2d\u5fc3\u3068\u3057\u305f$r$\u306b\u3088\u308b\u7bc4\u56f2\u306b1\u3064\u306e\u70b9\u3092\u898b\u51fa\u3059\u78ba\u7387\u306e\u671f\u5f85\u5024\u3068\u306a\u308b\u3002\n",
      "\n",
      "\u3053\u306e\u78ba\u7387\u3092$p'(r)$\u3068\u3057\u3001$0\\le r \\le 0.5$\u306e\u3068\u304d\u306f\n",
      "\n",
      "$$p'(r) = p'(r)_{\\Omega''} + 4p'(r)_{\\Omega''_{i}} + 4p'(r)_{\\Omega''_{i,j}}$$\n",
      "\n",
      "\u3068\u3067\u304d\u308b\u3002\u305d\u308c\u305e\u308c\u306e\u9818\u57df\u306b\u3064\u3044\u3066\u7a4d\u5206\u3092\u5b9f\u884c\u3059\u308b\u3002"
     ]
    },
    {
     "cell_type": "markdown",
     "metadata": {},
     "source": [
      "$$p'(r)_{\\Omega'} = \\int_{r}^{1-r} \\int_{r}^{1-r}\\pi r^{2}\\mathrm{d}x\\mathrm{d}y = (1-2r)^{2}\\pi r^{2}$$"
     ]
    },
    {
     "cell_type": "markdown",
     "metadata": {},
     "source": [
      "$$\\begin{align}\n",
      "p'(r)_{\\Omega'_{i}} = p'(r)_{\\Omega'_{x}} &= \\int_{0}^{r} \\int_{r}^{1-r}\\mathrm{d}x\\mathrm{d}y\\ x\\sqrt{r^{2}-x^{2}} + r^{2}\\left[\\pi - \\arccos\\frac{x}{r}\\right]\\\\\n",
      "&= (1-2r)\\left\\{ \\frac{r^{3}}{3} + r^{2}\\pi\\cdot r - r^{2}\\cdot r \\right\\}\\\\\n",
      "&= (1-2r)r^{3}\\left( \\pi-\\frac{2}{3} \\right)\n",
      "\\end{align}$$"
     ]
    },
    {
     "cell_type": "markdown",
     "metadata": {},
     "source": [
      "NOTE1:\n",
      "\n",
      "$$\\begin{align}\n",
      "&\\int_{0}^{r}\\mathrm{d}x\\ x\\sqrt{r^{2}-x^{2}} \\\\\n",
      "&\\ \\ \\ \\ \\ \\left[x = r\\cos \\theta \\right]\\\\\n",
      "&= \\int_{\\frac{\\pi}{2}}^{0}\\mathrm{d}\\theta\\ (-r\\sin\\theta)\\ r\\cos\\theta\\ r\\sin\\theta\\\\\n",
      "&= r^{3}\\left[ \\frac{\\sin^{3}\\theta}{3}\\right]^{\\frac{\\pi}{2}}_{0} \\\\\n",
      "&= \\frac{r^{3}}{3}\n",
      "\\end{align}$$"
     ]
    },
    {
     "cell_type": "markdown",
     "metadata": {},
     "source": [
      "NOTE2:\n",
      "\n",
      "$x = \\cos t \\ (0< t< \\pi)$\u3068\u3059\u308b\u3068\n",
      "$$\\frac{\\mathrm{d}x}{\\mathrm{d}t} = - \\sin t < 0$$\n",
      "\n",
      "$t = \\arccos x$\u3067\u3042\u308b\u304b\u3089\u3001\n",
      "\n",
      "$$\\begin{align}\n",
      "\\frac{\\mathrm{d}}{\\mathrm{d}x}\\arccos x &= \\frac{1}{\\frac{\\mathrm{d}}{\\mathrm{d}t}\\cos t} = -\\frac{1}{\\sin t}\\\\\n",
      "&=- \\frac{1}{\\sqrt{\\sin^{2}t}} = - \\frac{1}{\\sqrt{1- \\cos^{2}t}} \\\\\n",
      "&= - \\frac{1}{\\sqrt{1- x^{2}}}\n",
      "\\end{align}$$\n",
      "\n",
      "\u3057\u305f\u304c\u3063\u3066\u3001\n",
      "\n",
      "$$\\begin{align}\n",
      "\\int \\arccos x \\mathrm{d}x\\  &= x\\arccos x + \\int \\frac{x}{\\sqrt{1-x^{2}}}\\mathrm{d}x\\\\\n",
      "&=x\\arccos x - \\sqrt{1-x^{2}} + C\n",
      "\\end{align}$$\n",
      "\n",
      "($C$\u306f\u7a4d\u5206\u5b9a\u6570)\n",
      "\n",
      "\u4eca\u306e\u5834\u5408\u3001\n",
      "\n",
      "$$\\begin{align}\n",
      "\\int^{r}_{0} \\arccos \\frac{x}{r} \\mathrm{d}x &= \\int^{1}_{0}\\arccos t \\cdot r\\mathrm{d}t\\\\\n",
      "&= r \\left[ t \\arccos t - \\sqrt{1-t^{2}} \\right]^{1}_{0}\\\\\n",
      "&= r ( 1\\arccos1 -\\sqrt{1-1} - 0 \\arccos0 + \\sqrt{1-0})\\\\\n",
      "&= r\n",
      "\\end{align}$$"
     ]
    },
    {
     "cell_type": "markdown",
     "metadata": {},
     "source": [
      "$p'(r)_{\\Omega''_{i,j}}$\u3092\u4ee5\u4e0b\u306e\u3088\u3046\u306b\u5206\u89e3\u3057\u3066\u305d\u308c\u305e\u308c\u8a08\u7b97\u3059\u308b\u3002\n",
      "\n",
      "$$\\begin{align}\n",
      "p'(r)_{\\Omega''_{i,j}} &= p'(r)_{\\Omega''_{x, y}}\\\\\n",
      "&= p'(r)_{\\Omega''_{x, y}1}  +p'(r)_{\\Omega''_{x, y}2}\\\\\n",
      "&= p'(r)_{\\Omega''_{x, y}1'} - p'(r)_{\\Omega''_{x, y}1''} + p'(r)_{\\Omega''_{x, y}2}\n",
      "\\end{align}$$"
     ]
    },
    {
     "cell_type": "markdown",
     "metadata": {},
     "source": [
      "$$\\begin{align}\n",
      "p'(r)_{\\Omega''_{x,y}1'} &= \\int^{r}_{0}\\int^{r}_{0}\\mathrm{d}x\\mathrm{d}y\\ x\\sqrt{r^{2}-x^{2}} + y \\sqrt{r^{2} -y^{2}} + \\frac{1}{2}r^{2}\\left( 2\\pi -2\\arccos\\frac{x}{r} -2\\arccos\\frac{y}{r} \\right) \\\\\n",
      "&= r\\int^{r}_{0}\\mathrm{d}x\\ \\left\\{x\\sqrt{r^{2}-x^{2}} - r^{2}\\arccos\\frac{x}{r} \\right\\} \n",
      "+ r\\int^{r}_{0}\\mathrm{d}x\\ \\left\\{x\\sqrt{r^{2}-x^{2}} - r^{2}\\arccos\\frac{x}{r} \\right\\} + \\pi r^{2}\\cdot r^{2}\\\\\n",
      "&= r\\left( \\frac{r^{3}}{3} -r^{3} \\right) + r\\left( \\frac{r^{3}}{3} -r^{3} \\right) + \\pi r^{4}\\\\\n",
      "&=  \\left(\\pi -\\frac{4}{3}\\right)r^{4}\n",
      "\\end{align}$$"
     ]
    },
    {
     "cell_type": "markdown",
     "metadata": {},
     "source": [
      "$$\\begin{align}\n",
      "p'(r)_{\\Omega''_{x,y}1''} &= \\int^{r}_{0}\\int^{\\sqrt{r^{2}-x^{2}}}_{0}\\mathrm{d}x\\mathrm{d}y\\ \\left[ x\\sqrt{r^{2}-x^{2}} + y \\sqrt{r^{2} -y^{2}} + r^{2}\\left(\\pi -\\arccos\\frac{x}{r} -\\arccos\\frac{y}{r}\\right) \\right]\\\\\n",
      "&= \\int^{r}_{0}\\mathrm{d}x\\left[ \\left\\{ x\\sqrt{r^{2}-x^{2}} + r^{2}\\pi -r^{2}\\arccos\\frac{x}{r} \\right\\}\\sqrt{r^{2}-x^{2}} + \\int^{\\sqrt{r^{2}-x^{2}}}_{0}\\mathrm{d}y\\ y\\sqrt{r^{2}-y^{2}} -r^{2}\\arccos\\frac{y}{r}\\right]\\\\\n",
      "&= \\int^{r}_{0}\\mathrm{d}x\\left[ x(r^{2}-x^{2}) + r^{2}\\pi\\sqrt{r^{2}-x^{2}} -r^{2}\\arccos \\frac{x}{r} \\sqrt{r^{2}-x^{2}} + \\frac{r^{3}}{3} - \\frac{x^{3}}{3} - r^{2}\\frac{\\pi}{2}\\sqrt{r^{2}-x^{2}} + r^{2}\\arccos\\frac{x}{r}\\sqrt{r^{2}-x^{2}} +r^{2}x - r^{3}\\right] \\\\\n",
      "&= \\int^{r}_{0}\\mathrm{d}x \\left[-\\frac{4}{3}x^{3} + 2r^{2}x - \\frac{2}{3}r^{3} + \\frac{\\pi}{2}r^{2}\\sqrt{r^{2}-x^{2}} \\right]\\\\\n",
      "&= \\left[ -\\frac{4}{3}\\frac{x^{4}}{4} + r^{2}x^{2} - \\frac{2}{3}r^{3}x \\right]^{r}_{0} + \\frac{\\pi}{2}r^{2}\\cdot \\frac{1}{4}\\pi r^{2}\\\\\n",
      "&= -\\frac{r^{4}}{3} + r^{4} -\\frac{2}{3}r^{4} + \\frac{\\pi ^{2}}{8}r^{4}\\\\\n",
      "&= \\frac{\\pi^{2}}{8}r^{4}\n",
      "\\end{align}$$"
     ]
    },
    {
     "cell_type": "markdown",
     "metadata": {},
     "source": [
      "NOTE1:\n",
      "\n",
      "$y=r\\cos \\theta$\u3068\u304a\u304f\u3002\n",
      "\n",
      "$y$\u306e\u7a4d\u5206\u9818\u57df$[0, \\sqrt{r^{2}-x^{2}}]$\u306f$\\theta$\u306e\u7bc4\u56f2\u3068\u3057\u3066\u306f$[\\pi/2, \\theta' = \\arcsin(x/r)]$\u3068\u306a\u308b\u3002\n",
      "\n",
      "(\u56f3)\n",
      "\n",
      "$$\\begin{align}\n",
      "\\int^{\\sqrt{r^{2}-x^{2}}}_{0}\\mathrm{d}y\\ y\\sqrt{r^{2}-y^{2}} &= \\int^{\\theta'}_{\\frac{\\pi}{2}}-r^{3}\\sin^{2}\\theta\\ \\cos\\theta \\mathrm{d}\\theta\\\\\n",
      "&= r^{3}\\left[ \\frac{\\sin^{3}\\theta}{3} \\right]^{\\frac{\\pi}{2}}_{\\theta'}\\\\\n",
      "&= \\frac{r^{3}}{3} - r^{3}\\frac{\\left( \\frac{x}{r} \\right)^{3}}{3}\\\\\n",
      "&= \\frac{r^{3}}{3} - \\frac{x^{3}}{3}\n",
      "\\end{align}$$"
     ]
    },
    {
     "cell_type": "markdown",
     "metadata": {},
     "source": [
      "NOTE2:\n",
      "\n",
      "$t = x/r$\u3068\u304a\u3044\u3066\u7a4d\u5206\u3059\u308b\u3002\n",
      "\n",
      "$$\\begin{align}\n",
      "r^{2}\\int^{\\sqrt{r^{2}-x^{2}}}_{0}\\mathrm{d}y\\ \\arccos \\frac{y}{r} &= r^{2}\\int^{\\frac{\\sqrt{r^{2}-x^{2}}}{r}}_{0}r\\mathrm{d}t\\ \\arccos t\\\\\n",
      "&= r^{3}\\left[ t\\arccos t - \\sqrt{1-t^{2}} \\right]^{\\frac{\\sqrt{r^{2}-x^{2}}}{r}}_{0}\\\\\n",
      "&= r^{3}\\left[ \\frac{\\sqrt{r^{2}-x^{2}}}{r}\\left( \\frac{\\pi}{2} - \\arcsin \\frac{x}{r} \\right) - \\frac{x}{r} + 1 \\right]\\\\\n",
      "&= r^{2}\\frac{\\pi}{2}\\sqrt{r^{2}-x^{2}} - r^{2}\\sqrt{r^{2}-x^{2}}\\arccos\\frac{x}{r} - r^{2}x + r^{3}\n",
      "\\end{align}$$"
     ]
    },
    {
     "cell_type": "markdown",
     "metadata": {},
     "source": [
      "$$\\begin{align}\n",
      "p'(r)_{\\Omega''_{x, y}2} &= \\int^{r}_{0}\\int^{r}_{0}\\mathrm{d}x\\mathrm{d}y\\ \\frac{1}{2}x\\sqrt{r^{2}-x^{2}} + \\frac{1}{2}y\\sqrt{r^{2} -y^{2}} + xy + \\frac{1}{2}r^{2}\\left( 2\\pi - \\arccos\\frac{x}{r} - \\arccos\\frac{y}{r} - \\frac{\\pi}{2} \\right)\\\\\n",
      "&= \\int^{r}_{0}\\mathrm{d}x\\int^{\\sqrt{r^{2}-x^{2}}}_{0}\\mathrm{d}y\\ \\frac{1}{2}x\\sqrt{r^{2}-x^{2}} + \\frac{1}{2}y\\sqrt{r^{2} -y^{2}} + xy + \\frac{1}{2}r^{2}\\left( 2\\pi - \\arccos\\frac{x}{r} - \\arccos\\frac{y}{r} - \\frac{\\pi}{2} \\right)\\\\\n",
      "&= \\int^{r}_{0}\\mathrm{d}x\\left[ \\left\\{ \\frac{1}{2}x\\sqrt{r^{2}-x^{2}} + \\frac{3}{4}\\pi r^{2} - \\frac{1}{2}r^{2}\\arccos\\frac{x}{r} \\right\\}\\sqrt{r^{2}-x^{2}} + \\int^{\\sqrt{r^{2}-x^{2}}}_{0}\\mathrm{d}y\\ \\frac{1}{2}y\\sqrt{r^{2}-y^{2}} + xy - \\frac{1}{2}r^{2}\\arccos\\frac{y}{r}\\right]\\\\\n",
      "&= \\int^{r}_{0}\\mathrm{d}x\\left[ \\frac{1}{2}xr^{2} - \\frac{x^{3}}{2} + \\frac{3}{4}\\pi r^{2}\\sqrt{r^{2}-x^{2}} - \\frac{1}{2}r^{2}\\arccos \\frac{x}{r} \\sqrt{r^{2}-x^{2}} \\right.\\\\\n",
      "&\\ \\ \\ \\ \\ \\ \\ \\ \\ \\ + \\left. \\frac{r^{3}}{6} - \\frac{x^{3}}{6} + \\frac{1}{2}xr^{2} - \\frac{x^{3}}{2} - \\frac{\\pi}{4}r^{2}\\sqrt{r^{2}-x^{2}} + \\frac{1}{2}r^{2}\\arccos\\frac{x}{r}\\sqrt{r^{2}-x^{2}} + \\frac{1}{2}r^{2}x - \\frac{r^{3}}{2}\\right] \\\\\n",
      "&= \\int^{r}_{0}\\mathrm{d}x\\left[- \\frac{7}{6}x^{3} - \\frac{r^{3}}{3} + \\frac{3}{2}r^{2}x + \\frac{\\pi}{2}r^{2}\\sqrt{r^{2}-x^{2}} \\right]\\\\\n",
      "&= -\\frac{7}{24}r^{4} - \\frac{r^{4}}{3} + \\frac{3}{4}r^{4} + \\frac{\\pi}{2}r^{2}\\cdot \\frac{\\pi}{4}r^{2}\\\\\n",
      "&= \\left( - \\frac{7}{24} - \\frac{1}{3} + \\frac{3}{4} + \\frac{\\pi^{2}}{8}\\right)r^{4}\\\\\n",
      "&= \\left( \\frac{\\pi^{2}}{8} + \\frac{1}{8} \\right)r^{4}\n",
      "\\end{align}$$"
     ]
    },
    {
     "cell_type": "markdown",
     "metadata": {},
     "source": [
      "$$\\begin{align}\n",
      "p'(r)_{\\Omega''_{i,j}} &= p'(r)_{\\Omega''_{x, y}}\\\\\n",
      "&= p'(r)_{\\Omega''_{x, y}1}  +p'(r)_{\\Omega''_{x, y}2}\\\\\n",
      "&= p'(r)_{\\Omega''_{x, y}1'} - p'(r)_{\\Omega''_{x, y}1''} + p'(r)_{\\Omega''_{x, y}2}\\\\\n",
      "&= \\left(\\pi -\\frac{4}{3}\\right)r^{4} - \\frac{\\pi^{2}}{8}r^{4} + \\left( \\frac{\\pi^{2}}{8} + \\frac{1}{8} \\right)r^{4}\\\\\n",
      "&= \\left(\\pi -\\frac{29}{24}\\right)r^{4}\n",
      "\\end{align}$$"
     ]
    },
    {
     "cell_type": "markdown",
     "metadata": {},
     "source": [
      "\u3053\u308c\u307e\u3067\u306e\u7d50\u679c\u3092\u3059\u3079\u3066\u5408\u308f\u305b\u308b\u3068\u3001\n",
      "\n",
      "$$\\begin{align}\n",
      "p'(r) &= p'(r)_{\\Omega''} + 4p'(r)_{\\Omega''_{i}} + 4p'(r)_{\\Omega''_{i,j}}\\\\\n",
      "&= (1-2r)^{2}\\pi r^{2} + (1-2r)r^{3}\\left( 4\\pi-\\frac{8}{3} \\right) + \\left(4\\pi -\\frac{29}{6}\\right)r^{4}\\\\\n",
      "&= \\pi r^{2} - 4\\pi r^{3} + 4\\pi r^{4} + 4\\pi r^{3} -\\frac{8}{3}r^{3} - 8\\pi r^{4} + \\frac{16}{3}r^{4} + 4\\pi r^{4} - \\frac{29}{6}r^{4}\\\\\n",
      "&= \\frac{1}{2}r^{4} -\\frac{8}{3}r^{3} + \\pi r^{2}\n",
      "\\end{align}$$"
     ]
    },
    {
     "cell_type": "markdown",
     "metadata": {},
     "source": [
      "\u5b9f\u969b\u306b\u6570\u3048\u3066\u307f\u308b\u3002"
     ]
    },
    {
     "cell_type": "code",
     "collapsed": false,
     "input": [
      "trial = 100\n",
      "\n",
      "r = np.linspace(0.01, 0.5, num=50)\n",
      "phi3 = []\n",
      "for _r in r:\n",
      "    _phi = 0.\n",
      "    for t in range(trial):\n",
      "        meeting = Meeting(K=50, N=6, r=_r, draw=False)\n",
      "        meeting.init()\n",
      "        _phi += meeting.ave_l\n",
      "    phi3.append(_phi/trial)"
     ],
     "language": "python",
     "metadata": {},
     "outputs": [],
     "prompt_number": 14
    },
    {
     "cell_type": "code",
     "collapsed": false,
     "input": [
      "plt.plot(r, phi3)\n",
      "r = np.linspace(0., 0.5)\n",
      "def func(x):\n",
      "    return (1./2*x**4 - 8/3.*x**3 + np.pi*x**2)*120\n",
      "y = func(r)\n",
      "plt.plot(r, y)\n",
      "plt.show()"
     ],
     "language": "python",
     "metadata": {},
     "outputs": [
      {
       "metadata": {},
       "output_type": "display_data",
       "png": "[encoded data removed]",
       "text": [
        "<matplotlib.figure.Figure at 0x7fb6dc028ad0>"
       ]
      }
     ],
     "prompt_number": 15
    },
    {
     "cell_type": "markdown",
     "metadata": {},
     "source": [
      "OK"
     ]
    },
    {
     "cell_type": "heading",
     "level": 3,
     "metadata": {},
     "source": [
      "\u5e73\u5747\u9802\u70b9\u9593\u8ddd\u96e2\u3068\u4eba\u6570(\u30a2\u30a4\u30c7\u30a2\u306e\u500b\u6570)\u3068\u306e\u9593\u306e\u95a2\u4fc2"
     ]
    },
    {
     "cell_type": "code",
     "collapsed": false,
     "input": [
      "tmp = 0\n",
      "for p0, p1 in zip(meeting.minutes[:-1], meeting.minutes[1:]):\n",
      "    tmp += euc(p0[0], p1[0])\n",
      "ave_dist_btw_nodes = tmp/float(len(meeting.minutes)-1)\n",
      "print ave_dist_btw_nodes"
     ],
     "language": "python",
     "metadata": {},
     "outputs": [
      {
       "output_type": "stream",
       "stream": "stdout",
       "text": [
        "0.151907351898\n"
       ]
      }
     ],
     "prompt_number": 6
    },
    {
     "cell_type": "code",
     "collapsed": false,
     "input": [
      "trial = 1000\n",
      "\n",
      "N = np.arange(1, 15)\n",
      "phi4 = []\n",
      "for _N in N:\n",
      "    _phi = 0.\n",
      "    for t in range(trial):\n",
      "        meeting = Meeting(K=50, N=_N, r=0.07, draw=False)\n",
      "        meeting.progress()\n",
      "        tmp = 0\n",
      "        for p0, p1 in zip(meeting.minutes[:-1], meeting.minutes[1:]):\n",
      "            tmp += euc(p0[0], p1[0])\n",
      "        _phi += tmp/float(len(meeting.minutes)-1)\n",
      "    phi4.append(_phi/trial)"
     ],
     "language": "python",
     "metadata": {},
     "outputs": [],
     "prompt_number": 11
    },
    {
     "cell_type": "code",
     "collapsed": false,
     "input": [
      "S = 20\n",
      "r = 0.07\n",
      "plt.plot(N, phi4)\n",
      "plt.show()"
     ],
     "language": "python",
     "metadata": {},
     "outputs": [
      {
       "metadata": {},
       "output_type": "display_data",
       "png": "[encoded data removed]",
       "text": [
        "<matplotlib.figure.Figure at 0x7f1f86119090>"
       ]
      }
     ],
     "prompt_number": 18
    },
    {
     "cell_type": "code",
     "collapsed": false,
     "input": [
      "trial = 10\n",
      "\n",
      "S = np.arange(10, 80, 5)\n",
      "phi4 = []\n",
      "for _S in S:\n",
      "    _phi = 0.\n",
      "    for t in range(trial):\n",
      "        meeting = Meeting(K=50, N=5, S=_S, r=0.07, draw=False)\n",
      "        meeting.progress()\n",
      "        tmp = 0\n",
      "        for p0, p1 in zip(meeting.minutes[:-1], meeting.minutes[1:]):\n",
      "            tmp += euc(p0[0], p1[0])\n",
      "        try:\n",
      "            result = tmp/float(len(meeting.minutes)-1)\n",
      "        except ZeroDivisionError:\n",
      "            result = 0.\n",
      "        _phi += result\n",
      "    phi4.append(_phi/trial)"
     ],
     "language": "python",
     "metadata": {},
     "outputs": [
      {
       "output_type": "stream",
       "stream": "stdout",
       "text": [
        "[10 15 20 25 30 35 40 45 50 55 60 65 70 75]\n"
       ]
      }
     ],
     "prompt_number": 28
    },
    {
     "cell_type": "code",
     "collapsed": false,
     "input": [
      "plt.plot(S, phi4)\n",
      "plt.show()"
     ],
     "language": "python",
     "metadata": {},
     "outputs": [
      {
       "metadata": {},
       "output_type": "display_data",
       "png": "[encoded data removed]",
       "text": [
        "<matplotlib.figure.Figure at 0x7f1f8606f050>"
       ]
      }
     ],
     "prompt_number": 29
    },
    {
     "cell_type": "markdown",
     "metadata": {},
     "source": [
      "----"
     ]
    },
    {
     "cell_type": "code",
     "collapsed": false,
     "input": [
      "import pandas as pd\n",
      "pd.DataFrame(np.array([r, phi]).T)"
     ],
     "language": "python",
     "metadata": {},
     "outputs": [
      {
       "html": [
        "<div style=\"max-height:1000px;max-width:1500px;overflow:auto;\">\n",
        "<table border=\"1\" class=\"dataframe\">\n",
        "  <thead>\n",
        "    <tr style=\"text-align: right;\">\n",
        "      <th></th>\n",
        "      <th>0</th>\n",
        "      <th>1</th>\n",
        "    </tr>\n",
        "  </thead>\n",
        "  <tbody>\n",
        "    <tr>\n",
        "      <th>0 </th>\n",
        "      <td> 0.001000</td>\n",
        "      <td> 0.000000</td>\n",
        "    </tr>\n",
        "    <tr>\n",
        "      <th>1 </th>\n",
        "      <td> 0.011474</td>\n",
        "      <td> 0.023056</td>\n",
        "    </tr>\n",
        "    <tr>\n",
        "      <th>2 </th>\n",
        "      <td> 0.021947</td>\n",
        "      <td> 0.081389</td>\n",
        "    </tr>\n",
        "    <tr>\n",
        "      <th>3 </th>\n",
        "      <td> 0.032421</td>\n",
        "      <td> 0.181667</td>\n",
        "    </tr>\n",
        "    <tr>\n",
        "      <th>4 </th>\n",
        "      <td> 0.042895</td>\n",
        "      <td> 0.283333</td>\n",
        "    </tr>\n",
        "    <tr>\n",
        "      <th>5 </th>\n",
        "      <td> 0.053368</td>\n",
        "      <td> 0.406111</td>\n",
        "    </tr>\n",
        "    <tr>\n",
        "      <th>6 </th>\n",
        "      <td> 0.063842</td>\n",
        "      <td> 0.522222</td>\n",
        "    </tr>\n",
        "    <tr>\n",
        "      <th>7 </th>\n",
        "      <td> 0.074316</td>\n",
        "      <td> 0.635278</td>\n",
        "    </tr>\n",
        "    <tr>\n",
        "      <th>8 </th>\n",
        "      <td> 0.084789</td>\n",
        "      <td> 0.711667</td>\n",
        "    </tr>\n",
        "    <tr>\n",
        "      <th>9 </th>\n",
        "      <td> 0.095263</td>\n",
        "      <td> 0.788056</td>\n",
        "    </tr>\n",
        "    <tr>\n",
        "      <th>10</th>\n",
        "      <td> 0.105737</td>\n",
        "      <td> 0.833611</td>\n",
        "    </tr>\n",
        "    <tr>\n",
        "      <th>11</th>\n",
        "      <td> 0.116211</td>\n",
        "      <td> 0.869444</td>\n",
        "    </tr>\n",
        "    <tr>\n",
        "      <th>12</th>\n",
        "      <td> 0.126684</td>\n",
        "      <td> 0.900833</td>\n",
        "    </tr>\n",
        "    <tr>\n",
        "      <th>13</th>\n",
        "      <td> 0.137158</td>\n",
        "      <td> 0.920556</td>\n",
        "    </tr>\n",
        "    <tr>\n",
        "      <th>14</th>\n",
        "      <td> 0.147632</td>\n",
        "      <td> 0.955000</td>\n",
        "    </tr>\n",
        "    <tr>\n",
        "      <th>15</th>\n",
        "      <td> 0.158105</td>\n",
        "      <td> 0.972500</td>\n",
        "    </tr>\n",
        "    <tr>\n",
        "      <th>16</th>\n",
        "      <td> 0.168579</td>\n",
        "      <td> 0.977778</td>\n",
        "    </tr>\n",
        "    <tr>\n",
        "      <th>17</th>\n",
        "      <td> 0.179053</td>\n",
        "      <td> 0.982500</td>\n",
        "    </tr>\n",
        "    <tr>\n",
        "      <th>18</th>\n",
        "      <td> 0.189526</td>\n",
        "      <td> 0.988333</td>\n",
        "    </tr>\n",
        "    <tr>\n",
        "      <th>19</th>\n",
        "      <td> 0.200000</td>\n",
        "      <td> 0.991389</td>\n",
        "    </tr>\n",
        "  </tbody>\n",
        "</table>\n",
        "<p>20 rows \u00d7 2 columns</p>\n",
        "</div>"
       ],
       "metadata": {},
       "output_type": "pyout",
       "prompt_number": 10,
       "text": [
        "           0         1\n",
        "0   0.001000  0.000000\n",
        "1   0.011474  0.023056\n",
        "2   0.021947  0.081389\n",
        "3   0.032421  0.181667\n",
        "4   0.042895  0.283333\n",
        "5   0.053368  0.406111\n",
        "6   0.063842  0.522222\n",
        "7   0.074316  0.635278\n",
        "8   0.084789  0.711667\n",
        "9   0.095263  0.788056\n",
        "10  0.105737  0.833611\n",
        "11  0.116211  0.869444\n",
        "12  0.126684  0.900833\n",
        "13  0.137158  0.920556\n",
        "14  0.147632  0.955000\n",
        "15  0.158105  0.972500\n",
        "16  0.168579  0.977778\n",
        "17  0.179053  0.982500\n",
        "18  0.189526  0.988333\n",
        "19  0.200000  0.991389\n",
        "\n",
        "[20 rows x 2 columns]"
       ]
      }
     ],
     "prompt_number": 10
    },
    {
     "cell_type": "code",
     "collapsed": false,
     "input": [
      "a = [1,2,3,4,5,6,7]\n",
      "preidea = np.random.choice(a)\n",
      "print preidea\n",
      "print a"
     ],
     "language": "python",
     "metadata": {},
     "outputs": [
      {
       "output_type": "stream",
       "stream": "stdout",
       "text": [
        "5\n",
        "[1, 2, 3, 4, 5, 6, 7]\n"
       ]
      }
     ],
     "prompt_number": 22
    },
    {
     "cell_type": "code",
     "collapsed": false,
     "input": [
      "ideas = meeting.ideas\n",
      "r = 0.06\n",
      "cell_num = int(1./r)\n",
      "print cell_num\n",
      "lr = 1./cell_num\n",
      "print lr\n",
      "cell = dict()\n",
      "rcell = []\n",
      "for i, idea in enumerate(ideas):\n",
      "    cellx = int(idea[0][0]/lr)\n",
      "    celly = int(idea[0][1]/lr)\n",
      "    if cell.has_key((cellx, celly)):\n",
      "        cell[(cellx, celly)] += [i]\n",
      "    else:\n",
      "        cell[(cellx, celly)] = [i]\n",
      "    rcell.append((cellx, celly))\n",
      "cell"
     ],
     "language": "python",
     "metadata": {},
     "outputs": [
      {
       "output_type": "stream",
       "stream": "stdout",
       "text": [
        "16\n",
        "0.0625\n"
       ]
      },
      {
       "metadata": {},
       "output_type": "pyout",
       "prompt_number": 52,
       "text": [
        "{(0, 1): [80],\n",
        " (0, 4): [59],\n",
        " (0, 5): [11],\n",
        " (0, 7): [114],\n",
        " (0, 11): [115],\n",
        " (0, 13): [78],\n",
        " (0, 15): [43, 70, 117],\n",
        " (1, 1): [67],\n",
        " (1, 6): [8],\n",
        " (1, 9): [39],\n",
        " (2, 1): [108],\n",
        " (2, 2): [113],\n",
        " (2, 4): [10],\n",
        " (2, 5): [18],\n",
        " (2, 7): [63],\n",
        " (2, 8): [81],\n",
        " (2, 9): [35, 74],\n",
        " (2, 13): [48],\n",
        " (2, 15): [103],\n",
        " (3, 0): [91],\n",
        " (3, 4): [4, 42],\n",
        " (3, 10): [58, 73],\n",
        " (3, 11): [0],\n",
        " (3, 15): [96],\n",
        " (4, 5): [34],\n",
        " (4, 6): [46],\n",
        " (4, 9): [16],\n",
        " (4, 11): [86],\n",
        " (4, 12): [89],\n",
        " (5, 2): [75],\n",
        " (5, 3): [76, 107],\n",
        " (5, 4): [99],\n",
        " (5, 9): [28],\n",
        " (5, 10): [72],\n",
        " (5, 11): [5],\n",
        " (5, 12): [51, 53],\n",
        " (5, 13): [31],\n",
        " (5, 14): [92, 106],\n",
        " (5, 15): [102],\n",
        " (6, 1): [77, 87],\n",
        " (6, 3): [2],\n",
        " (6, 6): [50, 112, 116],\n",
        " (6, 8): [25],\n",
        " (6, 9): [45],\n",
        " (6, 13): [22],\n",
        " (7, 1): [79],\n",
        " (7, 2): [66],\n",
        " (7, 3): [64],\n",
        " (7, 5): [84],\n",
        " (7, 6): [14, 109],\n",
        " (7, 7): [19],\n",
        " (7, 9): [23],\n",
        " (7, 13): [104],\n",
        " (7, 14): [1],\n",
        " (7, 15): [54],\n",
        " (8, 4): [111],\n",
        " (8, 7): [20, 62],\n",
        " (8, 9): [33],\n",
        " (8, 10): [9],\n",
        " (8, 11): [94],\n",
        " (8, 14): [85],\n",
        " (9, 0): [52, 83],\n",
        " (9, 2): [47],\n",
        " (9, 6): [3, 38],\n",
        " (9, 7): [105],\n",
        " (9, 8): [44],\n",
        " (9, 11): [57],\n",
        " (9, 12): [61],\n",
        " (9, 13): [119],\n",
        " (10, 0): [101],\n",
        " (10, 2): [100],\n",
        " (10, 3): [95],\n",
        " (10, 5): [69],\n",
        " (10, 7): [60],\n",
        " (10, 10): [56],\n",
        " (10, 13): [12],\n",
        " (10, 14): [7],\n",
        " (11, 1): [21],\n",
        " (11, 7): [88, 93],\n",
        " (11, 8): [110],\n",
        " (11, 9): [6],\n",
        " (12, 0): [26, 41],\n",
        " (12, 2): [49],\n",
        " (12, 5): [37],\n",
        " (12, 6): [13],\n",
        " (12, 8): [24],\n",
        " (12, 10): [40],\n",
        " (12, 12): [118],\n",
        " (12, 13): [15],\n",
        " (13, 4): [27, 65],\n",
        " (13, 6): [17],\n",
        " (13, 9): [36],\n",
        " (13, 13): [32],\n",
        " (13, 15): [90],\n",
        " (14, 0): [29],\n",
        " (14, 2): [97],\n",
        " (14, 4): [55],\n",
        " (14, 14): [68, 71],\n",
        " (14, 15): [82],\n",
        " (15, 0): [98],\n",
        " (15, 1): [30]}"
       ]
      }
     ],
     "prompt_number": 52
    },
    {
     "cell_type": "code",
     "collapsed": false,
     "input": [
      "cell_num = 14\n",
      "[[[]]*cell_num]*cell_num"
     ],
     "language": "python",
     "metadata": {},
     "outputs": [
      {
       "metadata": {},
       "output_type": "pyout",
       "prompt_number": 20,
       "text": [
        "[[[], [], [], [], [], [], [], [], [], [], [], [], [], []],\n",
        " [[], [], [], [], [], [], [], [], [], [], [], [], [], []],\n",
        " [[], [], [], [], [], [], [], [], [], [], [], [], [], []],\n",
        " [[], [], [], [], [], [], [], [], [], [], [], [], [], []],\n",
        " [[], [], [], [], [], [], [], [], [], [], [], [], [], []],\n",
        " [[], [], [], [], [], [], [], [], [], [], [], [], [], []],\n",
        " [[], [], [], [], [], [], [], [], [], [], [], [], [], []],\n",
        " [[], [], [], [], [], [], [], [], [], [], [], [], [], []],\n",
        " [[], [], [], [], [], [], [], [], [], [], [], [], [], []],\n",
        " [[], [], [], [], [], [], [], [], [], [], [], [], [], []],\n",
        " [[], [], [], [], [], [], [], [], [], [], [], [], [], []],\n",
        " [[], [], [], [], [], [], [], [], [], [], [], [], [], []],\n",
        " [[], [], [], [], [], [], [], [], [], [], [], [], [], []],\n",
        " [[], [], [], [], [], [], [], [], [], [], [], [], [], []]]"
       ]
      }
     ],
     "prompt_number": 20
    },
    {
     "cell_type": "code",
     "collapsed": false,
     "input": [
      "@test\n",
      "def uniq_list(seq):\n",
      "    \"\"\"\n",
      "    >>> a = [1, 2, 5, 6, 7, 3, 2, 0]\n",
      "    >>> uniq_list(a)\n",
      "    [1, 2, 5, 6, 7, 3, 0]\n",
      "    \"\"\"\n",
      "    seen = set()\n",
      "    seen_add = seen.add\n",
      "    return [x for x in seq if x not in seen and not seen_add(x)]\n"
     ],
     "language": "python",
     "metadata": {},
     "outputs": [
      {
       "html": [
        "\n",
        "      <p style=\"color:green;font-size:250%;font-weight=bold\">Success!</p>\n",
        "      "
       ],
       "metadata": {},
       "output_type": "display_data"
      }
     ],
     "prompt_number": 44
    },
    {
     "cell_type": "code",
     "collapsed": false,
     "input": [
      "def accumulate(iterable, func=operator.add):\n",
      "    \"\"\"Return running totals\n",
      "    \n",
      "    Usage:\n",
      "    accumulate([1,2,3,4,5]) --> 1 3 6 10 15\n",
      "    accumulate([1,2,3,4,5], operator.mul) --> 1 2 6 24 120\n",
      "    \"\"\"\n",
      "    it = iter(iterable)\n",
      "    total = next(it)\n",
      "    yield total\n",
      "    for element in it:\n",
      "        total = func(total, element)\n",
      "        yield total\n",
      "\n",
      "\n",
      "def weighted_choice(d):\n",
      "    import random\n",
      "    import bisect\n",
      "\n",
      "    choices, weights = zip(*d)\n",
      "    cumdist = list(accumulate(weights))\n",
      "    x = random.random() * cumdist[-1]\n",
      "    return choices[bisect.bisect(cumdist, x)]\n",
      "\n",
      "weighted_choices = [(k,v) for k,v in {'Red': 3, 'Blue': 2, 'Yellow': 1, 'Green': 4}.items()]\n",
      "weighted_choice(weighted_choices)"
     ],
     "language": "python",
     "metadata": {},
     "outputs": [
      {
       "metadata": {},
       "output_type": "pyout",
       "prompt_number": 12,
       "text": [
        "'Blue'"
       ]
      }
     ],
     "prompt_number": 12
    }
   ],
   "metadata": {}
  }
 ]
}