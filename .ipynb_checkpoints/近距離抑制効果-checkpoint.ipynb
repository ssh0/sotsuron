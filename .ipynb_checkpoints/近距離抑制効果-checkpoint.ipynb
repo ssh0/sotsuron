{
 "metadata": {
  "name": "",
  "signature": "sha256:0d44bbceb978517a21b3d6453e50192da60e83bd8a8b0538576a1fcf5cd7bd48"
 },
 "nbformat": 3,
 "nbformat_minor": 0,
 "worksheets": [
  {
   "cells": [
    {
     "cell_type": "heading",
     "level": 1,
     "metadata": {},
     "source": [
      "\u8fd1\u8ddd\u96e2\u3067\u3042\u308b\u3053\u3068\u306b\u3088\u308b\u53cd\u5fdc\u306e\u6291\u5236\u5316"
     ]
    },
    {
     "cell_type": "markdown",
     "metadata": {},
     "source": [
      "\u610f\u898b\u3092\u63d0\u51fa\u3059\u308b\u969b\u306b\u500b\u4eba\u3068\u3057\u3066\u611f\u3058\u308b\u3053\u3068\u306f\u4f55\u304b\u3001\u3068\u3044\u3046\u3053\u3068\u3092\u8003\u3048\u308b\u3068\u3001\u4ed6\u306e\u4eba\u304c\u81ea\u5206\u3068\u4f3c\u305f\u3088\u3046\u306a\u610f\u898b\u3092\u51fa\u3059\u306e\u3067\u306f\u306a\u3044\u304b\u3001\u3068\u3044\u3046\u70b9\u304b\u3089\u767a\u8a00\u3092\u63a7\u3048\u308b\u3068\u3044\u3046\u5834\u9762\u304c\u8003\u3048\u3089\u308c\u308b\u3002\u307e\u305f\u3001\u3053\u308c\u3092\u4ee3\u8b1d\u7cfb\u306a\u3069\u306e\u5316\u5b66\u53cd\u5fdc\u306b\u843d\u3068\u3057\u8fbc\u3093\u3060\u969b\u306b\u306f\u3001\u3053\u306e\u3088\u3046\u306a\u8fd1\u3044\u4f4d\u7f6e\u306e\u610f\u898b\u306f\u3059\u3079\u3066\u540c\u4e00\u306e\u7269\u8cea\u3092\u8868\u3057\u3066\u3044\u308b\u3068\u3044\u3046\u3088\u3046\u306b\u8003\u3048\u308b\u3053\u3068\u3082\u3067\u304d\u308b\u3002\u305d\u306e\u3088\u3046\u306b\u8003\u3048\u308c\u3070\u3001\u4f3c\u305f\u3088\u3046\u306a\u6027\u8cea\u304c\u7e2e\u7d04\u3055\u308c\u3066\u3057\u307e\u3046\u306e\u3067\u5168\u4f53\u3068\u3057\u3066\u306e\u52b9\u7387\u304c\u4e0b\u304c\u3063\u3066\u3057\u307e\u3046\u3068\u3044\u3046\u7d50\u679c\u3092\u3082\u305f\u3089\u3059\u306e\u304b\u3082\u3057\u308c\u306a\u3044\u3002\n"
     ]
    },
    {
     "cell_type": "markdown",
     "metadata": {},
     "source": [
      "Note: \u5316\u5b66\u53cd\u5fdc\u3067\u3082\u540c\u3058\u3088\u3046\u306b1\u5206\u5b50\u3067\u306e\u53cd\u5fdc\u3068\u3088\u304f\u6df7\u3056\u3063\u305f\u591a\u6570\u306e\u7c92\u5b50\u306e\u53cd\u5fdc\u306e\u9593\u3067\u30a8\u30cd\u30eb\u30ae\u30fc\u7684\u306a\u5dee\u306b\u6709\u7121\u304c\u3042\u308b\u306e\u304b\u306b\u3064\u3044\u3066\u8abf\u3079\u308b\u5fc5\u8981\u304c\u3042\u308b\u3002"
     ]
    },
    {
     "cell_type": "markdown",
     "metadata": {},
     "source": [
      "\u3053\u308c\u3092\u4eca\u307e\u3067\u4f1a\u8b70\u306e\u30e2\u30c7\u30eb\u3068\u3057\u3066\u8003\u3048\u3066\u304d\u305f\u3082\u306e\u306b\u9069\u5fdc\u3059\u308b\u3068\u304d\u306b\u306f\u3001\u610f\u898b\u306e\u8fd1\u3044\u3082\u306e(\u95be\u5024\u3088\u308a\u3082\u8fd1\u3044\u8ddd\u96e2\u306b\u3042\u308b\u610f\u898b)\u306f\u540c\u3058\u610f\u898b\u3092\u6307\u3059\u3068\u8003\u3048\u3001\u3053\u306e\u3088\u3046\u306a\u610f\u898b\u306f\u4ee5\u524d\u306b\u767a\u8a00\u3055\u308c\u3066\u3044\u308b\u3068\u304d\u306b\u306f\u6b21\u306e\u767a\u8a00\u8005\u306f\u305d\u306e\u3088\u3046\u306a\u610f\u898b\u306f\u9078\u3073\u306b\u304f\u3044\u3001\u3068\u3044\u3046\u3053\u3068\u3092\u53cd\u6620\u3057\u305f\u30e2\u30c7\u30eb\u3067\u3042\u308b\u3053\u3068\u304c\u6c42\u3081\u3089\u308c\u308b\u3002"
     ]
    },
    {
     "cell_type": "markdown",
     "metadata": {},
     "source": [
      "\u5177\u4f53\u7684\u306a\u30e2\u30c7\u30eb\u3068\u3057\u3066\u3001\u6709\u9650\u500b\u6570\u306e\u610f\u898b\u304c\u72b6\u614b\u7a7a\u9593\u4e0a\u306b\u5206\u5e03\u3057\u3066\u3044\u308b\u3068\u304d\u306b\u3001\u3042\u308b\u95be\u5024$r$\u3088\u308a\u3082\u8fd1\u3044\u8ddd\u96e2\u306b\u3042\u308b\u70b9\u540c\u58eb\u3092\u30ce\u30fc\u30c9\u3067\u3064\u306a\u3044\u3067\u3044\u304d\u3001\u305d\u3046\u3057\u3066\u9023\u7d50\u3055\u308c\u305f\u30ce\u30fc\u30c9\u3068\u30ea\u30f3\u30af\u3092\u4e00\u3064\u306e\u30af\u30e9\u30b9\u30bf\u30fc\u3068\u3059\u308b\u3002\u305d\u3057\u3066\u610f\u898b\u306e\u9078\u3073\u65b9\u306f\u3001\u3042\u308b\u6642\u523b\u306b\u9078\u3070\u308c\u305f\u610f\u898b\u304b\u3089\u4e00\u756a\u8fd1\u3044\u4f4d\u7f6e\u306b\u30ce\u30fc\u30c9\u3092\u3082\u3064\u3088\u3046\u306a\u30af\u30e9\u30b9\u30bf\u30fc\u306e\u4e2d\u304b\u3089\u9078\u3076\u3053\u3068\u3068\u3059\u308b\u3002\u3053\u306e\u3068\u304d\u30af\u30e9\u30b9\u30bf\u30fc\u306e\u5185\u90e8\u3067\u3069\u306e\u610f\u898b\u3092\u9078\u3076\u304b\u306e\u898f\u5247\u306b\u3064\u3044\u3066\u306f\u3001\u305d\u308c\u305e\u308c\u306e\u4eba\u306e\u767a\u8a00\u529b\u3068\u306e\u95a2\u4fc2\u3067\u6c7a\u3081\u308b\u3053\u3068\u306b\u3059\u308b\u3002\u307e\u305f\u3001\u3042\u308b\u6642\u523b\u306b\u610f\u898b\u304c\u9078\u3070\u308c\u305f\u3068\u304d\u3001\u305d\u306e\u610f\u898b\u304b\u3089\u306e\u8ddd\u96e2\u304c\u4e00\u756a\u8fd1\u3044\u30af\u30e9\u30b9\u30bf\u30fc\u304b\u3089\u6b21\u306e\u610f\u898b\u3092\u9078\u3076\u3053\u3068\u306b\u3059\u308b\u3002\u4e00\u5ea6\u610f\u898b\u304c\u9078\u3070\u308c\u305f\u30af\u30e9\u30b9\u30bf\u30fc\u306f\u3082\u3046\u4e00\u5ea6\u9078\u3070\u308c\u308b\u3053\u3068\u306f\u306a\u304f\u3001\u305d\u306e\u305f\u3081\u30af\u30e9\u30b9\u30bf\u30fc\u3092\u4f5c\u308b\u306e\u306b\u5fc5\u8981\u306a\u30d1\u30e9\u30e1\u30fc\u30bf\u306e\u5024\u306b\u3088\u3063\u3066\u306f\u3001\u4f8b3\u3067\u8003\u3048\u305f\u3082\u306e\u3068\u5168\u304f\u540c\u3058\u306b\u306a\u308b\u3053\u3068\u304c\u8003\u3048\u3089\u308c\u308b\u3002"
     ]
    },
    {
     "cell_type": "markdown",
     "metadata": {},
     "source": [
      "\u4ee5\u4e0a\u306e\u8a2d\u5b9a\u3092\u8003\u3048\u3066\u3001\u30b7\u30df\u30e5\u30ec\u30fc\u30b7\u30e7\u30f3\u3092\u884c\u3063\u3066\u307f\u308b\u3002"
     ]
    },
    {
     "cell_type": "code",
     "collapsed": false,
     "input": [
      "%matplotlib inline\n",
      "import matplotlib.pyplot as plt\n",
      "import numpy as np\n",
      "from scipy.spatial.distance import euclidean as euc\n",
      "import collections\n",
      "from ipython_doctester import test"
     ],
     "language": "python",
     "metadata": {},
     "outputs": [],
     "prompt_number": 2
    },
    {
     "cell_type": "code",
     "collapsed": false,
     "input": [
      "def uniq_list(seq):\n",
      "    seen = set()\n",
      "    seen_add = seen.add\n",
      "    return [x for x in seq if x not in seen and not seen_add(x)]\n",
      "\n",
      "\n",
      "class Person:\n",
      "    \n",
      "    def __init__(self, master, id, ideas, w):\n",
      "        \"\"\"Initialize argmunets.\n",
      "        \n",
      "        Keyword arguments:\n",
      "        master    : Master class (call from \"Meeting\")\n",
      "        self.id   : Id for each person [0, 1, ..., N-1]\n",
      "        self.ideas: ideas in space [0,1] \u00d7 [0,1]\n",
      "        self.w    : probability weight for the person to speak\n",
      "        \"\"\"\n",
      "        self.id = id\n",
      "        self.ideas = ideas\n",
      "        self.w = w\n",
      "        # add_ideas : place, tag : (x, y), [person_id, cluster_id]\n",
      "        master.ideas += [[(i1, i2), [self.id, 0]] for i1, i2 in self.ideas]\n",
      "\n",
      "\n",
      "class Cluster:\n",
      "    \n",
      "    def __init__(self, ideas, r):\n",
      "        \"\"\"make cluster with self.r\n",
      "        \n",
      "        cluster_link:        \n",
      "        \"\"\"\n",
      "        self.ideas = ideas\n",
      "        self.r = r\n",
      "        self.cluster_link = []\n",
      "        self.clustering()\n",
      "        \n",
      "    def clustering(self):\n",
      "        self.cell_num = int(1./self.r)\n",
      "        lr = 1./self.cell_num\n",
      "        \n",
      "        self.cell = dict() # key: (cellx,celly), value: list of ids\n",
      "        self.rcell = []\n",
      "        for i, idea in enumerate(self.ideas):\n",
      "            cellx = int(idea[0][0]/lr)\n",
      "            celly = int(idea[0][1]/lr)\n",
      "            if self.cell.has_key((cellx, celly)):\n",
      "                self.cell[(cellx, celly)] += [i]\n",
      "            else:\n",
      "                self.cell[(cellx, celly)] = [i]\n",
      "            self.rcell.append((cellx, celly))\n",
      "        num = 1\n",
      "        for i in range(len(self.ideas)):\n",
      "            num += self.find_nearest(i, num)\n",
      "        return self.cluster_link\n",
      "\n",
      "    def find_nearest(self, idea_id, num):\n",
      "        \"\"\"find nearest idea\n",
      "\n",
      "        idea_id: index in self.ideas\n",
      "        \"\"\"\n",
      "        cx, cy = self.rcell[idea_id]\n",
      "        place = self.ideas[idea_id][0]\n",
      "        tmp = []\n",
      "        nearest = []\n",
      "        cid = [num]\n",
      "        for i in uniq_list([max(0, cx - 1), cx, min(cx + 1, self.cell_num - 1)]):\n",
      "            for j in uniq_list([max(0, cy - 1), cy, min(cy + 1, self.cell_num - 1)]):\n",
      "                if self.cell.has_key((i, j)):\n",
      "                    tmp += self.cell[(i, j)]\n",
      "        tmp.remove(idea_id)\n",
      "        if len(tmp) == 0:\n",
      "            self.ideas[idea_id][1][1] = num\n",
      "            return 1\n",
      "        else:\n",
      "            for k in tmp:\n",
      "                if euc(self.ideas[k][0], place) < self.r:\n",
      "                    nearest.append(k)\n",
      "                    prenum = self.ideas[k][1][1]\n",
      "                    if prenum == 0:\n",
      "                        cid.append(num)\n",
      "                        self.cluster_link.append((idea_id, k))\n",
      "                    elif prenum < num:\n",
      "                        cid.append(prenum)\n",
      "                        if not (k, idea_id) in self.cluster_link:\n",
      "                            self.cluster_link.append((idea_id, k))\n",
      "                    else:\n",
      "                        raise KeyboardInterrupt(\"Something wrong. exiting...\")\n",
      "\n",
      "            cluster_id = min(cid)\n",
      "            if cluster_id < num:\n",
      "                ans = 0\n",
      "            else:\n",
      "                ans = 1\n",
      "            self.ideas[idea_id][1][1] = cluster_id\n",
      "            for i in nearest:\n",
      "                self.ideas[i][1][1] = cluster_id\n",
      "            cid.remove(num)\n",
      "            if len(cid) != 0:\n",
      "                cid.remove(cluster_id)\n",
      "                if len(cid) != 0:\n",
      "                    for i in cid:\n",
      "                        for x in self.ideas:\n",
      "                            if x[1][1] == i:\n",
      "                                x[1][1] = cluster_id\n",
      "            return ans\n",
      "\n",
      "        \n",
      "class Meeting:\n",
      "    \n",
      "    def __init__(self, K, N, S=20, r=0.06, draw=True):\n",
      "        self.K = K\n",
      "        self.N = N\n",
      "        self.S = S\n",
      "        self.r = r\n",
      "        self.ideas = []\n",
      "        self.minutes = []\n",
      "        self.draw = draw\n",
      "        \n",
      "    def gather_people(self, ideass=None, weights=None):\n",
      "        \"\"\"Gather participants.\n",
      "        \n",
      "        Keyword arguments:\n",
      "        ideas  : list of ideas for each person\n",
      "               ex) [((0.3,0.1),(0.2,0.5)), ((0.5,0.6))] when N = 2\n",
      "        weights: list of weights for the probability of the person to speak\n",
      "        \"\"\"\n",
      "        if not ideass:\n",
      "            x = np.random.rand(self.N, self.S*2)\n",
      "            ideass = []\n",
      "            for _x in x:\n",
      "                ideass.append([(i,j) for i,j in zip(_x[::2], _x[1::2])])\n",
      "        if not weights:\n",
      "            weights = [1.] * self.N\n",
      "        for i, ideas, w in zip(range(self.N), ideass, weights):\n",
      "            Person(self, i, ideas, w)\n",
      "\n",
      "    def init(self):\n",
      "        self.gather_people()\n",
      "        cluster = Cluster(self.ideas, self.r)\n",
      "        self.cluster_link = cluster.cluster_link\n",
      "        if self.draw:\n",
      "            colors = ['b', 'g', 'r', 'c', 'm', 'y', 'k']\n",
      "            self.fig = plt.figure(figsize=(9, 9))\n",
      "            self.ax = self.fig.add_subplot(1, 1, 1)\n",
      "            self.labels = []\n",
      "            self.s1 = []\n",
      "            for idea, tag in self.ideas:\n",
      "                x = idea[0]\n",
      "                y = idea[1]\n",
      "                s = self.ax.scatter(x, y,\n",
      "                                    c=colors[tag[0]%len(colors)],\n",
      "                                    alpha=0.2)\n",
      "                self.s1.append(s)\n",
      "            data = []\n",
      "            for link in self.cluster_link:\n",
      "                ix = self.ideas[link[0]][0][0]\n",
      "                iy = self.ideas[link[0]][0][1]\n",
      "                jx = self.ideas[link[1]][0][0]\n",
      "                jy = self.ideas[link[1]][0][1]\n",
      "                data += [(ix, jx), (iy, jy), 'k']\n",
      "            self.ax.plot(*data, alpha=0.5)\n",
      "            \n",
      "    def progress(self):\n",
      "        self.init()\n",
      "        preidea = self.ideas[np.random.choice(range(len(self.ideas)))]\n",
      "        self.minutes.append(preidea)\n",
      "        l = list(self.ideas)\n",
      "        self.k = 1\n",
      "\n",
      "        while self.k < self.K + 1:\n",
      "            \n",
      "            # remove ideas in the same cluster\n",
      "            l = [idea for idea in l if idea[1][1] != preidea[1][1]]\n",
      "\n",
      "            # if no one can speak: meeting ends.\n",
      "            if len(l) == 0:\n",
      "                print \"no one can speak.\"\n",
      "                break\n",
      "\n",
      "            distance = []\n",
      "            for i in l:\n",
      "                distance.append((euc(preidea[0], i[0]), i))\n",
      "            idea = min(distance)[1]\n",
      "            self.minutes.append(idea)\n",
      "            preidea = idea\n",
      "            self.callback()\n",
      "            self.k += 1\n",
      "        self.after()\n",
      "\n",
      "    def callback(self):\n",
      "        if self.draw:\n",
      "            ix = self.minutes[-2][0][0]\n",
      "            iy = self.minutes[-2][0][1]\n",
      "            jx = self.minutes[-1][0][0]\n",
      "            jy = self.minutes[-1][0][1]\n",
      "            l1 = self.ax.plot([ix, jx], [iy, jy], color='b', alpha=0.5)\n",
      "            self.ax.text((ix+jx)/2, (iy+jy)/2, self.k)\n",
      "        else:\n",
      "            pass\n",
      "\n",
      "    def after(self):\n",
      "        if self.draw:\n",
      "            plt.show()\n",
      "        else:\n",
      "            pass"
     ],
     "language": "python",
     "metadata": {},
     "outputs": [],
     "prompt_number": 3
    },
    {
     "cell_type": "code",
     "collapsed": false,
     "input": [
      "meeting = Meeting(K=20, N=6, S=20, r=0.1, draw=True)\n",
      "meeting.progress()"
     ],
     "language": "python",
     "metadata": {},
     "outputs": [
      {
       "output_type": "stream",
       "stream": "stdout",
       "text": [
        "no one can speak.\n"
       ]
      },
      {
       "metadata": {},
       "output_type": "display_data",
       "png": "[encoded data removed]",
       "text": [
        "<matplotlib.figure.Figure at 0x7f6251ec2f50>"
       ]
      }
     ],
     "prompt_number": 4
    },
    {
     "cell_type": "code",
     "collapsed": false,
     "input": [
      "print sorted([x[1][1] for x in meeting.minutes])\n",
      "print meeting.cluster_link\n",
      "sorted([(x[1][1], x[1][0], (x[0])) for x in meeting.ideas])"
     ],
     "language": "python",
     "metadata": {},
     "outputs": [
      {
       "output_type": "stream",
       "stream": "stdout",
       "text": [
        "[1, 2, 3, 5, 6, 7, 9, 10, 11, 12, 17, 18]\n",
        "[(0, 46), (0, 76), (1, 13), (1, 59), (1, 27), (1, 93), (2, 8), (2, 56), (2, 70), (3, 77), (3, 22), (3, 35), (3, 111), (4, 116), (4, 74), (4, 84), (4, 107), (5, 68), (5, 103), (6, 100), (7, 107), (7, 60), (7, 89), (7, 63), (8, 82), (8, 70), (9, 29), (9, 20), (9, 71), (9, 69), (10, 118), (11, 51), (11, 53), (12, 117), (12, 14), (12, 97), (13, 30), (14, 117), (14, 97), (15, 87), (15, 114), (15, 31), (16, 85), (16, 95), (16, 73), (16, 19), (16, 42), (17, 119), (17, 45), (17, 86), (17, 57), (17, 99), (18, 78), (18, 64), (19, 85), (19, 95), (19, 73), (19, 93), (19, 42), (19, 52), (19, 55), (20, 29), (20, 71), (20, 40), (21, 90), (21, 58), (21, 101), (21, 31), (21, 105), (22, 77), (22, 35), (22, 46), (22, 76), (23, 25), (23, 92), (24, 79), (24, 99), (24, 72), (24, 25), (24, 26), (24, 92), (25, 26), (25, 92), (25, 94), (26, 94), (27, 59), (27, 93), (28, 98), (28, 106), (28, 50), (29, 71), (29, 69), (30, 65), (31, 87), (31, 58), (31, 105), (33, 38), (33, 66), (33, 67), (34, 108), (34, 88), (34, 43), (34, 117), (35, 77), (35, 111), (35, 76), (36, 84), (37, 111), (38, 66), (38, 56), (39, 96), (39, 110), (40, 71), (40, 79), (40, 109), (41, 45), (41, 86), (41, 69), (41, 79), (41, 109), (42, 85), (42, 95), (42, 73), (42, 52), (42, 55), (43, 108), (43, 88), (43, 117), (44, 112), (44, 88), (44, 64), (45, 86), (45, 69), (45, 57), (45, 99), (46, 71), (46, 77), (46, 76), (47, 110), (48, 82), (49, 54), (50, 98), (50, 106), (51, 53), (52, 85), (52, 55), (53, 75), (54, 62), (54, 115), (55, 85), (55, 95), (56, 66), (56, 70), (57, 119), (57, 86), (57, 99), (58, 90), (58, 101), (58, 105), (59, 80), (60, 74), (60, 107), (60, 89), (61, 67), (61, 115), (62, 115), (62, 96), (63, 89), (64, 112), (64, 78), (68, 103), (69, 86), (69, 79), (69, 109), (72, 79), (72, 81), (72, 92), (73, 85), (73, 95), (74, 116), (74, 84), (74, 107), (76, 77), (79, 109), (80, 102), (81, 92), (83, 103), (84, 107), (85, 95), (86, 99), (87, 114), (87, 91), (88, 108), (88, 112), (89, 107), (90, 91), (90, 101), (91, 114), (92, 94), (93, 95), (96, 115), (96, 110), (97, 117), (98, 106), (101, 105), (104, 116), (105, 113)]\n"
       ]
      },
      {
       "metadata": {},
       "output_type": "pyout",
       "prompt_number": 5,
       "text": [
        "[(1, 0, (0.038274437144207973, 0.52677686045139449)),\n",
        " (1, 0, (0.039241401553523514, 0.29228123028784181)),\n",
        " (1, 0, (0.17225583431935831, 0.12783582276580108)),\n",
        " (1, 0, (0.20834078073104711, 0.47215010107168898)),\n",
        " (1, 1, (0.018164245905628706, 0.70226870469832792)),\n",
        " (1, 1, (0.03554843315713041, 0.29418888630543971)),\n",
        " (1, 1, (0.045859501593770058, 0.35961300711375133)),\n",
        " (1, 1, (0.064985636145882486, 0.53146264788331965)),\n",
        " (1, 1, (0.074328039355695541, 0.5301263935074797)),\n",
        " (1, 1, (0.27203767728497708, 0.22584941832876326)),\n",
        " (1, 1, (0.3612333865853492, 0.2625995431596253)),\n",
        " (1, 1, (0.36765733253904653, 0.20476459214678377)),\n",
        " (1, 1, (0.39188330709449948, 0.34899098123972006)),\n",
        " (1, 2, (0.12172654335662036, 0.23518502829468391)),\n",
        " (1, 2, (0.12474495358495563, 0.44662996203103988)),\n",
        " (1, 2, (0.13236785278851748, 0.33489788487903382)),\n",
        " (1, 2, (0.15278591662298424, 0.155314243399991)),\n",
        " (1, 2, (0.20360544327353658, 0.13642032695903605)),\n",
        " (1, 3, (0.06957375852447012, 0.36338648036385979)),\n",
        " (1, 3, (0.099002479093619256, 0.47065514562891531)),\n",
        " (1, 3, (0.11152274141825813, 0.23439635029889372)),\n",
        " (1, 3, (0.13538871580336997, 0.47695579466294857)),\n",
        " (1, 3, (0.19236776583471826, 0.26321320244959945)),\n",
        " (1, 3, (0.25112154664916686, 0.26381220044203146)),\n",
        " (1, 4, (0.1608556860080006, 0.15321134513839618)),\n",
        " (1, 4, (0.24135774360138429, 0.14947292943497514)),\n",
        " (1, 4, (0.27617711834037917, 0.33128167277594067)),\n",
        " (1, 4, (0.32239114061107155, 0.29873950691527296)),\n",
        " (1, 4, (0.37370669429634107, 0.24276615806787782)),\n",
        " (1, 5, (0.035811105965275813, 0.6251794903410276)),\n",
        " (1, 5, (0.14876040723106199, 0.29225081766615979)),\n",
        " (1, 5, (0.1978412429601426, 0.038318541358231539)),\n",
        " (2, 0, (0.66735159767389007, 0.26498803055807008)),\n",
        " (2, 0, (0.6886449701987295, 0.085572230971756702)),\n",
        " (2, 0, (0.70865427981167017, 0.25073077813572131)),\n",
        " (2, 0, (0.754300734391814, 0.13502814854465051)),\n",
        " (2, 1, (0.6167550115478122, 0.060929547791520711)),\n",
        " (2, 1, (0.77245279983729265, 0.16225814431486352)),\n",
        " (2, 2, (0.70182829349774012, 0.33886447751858639)),\n",
        " (2, 2, (0.74871211207774746, 0.33651408883688472)),\n",
        " (2, 2, (0.77815757704121125, 0.30299471816428936)),\n",
        " (2, 2, (0.78825567512324934, 0.065646847165040212)),\n",
        " (2, 3, (0.54846321021755806, 0.040187604294896317)),\n",
        " (2, 3, (0.64401423647186995, 0.31225596769145791)),\n",
        " (2, 4, (0.69596446772574172, 0.24975723130980032)),\n",
        " (2, 4, (0.69744200389149746, 0.26027455889497231)),\n",
        " (2, 4, (0.76203254141540278, 0.18075659233091879)),\n",
        " (2, 4, (0.84598151297745749, 0.01816887102343967)),\n",
        " (2, 5, (0.8832876324554817, 0.015755494883258225)),\n",
        " (3, 0, (0.095573038406724597, 0.809922809161568)),\n",
        " (3, 0, (0.10664404184545728, 0.7491479244502981)),\n",
        " (3, 1, (0.18078363574011092, 0.65406162239811239)),\n",
        " (3, 1, (0.26614826701139127, 0.67942682899190432)),\n",
        " (3, 1, (0.58191022723836017, 0.53939289046940964)),\n",
        " (3, 2, (0.05638112448965571, 0.94720427349897762)),\n",
        " (3, 2, (0.14840568055464798, 0.72482250404326953)),\n",
        " (3, 2, (0.32906123696718081, 0.42784132363456562)),\n",
        " (3, 2, (0.39781049525065348, 0.47008154490096854)),\n",
        " (3, 2, (0.67396242134043916, 0.44457601125961332)),\n",
        " (3, 3, (0.12248882830580732, 0.77111997987388736)),\n",
        " (3, 3, (0.18987084364147921, 0.66652386577924894)),\n",
        " (3, 3, (0.28950000112846941, 0.63015486191048231)),\n",
        " (3, 3, (0.37829168029950722, 0.62359554100599335)),\n",
        " (3, 3, (0.418993477268503, 0.5174089696296903)),\n",
        " (3, 4, (0.014440323661903509, 0.86335800257138062)),\n",
        " (3, 4, (0.5175692438033932, 0.5206396628651534)),\n",
        " (3, 5, (0.43710003871751568, 0.54317553396084683)),\n",
        " (3, 5, (0.60328373711376093, 0.47297726855635713)),\n",
        " (5, 0, (0.50817659246851599, 0.81332905442193182)),\n",
        " (5, 0, (0.64832592238887943, 0.83318185119467902)),\n",
        " (5, 1, (0.49537477123069629, 0.95115655660599085)),\n",
        " (5, 3, (0.52102676031489459, 0.80103200554359977)),\n",
        " (5, 3, (0.6171932659642454, 0.8221119130083181)),\n",
        " (5, 3, (0.70840206243138781, 0.88852251537788374)),\n",
        " (5, 4, (0.51803321142372294, 0.8658278365262505)),\n",
        " (5, 4, (0.6606371622351187, 0.85595504143177359)),\n",
        " (5, 5, (0.538774729951224, 0.75560235721516888)),\n",
        " (5, 5, (0.56771237627851456, 0.87227760393339548)),\n",
        " (5, 5, (0.57225972719428742, 0.71067151532605699)),\n",
        " (6, 0, (0.22160659706592911, 0.96313876011386479)),\n",
        " (6, 3, (0.19558405685169156, 0.94674670359905633)),\n",
        " (6, 4, (0.32488092737292118, 0.99969175582667957)),\n",
        " (6, 5, (0.26816420809834529, 0.96533175728431042)),\n",
        " (7, 0, (0.53556552882994901, 0.38110881126720864)),\n",
        " (7, 5, (0.51476791312270898, 0.37709764299210524)),\n",
        " (9, 0, (0.57140648695371221, 0.15957391803028997)),\n",
        " (9, 5, (0.52374270813885926, 0.22907416821266668)),\n",
        " (10, 0, (0.23343688478181401, 0.78344964482733703)),\n",
        " (10, 2, (0.26236752359041127, 0.83253628175453254)),\n",
        " (10, 2, (0.3008959195147396, 0.81510771360966827)),\n",
        " (10, 3, (0.38511642987290684, 0.85935740072958056)),\n",
        " (11, 0, (0.95711713688920019, 0.52080645311176388)),\n",
        " (11, 0, (0.97529435934284192, 0.22854928569640331)),\n",
        " (11, 0, (0.97552433472691646, 0.57939012037809723)),\n",
        " (11, 1, (0.84722419203195354, 0.53660886377516781)),\n",
        " (11, 2, (0.84447837652687607, 0.54395264262589049)),\n",
        " (11, 2, (0.89311179253425299, 0.37937644947076343)),\n",
        " (11, 3, (0.93893587566747139, 0.31071471848747834)),\n",
        " (11, 3, (0.97441693684402753, 0.27774884297897762)),\n",
        " (11, 4, (0.82405519713908448, 0.4472127137672961)),\n",
        " (11, 4, (0.96770983899135576, 0.5378041411394483)),\n",
        " (11, 5, (0.76442457662675511, 0.49497800583395479)),\n",
        " (11, 5, (0.88501652722748259, 0.37696096967812509)),\n",
        " (11, 5, (0.89386101246509586, 0.52856205187660554)),\n",
        " (12, 0, (0.96696143888950603, 0.70992746984359678)),\n",
        " (12, 1, (0.88617635501173098, 0.81909590894696194)),\n",
        " (12, 1, (0.92414097609033208, 0.77980775817439574)),\n",
        " (12, 2, (0.89749666909985049, 0.80503822733647534)),\n",
        " (12, 4, (0.81973500308293179, 0.77299796660155184)),\n",
        " (12, 4, (0.82232407251392903, 0.70050949552098418)),\n",
        " (12, 4, (0.89006396372499719, 0.68670971679430637)),\n",
        " (12, 5, (0.80507838915435936, 0.83805459118599546)),\n",
        " (12, 5, (0.86136640024423983, 0.94749916076123319)),\n",
        " (12, 5, (0.89597235604955228, 0.65145291769517311)),\n",
        " (12, 5, (0.90177230839510514, 0.86341306816898278)),\n",
        " (17, 1, (0.42619296841392529, 0.040752799737142187)),\n",
        " (17, 2, (0.42901403634944257, 0.058902173859520346)),\n",
        " (17, 4, (0.38024981762192422, 0.0016574590409637047)),\n",
        " (17, 5, (0.37065345984793274, 0.071556385764489305)),\n",
        " (18, 1, (0.7060547416538433, 0.66396141230066141))]"
       ]
      }
     ],
     "prompt_number": 5
    },
    {
     "cell_type": "markdown",
     "metadata": {},
     "source": [
      "\u4e0b\u306e\u3084\u308a\u65b9\u3067\u306f\u30af\u30e9\u30b9\u30bf\u30fc\u306e\u6570\u3092\u3061\u3083\u3093\u3068\u6570\u3048\u305f\u3053\u3068\u306b\u306a\u3089\u306a\u3044\u3002(\u30af\u30e9\u30b9\u30bf\u30fc\u540c\u58eb\u306e\u878d\u5408\u3092\u8003\u3048\u308b\u3053\u3068\u304c\u3067\u304d\u306a\u3044)"
     ]
    },
    {
     "cell_type": "code",
     "collapsed": false,
     "input": [
      "max([x[1][1] for x in meeting.ideas])"
     ],
     "language": "python",
     "metadata": {},
     "outputs": [
      {
       "metadata": {},
       "output_type": "pyout",
       "prompt_number": 6,
       "text": [
        "18"
       ]
      }
     ],
     "prompt_number": 6
    },
    {
     "cell_type": "markdown",
     "metadata": {},
     "source": [
      "\u6b63\u3057\u3044\u6570\u3048\u65b9"
     ]
    },
    {
     "cell_type": "code",
     "collapsed": false,
     "input": [
      "len(uniq_list([x[1][1] for x in meeting.ideas]))"
     ],
     "language": "python",
     "metadata": {},
     "outputs": [
      {
       "metadata": {},
       "output_type": "pyout",
       "prompt_number": 7,
       "text": [
        "12"
       ]
      }
     ],
     "prompt_number": 7
    },
    {
     "cell_type": "markdown",
     "metadata": {},
     "source": [
      "\u95be\u5024$r$\u3092\u5909\u3048\u305f\u3068\u304d\u306b\u610f\u898b\u306e\u7dcf\u6570\u306b\u5bfe\u3059\u308b\u30af\u30e9\u30b9\u30bf\u30fc\u306e\u6570\u3068\u306e\u95a2\u4fc2\u3002\u6a2a\u8ef8$r$\u3001\u7e26\u8ef8$1- (\\text{\u30af\u30e9\u30b9\u30bf\u30fc\u306e\u6570})/(\\text{\u610f\u898b\u306e\u7dcf\u6570})$\u306e\u4e21\u5bfe\u6570\u30d7\u30ed\u30c3\u30c8\u3002"
     ]
    },
    {
     "cell_type": "code",
     "collapsed": false,
     "input": [
      "trial = 100\n",
      "\n",
      "r = np.logspace(-2, np.log10(0.2), num=50)\n",
      "phi = []\n",
      "for _r in r:\n",
      "    _phi = 0.\n",
      "    for t in range(trial):\n",
      "        meeting = Meeting(K=50, N=6, r=_r, draw=False)\n",
      "        meeting.init()\n",
      "        _phi += len(uniq_list([x[1][1] for x in meeting.ideas]))/float(len(meeting.ideas))\n",
      "    phi.append(1 - _phi/trial)"
     ],
     "language": "python",
     "metadata": {},
     "outputs": [],
     "prompt_number": 24
    },
    {
     "cell_type": "code",
     "collapsed": false,
     "input": [
      "fig = plt.figure(figsize=(8, 12))\n",
      "ax1 = fig.add_subplot(211)\n",
      "ax1.plot(r, phi)\n",
      "ax1.set_xlabel(r'$r$')\n",
      "ax1.set_ylabel(r'$\\phi$')\n",
      "ax1.set_xscale('linear')\n",
      "ax1.set_yscale('linear')\n",
      "ax2 = fig.add_subplot(212)\n",
      "ax2.plot(r, phi)\n",
      "ax2.set_xlabel(r'$r$')\n",
      "ax2.set_ylabel(r'$\\phi$')\n",
      "ax2.set_xscale('log')\n",
      "ax2.set_yscale('log')\n",
      "plt.show()"
     ],
     "language": "python",
     "metadata": {},
     "outputs": [
      {
       "metadata": {},
       "output_type": "display_data",
       "png": "[encoded data removed]",
       "text": [
        "<matplotlib.figure.Figure at 0x7f2c94ff2e10>"
       ]
      }
     ],
     "prompt_number": 12
    },
    {
     "cell_type": "markdown",
     "metadata": {},
     "source": [
      "\u3053\u306e\u30b0\u30e9\u30d5\u304b\u3089\u3001\u30af\u30e9\u30b9\u30bf\u30fc\u306e\u4f5c\u308a\u65b9\u306b\u95a2\u3059\u308b\u95be\u5024$r$\u306b\u95a2\u3057\u3066\u30af\u30e9\u30b9\u30bf\u30fc\u306e\u6570\u3068\u306e\u95a2\u4fc2\u3092\u898b\u308b\u3053\u3068\u304c\u3067\u304d\u308b\u3002$r$\u304c\u5927\u304d\u304f\u306a\u308b\u307b\u3069\u30af\u30e9\u30b9\u30bf\u30fc\u304c\u3067\u304d\u3084\u3059\u304f\u3001\u307e\u305f\u30af\u30e9\u30b9\u30bf\u30fc\u540c\u58eb\u306e\u878d\u5408\u3082\u8d77\u3053\u308a\u3084\u3059\u3044\u305f\u3081\u3001$r=0.15$\u307b\u3069\u3067\u7cfb\u306e\u4e2d\u306b\u3042\u308b\u30af\u30e9\u30b9\u30bf\u30fc\u306e\u6570\u306f1\u3068\u306a\u3063\u3066\u3001\u3059\u3079\u3066\u304c\u540c\u3058\u30af\u30e9\u30b9\u30bf\u30fc\u5185\u306b\u6240\u5c5e\u3059\u308b\u3053\u3068\u306b\u306a\u308b\u3002\n",
      "\n",
      "\u307e\u305f\u3001\u30d1\u30fc\u30b3\u30ec\u30fc\u30b7\u30e7\u30f3\u3068\u3057\u3066\u3053\u306e\u73fe\u8c61\u3092\u3068\u3089\u3048\u305f\u3068\u304d\u3001\u3042\u308b$r$\u306e\u5024\u306b\u304a\u3044\u3066\u7cfb\u306e\u30b5\u30a4\u30ba\u3068\u540c\u7a0b\u5ea6\u306e\u5927\u304d\u3055\u306e\u30af\u30e9\u30b9\u30bf\u30fc\u304c\u51fa\u73fe\u3059\u308b\u3088\u3046\u306b\u306a\u308a\u3001\u3053\u306e\u3068\u304d\u306e\u30af\u30e9\u30b9\u30bf\u30fc\u306e\u30b5\u30a4\u30ba\u5206\u5e03\u3092\u6c42\u3081\u308c\u3070\u3001\u305d\u308c\u306f\u3079\u304d\u5206\u5e03\u306b\u5f93\u3046\u3053\u3068\u304c\u4e88\u60f3\u3055\u308c\u308b\u3002\n",
      "\n",
      "\u4ee5\u4e0b\u306e\u30bb\u30eb\u3067\u305d\u306e\u3053\u3068\u3092\u8abf\u3079\u3066\u307f\u308b\u3002"
     ]
    },
    {
     "cell_type": "code",
     "collapsed": false,
     "input": [
      "trial = 1\n",
      "_r = 0.06\n",
      "_phi = collections.Counter()\n",
      "for i in range(trial):\n",
      "    meeting = Meeting(K=50, N=6, r=_r, draw=False)\n",
      "    meeting.init()\n",
      "    _phi = _phi + collections.Counter([x[1][1] for x in meeting.ideas])\n",
      "phi = [(k, v/float(trial)) for k, v in dict(_phi).items()]\n",
      "print phi"
     ],
     "language": "python",
     "metadata": {},
     "outputs": [
      {
       "output_type": "stream",
       "stream": "stdout",
       "text": [
        "[(1, 2.0), (2, 5.0), (3, 2.0), (4, 1.0), (5, 2.0), (6, 2.0), (7, 2.0), (8, 3.0), (9, 1.0), (10, 3.0), (11, 2.0), (12, 6.0), (13, 1.0), (14, 1.0), (15, 6.0), (16, 3.0), (17, 1.0), (18, 2.0), (19, 5.0), (20, 3.0), (21, 1.0), (22, 1.0), (23, 1.0), (25, 4.0), (26, 3.0), (27, 6.0), (28, 1.0), (29, 1.0), (30, 3.0), (31, 1.0), (32, 2.0), (33, 1.0), (34, 1.0), (35, 1.0), (36, 1.0), (37, 2.0), (38, 3.0), (39, 1.0), (40, 1.0), (41, 1.0), (42, 2.0), (43, 1.0), (44, 1.0), (45, 1.0), (46, 1.0), (47, 2.0), (48, 1.0), (49, 1.0), (50, 2.0), (51, 2.0), (52, 1.0), (53, 1.0), (54, 1.0), (55, 1.0), (56, 1.0), (57, 1.0), (58, 1.0), (59, 1.0), (60, 1.0), (61, 1.0), (62, 1.0), (63, 1.0), (64, 1.0), (65, 1.0), (66, 1.0), (67, 1.0), (68, 1.0)]\n"
       ]
      }
     ],
     "prompt_number": 8
    },
    {
     "cell_type": "markdown",
     "metadata": {},
     "source": [
      "\u307e\u305f\u3001\u4e21\u5bfe\u6570\u30b0\u30e9\u30d5\u306b\u53d6\u3063\u305f\u3068\u304d\u306b$r$\u306e\u5c0f\u3055\u3044\u3068\u3053\u308d\u3067\u306f\u76f4\u7dda\u306b\u4e57\u3063\u3066\u3044\u308b\u3053\u3068\u304b\u3089\u3001$r$\u3068\u3053\u3053\u3067\u6c42\u3081\u305f\u6307\u6a19$\\phi$\u3068\u306e\u9593\u306b\u306f\u3001$r$\u304c\u5c0f\u3055\u3044\u3068\u3053\u308d\u3067\u306f\u30d9\u30ad\u4e57\u306e\u95a2\u4fc2\u306b\u3042\u308b\u3053\u3068\u304c\u5206\u304b\u308b\u3002\n",
      "\n",
      "\u78ba\u7387\u8ad6\u304b\u3089simple1,simple2\u306e\u3088\u3046\u306b\u89e3\u6790\u7684\u306b\u6c42\u3081\u308b\u3053\u3068\u304c\u3067\u304d\u308b\u306f\u305a\u3002"
     ]
    },
    {
     "cell_type": "markdown",
     "metadata": {},
     "source": [
      "\u95be\u5024$r$\u3092\u5909\u3048\u305f\u3068\u304d\u306e\u6700\u5927\u30af\u30e9\u30b9\u30bf\u30fc\u306e\u30b5\u30a4\u30ba\u3068\u5168\u8981\u7d20\u6570\u3068\u306e\u9593\u306e\u95a2\u4fc2\u3002\u30af\u30e9\u30b9\u30bf\u30fc\u30b5\u30a4\u30ba\u3068\u306f\u3053\u3053\u3067\u306f\u540c\u3058\u30af\u30e9\u30b9\u30bf\u30fc\u5185\u306b\u542b\u307e\u308c\u308b\u8981\u7d20\u306e\u6570\u3002\n",
      "\n",
      "\u6a2a\u8ef8$r$\u3001\u7e26\u8ef8$(\\text{\u6700\u5927\u30af\u30e9\u30b9\u30bf\u30fc\u30b5\u30a4\u30ba})/(\\text{\u5168\u8981\u7d20\u6570})$"
     ]
    },
    {
     "cell_type": "code",
     "collapsed": false,
     "input": [
      "print collections.Counter([x[1][1] for x in meeting.ideas])\n",
      "max([v for v in collections.Counter([x[1][1] for x in meeting.ideas]).values()])/float(len(meeting.ideas))"
     ],
     "language": "python",
     "metadata": {},
     "outputs": [
      {
       "output_type": "stream",
       "stream": "stdout",
       "text": [
        "Counter({12: 6, 15: 6, 27: 6, 2: 5, 19: 5, 25: 4, 8: 3, 10: 3, 16: 3, 20: 3, 26: 3, 30: 3, 38: 3, 1: 2, 3: 2, 5: 2, 6: 2, 7: 2, 11: 2, 18: 2, 32: 2, 37: 2, 42: 2, 47: 2, 50: 2, 51: 2, 4: 1, 9: 1, 13: 1, 14: 1, 17: 1, 21: 1, 22: 1, 23: 1, 28: 1, 29: 1, 31: 1, 33: 1, 34: 1, 35: 1, 36: 1, 39: 1, 40: 1, 41: 1, 43: 1, 44: 1, 45: 1, 46: 1, 48: 1, 49: 1, 52: 1, 53: 1, 54: 1, 55: 1, 56: 1, 57: 1, 58: 1, 59: 1, 60: 1, 61: 1, 62: 1, 63: 1, 64: 1, 65: 1, 66: 1, 67: 1, 68: 1})\n"
       ]
      },
      {
       "metadata": {},
       "output_type": "pyout",
       "prompt_number": 9,
       "text": [
        "0.05"
       ]
      }
     ],
     "prompt_number": 9
    },
    {
     "cell_type": "code",
     "collapsed": false,
     "input": [
      "trial = 100\n",
      "\n",
      "r = np.logspace(-2, np.log10(0.2), num=50)\n",
      "phi = []\n",
      "for _r in r:\n",
      "    _phi = 0.\n",
      "    for t in range(trial):\n",
      "        meeting = Meeting(K=50, N=6, r=_r, draw=False)\n",
      "        meeting.init()\n",
      "        _phi += max([v for v in\n",
      "                     collections.Counter([x[1][1] for x in meeting.ideas]).values()]\n",
      "                    ) \\\n",
      "                / \\\n",
      "                float(len(meeting.ideas))\n",
      "    phi.append(_phi/trial)"
     ],
     "language": "python",
     "metadata": {},
     "outputs": [],
     "prompt_number": 47
    },
    {
     "cell_type": "code",
     "collapsed": false,
     "input": [
      "fig = plt.figure(figsize=(8, 12))\n",
      "ax1 = fig.add_subplot(211)\n",
      "ax1.plot(r, phi)\n",
      "ax1.set_xlabel(r'$r$')\n",
      "ax1.set_ylabel(r'$\\phi$')\n",
      "ax1.set_xscale('linear')\n",
      "ax1.set_yscale('linear')\n",
      "ax2 = fig.add_subplot(212)\n",
      "ax2.plot(r, phi)\n",
      "ax2.set_xlabel(r'$r$')\n",
      "ax2.set_ylabel(r'$\\phi$')\n",
      "ax2.set_xscale('linear')\n",
      "ax2.set_yscale('log')\n",
      "plt.show()"
     ],
     "language": "python",
     "metadata": {},
     "outputs": [
      {
       "metadata": {},
       "output_type": "display_data",
       "png": "[encoded data removed]",
       "text": [
        "<matplotlib.figure.Figure at 0x7fe708b96810>"
       ]
      }
     ],
     "prompt_number": 50
    },
    {
     "cell_type": "markdown",
     "metadata": {},
     "source": [
      "\u6a2a\u8ef8r\u3001\u7e26\u8ef8(\u6700\u5927\u30af\u30e9\u30b9\u30bf\u30fc\u30b5\u30a4\u30ba)/(\u5168\u8981\u7d20\u6570)\u3067\u7e26\u8ef8\u306b\u5bfe\u6570\u3092\u53d6\u3063\u305f\u3068\u304d\u306b\u76f4\u7dda\u306b\u4e57\u3063\u3066\u3044\u308b(\u3088\u3046\u306b\u898b\u3048\u308b)\u3002\n",
      "\n",
      "\u306a\u305c\u304b?"
     ]
    },
    {
     "cell_type": "heading",
     "level": 3,
     "metadata": {},
     "source": [
      "simple2\u3067\u8003\u3048\u305f\u3088\u3046\u306b\u8003\u3048\u3066\u307f\u308b"
     ]
    },
    {
     "cell_type": "markdown",
     "metadata": {},
     "source": [
      "\u70b9\u306e\u5206\u5e03\u3059\u308b\u7bc4\u56f2\u306f$\\Omega = [0,1]\\times [0,1]$\u3067\u3042\u308a\u3001\u3053\u306e\u4e2d\u306e\u9762\u7a4d$S$\u306e\u9818\u57df\u306e\u4e2d\u306b\u70b9\u3092\u898b\u51fa\u3059\u78ba\u7387\u306f$S$\u3067\u3042\u308b\u3002\n",
      "\n",
      "\u6b21\u306b\u3001\u9818\u57df\u5185\u306e\u3042\u308b\u70b9$\\vec x=(x,y)$\u3092\u4e2d\u5fc3\u3068\u3057\u3066\u534a\u5f84$r$($0 < r \\le 0.5$)\u306e\u9818\u57df$B(\\vec x, r)$\u5185\u306b\u70b9\u3092\u898b\u51fa\u3059\u78ba\u7387$p(\\vec x)$\u306f\u3001\u5883\u754c\u306e\u5f71\u97ff\u3092\u3046\u3051\u306a\u3044\u9818\u57df($\\Omega ' = \\{(x,y) | r \\le x \\le 1-r, r \\le y \\le 1-r \\}$)\u3067\u306f$\\pi r^{2}$\u3067\u3042\u308a\u3001\u5883\u754c\u306e\u5f71\u97ff\u3092\u53d7\u3051\u308b\u9818\u57df($\\Omega'' = \\Omega / \\Omega'$)\u306b\u304a\u3044\u3066\u70b9\u3092\u898b\u51fa\u3059\u78ba\u7387\u306f\u3001\u9818\u57df\u3092\n",
      "\n",
      "$$\\begin{align}\n",
      "\\Omega''_{x} &= \\{(x,y) | 0 \\le x < r, r< y < 1-r\\} \\\\\n",
      "\\Omega''_{1-x} &= \\{(x,y) | 1-r < x \\le 1, r< y < 1-r\\} \\\\\n",
      "\\Omega''_{y} &= \\{(x,y) | r < x < 1-r, 0 \\le y < r\\} \\\\\n",
      "\\Omega''_{1-y} &= \\{(x,y) | r < x < 1-r, 1-r < y \\le 1\\} \\\\\n",
      "\\Omega''_{x,y} &= \\{(x,y) | 0 \\le x < r, 0 \\le y < r\\} \\\\\n",
      "\\Omega''_{1-x,y} &= \\{(x,y) | 1-r < x \\le 1, 0 \\le y < r\\} \\\\\n",
      "\\Omega''_{x,1-y} &= \\{(x,y) | 0 \\le x < r, 1-r < y \\le 1\\} \\\\\n",
      "\\Omega''_{1-x, 1-y} &= \\{(x,y) | 1-r < x \\le 1, 1-r < y \\le 1\\}\n",
      "\\end{align}$$\n",
      "\n",
      "\u306e\u3088\u3046\u306b\u3042\u3089\u308f\u3057\u3001$\\Omega''_{i}$\u3082\u3057\u304f\u306f$\\Omega''_{i,j}$\u3067\u307e\u3068\u3081\u3066\u66f8\u304f\u3053\u3068\u306b\u3059\u308b\u3068\u3001\n",
      "\n",
      "$$p(\\vec x \\in \\Omega''_{i}) = i \\sqrt{r^{2}-i^{2}} + r^{2} \\left[ \\pi -\\arccos \\left( \\frac{i}{r} \\right) \\right]$$\n",
      "\n",
      "$$\\begin{align}p(\\vec x \\in \\Omega''_{i,j}) = &\\frac{1}{2}\\left\\{ \\sqrt{r^{2}-i^{2}} + \\min \\left(j, \\sqrt{r^{2}-i^{2}}\\right) \\right\\}i + \\frac{1}{2}\\left\\{ \\sqrt{r^{2}-j^{2}} + \\min \\left( i, \\sqrt{r^{2}-j^{2}}\\right) \\right\\}j \\\\\n",
      "&+ \\frac{1}{2}r^{2} \\left\\{ 2\\pi -\\arccos \\left( \\frac{i}{r} \\right) -\\arccos \\left( \\frac{j}{r} \\right) -\\min \\left( \\frac{\\pi}{2}, \\arccos \\left( \\frac{i}{r} \\right) +\\arccos \\left( \\frac{j}{r} \\right) \\right) \\right\\}\n",
      "\\end{align}$$\n",
      "\n",
      "\u306e\u3088\u3046\u306b\u3042\u3089\u308f\u3059\u3053\u3068\u304c\u3067\u304d\u308b\u3002"
     ]
    },
    {
     "cell_type": "code",
     "collapsed": false,
     "input": [
      "r = np.linspace(0., 0.5)\n",
      "def func(x):\n",
      "    return (-0.5*np.pi**2+3*np.pi+1)*x**4 - 8/3.*x**3 + np.pi*x**2\n",
      "y = func(r)\n",
      "plt.plot(r, y)\n",
      "plt.plot(r, np.pi*r**2)\n",
      "plt.show()\n",
      "print func(0.5)"
     ],
     "language": "python",
     "metadata": {},
     "outputs": [
      {
       "metadata": {},
       "output_type": "display_data",
       "png": "[encoded data removed]",
       "text": [
        "<matplotlib.figure.Figure at 0x7f625153ded0>"
       ]
      },
      {
       "output_type": "stream",
       "stream": "stdout",
       "text": [
        "0.795188315078\n"
       ]
      }
     ],
     "prompt_number": 27
    },
    {
     "cell_type": "markdown",
     "metadata": {},
     "source": []
    },
    {
     "cell_type": "code",
     "collapsed": false,
     "input": [
      "import pandas as pd\n",
      "pd.DataFrame(np.array([r, phi]).T)"
     ],
     "language": "python",
     "metadata": {},
     "outputs": [
      {
       "html": [
        "<div style=\"max-height:1000px;max-width:1500px;overflow:auto;\">\n",
        "<table border=\"1\" class=\"dataframe\">\n",
        "  <thead>\n",
        "    <tr style=\"text-align: right;\">\n",
        "      <th></th>\n",
        "      <th>0</th>\n",
        "      <th>1</th>\n",
        "    </tr>\n",
        "  </thead>\n",
        "  <tbody>\n",
        "    <tr>\n",
        "      <th>0 </th>\n",
        "      <td> 0.001000</td>\n",
        "      <td> 0.000000</td>\n",
        "    </tr>\n",
        "    <tr>\n",
        "      <th>1 </th>\n",
        "      <td> 0.011474</td>\n",
        "      <td> 0.023056</td>\n",
        "    </tr>\n",
        "    <tr>\n",
        "      <th>2 </th>\n",
        "      <td> 0.021947</td>\n",
        "      <td> 0.081389</td>\n",
        "    </tr>\n",
        "    <tr>\n",
        "      <th>3 </th>\n",
        "      <td> 0.032421</td>\n",
        "      <td> 0.181667</td>\n",
        "    </tr>\n",
        "    <tr>\n",
        "      <th>4 </th>\n",
        "      <td> 0.042895</td>\n",
        "      <td> 0.283333</td>\n",
        "    </tr>\n",
        "    <tr>\n",
        "      <th>5 </th>\n",
        "      <td> 0.053368</td>\n",
        "      <td> 0.406111</td>\n",
        "    </tr>\n",
        "    <tr>\n",
        "      <th>6 </th>\n",
        "      <td> 0.063842</td>\n",
        "      <td> 0.522222</td>\n",
        "    </tr>\n",
        "    <tr>\n",
        "      <th>7 </th>\n",
        "      <td> 0.074316</td>\n",
        "      <td> 0.635278</td>\n",
        "    </tr>\n",
        "    <tr>\n",
        "      <th>8 </th>\n",
        "      <td> 0.084789</td>\n",
        "      <td> 0.711667</td>\n",
        "    </tr>\n",
        "    <tr>\n",
        "      <th>9 </th>\n",
        "      <td> 0.095263</td>\n",
        "      <td> 0.788056</td>\n",
        "    </tr>\n",
        "    <tr>\n",
        "      <th>10</th>\n",
        "      <td> 0.105737</td>\n",
        "      <td> 0.833611</td>\n",
        "    </tr>\n",
        "    <tr>\n",
        "      <th>11</th>\n",
        "      <td> 0.116211</td>\n",
        "      <td> 0.869444</td>\n",
        "    </tr>\n",
        "    <tr>\n",
        "      <th>12</th>\n",
        "      <td> 0.126684</td>\n",
        "      <td> 0.900833</td>\n",
        "    </tr>\n",
        "    <tr>\n",
        "      <th>13</th>\n",
        "      <td> 0.137158</td>\n",
        "      <td> 0.920556</td>\n",
        "    </tr>\n",
        "    <tr>\n",
        "      <th>14</th>\n",
        "      <td> 0.147632</td>\n",
        "      <td> 0.955000</td>\n",
        "    </tr>\n",
        "    <tr>\n",
        "      <th>15</th>\n",
        "      <td> 0.158105</td>\n",
        "      <td> 0.972500</td>\n",
        "    </tr>\n",
        "    <tr>\n",
        "      <th>16</th>\n",
        "      <td> 0.168579</td>\n",
        "      <td> 0.977778</td>\n",
        "    </tr>\n",
        "    <tr>\n",
        "      <th>17</th>\n",
        "      <td> 0.179053</td>\n",
        "      <td> 0.982500</td>\n",
        "    </tr>\n",
        "    <tr>\n",
        "      <th>18</th>\n",
        "      <td> 0.189526</td>\n",
        "      <td> 0.988333</td>\n",
        "    </tr>\n",
        "    <tr>\n",
        "      <th>19</th>\n",
        "      <td> 0.200000</td>\n",
        "      <td> 0.991389</td>\n",
        "    </tr>\n",
        "  </tbody>\n",
        "</table>\n",
        "<p>20 rows \u00d7 2 columns</p>\n",
        "</div>"
       ],
       "metadata": {},
       "output_type": "pyout",
       "prompt_number": 10,
       "text": [
        "           0         1\n",
        "0   0.001000  0.000000\n",
        "1   0.011474  0.023056\n",
        "2   0.021947  0.081389\n",
        "3   0.032421  0.181667\n",
        "4   0.042895  0.283333\n",
        "5   0.053368  0.406111\n",
        "6   0.063842  0.522222\n",
        "7   0.074316  0.635278\n",
        "8   0.084789  0.711667\n",
        "9   0.095263  0.788056\n",
        "10  0.105737  0.833611\n",
        "11  0.116211  0.869444\n",
        "12  0.126684  0.900833\n",
        "13  0.137158  0.920556\n",
        "14  0.147632  0.955000\n",
        "15  0.158105  0.972500\n",
        "16  0.168579  0.977778\n",
        "17  0.179053  0.982500\n",
        "18  0.189526  0.988333\n",
        "19  0.200000  0.991389\n",
        "\n",
        "[20 rows x 2 columns]"
       ]
      }
     ],
     "prompt_number": 10
    },
    {
     "cell_type": "code",
     "collapsed": false,
     "input": [
      "a = [1,2,3,4,5,6,7]\n",
      "preidea = np.random.choice(a)\n",
      "print preidea\n",
      "print a"
     ],
     "language": "python",
     "metadata": {},
     "outputs": [
      {
       "output_type": "stream",
       "stream": "stdout",
       "text": [
        "5\n",
        "[1, 2, 3, 4, 5, 6, 7]\n"
       ]
      }
     ],
     "prompt_number": 22
    },
    {
     "cell_type": "code",
     "collapsed": false,
     "input": [
      "ideas = meeting.ideas\n",
      "r = 0.06\n",
      "cell_num = int(1./r)\n",
      "print cell_num\n",
      "lr = 1./cell_num\n",
      "print lr\n",
      "cell = dict()\n",
      "rcell = []\n",
      "for i, idea in enumerate(ideas):\n",
      "    cellx = int(idea[0][0]/lr)\n",
      "    celly = int(idea[0][1]/lr)\n",
      "    if cell.has_key((cellx, celly)):\n",
      "        cell[(cellx, celly)] += [i]\n",
      "    else:\n",
      "        cell[(cellx, celly)] = [i]\n",
      "    rcell.append((cellx, celly))\n",
      "cell"
     ],
     "language": "python",
     "metadata": {},
     "outputs": [
      {
       "output_type": "stream",
       "stream": "stdout",
       "text": [
        "16\n",
        "0.0625\n"
       ]
      },
      {
       "metadata": {},
       "output_type": "pyout",
       "prompt_number": 52,
       "text": [
        "{(0, 1): [80],\n",
        " (0, 4): [59],\n",
        " (0, 5): [11],\n",
        " (0, 7): [114],\n",
        " (0, 11): [115],\n",
        " (0, 13): [78],\n",
        " (0, 15): [43, 70, 117],\n",
        " (1, 1): [67],\n",
        " (1, 6): [8],\n",
        " (1, 9): [39],\n",
        " (2, 1): [108],\n",
        " (2, 2): [113],\n",
        " (2, 4): [10],\n",
        " (2, 5): [18],\n",
        " (2, 7): [63],\n",
        " (2, 8): [81],\n",
        " (2, 9): [35, 74],\n",
        " (2, 13): [48],\n",
        " (2, 15): [103],\n",
        " (3, 0): [91],\n",
        " (3, 4): [4, 42],\n",
        " (3, 10): [58, 73],\n",
        " (3, 11): [0],\n",
        " (3, 15): [96],\n",
        " (4, 5): [34],\n",
        " (4, 6): [46],\n",
        " (4, 9): [16],\n",
        " (4, 11): [86],\n",
        " (4, 12): [89],\n",
        " (5, 2): [75],\n",
        " (5, 3): [76, 107],\n",
        " (5, 4): [99],\n",
        " (5, 9): [28],\n",
        " (5, 10): [72],\n",
        " (5, 11): [5],\n",
        " (5, 12): [51, 53],\n",
        " (5, 13): [31],\n",
        " (5, 14): [92, 106],\n",
        " (5, 15): [102],\n",
        " (6, 1): [77, 87],\n",
        " (6, 3): [2],\n",
        " (6, 6): [50, 112, 116],\n",
        " (6, 8): [25],\n",
        " (6, 9): [45],\n",
        " (6, 13): [22],\n",
        " (7, 1): [79],\n",
        " (7, 2): [66],\n",
        " (7, 3): [64],\n",
        " (7, 5): [84],\n",
        " (7, 6): [14, 109],\n",
        " (7, 7): [19],\n",
        " (7, 9): [23],\n",
        " (7, 13): [104],\n",
        " (7, 14): [1],\n",
        " (7, 15): [54],\n",
        " (8, 4): [111],\n",
        " (8, 7): [20, 62],\n",
        " (8, 9): [33],\n",
        " (8, 10): [9],\n",
        " (8, 11): [94],\n",
        " (8, 14): [85],\n",
        " (9, 0): [52, 83],\n",
        " (9, 2): [47],\n",
        " (9, 6): [3, 38],\n",
        " (9, 7): [105],\n",
        " (9, 8): [44],\n",
        " (9, 11): [57],\n",
        " (9, 12): [61],\n",
        " (9, 13): [119],\n",
        " (10, 0): [101],\n",
        " (10, 2): [100],\n",
        " (10, 3): [95],\n",
        " (10, 5): [69],\n",
        " (10, 7): [60],\n",
        " (10, 10): [56],\n",
        " (10, 13): [12],\n",
        " (10, 14): [7],\n",
        " (11, 1): [21],\n",
        " (11, 7): [88, 93],\n",
        " (11, 8): [110],\n",
        " (11, 9): [6],\n",
        " (12, 0): [26, 41],\n",
        " (12, 2): [49],\n",
        " (12, 5): [37],\n",
        " (12, 6): [13],\n",
        " (12, 8): [24],\n",
        " (12, 10): [40],\n",
        " (12, 12): [118],\n",
        " (12, 13): [15],\n",
        " (13, 4): [27, 65],\n",
        " (13, 6): [17],\n",
        " (13, 9): [36],\n",
        " (13, 13): [32],\n",
        " (13, 15): [90],\n",
        " (14, 0): [29],\n",
        " (14, 2): [97],\n",
        " (14, 4): [55],\n",
        " (14, 14): [68, 71],\n",
        " (14, 15): [82],\n",
        " (15, 0): [98],\n",
        " (15, 1): [30]}"
       ]
      }
     ],
     "prompt_number": 52
    },
    {
     "cell_type": "code",
     "collapsed": false,
     "input": [
      "cell_num = 14\n",
      "[[[]]*cell_num]*cell_num"
     ],
     "language": "python",
     "metadata": {},
     "outputs": [
      {
       "metadata": {},
       "output_type": "pyout",
       "prompt_number": 20,
       "text": [
        "[[[], [], [], [], [], [], [], [], [], [], [], [], [], []],\n",
        " [[], [], [], [], [], [], [], [], [], [], [], [], [], []],\n",
        " [[], [], [], [], [], [], [], [], [], [], [], [], [], []],\n",
        " [[], [], [], [], [], [], [], [], [], [], [], [], [], []],\n",
        " [[], [], [], [], [], [], [], [], [], [], [], [], [], []],\n",
        " [[], [], [], [], [], [], [], [], [], [], [], [], [], []],\n",
        " [[], [], [], [], [], [], [], [], [], [], [], [], [], []],\n",
        " [[], [], [], [], [], [], [], [], [], [], [], [], [], []],\n",
        " [[], [], [], [], [], [], [], [], [], [], [], [], [], []],\n",
        " [[], [], [], [], [], [], [], [], [], [], [], [], [], []],\n",
        " [[], [], [], [], [], [], [], [], [], [], [], [], [], []],\n",
        " [[], [], [], [], [], [], [], [], [], [], [], [], [], []],\n",
        " [[], [], [], [], [], [], [], [], [], [], [], [], [], []],\n",
        " [[], [], [], [], [], [], [], [], [], [], [], [], [], []]]"
       ]
      }
     ],
     "prompt_number": 20
    },
    {
     "cell_type": "code",
     "collapsed": false,
     "input": [
      "@test\n",
      "def uniq_list(seq):\n",
      "    \"\"\"\n",
      "    >>> a = [1, 2, 5, 6, 7, 3, 2, 0]\n",
      "    >>> uniq_list(a)\n",
      "    [1, 2, 5, 6, 7, 3, 0]\n",
      "    \"\"\"\n",
      "    seen = set()\n",
      "    seen_add = seen.add\n",
      "    return [x for x in seq if x not in seen and not seen_add(x)]\n"
     ],
     "language": "python",
     "metadata": {},
     "outputs": [
      {
       "html": [
        "\n",
        "      <p style=\"color:green;font-size:250%;font-weight=bold\">Success!</p>\n",
        "      "
       ],
       "metadata": {},
       "output_type": "display_data"
      }
     ],
     "prompt_number": 44
    }
   ],
   "metadata": {}
  }
 ]
}