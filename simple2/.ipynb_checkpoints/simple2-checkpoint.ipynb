{
 "metadata": {
  "kernelspec": {
   "codemirror_mode": {
    "name": "ipython",
    "version": 2
   },
   "display_name": "IPython (Python 2)",
   "language": "python",
   "name": "python2",
   "pygments_lexer": "ipython2"
  },
  "name": "",
  "signature": "sha256:7349e1162d06a7bce3b806db22435e15c190161850037835ccdadf0c4d8db99e"
 },
 "nbformat": 3,
 "nbformat_minor": 0,
 "worksheets": [
  {
   "cells": [
    {
     "cell_type": "heading",
     "level": 2,
     "metadata": {
      "internals": {
       "slide_helper": "subslide_end",
       "slide_type": "subslide"
      },
      "slide_helper": "slide_end",
      "slideshow": {
       "slide_type": "slide"
      }
     },
     "source": [
      "\u4f8b2"
     ]
    },
    {
     "cell_type": "markdown",
     "metadata": {
      "internals": {
       "slide_helper": "subslide_end",
       "slide_type": "subslide"
      },
      "slide_helper": "subslide_end",
      "slideshow": {
       "slide_type": "slide"
      }
     },
     "source": [
      "\u4eca\u5ea6\u8003\u3048\u308b\u306e\u306f\u3001\u81ea\u7136\u306a\u4f8b\u3068\u3057\u3066\u3001\u767a\u8a00\u8005\u9593\u306e\u8ddd\u96e2\u304c\u5b9a\u7fa9\u3055\u308c\u3066\u3044\u308b\u3088\u3046\u306a\u3082\u306e\u3092\u8003\u3048\u308b\u3002\u3053\u3053\u3067\u8a00\u3046\"\u8ddd\u96e2\"\u3068\u306f\u3001\u5b9f\u969b\u306e\u767a\u8a00\u8005\u9593\u306e\u7269\u7406\u7684\u306a\u8ddd\u96e2\u3060\u3051\u3067\u306a\u304f\u3001\u305d\u308c\u305e\u308c\u306e\u9593\u306e\u95a2\u4fc2\u6027\u3084\u58f0\u306e\u5927\u304d\u3055\u306a\u3069\u306e\u6982\u5ff5\u3092\u542b\u3093\u3060\u4e00\u822c\u7684\u306a\u610f\u5473\u3067\u306e\u8ddd\u96e2\u3067\u3042\u308b\u3002\u5b9f\u969b\u306b\u306f\u3001\u305d\u306e\u3088\u3046\u306b\u8ddd\u96e2\u306e\u8a08\u7b97\u306b\u7528\u3044\u308b\u30d1\u30e9\u30e1\u30fc\u30bf\u304c$b$(<$a$)\u500b\u3042\u308b\u3068\u3057\u3066\u3001\u305d\u306e\u30d1\u30e9\u30e1\u30fc\u30bf\u306b\u3088\u308b\u5143\u306b\u5bfe\u3057\u3066\u8ddd\u96e2\u3092\u8003\u3048\u308b\u3002"
     ]
    },
    {
     "cell_type": "markdown",
     "metadata": {
      "internals": {
       "slide_type": "subslide"
      },
      "slideshow": {
       "slide_type": "subslide"
      }
     },
     "source": [
      "\u7c21\u5358\u306a\u4f8b\u3068\u3057\u3066$b$\u6b21\u5143\u30e6\u30fc\u30af\u30ea\u30c3\u30c9\u8ddd\u96e2\u3092\u53d6\u308b\u3053\u3068\u3092\u8003\u3048\u308b\u3002\u3059\u306a\u308f\u3061$b$\u500b\u306e\u6570\u306e\u7d44\u307f\u5408\u308f\u305b\u306b\u3088\u3063\u3066\u8868\u3055\u308c\u308b\u96c6\u5408$X$\u304c\u3042\u3063\u305f\u6642\u3001\n",
      "\n",
      "\u8ddd\u96e2\u95a2\u6570$d: X \\times X \\rightarrow R$\u304c\n",
      "\n",
      "$$d(x, y) = \\sqrt{\\sum_{i=1}^{b}(x_{i}-y_{i})^{2}}\\ \\ ,\\ x,y\\in X$$\n",
      "\n",
      "\u3068\u66f8\u3051\u308b\u3053\u3068\u3092\u610f\u5473\u3059\u308b\u3002\n",
      "\n",
      "\n",
      "**NOTE:**\u5b9f\u969b\u306e\u5834\u5408\u306b\u306f\u3001\u5404\u30c7\u30fc\u30bf\u540c\u58eb\u306e\u76f8\u95a2\u3092\u8003\u616e\u306b\u5165\u308c\u305f\u30de\u30cf\u30e9\u30ce\u30d3\u30b9\u8ddd\u96e2\u306a\u3069\u306e\u307b\u3046\u304c\u9069\u5f53\u306a\u5834\u5408\u3082\u3042\u308b\u304b\u3082\u3057\u308c\u306a\u3044\u304c\u3001\u307e\u305a\u306f\u30a4\u30e1\u30fc\u30b8\u3057\u3084\u3059\u3044\u3068\u3044\u3046\u3053\u3068\u3067\u30e6\u30fc\u30af\u30ea\u30c3\u30c9\u8ddd\u96e2\u3092\u8003\u3048\u305f\u3002"
     ]
    },
    {
     "cell_type": "markdown",
     "metadata": {
      "internals": {
       "slide_helper": "subslide_end"
      },
      "slide_helper": "slide_end",
      "slideshow": {
       "slide_type": "-"
      }
     },
     "source": [
      "\u4ee5\u4e0b\u3067\u306f\u3001\u8a18\u8ff0\u306e\u7c21\u5358\u306b\u3059\u308b\u305f\u3081\u3001\u767a\u8a00\u8005$i$\u3068\u767a\u8a00\u8005$j$\u306e\u9593\u306e\u8ddd\u96e2\u3092$d_{ij}$\u3068\u66f8\u304f\u3053\u3068\u306b\u3059\u308b\u3002"
     ]
    },
    {
     "cell_type": "markdown",
     "metadata": {
      "internals": {
       "slide_helper": "subslide_end",
       "slide_type": "subslide"
      },
      "slide_helper": "subslide_end",
      "slideshow": {
       "slide_type": "slide"
      }
     },
     "source": [
      "\u6642\u523b$k$\u306b$i$\u304c\u767a\u8a00\u3092\u884c\u3044\u3001\u305d\u306e\u5f8c\u6642\u523b$k+1$\u306b$j$\u304c\u767a\u8a00$x_{k+1}^{j}$\u3092\u884c\u3046\u78ba\u7387$p_{k}(i,j)$\u306f\u3001\u8ddd\u96e2$d_{ij}$\u306e\u95a2\u6570\u3068\u3057\u3066\u3001\u6b21\u306e\u3088\u3046\u306b\u3067\u304d\u308b\u3002\n",
      "\n",
      "$$p_{k}(i,j) = \\frac{g_{k}(d_{ij})}{\\sum_{j} g_{k}(d_{ij})}$$\n",
      "\n",
      "\u3053\u306e$g$\u306e\u9078\u3073\u65b9\u306b\u3088\u3063\u3066\u3001\u8ddd\u96e2\u306e\u5927\u304d\u3055\u304c\u3069\u306e\u3088\u3046\u306b\u78ba\u7387\u306b\u91cd\u307f\u3092\u6301\u305f\u305b\u308b\u304b\u3068\u3044\u3046\u3053\u3068\u304c\u6c7a\u5b9a\u3055\u308c\u308b\u3002\u4e00\u822c\u306b$g$\u306f\u6642\u523b$k$\u306b\u3088\u3063\u3066\u5909\u5316\u3057\u3066\u3082\u3044\u3044\u306e\u3067\u3001\u6dfb\u5b57$k$\u3092\u3064\u3051\u3066\u6642\u523b$k$\u306b\u304a\u3051\u308b\u95a2\u6570\u3067\u3042\u308b\u3053\u3068\u3092\u8868\u3057\u305f\u3002"
     ]
    },
    {
     "cell_type": "markdown",
     "metadata": {
      "internals": {
       "slide_helper": "subslide_end",
       "slide_type": "subslide"
      },
      "slide_helper": "subslide_end",
      "slideshow": {
       "slide_type": "subslide"
      }
     },
     "source": [
      "\u5358\u7d14\u306a\u4f8b\u3068\u3057\u3066$g_{k}(d) = const.,\\ ^{\\forall}k, d\\in R^{1}$\u3068\u3059\u308b\u3068\u3001\u8ddd\u96e2\u306b\u4f9d\u3089\u305a\u767a\u8a00\u8005\u304c\u9078\u3070\u308c\u308b\u308f\u3051\u306a\u306e\u3067\u3001\u4f8b1\u306e\u767a\u8a00\u8005\u306e\u9078\u3073\u65b9\u3068\u540c\u3058\u3067\u3042\u308b\u3002\n",
      "\n",
      "$g(d)$\u306f$[0, +\\infty]$\u3067\u5b9a\u7fa9\u3055\u308c\u308b\u975e\u8ca0\u306e\u6709\u754c\u306a\u5b9f\u95a2\u6570\u3067\u3042\u308b\u3002\n",
      "\n",
      "ex)\n",
      "\n",
      "$$g(d) = \\frac{1}{d+1}$$\n",
      "\n",
      "$$g(d) = e^{-d}$$\n",
      "\n",
      "$$g(d) = \\left\\{ \\begin{array}{ll} c & (0\\le d \\le 1/c) \\\\\n",
      "1/d & (d>1/c) \\\\\n",
      "\\end{array}\\right., \\ \\ c>0$$"
     ]
    },
    {
     "cell_type": "markdown",
     "metadata": {
      "internals": {
       "slide_helper": "subslide_end",
       "slide_type": "subslide"
      },
      "slide_helper": "slide_end",
      "slideshow": {
       "slide_type": "subslide"
      }
     },
     "source": [
      "\u3057\u304b\u3057\u3001\u3053\u3053\u3067\u6ce8\u610f\u3059\u3079\u304d\u70b9\u3068\u3057\u3066\u3001\u3069\u306e\u767a\u8a00\u8005\u304c\u767a\u8a00\u3059\u308b\u306b\u3057\u3066\u3082\u3001\u4f8b1\u3067\u8003\u3048\u305f\u3088\u3046\u306b\u3001\u3069\u306e\u767a\u8a00\u8005\u3082$[0,1]$\u306e\u4e00\u69d8\u4e71\u6570\u3092\u53d6\u308b\u306a\u3089\u3001\u7d50\u5c40\u3001\u610f\u898b\u306b\u3064\u3044\u3066\u898b\u305f\u6642\u306e\u8a66\u884c\u306f\u540c\u3058\u3053\u3068\u3092\u3057\u3066\u304a\u308a\u3001\u8ab0\u304c\u767a\u8a00\u3057\u305f\u304b\u306f\u672c\u8cea\u7684\u306a\u554f\u984c\u306b\u306f\u306a\u3089\u306a\u3044\u3053\u3068\u304c\u5206\u304b\u308b\u3002"
     ]
    },
    {
     "cell_type": "markdown",
     "metadata": {
      "internals": {
       "slide_helper": "subslide_end",
       "slide_type": "subslide"
      },
      "slide_helper": "slide_end",
      "slideshow": {
       "slide_type": "slide"
      }
     },
     "source": [
      "\u4ee5\u4e0b\u306b\u793a\u3059\u306e\u306f\u4e0a\u306b\u793a\u3059\u3088\u3046\u306a\u7c21\u5358\u306a\u3053\u3068\u306b\u6c17\u4ed8\u304b\u306a\u3044\u307e\u307e\u8272\u3005\u6a5f\u80fd\u3092\u3064\u3051\u3066\u3057\u307e\u3063\u305f\u3082\u306e\u3002\n",
      "\n",
      "\u306f\u3058\u3081\u306b\u4eba\u306e\u914d\u7f6e\u3092GUI\u3067\u8a2d\u5b9a\u3001\u305d\u306e\u5f8cstart\u3092\u62bc\u3059\u3068\u3001[-1,1]\u307b\u3069\u306e\u9818\u57df\u306b\u30b9\u30b1\u30fc\u30eb\u3057\u76f4\u3055\u308c\u3001\u305d\u306e\u4f4d\u7f6e\u95a2\u4fc2\u3067\u30b7\u30df\u30e5\u30ec\u30fc\u30b7\u30e7\u30f3\u304c\u5b9f\u884c\u3055\u308c\u308b\u3002Notebook\u4e0a\u3067\u306f\u30a4\u30f3\u30bf\u30e9\u30af\u30c6\u30a3\u30d6\u306b\u8868\u793a\u3055\u308c\u306a\u3044\u304c\u3001\u3053\u308c\u3092\u901a\u5e38\u306e\u30d7\u30ed\u30b0\u30e9\u30e0\u3068\u3057\u3066\u8d70\u3089\u305b\u308b\u3068\u3061\u3083\u3093\u3068\u30a4\u30f3\u30bf\u30e9\u30af\u30c6\u30a3\u30d6\u306b\u7e4b\u304c\u308c\u3066\u3044\u304f\u69d8\u5b50\u304c\u5206\u304b\u308b\u3002\u305d\u306e\u5f8c\u306f\u5404\u767a\u8a00\u8005\u306e\u767a\u8a00\u56de\u6570\u3068\u30ea\u30f3\u30af\u306e\u3064\u306a\u304c\u308a\u65b9\u306b\u95a2\u3057\u3066\u3001\u305d\u306e\u91cd\u307f\u3092\u53cd\u6620\u3057\u305f\u30b0\u30e9\u30d5\u3092\u8868\u793a\u3059\u308b\u3002\u307e\u305f\u3001\u5404\u6642\u523b\u306b\u304a\u3044\u3066\u306e\u767a\u8a00\u306b\u5bfe\u3057\u3066\u5f35\u3089\u308c\u305f\u30ea\u30f3\u30af\u306e\u6570\u306e\u30b0\u30e9\u30d5\u3068\u305d\u306e\u7d2f\u7a4d\u306e\u30b0\u30e9\u30d5\u3092\u751f\u6210\u3059\u308b\u3002"
     ]
    },
    {
     "cell_type": "code",
     "collapsed": false,
     "input": [
      "%matplotlib inline\n",
      "\n",
      "from Tkinter import *\n",
      "import matplotlib.pyplot as plt\n",
      "import numpy as np\n",
      "import collections\n",
      "import operator\n",
      "\n",
      "def accumulate(iterable, func=operator.add):\n",
      "    'Return running totals'\n",
      "    # accumulate([1,2,3,4,5]) --> 1 3 6 10 15\n",
      "    # accumulate([1,2,3,4,5], operator.mul) --> 1 2 6 24 120\n",
      "    it = iter(iterable)\n",
      "    total = next(it)\n",
      "    yield total\n",
      "    for element in it:\n",
      "        total = func(total, element)\n",
      "        yield total\n",
      "\n",
      "\n",
      "class Person(object):\n",
      "\n",
      "    def __init__(self, ideas_num=10, place=(0., 0.), **kwargs):\n",
      "        # \u610f\u898b\u306f0~1\u306e\u9593\u306e\u5024\u3092\u4e00\u69d8\u306b\u53d6\u308a\u3046\u308b\n",
      "        self.ideas = list(np.random.random(ideas_num))\n",
      "        # \u767a\u8a00\u8005\u306e\u5b9f\u969b\u306e\u4f4d\u7f6e\u304c2\u6b21\u5143\u306e\u5ea7\u6a19\u3068\u3057\u3066\u8868\u305b\u308b\n",
      "        self.place = place\n",
      "        # \u305d\u306e\u4ed6\u306e\u7279\u5fb4\u91cf\n",
      "        for (k, v) in kwargs.items():\n",
      "            setattr(self, k, v)\n",
      "\n",
      "    def distance(self, p):\n",
      "        # \u4ebap\u3068\u81ea\u5206\u3068\u306e\u9593\u306e\u8ddd\u96e2(\u30e6\u30fc\u30af\u30ea\u30c3\u30c9\u8ddd\u96e2)\n",
      "        d = np.sqrt((self.place[0]-p.place[0])**2 + (self.place[1]-p.place[1])**2)\n",
      "        return d\n",
      "\n",
      "\n",
      "class meeting(object):\n",
      "\n",
      "    def __init__(self, N):\n",
      "        # \u4f1a\u8b70\u306e\u53c2\u52a0\u4eba\u6570\n",
      "        self.N = N\n",
      "        # \u610f\u898b\u306e\u6642\u7cfb\u5217\n",
      "        self.ideas = []\n",
      "        # \u767a\u8a00\u8005\u306e\u6642\u7cfb\u5217\n",
      "        self.speaker = []\n",
      "        # \u6642\u523b\n",
      "        self.k = 0\n",
      "        self.K = 100\n",
      "        # \u5f35\u3089\u308c\u305f\u30ea\u30f3\u30af(\u6642\u523b, \u6642\u523b)\u306e\u30bf\u30d7\u30eb\u3067\u8868\u73fe\u3059\u308b\n",
      "        self.links = []\n",
      "        # \u30ea\u30f3\u30af\u306e\u6570(\u5404\u6642\u523b)\n",
      "        self.l = [0]\n",
      "        # \u30ea\u30f3\u30af\u306e\u6570(\u7d2f\u8a08)\n",
      "        self.L = [0]\n",
      "\n",
      "    def g(self, x):\n",
      "        # \u767a\u8a00\u8005\u306e\u7269\u7406\u7684\u8ddd\u96e2\u306b\u5bfe\u3059\u308b\u95a2\u6570\n",
      "        return np.exp(-x)\n",
      "\n",
      "    def p(self, i):\n",
      "\n",
      "        # \u53c2\u52a0\u8005\u306e\u4e2d\u3067\u8a71\u305b\u308b\u4eba\u306e\u307f\u3092\u5bfe\u8c61\u306b\n",
      "        _N = []\n",
      "        for k in range(1, self.N+1):\n",
      "            if len(self.members[k].ideas):\n",
      "                _N.append(k)\n",
      "\n",
      "        # \u305d\u308c\u3089\u306e\u4eba\u305f\u3061\u306b\u5bfe\u3057\u3001\u95a2\u6570g\u306b\u3088\u308b\u91cd\u307f\u4ed8\u3051\u306e\u78ba\u7387\u3092\u4ed8\u4e0e\n",
      "        w = []\n",
      "        for n in _N:\n",
      "            d = self.members[n].distance(i)\n",
      "            w.append(self.g(d))\n",
      "        w = np.array(w)\n",
      "        sum_ = np.sum(w)\n",
      "        _p = list(w/sum_)\n",
      "        p = list(accumulate(_p))\n",
      "        rn = np.random.rand()\n",
      "        nm = 0\n",
      "        while True:\n",
      "            if p[nm] > rn:\n",
      "                break\n",
      "            else:\n",
      "                nm += 1\n",
      "        # \u305d\u306e\u78ba\u7387\u3067\u9078\u3070\u308c\u305f\u4eba\u306e\u540d\u524d\u3092\u8fd4\u3059\n",
      "        j = _N[nm]\n",
      "        return j\n",
      "\n",
      "    def q(self, j):\n",
      "        # \u767a\u8a00\u8005j\u304c\u9078\u3070\u308c\u305f\u6642\u3001\u6301\u3063\u3066\u3044\u308b\u610f\u898b\u304b\u3089\u7b49\u78ba\u7387\u3067\u610f\u898b\u3092\u53d6\u308a\u51fa\u3059\n",
      "        x_j = self.members[j]\n",
      "        return np.random.rand()  #x_j.ideas.pop()\n",
      "\n",
      "    def distance(self, x, y):\n",
      "        # \u610f\u898b\u306e\u8fd1\u3055\u3092\u7d76\u5bfe\u5024\u3067\u8868\u73fe\n",
      "        d = np.abs(x - y)\n",
      "        if d == 0:\n",
      "            return self.radius + 1\n",
      "        else:\n",
      "            return d\n",
      "\n",
      "    def connect(self):\n",
      "        l = 0\n",
      "        for i, v in enumerate(self.ideas[:-1]):\n",
      "            # k\u756a\u76ee\u306e\u610f\u898b\u3068\u610f\u898b\u304c\u8fd1\u3044\u6642\u3001\u305d\u308c\u3089\u30ce\u30fc\u30c9\u306e\u9593\u306b\u30ea\u30f3\u30af\u3092\u5f62\u6210\u3059\u308b\n",
      "            if self.distance(v, self.ideas[self.k]) < self.radius:\n",
      "                self.links.append((i, self.k))\n",
      "                l += 1\n",
      "        return l\n",
      "\n",
      "    def check_agreement(self):\n",
      "        # \u5408\u610f\u30c1\u30a7\u30c3\u30af \u53c2\u52a0\u4eba\u6570N\u306b\u3088\u308b\u95a2\u6570\n",
      "        def L(N):\n",
      "            return N**2\n",
      "        #if self.l[-1] > L(self.N):\n",
      "        if self.k > self.K:\n",
      "            return True\n",
      "        else:\n",
      "            return False\n",
      "\n",
      "    def check_ideas(self):\n",
      "        for k in range(1, self.N+1):\n",
      "            if len(self.members[k].ideas):\n",
      "                return True\n",
      "        return False\n",
      "\n",
      "    def f_L(self):\n",
      "        # \u30ea\u30f3\u30af\u304b\u3089\u4f1a\u8b70\u306e\u8a55\u4fa1\n",
      "        # \u5358\u7d14\u306b\u4f1a\u8b70\u7d42\u4e86\u6642\u306b\u5f97\u3089\u308c\u305f\u30ea\u30f3\u30af\u306e\u6570\u3092\u8fd4\u3059\n",
      "        return self.L[-1]\n",
      "\n",
      "    def f_T(self):\n",
      "        # \u4f1a\u8b70\u306b\u5fc5\u8981\u306a\u6642\u9593\u306e\u8a55\u4fa1\n",
      "        # \u5358\u7d14\u306b\u5fc5\u8981\u306a\u6642\u9593k\u3092\u8fd4\u3059\n",
      "        return self.k\n",
      "\n",
      "    def f(self):\n",
      "        # f_L\u3068f_T\u3092\u4f7f\u3063\u305f\u8a55\u4fa1\u95a2\u6570f\n",
      "        return self.f_L() - self.f_T()\n",
      "\n",
      "    def end(self):\n",
      "        # \u4f1a\u8b70\u306e\u901a\u5e38\u7d42\u4e86\u3001\u5404\u5b9a\u7fa9\u91cf\u306e\u8a08\u7b97\u3084\u53d7\u3051\u6e21\u3057\u306a\u3069\u306f\u3053\u3053\u3067\n",
      "        plt.ioff()\n",
      "        plt.show()\n",
      "\n",
      "        # \u30cd\u30c3\u30c8\u30ef\u30fc\u30af\u56f3\u3092\u63cf\u753b\n",
      "        link_s = [(a, b) for a, b in zip(self.speaker[:-1], self.speaker[1:])]\n",
      "        counter_links = collections.Counter(link_s)\n",
      "        for link, lw in counter_links.items():\n",
      "            ix = self.members[link[0]].place[0]\n",
      "            iy = self.members[link[0]].place[1]\n",
      "            jx = self.members[link[1]].place[0]\n",
      "            jy = self.members[link[1]].place[1]\n",
      "            _x, _y = ((ix+jx)/2, (iy+jy)/2)\n",
      "            if link[0] == link[1]:\n",
      "                continue\n",
      "            elif link[0] < link[1]:\n",
      "                color = 'black'\n",
      "                va = 'bottom'\n",
      "            else:\n",
      "                color = 'red'\n",
      "                va = 'top'\n",
      "\n",
      "            plt.plot([ix, jx], [iy, jy], color=color, lw=lw*4/self.k+1)\n",
      "            plt.text(_x, _y, '(%d,%d)' % (link[0], link[1]),\n",
      "                     color=color, va=va)\n",
      "\n",
      "        counter = collections.Counter(self.speaker)\n",
      "\n",
      "        for key, i in self.members.items():\n",
      "            x = i.place[0]\n",
      "            y = i.place[1]\n",
      "            size = counter[key] * 30\n",
      "            plt.scatter(x, y, s=size)\n",
      "            plt.text(x, y, str(key), color='green')\n",
      "        plt.show()\n",
      "\n",
      "        # \u5404\u6642\u523b\u306b\u8ffd\u52a0\u3055\u308c\u305f\u30ea\u30f3\u30af\u6570\u306e\u30b0\u30e9\u30d5\n",
      "        k = np.arange(self.k + 1)\n",
      "        plt.plot(k, self.l)\n",
      "        plt.plot(k, (-self.radius**2 + 2*self.radius)*k)\n",
      "        plt.xlabel(r\"$k$\")\n",
      "        plt.ylabel(r\"$l$\")\n",
      "        plt.show()\n",
      "\n",
      "        # \u30ea\u30f3\u30af\u6570\u306e\u7d2f\u7a4d\u30b0\u30e9\u30d5\n",
      "        plt.plot(k, self.L)\n",
      "        plt.plot(k, (-self.radius**2 + 2*self.radius)*k**2/2.)\n",
      "        plt.xlabel(r\"$k$\")\n",
      "        plt.ylabel(r\"$L$\")\n",
      "        plt.show()\n",
      "\n",
      "        # \u6642\u7cfb\u5217\u3067\u767a\u8a00\u8005\u306e\u8868\u793a\n",
      "        # print 'self.speaker:', self.speaker\n",
      "        \n",
      "        # \u8a55\u4fa1\u95a2\u6570\u3092\u901a\u3057\u305f\u7d50\u679c\n",
      "        # print 'self.f', self.f()\n",
      "\n",
      "    def end2(self):\n",
      "        # \u4f1a\u8b70\u306e\u7570\u5e38\u7d42\u4e86(\u767a\u8a00\u8005\u304c\u767a\u8a00\u3067\u304d\u306a\u304f\u306a\u308b)\n",
      "        pass\n",
      "\n",
      "    def init(self):\n",
      "        x = [i.place[0] for i in self.members.values()]\n",
      "        y = [i.place[1] for i in self.members.values()]\n",
      "        plt.scatter(x, y)\n",
      "        plt.ion()\n",
      "        plt.draw()\n",
      "\n",
      "    def callback(self):\n",
      "        # print 'speaker:', self.speaker[-1]\n",
      "        # print 'link:', self.l[-1]\n",
      "        ix = self.members[self.speaker[-2]].place[0]\n",
      "        iy = self.members[self.speaker[-2]].place[1]\n",
      "        jx = self.members[self.speaker[-1]].place[0]\n",
      "        jy = self.members[self.speaker[-1]].place[1]\n",
      "        plt.plot([ix, jx], [iy, jy])\n",
      "        plt.text((ix+jx)/2, (iy+jy)/2, '%d:(%d,%d)'\n",
      "                 % (self.k, self.speaker[-2], self.speaker[-1]))\n",
      "        plt.draw()\n",
      "\n",
      "    def progress(self):\n",
      "        self.init()\n",
      "        # \u306f\u3058\u3081\u306b1\u304c\u767a\u8a00\u3059\u308b\u3068\u3059\u308b\n",
      "        self.ideas.append(self.q(1))\n",
      "        self.speaker.append(1)\n",
      "        while True:\n",
      "            j = self.p(self.members[self.speaker[-1]])\n",
      "            self.ideas.append(self.q(j))\n",
      "            self.speaker.append(j)\n",
      "            self.k += 1\n",
      "            self.l.append(self.connect())\n",
      "            self.L.append(len(self.links))\n",
      "            self.callback()\n",
      "            if self.check_agreement():\n",
      "                print \"\\nnormal end\"\n",
      "                self.end()\n",
      "                break\n",
      "            if not self.check_ideas():\n",
      "                print \"\\nno one can speak\"\n",
      "                self.end2()\n",
      "                break\n",
      "\n",
      "                \n",
      "class Main:\n",
      "\n",
      "    def __init__(self, radius=0.3):\n",
      "        N = 6\n",
      "        self.app = meeting(N)\n",
      "        self.app.radius = radius\n",
      "        window = Window(N, main=self.app)\n",
      "        window.display()\n",
      "\n",
      "class Window(object):\n",
      "\n",
      "    def __init__(self, N, main):\n",
      "        self.root = Tk()\n",
      "        self.main = main\n",
      "        self.width = 640\n",
      "        self.height = 480\n",
      "        self.canvas = Canvas(self.root, width=self.width, height=self.height)\n",
      "        self.var = StringVar()\n",
      "        self.oval(self.canvas, N)\n",
      "        self.canvas.bind('<Motion>', self.pointer)\n",
      "        self.canvas.pack()\n",
      "        label = Label(self.root, textvariable=self.var, font='Ubuntu 9')\n",
      "        label.pack(side='left')\n",
      "        b1 = Button(self.root, text='start', command=self.b1_clicked)\n",
      "        b1.pack(side='right')\n",
      "        b2 = Button(self.root, text='save', command=self.b2_clicked)\n",
      "        b2.pack(side='right')\n",
      "\n",
      "    def oval(self, canvas, N=6):\n",
      "        self.members = dict()\n",
      "        deg = np.linspace(0., 360., N, endpoint=False)\n",
      "        radius = 20\n",
      "        self.r = int((min(self.height, self.width)/2-radius)*0.9)\n",
      "        self.centerx = int(self.width/2)\n",
      "        self.centery = int(self.height/2)\n",
      "        for n in range(1, N+1):\n",
      "            rad = np.radians(deg[n-1])\n",
      "            self.members[n] = Oval(canvas, n,\n",
      "                                   self.centerx+self.r*np.cos(rad),\n",
      "                                   self.centery+self.r*np.sin(rad),\n",
      "                                   radius, self.var)\n",
      "\n",
      "    def pointer(self, event):\n",
      "        self.var.set(\"(%d,%d)\" % (event.x, event.y))\n",
      "\n",
      "    def b1_clicked(self):\n",
      "        self.main.members = dict()\n",
      "        for n in range(1, self.main.N+1):\n",
      "            x = (self.members[n].x-self.centerx)/float(self.r)\n",
      "            y = (self.members[n].y-self.centery)/float(self.r)\n",
      "            self.main.members[n] = Person(place=(x, y))\n",
      "        self.main.progress()\n",
      "        self.root.destroy()\n",
      "        \n",
      "    def b2_clicked(self):\n",
      "        import tkFileDialog\n",
      "        import os\n",
      "\n",
      "        fTyp = [('eps file', '*.eps'), ('all files', '*')]\n",
      "        filename = tkFileDialog.asksaveasfilename(filetypes=fTyp,\n",
      "                                                  initialdir=os.getcwd(),\n",
      "                                                  initialfile='figure_1.eps')\n",
      "\n",
      "        if filename is None:\n",
      "            return\n",
      "        try:\n",
      "            self.canvas.postscript(file=filename)\n",
      "        except TclError:\n",
      "            print \"\"\"\n",
      "            TclError: Cannot save the figure.\n",
      "            Canvas Window must be alive for save.\"\"\"\n",
      "            return 1\n",
      "        \n",
      "    def display(self):\n",
      "        self.root.mainloop()\n",
      "\n",
      "\n",
      "class Oval:\n",
      "\n",
      "    def __init__(self, canvas, id, x, y, r, var):\n",
      "        self.c = canvas\n",
      "        self.x = x\n",
      "        self.y = y\n",
      "        self.var = var\n",
      "        self.tag = str(id)\n",
      "        self.c.create_oval(x-r, y-r, x+r, y+r, outline='', fill='#069', tags=self.tag)\n",
      "\n",
      "        self.c.tag_bind(self.tag, '<Button-1>', self.pressed)\n",
      "        self.c.tag_bind(self.tag, '<Button1-Motion>', self.dragging)\n",
      "\n",
      "    def pressed(self, event):\n",
      "        self.x = event.x\n",
      "        self.y = event.y\n",
      "\n",
      "    def dragging(self, event):\n",
      "        self.c.move(self.tag, event.x - self.x, event.y - self.y)\n",
      "        self.x = event.x\n",
      "        self.y = event.y"
     ],
     "language": "python",
     "metadata": {
      "internals": {
       "slide_helper": "subslide_end",
       "slide_type": "subslide"
      },
      "slide_helper": "slide_end",
      "slideshow": {
       "slide_type": "slide"
      }
     },
     "outputs": [],
     "prompt_number": 7
    },
    {
     "cell_type": "code",
     "collapsed": false,
     "input": [
      "main = Main(radius=0.3)"
     ],
     "language": "python",
     "metadata": {
      "internals": {
       "slide_helper": "subslide_end",
       "slide_type": "subslide"
      },
      "slide_helper": "subslide_end",
      "slideshow": {
       "slide_type": "slide"
      }
     },
     "outputs": [
      {
       "output_type": "stream",
       "stream": "stdout",
       "text": [
        "\n",
        "normal end\n"
       ]
      },
      {
       "metadata": {},
       "output_type": "display_data",
       "png": "[encoded data removed]",
       "text": [
        "<matplotlib.figure.Figure at 0x7f33cebf19d0>"
       ]
      },
      {
       "metadata": {},
       "output_type": "display_data",
       "png": "[encoded data removed]",
       "text": [
        "<matplotlib.figure.Figure at 0x7f33ce7cce90>"
       ]
      },
      {
       "metadata": {},
       "output_type": "display_data",
       "png": "[encoded data removed]",
       "text": [
        "<matplotlib.figure.Figure at 0x7f33ce898310>"
       ]
      },
      {
       "metadata": {},
       "output_type": "display_data",
       "png": "[encoded data removed]",
       "text": [
        "<matplotlib.figure.Figure at 0x7f33ce890910>"
       ]
      }
     ],
     "prompt_number": 9
    },
    {
     "cell_type": "markdown",
     "metadata": {
      "internals": {
       "slide_helper": "subslide_end",
       "slide_type": "subslide"
      },
      "slide_helper": "subslide_end",
      "slideshow": {
       "slide_type": "subslide"
      }
     },
     "source": [
      "\u3053\u308c\u3089\u306e\u30b0\u30e9\u30d5\u304b\u3089\u3082\u78ba\u304b\u3081\u3089\u308c\u308b\u3053\u3068\u3060\u304c\u3001[\u4f8b1](../simple1/simple1.ipynb)\u3067\u8003\u3048\u305f\u3068\u304a\u308a\u3001\u610f\u898b\u306e\u8fd1\u3055\u306b\u95a2\u3059\u308b\u95be\u5024$r$\u3092\u5b9a\u3081\u3066\u3001\u305d\u306e\u7bc4\u56f2\u306b\u65e2\u306b\u306a\u3055\u308c\u305f\u767a\u8a00\u304c\u5b58\u5728\u3059\u308b\u3068\u304d\u306b\u30ea\u30f3\u30af\u3092\u5f35\u308b\u3088\u3046\u306b\u3059\u308b\u3068\u3001\u6642\u523b$k$\u306b\u3042\u308b\u70b9\u304c\u9078\u3070\u308c\u305f\u3068\u304d\u306b\u5f35\u3089\u308c\u308b\u30ea\u30f3\u30af\u306e\u6570\u306f\u3001\u4e8c\u9805\u5206\u5e03$B(k, p)$\u306b\u3057\u305f\u304c\u3063\u3066\u3044\u305f\u306e\u3067\u3001\u305d\u306e\u671f\u5f85\u5024\u306f\u8a66\u884c\u56de\u6570$k$\u306b\u6bd4\u4f8b\u3059\u308b($E(X) = kp(x,r)$)(\u5b9f\u969b\u306b\u306f\u8907\u6570\u56de\u3053\u308c\u3092\u5b9f\u65bd\u3057\u3066\u5e73\u5747\u3092\u53d6\u3063\u3066\u3084\u308b\u5fc5\u8981\u304c\u3042\u308b\u2190\u3042\u3068\u3067\u3084\u308b?:GUI\u3068\u304b\u5168\u90e8\u5207\u3063\u3066\u7e70\u308a\u8fd4\u3059)\u3002\n",
      "\n",
      "\u3053\u306e\u3068\u304d\u306e\u50be\u304d\u306f\u3001$p(x,r)$\u304c\n",
      "\n",
      "$$p(x,r)= \\left\\{ \\begin{array}{ll}x+r & 0\\le x< \\min(r,1-r) \\\\\n",
      "p(r) = \\min(2r, 1) & \\min(r, 1-r)\\le x \\le \\max(1-r, r) \\\\\n",
      "1 - x+r & \\max(1-r, r) < x \\le 1\n",
      "\\end{array}\\right.$$\n",
      "\n",
      "\u306e\u3088\u3046\u306b$x$\u306b\u3088\u3063\u3066\u6c7a\u307e\u308b\u95a2\u6570\u3068\u3057\u3066\u4e0e\u3048\u3089\u308c\u3066\u3044\u308b\u3053\u3068\u304b\u3089$p(x,r)$\u306e$x$\u306b\u95a2\u3059\u308b\u671f\u5f85\u5024\u3068\u3057\u3066\u6c42\u3081\u3089\u308c\u3066\u3001"
     ]
    },
    {
     "cell_type": "markdown",
     "metadata": {
      "internals": {
       "slide_helper": "subslide_end",
       "slide_type": "subslide"
      },
      "slide_helper": "subslide_end",
      "slideshow": {
       "slide_type": "subslide"
      }
     },
     "source": [
      "$0<r\\le0.5$\u306e\u3068\u304d\n",
      "\n",
      "$$\\begin{align}E(p(x, r)) &= \\int^{r}_{0}x+r\\mathrm{d}x + \\int^{1-r}_{r}2r \\mathrm{d}x + \\int^{1}_{1-r} 1-x+r \\mathrm{d}x\\\\\n",
      "&= \\left[\\frac{x^{2}}{2} + rx \\right]^{r}_{0} + \\left[ 2rx\\right]^{1-r}_{r}+ \\left[ x-\\frac{x^{2}}{2} + rx\\right]^{1}_{1-r}\\\\\n",
      "&= -r^{2} + 2r \\end{align}$$\n",
      "\n",
      "$0.5<r\\le1$\u306e\u3068\u304d\u3082\u540c\u69d8\u306b\u3057\u3066\n",
      "\n",
      "$$E(p(x,r)) = -r^{2} + 2r$$\n",
      "\n",
      "\u3067\u3042\u308b\u3002"
     ]
    },
    {
     "cell_type": "code",
     "collapsed": false,
     "input": [
      "import matplotlib.pyplot as plt\n",
      "import numpy as np\n",
      "\n",
      "r = np.linspace(0., 1., 100)\n",
      "plt.plot(r, -r**2+2*r)\n",
      "plt.xlabel(r'$r$')\n",
      "plt.ylabel(r'$E(p(x,r))$')\n",
      "plt.show()"
     ],
     "language": "python",
     "metadata": {
      "internals": {
       "slide_type": "subslide"
      },
      "slideshow": {
       "slide_type": "subslide"
      }
     },
     "outputs": [
      {
       "metadata": {},
       "output_type": "display_data",
       "png": "[encoded data removed]",
       "text": [
        "<matplotlib.figure.Figure at 0x7fb97beaf950>"
       ]
      }
     ],
     "prompt_number": 4
    },
    {
     "cell_type": "markdown",
     "metadata": {
      "internals": {
       "frag_number": 13,
       "slide_helper": "subslide_end"
      },
      "slide_helper": "slide_end",
      "slideshow": {
       "slide_type": "fragment"
      }
     },
     "source": [
      "\u4e0a\u56f3\u306e\u5834\u5408\u3001$r$\u306b\u5bfe\u5fdc\u3059\u308b\u5024\u3068\u3057\u3066`self.radius=1/.3`\u3068\u3057\u3066\u3044\u308b\u306e\u3067\u3001\u50be\u304d\u306e\u5e73\u5747\u5024\u306f$-1/3(1/3-2) = 5/9$\u3067\u3042\u308b(\u7dd1\u306e\u7dda)\u3002\u307e\u305f\u3001\u7d2f\u7a4d\u306e\u30ea\u30f3\u30af\u6570\u306b\u3064\u3044\u3066\u3082\u3001\u540c\u3058\u3088\u3046\u306b\u66f2\u7dda\u3067\u30d5\u30a3\u30c3\u30c8\u3059\u308b\u3053\u3068\u304c\u3067\u304d\u3066\u3044\u308b\u3002"
     ]
    },
    {
     "cell_type": "heading",
     "level": 2,
     "metadata": {
      "internals": {
       "frag_helper": "fragment_end",
       "frag_number": 13,
       "slide_type": "subslide"
      },
      "slideshow": {
       "slide_type": "slide"
      }
     },
     "source": [
      "\u7d50\u8ad6\u3068\u5c55\u671b"
     ]
    },
    {
     "cell_type": "markdown",
     "metadata": {
      "internals": {
       "frag_helper": "fragment_end",
       "frag_number": 15
      },
      "slideshow": {
       "slide_type": "fragment"
      }
     },
     "source": [
      "\u4e0a\u307e\u3067\u306b\u8003\u3048\u3066\u304d\u305f\u3088\u3046\u306b\u3001\u5b9f\u969b\u306b\u306f\u3053\u306e\u4f8b\u306f\u307b\u3068\u3093\u3069\u4f8b1\u3068\u540c\u3058\u3067\u3042\u308b\u3053\u3068\u304c\u5206\u304b\u308b(\u6c88\u9ed9\u3092[0,1]\u306e\u9593\u306e\u4e00\u69d8\u4e71\u6570\u306e\u671f\u5f85\u50240.5\u3068\u3057\u305f\u5834\u5408)\u3002\u5b9f\u969b\u306b\u3053\u306e\u5834\u5408\u306b\u3064\u3044\u3066\u30b7\u30df\u30e5\u30ec\u30fc\u30b7\u30e7\u30f3\u3092\u4f5c\u6210\u3057\u305f\u306e\u3067\u3001\u3053\u308c\u3092\u5143\u306b\u65b0\u305f\u306b\u6539\u826f\u3057\u3066\u3044\u304f\u3053\u3068\u306f\u53ef\u80fd\u3060\u308d\u3046\u3002\u307e\u305f\u3001\u4e0a\u3067\u306f\u8b70\u8ad6\u3057\u306a\u304b\u3063\u305f\u304c\u3001\u8ab0\u304c\u767a\u8a00\u3057\u305f\u304b\u3068\u3044\u3046\u6642\u7cfb\u5217\u306b\u3064\u3044\u3066\u306f\u3001\u30cd\u30c3\u30c8\u30ef\u30fc\u30af\u3068\u3057\u3066\u306e\u89e3\u6790\u306e\u4f59\u5730\u306f\u6b8b\u3055\u308c\u3066\u3044\u308b\u3002\u6b21\u306e\u4f8b\u3067\u306f\u3001\u8ddd\u96e2\u3068\u767a\u8a00\u8005\u306e\u9593\u306e\u95a2\u4fc2\u306e\u7d71\u8a08\u7684\u6027\u8cea\u306b\u3064\u3044\u3066\u8abf\u3079\u308b\u3002\u307e\u305f\u3001\u305d\u306e\u7d50\u679c\u3092\u8e0f\u307e\u3048\u3066\u3001\u4eba\u306b\u3088\u308b\u610f\u898b\u306e\u5dee\u7570\u306e\u52b9\u679c\u3092\u3046\u307e\u304f\u53d6\u308a\u8fbc\u3080\u65b9\u6cd5\u3092\u63a2\u308b\u3002"
     ]
    },
    {
     "cell_type": "heading",
     "level": 1,
     "metadata": {
      "internals": {
       "frag_helper": "fragment_end",
       "frag_number": 15
      },
      "slideshow": {
       "slide_type": "skip"
      }
     },
     "source": [
      "\u305d\u306e\u4ed6\u30e1\u30e2"
     ]
    },
    {
     "cell_type": "markdown",
     "metadata": {
      "internals": {
       "frag_helper": "fragment_end",
       "frag_number": 15
      },
      "slideshow": {
       "slide_type": "skip"
      }
     },
     "source": [
      "\u4eca\u56de\u8003\u3048\u305f\u610f\u898b\u540c\u58eb\u306b\u30ea\u30f3\u30af\u3092\u5f35\u308b\u65b9\u6cd5\u306f\u3001\u95be\u5024\u30e2\u30c7\u30eb\u306e\u5909\u5f62\u3068\u8003\u3048\u308b\u3053\u3068\u304c\u3067\u304d\u308b\u3002\n",
      "\n",
      "\u95be\u5024\u30e2\u30c7\u30eb:\n",
      "\n",
      "- \u5404\u30ce\u30fc\u30c9\u306b\u78ba\u7387\u7684\u306b\u91cd\u307f\u3092\u3064\u3051\u3001\u91cd\u307f\u306e\u548c\u304c\u4e00\u5b9a\u5024\u4ee5\u4e0a\u306e\u5834\u5408\u306b\u679d\u3092\u304a\u304f\n",
      "\n",
      "\n",
      "\u91cd\u307f$w_{i}$\u304c\u6307\u6570\u5206\u5e03\n",
      "\n",
      "$$f(x) = \\left\\{\\begin{array}{ll}\n",
      "\\lambda e^{-\\lambda x} & (x \\ge 0) \\\\\n",
      "0 & (x< 0) \\end{array} \\right.,\\ \\ \\lambda > 0$$\n",
      "\n",
      "\u306b\u5f93\u3046\u6642\u3001\u6b21\u6570\u5206\u5e03$p(k)$\u306f\n",
      "\n",
      "$$p(k)\\propto k^{-2}$$\n",
      "\n",
      "\u306b\u306a\u308b\u3002\n",
      "\n"
     ]
    },
    {
     "cell_type": "markdown",
     "metadata": {
      "internals": {
       "frag_helper": "fragment_end",
       "frag_number": 15
      },
      "slideshow": {
       "slide_type": "skip"
      }
     },
     "source": [
      "\u4e00\u65b9\u3067\u3001\u4eca\u56de\u8003\u3048\u305f\u3088\u3046\u306b\u91cd\u307f\u3092\u4e00\u69d8\u5206\u5e03\u3068\u3057\u305f\u5834\u5408\u306b\u6b21\u6570\u5206\u5e03\u3092\u6c42\u3081\u3066\u307f\u308b\u3068"
     ]
    },
    {
     "cell_type": "code",
     "collapsed": false,
     "input": [
      "import networkx as nx\n",
      "import matplotlib.pyplot as plt\n",
      "from collections import Counter\n",
      "\n",
      "# \u30b0\u30e9\u30d5\u306e\u4f5c\u6210\n",
      "G = nx.Graph()\n",
      "G.add_edges_from(main.app.links)\n",
      "\n",
      "# print len(G.neighbors(0))\n",
      "\n",
      "#nx.draw_circular(G)\n",
      "#plt.show()\n",
      "\n",
      "# \u30e9\u30f3\u30ad\u30f3\u30b0\u30d7\u30ed\u30c3\u30c8 ---\n",
      "#degree_sequence = sorted(nx.degree(G).values(), reverse=True)\n",
      "print nx.degree(G)\n",
      "#dmax = max(degree_sequence)\n",
      "\n",
      "#plt.loglog(degree_sequence, 'b-', marker='o')\n",
      "#plt.title(\"Degree reank plot\")\n",
      "#plt.ylabel(\"degree\")\n",
      "#plt.xlabel(\"rank\")\n",
      "#plt.show()\n",
      "# ---\n",
      "\n",
      "# \u6b21\u6570\u5206\u5e03\n",
      "c = Counter(nx.degree(G).values())\n",
      "s = sum(c.values())\n",
      "x = []\n",
      "y = []\n",
      "for _x, _y in c.items():\n",
      "    x.append(_x)\n",
      "    y.append(_y)\n",
      "\n",
      "plt.scatter(x, np.array(y)/float(s))\n",
      "plt.show()"
     ],
     "language": "python",
     "metadata": {
      "internals": {
       "frag_helper": "fragment_end",
       "frag_number": 15
      },
      "slideshow": {
       "slide_type": "skip"
      }
     },
     "outputs": [
      {
       "output_type": "stream",
       "stream": "stdout",
       "text": [
        "{0: 58, 1: 75, 2: 76, 3: 41, 4: 58, 5: 70, 6: 58, 7: 67, 8: 62, 9: 33, 10: 71, 11: 73, 12: 35, 13: 65, 14: 61, 15: 32, 16: 77, 17: 33, 18: 65, 19: 76, 20: 58, 21: 36, 22: 72, 23: 75, 24: 38, 25: 58, 26: 42, 27: 69, 28: 71, 29: 37, 30: 36, 31: 66, 32: 58, 33: 73, 34: 71, 35: 63, 36: 75, 37: 37, 38: 77, 39: 34, 40: 39, 41: 34, 42: 58, 43: 31, 44: 70, 45: 65, 46: 71, 47: 58, 48: 59, 49: 65, 50: 71, 51: 65, 52: 58, 53: 38, 54: 75, 55: 73, 56: 66, 57: 58, 58: 59, 59: 77, 60: 60, 61: 74, 62: 75, 63: 42, 64: 67, 65: 41, 66: 67, 67: 58, 68: 61, 69: 26, 70: 61, 71: 71, 72: 62, 73: 58, 74: 75, 75: 70, 76: 59, 77: 39, 78: 31, 79: 76, 80: 75, 81: 58, 82: 61, 83: 67, 84: 62, 85: 61, 86: 58, 87: 58, 88: 58, 89: 61, 90: 69, 91: 35, 92: 26, 93: 34, 94: 37, 95: 69, 96: 40, 97: 58, 98: 67, 99: 70, 100: 71, 101: 58}\n"
       ]
      },
      {
       "metadata": {},
       "output_type": "display_data",
       "png": "[encoded data removed]",
       "text": [
        "<matplotlib.figure.Figure at 0x7f000454e650>"
       ]
      }
     ],
     "prompt_number": 65
    },
    {
     "cell_type": "markdown",
     "metadata": {
      "internals": {
       "frag_helper": "fragment_end",
       "frag_number": 15
      },
      "slideshow": {
       "slide_type": "skip"
      }
     },
     "source": [
      "???"
     ]
    },
    {
     "cell_type": "heading",
     "level": 3,
     "metadata": {
      "internals": {
       "frag_helper": "fragment_end",
       "frag_number": 15
      },
      "slideshow": {
       "slide_type": "skip"
      }
     },
     "source": [
      "\u53c2\u8003:\u5bfe\u4eba\u8ddd\u96e2\u306b\u3064\u3044\u3066"
     ]
    },
    {
     "cell_type": "code",
     "collapsed": false,
     "input": [
      "from IPython.display import HTML\n",
      "HTML('<iframe src=http://ja.wikipedia.org/wiki/%E5%AF%BE%E4%BA%BA%E8%B7%9D%E9%9B%A2?useformat=mobile width=700 height=350></iframe>')"
     ],
     "language": "python",
     "metadata": {
      "internals": {
       "frag_helper": "fragment_end",
       "frag_number": 15
      },
      "slideshow": {
       "slide_type": "skip"
      }
     },
     "outputs": [
      {
       "html": [
        "<iframe src=http://ja.wikipedia.org/wiki/%E5%AF%BE%E4%BA%BA%E8%B7%9D%E9%9B%A2?useformat=mobile width=700 height=350></iframe>"
       ],
       "metadata": {},
       "output_type": "pyout",
       "prompt_number": 1,
       "text": [
        "<IPython.core.display.HTML object>"
       ]
      }
     ],
     "prompt_number": 1
    },
    {
     "cell_type": "heading",
     "level": 3,
     "metadata": {
      "internals": {
       "frag_helper": "fragment_end",
       "frag_number": 15
      },
      "slideshow": {
       "slide_type": "skip"
      }
     },
     "source": [
      "\u53c2\u8003:\u30b9\u30c6\u30a3\u30f3\u30ac\u30fc\u52b9\u679c"
     ]
    },
    {
     "cell_type": "markdown",
     "metadata": {
      "internals": {
       "frag_helper": "fragment_end",
       "frag_number": 15
      },
      "slideshow": {
       "slide_type": "skip"
      }
     },
     "source": [
      "1. \u4ee5\u524d\u306b\u53e3\u8ad6\u3057\u305f\u76f8\u624b\u306f\u4f1a\u8b70\u3067\u3082\u53e3\u8ad6\u76f8\u624b\u306e\u6b63\u9762\u306b\u5ea7\u308a\u305f\u304c\u308b\n",
      "2. \u3042\u308b\u767a\u8a00\u306e\u6b21\u306b\u306a\u3055\u308c\u308b\u767a\u8a00\u306f\u3001\u591a\u304f\u306e\u5834\u5408\u306f\u53cd\u5bfe\u610f\u898b\u3067\u3042\u308b\n",
      "3. \u4f1a\u8b70\u306e\u30ea\u30fc\u30c0\u30fc\u306e\u529b\u304c\u5f31\u3044\u3068\u304d\u306f\u6b63\u9762\u540c\u58eb\u3067\u79c1\u8a9e\u304c\u8d77\u3053\u308a\u3001\u30ea\u30fc\u30c0\u30fc\u306e\u529b\u304c\u5f37\u3044\u3068\u304d\u306f\u96a3\u540c\u58eb\u3067\u79c1\u8a9e\u304c\u8d77\u3053\u308b"
     ]
    },
    {
     "cell_type": "heading",
     "level": 3,
     "metadata": {
      "internals": {
       "frag_helper": "fragment_end",
       "frag_number": 15
      },
      "slideshow": {
       "slide_type": "skip"
      }
     },
     "source": [
      "\u5099\u8003:\u30de\u30cf\u30e9\u30ce\u30d3\u30b9\u8ddd\u96e2\u306b\u3064\u3044\u3066"
     ]
    },
    {
     "cell_type": "code",
     "collapsed": false,
     "input": [
      "from IPython.display import HTML\n",
      "HTML('<iframe src=http://ja.wikipedia.org/wiki/%E3%83%9E%E3%83%8F%E3%83%A9%E3%83%8E%E3%83%93%E3%82%B9%E8%B7%9D%E9%9B%A2?useformat=mobile width=700 height=350></iframe>')"
     ],
     "language": "python",
     "metadata": {
      "internals": {
       "frag_helper": "fragment_end",
       "frag_number": 15,
       "slide_helper": "subslide_end"
      },
      "slide_helper": "slide_end",
      "slideshow": {
       "slide_type": "skip"
      }
     },
     "outputs": [
      {
       "html": [
        "<iframe src=http://ja.wikipedia.org/wiki/%E3%83%9E%E3%83%8F%E3%83%A9%E3%83%8E%E3%83%93%E3%82%B9%E8%B7%9D%E9%9B%A2?useformat=mobile width=700 height=350></iframe>"
       ],
       "metadata": {},
       "output_type": "pyout",
       "prompt_number": 2,
       "text": [
        "<IPython.core.display.HTML object>"
       ]
      }
     ],
     "prompt_number": 2
    }
   ],
   "metadata": {}
  }
 ]
}