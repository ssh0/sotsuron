{
 "metadata": {
  "name": "",
  "signature": "sha256:a57c4b092bfea10088db66bc263111133473651088d54af2c00e435ee32ad87e"
 },
 "nbformat": 3,
 "nbformat_minor": 0,
 "worksheets": [
  {
   "cells": [
    {
     "cell_type": "heading",
     "level": 1,
     "metadata": {},
     "source": [
      "\u53c2\u52a0\u8005\u9593\u306e\u30cd\u30c3\u30c8\u30ef\u30fc\u30af\u306b\u3064\u3044\u3066"
     ]
    },
    {
     "cell_type": "markdown",
     "metadata": {},
     "source": [
      "\u4f8b2\u306e\u7d50\u8ad6\u3067\u3082\u8ff0\u3079\u305f\u3088\u3046\u306b\u3001\u3059\u3079\u3066\u306e\u767a\u8a00\u8005\u304c$[0,1]$\u306e\u9593\u306e\u4e00\u69d8\u306a\u4e71\u6570\u3092\u767a\u8a00\u3068\u3057\u3066\u767a\u3059\u308b\u3068\u3044\u3046\u8a2d\u5b9a\u3067\u306f\u3001\u53c2\u52a0\u8005\u306e\u9055\u3044\u3084\u8ddd\u96e2\u306a\u3069\u306f\u5168\u304f\u5bc4\u4e0e\u3057\u306a\u3044\u3002\n",
      "\u3057\u305f\u304c\u3063\u3066\u3001\u6b21\u306b\u8003\u3048\u308b\u3053\u3068\u306f\u500b\u4eba\u9593\u306e\u30ea\u30f3\u30af\u306b\u304a\u3044\u3066\u6210\u308a\u7acb\u3064\u95a2\u4fc2\u306f\u3069\u306e\u3088\u3046\u306b\u306a\u3063\u3066\u3044\u308b\u304b\u3068\u3044\u3046\u3053\u3068\u3067\u3042\u308b\u3002\n",
      "\u3053\u3053\u3067\u3082\u3001\u307e\u305a\u306f\u5148\u884c\u7814\u7a76\u3068\u3057\u3066\u306a\u3055\u308c\u3066\u3044\u308b\u3053\u3068\u3082\u591a\u3044\u3068\u601d\u308f\u308c\u308b\u306e\u3067\u3001\u305d\u306e\u307e\u3068\u3081\u3068\u4e00\u822c\u5316\u3001\u305d\u308c\u304b\u3089\u7c21\u5358\u306a\u30aa\u30ea\u30b8\u30ca\u30eb\u306e\u5834\u5408\u3092\u8003\u3048\u308b\u3053\u3068\u306b\u3059\u308b\u3002\n",
      "\u6700\u7d42\u7684\u306a\u7d50\u8ad6\u306b\u884c\u304d\u7740\u304f\u305f\u3081\u306b\u3001\u3053\u308c\u3089\u500b\u4eba\u9593\u306e\u30ea\u30f3\u30af\u306b\u3064\u3044\u3066\u306e\u6027\u8cea\u3092\u307e\u3068\u3081\u3066\u304a\u304d\u3001\u305d\u306e\u5f8c\u306b\u305d\u308c\u3092\u53cd\u6620\u3057\u305f\u8a55\u4fa1\u95a2\u6570\u3084\u95be\u5024\u306a\u3069\u3092\u8a2d\u5b9a\u3059\u308b\u3053\u3068\u306b\u3059\u308b\u3002"
     ]
    },
    {
     "cell_type": "markdown",
     "metadata": {},
     "source": [
      "\u6642\u523b$k$\u306b$i$\u304c\u767a\u8a00\u3092\u884c\u3044\u3001\u305d\u306e\u5f8c\u6642\u523b$k+1$\u306b$j$\u304c\u767a\u8a00$x_{k+1}^{j}$\u3092\u884c\u3046\u78ba\u7387$p_{k}(i,j)$\u3092\n",
      "\n",
      "$$p_{k}(i,j) = \\frac{g_{k}(d_{ij})}{\\sum_{j} g_{k}(d_{ij})}$$\n",
      "\n",
      "\u3068\u3057\u3066\u8003\u3048\u3066\u3044\u305f\u3002\n",
      "\n",
      "\u3053\u308c\u306f\u9069\u5fdc\u5ea6\u30e2\u30c7\u30eb\u3068\u9055\u3044\u3001(\u521d\u671f\u306e\u3084\u308a\u3068\u308a\u3092\u65b0\u305f\u306a\u30ce\u30fc\u30c9\u306e\u8ffd\u52a0\u3068\u898b\u306a\u3055\u306a\u3051\u308c\u3070)\u65b0\u305f\u306a\u30ce\u30fc\u30c9\u3092\u8ffd\u52a0\u3059\u308b\u3053\u3068\u306f\u306a\u3044\u3002\n",
      "\u307e\u305f\u3001\u306f\u3058\u3081\u306b\u30b9\u30b1\u30fc\u30eb\u30d5\u30ea\u30fc\u6027\u3068\u547c\u3070\u308c\u308b\u6027\u8cea\u3092\u5c0e\u304f\u30cd\u30c3\u30c8\u30ef\u30fc\u30af\u3092\u4f5c\u308b\u3082\u306e\u3068\u306a\u3063\u305fWS\u30e2\u30c7\u30eb\u3068\u3082\u3001\u305d\u306e\u30e2\u30c7\u30eb\u3067\u306f\u679d\u306e\u3064\u306a\u304e\u304b\u3048\u306e\u64cd\u4f5c\u3067\u3042\u308b\u306e\u306b\u5bfe\u3057\u3066\u3001\u3053\u3061\u3089\u306f\u6700\u521d\u304b\u3089\u30ea\u30f3\u30af\u306e\u6570\u3092\u5897\u3084\u3057\u3066\u3044\u304f\u70b9\u3067\u7570\u306a\u308b\u3002\u4fee\u6b63WS\u30e2\u30c7\u30eb\u3067\u306f\u3001\u5c11\u6570\u306e\u65b0\u305f\u306a\u679d\u3092\u8ffd\u52a0\u3059\u308b\u3088\u3046\u306b\u3057\u3066\u3044\u308b\u304c\u3001\u305d\u306e\u30aa\u30fc\u30c0\u30fc\u306a\u3069\u304b\u3089\u8003\u3048\u3066\u3082\u3001\u73fe\u5728\u8003\u3048\u3066\u3044\u308b\u30e2\u30c7\u30eb\u3068\u306f\u7570\u306a\u308b\u3053\u3068\u306b\u7559\u610f\u3059\u3079\u304d\u3067\u3042\u308b\u3002"
     ]
    },
    {
     "cell_type": "markdown",
     "metadata": {},
     "source": [
      "~~\u3055\u3066\u3001\u73fe\u6bb5\u968e(2014/12/09)\u3067\u826f\u3055\u305d\u3046\u306a\u5148\u884c\u7814\u7a76\u306a\u3069\u3082\u898b\u3064\u304b\u308a\u305d\u3046\u306b\u306a\u304b\u3063\u305f\u306e\u3067~~\n",
      "(\u8907\u96d1\u30cd\u30c3\u30c8\u30ef\u30fc\u30af\u306f\u57fa\u672c\u7684\u306b\u30ce\u30fc\u30c9\u3092\u5897\u3084\u3057\u3066\u3044\u304f\u64cd\u4f5c\u3092\u884c\u3063\u3066\u3044\u308b\u3002\u3053\u308c\u306f\u3080\u3057\u308d\u610f\u898b\u306e\u4f5c\u308b\u30cd\u30c3\u30c8\u30ef\u30fc\u30af\u306b\u5bfe\u3057\u3066\u9069\u7528\u3059\u3079\u304d\u4e8b\u67c4\u3067\u3042\u308b\u3002)\n",
      "\u3001\u4e0a\u306e\u3088\u3046\u306a\u5834\u5408\u3092\u8003\u3048\u308b\u305f\u3081\u306b\u3001\u8a2d\u5b9a\u3092\u5225\u306e\u8996\u70b9\u304b\u3089\u898b\u76f4\u3057\u3066\u3001\u30b7\u30df\u30e5\u30ec\u30fc\u30b7\u30e7\u30f3\u3057\u3084\u3059\u3044\u8a2d\u5b9a\u306b\u5909\u3048\u308b\u3002"
     ]
    },
    {
     "cell_type": "markdown",
     "metadata": {},
     "source": [
      "$n$\u4eba\u306e\u53c2\u52a0\u8005\u304c\u3044\u308b\u3068\u304d\u306b\u3001\u767a\u8a00\u8005$i$\u3092\u3001\u30a2\u30eb\u30d5\u30a1\u30d9\u30c3\u30c8$A=\\{0, \\dots , n-1\\}$\u306e\u4e00\u70b9\u3068\u8003\u3048\u3001\u78ba\u7387\u5909\u6570$x\\in A$\u3067\u8868\u3059\u3053\u3068\u306b\u3059\u308b\u3002\u6b21\u306b\u3053\u3046\u3057\u3066\u30e9\u30d9\u30ea\u30f3\u30b0\u3055\u308c\u305f\u53c2\u52a0\u8005\u3092\u5186\u5468\u4e0a\u306b\u4e26\u3079\u308b(\u56f3)\u3002"
     ]
    },
    {
     "cell_type": "markdown",
     "metadata": {},
     "source": [
      "<img src=circle_walk1.jpg width=200 />"
     ]
    },
    {
     "cell_type": "markdown",
     "metadata": {},
     "source": [
      "\u3053\u306e\u3068\u304d\u70b9$i$\u304b\u3089\u6642\u8a08\u56de\u308a\u306b$a$\u76ee\u76db\u9032\u3080\u78ba\u7387\u3092$p_{i}(a)$\u3068\u66f8\u304f\u3053\u3068\u306b\u3059\u308b\u3068\u3001\u9032\u3080\u76ee\u76db\u3092\u78ba\u7387\u5909\u6570$X$\u3067\u8868\u3057\u305f\u6642\u3001$X$\u306b\u5bfe\u3059\u308b\u78ba\u7387\u5bc6\u5ea6\u95a2\u6570\u306f$p_{i}(X)$\u3068\u66f8\u3051\u308b\u3002\n",
      "\u307e\u305f\u3001\u3053\u3053\u3067$X\\in \\{ 0, \\dots , n\\} = A$\u3067\u3042\u308b\u3002\n",
      "\n",
      "\u3053\u3053\u3067\u3001\u6642\u523b$k$\u306e\u7c92\u5b50\u306e\u4f4d\u7f6e\u3092$x_{k}$\u3068\u3057\u3066\u3001\u305d\u306e\u78ba\u7387\u904e\u7a0b\u3092\u5f0f\u3067\u8868\u3059\u3068\n",
      "\n",
      "$$x_{k+1} = x_{k} + X \\mod n$$\n",
      "\n",
      "\u3068\u306a\u308b\u3002"
     ]
    },
    {
     "cell_type": "code",
     "collapsed": true,
     "input": [
      "%matplotlib inline\n",
      "import matplotlib.pyplot as plt\n",
      "import numpy as np\n",
      "import operator\n",
      "\n",
      "def accumulate(iterable, func=operator.add):\n",
      "    'Return running totals'\n",
      "    # accumulate([1,2,3,4,5]) --> 1 3 6 10 15\n",
      "    # accumulate([1,2,3,4,5], operator.mul) --> 1 2 6 24 120\n",
      "    it = iter(iterable)\n",
      "    total = next(it)\n",
      "    yield total\n",
      "    for element in it:\n",
      "        total = func(total, element)\n",
      "        yield total\n",
      "\n",
      "def circle_walk(n=6, i=0, K=100):\n",
      "    '''\n",
      "    n = 6 # a number of participants\n",
      "    i = 0 # initial condition\n",
      "    K = 100 # trial\n",
      "    '''\n",
      "    k = 0\n",
      "    speaker = [] # time series of participants\n",
      "    speaker.append(i)\n",
      "    p = np.random.rand(n) # random probability P_{X}: prob X\n",
      "    s = np.sum(p) # sum up with P_{i}\n",
      "    w = list(accumulate(p)) # create weight list\n",
      "\n",
      "    def gonext(i):    \n",
      "        rn = np.random.rand()*s # normarize with s\n",
      "        for j, _w in enumerate(w):\n",
      "            if rn <= _w:\n",
      "                return j\n",
      "\n",
      "    while True:\n",
      "        if k+1 > K:\n",
      "            break\n",
      "        k += 1\n",
      "        i = (i + gonext(i))%n\n",
      "        speaker.append(i)\n",
      "    return speaker"
     ],
     "language": "python",
     "metadata": {},
     "outputs": [],
     "prompt_number": 18
    },
    {
     "cell_type": "code",
     "collapsed": false,
     "input": [
      "n = 6 # a number of participants\n",
      "K = 100 # trial\n",
      "ans = circle_walk(n=n, K=K)\n",
      "plt.plot(range(K+1), ans)\n",
      "plt.xlabel(r'$k$')\n",
      "plt.ylabel('speaker')\n",
      "plt.ylim(-1, n)\n",
      "plt.show()"
     ],
     "language": "python",
     "metadata": {},
     "outputs": [
      {
       "metadata": {},
       "output_type": "display_data",
       "png": "[encoded data removed]",
       "text": [
        "<matplotlib.figure.Figure at 0x7fb285fadd90>"
       ]
      }
     ],
     "prompt_number": 20
    },
    {
     "cell_type": "markdown",
     "metadata": {},
     "source": [
      "-----\n",
      "(2014/12/10)\u4e0a\u306b\u8ff0\u3079\u305f\u3088\u3046\u306a\u30e2\u30c7\u30eb\u306f\u30de\u30eb\u30b3\u30d5\u9023\u9396\u3067\u8868\u3059\u3053\u3068\u304c\u3067\u304d\u305f\u3002"
     ]
    },
    {
     "cell_type": "markdown",
     "metadata": {},
     "source": [
      "(\u5f15\u7528)\u30de\u30eb\u30b3\u30d5\u9023\u9396\u306e\u30b7\u30df\u30e5\u30ec\u30fc\u30b7\u30e7\u30f3(\u5c71\u672c\u6d69\u30fb\u68ee\u9686\u4e00\u30fb\u85e4\u66f2\u54f2\u90ce, \u30b7\u30df\u30e5\u30ec\u30fc\u30b7\u30e7\u30f3\u306b\u3088\u308b\u78ba\u7387\u8ad6, \u65e5\u672c\u8a55\u8ad6\u793e, 137-143, 1993.)"
     ]
    },
    {
     "cell_type": "heading",
     "level": 2,
     "metadata": {},
     "source": [
      "\u30de\u30eb\u30b3\u30d5\u9023\u9396\u306e\u30b7\u30df\u30e5\u30ec\u30fc\u30b7\u30e7\u30f3"
     ]
    },
    {
     "cell_type": "markdown",
     "metadata": {},
     "source": [
      "\u6642\u9593\u3068\u5171\u306b\u30e9\u30f3\u30c0\u30e0\u306a\u5909\u5316\u3092\u3059\u308b\u73fe\u8c61\u3092\u8003\u3048\u308b\u3002\u3053\u306e\u3088\u3046\u306a\u4f8b\u3068\u3057\u3066\u3001\u30d0\u30af\u30c6\u30ea\u30a2\u306e\u5897\u6b96\u3001\u5929\u5019\u306e\u5909\u5316\u3001\u4eba\u53e3\u306e\u5897\u6e1b\u306a\u3069\u304c\u6319\u3052\u3089\u308c\u308b\u3002\u3053\u308c\u3089\u306e\u73fe\u8c61\u3092\u30e2\u30c7\u30eb\u5316\u3059\u308b\u3068\u304d\u306b\u306f\u3001\u9069\u5f53\u306a\u5358\u4f4d\u6642\u9593\u3092\u8a2d\u5b9a\u3057\u3001\u3053\u306e\u4f55\u500d\u304b\u306e\u6642\u523b$n$\u3067\u306e\u72b6\u614b$X_{n}$\u3092\u8abf\u3079\u308b\u3002\u5358\u4f4d\u6642\u9593\u3068\u3057\u3066\u306f1\u6642\u9593\u30011\u65e5\u30011\u5e74\u30011\u4e16\u4ee3\u306a\u3069\u304c\u8003\u3048\u3089\u308c\u3001\u3082\u3093\u3063\u7b2c\u4e8c\u3088\u308a\u9069\u5207\u306a\u3082\u306e\u3092\u9078\u3076\u3002\u78ba\u7387\u8ad6\u8ad6\u3068\u3057\u3066\u306f\u78ba\u7387\u5909\u6570\u5217$X_{0}, X_{1}, \\cdots ,X_{n}, \\cdots$\u3092\u53d6\u308a\u6271\u3046\u3053\u3068\u306b\u306a\u308b\u3002"
     ]
    },
    {
     "cell_type": "markdown",
     "metadata": {},
     "source": [
      "\u5404\u78ba\u7387\u5909\u6570$X_{n}$\u306f\u554f\u984c\u306b\u3088\u308a\u4eba\u6570\u3001\u4f4d\u7f6e\u306a\u3069\u3092\u3042\u3089\u308f\u3059\u3002$X_{n}$\u306e\u3068\u308a\u5f97\u308b\u5024\u5168\u4f53\u306e\u96c6\u5408\u3092\u72b6\u614b\u7a7a\u9593\u3068\u3044\u3044\u3001$S$\u3067\u3042\u3089\u308f\u3059\u30026\u7ae0\u3067\u306f$S$\u306f\u81ea\u7136\u6570\u5168\u4f53\u3001\u307e\u305f\u306f\u3001\u305d\u306e\u6709\u9650\u306e\u90e8\u5206\u96c6\u5408\u3068\u3057\u3066\u5b9a\u5f0f\u5316\u3067\u304d\u308b\u554f\u984c\u3092\u53d6\u308a\u6271\u3046\u3002"
     ]
    },
    {
     "cell_type": "markdown",
     "metadata": {},
     "source": [
      "$\\{X_{n}\\}=\\{X_{n}: n=0, 1, \\cdots\\}$\u306b\u5bfe\u3057\u3066\u3001\u6642\u523b$n+1$\u306e\u72b6\u614b$X_{n+1}$\u306e\u72b6\u614b$X_{n+1}$\u306f\u6642\u523b$n-1$\u307e\u3067\u306e\u72b6\u614b\u306b\u306f\u95a2\u4fc2\u305b\u305a\u3001\u6642\u523b$n$\u3067\u306e\u72b6\u614b$X_{n}$\u3060\u3051\u3067\u6c7a\u307e\u308b\u3068\u4eee\u5b9a\u3059\u308b\u3002\u3053\u306e\u4eee\u5b9a\u306f\u30de\u30eb\u30b3\u30d5\u6027\u3068\u3088\u3070\u308c\u3001\u73fe\u5728\u304c\u4e0e\u3048\u3089\u308c\u305f\u3068\u304d\u904e\u53bb\u3068\u73fe\u611b\u306f\u72ec\u7acb\u3067\u3042\u308b\u3068\u8868\u73fe\u3067\u304d\u308b\u3002\u3053\u308c\u306b\u3088\u308a\u3001\u73fe\u5728\u306e\u72b6\u614b\u304c\u308f\u304b\u308c\u3070\u672a\u6765(\u6b21\u306e\u6642\u523b)\u306e\u72b6\u614b\u3092\u904e\u53bb\u306e\u72b6\u614b\u306b\u4f9d\u5b58\u305b\u305a\u306b\u78ba\u7387\u7684\u306b\u6c42\u3081\u308b\u3053\u3068\u304c\u3067\u304d\u308b\u3002\u3057\u305f\u304c\u3063\u3066\u3001\u8a08\u7b97\u6a5f\u3092\u7528\u3044\u3001\u4e71\u6570\u306e\u5024\u306b\u3088\u308a\u4e00\u5b9a\u306e\u64cd\u4f5c\u3092\u7e70\u308a\u8fd4\u3059\u3053\u3068\u306b\u3088\u308a$\\{X_{n}\\}$\u306e\u30b7\u30df\u30e5\u30ec\u30fc\u30b7\u30e7\u30f3\u304c\u5bb9\u6613\u306b\u5b9f\u884c\u3067\u304d\u308b\u3002"
     ]
    },
    {
     "cell_type": "markdown",
     "metadata": {},
     "source": [
      "\u4e00\u822c\u306b\u78ba\u7387\u5909\u6570\u5217$\\{X_{n}\\}$\u306b\u5bfe\u3057\u3066\u3001$X_{n}$\u307e\u305f\u306f$\\displaystyle M_{n} = \\frac{X_{0} + X_{1} + \\cdots + X_{n-1}}{n}$\u306e\u3069\u3061\u3089\u304b\u306e\u78ba\u7387\u5909\u6570\u306e$n\\rightarrow \\infty$\u3068\u3057\u305f\u3068\u304d\u306e\u72b6\u614b\u304c\u554f\u984c\u3068\u306a\u308b\u3002$X_{n}$\u304c\u53ce\u675f\u3059\u308c\u3070$M_{n}$\u306f\u540c\u3058\u6975\u9650\u306b\u53ce\u675f\u3059\u308b\u304c\u3001\u9006\u306f\u6210\u308a\u7acb\u305f\u306a\u3044\u3002\u3057\u305f\u304c\u3063\u3066\u3001\u30e2\u30c7\u30eb\u306b\u3088\u308a\u3069\u3061\u3089\u304b\u306e\u78ba\u7387\u5909\u6570\u3092\u53d6\u308a\u4e0a\u3052\u308b\u3002"
     ]
    },
    {
     "cell_type": "markdown",
     "metadata": {},
     "source": [
      "6.1\u7bc0\u3067\u306f\u30de\u30eb\u30b3\u30d5\u9023\u9396$X_{n}$\u306e\u8aac\u660e\u3068\u8a18\u53f7\u306e\u6e96\u5099\u3092\u884c\u3046\u30026.2\u7bc0\u3067\u306f\u3001\u73fe\u91d1\u5f15\u304d\u51fa\u3057\u6a5f\u306e\u9806\u756a\u3092\u5f85\u3064\u4eba\u306e\u6570\u3092\u6271\u3063\u305f\u30e2\u30c7\u30eb\u3092\u53d6\u308a\u4e0a\u3052\u3001$M_{n}$\u306e\u53ce\u675f\u3092\u554f\u984c\u3068\u3059\u308b\u30026.3\u7bc0\u3067\u306f\u30e9\u30f3\u30c0\u30e0\u30a6\u30a9\u30fc\u30af\u3092\u53d6\u308a\u6271\u3044\u3001$X_{n}$\u306e$n\\rightarrow \\infty$\u306e\u72b6\u614b\u3092\u8003\u3048\u308b\u30026.4\u7bc0\u3067\u306f\u500b\u4f53\u304c\u51fa\u751f\u6b7b\u6ec5\u3057\u3066\u3044\u304f\u96c6\u56e3\u306e\u500b\u4f53\u6570\u3092\u6271\u3063\u305f\u4eba\u53e3\u30e2\u30c7\u30eb\u3092\u53d6\u308a\u4e0a\u3052\u3001\u96c6\u56e3\u304c\u6b7b\u6ec5\u3059\u308b\u304b\u500b\u4f53\u6570\u304c\u7206\u767a\u3059\u308b\u304b\u3092\u554f\u984c\u3068\u3059\u308b\u3002"
     ]
    },
    {
     "cell_type": "heading",
     "level": 3,
     "metadata": {},
     "source": [
      "6\uff0e1 \u30de\u30eb\u30b3\u30d5\u9023\u9396"
     ]
    },
    {
     "cell_type": "markdown",
     "metadata": {},
     "source": [
      "\u3053\u306e\u7ae0\u306e\u6240\u3067\u8ff0\u3079\u305f$\\{X_{n}\\}$\u306b\u5bfe\u3059\u308b\u30de\u30eb\u30b3\u30d5\u6027\u3068\u3044\u3046\u4eee\u5b9a\u3092\u3001\u6761\u4ef6\u4ed8\u304d\u78ba\u7387\u3092\u7528\u3044\u3066\u6570\u5b66\u7684\u306b\u5b9a\u5f0f\u5316\u3057\u3088\u3046\u3002"
     ]
    },
    {
     "cell_type": "markdown",
     "metadata": {},
     "source": [
      "**\u5b9a\u7fa9 1** \u78ba\u7387\u5909\u6570$\\{X_{n} :n=0,1,2, \\cdots\\}$\u304c\u6b21\u306e\u6027\u8cea(\u30de\u30eb\u30b3\u30d5\u6027)\u3092\u3082\u3064\u3068\u304d\u3001**\u30de\u30eb\u30b3\u30d5\u9023\u9396**\u3068\u3088\u3076:\n",
      "\n",
      ">\u4efb\u610f\u306e$n$\u500b\u306e\u72b6\u614b$i_{0}, i_{1}, \\cdots ,i_{n-1}$\u30682\u500b\u306e\u72b6\u614b$i,j$\u306b\u5bfe\u3057\u3066\u3001\n",
      ">$$P(X_{n+1}=j|X_{0}=i_{0}, \\cdots, X_{n-1} = i_{n-1}, X_{n} = i) = P(X_{n+1}=j|X_{n}=i)$$\n",
      ">\u3053\u306e\u3068\u304d\u3001\u4e0a\u306e\u6761\u4ef6\u4ed8\u304d\u78ba\u7387\u3092$p(i,j;n)$\u3068\u3042\u3089\u308f\u3057\u3001**\u6642\u523b$n$\u3067\u306e\u9077\u79fb\u78ba\u7387**\u3068\u3088\u3076\u3002"
     ]
    },
    {
     "cell_type": "markdown",
     "metadata": {},
     "source": [
      "\u5b9a\u7fa9\u3088\u308a$p(i,j;n)$\u306f\u6642\u523b$n$\u3067\u72b6\u614b$i$\u306b\u3044\u308b\u3068\u3044\u3046\u6761\u4ef6\u306e\u4e0b\u3067\u3001\u6b21\u306e\u6642\u523b$n+1$\u306b\u72b6\u614b$j$\u3078\u3068\u79fb\u308b\u78ba\u7387\u3067\u3042\u308b\u3002$p(i,j;n)$\u3092$(i,j)$\u6210\u5206\u3068\u3059\u308b\u884c\u5217$P(n) = (p(i,j;n))_{i,j}$\u304c\u5b9a\u7fa9\u3067\u304d\u3001\u3053\u306e\u884c\u5217$P(n)$\u3092**\u3068\u547c\u3076\u6642\u523b$n$\u3067\u306e\u9077\u79fb\u884c\u5217**\u3068\u3044\u3046\u3002"
     ]
    },
    {
     "cell_type": "markdown",
     "metadata": {},
     "source": [
      "$P(n)=(p(i,j;n))_{i,j}$\u304c$n$\u306b\u4f9d\u5b58\u3057\u306a\u3044\u3068\u304d\u3001$\\{X_{n}\\}$\u3092\u6642\u9593\u7684\u306b\u4e00\u69d8\u306a\u30de\u30eb\u30b3\u30d5\u9023\u9396\u3068\u3044\u3046\u3002\u3053\u306e\u5834\u5408\u306f\u30d1\u30e9\u30e1\u30fc\u30bf$$n\u306e\u5fc5\u8981\u6027\u304c\u306a\u3044\u306e\u3067\u5358\u306b\u9077\u79fb\u884c\u5217\u3001\u9077\u79fb\u78ba\u7387\u3068\u3088\u3073\u3001$P,p(i,j)$\u3068\u3042\u3089\u308f\u3059\u3053\u3068\u306b\u3059\u308b\u30026\u7ae0\u3067\u306f\u3001\u3053\u306e\u6642\u9593\u7684\u306b\u4e00\u69d8\u306a\u30de\u30eb\u30b3\u30d5\u9023\u9396\u3092\u53d6\u308a\u6271\u3046\u3002"
     ]
    },
    {
     "cell_type": "markdown",
     "metadata": {},
     "source": [
      "$\\pi(j) = P(X_{0} = j), j\\in S,$\u3067\u4e0e\u3048\u3089\u308c\u308b\u72b6\u614b\u7a7a\u9593$S$\u4e0a\u306e\u78ba\u7387\u5206\u5e03$\\pi$\u3092\u30de\u30eb\u30b3\u30d5\u9023\u9396\u306e\u521d\u671f\u5206\u5e03\u3068\u3044\u3046\u3002"
     ]
    },
    {
     "cell_type": "markdown",
     "metadata": {},
     "source": [
      "\u6642\u523b$1$\u3067\u306e\u5206\u5e03$P(X_{1}=j)$\u3092\u8003\u3048\u3088\u3046\u3002\u4efb\u610f\u306e$j$\u306b\u5bfe\u3057\u3066\u3001\n",
      "$$\\{X_{1} = j\\} = \\bigcup_{k}\\{X_{0} = k, X_{1}=j\\}$$\n",
      "\u53f3\u8fba\u306e\u5404\u96c6\u5408\u306f$k$\u306b\u5bfe\u3057\u3066\u4e92\u3044\u306b\u80cc\u53cd\u3067\u3042\u308b\u304b\u3089\u3001\n",
      "$$\\begin{align}\n",
      "P(X_{1} = j) &= \\sum_{k}P(X_{0}=k, X_{1}=j)\\\\\n",
      "&= \\sum_{k} P(X_{0} = k)P(X_{1} =j|X_{0}=k)\\\\\n",
      "&= \\sum_{k} \\pi(k)p(k,j).\n",
      "\\end{align}$$"
     ]
    },
    {
     "cell_type": "markdown",
     "metadata": {},
     "source": [
      "$\\pi$\u3092\u884c\u30d9\u30af\u30c8\u30eb\u3068\u8003\u3048\u308c\u3070\u3001\u6700\u5f8c\u306e\u884c\u306f\u884c\u30d9\u30af\u30c8\u30eb$\\pi P$\u306e$j$\u6210\u5206\u3067\u3042\u308a\u3001\u6b21\u306e\u88dc\u984c\u304c\u6210\u7acb\u3059\u308b\u3002"
     ]
    },
    {
     "cell_type": "markdown",
     "metadata": {},
     "source": [
      "**\u88dc\u984c 1** $P(X_{1} = j) = (\\pi P)(j) = \\sum_{k}\\pi(k)p(k,j)\\ \\ (j\\in S).$ "
     ]
    },
    {
     "cell_type": "markdown",
     "metadata": {},
     "source": [
      "**\u4f8b 1** 3.3\u7bc0\u4f8b\u984c6\u306f\u6642\u9593\u7684\u306b\u4e00\u69d8\u306a\u30de\u30eb\u30b3\u30d5\u9023\u9396\u3067\u3042\u308b\u3002\u3053\u306e\u4f8b\u3067\u306f\u5358\u4f4d\u6642\u9593\u3068\u3057\u3066\u89aa\u304b\u3089\u5b50\u4f9b\u3078\u306e1\u4e16\u4ee3\u3092\u3068\u308b\u3002\u89aa\u304b\u30892\u30b9\u30c6\u30c3\u30d7\u5f8c\u306e\u7d50\u679c\u3068\u306f\u3001\u5b6b\u304c\u5927\u5b66\u306b\u5165\u308b\u3068\u304d\u7406\u5de5\u7cfb\u304b\u6587\u79d1\u7cfb\u304b\u3092\u3042\u3089\u308f\u3059\u3002"
     ]
    },
    {
     "cell_type": "markdown",
     "metadata": {},
     "source": [
      "\u72b6\u614b\u7a7a\u9593$S$\u306f$\\{0=\\text{\u7406\u5de5\u7cfb}, 1=\\text{\u6587\u79d1\u7cfb}\\}$\u3001\u9077\u79fb\u78ba\u7387\u306f\n",
      "\n",
      "$$p(0,0) = 0.5,\\ p(0,1) = 0.5,\\ p(1,0) = 0.2,\\ p(1,1) = 0.8$$\n",
      "\n",
      "\u9077\u79fb\u884c\u5217\u306f\u3001\n",
      "\n",
      "$$P = \\left(\\begin{array}{cc} 0.5 & 0.5 \\\\ 0.2 & 0.8 \\end{array}\\right) .$$\n"
     ]
    },
    {
     "cell_type": "markdown",
     "metadata": {},
     "source": [
      "\u5404\u4e16\u4ee3\u304c\u5927\u5b66\u3067\u5c02\u653b\u3059\u308b\u5272\u5408\u3092\u6b21\u306e\u3088\u3046\u306b\u884c\u30d9\u30af\u30c8\u30eb\u3067\u8868\u793a\u3059\u308b\u3002\n",
      "$$(\\text{\u7406\u5de5\u7cfb\u306e\u78ba\u7387}\\ \\ \\text{\u6587\u79d1\u7cfb\u306e\u78ba\u7387})$$\n",
      "\u89aa\u304c\u7406\u5de5\u7cfb\u3067\u3042\u308b\u3053\u3068\u306f\u3001\u521d\u671f\u5206\u5e03\u304c\u884c\u30d9\u30af\u30c8\u30eb$(1\\ 0)$\u3067\u3042\u308b\u3068\u8a00\u3044\u63db\u3048\u3089\u308c\u3001\u88dc\u984c1\u3088\u308a\u3001\u5b50\u4f9b\u304c\u5c02\u653b\u3059\u308b\u78ba\u7387\u306f$(1\\ 0)P = (0.5\\ 0.5)$\u3067\u3042\u308b\u3002"
     ]
    },
    {
     "cell_type": "markdown",
     "metadata": {},
     "source": [
      "\u5b9a\u7fa9\u3088\u308a$p(i,j)$\u306f\u975e\u8ca0\u3067\u3042\u308a\u3001\u4efb\u610f\u306e$i$\u306b\u5bfe\u3057\u3066\u6b21\u306e\u7b49\u5f0f\u304c\u6210\u308a\u7acb\u3064\u3002\n",
      "$$\\sum_{j}p(i,j) = 1.$$\n",
      "\u3053\u3053\u3067\u3001\u9077\u79fb\u884c\u5217\u3068\u3044\u3046\u6982\u5ff5\u3092\u884c\u5217\u306e\u6027\u8cea\u3068\u3057\u3066(\u518d)\u5b9a\u7fa9\u3057\u3088\u3046\u3002"
     ]
    },
    {
     "cell_type": "markdown",
     "metadata": {},
     "source": [
      "**\u5b9a\u7fa9 2** \u3059\u3079\u3066\u306e\u6210\u5206\u304c\u975e\u8ca0\u3067\u3001\u4efb\u610f\u306e\u884c\u5217\u306b\u95a2\u3059\u308b\u548c\u304c1\u3068\u306a\u308b\u884c\u5217\u3092**\u78ba\u7387\u884c\u5217**\u3068\u3044\u3046\u3002"
     ]
    },
    {
     "cell_type": "markdown",
     "metadata": {},
     "source": [
      "\u30de\u30eb\u30b3\u30d5\u9023\u9396\u304c\u4e0e\u3048\u3089\u308c\u305f\u3068\u304d\u3001\u9077\u79fb\u884c\u5217\u3068\u521d\u671f\u5206\u5e03\u304c\u5b9a\u307e\u308b\u30021\uff0e3\u7bc0\u3067\u9069\u5f53\u306a\u6a19\u672c\u7a7a\u9593$\\Omega$\u3067\u306e\u4e8b\u8c61\u306b\u5bfe\u3057\u3066\u52a0\u7b97\u52a0\u6cd5\u6027\u3092\u3082\u3064\u96c6\u5408\u95a2\u6570\u3068\u3057\u3066\u78ba\u7387$P(\\cdot)$\u3092\u5b9a\u7fa9\u3057\u305f\u3002\u30de\u30eb\u30b3\u30d5\u9023\u9396\u3092\u53d6\u308a\u6271\u3046\u5834\u5408\u3001$X_{n}$\u306e\u5404\u6642\u523b\u3067$n$\u3067\u306e\u5024$x_{n}(n=0,1,\\cdots)$\u3092\u9806\u306b\u4e26\u3079\u305f$(x_{0},x_{1},\\cdots , x_{n}, \\cdots)$\u3092\u6a19\u672c\u70b9\u3068\u8003\u3048\u308b\u3002\u3057\u305f\u304c\u3063\u3066\u3001\u6a19\u672c\u7a7a\u9593$\\Omega$\u3092\u72b6\u614b\u7a7a\u9593$S$\u306e\u5143\u306e\u7121\u9650\u5217\u5168\u4f53\u3068\u3057\u3001$\\omega\\in \\Omega$\u306b\u5bfe\u3057\u3066$X_{n}(\\omega)$\u306f$\\omega$\u306ef\u7b2c$n$\u5ea7\u6a19\u3068\u3059\u308b($n$\u306f$0$\u3088\u308a\u59cb\u3081\u308b)\u3002\u3053\u306e\u5834\u5408\u3001$\\Omega$\u306f\u4e00\u5b9a\u306e\u3082\u306e\u3067\u3042\u308b\u304b\u3089\u3001\u5b9a\u7fa91\u3067\u306e\u30de\u30eb\u30b3\u30d5\u6027\u306f\u78ba\u7387$P$\u306b\u5bfe\u3059\u308b\u4eee\u5b9a\u3068\u306a\u308b\u3002\u3053\u306e\u3068\u304d\u3001\u6b21\u306e\u5b9a\u7406\u304c\u6210\u308a\u7acb\u3064\u3002"
     ]
    },
    {
     "cell_type": "markdown",
     "metadata": {},
     "source": [
      "**\u5b9a\u7406 1** \u78ba\u7387\u884c\u5217$P$\u3068\u5206\u5e03$\\pi$\u304c\u4e0e\u3048\u3089\u308c\u305f\u3068\u304d\u3001\u4efb\u610f\u306e$n$\u3068\u72b6\u614b\u7a7a\u9593\u306e$n+1$\u500b\u306e\u70b9$j_{0},j_{1},\\cdots ,j_{n}$\u306b\u5bfe\u3057\u3066\u3001\n",
      "$$P(X_{0} = j_{0}, X_{1} = j_{1}, \\cdots , X_{n} =j_{n}) = \\pi(j_{0})p(j_{0},j_{1})\\cdots p(j_{n-1}, j_{n})$$\n",
      "\u3092\u307f\u305f\u3059$\\Omega$\u4e0a\u306e\u78ba\u7387$P$\u304c\u305f\u30601\u3064\u5b58\u5728\u3059\u308b\u3002"
     ]
    },
    {
     "cell_type": "markdown",
     "metadata": {},
     "source": [
      "\u3053\u306e\u5b9a\u7406\u306f\u30de\u30eb\u30b3\u30d5\u9023\u9396\u3092\u6570\u5b66\u7684\u306b\u6271\u3046\u5834\u5408\u306b\u57fa\u672c\u3068\u306a\u308b\u5b9a\u7406\u3067\u3042\u308b\u3002\u8a3c\u660e\u306b\u306f\u6e2c\u5ea6\u8ad6\u7684\u306a\u8003\u3048\u304c\u5fc5\u8981\u3068\u306a\u308a\u3001\u3053\u3053\u3067\u306f\u7701\u7565\u3059\u308b\u3002"
     ]
    },
    {
     "cell_type": "markdown",
     "metadata": {},
     "source": [
      "**\u7cfb** \u5b9a\u74061\u3067\u5b9a\u307e\u308b$P$\u306b\u5bfe\u3057\u3066\u3001$\\{X_{n}\\}$\u306f$\\pi$\u3092\u521d\u671f\u5206\u5e03\u3001$P$\u3092\u9077\u79fb\u884c\u5217\u3068\u3059\u308b\u30de\u30eb\u30b3\u30d5\u9023\u9396\u3067\u3042\u308b\u3002"
     ]
    },
    {
     "cell_type": "markdown",
     "metadata": {},
     "source": [
      "**\u8a3c\u660e** \u5b9a\u74061\u306e\u6761\u4ef6\u5f0f\u3067$n=0$\u3068\u3059\u308b\u3053\u3068\u306b\u3088\u308a\u3001$\\pi$\u306f\u521d\u671f\u5206\u5e03\u3068\u306a\u308b\u3002\u9077\u79fb\u884c\u5217\u3092\u8a08\u7b97\u3059\u308b\u3002\n",
      "$$\\begin{align}P(X_{n+1} &= j | X_{0} = i_{0}, \\cdots, X_{n-1} = i_{n-1}, X_{n}=i)\\\\\n",
      "&= \\frac{P(X_{0} = i_{0}, \\cdots , X_{n-1} = i_{n-1}, X_{n}=i, X_{n+1} = j)}{P(X_{0} = i_{0}, \\cdots, X_{n-1} = i_{n-1}, X_{n}=i)}\\\\\n",
      "&= \\frac{\\pi(i_{0})p(i_{0},i_{1})\\cdots p(i_{n-1},i_{n})p(i,j)}{\\pi(i_{0})p(i_{0},i_{1})\\cdots p(i_{n-1}, i)}\\\\\n",
      "&= p(i,j)\\ \\ \\ \\blacksquare\n",
      "\\end{align}$$"
     ]
    },
    {
     "cell_type": "markdown",
     "metadata": {},
     "source": [
      "**\u88dc\u984c 2** $P = (p(i,j))$\u3092\u9077\u79fb\u884c\u5217\u3068\u3059\u308b\u3068\u304d\u3001$P^{n}$\u3082\u9077\u79fb\u884c\u5217\u3068\u306a\u308b\u3002 "
     ]
    },
    {
     "cell_type": "markdown",
     "metadata": {},
     "source": [
      "**\u8a3c\u660e** \u884c\u5217$P^{n}$\u306e$(i,j)$\u6210\u5206\u3092$p^{(n)}(i,j)$\u3068\u3059\u308c\u3070\u3001\u793a\u3059\u3079\u304d\u3053\u3068\u306f\u3001\u3059\u3079\u3066\u306e$n$\u306b\u5bfe\u3057$\\sum_{j}p^{(n)}(i,j) = 1$\u3067\u3042\u308a\u3001\u3053\u308c\u3092$n$\u306b\u3064\u3044\u3066\u306e\u6570\u5b66\u7684\u5e30\u7d0d\u6cd5\u3067\u8a3c\u660e\u3059\u308b\u3002$n=1$\u306e\u5834\u5408\u306f\u3001\u9077\u79fb\u884c\u5217\u306e\u5b9a\u7fa9\u5f0f\u3067\u3042\u308a\u3001\u660e\u3089\u304b\u3067\u3042\u308b\u3002\n",
      "\n",
      "\u3044\u307e$n$\u307e\u3067\u7b49\u5f0f\u304c\u6210\u7acb\u3057\u3066\u3044\u308b\u3068\u4eee\u5b9a\u3059\u308b\u3002$P^{n+1} = P\\cdot P^{n}$\u3088\u308a\u3001\n",
      "\n",
      "$$\\begin{align}\\sum_{j} p^{(n+1)}(i,j) &= \\sum_{j}\\sum_{k}p(i,k)p^{(n)}(k,j)\\\\\n",
      "&= \\sum_{k}p(i,k)\\sum_{j}p^{(n)}(k,j) = \\sum_{k}p(i,k) = 1.\\ \\ \\ \\blacksquare \\end{align}$$\n",
      "\n",
      "\u72b6\u614b\u7a7a\u9593\u306e$n+1$\u500b\u306e\u70b9$j_{0}, \\cdots ,j_{n}$\u306b\u5bfe\u3057\u3066\u3001\u4e8b\u8c61$A_{j_{0}, \\cdots ,j_{n}}$\u3092\u6b21\u3067\u5b9a\u7fa9\u3059\u308b\u3002\n",
      "\n",
      "$$A_{j_{0}\\cdots ,j_{n}} = \\{ X_{0} = j_{0}, \\cdots , X_{n}=j_{n}\\}.$$\n",
      "\n",
      "$\\pi(i) = P(X_{0} = i)>0$\u3068\u4eee\u5b9a\u3059\u308b\u3002\u6761\u4ef6\u4ed8\u304d\u78ba\u7387\u306e\u5b9a\u7fa9\u3088\u308a\u3001\n",
      "\n",
      "$$P(A_{j_{0},\\cdots , j_{n}} | X_{0} = i) = \\frac{P(A_{j_{0}, \\cdots , j_{n}} \\cap \\{ X_{0} = i \\} )}{ P(X_{0} = i) }$$\n",
      "\n",
      "\u3053\u306e\u3068\u304d\u3001"
     ]
    },
    {
     "cell_type": "markdown",
     "metadata": {},
     "source": [
      "(1) $j_{0} = i$\u306e\u5834\u5408\u3001\n",
      "\n",
      "$$\\begin{align}\n",
      "A_{ j_{0}, \\cdots , j_{n} } \\cap \\{ X_{0} = i \\} &= A_{ j_{0}, \\cdots , j_{n} },\\\\\n",
      "P(A_{ j_{0}, \\cdots , j_{n} } | X_{0} = i) &= p(j_{0}, j_{1}) \\cdots p(j_{n-1}, j_{n}).\n",
      "\\end{align}$$"
     ]
    },
    {
     "cell_type": "markdown",
     "metadata": {},
     "source": [
      "(2) $j_{0} \\neq i$\u306e\u5834\u5408\u3001$A_{j_{o}\\cdots, j_{n}} \\cap \\{X_{0} = i\\} = \\phi,\\ P(A_{j_{0},\\cdots ,j_{n}} | X_{0} =i) = 0.$\u4e0a\u306e\u7d50\u679c\u3092\u5b9a\u7406\u3068\u3057\u3066\u307e\u3068\u3081\u308b\u3002"
     ]
    },
    {
     "cell_type": "markdown",
     "metadata": {},
     "source": [
      "**\u5b9a\u7406 2** $\\pi(i) >0$\u3068\u3059\u308b\u3068\u304d\u3001\n",
      "$$P(A_{j_{0}\\cdots ,j_{n}} | X_{0} = i) = \\left\\{ \\begin{array}{ll}\n",
      "p(j_{0},j_{1})\\cdots p(j_{n-1},j_{n}) & i=j_{0}\\text{\u306e\u5834\u5408},\\\\\n",
      "0 & i\\neq j_{0}\\text{\u306e\u5834\u5408}.\n",
      "\\end{array}\\right.$$\n",
      "\u5de6\u8fba\u306e\u6761\u4ef6\u4ed8\u304d\u78ba\u7387\u306f\u72b6\u614b$i$\u3088\u308a\u51fa\u767a\u3057\u305f\u5834\u5408\u306e\u6761\u4ef6\u4ed8\u304d\u78ba\u7387\u3067\u3042\u308b\u304b\u3089\u3001$\\pi(i) = P(X_{0} =i) =0$\u306e\u5834\u5408\u306b\u306f\u5de6\u8fba\u306f\u610f\u5473\u3092\u3082\u305f\u306a\u3044\u304c\u3001\u53f3\u8fba\u306f$\\pi(i)$\u306e\u5024\u306b\u95a2\u4fc2\u306a\u304f\u610f\u5473\u3092\u3082\u3064\u3002\u53f3\u8fba\u3092\u6761\u4ef6\u4ed8\u304d\u78ba\u7387$P(A_{j_{0}\\cdots ,j_{n}} | X_{0} = i) = P_{\\{X_{0} =i\\}(A_{j_{0}\\cdots ,j_{n}})}$\u3068\u533a\u5225\u3059\u308b\u305f\u3081\u306b$P_{i}$\u3068\u66f8\u304d\u3042\u3089\u308f\u3059\u3002\u3053\u308c\u3092\u5b9a\u7fa9\u3068\u3057\u3066\u307e\u3068\u3081\u3088\u3046\u3002"
     ]
    },
    {
     "cell_type": "markdown",
     "metadata": {},
     "source": [
      "**\u5b9a\u7fa9 3**\n",
      "$$P_{i}(A_{j_{0}\\cdots ,j_{n}}) = \\left\\{ \\begin{array}{ll}\n",
      "p(j_{0},j_{1})\\cdots p(j_{n-1},j_{n}) & i=j_{0}\\text{\u306e\u5834\u5408},\\\\\n",
      "0 & i\\neq j_{0}\\text{\u306e\u5834\u5408}.\n",
      "\\end{array}\\right.$$"
     ]
    },
    {
     "cell_type": "markdown",
     "metadata": {},
     "source": [
      "**\u7cfb** \u4e8b\u8c61$A$\u306b\u5bfe\u3057\u3066\u3001$P(A) = \\sum_{i}\\pi(i)P_{i}(A).$"
     ]
    },
    {
     "cell_type": "markdown",
     "metadata": {},
     "source": [
      "\u4e0a\u3067\u5b9a\u7fa9\u3057\u305f$P_{i}$\u306b\u95a2\u3057\u3066\u6210\u308a\u7acb\u3064\u3053\u3068\u306e\u3044\u304f\u3064\u304b\u306e\u6027\u8cea\u3092\u6319\u3052\u308b\u3002\n",
      "\n",
      "(1) $\\pi(i)> 0$\u306e\u5834\u5408\u3001$P_{i}(A) = P(A|X_{0}=i).$\n",
      "\n",
      "\u4e8b\u8c61$A$\u306b\u5bfe\u3057\u3066\u78ba\u7387$P_{i}(A)$\u3092$i$\u3088\u308a\u51fa\u767a\u3057\u305f\u5834\u5408\u306eA\u306e\u78ba\u7387\u3068\u8a00\u3044\u3042\u3089\u308f\u3059\u3002\u5b9f\u969b\u306e\u7528\u3044\u308b\u5834\u5408\u3001\u7cfb\u306e\u3088\u3046\u306b$\\pi(i)$\u3092\u304b\u3051\u308b\u5834\u5408\u304c\u591a\u3044\u3002"
     ]
    },
    {
     "cell_type": "markdown",
     "metadata": {},
     "source": [
      "(2) $P_{i}(X_{1} = j) = \\sum_{k}P_{i}(X_{0}=k,X_{1} = j) = \\sum_{k}P_{i}(A_{k,j}) = P_{i}(A_{i,j}) = p(i,j).$"
     ]
    },
    {
     "cell_type": "markdown",
     "metadata": {},
     "source": [
      "(3) \u72b6\u614b\u7a7a\u9593\u306e$n$\u500b\u306e\u70b9$j_{1},\\cdots ,j_{n}$\u306b\u5bfe\u3057\u3066$B_{j_{1},\\cdots ,j_{n}} = \\{X_{1} = j_{1}, \\cdots , X_{n} =j_{n}\\}$\u3068\u3059\u308b\u3068\u304d\u3001\n",
      "$$\\begin{align}P_{i}(B_{j_{1},\\cdots ,j_{n}}) &= \\sum_{j}P_{i}(\\{X_{0} = j\\} \\cap B_{j_{1},\\cdots ,j_{n}})\\\\\n",
      "&= \\sum_{j}P_{i}(A_{j, j_{1},\\cdots ,j_{n}}) = P_{i}(A_{i, j_{1},\\cdots ,j_{n}})\\\\\n",
      "&= p(i,j_{1}) \\cdots p(j_{n-1},j_{n}).\n",
      "\\end{align}$$"
     ]
    },
    {
     "cell_type": "markdown",
     "metadata": {},
     "source": [
      "(4) $p(i,j)>0$\u3068\u4eee\u5b9a\u3059\u308b\u3002\n",
      "$$\\begin{align}P_{i}(X_{2}= k|X_{1} = j) &= \\frac{P_{i}(X_{1} = j, X_{2} = k)}{P_{i}(X_{1} = j)} = \\frac{P_{i}(B_{j,k})}{P_{i}(B_{j})}\\\\\n",
      "&= \\frac{p(i,j)p(j,k)}{p(i,j)} = p(j,k)\\\\\n",
      "&= P_{i}(X_{1=k})\\end{align}$$\n",
      "\n",
      "\u5b9a\u74062\u3092\u4e00\u822c\u5316\u3057\u305f\u6b21\u306e\u5b9a\u7406\u3082\u540c\u69d8\u306b\u3057\u3066\u8a3c\u660e\u3067\u304d\u308b\u3002"
     ]
    },
    {
     "cell_type": "markdown",
     "metadata": {},
     "source": [
      "**\u5b9a\u7406 3** \u4efb\u610f\u306e$m,n$\u3068$n+1$\u500b\u306e\u72b6\u614b$j_{0},j_{1},\\cdots ,j_{n}$\u306b\u5bfe\u3057\u3066\u3001\n",
      "$$P(X_{m} = j_{0}, \\cdots ,X_{m+n} = j_{n}|X_{m} = i) = P_{i}(A_{j_{0},\\cdots ,j_{n}}).$$"
     ]
    },
    {
     "cell_type": "markdown",
     "metadata": {},
     "source": [
      "\u5b9a\u74063\u306e\u5fdc\u7528\u3068\u3057\u30662\u30b9\u30c6\u30c3\u30d7\u306e\u5909\u5316\u3092\u8003\u3048\u3066\u307f\u3088\u3046\u3002\u6642\u523b$m$\u304b\u3089\u6642\u523b$m+2$\u3078\u306e\u5909\u5316\u306e\u78ba\u7387$P(X_{m+2}=j|X_{m}=i)$\u3092\u8a08\u7b97\u3059\u308b\u3002\n",
      "$$\\begin{align}P(X_{m+2} =j|X_{m}=i) &= \\sum_{k}P(X_{m+2} = j, X_{m+1} = k, X_{m}=i) | X_{m}=i)\\\\\n",
      "&= \\sum_{k}P_{i}(A_{i,k,j}) = \\sum_{k}p(i,k)p(k,j).\n",
      "\\end{align}$$"
     ]
    },
    {
     "cell_type": "markdown",
     "metadata": {},
     "source": [
      "\u6700\u5f8c\u306e\u548c\u306f$P^{2} = P\\times P$\u306e$(i,j)$\u6210\u5206\u3092\u3042\u3089\u308f\u3057\u3001$m$\u306b\u7121\u95a2\u4fc2\u3067\u3042\u308b\u3002\u540c\u69d8\u306b\u3057\u3066\u3001\u6b21\u306e\u5b9a\u7406\u3082\u8a3c\u660e\u3067\u304d\u308b\u3002\n"
     ]
    },
    {
     "cell_type": "markdown",
     "metadata": {},
     "source": [
      "**\u5b9a\u7406 4** $n$\u30b9\u30c6\u30c3\u30d7\u306e\u5909\u5316\u306f\u9077\u79fb\u884c\u5217\u306e$n$\u4e57\u3067\u3042\u3089\u308f\u3055\u308c\u308b\u3002\u4efb\u610f\u306e$m\\ge 0, n\\ge 1$\u3068$i,j$\u306b\u5bfe\u3057\u3066\u3001\n",
      "$$P(X_{n+m} = j|X_{m} = i) = p^{(n)}(i,j)$$"
     ]
    },
    {
     "cell_type": "markdown",
     "metadata": {},
     "source": [
      "\u88dc\u984c1\u3068\u540c\u69d8\u306b\u3057\u3066\u3001\u6b21\u306e\u7cfb\u304c\u4e00\u822c\u306b\u6210\u308a\u7acb\u3064\u3002"
     ]
    },
    {
     "cell_type": "markdown",
     "metadata": {},
     "source": [
      "**\u7cfb** $P(X_{n} = j) = (\\pi P^{n})(j) = \\sum_{k}p^{(n)}(k,j).$"
     ]
    },
    {
     "cell_type": "markdown",
     "metadata": {},
     "source": [
      "**\u4f8b2** \u3053\u306e\u7cfb\u3092\u7528\u3044\u308c\u30703.3\u7bc0\u3001\u4f8b\u984c6\u306f\u7c21\u5358\u306b\u89e3\u304f\u3053\u3068\u304c\u3067\u304d\u308b\u3002\u5b6b\u304c\u5c02\u653b\u3059\u308b\u78ba\u7387\u306f$(1\\ 0)\\cdot P^{2} = (0.35\\ 0.65)$\u3068\u306a\u308b\u304b\u3089\u3001\u5b6b\u304c\u7406\u5de5\u7cfb\u3067\u3042\u308b\u78ba\u7387\u306f0.35\u3067\u3042\u308b\u3002"
     ]
    },
    {
     "cell_type": "markdown",
     "metadata": {},
     "source": [
      "\u88dc\u984c2\u3068\u5b9a\u74064\u3088\u308a\u3001\u30de\u30eb\u30b3\u30d5\u9023\u9396\u306e\u5909\u5316\u3092$n$\u30b9\u30c6\u30c3\u30d7\u3054\u3068\u306b\u307f\u308b\u3053\u3068\u306f$P^{n}$\u30921\u3064\u306e\u9077\u79fb\u884c\u5217\u3068\u3059\u308b\u30de\u30eb\u30b3\u30d5\u9023\u9396\u3092\u307f\u308b\u3053\u3068\u3068\u540c\u3058\u3067\u3042\u308b\u3002\u72b6\u614b\u7a7a\u9593$S$\u4e0a\u306e\u95a2\u6570$f_{j}(s)(j\\in S)$\u3092\n",
      "\n",
      "$$f_{j}(s) = \\left\\{ \\begin{array}{ll}1 & s=j\\text{\u306e\u5834\u5408}\\\\\n",
      "0 & s \\neq \\text{\u306e\u5834\u5408}\\end{array}\\right.$$\n",
      "\n",
      "\u3068\u5b9a\u7fa9\u3057\u3001\u4efb\u610f\u306e\u72b6\u614b$j$\u306b\u5bfe\u3057\u3066\u3001\u78ba\u7387\u5909\u6570\u5217$\\{V_{jn}\\}$\u3092\n",
      "\n",
      "$$\\begin{align}V_{j0} &= 0\\\\\n",
      "V_{jn} = f_{j}(X_{0}) =+ \\cdots + f_{j}(X_{n-1})\\ \\ \\ \\ (n\\ge 1)\\end{align}$$\n",
      "\n",
      "\u3068\u5b9a\u7fa9\u3059\u308b\u3068\u3001$V_{jn}$\u306f\u6642\u523b$n-1$\u307e\u3067\u306b$j$\u3092\u8a2a\u308c\u305f\u56de\u6570\u306b\u306a\u308b\u3002(\u6761\u4ef6\u4ed8\u304d)\u78ba\u7387$P_{i}(A)$\u306b\u3088\u308b\u78ba\u7387\u5909\u6570$X$\u306e\u671f\u5f85\u5024\u3092$E_{i}[X]$\u3068\u3042\u3089\u308f\u3057\u3001\u6761\u4ef6\u4ed8\u304d\u671f\u5f85\u5024\u3068\u3088\u3076\u3002\u3053\u308c\u306f4\uff0e1\u7bc0\u3067\u306e\u671f\u5f85\u5024\u306e\u5b9a\u7fa9\u3067\u3001\u78ba\u7387$P(A)$\u3092(\u6761\u4ef6\u4ed8\u304d)\u78ba\u7387$P_{i}(A)$\u306b\u7f6e\u304d\u63db\u3048\u305f\u3082\u306e\u3067\u3042\u308b\u3002"
     ]
    },
    {
     "cell_type": "markdown",
     "metadata": {},
     "source": [
      "**\u5b9a\u7fa9 4**\n",
      "$$E_{i}[X] = \\sum_{k}P_{i}(X=k).$$\n",
      "\n",
      "\u3053\u308c\u3092\u7528\u3044\u308c\u3070\u3001\n",
      "$$E_{i}[f_{i}(X_{k})] = P_{i}(X_{k} = j) = p^{(k)}(i,j).$$\n",
      "\n",
      "$k$\u306b\u95a2\u3059\u308b\u548c\u3092\u3068\u308c\u3070\u3001$E_{i}[V_{jn}]$\u306f\u884c\u5217\u306e\u548c$I ; P + \\cdots + P^{n-1}$\u306e$(i,j)$\u6210\u5206\u3067\u3042\u308b(\u305f\u3060\u3057\u3001$I$\u306f\u5358\u4f4d\u884c\u5217\u3068\u3057\u3001$P^{0} = i$\u3068\u3059\u308b)\u3002\u3053\u306e\u7d50\u679c\u3092\u307e\u3068\u3081\u308b\u3068\u6b21\u306e\u5b9a\u74065\u3068\u306a\u308b\u3002"
     ]
    },
    {
     "cell_type": "markdown",
     "metadata": {},
     "source": [
      "**\u5b9a\u7406 5** \u72b6\u614b$i$\u3088\u308a\u51fa\u3066\u3001\u6642\u523b$n-1$\u307e\u3067\u306e\u9593\u306b\u72b6\u614b$j$\u3092\u8a2a\u308c\u305f\u56de\u6570\u306e\u5e73\u5747\u306f\u884c\u5217$I + P + \\cdots + P^{n-1}$\u306e$(i,j)$\u6210\u5206\u3067\u4e0e\u3048\u3089\u308c\u308b\u3002"
     ]
    },
    {
     "cell_type": "markdown",
     "metadata": {},
     "source": [
      "**\u4f8b 3** \u3053\u3053\u3067\u30013.3\u7bc0\u4f8b\u984c6\u3092\u3082\u3046\u4e00\u5ea6\u8003\u3048\u308b\u3002\u3053\u306e\u5834\u5408\u3001$V_{jn}$\u306f$n$\u4e16\u4ee3\u307e\u3067\u306e$n$\u4eba\u306e\u3046\u3061\u7406\u5de5\u7cfb\u306e\u4eba\u6570\u306e\u5e73\u5747\u3092\u3042\u3089\u308f\u3059\u3002\n",
      "\n",
      "\n",
      "$$\\begin{array}{ll}\n",
      "P = \\left( \\begin{array}{cc}0.5 & 0.5 \\\\ 0.2 & 0.8\\end{array}\\right) &\n",
      "P^{2} =\\left( \\begin{array}{cc}0.35 & 0.65 \\\\ 0.26 & 0.74\\end{array}\\right) \\\\\n",
      "P^{3} =\\left( \\begin{array}{cc}0.305 & 0.695 \\\\ 0.278 & 0.722\\end{array}\\right) &\n",
      "P^{4} =\\left( \\begin{array}{cc}0.2915 & 0.7085 \\\\ 0.2924 & 0.7166\\end{array}\\right) \\\\\n",
      "I + P + \\cdots + P^{4} =\\left( \\begin{array}{cc}2.4915 & 2.5535\\\\ 1.0304 & 3.9786\\end{array}\\right) & \\ \\\\\n",
      "\\end{array}$$\n",
      "\n",
      "\u3053\u308c\u3088\u308a\u3001\u89aa\u304c\u7406\u5de5\u7cfb\u306a\u3089\u30705\u4e16\u4ee3\u306e\u3046\u3061\u7406\u5de5\u7cfb\u306f\u7d04\u534a\u5206\u3001\u89aa\u304c\u6587\u7cfb\u306a\u3089\u30705\u4e16\u4ee3\u306e\u3046\u3061\u7d041\u4eba\u304c\u7406\u5de5\u7cfb\u3067\u3042\u308b\u3053\u3068\u304c\u671f\u5f85\u3055\u308c\u308b\u3002"
     ]
    },
    {
     "cell_type": "markdown",
     "metadata": {},
     "source": [
      "\u53c2\u8003;[\u8a08\u7b97\u6a5f\u5b9f\u7fd2 \u554f\u984c12.16 \u62e1\u6563\u304c\u652f\u914d\u3059\u308b1\u6b21\u5143\u5316\u5b66\u53cd\u5fdc\u7cfb\u306e\u30e2\u30f3\u30c6\u30ab\u30eb\u30ed\u30fb\u30b7\u30df\u30e5\u30ec\u30fc\u30b7\u30e7\u30f3](http://nbviewer.ipython.org/github/ssh0/12-16_diffusion-dominant_chemical_reaction/blob/master/12-16_diffusion-dominant_chemical_reaction.ipynb)"
     ]
    }
   ],
   "metadata": {}
  }
 ]
}