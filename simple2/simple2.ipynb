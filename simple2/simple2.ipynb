{
 "cells": [
  {
   "cell_type": "markdown",
   "metadata": {
    "internals": {
     "slide_helper": "subslide_end",
     "slide_type": "subslide"
    },
    "slide_helper": "slide_end",
    "slideshow": {
     "slide_type": "slide"
    }
   },
   "source": [
    "## 例2"
   ]
  },
  {
   "cell_type": "markdown",
   "metadata": {
    "internals": {
     "slide_helper": "subslide_end",
     "slide_type": "subslide"
    },
    "slide_helper": "subslide_end",
    "slideshow": {
     "slide_type": "slide"
    }
   },
   "source": [
    "今度考えるのは、自然な例として、発言者間の距離が定義されているようなものを考える。ここで言う\"距離\"とは、実際の発言者間の物理的な距離だけでなく、それぞれの間の関係性や声の大きさなどの概念を含んだ一般的な意味での距離である。実際には、そのように距離の計算に用いるパラメータが$b$(<$a$)個あるとして、そのパラメータによる元に対して距離を考える。"
   ]
  },
  {
   "cell_type": "markdown",
   "metadata": {
    "internals": {
     "slide_type": "subslide"
    },
    "slideshow": {
     "slide_type": "subslide"
    }
   },
   "source": [
    "簡単な例として$b$次元ユークリッド距離を取ることを考える。すなわち$b$個の数の組み合わせによって表される集合$X$があった時、\n",
    "\n",
    "距離関数$d: X \\times X \\rightarrow R$が\n",
    "\n",
    "$$d(x, y) = \\sqrt{\\sum_{i=1}^{b}(x_{i}-y_{i})^{2}}\\ \\ ,\\ x,y\\in X$$\n",
    "\n",
    "と書けることを意味する。\n",
    "\n",
    "\n",
    "**NOTE:**実際の場合には、各データ同士の相関を考慮に入れたマハラノビス距離などのほうが適当な場合もあるかもしれないが、まずはイメージしやすいということでユークリッド距離を考えた。"
   ]
  },
  {
   "cell_type": "markdown",
   "metadata": {
    "internals": {
     "slide_helper": "subslide_end"
    },
    "slide_helper": "slide_end",
    "slideshow": {
     "slide_type": "-"
    }
   },
   "source": [
    "以下では、記述の簡単にするため、発言者$i$と発言者$j$の間の距離を$d_{ij}$と書くことにする。"
   ]
  },
  {
   "cell_type": "markdown",
   "metadata": {
    "internals": {
     "slide_helper": "subslide_end",
     "slide_type": "subslide"
    },
    "slide_helper": "subslide_end",
    "slideshow": {
     "slide_type": "slide"
    }
   },
   "source": [
    "時刻$k$に$i$が発言を行い、その後時刻$k+1$に$j$が発言$x_{k+1}^{j}$を行う確率$p_{k}(i,j)$は、距離$d_{ij}$の関数として、次のようにできる。\n",
    "\n",
    "$$p_{k}(i,j) = \\frac{g_{k}(d_{ij})}{\\sum_{j} g_{k}(d_{ij})}$$\n",
    "\n",
    "この$g$の選び方によって、距離の大きさがどのように確率に重みを持たせるかということが決定される。一般に$g$は時刻$k$によって変化してもいいので、添字$k$をつけて時刻$k$における関数であることを表した。"
   ]
  },
  {
   "cell_type": "markdown",
   "metadata": {
    "internals": {
     "slide_helper": "subslide_end",
     "slide_type": "subslide"
    },
    "slide_helper": "subslide_end",
    "slideshow": {
     "slide_type": "subslide"
    }
   },
   "source": [
    "単純な例として$g_{k}(d) = const.,\\ ^{\\forall}k, d\\in R^{1}$とすると、距離に依らず発言者が選ばれるわけなので、例1の発言者の選び方と同じである。\n",
    "\n",
    "$g(d)$は$[0, +\\infty]$で定義される非負の有界な実関数である。\n",
    "\n",
    "ex)\n",
    "\n",
    "$$g(d) = \\frac{1}{d+1}$$\n",
    "\n",
    "$$g(d) = e^{-d}$$\n",
    "\n",
    "$$g(d) = \\left\\{ \\begin{array}{ll} c & (0\\le d \\le 1/c) \\\\\n",
    "1/d & (d>1/c) \\\\\n",
    "\\end{array}\\right., \\ \\ c>0$$"
   ]
  },
  {
   "cell_type": "markdown",
   "metadata": {
    "internals": {
     "slide_helper": "subslide_end",
     "slide_type": "subslide"
    },
    "slide_helper": "slide_end",
    "slideshow": {
     "slide_type": "subslide"
    }
   },
   "source": [
    "しかし、ここで注意すべき点として、どの発言者が発言するにしても、例1で考えたように、どの発言者も$[0,1]$の一様乱数を取るなら、結局、意見について見た時の試行は同じことをしており、誰が発言したかは本質的な問題にはならないことが分かる。"
   ]
  },
  {
   "cell_type": "markdown",
   "metadata": {
    "internals": {
     "slide_helper": "subslide_end",
     "slide_type": "subslide"
    },
    "slide_helper": "slide_end",
    "slideshow": {
     "slide_type": "slide"
    }
   },
   "source": [
    "以下に示すのは上に示すような簡単なことに気付かないまま色々機能をつけてしまったもの。\n",
    "\n",
    "はじめに人の配置をGUIで設定、その後startを押すと、[-1,1]ほどの領域にスケールし直され、その位置関係でシミュレーションが実行される。Notebook上ではインタラクティブに表示されないが、これを通常のプログラムとして走らせるとちゃんとインタラクティブに繋がれていく様子が分かる。その後は各発言者の発言回数とリンクのつながり方に関して、その重みを反映したグラフを表示する。また、各時刻においての発言に対して張られたリンクの数のグラフとその累積のグラフを生成する。"
   ]
  },
  {
   "cell_type": "code",
   "execution_count": 19,
   "metadata": {
    "collapsed": false,
    "internals": {
     "slide_helper": "subslide_end",
     "slide_type": "subslide"
    },
    "slide_helper": "slide_end",
    "slideshow": {
     "slide_type": "slide"
    }
   },
   "outputs": [],
   "source": [
    "%matplotlib inline\n",
    "\n",
    "from Tkinter import *\n",
    "import matplotlib.pyplot as plt\n",
    "import numpy as np\n",
    "import collections\n",
    "import operator\n",
    "\n",
    "def accumulate(iterable, func=operator.add):\n",
    "    'Return running totals'\n",
    "    # accumulate([1,2,3,4,5]) --> 1 3 6 10 15\n",
    "    # accumulate([1,2,3,4,5], operator.mul) --> 1 2 6 24 120\n",
    "    it = iter(iterable)\n",
    "    total = next(it)\n",
    "    yield total\n",
    "    for element in it:\n",
    "        total = func(total, element)\n",
    "        yield total\n",
    "\n",
    "\n",
    "class Person(object):\n",
    "\n",
    "    def __init__(self, ideas_num=10, place=(0., 0.), **kwargs):\n",
    "        # 意見は0~1の間の値を一様に取りうる\n",
    "        self.ideas = list(np.random.random(ideas_num))\n",
    "        # 発言者の実際の位置が2次元の座標として表せる\n",
    "        self.place = place\n",
    "        # その他の特徴量\n",
    "        for (k, v) in kwargs.items():\n",
    "            setattr(self, k, v)\n",
    "\n",
    "    def distance(self, p):\n",
    "        # 人pと自分との間の距離(ユークリッド距離)\n",
    "        d = np.sqrt((self.place[0]-p.place[0])**2 + (self.place[1]-p.place[1])**2)\n",
    "        return d\n",
    "\n",
    "\n",
    "class meeting(object):\n",
    "\n",
    "    def __init__(self, N):\n",
    "        # 会議の参加人数\n",
    "        self.N = N\n",
    "        # 意見の時系列\n",
    "        self.ideas = []\n",
    "        # 発言者の時系列\n",
    "        self.speaker = []\n",
    "        # 時刻\n",
    "        self.k = 0\n",
    "        self.K = 100\n",
    "        # 張られたリンク(時刻, 時刻)のタプルで表現する\n",
    "        self.links = []\n",
    "        # リンクの数(各時刻)\n",
    "        self.l = [0]\n",
    "        # リンクの数(累計)\n",
    "        self.L = [0]\n",
    "\n",
    "    def g(self, x):\n",
    "        # 発言者の物理的距離に対する関数\n",
    "        return np.exp(-x)\n",
    "\n",
    "    def p(self, i):\n",
    "\n",
    "        # 参加者の中で話せる人のみを対象に\n",
    "        _N = []\n",
    "        for k in range(1, self.N+1):\n",
    "            if len(self.members[k].ideas):\n",
    "                _N.append(k)\n",
    "\n",
    "        # それらの人たちに対し、関数gによる重み付けの確率を付与\n",
    "        w = []\n",
    "        for n in _N:\n",
    "            d = self.members[n].distance(i)\n",
    "            w.append(self.g(d))\n",
    "        w = np.array(w)\n",
    "        sum_ = np.sum(w)\n",
    "        _p = list(w/sum_)\n",
    "        p = list(accumulate(_p))\n",
    "        rn = np.random.rand()\n",
    "        nm = 0\n",
    "        while True:\n",
    "            if p[nm] > rn:\n",
    "                break\n",
    "            else:\n",
    "                nm += 1\n",
    "        # その確率で選ばれた人の名前を返す\n",
    "        j = _N[nm]\n",
    "        return j\n",
    "\n",
    "    def q(self, j):\n",
    "        # 発言者jが選ばれた時、持っている意見から等確率で意見を取り出す\n",
    "        x_j = self.members[j]\n",
    "        return np.random.rand()  #x_j.ideas.pop()\n",
    "\n",
    "    def distance(self, x, y):\n",
    "        # 意見の近さを絶対値で表現\n",
    "        d = np.abs(x - y)\n",
    "        if d == 0:\n",
    "            return self.radius + 1\n",
    "        else:\n",
    "            return d\n",
    "\n",
    "    def connect(self):\n",
    "        l = 0\n",
    "        for i, v in enumerate(self.ideas[:-1]):\n",
    "            # k番目の意見と意見が近い時、それらノードの間にリンクを形成する\n",
    "            if self.distance(v, self.ideas[self.k]) < self.radius:\n",
    "                self.links.append((i, self.k))\n",
    "                l += 1\n",
    "        return l\n",
    "\n",
    "    def check_agreement(self):\n",
    "        # 合意チェック 参加人数Nによる関数\n",
    "        def L(N):\n",
    "            return N**2\n",
    "        #if self.l[-1] > L(self.N):\n",
    "        if self.k > self.K:\n",
    "            return True\n",
    "        else:\n",
    "            return False\n",
    "\n",
    "    def check_ideas(self):\n",
    "        for k in range(1, self.N+1):\n",
    "            if len(self.members[k].ideas):\n",
    "                return True\n",
    "        return False\n",
    "\n",
    "    def f_L(self):\n",
    "        # リンクから会議の評価\n",
    "        # 単純に会議終了時に得られたリンクの数を返す\n",
    "        return self.L[-1]\n",
    "\n",
    "    def f_T(self):\n",
    "        # 会議に必要な時間の評価\n",
    "        # 単純に必要な時間kを返す\n",
    "        return self.k\n",
    "\n",
    "    def f(self):\n",
    "        # f_Lとf_Tを使った評価関数f\n",
    "        return self.f_L() - self.f_T()\n",
    "\n",
    "    def end(self):\n",
    "        # 会議の通常終了、各定義量の計算や受け渡しなどはここで\n",
    "        plt.ioff()\n",
    "        plt.show()\n",
    "\n",
    "        # ネットワーク図を描画\n",
    "        link_s = [(a, b) for a, b in zip(self.speaker[:-1], self.speaker[1:])]\n",
    "        counter_links = collections.Counter(link_s)\n",
    "        for link, lw in counter_links.items():\n",
    "            ix = self.members[link[0]].place[0]\n",
    "            iy = self.members[link[0]].place[1]\n",
    "            jx = self.members[link[1]].place[0]\n",
    "            jy = self.members[link[1]].place[1]\n",
    "            _x, _y = ((ix+jx)/2, (iy+jy)/2)\n",
    "            if link[0] == link[1]:\n",
    "                continue\n",
    "            elif link[0] < link[1]:\n",
    "                color = 'black'\n",
    "                va = 'bottom'\n",
    "            else:\n",
    "                color = 'red'\n",
    "                va = 'top'\n",
    "\n",
    "            plt.plot([ix, jx], [iy, jy], color=color, lw=lw*4/self.k+1)\n",
    "            plt.text(_x, _y, '(%d,%d)' % (link[0], link[1]),\n",
    "                     color=color, va=va)\n",
    "\n",
    "        counter = collections.Counter(self.speaker)\n",
    "\n",
    "        for key, i in self.members.items():\n",
    "            x = i.place[0]\n",
    "            y = i.place[1]\n",
    "            size = counter[key] * 30\n",
    "            plt.scatter(x, y, s=size)\n",
    "            plt.text(x, y, str(key), color='green')\n",
    "        plt.show()\n",
    "\n",
    "        # 各時刻に追加されたリンク数のグラフ\n",
    "        r = self.radius\n",
    "        k = np.arange(self.k + 1)\n",
    "        y = (-r**2 + 2*r)*k\n",
    "        delta = np.sqrt((-r**4 + 4*r**3 - 5*r**2 + 2*r)*k)\n",
    "        y1 = y + delta\n",
    "        y2 = y - delta\n",
    "        plt.fill_between(k, y1, y2, facecolor='green', alpha=0.2)\n",
    "        plt.plot(k, self.l)\n",
    "        plt.plot(k, y)\n",
    "        plt.xlabel(r\"Time: $k$\")\n",
    "        plt.ylabel(r\"A number of edges for each time: $l$\")\n",
    "        plt.show()\n",
    "\n",
    "        # リンク数の累積グラフ\n",
    "        plt.plot(k, self.L)\n",
    "        plt.plot(k, (-self.radius**2 + 2*self.radius)*k**2/2.)\n",
    "        plt.xlabel(r\"Time: $k$\")\n",
    "        plt.ylabel(r\"A number of edges: $L$\")\n",
    "        plt.show()\n",
    "\n",
    "        # 時系列で発言者の表示\n",
    "        # print 'self.speaker:', self.speaker\n",
    "        \n",
    "        # 評価関数を通した結果\n",
    "        # print 'self.f', self.f()\n",
    "\n",
    "    def end2(self):\n",
    "        # 会議の異常終了(発言者が発言できなくなる)\n",
    "        pass\n",
    "\n",
    "    def init(self):\n",
    "        x = [i.place[0] for i in self.members.values()]\n",
    "        y = [i.place[1] for i in self.members.values()]\n",
    "        plt.scatter(x, y)\n",
    "        plt.ion()\n",
    "        plt.draw()\n",
    "\n",
    "    def callback(self):\n",
    "        # print 'speaker:', self.speaker[-1]\n",
    "        # print 'link:', self.l[-1]\n",
    "        ix = self.members[self.speaker[-2]].place[0]\n",
    "        iy = self.members[self.speaker[-2]].place[1]\n",
    "        jx = self.members[self.speaker[-1]].place[0]\n",
    "        jy = self.members[self.speaker[-1]].place[1]\n",
    "        plt.plot([ix, jx], [iy, jy])\n",
    "        plt.text((ix+jx)/2, (iy+jy)/2, '%d:(%d,%d)'\n",
    "                 % (self.k, self.speaker[-2], self.speaker[-1]))\n",
    "        plt.draw()\n",
    "\n",
    "    def progress(self):\n",
    "        self.init()\n",
    "        # はじめに1が発言するとする\n",
    "        self.ideas.append(self.q(1))\n",
    "        self.speaker.append(1)\n",
    "        while True:\n",
    "            j = self.p(self.members[self.speaker[-1]])\n",
    "            self.ideas.append(self.q(j))\n",
    "            self.speaker.append(j)\n",
    "            self.k += 1\n",
    "            self.l.append(self.connect())\n",
    "            self.L.append(len(self.links))\n",
    "            self.callback()\n",
    "            if self.check_agreement():\n",
    "                print \"\\nnormal end\"\n",
    "                self.end()\n",
    "                break\n",
    "            if not self.check_ideas():\n",
    "                print \"\\nno one can speak\"\n",
    "                self.end2()\n",
    "                break\n",
    "\n",
    "                \n",
    "class Main:\n",
    "\n",
    "    def __init__(self, radius=0.3):\n",
    "        N = 6\n",
    "        self.app = meeting(N)\n",
    "        self.app.radius = radius\n",
    "        window = Window(N, main=self.app)\n",
    "        window.display()\n",
    "\n",
    "class Window(object):\n",
    "\n",
    "    def __init__(self, N, main):\n",
    "        self.root = Tk()\n",
    "        self.main = main\n",
    "        self.width = 640\n",
    "        self.height = 480\n",
    "        self.canvas = Canvas(self.root, width=self.width, height=self.height)\n",
    "        self.var = StringVar()\n",
    "        self.oval(self.canvas, N)\n",
    "        self.canvas.bind('<Motion>', self.pointer)\n",
    "        self.canvas.pack()\n",
    "        label = Label(self.root, textvariable=self.var, font='Ubuntu 9')\n",
    "        label.pack(side='left')\n",
    "        b1 = Button(self.root, text='start', command=self.b1_clicked)\n",
    "        b1.pack(side='right')\n",
    "        b2 = Button(self.root, text='save', command=self.b2_clicked)\n",
    "        b2.pack(side='right')\n",
    "\n",
    "    def oval(self, canvas, N=6):\n",
    "        self.members = dict()\n",
    "        deg = np.linspace(0., 360., N, endpoint=False)\n",
    "        radius = 20\n",
    "        self.r = int((min(self.height, self.width)/2-radius)*0.9)\n",
    "        self.centerx = int(self.width/2)\n",
    "        self.centery = int(self.height/2)\n",
    "        for n in range(1, N+1):\n",
    "            rad = np.radians(deg[n-1])\n",
    "            self.members[n] = Oval(canvas, n,\n",
    "                                   self.centerx+self.r*np.cos(rad),\n",
    "                                   self.centery+self.r*np.sin(rad),\n",
    "                                   radius, self.var)\n",
    "\n",
    "    def pointer(self, event):\n",
    "        self.var.set(\"(%d,%d)\" % (event.x, event.y))\n",
    "\n",
    "    def b1_clicked(self):\n",
    "        self.main.members = dict()\n",
    "        for n in range(1, self.main.N+1):\n",
    "            x = (self.members[n].x-self.centerx)/float(self.r)\n",
    "            y = (self.members[n].y-self.centery)/float(self.r)\n",
    "            self.main.members[n] = Person(place=(x, y))\n",
    "        self.main.progress()\n",
    "        self.root.destroy()\n",
    "        \n",
    "    def b2_clicked(self):\n",
    "        import tkFileDialog\n",
    "        import os\n",
    "\n",
    "        fTyp = [('eps file', '*.eps'), ('all files', '*')]\n",
    "        filename = tkFileDialog.asksaveasfilename(filetypes=fTyp,\n",
    "                                                  initialdir=os.getcwd(),\n",
    "                                                  initialfile='figure_1.eps')\n",
    "\n",
    "        if filename is None:\n",
    "            return\n",
    "        try:\n",
    "            self.canvas.postscript(file=filename)\n",
    "        except TclError:\n",
    "            print \"\"\"\n",
    "            TclError: Cannot save the figure.\n",
    "            Canvas Window must be alive for save.\"\"\"\n",
    "            return 1\n",
    "        \n",
    "    def display(self):\n",
    "        self.root.mainloop()\n",
    "\n",
    "\n",
    "class Oval:\n",
    "\n",
    "    def __init__(self, canvas, id, x, y, r, var):\n",
    "        self.c = canvas\n",
    "        self.x = x\n",
    "        self.y = y\n",
    "        self.var = var\n",
    "        self.tag = str(id)\n",
    "        self.c.create_oval(x-r, y-r, x+r, y+r, outline='', fill='#069', tags=self.tag)\n",
    "\n",
    "        self.c.tag_bind(self.tag, '<Button-1>', self.pressed)\n",
    "        self.c.tag_bind(self.tag, '<Button1-Motion>', self.dragging)\n",
    "\n",
    "    def pressed(self, event):\n",
    "        self.x = event.x\n",
    "        self.y = event.y\n",
    "\n",
    "    def dragging(self, event):\n",
    "        self.c.move(self.tag, event.x - self.x, event.y - self.y)\n",
    "        self.x = event.x\n",
    "        self.y = event.y"
   ]
  },
  {
   "cell_type": "code",
   "execution_count": 20,
   "metadata": {
    "collapsed": false,
    "internals": {
     "slide_helper": "subslide_end",
     "slide_type": "subslide"
    },
    "slide_helper": "subslide_end",
    "slideshow": {
     "slide_type": "slide"
    }
   },
   "outputs": [
    {
     "name": "stdout",
     "output_type": "stream",
     "text": [
      "\n",
      "normal end\n"
     ]
    },
    {
     "data": {
      "image/png": "[encoded data removed]",
      "text/plain": [
       "<matplotlib.figure.Figure at 0x7f57001e9210>"
      ]
     },
     "metadata": {},
     "output_type": "display_data"
    },
    {
     "data": {
      "image/png": "[encoded data removed]",
      "text/plain": [
       "<matplotlib.figure.Figure at 0x7f56e09d4dd0>"
      ]
     },
     "metadata": {},
     "output_type": "display_data"
    },
    {
     "data": {
      "image/png": "[encoded data removed]",
      "text/plain": [
       "<matplotlib.figure.Figure at 0x7f56e06a6dd0>"
      ]
     },
     "metadata": {},
     "output_type": "display_data"
    },
    {
     "data": {
      "image/png": "[encoded data removed]",
      "text/plain": [
       "<matplotlib.figure.Figure at 0x7f56e09d33d0>"
      ]
     },
     "metadata": {},
     "output_type": "display_data"
    }
   ],
   "source": [
    "main = Main(radius=1/3.)"
   ]
  },
  {
   "cell_type": "markdown",
   "metadata": {
    "internals": {
     "slide_helper": "subslide_end",
     "slide_type": "subslide"
    },
    "slide_helper": "subslide_end",
    "slideshow": {
     "slide_type": "subslide"
    }
   },
   "source": [
    "これらのグラフからも確かめられることだが、[例1](../simple1/simple1.ipynb)で考えたとおり、意見の近さに関する閾値$r$を定めて、その範囲に既になされた発言が存在するときにリンクを張るようにすると、時刻$k$にある点が選ばれたときに張られるリンクの数は、二項分布$B(k, p)$にしたがっていたので、その期待値は試行回数$k$に比例する($E(X) = kp(x,r)$)(実際には複数回これを実施して平均を取ってやる必要がある←あとでやる?:GUIとか全部切って繰り返す)。\n",
    "\n",
    "このときの傾きは、$p(x,r)$が\n",
    "\n",
    "$$p(x,r)= \\left\\{ \\begin{array}{ll}x+r & 0\\le x< \\min(r,1-r) \\\\\n",
    "p(r) = \\min(2r, 1) & \\min(r, 1-r)\\le x \\le \\max(1-r, r) \\\\\n",
    "1 - x+r & \\max(1-r, r) < x \\le 1\n",
    "\\end{array}\\right.$$\n",
    "\n",
    "のように$x$によって決まる関数として与えられていることから$p(x,r)$の$x$に関する期待値として求められて、"
   ]
  },
  {
   "cell_type": "markdown",
   "metadata": {
    "internals": {
     "slide_helper": "subslide_end",
     "slide_type": "subslide"
    },
    "slide_helper": "subslide_end",
    "slideshow": {
     "slide_type": "subslide"
    }
   },
   "source": [
    "$0<r\\le0.5$のとき\n",
    "\n",
    "$$\\begin{align}E(p(x, r)) &= \\int^{r}_{0}x+r\\mathrm{d}x + \\int^{1-r}_{r}2r \\mathrm{d}x + \\int^{1}_{1-r} 1-x+r \\mathrm{d}x\\\\\n",
    "&= \\left[\\frac{x^{2}}{2} + rx \\right]^{r}_{0} + \\left[ 2rx\\right]^{1-r}_{r}+ \\left[ x-\\frac{x^{2}}{2} + rx\\right]^{1}_{1-r}\\\\\n",
    "&= -r^{2} + 2r \\end{align}$$\n",
    "\n",
    "$0.5<r\\le1$のときも同様にして\n",
    "\n",
    "$$E(p(x,r)) = -r^{2} + 2r$$\n",
    "\n",
    "である。"
   ]
  },
  {
   "cell_type": "code",
   "execution_count": 4,
   "metadata": {
    "collapsed": false,
    "internals": {
     "slide_type": "subslide"
    },
    "slideshow": {
     "slide_type": "subslide"
    }
   },
   "outputs": [
    {
     "data": {
      "image/png": "[encoded data removed]",
      "text/plain": [
       "<matplotlib.figure.Figure at 0x7fb97beaf950>"
      ]
     },
     "metadata": {},
     "output_type": "display_data"
    }
   ],
   "source": [
    "import matplotlib.pyplot as plt\n",
    "import numpy as np\n",
    "\n",
    "r = np.linspace(0., 1., 100)\n",
    "plt.plot(r, -r**2+2*r)\n",
    "plt.xlabel(r'$r$')\n",
    "plt.ylabel(r'$E(p(x,r))$')\n",
    "plt.show()"
   ]
  },
  {
   "cell_type": "markdown",
   "metadata": {
    "internals": {
     "frag_number": 13,
     "slide_helper": "subslide_end"
    },
    "slide_helper": "slide_end",
    "slideshow": {
     "slide_type": "fragment"
    }
   },
   "source": [
    "上図の場合、$r$に対応する値として`self.radius=1/.3`としているので、傾きの平均値は$-1/3(1/3-2) = 5/9$である(緑の線)。また、累積のリンク数についても、同じように曲線でフィットすることができている。"
   ]
  },
  {
   "cell_type": "markdown",
   "metadata": {
    "internals": {
     "frag_helper": "fragment_end",
     "frag_number": 13,
     "slide_type": "subslide"
    },
    "slideshow": {
     "slide_type": "slide"
    }
   },
   "source": [
    "## 結論と展望"
   ]
  },
  {
   "cell_type": "markdown",
   "metadata": {
    "internals": {
     "frag_helper": "fragment_end",
     "frag_number": 15
    },
    "slideshow": {
     "slide_type": "fragment"
    }
   },
   "source": [
    "上までに考えてきたように、実際にはこの例はほとんど例1と同じであることが分かる(沈黙を[0,1]の間の一様乱数の期待値0.5とした場合)。実際にこの場合についてシミュレーションを作成したので、これを元に新たに改良していくことは可能だろう。また、上では議論しなかったが、誰が発言したかという時系列については、ネットワークとしての解析の余地は残されている。次の例では、距離と発言者の間の関係の統計的性質について調べる。また、その結果を踏まえて、人による意見の差異の効果をうまく取り込む方法を探る。"
   ]
  },
  {
   "cell_type": "markdown",
   "metadata": {
    "internals": {
     "frag_helper": "fragment_end",
     "frag_number": 15
    },
    "slideshow": {
     "slide_type": "skip"
    }
   },
   "source": [
    "# その他メモ"
   ]
  },
  {
   "cell_type": "markdown",
   "metadata": {
    "internals": {
     "frag_helper": "fragment_end",
     "frag_number": 15
    },
    "slideshow": {
     "slide_type": "skip"
    }
   },
   "source": [
    "今回考えた意見同士にリンクを張る方法は、閾値モデルの変形と考えることができる。\n",
    "\n",
    "閾値モデル:\n",
    "\n",
    "- 各ノードに確率的に重みをつけ、重みの和が一定値以上の場合に枝をおく\n",
    "\n",
    "\n",
    "重み$w_{i}$が指数分布\n",
    "\n",
    "$$f(x) = \\left\\{\\begin{array}{ll}\n",
    "\\lambda e^{-\\lambda x} & (x \\ge 0) \\\\\n",
    "0 & (x< 0) \\end{array} \\right.,\\ \\ \\lambda > 0$$\n",
    "\n",
    "に従う時、次数分布$p(k)$は\n",
    "\n",
    "$$p(k)\\propto k^{-2}$$\n",
    "\n",
    "になる。\n",
    "\n"
   ]
  },
  {
   "cell_type": "markdown",
   "metadata": {
    "internals": {
     "frag_helper": "fragment_end",
     "frag_number": 15
    },
    "slideshow": {
     "slide_type": "skip"
    }
   },
   "source": [
    "一方で、今回考えたように重みを一様分布とした場合に次数分布を求めてみると"
   ]
  },
  {
   "cell_type": "code",
   "execution_count": 65,
   "metadata": {
    "collapsed": false,
    "internals": {
     "frag_helper": "fragment_end",
     "frag_number": 15
    },
    "slideshow": {
     "slide_type": "skip"
    }
   },
   "outputs": [
    {
     "name": "stdout",
     "output_type": "stream",
     "text": [
      "{0: 58, 1: 75, 2: 76, 3: 41, 4: 58, 5: 70, 6: 58, 7: 67, 8: 62, 9: 33, 10: 71, 11: 73, 12: 35, 13: 65, 14: 61, 15: 32, 16: 77, 17: 33, 18: 65, 19: 76, 20: 58, 21: 36, 22: 72, 23: 75, 24: 38, 25: 58, 26: 42, 27: 69, 28: 71, 29: 37, 30: 36, 31: 66, 32: 58, 33: 73, 34: 71, 35: 63, 36: 75, 37: 37, 38: 77, 39: 34, 40: 39, 41: 34, 42: 58, 43: 31, 44: 70, 45: 65, 46: 71, 47: 58, 48: 59, 49: 65, 50: 71, 51: 65, 52: 58, 53: 38, 54: 75, 55: 73, 56: 66, 57: 58, 58: 59, 59: 77, 60: 60, 61: 74, 62: 75, 63: 42, 64: 67, 65: 41, 66: 67, 67: 58, 68: 61, 69: 26, 70: 61, 71: 71, 72: 62, 73: 58, 74: 75, 75: 70, 76: 59, 77: 39, 78: 31, 79: 76, 80: 75, 81: 58, 82: 61, 83: 67, 84: 62, 85: 61, 86: 58, 87: 58, 88: 58, 89: 61, 90: 69, 91: 35, 92: 26, 93: 34, 94: 37, 95: 69, 96: 40, 97: 58, 98: 67, 99: 70, 100: 71, 101: 58}\n"
     ]
    },
    {
     "data": {
      "image/png": "[encoded data removed]",
      "text/plain": [
       "<matplotlib.figure.Figure at 0x7f000454e650>"
      ]
     },
     "metadata": {},
     "output_type": "display_data"
    }
   ],
   "source": [
    "import networkx as nx\n",
    "import matplotlib.pyplot as plt\n",
    "from collections import Counter\n",
    "\n",
    "# グラフの作成\n",
    "G = nx.Graph()\n",
    "G.add_edges_from(main.app.links)\n",
    "\n",
    "# print len(G.neighbors(0))\n",
    "\n",
    "#nx.draw_circular(G)\n",
    "#plt.show()\n",
    "\n",
    "# ランキングプロット ---\n",
    "#degree_sequence = sorted(nx.degree(G).values(), reverse=True)\n",
    "print nx.degree(G)\n",
    "#dmax = max(degree_sequence)\n",
    "\n",
    "#plt.loglog(degree_sequence, 'b-', marker='o')\n",
    "#plt.title(\"Degree reank plot\")\n",
    "#plt.ylabel(\"degree\")\n",
    "#plt.xlabel(\"rank\")\n",
    "#plt.show()\n",
    "# ---\n",
    "\n",
    "# 次数分布\n",
    "c = Counter(nx.degree(G).values())\n",
    "s = sum(c.values())\n",
    "x = []\n",
    "y = []\n",
    "for _x, _y in c.items():\n",
    "    x.append(_x)\n",
    "    y.append(_y)\n",
    "\n",
    "plt.scatter(x, np.array(y)/float(s))\n",
    "plt.show()"
   ]
  },
  {
   "cell_type": "markdown",
   "metadata": {
    "internals": {
     "frag_helper": "fragment_end",
     "frag_number": 15
    },
    "slideshow": {
     "slide_type": "skip"
    }
   },
   "source": [
    "???"
   ]
  },
  {
   "cell_type": "markdown",
   "metadata": {
    "internals": {
     "frag_helper": "fragment_end",
     "frag_number": 15
    },
    "slideshow": {
     "slide_type": "skip"
    }
   },
   "source": [
    "### 参考:対人距離について"
   ]
  },
  {
   "cell_type": "code",
   "execution_count": 1,
   "metadata": {
    "collapsed": false,
    "internals": {
     "frag_helper": "fragment_end",
     "frag_number": 15
    },
    "slideshow": {
     "slide_type": "skip"
    }
   },
   "outputs": [
    {
     "data": {
      "text/html": [
       "<iframe src=http://ja.wikipedia.org/wiki/%E5%AF%BE%E4%BA%BA%E8%B7%9D%E9%9B%A2?useformat=mobile width=700 height=350></iframe>"
      ],
      "text/plain": [
       "<IPython.core.display.HTML object>"
      ]
     },
     "execution_count": 1,
     "metadata": {},
     "output_type": "execute_result"
    }
   ],
   "source": [
    "from IPython.display import HTML\n",
    "HTML('<iframe src=http://ja.wikipedia.org/wiki/%E5%AF%BE%E4%BA%BA%E8%B7%9D%E9%9B%A2?useformat=mobile width=700 height=350></iframe>')"
   ]
  },
  {
   "cell_type": "markdown",
   "metadata": {
    "internals": {
     "frag_helper": "fragment_end",
     "frag_number": 15
    },
    "slideshow": {
     "slide_type": "skip"
    }
   },
   "source": [
    "### 参考:スティンガー効果"
   ]
  },
  {
   "cell_type": "markdown",
   "metadata": {
    "internals": {
     "frag_helper": "fragment_end",
     "frag_number": 15
    },
    "slideshow": {
     "slide_type": "skip"
    }
   },
   "source": [
    "1. 以前に口論した相手は会議でも口論相手の正面に座りたがる\n",
    "2. ある発言の次になされる発言は、多くの場合は反対意見である\n",
    "3. 会議のリーダーの力が弱いときは正面同士で私語が起こり、リーダーの力が強いときは隣同士で私語が起こる"
   ]
  },
  {
   "cell_type": "markdown",
   "metadata": {
    "internals": {
     "frag_helper": "fragment_end",
     "frag_number": 15
    },
    "slideshow": {
     "slide_type": "skip"
    }
   },
   "source": [
    "### 備考:マハラノビス距離について"
   ]
  },
  {
   "cell_type": "code",
   "execution_count": 2,
   "metadata": {
    "collapsed": false,
    "internals": {
     "frag_helper": "fragment_end",
     "frag_number": 15,
     "slide_helper": "subslide_end"
    },
    "slide_helper": "slide_end",
    "slideshow": {
     "slide_type": "skip"
    }
   },
   "outputs": [
    {
     "data": {
      "text/html": [
       "<iframe src=http://ja.wikipedia.org/wiki/%E3%83%9E%E3%83%8F%E3%83%A9%E3%83%8E%E3%83%93%E3%82%B9%E8%B7%9D%E9%9B%A2?useformat=mobile width=700 height=350></iframe>"
      ],
      "text/plain": [
       "<IPython.core.display.HTML object>"
      ]
     },
     "execution_count": 2,
     "metadata": {},
     "output_type": "execute_result"
    }
   ],
   "source": [
    "from IPython.display import HTML\n",
    "HTML('<iframe src=http://ja.wikipedia.org/wiki/%E3%83%9E%E3%83%8F%E3%83%A9%E3%83%8E%E3%83%93%E3%82%B9%E8%B7%9D%E9%9B%A2?useformat=mobile width=700 height=350></iframe>')"
   ]
  }
 ],
 "metadata": {
  "kernelspec": {
   "display_name": "Python 2",
   "language": "python",
   "name": "python2"
  },
  "language_info": {
   "codemirror_mode": {
    "name": "ipython",
    "version": 2
   },
   "file_extension": ".py",
   "mimetype": "text/x-python",
   "name": "python",
   "nbconvert_exporter": "python",
   "pygments_lexer": "ipython2",
   "version": "2.7.6"
  }
 },
 "nbformat": 4,
 "nbformat_minor": 0
}
