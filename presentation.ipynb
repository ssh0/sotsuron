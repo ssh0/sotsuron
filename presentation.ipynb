{
 "cells": [
  {
   "cell_type": "markdown",
   "metadata": {
    "internals": {
     "slide_type": "subslide"
    },
    "slideshow": {
     "slide_type": "slide"
    }
   },
   "source": [
    "<div align=\"center\"><h1>効率とシステムサイズの関係に対する</h1>\n",
    "    <h1>確率モデルによる考察</h1></div>"
   ]
  },
  {
   "cell_type": "markdown",
   "metadata": {
    "internals": {
     "slide_helper": "subslide_end"
    },
    "slide_helper": "slide_end",
    "slideshow": {
     "slide_type": "-"
    }
   },
   "source": [
    "<div align=\"right\">\n",
    "先進理工学部物理学科4年\n",
    "</div><div align=\"right\">\n",
    "山崎研究室  藤本將太郎\n",
    "</div>"
   ]
  },
  {
   "cell_type": "markdown",
   "metadata": {
    "internals": {
     "slide_type": "subslide"
    },
    "slideshow": {
     "slide_type": "slide"
    }
   },
   "source": [
    "## Outline"
   ]
  },
  {
   "cell_type": "markdown",
   "metadata": {
    "internals": {
     "slide_helper": "subslide_end"
    },
    "slide_helper": "slide_end",
    "slideshow": {
     "slide_type": "-"
    }
   },
   "source": [
    "- 背景\n",
    "- 作成したモデルの説明\n",
    "- 解析結果\n",
    "- まとめ\n",
    "- 展望と課題"
   ]
  },
  {
   "cell_type": "markdown",
   "metadata": {
    "internals": {
     "slide_helper": "subslide_end",
     "slide_type": "subslide"
    },
    "slide_helper": "slide_end",
    "slideshow": {
     "slide_type": "slide"
    }
   },
   "source": [
    "## 背景"
   ]
  },
  {
   "cell_type": "markdown",
   "metadata": {
    "internals": {
     "slide_helper": "subslide_end",
     "slide_type": "subslide"
    },
    "slide_helper": "slide_end",
    "slideshow": {
     "slide_type": "slide"
    }
   },
   "source": [
    "**アロメトリー則** ($E\\sim M^{3/4}$)\n",
    "\n",
    "- 動物の体のサイズ(質量$M$)と、基礎代謝率$E$の間の関係\n",
    "- 代謝率は体重に対して比例関係ではなく、$3/4$乗ほどでスケールされる\n",
    "\n",
    "**ホヤの実験によるシステムサイズと代謝率の関係**\n",
    "\n",
    "- ホヤ: 群体を形成\n",
    "- 任意に群体の構成個数を変更可能\n",
    "- 群体サイズと代謝率の間に、アロメトリー則のような関係\n",
    "\n",
    "**会議やグループワークの参加人数と効率の関係**\n",
    "\n",
    "- 参加人数が増えすぎると意見がまとまらず、効率的な会議にならない"
   ]
  },
  {
   "cell_type": "markdown",
   "metadata": {
    "internals": {
     "slide_type": "subslide"
    },
    "slideshow": {
     "slide_type": "slide"
    }
   },
   "source": [
    "**一般化**\n",
    "\n",
    "系のシステムサイズが大きくなると、その特徴量が  \n",
    "単純に比例して大きくはならず、相互作用等によって  \n",
    "それよりも小さくなるような系"
   ]
  },
  {
   "cell_type": "markdown",
   "metadata": {
    "internals": {
     "slide_helper": "subslide_end"
    },
    "slide_helper": "slide_end",
    "slideshow": {
     "slide_type": "-"
    }
   },
   "source": [
    "**アプローチ**\n",
    "\n",
    "- モデルの作成\n",
    "- 解析的計算、数値シミュレーション\n",
    "- 特徴量のシステムサイズに対する応答を調べる"
   ]
  },
  {
   "cell_type": "markdown",
   "metadata": {
    "internals": {
     "slide_helper": "subslide_end",
     "slide_type": "subslide"
    },
    "slide_helper": "slide_end",
    "slideshow": {
     "slide_type": "slide"
    }
   },
   "source": [
    "## 作成したモデルの説明"
   ]
  },
  {
   "cell_type": "markdown",
   "metadata": {
    "internals": {
     "slide_helper": "subslide_end",
     "slide_type": "subslide"
    },
    "slide_helper": "slide_end",
    "slideshow": {
     "slide_type": "slide"
    }
   },
   "source": [
    "- $\\mathbb{R}^{a}$上の点$x$\n",
    "- $x$を元とする$N$個の集合$\\{X_{1}, X_{2}, \\cdots , X_{N}\\}$\n",
    "- システムサイズは$N$\n",
    "- 時刻$k$を1進めるごとに1つの点$x_{k}$を選択(時刻$K$まで)\n",
    "- 与えられたルールにしたがって、点同士にエッジを結ぶ  \n",
    "$\\Rightarrow$結ばれた点同士のネットワーク + $X$をノードとした(有向)ネットワーク"
   ]
  },
  {
   "cell_type": "markdown",
   "metadata": {
    "internals": {
     "slide_helper": "subslide_end",
     "slide_type": "subslide"
    },
    "slide_helper": "slide_end",
    "slideshow": {
     "slide_type": "slide"
    }
   },
   "source": [
    "<div align=\"center\"><img src=img/image.jpg width=80% /> </div>"
   ]
  },
  {
   "cell_type": "markdown",
   "metadata": {
    "internals": {
     "frag_helper": "fragment_end",
     "frag_number": 12,
     "slide_helper": "subslide_end",
     "slide_type": "subslide"
    },
    "slide_helper": "slide_end",
    "slideshow": {
     "slide_type": "slide"
    }
   },
   "source": [
    "### 点$x$の選択に関する設定の場合分け\n",
    "\n",
    "1. $X_{i}$を選び、次に点($x\\in [0, 1]$)をその中から一様に選ぶ  \n",
    "\n",
    "2. 過去の点を参照して次の点$x$を選ぶ。$X_{i}$は自動的に決定される\n"
   ]
  },
  {
   "cell_type": "markdown",
   "metadata": {
    "internals": {
     "frag_helper": "fragment_end",
     "frag_number": 12,
     "slide_type": "subslide"
    },
    "slideshow": {
     "slide_type": "slide"
    }
   },
   "source": [
    "## 解析結果"
   ]
  },
  {
   "cell_type": "markdown",
   "metadata": {
    "internals": {
     "frag_helper": "fragment_end",
     "frag_number": 13,
     "slide_helper": "subslide_end"
    },
    "slide_helper": "slide_end",
    "slideshow": {
     "slide_type": "fragment"
    }
   },
   "source": [
    "いくつかのルールについて、そのシミュレーション・解析の概要を示す"
   ]
  },
  {
   "cell_type": "markdown",
   "metadata": {
    "internals": {
     "frag_helper": "fragment_end",
     "frag_number": 13,
     "slide_helper": "subslide_end",
     "slide_type": "subslide"
    },
    "slide_helper": "slide_end",
    "slideshow": {
     "slide_type": "slide"
    }
   },
   "source": [
    "### 1-A. $X_{i}$を選ぶ確率が等しく、$x \\in [0,1]$として一様な確率で$x$を選ぶ場合\n",
    "\n",
    "\n",
    "1. <span style=\"background-color:#ef9a9a;color:black\">**$X_{i}$を選び、次に点($x\\in [0, 1]$)を一様に選ぶ**</span>  \n",
    "    $X_{i}$を選ぶ確率\n",
    "    1. <span style=\"background-color:#ef9a9a;color:black\">**等しい**</span>\n",
    "    2. 一つ前の時刻の$X$に依存\n"
   ]
  },
  {
   "cell_type": "markdown",
   "metadata": {
    "internals": {
     "frag_helper": "fragment_end",
     "frag_number": 13,
     "slide_helper": "subslide_end",
     "slide_type": "subslide"
    },
    "slide_helper": "subslide_end",
    "slideshow": {
     "slide_type": "slide"
    }
   },
   "source": [
    "**条件**:\n",
    "\n",
    "- 閾値$r$で定められる領域内に入った点すべてにエッジを張る\n",
    "\n",
    "<div align=\"center\"><img src=simple1/simple001_1.jpg width=60% /> </div>\n",
    "\n",
    "**結果**:\n",
    "\n",
    "- 時刻$k$に点が選ばれたとき、領域に入る点の個数は  \n",
    "二項分布$B(k, p(r)=-r^{2}+2r)$に従う\n",
    "\n",
    "- 二項分布の期待値が$E(X) = kp$で表せることから、  \n",
    "$k$番目の点の次数の期待値は$(-r^{2}+2r)k$\n",
    "\n",
    "- $X$の区別はできない  \n",
    "$\\Rightarrow$ システムサイズ$N$との関係は考えられない"
   ]
  },
  {
   "cell_type": "markdown",
   "metadata": {
    "internals": {
     "frag_helper": "fragment_end",
     "frag_number": 13,
     "slide_helper": "subslide_end",
     "slide_type": "subslide"
    },
    "slide_helper": "subslide_end",
    "slideshow": {
     "slide_type": "subslide"
    }
   },
   "source": [
    "一様な確率で$[0,1]$から点が選ばれるとき、  \n",
    "その点が$[\\max(0,x-r), \\min(x+r,1)]$の範囲に入っている確率は、  \n",
    "確率密度関数を用いて、\n",
    "\n",
    "\\begin{align}\n",
    "p(\\max(0, x-r), \\min(x+r, 1)) &= \\int ^{\\min(x+r,1)}_{\\max(0, x-r)} 1 \\mathrm{d}x \\\\\n",
    "&= \\left[ x\\right]^{\\min(x+r,1)}_{\\max(0, x-r)}\\\\\n",
    "\\end{align}\n",
    "\n",
    "から\n",
    "\n",
    "$$p(x,r)= \\left\\{ \\begin{array}{ll}x+r & 0\\le x< \\min(r,1-r) \\\\\n",
    "p(r) = \\min(2r, 1) & \\min(r, 1-r)\\le x \\le \\max(1-r, r) \\\\\n",
    "1 - x+r & \\max(1-r, r) < x \\le 1\n",
    "\\end{array}\\right.$$"
   ]
  },
  {
   "cell_type": "markdown",
   "metadata": {
    "internals": {
     "frag_helper": "fragment_end",
     "frag_number": 13,
     "slide_helper": "subslide_end",
     "slide_type": "subslide"
    },
    "slide_helper": "subslide_end",
    "slideshow": {
     "slide_type": "subslide"
    }
   },
   "source": [
    "$0<r\\le0.5$のとき\n",
    "\n",
    "$$\\begin{align}p(r) = E(p(x, r)) &= \\int^{r}_{0}x+r\\mathrm{d}x + \\int^{1-r}_{r}2r \\mathrm{d}x + \\int^{1}_{1-r} 1-x+r \\mathrm{d}x\\\\\n",
    "&= \\left[\\frac{x^{2}}{2} + rx \\right]^{r}_{0} + \\left[ 2rx\\right]^{1-r}_{r}+ \\left[ x-\\frac{x^{2}}{2} + rx\\right]^{1}_{1-r}\\\\\n",
    "&= -r^{2} + 2r \\end{align}$$\n",
    "\n",
    "$0.5<r\\le1$のときも同様にして\n",
    "\n",
    "\\\\[p (r) = E(p(r)) = -r^{2} + 2r\\\\]\n",
    "\n",
    "である。"
   ]
  },
  {
   "cell_type": "markdown",
   "metadata": {
    "internals": {
     "frag_helper": "fragment_end",
     "frag_number": 13,
     "slide_helper": "subslide_end",
     "slide_type": "subslide"
    },
    "slide_helper": "subslide_end",
    "slideshow": {
     "slide_type": "subslide"
    }
   },
   "source": [
    "$x_{k+1}$が選ばれたとき  \n",
    "$k$番目までに選ばれた点のうち$y$個が  \n",
    "領域$[\\max(0,x-r), \\min(x+r,1)]$の中に存在する確率、  \n",
    "すなわち時刻$k+1$でエッジが$y$本張られる確率は、\n",
    "\n",
    "$$_{k}C_{y}p(r)^{y}(1-p(r))^{k-y}$$\n",
    "\n",
    "で表せる。これは\n",
    "\n",
    "$$P[Y=y] =\\ _{k}C_{y}p(r)^{y}(1-p(r))^{k-y}$$\n",
    "\n",
    "のように書けば明らかなように、  \n",
    "確率変数$Y$に対するパラメータ$k,p$の二項分布$B(k,p)$を表しているから、  \n",
    "その期待値と分散は、\n",
    "\n",
    "$$E(Y) = kp(r)$$\n",
    "\n",
    "$$V(Y) = kp(r)(1-p(r))$$"
   ]
  },
  {
   "cell_type": "markdown",
   "metadata": {
    "internals": {
     "frag_helper": "fragment_end",
     "frag_number": 13,
     "slide_helper": "subslide_end",
     "slide_type": "subslide"
    },
    "slide_helper": "slide_end",
    "slideshow": {
     "slide_type": "subslide"
    }
   },
   "source": [
    "[simple1](simple1/simple1.ipynb)"
   ]
  },
  {
   "cell_type": "markdown",
   "metadata": {
    "internals": {
     "frag_helper": "fragment_end",
     "frag_number": 13,
     "slide_type": "subslide"
    },
    "slideshow": {
     "slide_type": "slide"
    }
   },
   "source": [
    "### 1-B. $X_{i}$を選ぶ確率が異なり、$x \\in [0,1]$として一様な確率で$x$を選ぶ場合\n",
    "\n",
    "1. <span style=\"background-color:#ef9a9a;color:black\">**$X_{i}$を選び、次に点($x\\in [0, 1]$)を一様に選ぶ**</span>  \n",
    "    $X_{i}$を選ぶ確率\n",
    "    1. 等しい\n",
    "    2. <span style=\"background-color:#ef9a9a;color:black\">**一つ前の時刻の$X$に依存**</span>"
   ]
  },
  {
   "cell_type": "markdown",
   "metadata": {
    "internals": {
     "frag_helper": "fragment_end",
     "frag_number": 21,
     "slide_helper": "subslide_end"
    },
    "slide_helper": "slide_end",
    "slideshow": {
     "slide_type": "fragment"
    }
   },
   "source": [
    "- $x$の選び方は同じ  \n",
    "$\\Rightarrow$選ばれた点$x$によるネットワークは全く同一の性質\n",
    "\n",
    "シミュレーションの1例を示す($r=1/3$)。"
   ]
  },
  {
   "cell_type": "markdown",
   "metadata": {
    "internals": {
     "frag_helper": "fragment_end",
     "frag_number": 21,
     "slide_helper": "subslide_end",
     "slide_type": "subslide"
    },
    "slide_helper": "subslide_end",
    "slideshow": {
     "slide_type": "slide"
    }
   },
   "source": [
    "<div align=\"center\">\n",
    "<img src=download2_3.png width=60% />\n",
    "</div>\n",
    "<div align=\"center\">図1. 時刻$k$とそのとき選ばれた点の次数$l$との間の関係</div>\n",
    "- 緑の曲線: 1-Aで確率を用いて求めた関係式\n",
    "$$l = (-r^{2}+2r)k$$\n",
    "$\\Rightarrow$一致"
   ]
  },
  {
   "cell_type": "markdown",
   "metadata": {
    "internals": {
     "frag_helper": "fragment_end",
     "frag_number": 21,
     "slide_helper": "subslide_end",
     "slide_type": "subslide"
    },
    "slide_helper": "slide_end",
    "slideshow": {
     "slide_type": "subslide"
    }
   },
   "source": [
    "緑の領域: 計算によって得られた偏差\n",
    "\n",
    "$$\\begin{align}\n",
    "\\sigma_{l} &= \\sqrt{(-r^{2} + 2r)(1+r^{2}-2r)k} \\\\\n",
    "&= \\sqrt{(-r^{4} + 4r^{3} - 5r^{2} + 2r)k}\n",
    "\\end{align}$$"
   ]
  },
  {
   "cell_type": "markdown",
   "metadata": {
    "internals": {
     "frag_helper": "fragment_end",
     "frag_number": 21,
     "slide_helper": "subslide_end",
     "slide_type": "subslide"
    },
    "slide_helper": "slide_end",
    "slideshow": {
     "slide_type": "slide"
    }
   },
   "source": [
    "<div align=\"center\">\n",
    "<img src=download2_4.png width=60% />\n",
    "</div>\n",
    "<div align=\"center\">図2．時刻$k$までの次数の総和$L$</div>\n",
    "$$L = \\frac{1}{2}(-r^{2}+2r)k^{2}\\ \\ \\ (\\text{理論値})$$"
   ]
  },
  {
   "cell_type": "markdown",
   "metadata": {
    "internals": {
     "frag_helper": "fragment_end",
     "frag_number": 21,
     "slide_helper": "subslide_end",
     "slide_type": "subslide"
    },
    "slide_helper": "subslide_end",
    "slideshow": {
     "slide_type": "slide"
    }
   },
   "source": [
    "- $X_{i}$を選ぶ確率は、一つ前の$X$のみに依存する  \n",
    "$\\Rightarrow$マルコフ連鎖(説明は割愛)"
   ]
  },
  {
   "cell_type": "markdown",
   "metadata": {
    "internals": {
     "frag_helper": "fragment_end",
     "frag_number": 21,
     "slide_helper": "subslide_end",
     "slide_type": "subslide"
    },
    "slide_helper": "slide_end",
    "slideshow": {
     "slide_type": "subslide"
    }
   },
   "source": [
    "- [simple2](simple2/simple2.ipynb)\n",
    "- [person_network](simple2/person_network.ipynb)"
   ]
  },
  {
   "cell_type": "markdown",
   "metadata": {
    "internals": {
     "frag_helper": "fragment_end",
     "frag_number": 21,
     "slide_helper": "subslide_end",
     "slide_type": "subslide"
    },
    "slide_helper": "slide_end",
    "slideshow": {
     "slide_type": "slide"
    }
   },
   "source": [
    "### 2. 過去の点を参照して次の点$x$が選ばれる\n",
    "\n",
    "1. $X_{i}$を選び、次に点($x\\in [0, 1]$)を一様に選ぶ  \n",
    "2. <span style=\"background-color:#ef9a9a;color:black\">**過去の点を参照して次の点$x$を選ぶ**</span>"
   ]
  },
  {
   "cell_type": "markdown",
   "metadata": {
    "internals": {
     "frag_helper": "fragment_end",
     "frag_number": 21,
     "slide_helper": "subslide_end",
     "slide_type": "subslide"
    },
    "slide_helper": "slide_end",
    "slideshow": {
     "slide_type": "slide"
    }
   },
   "source": [
    "**設定**:\n",
    "\n",
    "- $x$は$\\Omega = [0, 1] \\times [0,1]$に一様に分布\n",
    "- $X_{i}$はそれぞれ$S$個の点をもつ\n",
    "- $X_{i}$ごとに、**参照点から最も近い点**を1つ選ぶ\n",
    "- 選ばれた点の参照点からの近さの順に$X$を整列する\n",
    "- $X_{i}$の順番に従い、確率$P_{i}$でそれぞれ点が選ばれる\n",
    "- 点が選ばれなかったとき(確率$1-P_{i}$)は、  \n",
    "次の$X_{j}$について同様の操作を行う\n",
    "- すべての$X$から点が選ばれなかったとき、  \n",
    "時刻を1進めて同じ操作を繰り返す"
   ]
  },
  {
   "cell_type": "markdown",
   "metadata": {
    "internals": {
     "frag_helper": "fragment_end",
     "frag_number": 21,
     "slide_helper": "subslide_end",
     "slide_type": "subslide"
    },
    "slide_helper": "slide_end",
    "slideshow": {
     "slide_type": "slide"
    }
   },
   "source": [
    "<div align=\"center\">\n",
    "<img src=img/figure2.jpg width=80%/>\n",
    "</div>"
   ]
  },
  {
   "cell_type": "markdown",
   "metadata": {
    "internals": {
     "frag_helper": "fragment_end",
     "frag_number": 21,
     "slide_helper": "subslide_end",
     "slide_type": "subslide"
    },
    "slide_helper": "slide_end",
    "slideshow": {
     "slide_type": "slide"
    }
   },
   "source": [
    "### 2-A. 過去に依らず点が選ばれる場合\n",
    "\n",
    "1. $X_{i}$を選び、次に点($x\\in [0, 1]$)を一様に選ぶ  \n",
    "2. <span style=\"background-color:#ef9a9a;color:black\">**過去の点を参照して次の点$x$を選ぶ**</span>  \n",
    "    参照する点\n",
    "    1. <span style=\"background-color:#ef9a9a;color:black\">**なし (case 1)**</span>\n",
    "    2. 一つの点\n",
    "    3. 二つの点"
   ]
  },
  {
   "cell_type": "markdown",
   "metadata": {
    "internals": {
     "frag_helper": "fragment_end",
     "frag_number": 21,
     "slide_helper": "subslide_end",
     "slide_type": "subslide"
    },
    "slide_helper": "subslide_end",
    "slideshow": {
     "slide_type": "slide"
    }
   },
   "source": [
    "- $X_{i}$が、$X$の配列の中で$r+1$($r = 1, 2, \\cdots , n-1$)番目に選ばれたとき  \n",
    "$X_{i}$まで順番が回ってくる確率は\n",
    "\n",
    "$$p_{i}(r+1) = \\frac{\\sum_{J = \\langle j_{0}, \\cdots ,j_{r-1} \\rangle _{r}}\\prod_{j\\in J}(1-P_{j})}{_{n-1}C_{r}}.$$\n",
    "\n",
    "\n",
    "<blockquote>$J = \\langle j_{0}, j_{1}, \\cdots ,j_{r-1} \\rangle_{r}$は、$i$を除く$n-1$個の要素から  \n",
    "$r$個選んだときの組み合わせのうちの1揃いをあらわす</blockquote>\n",
    "\n",
    "- 1番目になるとき\n",
    "\n",
    "$$p_{i}(1) = 1$$"
   ]
  },
  {
   "cell_type": "markdown",
   "metadata": {
    "internals": {
     "frag_helper": "fragment_end",
     "frag_number": 21,
     "slide_helper": "subslide_end",
     "slide_type": "subslide"
    },
    "slide_helper": "slide_end",
    "slideshow": {
     "slide_type": "subslide"
    }
   },
   "source": [
    "具体例:\n",
    "\n",
    "$N = 5$, $i = 1$, $r = 2$とすると、$X_{1}$までに2つの$X$があり、その組み合わせは$(0,2)$, $(0,3)$, $(0,4)$, $(2,3)$, $(2,4)$, $(3,4)$の6つの組み合わせがある。上の式では$J$の一つは$(0, 2)$であり、このとき$j_{0} = 0, j_{1} = 2$である。この$J$に関して和をとり、組み合わせの数$\\ _{4}C_{2} = 6$で割って期待値を求めている。\n",
    "\n",
    "$$\\begin{align}\n",
    "p_{i}(r+1) &= \\left[(1-P_{0})(1-P_{2}) + (1-P_{0})(1-P_{3}) + (1-P_{0})(1-P_{4}) \\right.\\\\\n",
    "&\\ \\left. + (1-P_{2})(1-P_{3}) + (1-P_{2})(1-P_{4}) + (1-P_{3})(1-P_{4}) \\right]/6\n",
    "\\end{align}$$\n",
    "<div align=\"center\">\n",
    "<img src=img/idea_histerisis.jpg width=400px />\n",
    "</div>"
   ]
  },
  {
   "cell_type": "markdown",
   "metadata": {
    "internals": {
     "frag_helper": "fragment_end",
     "frag_number": 21,
     "slide_helper": "subslide_end",
     "slide_type": "subslide"
    },
    "slide_helper": "slide_end",
    "slideshow": {
     "slide_type": "slide"
    }
   },
   "source": [
    "- 過去の点を参照しない  \n",
    "$\\Rightarrow$ $X_{i}$が$r$番目となる確率は等しい\n",
    "\n",
    "- $X_{i}$から点が選ばれる確率の期待値$p_{i}$\n",
    "\n",
    "$$p_{i} = \\frac{\\sum_{r=1}^{n}p_{i}(r)}{n}P_{i}.$$\n",
    "\n",
    "- ($S>K$なら)毎時刻ごとにこの確率で$X_{i}$から点が選ばれることと等価\n",
    "\n",
    "$\\Rightarrow$単純な確率過程に帰着"
   ]
  },
  {
   "cell_type": "markdown",
   "metadata": {
    "internals": {
     "frag_helper": "fragment_end",
     "frag_number": 21,
     "slide_type": "subslide"
    },
    "slideshow": {
     "slide_type": "slide"
    }
   },
   "source": [
    "### 2-B. 一つの点を参照する場合 (case 2, case 3)\n",
    "\n",
    "1. $X_{i}$を選び、次に点($x\\in [0, 1]$)を一様に選ぶ  \n",
    "2. <span style=\"background-color:#ef9a9a;color:black\">**過去の点を参照して次の点$x$を選ぶ**</span>  \n",
    "    参照する点\n",
    "    1. なし (**case 1**)\n",
    "    2. <span style=\"background-color:#ef9a9a;color:black\">**一つの点**</span>\n",
    "        1. <span style=\"background-color:#ef9a9a;color:black\">**時刻0における点 (case 2)**</span>\n",
    "        2. <span style=\"background-color:#ef9a9a;color:black\">**一つ前の時刻の点 (case 3)**</span>\n",
    "    3. 二つの点"
   ]
  },
  {
   "cell_type": "markdown",
   "metadata": {
    "internals": {
     "frag_helper": "fragment_end",
     "frag_number": 21,
     "slide_helper": "subslide_end"
    },
    "slide_helper": "slide_end",
    "slideshow": {
     "slide_type": "-"
    }
   },
   "source": [
    "- 点$x$と点$y$の間の近さの指標  \n",
    "$\\Rightarrow$ $a$次元ユークリッド距離\n",
    "\n",
    "$$\\begin{align}D(x, y) &= d(x,y)\\\\\n",
    "&= \\sqrt{(x_{1} - y_{1})^{2} + (x_{2} - y_{2})^{2} + \\cdots + (x_{a} - y_{a})^{2}}\\end{align}$$"
   ]
  },
  {
   "cell_type": "markdown",
   "metadata": {
    "internals": {
     "frag_helper": "fragment_end",
     "frag_number": 21,
     "slide_helper": "subslide_end",
     "slide_type": "subslide"
    },
    "slide_helper": "slide_end",
    "slideshow": {
     "slide_type": "slide"
    }
   },
   "source": [
    "<div align=\"center\">$K=30$, $N=6$, $S=50$, $a=2$, $p=0.6$のとき\n",
    "<img src=simple3/case_2.jpg width=60% />\n",
    "図4. [case 2] $x_{0}$のみを参照</div>"
   ]
  },
  {
   "cell_type": "markdown",
   "metadata": {
    "internals": {
     "frag_helper": "fragment_end",
     "frag_number": 21,
     "slide_helper": "subslide_end",
     "slide_type": "subslide"
    },
    "slide_helper": "subslide_end",
    "slideshow": {
     "slide_type": "slide"
    }
   },
   "source": [
    "<div align=\"center\">\n",
    "<img src=simple3/case_3.jpg width=60% />\n",
    "図5. [case 3] 一つ前の点のみを参照</div>"
   ]
  },
  {
   "cell_type": "markdown",
   "metadata": {
    "internals": {
     "frag_helper": "fragment_end",
     "frag_number": 21,
     "slide_helper": "subslide_end",
     "slide_type": "subslide"
    },
    "slide_helper": "slide_end",
    "slideshow": {
     "slide_type": "subslide"
    }
   },
   "source": [
    "[simple3_123](simple3/simple3_123.ipynb)"
   ]
  },
  {
   "cell_type": "markdown",
   "metadata": {
    "internals": {
     "frag_helper": "fragment_end",
     "frag_number": 21,
     "slide_helper": "subslide_end",
     "slide_type": "subslide"
    },
    "slide_helper": "slide_end",
    "slideshow": {
     "slide_type": "slide"
    }
   },
   "source": [
    "### 2-C. 二つの点を参照する場合 (case 4, case 5)\n",
    "\n",
    "1. $X_{i}$を選び、次に点($x\\in [0, 1]$)を一様に選ぶ  \n",
    "2. <span style=\"background-color:#ef9a9a;color:black\">**過去の点を参照して次の点$x$を選ぶ**</span>  \n",
    "    参照する点\n",
    "    1. なし **(case 1)**\n",
    "    2. 一つの点 **(case 2)**, **(case 3)**\n",
    "    3. <span style=\"background-color:#ef9a9a;color:black\">**二つの点**</span>\n",
    "        1. <span style=\"background-color:#ef9a9a;color:black\">**時刻0における点 + 一つ前の時刻の点 (case 4)**</span>\n",
    "        2. <span style=\"background-color:#ef9a9a;color:black\">**二つ前の時刻までの点 (case 5)**</span>\n",
    "\n",
    "\n",
    "- 点$x$から2点$y,z$までの近さの指標\n",
    "\n",
    "$$D(x,(y,z)) = \\alpha d(x,y) + \\beta d(x,z)\\ \\ (\\alpha, \\beta > 0)$$"
   ]
  },
  {
   "cell_type": "markdown",
   "metadata": {
    "internals": {
     "frag_helper": "fragment_end",
     "frag_number": 21,
     "slide_helper": "subslide_end",
     "slide_type": "subslide"
    },
    "slide_helper": "slide_end",
    "slideshow": {
     "slide_type": "slide"
    }
   },
   "source": [
    "<div align=\"center\">$K=30$, $N=6$, $S=50$, $a=2$, $p=0.6,$  \n",
    "$\\alpha=2.5$, $\\beta=1$のとき\n",
    "<img src=simple3/case_2.jpg width=60% />\n",
    "図6. [case 4] $x_{0}$+一つ前の点を参照</div>"
   ]
  },
  {
   "cell_type": "markdown",
   "metadata": {
    "internals": {
     "frag_helper": "fragment_end",
     "frag_number": 21,
     "slide_helper": "subslide_end",
     "slide_type": "subslide"
    },
    "slide_helper": "slide_end",
    "slideshow": {
     "slide_type": "slide"
    }
   },
   "source": [
    "<div align=\"center\">\n",
    "<img src=simple3/case_3.jpg width=60% />\n",
    "図7. [case 5] 二つ前までの点を参照</div>"
   ]
  },
  {
   "cell_type": "markdown",
   "metadata": {
    "internals": {
     "frag_helper": "fragment_end",
     "frag_number": 21,
     "slide_helper": "subslide_end",
     "slide_type": "subslide"
    },
    "slide_helper": "slide_end",
    "slideshow": {
     "slide_type": "slide"
    }
   },
   "source": [
    "###結果\n",
    "\n",
    "<div align=\"center\">\n",
    "<img src=img/simple3_N_2_fit.png width=60% />\n",
    "図8. $X$の数$N$に対する1ステップあたりの移動距離の平均値$\\phi$</div>\n",
    "\n",
    "- 1ステップあたりの移動距離の平均値$\\phi$\n",
    "\n",
    "$$\\phi \\sim N^{-0.52}$$"
   ]
  },
  {
   "cell_type": "markdown",
   "metadata": {
    "internals": {
     "frag_helper": "fragment_end",
     "frag_number": 21,
     "slide_helper": "subslide_end",
     "slide_type": "subslide"
    },
    "slide_helper": "subslide_end",
    "slideshow": {
     "slide_type": "slide"
    }
   },
   "source": [
    "1つの点のまわりの直径$r$による面積の期待値から、係数の絶対値は$0.5$より大きい\n",
    "$$\\frac{1}{2}r^{4} - \\frac{3}{8}r^{3} + \\pi r^{2} \\sim r^{c},\\ \\ c < 2\\ \\ \\ \\text{when}\\ \\  0<r<0.5 $$\n",
    "$$1 \\sim r^{c}N \\Rightarrow r \\sim N^{-1/c},\\ \\ \\ \\frac{1}{c} > 0.5  $$"
   ]
  },
  {
   "cell_type": "markdown",
   "metadata": {
    "internals": {
     "frag_helper": "fragment_end",
     "frag_number": 21,
     "slide_helper": "subslide_end",
     "slide_type": "subslide"
    },
    "slide_helper": "subslide_end",
    "slideshow": {
     "slide_type": "subslide"
    }
   },
   "source": [
    "1つの点を領域$\\Omega=[0,1]\\times [0,1]$から一様に選んだとき、  \n",
    "その点のまわりに長さ$r$によって作られる領域の面積の期待値\n",
    "\n",
    "選んだ点が領域の中心付近では$\\mathcal{S} = \\pi r^{2}$とできるが、  \n",
    "領域$\\Omega$の境界にかかっている場合には、それよりも小さい値となる。\n",
    "\n",
    "<div align=\"center\"><img src=img/omega.jpg width=60% />\n",
    "図: 領域$\\Omega$を分割した各領域</div>\n"
   ]
  },
  {
   "cell_type": "markdown",
   "metadata": {
    "internals": {
     "frag_helper": "fragment_end",
     "frag_number": 21,
     "slide_helper": "subslide_end",
     "slide_type": "subslide"
    },
    "slide_helper": "subslide_end",
    "slideshow": {
     "slide_type": "subslide"
    }
   },
   "source": [
    "$$p(r)_{\\Omega'} = \\pi r^{2}$$\n",
    "\n",
    "\n",
    "$$p(r)_{\\Omega''_{i}} = i \\sqrt{r^{2}-i^{2}} + r^{2} \\left[ \\pi -\\arccos \\frac{i}{r} \\right]$$\n",
    "\n",
    "$$\\begin{align}p(r)_{\\Omega''_{i,j}} = &\\frac{1}{2}\\left\\{ \\sqrt{r^{2}-i^{2}} + \\min \\left(j, \\sqrt{r^{2}-i^{2}}\\right) \\right\\}i \\\\\n",
    "&+ \\frac{1}{2}\\left\\{ \\sqrt{r^{2}-j^{2}} + \\min \\left( i, \\sqrt{r^{2}-j^{2}}\\right) \\right\\}j \\\\\n",
    "&+ \\frac{1}{2}r^{2} \\left\\{ 2\\pi -\\arccos \\frac{i}{r}-\\arccos \\frac{j}{r}\\right. \\\\\n",
    "&\\ \\ \\ \\ \\ \\ \\ \\ \\ \\ \\ \\ \\ \\ \\ \\ \\left. - \\min \\left( \\frac{\\pi}{2}, \\arccos \\frac{i}{r} +\\arccos \\frac{j}{r} \\right) \\right\\}\n",
    "\\end{align}$$\n",
    "\n",
    "それぞれの領域で積分を実行し、その結果を足せば  \n",
    "任意の点を選んだときの面積の期待値が得られる。"
   ]
  },
  {
   "cell_type": "markdown",
   "metadata": {
    "internals": {
     "frag_helper": "fragment_end",
     "frag_number": 21,
     "slide_helper": "subslide_end",
     "slide_type": "subslide"
    },
    "slide_helper": "subslide_end",
    "slideshow": {
     "slide_type": "subslide"
    }
   },
   "source": [
    "<div align=\"center\"><img src=img/omega_x.jpg width=60% />\n",
    "図: $\\vec{x} \\in \\Omega''_{x}$であるときの面積$S$の求め方</div>"
   ]
  },
  {
   "cell_type": "markdown",
   "metadata": {
    "internals": {
     "frag_helper": "fragment_end",
     "frag_number": 21,
     "slide_helper": "subslide_end",
     "slide_type": "subslide"
    },
    "slide_helper": "slide_end",
    "slideshow": {
     "slide_type": "subslide"
    }
   },
   "source": [
    "<div align=\"center\"><img src=img/omega_xy.jpg width=60% />\n",
    "図: $\\vec{x} \\in \\Omega''_{x,y}$のときの面積$S$の求め方の一例。</div>"
   ]
  },
  {
   "cell_type": "markdown",
   "metadata": {
    "internals": {
     "frag_helper": "fragment_end",
     "frag_number": 21,
     "slide_helper": "subslide_end",
     "slide_type": "subslide"
    },
    "slide_helper": "slide_end",
    "slideshow": {
     "slide_type": "slide"
    }
   },
   "source": [
    "<div align=\"center\">\n",
    "<img src=img/simple3_p.png width=60% />\n",
    "図9. 選択確率$p$に対する各ステップ間角度の平均値$\\theta$(°)</div>\n",
    "\n",
    "- $p\\rightarrow$ 大  \n",
    "$\\Rightarrow$ ステップ間角度の平均値は小さくなる  \n",
    "偏差はcaseに依らず50°程度\n",
    "- case5は、戻りの効果によって角度は大きくなる"
   ]
  },
  {
   "cell_type": "markdown",
   "metadata": {
    "internals": {
     "frag_helper": "fragment_end",
     "frag_number": 21,
     "slide_helper": "subslide_end",
     "slide_type": "subslide"
    },
    "slide_helper": "subslide_end",
    "slideshow": {
     "slide_type": "slide"
    }
   },
   "source": [
    "<div align=\"center\"><img src=img/idea_vec.jpg width=60% />\n",
    "図10. ステップ間角度$\\theta$のイメージ図\n",
    "</div>"
   ]
  },
  {
   "cell_type": "markdown",
   "metadata": {
    "internals": {
     "frag_helper": "fragment_end",
     "frag_number": 21,
     "slide_helper": "subslide_end",
     "slide_type": "subslide"
    },
    "slide_helper": "slide_end",
    "slideshow": {
     "slide_type": "subslide"
    }
   },
   "source": [
    "[simple3_45](simple3/simple3_45.ipynb)"
   ]
  },
  {
   "cell_type": "markdown",
   "metadata": {
    "internals": {
     "frag_helper": "fragment_end",
     "frag_number": 21,
     "slide_helper": "subslide_end",
     "slide_type": "subslide"
    },
    "slide_helper": "slide_end",
    "slideshow": {
     "slide_type": "slide"
    }
   },
   "source": [
    "##結論\n",
    "\n",
    "- 作成したそれぞれのモデルについて解析を行った\n",
    "\n",
    "- システムサイズに関してベキ的に変化するような量を観察することができた\n",
    "$$\\phi \\sim N^{-0.52}$$\n",
    "\n",
    "- 得られた結果は期待された結果と一致した\n",
    "- 系のサイズとの依存性について、基礎的な問題を解くことができた"
   ]
  },
  {
   "cell_type": "markdown",
   "metadata": {
    "internals": {
     "frag_helper": "fragment_end",
     "frag_number": 21,
     "slide_helper": "subslide_end",
     "slide_type": "subslide"
    },
    "slide_helper": "subslide_end",
    "slideshow": {
     "slide_type": "slide"
    }
   },
   "source": [
    "##今後の展望\n",
    "\n",
    "- **現在取り組んでいるモデル**  \n",
    "閾値$r$より近い位置にある点をすべてクラスター化し、  \n",
    "クラスターを単位として確率的な時間発展を見る\n",
    "<div align=\"center\"><img src=\"img/nearness.png\" width=50%>\n",
    "図11. クラスター同士を結ぶモデルのシミュレーション例($r=0.07$)</div>"
   ]
  },
  {
   "cell_type": "markdown",
   "metadata": {
    "internals": {
     "frag_helper": "fragment_end",
     "frag_number": 21,
     "slide_helper": "subslide_end",
     "slide_type": "subslide"
    },
    "slide_helper": "subslide_end",
    "slideshow": {
     "slide_type": "subslide"
    }
   },
   "source": [
    "<div align=\"center\"><img src=\"img/N_l_2.png\" width=60%>\n",
    "図12. クラスター同士を結ぶモデルにおける、  \n",
    "$X_{i}$の数$N$と平均ステップ間距離$\\phi$の関係</div>\n",
    "\n",
    "- 平均ステップ間距離$\\phi$は$N$に対して下に凸な関数系\n",
    "- $N$が小さいとき  \n",
    "$\\Rightarrow$ 点の密度小 $\\rightarrow$ 点間距離増大(これまでと同じ理由)\n",
    "- $N$が大きいとき  \n",
    "$\\Rightarrow$ 点の密度大 $\\rightarrow$ クラスター化促進 $\\rightarrow$ クラスター間距離増大"
   ]
  },
  {
   "cell_type": "markdown",
   "metadata": {
    "internals": {
     "frag_helper": "fragment_end",
     "frag_number": 21,
     "slide_helper": "subslide_end",
     "slide_type": "subslide"
    },
    "slide_helper": "slide_end",
    "slideshow": {
     "slide_type": "subslide"
    }
   },
   "source": [
    "[近距離抑制効果](近距離抑制効果.ipynb)"
   ]
  },
  {
   "cell_type": "markdown",
   "metadata": {
    "internals": {
     "frag_helper": "fragment_end",
     "frag_number": 21,
     "slide_helper": "subslide_end",
     "slide_type": "subslide"
    },
    "slide_helper": "slide_end",
    "slideshow": {
     "slide_type": "slide"
    }
   },
   "source": [
    "##参考文献\n",
    "\n",
    "- Geoffrey West, James Brown, Brian Enquist,\n",
    "  <a href=\"http://www.sciencemag.org/content/276/5309/122.abstract\">A General Model for the Origin of Allometric Scaling Laws in Biology</a>,\n",
    "  *Science*, Val.276, No.5309, pp.122-126, 1997.\n",
    "\n",
    "- C. R. White, P. Cassey, T. M. Blackburn,\n",
    "Allometric exponents do not support a universal metabolic allometry,\n",
    "*Ecology*, **88**(2), 315-323 (2007).\n",
    "\n",
    "- T. Kolokotrones, V. Savage, E. J. Deeds, W. Fontana,\n",
    "Curvature in metabolic scaling,\n",
    "*Nature L*, 464, 753-756 (2010)\n",
    "\n",
    "- J. Kozlowski, J. Weiner,\n",
    "Interspecific allometries are by-products of body size optimization,\n",
    "*The American Naturalist*, **149**(2) (1997).\n",
    "\n",
    "- G. B. West, J. H. Brown,\n",
    "Life's universal scaling laws,\n",
    "*Physics Today*, **57**, 36-49 (2004).\n",
    "\n",
    "- H. A. Feldman, T. A. Mcmahon,\n",
    "The ¾ mass exponent for energy metabolism is not a statistical artifact,\n",
    "*Respiration Physiology*, **52**, 149-163, (1983).\n"
   ]
  },
  {
   "cell_type": "markdown",
   "metadata": {
    "internals": {
     "frag_helper": "fragment_end",
     "frag_number": 21,
     "slide_helper": "subslide_end",
     "slide_type": "subslide"
    },
    "slide_helper": "slide_end",
    "slideshow": {
     "slide_type": "slide"
    }
   },
   "source": [
    "- G. B. West, J. H. Brown,\n",
    "The origin of allometric scaling laws in biology from genomes to ecosystems towards a quantitative unifying theory of biological structure and organization,\n",
    "*The Journal of Experimental Biology*, **208**, 1575-1592 (2005).\n",
    "\n",
    "- V. M. Savage, J. F. Gilloly, W. H. Woodruff, G. B. West, A. P. Allen, B. J. Enquist, J. H. Erown,\n",
    "The predominance of quoter-power scaling in biology,\n",
    "*Functional Ecology*, **18**, 257-282 (2004).\n",
    "\n",
    "- 本川 達雄,\n",
    "  「ホヤ―群体形成と自己組織化」,\n",
    "  『自己組織化ハンドブック』, 330 - 331, 2009.\n",
    "\n",
    "- 石川 正純・足立 にれか・岡本 浩一,\n",
    "会議分析のための数値シミュレーション技法-組織内集団に見られる意思決定モデルの開発-,\n",
    "社会技術研究論文集, 2004.\n",
    "\n",
    "- 城 綾実・細馬 宏通,\n",
    "多人数会話における自発的ジェスチャーの同期,\n",
    "*Congnitive Studies*, **16**(1), 103-119, 2009."
   ]
  },
  {
   "cell_type": "markdown",
   "metadata": {
    "internals": {
     "frag_helper": "fragment_end",
     "frag_number": 21,
     "slide_helper": "subslide_end",
     "slide_type": "subslide"
    },
    "slide_helper": "slide_end",
    "slideshow": {
     "slide_type": "slide"
    }
   },
   "source": [
    "- 藤本 学・大坊 郁夫,\n",
    "小集団の会話の展開に及ぼす会話者の発話行動傾向の影響,\n",
    "*The Japanese Journal of Experimental Social Psychology*, **47**(1), 51-60, 2007.\n",
    "\n",
    "- 高良 美樹,\n",
    "集団討議の参加者の人数が集団決定および個人決定に及ぼす影響について,\n",
    "*人間科学*, **1**, 67-84, 1998.\n",
    "\n",
    "- 山本浩・森隆一・藤曲哲郎,\n",
    "シミュレーションによる確率論,\n",
    "日本評論社, 137-143, 1993."
   ]
  }
 ],
 "metadata": {
  "kernelspec": {
   "display_name": "Python 2",
   "language": "python",
   "name": "python2"
  },
  "language_info": {
   "codemirror_mode": {
    "name": "ipython",
    "version": 2
   },
   "file_extension": ".py",
   "mimetype": "text/x-python",
   "name": "python",
   "nbconvert_exporter": "python",
   "pygments_lexer": "ipython2",
   "version": "2.7.6"
  }
 },
 "nbformat": 4,
 "nbformat_minor": 0
}
