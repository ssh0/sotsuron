{
 "metadata": {
  "celltoolbar": "Slideshow",
  "name": "",
  "signature": "sha256:48633dd801163650975bdae87dcad1515f309731c5641c27f2e2e3fbf95f363f"
 },
 "nbformat": 3,
 "nbformat_minor": 0,
 "worksheets": [
  {
   "cells": [
    {
     "cell_type": "heading",
     "level": 1,
     "metadata": {
      "internals": {
       "slide_type": "subslide"
      },
      "slideshow": {
       "slide_type": "slide"
      }
     },
     "source": [
      "<p>\u52b9\u7387\u3068\u30b7\u30b9\u30c6\u30e0\u30b5\u30a4\u30ba\u306e\u95a2\u4fc2\u306b\u5bfe\u3059\u308b</p>\n",
      "    <p>\u78ba\u7387\u30e2\u30c7\u30eb\u306b\u3088\u308b\u8003\u5bdf</p>"
     ]
    },
    {
     "cell_type": "heading",
     "level": 4,
     "metadata": {
      "internals": {
       "slide_helper": "subslide_end"
      },
      "slide_helper": "slide_end",
      "slideshow": {
       "slide_type": "-"
      }
     },
     "source": [
      "<div align=\"center\">\u5148\u9032\u7406\u5de5\u5b66\u90e8\u7269\u7406\u5b66\u79d1 \u5c71\u5d0e\u7814\u7a76\u5ba4B4</div>\n",
      "    \n",
      "<p class=\\\"gap2\\\"<p>\n",
      "<div align=\"center\">\u85e4\u672c\u5c07\u592a\u90ce</div>\n",
      "    "
     ]
    },
    {
     "cell_type": "heading",
     "level": 2,
     "metadata": {
      "internals": {
       "slide_type": "subslide"
      },
      "slideshow": {
       "slide_type": "slide"
      }
     },
     "source": [
      "Outline"
     ]
    },
    {
     "cell_type": "markdown",
     "metadata": {
      "internals": {
       "slide_helper": "subslide_end"
      },
      "slide_helper": "slide_end",
      "slideshow": {
       "slide_type": "-"
      }
     },
     "source": [
      "- \u80cc\u666f\n",
      "- \u4f5c\u6210\u3057\u305f\u30e2\u30c7\u30eb\u306e\u8aac\u660e\n",
      "- \u89e3\u6790\u7d50\u679c\n",
      "- \u307e\u3068\u3081\n",
      "- \u5c55\u671b\u3068\u8ab2\u984c\n",
      "- \u53c2\u8003\u6587\u732e"
     ]
    },
    {
     "cell_type": "heading",
     "level": 2,
     "metadata": {
      "internals": {
       "slide_helper": "subslide_end",
       "slide_type": "subslide"
      },
      "slide_helper": "slide_end",
      "slideshow": {
       "slide_type": "slide"
      }
     },
     "source": [
      "\u80cc\u666f"
     ]
    },
    {
     "cell_type": "markdown",
     "metadata": {
      "internals": {
       "slide_helper": "subslide_end",
       "slide_type": "subslide"
      },
      "slide_helper": "slide_end",
      "slideshow": {
       "slide_type": "slide"
      }
     },
     "source": [
      "**\u30a2\u30ed\u30e1\u30c8\u30ea\u30fc\u5247 ($E\\sim M^{3/4}$)**\n",
      "\n",
      "- \u52d5\u7269\u306e\u4f53\u306e\u30b5\u30a4\u30ba(\u8cea\u91cf)\u3068\u3001\u57fa\u790e\u4ee3\u8b1d\u7387\u306e\u9593\u306e\u95a2\u4fc2\n",
      "- \u4ee3\u8b1d\u7387\u306f\u4f53\u91cd\u306b\u5bfe\u3057\u3066\u6bd4\u4f8b\u3067\u306f\u306a\u304f\u3001$3/4$\u4e57\u307b\u3069\u3067\u30b9\u30b1\u30fc\u30eb\u3055\u308c\u308b\n",
      "\n",
      "**\u30db\u30e4\u306e\u5b9f\u9a13\u306b\u3088\u308b\u30b7\u30b9\u30c6\u30e0\u30b5\u30a4\u30ba\u3068\u4ee3\u8b1d\u7387\u306e\u95a2\u4fc2**\n",
      "\n",
      "- \u7fa4\u4f53\u3092\u5f62\u6210\u3059\u308b\u52d5\u7269\u3067\u3001\u5b9f\u9a13\u8005\u304c\u4efb\u610f\u306b\u7fa4\u4f53\u306e\u69cb\u6210\u500b\u6570\u3092\u30b3\u30f3\u30c8\u30ed\u30fc\u30eb\u3067\u304d\u308b\n",
      "- \u5b9f\u9a13\u304b\u3089\u3001\u7fa4\u4f53\u306e\u30b5\u30a4\u30ba\u3068\u4ee3\u8b1d\u7387\u306e\u9593\u306b\u3082\u3001\u30a2\u30ed\u30e1\u30c8\u30ea\u30fc\u5247\u306e\u3088\u3046\u306a\u95a2\u4fc2\u304c\u89b3\u5bdf\u3055\u308c\u305f\n",
      "\n",
      "$\\Rightarrow$ \u7a2e\u306e\u9055\u3044\u3084\u6210\u9577\u306b\u3088\u308b\u7d30\u80de\u6a5f\u80fd\u81ea\u4f53\u306e\u5909\u5316\u3067\u306f\u306a\u304f\u3001\u305d\u306e\u6642\u70b9\u3067\u306e\u30b7\u30b9\u30c6\u30e0\u30b5\u30a4\u30ba\u3092\u611f\u77e5\u3057\u3066\u305d\u308c\u306b\u3088\u3063\u3066\u4ee3\u8b1d\u7387\u304c\u5de6\u53f3\u3055\u308c\u308b?"
     ]
    },
    {
     "cell_type": "markdown",
     "metadata": {
      "internals": {
       "slide_type": "subslide"
      },
      "slideshow": {
       "slide_type": "slide"
      }
     },
     "source": [
      "**\u4e00\u822c\u5316**\n",
      "\n",
      "\u7cfb\u306e\u30b7\u30b9\u30c6\u30e0\u30b5\u30a4\u30ba\u304c\u5927\u304d\u304f\u306a\u308b\u3068\u3001\u305d\u306e\u7279\u5fb4\u91cf\u304c\u5358\u7d14\u306b\u305d\u308c\u305e\u308c\u306e\u7279\u5fb4\u91cf\u306e\u7dcf\u548c\u306b\u306f\u306a\u3089\u305a\u3001\u305d\u308c\u3088\u308a\u3082\u5c0f\u3055\u3044\u5024\u3092\u53d6\u308b\u3088\u3046\u306a\u73fe\u8c61\u3002\n",
      "\n",
      ">\u30a4\u30e1\u30fc\u30b8\u306e\u305f\u3081\u306e\u5177\u4f53\u4f8b\u3068\u3057\u3066\u4f1a\u8b70\u3092\u53d6\u308a\u4e0a\u3052\u308b\u3053\u3068\u306b\u3059\u308b"
     ]
    },
    {
     "cell_type": "markdown",
     "metadata": {
      "internals": {
       "slide_helper": "subslide_end"
      },
      "slide_helper": "slide_end",
      "slideshow": {
       "slide_type": "-"
      }
     },
     "source": [
      "**\u30a2\u30d7\u30ed\u30fc\u30c1**\n",
      "\n",
      "\u30e2\u30c7\u30eb\u306e\u4f5c\u6210\u3001\u89e3\u6790\u7684\u8a08\u7b97\u3001\u6570\u5024\u30b7\u30df\u30e5\u30ec\u30fc\u30b7\u30e7\u30f3\u3092\u884c\u3044\u3001\u4f1a\u8b70\u306e\u8cea\u3068\u306a\u308a\u3046\u308b\u7279\u5fb4\u91cf\u3092\u8003\u3048\u308b\u3002\u305d\u308c\u304c\u30b7\u30b9\u30c6\u30e0\u30b5\u30a4\u30ba(\u53c2\u52a0\u8005\u306e\u4eba\u6570)\u306b\u5bfe\u3057\u3066\u3069\u306e\u3088\u3046\u306b\u5909\u5316\u3059\u308b\u304b\u3092\u898b\u308b\u3002"
     ]
    },
    {
     "cell_type": "heading",
     "level": 2,
     "metadata": {
      "internals": {
       "slide_helper": "subslide_end",
       "slide_type": "subslide"
      },
      "slide_helper": "slide_end",
      "slideshow": {
       "slide_type": "slide"
      }
     },
     "source": [
      "\u4f5c\u6210\u3057\u305f\u30e2\u30c7\u30eb\u306e\u8aac\u660e"
     ]
    },
    {
     "cell_type": "markdown",
     "metadata": {
      "internals": {
       "slide_helper": "subslide_end",
       "slide_type": "subslide"
      },
      "slide_helper": "slide_end",
      "slideshow": {
       "slide_type": "slide"
      }
     },
     "source": [
      "<dl>\n",
      "  <dt>\u610f\u898b</dt>\n",
      "  <dd>$a$\u500b\u306e\u5b9f\u6570\u5024\u306e\u30d1\u30e9\u30e1\u30fc\u30bf\u3067\u8868\u73fe\u3002$R^{a}$\u4e0a\u306e\u9818\u57df$\\Omega$\u306b\u304a\u3051\u308b\u70b9</dd>\n",
      "</dl>\n",
      "\n",
      "<dl>\n",
      "  <dt>\u53c2\u52a0\u8005(\u5358\u6570\u5f62)</dt>\n",
      "  <dd>\u610f\u898b\u306e\u96c6\u5408\u3002$\\Omega$\u4e0a\u306e\u90e8\u5206\u96c6\u5408</dd>\n",
      "</dl>\n",
      "\n",
      "<dl>\n",
      "  <dt>\u53c2\u52a0\u8005(\u8907\u6570\u5f62)</dt>\n",
      "  <dd>\u53c2\u52a0\u8005\u306e\u96c6\u307e\u308a\u3002$\\Omega$\u4e0a\u306e\u90e8\u5206\u96c6\u5408\u306e\u96c6\u307e\u308a(\u96c6\u5408\u65cf)</dd>\n",
      "</dl>\n"
     ]
    },
    {
     "cell_type": "markdown",
     "metadata": {
      "internals": {
       "slide_helper": "subslide_end",
       "slide_type": "subslide"
      },
      "slide_helper": "slide_end",
      "slideshow": {
       "slide_type": "slide"
      }
     },
     "source": [
      "<dl>\n",
      "  <dt>\u4f1a\u8b70</dt>\n",
      "  <dd>\u610f\u898b\u306e\u9023\u9396\u3002\u610f\u898b\u3092\u30ce\u30fc\u30c9\u3068\u3057\u305f\u30cd\u30c3\u30c8\u30ef\u30fc\u30af\u3002\u53c2\u52a0\u8005\u3092\u30ce\u30fc\u30c9\u3068\u3057\u305f(\u6709\u5411)\u30cd\u30c3\u30c8\u30ef\u30fc\u30af</dd>\n",
      "</dl>\n",
      "\n",
      "\n",
      "**\u4eee\u5b9a**\n",
      "- \u3042\u308b\u6642\u523b\u306b\u304a\u3051\u308b\u767a\u8a00\u306f\u4e00\u3064\u306e\u307f\n",
      "- \u4e00\u4eba\u3042\u305f\u308a\u306e\u767a\u8a00\u6642\u9593\u306f\u53c2\u52a0\u8005\u6570\u306b\u4f9d\u3089\u306a\u3044\n"
     ]
    },
    {
     "cell_type": "heading",
     "level": 3,
     "metadata": {
      "internals": {
       "slide_type": "subslide"
      },
      "slideshow": {
       "slide_type": "slide"
      }
     },
     "source": [
      "\u4f1a\u8b70\u9032\u884c\u306b\u95a2\u3059\u308b\u3044\u304f\u3064\u304b\u306e\u8a2d\u5b9a"
     ]
    },
    {
     "cell_type": "markdown",
     "metadata": {
      "internals": {
       "slide_helper": "subslide_end"
      },
      "slide_helper": "slide_end",
      "slideshow": {
       "slide_type": "-"
      }
     },
     "source": [
      "1. \u53c2\u52a0\u8005\u304b\u3089\u4e00\u4eba\u9078\u3070\u308c\u3001\u305d\u306e\u4e2d\u304b\u3089\u610f\u898b($x\\in [0, 1]$)\u304c\u4e00\u69d8\u306b\u9078\u3070\u308c\u308b\n",
      "    1. \u53c2\u52a0\u8005\u3092\u9078\u3076\u78ba\u7387: \u7b49\u3057\u3044\n",
      "    2. \u53c2\u52a0\u8005\u3092\u9078\u3076\u78ba\u7387: \u53c2\u52a0\u8005\u9593\u306e\u8ddd\u96e2\u306b\u4f9d\u5b58\n",
      "\n",
      "2. \u904e\u53bb\u306e\u610f\u898b\u3092\u53c2\u7167\u3057\u3066\u6b21\u306e\u610f\u898b\u304c\u9078\u3070\u308c\u308b\n",
      "    1. \u5f71\u97ff\u306a\u3057\n",
      "    2. 1\u3064\u306e\u610f\u898b\u3092\u53c2\u7167\n",
      "        1. \u8b70\u984c(given)\n",
      "        2. \u4e00\u3064\u524d\n",
      "    3. 2\u3064\u306e\u610f\u898b\u3092\u53c2\u7167\n",
      "        1. \u8b70\u984c+\u4e00\u3064\u524d\n",
      "        2. \u4e8c\u3064\u524d\u307e\u3067\n",
      "\n",
      "3. \u8fd1\u3059\u304e\u308b\u610f\u898b\u306f\u9078\u3070\u308c\u306a\u3044\u3068\u3057\u305f\u3068\u304d(2-B-b\u306e\u5909\u5f62)"
     ]
    },
    {
     "cell_type": "heading",
     "level": 2,
     "metadata": {
      "internals": {
       "slide_type": "subslide"
      },
      "slideshow": {
       "slide_type": "slide"
      }
     },
     "source": [
      "\u89e3\u6790\u7d50\u679c"
     ]
    },
    {
     "cell_type": "markdown",
     "metadata": {
      "internals": {
       "frag_number": 14,
       "slide_helper": "subslide_end"
      },
      "slide_helper": "slide_end",
      "slideshow": {
       "slide_type": "fragment"
      }
     },
     "source": [
      "\u305d\u308c\u305e\u308c\u306e\u5834\u5408\u306b\u3064\u3044\u3066\u3001\u305d\u306e\u30b7\u30df\u30e5\u30ec\u30fc\u30b7\u30e7\u30f3\u30fb\u89e3\u6790\u306e\u6982\u8981\u3092\u793a\u3057\u3066\u3044\u304f\u3053\u3068\u3068\u3059\u308b\u3002"
     ]
    },
    {
     "cell_type": "heading",
     "level": 3,
     "metadata": {
      "internals": {
       "frag_helper": "fragment_end",
       "frag_number": 14,
       "slide_helper": "subslide_end",
       "slide_type": "subslide"
      },
      "slide_helper": "slide_end",
      "slideshow": {
       "slide_type": "slide"
      }
     },
     "source": [
      "1-A. \u610f\u898b\u304c$[0,1]$\u306e\u4e00\u69d8\u4e71\u6570\u3001\u53c2\u52a0\u8005\u3092\u9078\u3076\u78ba\u7387\u304c\u7b49\u3057\u3044\u3068\u304d"
     ]
    },
    {
     "cell_type": "markdown",
     "metadata": {
      "slideshow": {
       "slide_type": "slide"
      }
     },
     "source": [
      "**\u6761\u4ef6**:\n",
      "\n",
      "-\u95be\u5024$r$\u3067\u5b9a\u3081\u3089\u308c\u308b\u9818\u57df\u5185\u306b\u5165\u3063\u305f\u70b9\u3059\u3079\u3066\u306b\u30ea\u30f3\u30af\u3092\u5f35\u308b\u3053\u3068\u3068\u3059\u308b\u3002\n",
      "<div align=\"center\"><img src=simple1/simple001_1.jpg width=400 /> </div>\n",
      "\n",
      "**\u7d50\u679c**:\n",
      "\n",
      "- \u6642\u523b$k$\u306b\u767a\u8a00\u304c\u306a\u3055\u308c\u305f\u3068\u304d\u3001\u9818\u57df\u306b\u5165\u308b\u70b9\u306e\u500b\u6570\u306f\u5e7e\u4f55\u5206\u5e03$B(k, p(r)=-r^{2}+2r)$\u306b\u5f93\u3046\n",
      "\n",
      "- \u5e7e\u4f55\u5206\u5e03\u306e\u671f\u5f85\u5024\u304c$E(X) = kp$\u3067\u8868\u305b\u308b\u3053\u3068\u304b\u3089\u3001$k$\u756a\u76ee\u306e\u767a\u8a00\u306b\u3088\u3063\u3066\u5f35\u3089\u308c\u308b\u30ea\u30f3\u30af\u306e\u6570\u306e\u671f\u5f85\u5024\u306f$(-r^{2}+2r)k$\n",
      "\n",
      "- \u53c2\u52a0\u8005\u306b\u95a2\u3059\u308b\u60c5\u5831\u306f\u542b\u3093\u3067\u3044\u306a\u3044"
     ]
    },
    {
     "cell_type": "markdown",
     "metadata": {
      "internals": {
       "frag_helper": "fragment_end",
       "frag_number": 14,
       "slide_helper": "subslide_end",
       "slide_type": "subslide"
      },
      "slide_helper": "slide_end",
      "slideshow": {
       "slide_type": "subslide"
      }
     },
     "source": [
      "\u4e00\u69d8\u306a\u78ba\u7387\u3067$[0,1]$\u304b\u3089\u70b9\u304c\u9078\u3070\u308c\u308b\u3068\u304d\u3001\u305d\u306e\u70b9\u304c$[\\max(0,x-r), \\min(x+r,1)]$\u306e\u7bc4\u56f2\u306b\u5165\u3063\u3066\u3044\u308b\u78ba\u7387\u306f\u3001\u78ba\u7387\u5bc6\u5ea6\u95a2\u6570\u3092\u7528\u3044\u3066\u3001\n",
      "\n",
      "\\begin{align}\n",
      "p(\\max(0, x-r), \\min(x+r, 1)) &= \\int ^{\\min(x+r,1)}_{\\max(0, x-r)} 1 dx \\\\\n",
      "&= \\left[ x\\right]^{\\min(x+r,1)}_{\\max(0, x-r)}\\\\\n",
      "\\end{align}\n",
      "\n",
      "\u304b\u3089\n",
      "\n",
      "$$p(x,r)= \\left\\{ \\begin{array}{ll}x+r & 0\\le x< \\min(r,1-r) \\\\\n",
      "p(r) = \\min(2r, 1) & \\min(r, 1-r)\\le x \\le \\max(1-r, r) \\\\\n",
      "1 - x+r & \\max(1-r, r) < x \\le 1\n",
      "\\end{array}\\right.$$"
     ]
    },
    {
     "cell_type": "markdown",
     "metadata": {
      "internals": {
       "frag_helper": "fragment_end",
       "frag_number": 14,
       "slide_helper": "subslide_end",
       "slide_type": "subslide"
      },
      "slide_helper": "slide_end",
      "slideshow": {
       "slide_type": "subslide"
      }
     },
     "source": [
      "$0<r\\le0.5$\u306e\u3068\u304d\n",
      "\n",
      "$$\\begin{align}p(r) = E(p(x, r)) &= \\int^{r}_{0}x+r\\mathrm{d}x + \\int^{1-r}_{r}2r \\mathrm{d}x + \\int^{1}_{1-r} 1-x+r \\mathrm{d}x\\\\\n",
      "&= \\left[\\frac{x^{2}}{2} + rx \\right]^{r}_{0} + \\left[ 2rx\\right]^{1-r}_{r}+ \\left[ x-\\frac{x^{2}}{2} + rx\\right]^{1}_{1-r}\\\\\n",
      "&= -r^{2} + 2r \\end{align}$$\n",
      "\n",
      "$0.5<r\\le1$\u306e\u3068\u304d\u3082\u540c\u69d8\u306b\u3057\u3066\n",
      "\n",
      "$$p (r) = E(p(r)) = -r^{2} + 2r$$\n",
      "\n",
      "\u3067\u3042\u308b\u3002"
     ]
    },
    {
     "cell_type": "markdown",
     "metadata": {
      "internals": {
       "frag_helper": "fragment_end",
       "frag_number": 14,
       "slide_helper": "subslide_end",
       "slide_type": "subslide"
      },
      "slide_helper": "slide_end",
      "slideshow": {
       "slide_type": "subslide"
      }
     },
     "source": [
      "$k+1$\u756a\u76ee\u306e\u767a\u8a00$x_{k}$\u304c\u306a\u3055\u308c\u305f\u6642\u3001$k$\u756a\u76ee\u307e\u3067\u306e\u767a\u8a00\u306e\u3046\u3061$y$\u500b\u306e\u767a\u8a00\u304c\u9818\u57df$[\\max(0,x-r), \\min(x+r,1)]$\u306e\u4e2d\u306b\u5b58\u5728\u3059\u308b\u78ba\u7387\u3001\u3059\u306a\u308f\u3061\u6642\u523b$k+1$\u3067\u30ea\u30f3\u30af\u304c$y$\u500b\u5f35\u3089\u308c\u308b\u78ba\u7387\u306f\u3001\n",
      "\n",
      "$$_{k}C_{y}[p(r)]^{y}[p(r)]^{k-y}$$\n",
      "\n",
      "\u3067\u8868\u305b\u308b\u3002\u3053\u308c\u306f\n",
      "\n",
      "$$P[X=y] =\\ _{k}C_{y}[p(r)]^{y}[1-p(r)]^{k-y}$$\n",
      "\n",
      "\u306e\u3088\u3046\u306b\u66f8\u3051\u3070\u660e\u3089\u304b\u306a\u3088\u3046\u306b\u3001\u78ba\u7387\u5909\u6570$X$\u306b\u5bfe\u3059\u308b\u30d1\u30e9\u30e1\u30fc\u30bf$k,p$\u306e\u4e8c\u9805\u5206\u5e03$B(k,p)$\u3092\u8868\u3057\u3066\u3044\u308b\u304b\u3089\u3001\u305d\u306e\u671f\u5f85\u5024\u3068\u5206\u6563\u306f\u3001\n",
      "\n",
      "$$E(X) = kp(r)$$\n",
      "\n",
      "$$V(X) = kp(r)(1-p(r))$$\n",
      "\n",
      "\u3067\u3042\u308b\u3002\n",
      "\n",
      "\u307e\u305f\u3001\u3053\u308c\u307e\u3067\u306e\u8b70\u8ad6\u306e\u4e2d\u306b\u4eba\u6570\u306e\u60c5\u5831\u304c\u51fa\u3066\u3053\u306a\u304b\u3063\u305f\u3053\u3068\u304b\u3089\u5206\u304b\u308b\u3088\u3046\u306b\u3001\u610f\u898b\u306e\u30cd\u30c3\u30c8\u30ef\u30fc\u30af\u304c\u3069\u306e\u3088\u3046\u306b\u5f62\u6210\u3055\u308c\u308b\u304b\u3060\u3051\u3067\u306f\u30b5\u30a4\u30ba\u306e\u52b9\u679c\u3092\u3046\u307e\u304f\u8aac\u660e\u3059\u308b\u3053\u3068\u304c\u3067\u304d\u306a\u3044\u3068\u5206\u304b\u308b\u3002\n",
      "\n"
     ]
    },
    {
     "cell_type": "heading",
     "level": 3,
     "metadata": {
      "internals": {
       "frag_helper": "fragment_end",
       "frag_number": 14,
       "slide_helper": "subslide_end",
       "slide_type": "subslide"
      },
      "slide_helper": "slide_end",
      "slideshow": {
       "slide_type": "slide"
      }
     },
     "source": [
      "1-B. \u610f\u898b\u304c$[0,1]$\u306e\u4e00\u69d8\u4e71\u6570\u3001\u53c2\u52a0\u8005\u3092\u9078\u3076\u78ba\u7387\u304c\u53c2\u52a0\u8005\u9593\u306e\u8ddd\u96e2\u306b\u4f9d\u5b58\u3059\u308b\u3068\u304d"
     ]
    },
    {
     "cell_type": "markdown",
     "metadata": {
      "internals": {
       "frag_helper": "fragment_end",
       "frag_number": 14,
       "slide_helper": "subslide_end",
       "slide_type": "subslide"
      },
      "slide_helper": "slide_end",
      "slideshow": {
       "slide_type": "slide"
      }
     },
     "source": [
      "\u610f\u898b\u306b\u95a2\u3057\u3066\u306f1-A\u3068\u540c\u3058\u3067\u3042\u308b\u3002\u3057\u305f\u304c\u3063\u3066\u610f\u898b\u306e\u30cd\u30c3\u30c8\u30ef\u30fc\u30af\u306b\u95a2\u3057\u3066\u306f\u5168\u304f\u540c\u4e00\u306e\u6027\u8cea\u3092\u793a\u3059\u3002\n",
      "\n",
      "\u5b9f\u969b\u306b\u53c2\u52a0\u8005\u3092\u914d\u7f6e\u3057\u3066\u30b7\u30df\u30e5\u30ec\u30fc\u30b7\u30e7\u30f3\u3092\u884c\u3063\u305f\u7d50\u679c\u3092\u793a\u3059\u3002($r=0.5$)"
     ]
    },
    {
     "cell_type": "markdown",
     "metadata": {
      "internals": {
       "frag_helper": "fragment_end",
       "frag_number": 14,
       "slide_helper": "subslide_end",
       "slide_type": "subslide"
      },
      "slide_helper": "slide_end",
      "slideshow": {
       "slide_type": "slide"
      }
     },
     "source": [
      "<table border=\"0\">\n",
      "<tr>\n",
      "<td width=\"400\"><img src=download2_1.png width=400 /></td>\n",
      "<td width=\"400\"><img src=download2_2.png width=400 /></td>\n",
      "</tr>\n",
      "<tr>\n",
      "<td width=\"400\"><img src=download2_3.png width=400 /></td>\n",
      "<td width=\"400\"><img src=download2_4.png width=400 /></td>\n",
      "</tr>\n",
      "</table>"
     ]
    },
    {
     "cell_type": "markdown",
     "metadata": {
      "internals": {
       "frag_helper": "fragment_end",
       "frag_number": 14,
       "slide_type": "subslide"
      },
      "slideshow": {
       "slide_type": "slide"
      }
     },
     "source": [
      "\u7dd1\u306e\u66f2\u7dda\u306f1-A\u3067\u8a08\u7b97\u306b\u3088\u3063\u3066\u5f97\u305f\u6642\u523b$k$\u3068\u30ea\u30f3\u30af\u306e\u6570\u306e\u9593\u306e\u95a2\u4fc2\u5f0f\u306b\u3088\u308b\u3082\u306e\u3002\u3088\u304f\u4e00\u81f4\u3057\u3066\u3044\u308b\u3002"
     ]
    },
    {
     "cell_type": "markdown",
     "metadata": {
      "internals": {
       "frag_helper": "fragment_end",
       "frag_number": 14,
       "slide_helper": "subslide_end"
      },
      "slide_helper": "slide_end",
      "slideshow": {
       "slide_type": "-"
      }
     },
     "source": [
      "\u307e\u305f\u3001\u53c2\u52a0\u8005\u9593\u306e\u30cd\u30c3\u30c8\u30ef\u30fc\u30af\u306f\u3001\u4e00\u3064\u524d\u306e\u53c2\u52a0\u8005\u306e\u307f\u306b\u4f9d\u5b58\u3059\u308b\u3068\u3057\u3066\u3044\u308b\u306e\u3067\u3001\u30de\u30eb\u30b3\u30d5\u9023\u9396\u3068\u3057\u3066\u6271\u3048\u308b\u3002"
     ]
    },
    {
     "cell_type": "heading",
     "level": 3,
     "metadata": {
      "internals": {
       "frag_helper": "fragment_end",
       "frag_number": 14,
       "slide_helper": "subslide_end",
       "slide_type": "subslide"
      },
      "slide_helper": "slide_end",
      "slideshow": {
       "slide_type": "slide"
      }
     },
     "source": [
      "2. \u904e\u53bb\u306e\u610f\u898b\u3092\u53c2\u7167\u3057\u3066\u6b21\u306e\u610f\u898b\u304c\u9078\u3070\u308c\u308b"
     ]
    },
    {
     "cell_type": "markdown",
     "metadata": {
      "internals": {
       "frag_helper": "fragment_end",
       "frag_number": 14,
       "slide_helper": "subslide_end",
       "slide_type": "subslide"
      },
      "slide_helper": "slide_end",
      "slideshow": {
       "slide_type": "slide"
      }
     },
     "source": [
      "\u767a\u8a00\u8005\u306e\u610f\u898b\u306f\u5148\u306b\u610f\u898b\u7a7a\u9593\u4e0a\u306b\u6709\u9650\u500b\u305a\u3064\u5206\u5e03\u3057\u3066\u304a\u308a\u3001\u305d\u308c\u305e\u308c\u306e\u53c2\u52a0\u8005\u306e\u610f\u898b\u306e\u3046\u3061\u3001\u53c2\u7167\u3059\u308b\u610f\u898b\u304b\u3089\u306e\u8ddd\u96e2\u304c\u6700\u3082\u8fd1\u3044\u3082\u306e\u3092\u9078\u3073\u51fa\u3057\u3001\u305d\u306e\u610f\u898b\u306e\u8fd1\u3055\u306e\u9806\u306b\u767a\u8a00\u8005\u306f\u767a\u8a00\u306e\u6a5f\u4f1a\u3092\u5f97\u308b\u3002\u3053\u306e\u3068\u304d\u5404\u767a\u8a00\u8005\u306b\u306f\u767a\u8a00\u78ba\u7387$p$\u304c\u305d\u308c\u305e\u308c\u306b\u5272\u308a\u5f53\u3066\u3089\u308c\u3066\u304a\u308a\u3001\u81ea\u5206\u306e\u756a\u304c\u56de\u3063\u3066\u304d\u305f\u3068\u304d\u306b\u305d\u306e\u78ba\u7387\u3067\u767a\u8a00\u3092\u884c\u3046\u3068\u3059\u308b\u3002"
     ]
    },
    {
     "cell_type": "heading",
     "level": 3,
     "metadata": {
      "internals": {
       "frag_helper": "fragment_end",
       "frag_number": 14,
       "slide_helper": "subslide_end",
       "slide_type": "subslide"
      },
      "slide_helper": "slide_end",
      "slideshow": {
       "slide_type": "slide"
      }
     },
     "source": [
      "2-A. \u72ec\u7acb\u306b\u610f\u898b\u304c\u9078\u3070\u308c\u308b\u5834\u5408"
     ]
    },
    {
     "cell_type": "markdown",
     "metadata": {
      "internals": {
       "frag_helper": "fragment_end",
       "frag_number": 14,
       "slide_type": "subslide"
      },
      "slideshow": {
       "slide_type": "slide"
      }
     },
     "source": [
      "1\u306e\u5834\u5408\u306b\u306f\u610f\u898b\u306e\u8fd1\u3055\u3092\u6e2c\u308b\u3082\u306e\u306f\u306a\u304f\u306a\u3063\u3066\u3057\u307e\u3046\u306e\u3067\u3001\u610f\u898b\u81ea\u4f53\u306e\u9078\u3073\u65b9\u306f\u30e9\u30f3\u30c0\u30e0\u306b\u306a\u3063\u3066\u3044\u308b\u3002\n",
      "\n",
      "\u767a\u8a00\u306e\u9806\u756a\u306f\u5358\u306a\u308b\u7d44\u307f\u5408\u308f\u305b\u3068\u306a\u308a\u3001\u5168\u90e8\u3067$n$\u4eba\u3044\u308b\u306a\u304b\u3067\u4eba$i$\u304c$r+1$($r = 1, 2, \\cdots , n-1$)\u756a\u76ee\u306b\u767a\u8a00\u3059\u308b\u6a29\u5229\u3092\u5f97\u305f\u3068\u304d\u3001\u81ea\u5206\u307e\u3067\u767a\u8a00\u6a29\u304c\u56de\u3063\u3066\u304f\u308b\u78ba\u7387\u306f\u3001\u4ee5\u4e0b\u306e\u3088\u3046\u306a\u671f\u5f85\u5024\u3067\u3042\u3089\u308f\u3059\u3053\u3068\u304c\u51fa\u6765\u308b\u3002\n",
      "\n",
      "$$p_{r+1}(i) = \\frac{\\sum_{J = <j_{0}, \\cdots ,j_{r-1}>_{r}}\\prod_{j\\in J}(1-P_{j})}{_{n-1}C_{r}}$$\n",
      "\n",
      "\u3053\u3053\u3067$J = <j_{0}, j_{1}, \\cdots ,j_{r-1}>_{r}$\u306f\u3001$i$\u3092\u9664\u304f$n-1$\u500b\u306e\u8981\u7d20\u304b\u3089$r$\u500b\u53d6\u308a\u51fa\u3059\u7d44\u307f\u5408\u308f\u305b\u306e\u3046\u3061\u306e1\u63c3\u3044\u3092\u3042\u3089\u308f\u3059\u3053\u3068\u306b\u3059\u308b($j_{0}$\u306a\u3069\u306f\u305d\u306e\u5b9f\u969b\u306e\u5024\u3092\u3042\u3089\u308f\u3059)\u3002\u3053\u306e\u3068\u304d\u3069\u306e\u7d44\u307f\u5408\u308f\u305b\u304c\u8d77\u3053\u308b\u78ba\u7387\u3082\u7b49\u3057\u3044\u306e\u3067\u3001\u305d\u306e$J$\u3059\u3079\u3066\u306b\u5bfe\u3057\u3066\u548c\u3092\u3068\u3063\u3066\u3001\u305d\u306e\u7d44\u307f\u5408\u308f\u305b\u306e\u30d1\u30bf\u30fc\u30f3\u306e\u6570$_{n-1}C_{r}$\u3067\u5272\u308b\u3053\u3068\u3067\u671f\u5f85\u5024\u3092\u6c42\u3081\u308b\u3053\u3068\u304c\u3067\u304d\u3066\u3044\u308b\u3002"
     ]
    },
    {
     "cell_type": "markdown",
     "metadata": {
      "internals": {
       "frag_helper": "fragment_end",
       "frag_number": 14,
       "slide_helper": "subslide_end"
      },
      "slide_helper": "subslide_end",
      "slideshow": {
       "slide_type": "-"
      }
     },
     "source": [
      "\u307e\u305f\u3001\n",
      "\n",
      "$$p_{0}(i) = 1$$\n",
      "\n",
      "\u3067\u3042\u308b\u3002"
     ]
    },
    {
     "cell_type": "markdown",
     "metadata": {
      "internals": {
       "frag_helper": "fragment_end",
       "frag_number": 14,
       "slide_helper": "subslide_end",
       "slide_type": "subslide"
      },
      "slide_helper": "slide_end",
      "slideshow": {
       "slide_type": "subslide"
      }
     },
     "source": [
      "\u5177\u4f53\u4f8b:\n",
      "\n",
      "$N=\\{0,1,2,3,4\\}, n = 5, i = 1, r = 2$\u3068\u3059\u308b\u3068\u3001\u4eba1\u307e\u3067\u306b2\u4eba\u3044\u308b\u306f\u305a\u3067\u3042\u308a\u3001\u305d\u306e\u7d44\u307f\u5408\u308f\u305b\u306f$(0,2), (0,3), (0,4), (2,3), (2,4), (3,4)$\u306e6\u3064\u306e\u7d44\u307f\u5408\u308f\u305b\u304c\u3042\u308b\u3002\u4e0a\u306e\u5f0f\u3067\u306f$J$\u306e\u4e00\u3064\u306f$(0, 2)$\u3067\u3042\u308a\u3001\u3053\u306e\u3068\u304d$j_{0} = 0, j_{1} = 2$\u3067\u3042\u308b\u3002\u3053\u306e$J$\u306b\u95a2\u3057\u3066\u548c\u3092\u3068\u308a\u3001\u7d44\u307f\u5408\u308f\u305b\u306e\u6570$\\ _{4}C_{2} = 6$\u3067\u5272\u3063\u3066\u671f\u5f85\u5024\u3092\u6c42\u3081\u3066\u3044\u308b\u3002\n",
      "\n",
      "\n",
      "\n",
      "$$\\begin{align}\n",
      "p_{r+1}(1) &= \\left[(1-P_{0})(1-P_{2}) + (1-P_{0})(1-P_{3}) + (1-P_{0})(1-P_{4}) \\right.\\\\\n",
      "&\\ \\left. + (1-P_{2})(1-P_{3}) + (1-P_{2})(1-P_{4}) + (1-P_{3})(1-P_{4}) \\right]/6\n",
      "\\end{align}$$"
     ]
    },
    {
     "cell_type": "markdown",
     "metadata": {
      "internals": {
       "frag_helper": "fragment_end",
       "frag_number": 14,
       "slide_helper": "subslide_end",
       "slide_type": "subslide"
      },
      "slide_helper": "slide_end",
      "slideshow": {
       "slide_type": "slide"
      }
     },
     "source": [
      "\u4eba$i$\u304c\u767a\u8a00\u6a29\u306e\u9806\u756a\u3067$r$\u756a\u76ee\u306b\u306a\u308b\u78ba\u7387\u306f\u7b49\u3057\u3044\n",
      "\n",
      "$r$\u306b\u95a2\u3059\u308b\u5e73\u5747\u3092\u3068\u308a\u3001$P_{i}$\u3092\u304b\u3051\u308c\u3070\u3001\u3053\u308c\u306f\u4eba$i$\u304c\u767a\u8a00\u3059\u308b\u78ba\u7387\u306e\u671f\u5f85\u5024\u3068\u306a\u308b\u3002\n",
      "\n",
      "$$p(i) = \\frac{\\sum_{r=0}^{n}p_{r}(i)P_{i}}{n}.$$\n",
      "\n",
      "\u3053\u306e\u3068\u304d\u5f97\u3089\u308c\u305f\u78ba\u7387\u306f\u4eba$i$\u306b\u3088\u3063\u3066\u7570\u306a\u308a\u3001\u6bce\u6642\u523b\u3054\u3068\u306b\u305d\u306e\u78ba\u7387\u3067\u305d\u308c\u305e\u308c\u306e\u4eba\u304c\u767a\u8a00\u3059\u308b\u3053\u3068\u306b\u306a\u308a\u3001\u5358\u7d14\u306a\u78ba\u7387\u904e\u7a0b\u306b\u5e30\u7740\u3067\u304d\u305f\u3002"
     ]
    },
    {
     "cell_type": "heading",
     "level": 3,
     "metadata": {
      "internals": {
       "frag_helper": "fragment_end",
       "frag_number": 14,
       "slide_helper": "subslide_end",
       "slide_type": "subslide"
      },
      "slide_helper": "slide_end",
      "slideshow": {
       "slide_type": "slide"
      }
     },
     "source": [
      "2-B. 1\u3064\u306e\u610f\u898b\u3092\u53c2\u7167\u3059\u308b\u5834\u5408"
     ]
    },
    {
     "cell_type": "markdown",
     "metadata": {
      "internals": {
       "frag_helper": "fragment_end",
       "frag_number": 14,
       "slide_helper": "subslide_end",
       "slide_type": "subslide"
      },
      "slide_helper": "slide_end",
      "slideshow": {
       "slide_type": "slide"
      }
     },
     "source": [
      "<div align=\"center\">$K=30, N=6, S=50, a=2, p=0.6$\u306e\u3068\u304d</div>\n",
      "<table border=\"0\">\n",
      "<tr>\n",
      "<td width=\"400\"><img src=simple3/case_2.jpg width=400 /></td>\n",
      "<td width=\"400\"><img src=simple3/case_3.jpg width=400 /></td>\n",
      "</tr>\n",
      "<tr>\n",
      "<td>2-B-a. \u8b70\u984c\u306e\u307f\u3092\u53c2\u7167</td>\n",
      "<td>2-B-b. \u4e00\u3064\u524d\u306e\u610f\u898b\u3092\u53c2\u7167</td>\n",
      "</tr>\n",
      "</table>\n"
     ]
    },
    {
     "cell_type": "heading",
     "level": 3,
     "metadata": {
      "internals": {
       "frag_helper": "fragment_end",
       "frag_number": 14,
       "slide_type": "subslide"
      },
      "slideshow": {
       "slide_type": "slide"
      }
     },
     "source": [
      "\u5b9a\u6027\u7684\u306a\u7d50\u679c"
     ]
    },
    {
     "cell_type": "markdown",
     "metadata": {
      "internals": {
       "frag_helper": "fragment_end",
       "frag_number": 14,
       "slide_helper": "subslide_end"
      },
      "slide_helper": "slide_end",
      "slideshow": {
       "slide_type": "-"
      }
     },
     "source": [
      "- $S$\u3092\u5927\u304d\u304f\u3059\u308b\u3068\u3001\u610f\u898b\u306e\u5bc6\u5ea6\u3092\u5897\u52a0\u3055\u305b\u308b\u305f\u3081\u3001\u767a\u8a00\u3055\u308c\u305f\u610f\u898b\u306e\u63cf\u304f\u8ecc\u8de1\u306e\u7bc4\u56f2\u306f\u5c0f\u3055\u304f\u306a\u308b\u3002\n",
      "\n",
      "- $p$\u3092\u5927\u304d\u304f\u3059\u308b\u307b\u3069\u3088\u308a\u76f4\u7dda\u7684\u306a\u8ecc\u9053\u3068\u306a\u308b\u3002$p$\u304c\u5c0f\u3055\u3044\u6642\u306b\u306f\u8ecc\u8de1\u306f\u3088\u308a\"\u30ae\u30b6\u30ae\u30b6\"\u3057\u3066\u304a\u308a\u3001\u7dda\u304c\u91cd\u306a\u3063\u305f\u308a\u3001\u6c88\u9ed9\u3067\u4e2d\u65ad\u3055\u308c\u3066\u5cf6\u306b\u306a\u3063\u305f\u308a\u3059\u308b\u90e8\u5206\u304c\u591a\u304f\u73fe\u308c\u308b\u3088\u3046\u306b\u306a\u308b\u3002\n",
      "\n",
      "- $K$\u306e\u5024\u3092\u5927\u304d\u304f\u3059\u308b\u307b\u3069\u3001\u6700\u5f8c\u306b\u9078\u3070\u308c\u305f\u70b9\u306e\u5ea7\u6a19\u306f\u958b\u59cb\u5ea7\u6a19\u3088\u308a\u3082\u9060\u304f\u306a\u308b\u3002\n",
      "\n",
      "- \u9069\u5f53\u306a$S$\u3084$N$\u3092\u8003\u3048\u305f\u3068\u304d\u306b\u306f\u81ea\u5df1\u6392\u4ed6\u7684\u306a2\u6b21\u5143\u306e\u30e9\u30f3\u30c0\u30e0\u30a6\u30a9\u30fc\u30af\u306b\u8fd1\u304f\u306a\u308b\u306e\u304b\u3082\u3057\u308c\u306a\u3044\u3002"
     ]
    },
    {
     "cell_type": "heading",
     "level": 3,
     "metadata": {
      "internals": {
       "frag_helper": "fragment_end",
       "frag_number": 14,
       "slide_helper": "subslide_end",
       "slide_type": "subslide"
      },
      "slide_helper": "slide_end",
      "slideshow": {
       "slide_type": "slide"
      }
     },
     "source": [
      "2-C. 2\u3064\u306e\u610f\u898b\u3092\u53c2\u7167\u3059\u308b\u5834\u5408"
     ]
    },
    {
     "cell_type": "markdown",
     "metadata": {
      "slideshow": {
       "slide_type": "slide"
      }
     },
     "source": [
      "\u70b9$x$\u306e\u30012\u70b9$y,z$\u307e\u3067\u306e\u8ddd\u96e2\u3068\u3057\u3066\u3001\u4ee5\u4e0b\u306e\u3088\u3046\u306a\u3082\u306e\u3092\u8003\u3048\u3066\u3001\u30b7\u30df\u30e5\u30ec\u30fc\u30b7\u30e7\u30f3\u3092\u884c\u3046\u3002\n",
      "\n",
      "$$d(x,(y,z)) = \\alpha d(x,y) + \\beta d(x,z)\\ \\ (\\alpha, \\beta > 0)$$"
     ]
    },
    {
     "cell_type": "markdown",
     "metadata": {
      "internals": {
       "frag_helper": "fragment_end",
       "frag_number": 14,
       "slide_helper": "subslide_end",
       "slide_type": "subslide"
      },
      "slide_helper": "slide_end",
      "slideshow": {
       "slide_type": "slide"
      }
     },
     "source": [
      "<div align=\"center\">$K=30, N=6, S=50, a=2, p=0.6, \\alpha=2.5, \\beta=1$\u306e\u3068\u304d</div>\n",
      "<table border=\"0\">\n",
      "<tr>\n",
      "<td width=\"400\"><img src=simple3/case_4.jpg width=400 /></td>\n",
      "<td width=\"400\"><img src=simple3/case_5.jpg width=400 /></td>\n",
      "</tr>\n",
      "<tr>\n",
      "<td>2-C-a. \u8b70\u984c+\u4e00\u3064\u524d\u306e\u610f\u898b\u3092\u53c2\u7167</td>\n",
      "<td>2-C-b. \u4e8c\u3064\u524d\u307e\u3067\u306e\u610f\u898b\u3092\u53c2\u7167</td>\n",
      "</tr>\n",
      "</table>\n"
     ]
    },
    {
     "cell_type": "heading",
     "level": 3,
     "metadata": {},
     "source": [
      "\u5b9a\u6027\u7684\u306a\u7d50\u679c"
     ]
    },
    {
     "cell_type": "markdown",
     "metadata": {},
     "source": [
      "- (b\u306b\u95a2\u3057\u3066)\u5168\u4f53\u306e\u63cf\u304f\u8ecc\u8de1\u306e\u5927\u304d\u3055\u306f\u3001\u4e00\u3064\u524d\u306e\u307f\u306e\u70b9\u3092\u53c2\u7167\u3057\u3066\u30b7\u30df\u30e5\u30ec\u30fc\u30b7\u30e7\u30f3\u3092\u884c\u3063\u305f\u5834\u5408\u3088\u308a\u3082\u5c0f\u3055\u3044\n",
      "\n",
      "- \u623b\u308a\u306e\u52b9\u679c\u304c\u5f37\u304f\u306a\u308b\u306e\u3067\u3001B\u306e\u30b1\u30fc\u30b9\u306b\u6bd4\u3079\u308b\u3068\u540c\u3058$p$\u3067\u3082\u30ae\u30b6\u30ae\u30b6\u3057\u305f\u8ecc\u9053\u306b\u306a\u3063\u3066\u3044\u308b\u3002"
     ]
    },
    {
     "cell_type": "heading",
     "level": 3,
     "metadata": {},
     "source": [
      "3. \u8fd1\u3059\u304e\u308b\u610f\u898b\u306f\u9078\u3070\u308c\u306a\u3044\u3068\u3057\u305f\u3068\u304d"
     ]
    },
    {
     "cell_type": "markdown",
     "metadata": {},
     "source": []
    },
    {
     "cell_type": "heading",
     "level": 2,
     "metadata": {
      "internals": {
       "frag_helper": "fragment_end",
       "frag_number": 14,
       "slide_type": "subslide"
      },
      "slideshow": {
       "slide_type": "slide"
      }
     },
     "source": [
      "\u307e\u3068\u3081"
     ]
    },
    {
     "cell_type": "markdown",
     "metadata": {
      "internals": {
       "frag_helper": "fragment_end",
       "frag_number": 14,
       "slide_helper": "subslide_end"
      },
      "slide_helper": "slide_end",
      "slideshow": {
       "slide_type": "-"
      }
     },
     "source": []
    },
    {
     "cell_type": "heading",
     "level": 2,
     "metadata": {
      "internals": {
       "frag_helper": "fragment_end",
       "frag_number": 14,
       "slide_type": "subslide"
      },
      "slideshow": {
       "slide_type": "slide"
      }
     },
     "source": [
      "\u5c55\u671b\u3068\u8ab2\u984c"
     ]
    },
    {
     "cell_type": "markdown",
     "metadata": {
      "internals": {
       "frag_helper": "fragment_end",
       "frag_number": 14,
       "slide_helper": "subslide_end"
      },
      "slide_helper": "slide_end",
      "slideshow": {
       "slide_type": "-"
      }
     },
     "source": []
    },
    {
     "cell_type": "heading",
     "level": 2,
     "metadata": {
      "internals": {
       "frag_helper": "fragment_end",
       "frag_number": 14,
       "slide_type": "subslide"
      },
      "slideshow": {
       "slide_type": "slide"
      }
     },
     "source": [
      "\u53c2\u8003\u6587\u732e"
     ]
    },
    {
     "cell_type": "markdown",
     "metadata": {
      "internals": {
       "frag_helper": "fragment_end",
       "frag_number": 14,
       "slide_helper": "subslide_end"
      },
      "slide_helper": "slide_end",
      "slideshow": {
       "slide_type": "-"
      }
     },
     "source": []
    }
   ],
   "metadata": {}
  }
 ]
}