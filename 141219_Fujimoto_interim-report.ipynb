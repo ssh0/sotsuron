{
 "metadata": {
  "name": "",
  "signature": "sha256:6f710f5440f1c008b9c4014c95d66e89d769c06021baa904baaeb0364a0d3ff7"
 },
 "nbformat": 3,
 "nbformat_minor": 0,
 "worksheets": [
  {
   "cells": [
    {
     "cell_type": "heading",
     "level": 1,
     "metadata": {
      "internals": {
       "slide_helper": "subslide_end",
       "slide_type": "subslide"
      },
      "slide_helper": "slide_end",
      "slideshow": {
       "slide_type": "slide"
      }
     },
     "source": [
      "\u4e2d\u9593\u767a\u8868 | 2014-12-19\n",
      "    <h3>~~~</h3>\n",
      "\n",
      "<p class=\\\"gap05\\\"<p>\n",
      "<h4>\u5c71\u5d0e\u7814\u7a76\u5ba4 B4 \u85e4\u672c\u5c07\u592a\u90ce</h4>\n",
      "    <p class=\\\"gap2\\\"<p>\n",
      "\n",
      "<font size=\"2\">http://nbviewer.ipython.org/github/ssh0/sotsuron/blob/master/index.ipynb</font>"
     ]
    },
    {
     "cell_type": "markdown",
     "metadata": {
      "internals": {
       "slide_type": "subslide"
      },
      "slideshow": {
       "slide_type": "slide"
      }
     },
     "source": [
      "## \u30a2\u30a6\u30c8\u30e9\u30a4\u30f3"
     ]
    },
    {
     "cell_type": "markdown",
     "metadata": {
      "internals": {
       "slide_helper": "subslide_end"
      },
      "slide_helper": "slide_end",
      "slideshow": {
       "slide_type": "-"
      }
     },
     "source": [
      "- \u524d\u56de\u307e\u3067\u306e\u5fa9\u7fd2\n",
      "    - \u4f1a\u8b70\u9032\u884c\u30e2\u30c7\u30eb\u5316\u3078\u306e\u78ba\u7387\u8ad6\u7684\u30a2\u30d7\u30ed\u30fc\u30c1\n",
      "\n",
      "\n",
      "- \u3044\u304f\u3064\u304b\u306e\u5834\u5408\u306e\u89e3\u6790\u30fb\u30b7\u30df\u30e5\u30ec\u30fc\u30b7\u30e7\u30f3 | \u7d50\u679c\n",
      "    1. \u610f\u898b\u304c$[0,1]$\u306e\u4e00\u69d8\u4e71\u6570\u3067\u767a\u8a00\u8005\u3092\u9078\u3076\u78ba\u7387\u306f\u7b49\u3057\u3044\u3068\u3057\u305f\u3068\u304d\n",
      "        - \u767a\u8a00\u304c\u306a\u3055\u308c\u305f\u3068\u304d\u306b\u30ea\u30f3\u30af\u304c\u5f35\u3089\u308c\u308b\u6570\u306f\u4e8c\u9805\u5206\u5e03$B(k,p(x_{k+1}, r))$\n",
      "        - \u610f\u898b\u306b\u95a2\u3059\u308b\u95be\u5024$y$\u3092$k,r$\u306b\u3057\u305f\u304c\u3063\u3066\u5909\u5316\u3059\u308b\u9069\u5f53\u306a\u95a2\u6570\u306b\u304a\u3051\u3070\u3001\u30ea\u30f3\u30af\u306e\u500b\u6570\u304c$y$\u500b\u3092\u8d85\u3048\u308b\u306e\u306b\u5fc5\u8981\u306a\u6642\u9593\u306f\u5e7e\u4f55\u5206\u5e03\n",
      "    2. 1\u306b\u52a0\u3048\u3066\u767a\u8a00\u8005\u3092\u9078\u3076\u78ba\u7387\u304c\u8ddd\u96e2\u306e\u95a2\u6570\u3067\u9078\u3070\u308c\u308b\u3068\u3057\u305f\u3068\u304d\n",
      "    3. \u53c2\u52a0\u8005\u306e\u30cd\u30c3\u30c8\u30ef\u30fc\u30af\u306b\u3064\u3044\u3066\n",
      "    4. \u610f\u898b\u306b\u3088\u3063\u3066\u3069\u306e\u767a\u8a00\u8005\u304c\u9078\u3070\u308c\u308b\u304b\u3082\u6c7a\u307e\u308b\u3068\u304d\n",
      "  \n",
      "\n",
      "- \u4eca\u5f8c\u306e\u8ab2\u984c\n",
      "    - \u4f1a\u8b70\u5168\u4f53\u306e\u8cea\u30fb\u9054\u6210\u611f\u2192?\n",
      "    - \u4eba\u6570\u3068\u306e\u95a2\u9023\n",
      "    - \u3088\u308a\u8a73\u3057\u3044\u89e3\u6790\n"
     ]
    },
    {
     "cell_type": "markdown",
     "metadata": {
      "internals": {
       "slide_type": "subslide"
      },
      "slideshow": {
       "slide_type": "slide"
      }
     },
     "source": [
      "## \u524d\u56de\u307e\u3067"
     ]
    },
    {
     "cell_type": "markdown",
     "metadata": {
      "internals": {},
      "slideshow": {
       "slide_type": "-"
      }
     },
     "source": [
      "<pre>\u4f1a\u8b70\u306e\u30e2\u30c7\u30eb\u5316\u306b\u95a2\u3057\u3066\u3001\u78ba\u7387\u7684\u30e2\u30c7\u30eb\u3067\u306e\u67a0\u7d44\u307f\u3092\u8003\u3048\u305f\u3002</pre>\n"
     ]
    },
    {
     "cell_type": "markdown",
     "metadata": {
      "internals": {},
      "slideshow": {
       "slide_type": "-"
      }
     },
     "source": [
      "## \u4eca\u65e5\u307e\u3067\u306b\u3084\u3063\u305f\u3053\u3068"
     ]
    },
    {
     "cell_type": "markdown",
     "metadata": {
      "internals": {
       "slide_helper": "subslide_end"
      },
      "slide_helper": "slide_end",
      "slideshow": {
       "slide_type": "-"
      }
     },
     "source": [
      "<pre>\u7c21\u5358\u306a\u3044\u304f\u3064\u304b\u306e\u4f8b\u306b\u5bfe\u3059\u308b\u89e3\u6790\u7684\u306b\u6c42\u3081\u3089\u308c\u308b\u6027\u8cea\u3068\u3001\n",
      "\u305d\u306e\u767a\u5c55\u3068\u3057\u3066\u306e\u3044\u304f\u3064\u304b\u306e\u30b7\u30df\u30e5\u30ec\u30fc\u30b7\u30e7\u30f3</pre>"
     ]
    }
   ],
   "metadata": {}
  }
 ]
}