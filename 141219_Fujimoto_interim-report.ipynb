{
 "cells": [
  {
   "cell_type": "markdown",
   "metadata": {
    "internals": {
     "slide_helper": "subslide_end",
     "slide_type": "subslide"
    },
    "slide_helper": "slide_end",
    "slideshow": {
     "slide_type": "slide"
    }
   },
   "source": [
    "# 中間発表 | 2014-12-19     <h3>効率とシステムサイズの関係に対する確率論モデルによる考察</h3>  <p class=\\\"gap05\\\"<p> <h4>山崎研究室 B4 藤本將太郎</h4>     <p class=\\\"gap2\\\"<p>  <font size=\"2\">http://nbviewer.ipython.org/github/ssh0/sotsuron/blob/master/index.ipynb</font>"
   ]
  },
  {
   "cell_type": "markdown",
   "metadata": {
    "internals": {
     "slide_type": "subslide"
    },
    "slideshow": {
     "slide_type": "slide"
    }
   },
   "source": [
    "## アウトライン"
   ]
  },
  {
   "cell_type": "markdown",
   "metadata": {
    "internals": {
     "slide_helper": "subslide_end"
    },
    "slide_helper": "slide_end",
    "slideshow": {
     "slide_type": "-"
    }
   },
   "source": [
    "- 前回までの復習\n",
    "    - 会議進行モデル化への確率論的アプローチ\n",
    "\n",
    "\n",
    "- いくつかの場合の解析・シミュレーション | 結果\n",
    "    1. 意見が$[0,1]$の一様乱数で発言者を選ぶ確率は等しいとしたとき\n",
    "        - 発言がなされたときにリンクが張られる数は二項分布$B(k,p(x_{k+1}, r))$\n",
    "        - 意見に関する閾値$y$を$k,r$にしたがって変化する適当な関数におけば、リンクの個数が$y$個を超えるのに必要な時間は幾何分布\n",
    "    2. 1に加えて発言者を選ぶ確率が距離の関数で選ばれるとしたとき\n",
    "    3. 参加者のネットワークについて\n",
    "    4. 意見によってどの発言者が選ばれるかも決まるとき\n",
    "  \n",
    "\n",
    "- 今後の課題\n",
    "    - 会議全体の質・達成感→?\n",
    "    - 人数との関連\n",
    "    - より詳しい解析\n"
   ]
  },
  {
   "cell_type": "markdown",
   "metadata": {
    "internals": {
     "slide_type": "subslide"
    },
    "slideshow": {
     "slide_type": "slide"
    }
   },
   "source": [
    "## 前回まで"
   ]
  },
  {
   "cell_type": "markdown",
   "metadata": {
    "internals": {},
    "slideshow": {
     "slide_type": "-"
    }
   },
   "source": [
    "会議のモデル化に関して、確率的モデルでの枠組みを考えた。\n"
   ]
  },
  {
   "cell_type": "markdown",
   "metadata": {
    "internals": {},
    "slideshow": {
     "slide_type": "-"
    }
   },
   "source": [
    "## 今日までにやったこと"
   ]
  },
  {
   "cell_type": "markdown",
   "metadata": {
    "internals": {
     "slide_helper": "subslide_end"
    },
    "slide_helper": "slide_end",
    "slideshow": {
     "slide_type": "-"
    }
   },
   "source": [
    "簡単ないくつかの例に対する解析的に求められる性質と、\n",
    "その発展としてのいくつかのシミュレーション"
   ]
  },
  {
   "cell_type": "markdown",
   "metadata": {},
   "source": [
    "## 発表を終えて"
   ]
  },
  {
   "cell_type": "markdown",
   "metadata": {},
   "source": [
    "今後の課題と方針:\n",
    "\n",
    "- システムサイズと効率の関係について議論したいということを強調すべき\n",
    "    - そのために:\n",
    "> Kleiber則との関連\n",
    ">\n",
    "> \"意見\"、\"参加者\"などのspecificな単語は使わないようにする\n",
    "    \n",
    "- \"効率\"、\"質\"\n",
    "    - 時間の情報は必要じゃないの?\n",
    "    - 定量化する必要はあるの?"
   ]
  },
  {
   "cell_type": "markdown",
   "metadata": {},
   "source": [
    "中央大学脇田研との合同発表を終えて"
   ]
  },
  {
   "cell_type": "markdown",
   "metadata": {},
   "source": [
    "- 実際の会議の進行とモデルとの比較をしないと、面白さが半減するのではないか?\n",
    "- 考えたこと\n",
    "    - \"島\"が出来るときに、秩序変数としてクラスターのサイズ/全体のノード数としてもいいかもしれない"
   ]
  }
 ],
 "metadata": {
  "kernelspec": {
   "display_name": "Python 2",
   "language": "python",
   "name": "python2"
  },
  "language_info": {
   "codemirror_mode": {
    "name": "ipython",
    "version": 2
   },
   "file_extension": ".py",
   "mimetype": "text/x-python",
   "name": "python",
   "nbconvert_exporter": "python",
   "pygments_lexer": "ipython2",
   "version": "2.7.6"
  }
 },
 "nbformat": 4,
 "nbformat_minor": 0
}
