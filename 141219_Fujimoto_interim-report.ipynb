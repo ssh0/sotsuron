{
 "metadata": {
   "name": "",
   "signature": "sha256:be70332c9cfed3a8b1d167bea3b6480b6ff8ceaadeae2e650dd7bd6a4ed317b6"
  },
 "nbformat": 3,
 "nbformat_minor": 0,
 "worksheets": [
 {
 "cells": [
  {
   "cell_type": "markdown",
   "metadata": {
    "internals": {
     "slide_type": "subslide"
    },
    "slideshow": {
     "slide_type": "slide"
    }
   },
   "source": [
    "<p class=\\\"title\\\">中間発表(2014-12-19)</p>\n",
    "<p class=\\\"subtitle\\\">確率過程としてとらえた会議のモデル化</p>\n",
    "\n",
    "<center>\n",
    "<p class=\\\"gap05\\\"<p>\n",
    "<h3>山崎研究室 B4 藤本將太郎</h3>\n",
    "<p class=\\\"gap2\\\"<p>\n",
    "</center>\n"
   ]
  },
  {
   "cell_type": "markdown",
   "metadata": {
    "internals": {},
    "slideshow": {
     "slide_type": "-"
    }
   },
   "source": []
  },
  {
   "cell_type": "markdown",
   "metadata": {
    "internals": {},
    "slideshow": {
     "slide_type": "-"
    }
   },
   "source": [
    "## 前回まで"
   ]
  },
  {
   "cell_type": "markdown",
   "metadata": {
    "internals": {},
    "slideshow": {
     "slide_type": "-"
    }
   },
   "source": [
    "会議のモデル化に関して、確率的モデルでの枠組みを考えた。\n"
   ]
  },
  {
   "cell_type": "markdown",
   "metadata": {
    "internals": {},
    "slideshow": {
     "slide_type": "-"
    }
   },
   "source": [
    "## 今日までにやったこと"
   ]
  },
  {
   "cell_type": "markdown",
   "metadata": {
    "internals": {},
    "slideshow": {
     "slide_type": "-"
    }
   },
   "source": [
    "簡単ないくつかの例に対する解析的に求められる性質と、その発展としてのいくつかのシミュレーション"
   ]
  },
  {
   "cell_type": "markdown",
   "metadata": {
    "internals": {},
    "slideshow": {
     "slide_type": "-"
    }
   },
   "source": [
    "## アウトライン"
   ]
  },
  {
   "cell_type": "markdown",
   "metadata": {
    "internals": {},
    "slideshow": {
     "slide_type": "-"
    }
   },
   "source": [
    "- 会議のモデル化(一般)\n",
    "- 既存のモデルとの対応\n",
    "- 今回独自な部分"
   ]
  },
  {
   "cell_type": "code",
   "execution_count": null,
   "metadata": {
    "collapsed": true,
    "internals": {
     "slide_helper": "subslide_end"
    },
    "slide_helper": "slide_end",
    "slideshow": {
     "slide_type": "-"
    }
   },
   "outputs": [],
   "source": []
  }
 ],
 "metadata": {}
}
]
}

