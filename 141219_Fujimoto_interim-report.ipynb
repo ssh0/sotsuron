{
 "metadata": {
  "name": "",
  "signature": "sha256:f1cb8d63a9d6132e3ec7fa014848b1c523a2fc7bf170586c8104910cffc54f6b"
 },
 "nbformat": 3,
 "nbformat_minor": 0,
 "worksheets": [
  {
   "cells": [
    {
     "cell_type": "markdown",
     "metadata": {},
     "source": [
      "<p class=\\\"title\\\">\u4e2d\u9593\u767a\u8868(2014-12-19)</p>\n",
      "<p class=\\\"subtitle\\\">\u78ba\u7387\u904e\u7a0b\u3068\u3057\u3066\u3068\u3089\u3048\u305f\u4f1a\u8b70\u306e\u30e2\u30c7\u30eb\u5316</p>\n",
      "\n",
      "<center>\n",
      "<p class=\\\"gap05\\\"<p>\n",
      "<h3>\u5c71\u5d0e\u7814\u7a76\u5ba4 B4 \u85e4\u672c\u5c07\u592a\u90ce</h3>\n",
      "<p class=\\\"gap2\\\"<p>\n",
      "</center>\n"
     ]
    },
    {
     "cell_type": "markdown",
     "metadata": {},
     "source": []
    },
    {
     "cell_type": "heading",
     "level": 2,
     "metadata": {},
     "source": [
      "\u524d\u56de\u307e\u3067"
     ]
    },
    {
     "cell_type": "markdown",
     "metadata": {},
     "source": [
      "\u4f1a\u8b70\u306e\u30e2\u30c7\u30eb\u5316\u306b\u95a2\u3057\u3066\u3001\u78ba\u7387\u7684\u30e2\u30c7\u30eb\u3067\u306e\u67a0\u7d44\u307f\u3092\u8003\u3048\u305f\u3002\n"
     ]
    },
    {
     "cell_type": "heading",
     "level": 2,
     "metadata": {},
     "source": [
      "\u4eca\u65e5\u307e\u3067\u306b\u3084\u3063\u305f\u3053\u3068"
     ]
    },
    {
     "cell_type": "markdown",
     "metadata": {},
     "source": [
      "\u7c21\u5358\u306a\u3044\u304f\u3064\u304b\u306e\u4f8b\u306b\u5bfe\u3059\u308b\u89e3\u6790\u7684\u306b\u6c42\u3081\u3089\u308c\u308b\u6027\u8cea\u3068\u3001\u305d\u306e\u767a\u5c55\u3068\u3057\u3066\u306e\u3044\u304f\u3064\u304b\u306e\u30b7\u30df\u30e5\u30ec\u30fc\u30b7\u30e7\u30f3"
     ]
    },
    {
     "cell_type": "heading",
     "level": 2,
     "metadata": {},
     "source": [
      "\u30a2\u30a6\u30c8\u30e9\u30a4\u30f3"
     ]
    },
    {
     "cell_type": "markdown",
     "metadata": {},
     "source": [
      "- \u4f1a\u8b70\u306e\u30e2\u30c7\u30eb\u5316(\u4e00\u822c)\n",
      "- \u65e2\u5b58\u306e\u30e2\u30c7\u30eb\u3068\u306e\u5bfe\u5fdc\n",
      "- \u4eca\u56de\u72ec\u81ea\u306a\u90e8\u5206"
     ]
    },
    {
     "cell_type": "code",
     "collapsed": true,
     "input": [],
     "language": "python",
     "metadata": {},
     "outputs": []
    }
   ],
   "metadata": {}
  }
 ]
}